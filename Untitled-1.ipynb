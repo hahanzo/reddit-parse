{
 "cells": [
  {
   "cell_type": "code",
   "execution_count": 2,
   "metadata": {
    "ExecuteTime": {
     "end_time": "2023-11-27T12:45:20.783185429Z",
     "start_time": "2023-11-27T12:45:20.660322479Z"
    }
   },
   "outputs": [],
   "source": [
    "import pandas as pd\n",
    "import numpy as np\n",
    "import plotly.express as px"
   ]
  },
  {
   "cell_type": "markdown",
   "metadata": {},
   "source": [
    "**Data research**\n",
    "\n",
    "You can explore another daset simply change the readable file"
   ]
  },
  {
   "cell_type": "markdown",
   "metadata": {},
   "source": [
    "**Research for top year subreddit**"
   ]
  },
  {
   "cell_type": "markdown",
   "metadata": {},
   "source": [
    "**Clean data**"
   ]
  },
  {
   "cell_type": "code",
   "execution_count": 3,
   "metadata": {
    "ExecuteTime": {
     "end_time": "2023-11-27T12:45:20.839336486Z",
     "start_time": "2023-11-27T12:45:20.710644673Z"
    }
   },
   "outputs": [],
   "source": [
    "# Read the CSV file and create a DataFrame\n",
    "df = pd.read_csv('top_all_subreddit.csv')\n",
    "\n",
    "\n",
    "# Clean 'upvotes' and 'comments'\n",
    "df['upvotes'] = df['upvotes'].str.replace('k', '000').astype(float)\n",
    "df['comments'] = pd.to_numeric(df['comments'].str.split(' ').str[0], errors='coerce')\n",
    "df = df.dropna(subset=['comments'])"
   ]
  },
  {
   "cell_type": "markdown",
   "metadata": {},
   "source": [
    "**Count of posts for each subreddit**"
   ]
  },
  {
   "cell_type": "code",
   "execution_count": 4,
   "metadata": {
    "ExecuteTime": {
     "end_time": "2023-11-27T12:45:20.977979970Z",
     "start_time": "2023-11-27T12:45:20.766947695Z"
    }
   },
   "outputs": [
    {
     "data": {
      "application/vnd.plotly.v1+json": {
       "config": {
        "plotlyServerURL": "https://plot.ly"
       },
       "data": [
        {
         "alignmentgroup": "True",
         "hovertemplate": "subreddit=%{x}<br>count=%{marker.color}<extra></extra>",
         "legendgroup": "",
         "marker": {
          "color": [
           559,
           368,
           208,
           170,
           152,
           114,
           98,
           80,
           55,
           39,
           38,
           37,
           35,
           30,
           20,
           20,
           19,
           19,
           18,
           18,
           14,
           13,
           13,
           8,
           8,
           8,
           7,
           6,
           6,
           5,
           5,
           5,
           4,
           4,
           4,
           4,
           4,
           3,
           3,
           3,
           3,
           3,
           3,
           2,
           2,
           2,
           2,
           2,
           2,
           2,
           2,
           2,
           2,
           1,
           1,
           1,
           1,
           1,
           1,
           1,
           1,
           1,
           1,
           1,
           1,
           1,
           1,
           1,
           1,
           1,
           1,
           1,
           1,
           1,
           1,
           1,
           1,
           1,
           1,
           1,
           1,
           1,
           1,
           1,
           1
          ],
          "coloraxis": "coloraxis",
          "line": {
           "color": "rgb(8,48,107)",
           "width": 1.5
          },
          "pattern": {
           "shape": ""
          }
         },
         "name": "",
         "offsetgroup": "",
         "opacity": 0.8,
         "orientation": "v",
         "showlegend": false,
         "textposition": "auto",
         "type": "bar",
         "x": [
          "r/memes",
          "r/pics",
          "r/funny",
          "r/aww",
          "r/nextfuckinglevel",
          "r/gaming",
          "r/gifs",
          "r/interestingasfuck",
          "r/wallstreetbets",
          "r/news",
          "r/PublicFreakout",
          "r/MurderedByWords",
          "r/worldnews",
          "r/MadeMeSmile",
          "r/todayilearned",
          "r/wholesomememes",
          "r/WhitePeopleTwitter",
          "r/AskReddit",
          "r/mildlyinteresting",
          "r/WatchPeopleDieInside",
          "r/Showerthoughts",
          "r/facepalm",
          "r/videos",
          "r/teenagers",
          "r/PrequelMemes",
          "r/Wellthatsucks",
          "r/space",
          "r/movies",
          "r/politics",
          "r/me_irl",
          "r/IdiotsInCars",
          "r/awfuleverything",
          "r/LifeProTips",
          "r/tifu",
          "r/BlackPeopleTwitter",
          "r/announcements",
          "r/PewdiepieSubmissions",
          "r/thanosdidnothingwrong",
          "r/technology",
          "r/trashy",
          "r/oddlysatisfying",
          "r/insanepeoplefacebook",
          "r/BikiniBottomTwitter",
          "r/JusticeServed",
          "r/Futurology",
          "r/instant_regret",
          "r/iamatotalpieceofshit",
          "r/Jokes",
          "r/UpliftingNews",
          "r/rickandmorty",
          "r/science",
          "r/IAmA",
          "r/LeopardsAteMyFace",
          "r/pokemon",
          "r/ChoosingBeggars",
          "r/pcmasterrace",
          "r/quityourbullshit",
          "r/Damnthatsinteresting",
          "r/nottheonion",
          "r/BeAmazed",
          "r/Coronavirus",
          "r/sports",
          "r/gifsthatkeepongiving",
          "r/DunderMifflin",
          "r/lotrmemes",
          "r/MemeEconomy",
          "r/Music",
          "r/OldSchoolCool",
          "r/PoliticalHumor",
          "r/Instagramreality",
          "r/StarWarsBattlefront",
          "r/The_Mueller",
          "r/TwoXChromosomes",
          "r/Whatcouldgowrong",
          "r/assholedesign",
          "r/AyyMD",
          "r/comics",
          "r/coolguides",
          "r/dataisbeautiful",
          "r/freefolk",
          "r/HongKong",
          "r/HolUp",
          "r/GetMotivated",
          "r/listentothis",
          "r/books"
         ],
         "xaxis": "x",
         "y": [
          559,
          368,
          208,
          170,
          152,
          114,
          98,
          80,
          55,
          39,
          38,
          37,
          35,
          30,
          20,
          20,
          19,
          19,
          18,
          18,
          14,
          13,
          13,
          8,
          8,
          8,
          7,
          6,
          6,
          5,
          5,
          5,
          4,
          4,
          4,
          4,
          4,
          3,
          3,
          3,
          3,
          3,
          3,
          2,
          2,
          2,
          2,
          2,
          2,
          2,
          2,
          2,
          2,
          1,
          1,
          1,
          1,
          1,
          1,
          1,
          1,
          1,
          1,
          1,
          1,
          1,
          1,
          1,
          1,
          1,
          1,
          1,
          1,
          1,
          1,
          1,
          1,
          1,
          1,
          1,
          1,
          1,
          1,
          1,
          1
         ],
         "yaxis": "y"
        }
       ],
       "layout": {
        "barmode": "relative",
        "coloraxis": {
         "colorbar": {
          "title": {
           "text": "count"
          }
         },
         "colorscale": [
          [
           0,
           "rgb(247,251,255)"
          ],
          [
           0.125,
           "rgb(222,235,247)"
          ],
          [
           0.25,
           "rgb(198,219,239)"
          ],
          [
           0.375,
           "rgb(158,202,225)"
          ],
          [
           0.5,
           "rgb(107,174,214)"
          ],
          [
           0.625,
           "rgb(66,146,198)"
          ],
          [
           0.75,
           "rgb(33,113,181)"
          ],
          [
           0.875,
           "rgb(8,81,156)"
          ],
          [
           1,
           "rgb(8,48,107)"
          ]
         ]
        },
        "font": {
         "color": "black",
         "size": 14
        },
        "legend": {
         "tracegroupgap": 0
        },
        "showlegend": false,
        "template": {
         "data": {
          "bar": [
           {
            "error_x": {
             "color": "#2a3f5f"
            },
            "error_y": {
             "color": "#2a3f5f"
            },
            "marker": {
             "line": {
              "color": "#E5ECF6",
              "width": 0.5
             },
             "pattern": {
              "fillmode": "overlay",
              "size": 10,
              "solidity": 0.2
             }
            },
            "type": "bar"
           }
          ],
          "barpolar": [
           {
            "marker": {
             "line": {
              "color": "#E5ECF6",
              "width": 0.5
             },
             "pattern": {
              "fillmode": "overlay",
              "size": 10,
              "solidity": 0.2
             }
            },
            "type": "barpolar"
           }
          ],
          "carpet": [
           {
            "aaxis": {
             "endlinecolor": "#2a3f5f",
             "gridcolor": "white",
             "linecolor": "white",
             "minorgridcolor": "white",
             "startlinecolor": "#2a3f5f"
            },
            "baxis": {
             "endlinecolor": "#2a3f5f",
             "gridcolor": "white",
             "linecolor": "white",
             "minorgridcolor": "white",
             "startlinecolor": "#2a3f5f"
            },
            "type": "carpet"
           }
          ],
          "choropleth": [
           {
            "colorbar": {
             "outlinewidth": 0,
             "ticks": ""
            },
            "type": "choropleth"
           }
          ],
          "contour": [
           {
            "colorbar": {
             "outlinewidth": 0,
             "ticks": ""
            },
            "colorscale": [
             [
              0,
              "#0d0887"
             ],
             [
              0.1111111111111111,
              "#46039f"
             ],
             [
              0.2222222222222222,
              "#7201a8"
             ],
             [
              0.3333333333333333,
              "#9c179e"
             ],
             [
              0.4444444444444444,
              "#bd3786"
             ],
             [
              0.5555555555555556,
              "#d8576b"
             ],
             [
              0.6666666666666666,
              "#ed7953"
             ],
             [
              0.7777777777777778,
              "#fb9f3a"
             ],
             [
              0.8888888888888888,
              "#fdca26"
             ],
             [
              1,
              "#f0f921"
             ]
            ],
            "type": "contour"
           }
          ],
          "contourcarpet": [
           {
            "colorbar": {
             "outlinewidth": 0,
             "ticks": ""
            },
            "type": "contourcarpet"
           }
          ],
          "heatmap": [
           {
            "colorbar": {
             "outlinewidth": 0,
             "ticks": ""
            },
            "colorscale": [
             [
              0,
              "#0d0887"
             ],
             [
              0.1111111111111111,
              "#46039f"
             ],
             [
              0.2222222222222222,
              "#7201a8"
             ],
             [
              0.3333333333333333,
              "#9c179e"
             ],
             [
              0.4444444444444444,
              "#bd3786"
             ],
             [
              0.5555555555555556,
              "#d8576b"
             ],
             [
              0.6666666666666666,
              "#ed7953"
             ],
             [
              0.7777777777777778,
              "#fb9f3a"
             ],
             [
              0.8888888888888888,
              "#fdca26"
             ],
             [
              1,
              "#f0f921"
             ]
            ],
            "type": "heatmap"
           }
          ],
          "heatmapgl": [
           {
            "colorbar": {
             "outlinewidth": 0,
             "ticks": ""
            },
            "colorscale": [
             [
              0,
              "#0d0887"
             ],
             [
              0.1111111111111111,
              "#46039f"
             ],
             [
              0.2222222222222222,
              "#7201a8"
             ],
             [
              0.3333333333333333,
              "#9c179e"
             ],
             [
              0.4444444444444444,
              "#bd3786"
             ],
             [
              0.5555555555555556,
              "#d8576b"
             ],
             [
              0.6666666666666666,
              "#ed7953"
             ],
             [
              0.7777777777777778,
              "#fb9f3a"
             ],
             [
              0.8888888888888888,
              "#fdca26"
             ],
             [
              1,
              "#f0f921"
             ]
            ],
            "type": "heatmapgl"
           }
          ],
          "histogram": [
           {
            "marker": {
             "pattern": {
              "fillmode": "overlay",
              "size": 10,
              "solidity": 0.2
             }
            },
            "type": "histogram"
           }
          ],
          "histogram2d": [
           {
            "colorbar": {
             "outlinewidth": 0,
             "ticks": ""
            },
            "colorscale": [
             [
              0,
              "#0d0887"
             ],
             [
              0.1111111111111111,
              "#46039f"
             ],
             [
              0.2222222222222222,
              "#7201a8"
             ],
             [
              0.3333333333333333,
              "#9c179e"
             ],
             [
              0.4444444444444444,
              "#bd3786"
             ],
             [
              0.5555555555555556,
              "#d8576b"
             ],
             [
              0.6666666666666666,
              "#ed7953"
             ],
             [
              0.7777777777777778,
              "#fb9f3a"
             ],
             [
              0.8888888888888888,
              "#fdca26"
             ],
             [
              1,
              "#f0f921"
             ]
            ],
            "type": "histogram2d"
           }
          ],
          "histogram2dcontour": [
           {
            "colorbar": {
             "outlinewidth": 0,
             "ticks": ""
            },
            "colorscale": [
             [
              0,
              "#0d0887"
             ],
             [
              0.1111111111111111,
              "#46039f"
             ],
             [
              0.2222222222222222,
              "#7201a8"
             ],
             [
              0.3333333333333333,
              "#9c179e"
             ],
             [
              0.4444444444444444,
              "#bd3786"
             ],
             [
              0.5555555555555556,
              "#d8576b"
             ],
             [
              0.6666666666666666,
              "#ed7953"
             ],
             [
              0.7777777777777778,
              "#fb9f3a"
             ],
             [
              0.8888888888888888,
              "#fdca26"
             ],
             [
              1,
              "#f0f921"
             ]
            ],
            "type": "histogram2dcontour"
           }
          ],
          "mesh3d": [
           {
            "colorbar": {
             "outlinewidth": 0,
             "ticks": ""
            },
            "type": "mesh3d"
           }
          ],
          "parcoords": [
           {
            "line": {
             "colorbar": {
              "outlinewidth": 0,
              "ticks": ""
             }
            },
            "type": "parcoords"
           }
          ],
          "pie": [
           {
            "automargin": true,
            "type": "pie"
           }
          ],
          "scatter": [
           {
            "fillpattern": {
             "fillmode": "overlay",
             "size": 10,
             "solidity": 0.2
            },
            "type": "scatter"
           }
          ],
          "scatter3d": [
           {
            "line": {
             "colorbar": {
              "outlinewidth": 0,
              "ticks": ""
             }
            },
            "marker": {
             "colorbar": {
              "outlinewidth": 0,
              "ticks": ""
             }
            },
            "type": "scatter3d"
           }
          ],
          "scattercarpet": [
           {
            "marker": {
             "colorbar": {
              "outlinewidth": 0,
              "ticks": ""
             }
            },
            "type": "scattercarpet"
           }
          ],
          "scattergeo": [
           {
            "marker": {
             "colorbar": {
              "outlinewidth": 0,
              "ticks": ""
             }
            },
            "type": "scattergeo"
           }
          ],
          "scattergl": [
           {
            "marker": {
             "colorbar": {
              "outlinewidth": 0,
              "ticks": ""
             }
            },
            "type": "scattergl"
           }
          ],
          "scattermapbox": [
           {
            "marker": {
             "colorbar": {
              "outlinewidth": 0,
              "ticks": ""
             }
            },
            "type": "scattermapbox"
           }
          ],
          "scatterpolar": [
           {
            "marker": {
             "colorbar": {
              "outlinewidth": 0,
              "ticks": ""
             }
            },
            "type": "scatterpolar"
           }
          ],
          "scatterpolargl": [
           {
            "marker": {
             "colorbar": {
              "outlinewidth": 0,
              "ticks": ""
             }
            },
            "type": "scatterpolargl"
           }
          ],
          "scatterternary": [
           {
            "marker": {
             "colorbar": {
              "outlinewidth": 0,
              "ticks": ""
             }
            },
            "type": "scatterternary"
           }
          ],
          "surface": [
           {
            "colorbar": {
             "outlinewidth": 0,
             "ticks": ""
            },
            "colorscale": [
             [
              0,
              "#0d0887"
             ],
             [
              0.1111111111111111,
              "#46039f"
             ],
             [
              0.2222222222222222,
              "#7201a8"
             ],
             [
              0.3333333333333333,
              "#9c179e"
             ],
             [
              0.4444444444444444,
              "#bd3786"
             ],
             [
              0.5555555555555556,
              "#d8576b"
             ],
             [
              0.6666666666666666,
              "#ed7953"
             ],
             [
              0.7777777777777778,
              "#fb9f3a"
             ],
             [
              0.8888888888888888,
              "#fdca26"
             ],
             [
              1,
              "#f0f921"
             ]
            ],
            "type": "surface"
           }
          ],
          "table": [
           {
            "cells": {
             "fill": {
              "color": "#EBF0F8"
             },
             "line": {
              "color": "white"
             }
            },
            "header": {
             "fill": {
              "color": "#C8D4E3"
             },
             "line": {
              "color": "white"
             }
            },
            "type": "table"
           }
          ]
         },
         "layout": {
          "annotationdefaults": {
           "arrowcolor": "#2a3f5f",
           "arrowhead": 0,
           "arrowwidth": 1
          },
          "autotypenumbers": "strict",
          "coloraxis": {
           "colorbar": {
            "outlinewidth": 0,
            "ticks": ""
           }
          },
          "colorscale": {
           "diverging": [
            [
             0,
             "#8e0152"
            ],
            [
             0.1,
             "#c51b7d"
            ],
            [
             0.2,
             "#de77ae"
            ],
            [
             0.3,
             "#f1b6da"
            ],
            [
             0.4,
             "#fde0ef"
            ],
            [
             0.5,
             "#f7f7f7"
            ],
            [
             0.6,
             "#e6f5d0"
            ],
            [
             0.7,
             "#b8e186"
            ],
            [
             0.8,
             "#7fbc41"
            ],
            [
             0.9,
             "#4d9221"
            ],
            [
             1,
             "#276419"
            ]
           ],
           "sequential": [
            [
             0,
             "#0d0887"
            ],
            [
             0.1111111111111111,
             "#46039f"
            ],
            [
             0.2222222222222222,
             "#7201a8"
            ],
            [
             0.3333333333333333,
             "#9c179e"
            ],
            [
             0.4444444444444444,
             "#bd3786"
            ],
            [
             0.5555555555555556,
             "#d8576b"
            ],
            [
             0.6666666666666666,
             "#ed7953"
            ],
            [
             0.7777777777777778,
             "#fb9f3a"
            ],
            [
             0.8888888888888888,
             "#fdca26"
            ],
            [
             1,
             "#f0f921"
            ]
           ],
           "sequentialminus": [
            [
             0,
             "#0d0887"
            ],
            [
             0.1111111111111111,
             "#46039f"
            ],
            [
             0.2222222222222222,
             "#7201a8"
            ],
            [
             0.3333333333333333,
             "#9c179e"
            ],
            [
             0.4444444444444444,
             "#bd3786"
            ],
            [
             0.5555555555555556,
             "#d8576b"
            ],
            [
             0.6666666666666666,
             "#ed7953"
            ],
            [
             0.7777777777777778,
             "#fb9f3a"
            ],
            [
             0.8888888888888888,
             "#fdca26"
            ],
            [
             1,
             "#f0f921"
            ]
           ]
          },
          "colorway": [
           "#636efa",
           "#EF553B",
           "#00cc96",
           "#ab63fa",
           "#FFA15A",
           "#19d3f3",
           "#FF6692",
           "#B6E880",
           "#FF97FF",
           "#FECB52"
          ],
          "font": {
           "color": "#2a3f5f"
          },
          "geo": {
           "bgcolor": "white",
           "lakecolor": "white",
           "landcolor": "#E5ECF6",
           "showlakes": true,
           "showland": true,
           "subunitcolor": "white"
          },
          "hoverlabel": {
           "align": "left"
          },
          "hovermode": "closest",
          "mapbox": {
           "style": "light"
          },
          "paper_bgcolor": "white",
          "plot_bgcolor": "#E5ECF6",
          "polar": {
           "angularaxis": {
            "gridcolor": "white",
            "linecolor": "white",
            "ticks": ""
           },
           "bgcolor": "#E5ECF6",
           "radialaxis": {
            "gridcolor": "white",
            "linecolor": "white",
            "ticks": ""
           }
          },
          "scene": {
           "xaxis": {
            "backgroundcolor": "#E5ECF6",
            "gridcolor": "white",
            "gridwidth": 2,
            "linecolor": "white",
            "showbackground": true,
            "ticks": "",
            "zerolinecolor": "white"
           },
           "yaxis": {
            "backgroundcolor": "#E5ECF6",
            "gridcolor": "white",
            "gridwidth": 2,
            "linecolor": "white",
            "showbackground": true,
            "ticks": "",
            "zerolinecolor": "white"
           },
           "zaxis": {
            "backgroundcolor": "#E5ECF6",
            "gridcolor": "white",
            "gridwidth": 2,
            "linecolor": "white",
            "showbackground": true,
            "ticks": "",
            "zerolinecolor": "white"
           }
          },
          "shapedefaults": {
           "line": {
            "color": "#2a3f5f"
           }
          },
          "ternary": {
           "aaxis": {
            "gridcolor": "white",
            "linecolor": "white",
            "ticks": ""
           },
           "baxis": {
            "gridcolor": "white",
            "linecolor": "white",
            "ticks": ""
           },
           "bgcolor": "#E5ECF6",
           "caxis": {
            "gridcolor": "white",
            "linecolor": "white",
            "ticks": ""
           }
          },
          "title": {
           "x": 0.05
          },
          "xaxis": {
           "automargin": true,
           "gridcolor": "white",
           "linecolor": "white",
           "ticks": "",
           "title": {
            "standoff": 15
           },
           "zerolinecolor": "white",
           "zerolinewidth": 2
          },
          "yaxis": {
           "automargin": true,
           "gridcolor": "white",
           "linecolor": "white",
           "ticks": "",
           "title": {
            "standoff": 15
           },
           "zerolinecolor": "white",
           "zerolinewidth": 2
          }
         }
        },
        "title": {
         "font": {
          "size": 24
         },
         "text": "Count of Posts for Each Subreddit",
         "x": 0.5,
         "y": 0.95
        },
        "xaxis": {
         "anchor": "y",
         "domain": [
          0,
          1
         ],
         "tickangle": -45,
         "title": {
          "text": ""
         }
        },
        "yaxis": {
         "anchor": "x",
         "domain": [
          0,
          1
         ],
         "title": {
          "text": "Count"
         }
        }
       }
      }
     },
     "metadata": {},
     "output_type": "display_data"
    }
   ],
   "source": [
    "# Group the data by subreddit and count the number of posts for each subreddit\n",
    "subreddit_count = df.groupby('subreddit').size().reset_index(name='count')\n",
    "\n",
    "# Sort the data by count in descending order\n",
    "subreddit_count = subreddit_count.sort_values(by='count', ascending=False)\n",
    "\n",
    "# Create an interactive bar plot of the count for each subreddit\n",
    "fig = px.bar(subreddit_count, x='subreddit', y='count', title='Count of Posts for Each Subreddit',\n",
    "             color='count', color_continuous_scale='Blues')\n",
    "fig.update_traces(marker_line_color='rgb(8,48,107)', marker_line_width=1.5, opacity=0.8)\n",
    "fig.update_layout(xaxis_tickangle=-45, xaxis_title='', yaxis_title='Count', \n",
    "                  title_font_size=24, title_x=0.5, title_y=0.95, \n",
    "                  font=dict(size=14, color='black'))\n",
    "fig.update_layout(showlegend=False)\n",
    "#fig.update_xaxes(showticklabels=False)\n",
    "fig.show()"
   ]
  },
  {
   "cell_type": "markdown",
   "metadata": {},
   "source": [
    "**Correlation between upvotes and comments**"
   ]
  },
  {
   "cell_type": "code",
   "execution_count": 5,
   "metadata": {
    "ExecuteTime": {
     "end_time": "2023-11-27T12:45:21.098715952Z",
     "start_time": "2023-11-27T12:45:20.966464370Z"
    }
   },
   "outputs": [
    {
     "data": {
      "application/vnd.plotly.v1+json": {
       "config": {
        "plotlyServerURL": "https://plot.ly"
       },
       "data": [
        {
         "hovertemplate": "upvotes=%{x}<br>comments=%{y}<extra></extra>",
         "legendgroup": "",
         "marker": {
          "color": "#636efa",
          "symbol": "circle"
         },
         "mode": "markers",
         "name": "",
         "showlegend": false,
         "type": "scattergl",
         "x": [
          439000,
          481000,
          365000,
          432000,
          336000,
          309000,
          401000,
          284000,
          297000,
          298000,
          329000,
          272000,
          337000,
          270000,
          283000,
          263000,
          293000,
          258000,
          256000,
          285000,
          262000,
          250000,
          297000,
          250000,
          250000,
          291000,
          273000,
          241000,
          237000,
          291000,
          236000,
          277000,
          235000,
          263000,
          254000,
          233000,
          232000,
          270000,
          231000,
          271000,
          255000,
          229000,
          244000,
          227000,
          226000,
          226000,
          251000,
          224000,
          224000,
          223000,
          228000,
          224000,
          223000,
          223000,
          222000,
          253000,
          246000,
          221000,
          219000,
          258000,
          219000,
          251000,
          223000,
          218000,
          257000,
          244000,
          245000,
          217000,
          223000,
          216000,
          238000,
          216000,
          220000,
          216000,
          242000,
          218000,
          214000,
          214000,
          214000,
          213000,
          213000,
          213000,
          217000,
          245000,
          220000,
          216000,
          212000,
          215000,
          227000,
          245000,
          215000,
          222000,
          247000,
          209000,
          231000,
          207000,
          207000,
          206000,
          218000,
          206000,
          228000,
          225000,
          205000,
          205000,
          205000,
          223000,
          205000,
          233000,
          210000,
          229000,
          203000,
          203000,
          203000,
          202000,
          202000,
          226000,
          202000,
          202000,
          202000,
          221000,
          201000,
          225000,
          204000,
          220000,
          200000,
          205000,
          199000,
          221000,
          213000,
          199000,
          198000,
          198000,
          203000,
          218000,
          197000,
          216000,
          197000,
          232000,
          197000,
          217000,
          216000,
          196000,
          216000,
          225000,
          197000,
          200000,
          205000,
          194000,
          210000,
          201000,
          208000,
          193000,
          193000,
          193000,
          215000,
          193000,
          197000,
          193000,
          192000,
          225000,
          196000,
          209000,
          207000,
          203000,
          191000,
          205000,
          191000,
          191000,
          206000,
          201000,
          221000,
          194000,
          207000,
          214000,
          190000,
          220000,
          205000,
          212000,
          189000,
          189000,
          188000,
          188000,
          203000,
          188000,
          188000,
          188000,
          188000,
          202000,
          187000,
          200000,
          189000,
          201000,
          202000,
          193000,
          201000,
          208000,
          186000,
          209000,
          186000,
          186000,
          189000,
          186000,
          198000,
          223000,
          185000,
          187000,
          195000,
          187000,
          199000,
          192000,
          192000,
          184000,
          192000,
          187000,
          184000,
          184000,
          184000,
          195000,
          197000,
          195000,
          194000,
          183000,
          183000,
          196000,
          202000,
          189000,
          195000,
          192000,
          182000,
          183000,
          182000,
          182000,
          182000,
          185000,
          195000,
          191000,
          194000,
          182000,
          196000,
          181000,
          191000,
          190000,
          198000,
          180000,
          180000,
          180000,
          179000,
          179000,
          179000,
          188000,
          181000,
          179000,
          179000,
          185000,
          190000,
          182000,
          179000,
          192000,
          178000,
          178000,
          178000,
          187000,
          187000,
          187000,
          196000,
          186000,
          184000,
          188000,
          193000,
          186000,
          205000,
          177000,
          180000,
          177000,
          179000,
          187000,
          176000,
          180000,
          185000,
          200000,
          176000,
          183000,
          185000,
          184000,
          190000,
          176000,
          185000,
          185000,
          176000,
          176000,
          179000,
          192000,
          175000,
          175000,
          186000,
          175000,
          175000,
          175000,
          187000,
          179000,
          187000,
          183000,
          175000,
          177000,
          183000,
          175000,
          174000,
          190000,
          174000,
          174000,
          191000,
          174000,
          177000,
          174000,
          179000,
          174000,
          174000,
          180000,
          174000,
          175000,
          184000,
          188000,
          186000,
          173000,
          173000,
          173000,
          180000,
          181000,
          180000,
          179000,
          173000,
          179000,
          197000,
          172000,
          172000,
          179000,
          184000,
          183000,
          173000,
          177000,
          176000,
          173000,
          171000,
          171000,
          171000,
          179000,
          173000,
          181000,
          196000,
          189000,
          180000,
          181000,
          180000,
          180000,
          181000,
          182000,
          173000,
          170000,
          178000,
          183000,
          180000,
          179000,
          175000,
          169000,
          169000,
          169000,
          191000,
          174000,
          180000,
          175000,
          175000,
          171000,
          169000,
          169000,
          169000,
          172000,
          169000,
          177000,
          182000,
          174000,
          170000,
          174000,
          168000,
          179000,
          174000,
          173000,
          173000,
          173000,
          168000,
          177000,
          172000,
          168000,
          182000,
          168000,
          174000,
          172000,
          172000,
          173000,
          168000,
          173000,
          181000,
          167000,
          167000,
          169000,
          167000,
          177000,
          171000,
          180000,
          174000,
          175000,
          167000,
          167000,
          169000,
          167000,
          171000,
          167000,
          173000,
          168000,
          173000,
          166000,
          167000,
          166000,
          174000,
          179000,
          166000,
          170000,
          166000,
          166000,
          171000,
          171000,
          172000,
          166000,
          166000,
          166000,
          176000,
          177000,
          171000,
          169000,
          166000,
          165000,
          165000,
          185000,
          171000,
          165000,
          175000,
          168000,
          169000,
          176000,
          166000,
          168000,
          165000,
          174000,
          165000,
          165000,
          172000,
          230000,
          167000,
          166000,
          166000,
          164000,
          168000,
          164000,
          170000,
          164000,
          168000,
          164000,
          171000,
          167000,
          163000,
          163000,
          183000,
          163000,
          163000,
          176000,
          163000,
          176000,
          163000,
          165000,
          163000,
          171000,
          172000,
          167000,
          167000,
          163000,
          166000,
          163000,
          167000,
          167000,
          174000,
          167000,
          171000,
          166000,
          167000,
          163000,
          163000,
          166000,
          163000,
          168000,
          166000,
          163000,
          165000,
          170000,
          162000,
          165000,
          162000,
          169000,
          162000,
          162000,
          163000,
          164000,
          162000,
          162000,
          174000,
          165000,
          167000,
          171000,
          170000,
          162000,
          163000,
          162000,
          166000,
          164000,
          162000,
          162000,
          162000,
          165000,
          161000,
          162000,
          163000,
          167000,
          172000,
          176000,
          184000,
          162000,
          165000,
          161000,
          164000,
          170000,
          161000,
          166000,
          163000,
          160000,
          162000,
          160000,
          172000,
          176000,
          171000,
          163000,
          170000,
          163000,
          160000,
          183000,
          163000,
          160000,
          162000,
          166000,
          161000,
          169000,
          163000,
          182000,
          170000,
          162000,
          170000,
          166000,
          161000,
          159000,
          159000,
          165000,
          166000,
          166000,
          160000,
          163000,
          171000,
          166000,
          166000,
          159000,
          159000,
          165000,
          159000,
          170000,
          177000,
          160000,
          165000,
          166000,
          163000,
          159000,
          168000,
          168000,
          161000,
          159000,
          158000,
          167000,
          162000,
          174000,
          161000,
          165000,
          160000,
          158000,
          163000,
          158000,
          166000,
          158000,
          159000,
          163000,
          160000,
          158000,
          159000,
          170000,
          158000,
          171000,
          158000,
          159000,
          163000,
          158000,
          158000,
          158000,
          158000,
          161000,
          169000,
          165000,
          158000,
          158000,
          158000,
          164000,
          157000,
          161000,
          166000,
          157000,
          158000,
          157000,
          161000,
          164000,
          159000,
          157000,
          157000,
          162000,
          159000,
          157000,
          165000,
          158000,
          159000,
          159000,
          181000,
          160000,
          160000,
          157000,
          158000,
          157000,
          157000,
          176000,
          163000,
          167000,
          156000,
          156000,
          163000,
          157000,
          158000,
          156000,
          170000,
          163000,
          156000,
          158000,
          163000,
          163000,
          164000,
          158000,
          157000,
          159000,
          156000,
          162000,
          156000,
          159000,
          163000,
          157000,
          164000,
          156000,
          160000,
          157000,
          158000,
          156000,
          163000,
          169000,
          170000,
          160000,
          160000,
          158000,
          159000,
          155000,
          155000,
          158000,
          158000,
          156000,
          158000,
          155000,
          168000,
          168000,
          157000,
          155000,
          168000,
          168000,
          156000,
          155000,
          155000,
          155000,
          155000,
          157000,
          165000,
          155000,
          160000,
          157000,
          156000,
          158000,
          157000,
          157000,
          155000,
          156000,
          162000,
          161000,
          155000,
          154000,
          157000,
          154000,
          163000,
          154000,
          161000,
          166000,
          154000,
          156000,
          155000,
          155000,
          155000,
          154000,
          155000,
          154000,
          156000,
          157000,
          161000,
          155000,
          155000,
          154000,
          154000,
          154000,
          157000,
          154000,
          155000,
          158000,
          159000,
          154000,
          153000,
          155000,
          153000,
          155000,
          154000,
          156000,
          153000,
          155000,
          154000,
          154000,
          159000,
          160000,
          158000,
          156000,
          153000,
          154000,
          155000,
          154000,
          153000,
          154000,
          154000,
          153000,
          161000,
          157000,
          153000,
          154000,
          154000,
          153000,
          153000,
          152000,
          153000,
          152000,
          153000,
          152000,
          194000,
          152000,
          152000,
          153000,
          152000,
          153000,
          153000,
          159000,
          154000,
          152000,
          157000,
          154000,
          153000,
          152000,
          152000,
          158000,
          158000,
          153000,
          155000,
          153000,
          153000,
          152000,
          152000,
          153000,
          156000,
          152000,
          153000,
          151000,
          153000,
          168000,
          157000,
          164000,
          156000,
          160000,
          153000,
          151000,
          151000,
          162000,
          151000,
          155000,
          152000,
          152000,
          156000,
          156000,
          170000,
          160000,
          151000,
          151000,
          151000,
          151000,
          151000,
          155000,
          157000,
          152000,
          151000,
          151000,
          152000,
          163000,
          150000,
          152000,
          150000,
          150000,
          150000,
          162000,
          150000,
          151000,
          153000,
          151000,
          150000,
          167000,
          151000,
          151000,
          152000,
          151000,
          150000,
          158000,
          150000,
          151000,
          159000,
          150000,
          150000,
          152000,
          157000,
          154000,
          151000,
          155000,
          150000,
          150000,
          151000,
          154000,
          152000,
          151000,
          150000,
          158000,
          150000,
          150000,
          150000,
          150000,
          150000,
          158000,
          168000,
          149000,
          149000,
          156000,
          154000,
          149000,
          149000,
          149000,
          169000,
          149000,
          152000,
          154000,
          150000,
          149000,
          149000,
          157000,
          153000,
          154000,
          166000,
          150000,
          150000,
          162000,
          149000,
          150000,
          156000,
          151000,
          149000,
          151000,
          149000,
          149000,
          149000,
          152000,
          149000,
          149000,
          150000,
          157000,
          154000,
          149000,
          153000,
          150000,
          149000,
          159000,
          148000,
          149000,
          149000,
          152000,
          148000,
          148000,
          152000,
          151000,
          160000,
          150000,
          152000,
          164000,
          159000,
          150000,
          150000,
          152000,
          149000,
          149000,
          150000,
          148000,
          148000,
          164000,
          148000,
          161000,
          151000,
          148000,
          148000,
          149000,
          149000,
          148000,
          159000,
          149000,
          162000,
          148000,
          152000,
          152000,
          148000,
          148000,
          159000,
          154000,
          148000,
          151000,
          155000,
          151000,
          148000,
          148000,
          148000,
          148000,
          151000,
          152000,
          147000,
          147000,
          150000,
          148000,
          149000,
          147000,
          149000,
          154000,
          148000,
          148000,
          147000,
          147000,
          158000,
          171000,
          148000,
          147000,
          151000,
          147000,
          151000,
          151000,
          151000,
          149000,
          149000,
          149000,
          150000,
          148000,
          147000,
          153000,
          154000,
          148000,
          147000,
          147000,
          147000,
          147000,
          155000,
          147000,
          148000,
          147000,
          147000,
          147000,
          148000,
          147000,
          149000,
          161000,
          147000,
          148000,
          147000,
          147000,
          147000,
          148000,
          149000,
          149000,
          146000,
          150000,
          147000,
          165000,
          166000,
          147000,
          147000,
          147000,
          150000,
          153000,
          147000,
          146000,
          148000,
          146000,
          147000,
          146000,
          147000,
          146000,
          147000,
          149000,
          150000,
          147000,
          148000,
          148000,
          146000,
          150000,
          146000,
          148000,
          148000,
          149000,
          150000,
          146000,
          146000,
          147000,
          146000,
          146000,
          150000,
          146000,
          146000,
          148000,
          147000,
          147000,
          146000,
          149000,
          148000,
          151000,
          146000,
          148000,
          146000,
          145000,
          147000,
          146000,
          145000,
          145000,
          145000,
          146000,
          146000,
          154000,
          145000,
          146000,
          145000,
          146000,
          160000,
          145000,
          152000,
          145000,
          145000,
          145000,
          145000,
          145000,
          145000,
          145000,
          145000,
          145000,
          152000,
          148000,
          145000,
          145000,
          151000,
          148000,
          148000,
          147000,
          157000,
          144000,
          145000,
          145000,
          153000,
          148000,
          145000,
          145000,
          150000,
          145000,
          147000,
          145000,
          144000,
          144000,
          145000,
          144000,
          144000,
          169000,
          144000,
          144000,
          157000,
          147000,
          152000,
          144000,
          144000,
          144000,
          144000,
          144000,
          150000,
          151000,
          144000,
          147000,
          146000,
          144000,
          146000,
          145000,
          144000,
          147000,
          149000,
          144000,
          144000,
          145000,
          144000,
          144000,
          145000,
          144000,
          144000,
          149000,
          145000,
          144000,
          146000,
          144000,
          154000,
          144000,
          145000,
          144000,
          144000,
          144000,
          144000,
          144000,
          147000,
          143000,
          144000,
          143000,
          144000,
          144000,
          146000,
          144000,
          149000,
          143000,
          143000,
          144000,
          144000,
          143000,
          145000,
          144000,
          143000,
          143000,
          143000,
          143000,
          143000,
          143000,
          151000,
          143000,
          145000,
          150000,
          155000,
          143000,
          143000,
          143000,
          143000,
          143000,
          143000,
          143000,
          143000,
          143000,
          143000,
          157000,
          144000,
          144000,
          146000,
          143000,
          148000,
          143000,
          162000,
          143000,
          143000,
          143000,
          143000,
          149000,
          159000,
          144000,
          156000,
          143000,
          143000,
          162000,
          145000,
          159000,
          143000,
          144000,
          143000,
          143000,
          146000,
          142000,
          143000,
          169000,
          142000,
          154000,
          143000,
          143000,
          142000,
          142000,
          143000,
          144000,
          142000,
          145000,
          143000,
          144000,
          142000,
          142000,
          157000,
          142000,
          142000,
          142000,
          142000,
          144000,
          143000,
          153000,
          142000,
          157000,
          145000,
          149000,
          142000,
          142000,
          143000,
          142000,
          142000,
          142000,
          143000,
          143000,
          143000,
          144000,
          142000,
          142000,
          142000,
          144000,
          142000,
          143000,
          142000,
          142000,
          142000,
          142000,
          148000,
          146000,
          144000,
          142000,
          142000,
          142000,
          142000,
          142000,
          141000,
          152000,
          142000,
          141000,
          142000,
          142000,
          143000,
          141000,
          145000,
          142000,
          141000,
          141000,
          142000,
          141000,
          142000,
          141000,
          145000,
          164000,
          141000,
          141000,
          141000,
          141000,
          141000,
          141000,
          141000,
          141000,
          141000,
          141000,
          141000,
          142000,
          142000,
          142000,
          141000,
          142000,
          141000,
          142000,
          149000,
          141000,
          141000,
          141000,
          141000,
          141000,
          141000,
          141000,
          143000,
          141000,
          144000,
          141000,
          141000,
          140000,
          144000,
          144000,
          140000,
          143000,
          140000,
          142000,
          146000,
          140000,
          146000,
          142000,
          140000,
          141000,
          141000,
          141000,
          146000,
          140000,
          140000,
          144000,
          153000,
          143000,
          140000,
          140000,
          141000,
          140000,
          140000,
          140000,
          140000,
          143000,
          140000,
          152000,
          140000,
          140000,
          142000,
          140000,
          140000,
          140000,
          144000,
          148000,
          145000,
          150000,
          140000,
          140000,
          140000,
          148000,
          140000,
          148000,
          148000,
          141000,
          154000,
          140000,
          140000,
          141000,
          140000,
          141000,
          142000,
          140000,
          140000,
          141000,
          145000,
          145000,
          140000,
          139000,
          139000,
          139000,
          139000,
          151000,
          140000,
          155000,
          139000,
          140000,
          139000,
          148000,
          148000,
          140000,
          139000,
          139000,
          149000,
          139000,
          144000,
          142000,
          139000,
          140000,
          146000,
          139000,
          139000,
          140000,
          140000,
          140000,
          139000,
          139000,
          139000,
          139000,
          145000,
          142000,
          141000,
          139000,
          142000,
          139000,
          139000,
          139000,
          139000,
          140000,
          139000,
          143000,
          139000,
          139000,
          139000,
          139000,
          141000,
          141000,
          150000,
          151000,
          149000,
          139000,
          148000,
          139000,
          139000,
          146000,
          139000,
          142000,
          145000,
          139000,
          141000,
          141000,
          139000,
          139000,
          148000,
          139000,
          139000,
          159000,
          139000,
          143000,
          139000,
          139000,
          139000,
          139000,
          139000,
          138000,
          138000,
          138000,
          142000,
          141000,
          139000,
          151000,
          138000,
          138000,
          138000,
          138000,
          139000,
          138000,
          143000,
          138000,
          138000,
          140000,
          138000,
          138000,
          138000,
          148000,
          143000,
          138000,
          138000,
          140000,
          139000,
          138000,
          142000,
          138000,
          138000,
          141000,
          140000,
          141000,
          141000,
          138000,
          138000,
          140000,
          148000,
          138000,
          138000,
          147000,
          139000,
          140000,
          138000,
          138000,
          138000,
          141000,
          138000,
          142000,
          138000,
          138000,
          138000,
          138000,
          138000,
          138000,
          139000,
          142000,
          139000,
          144000,
          139000,
          138000,
          138000,
          139000,
          138000,
          146000,
          138000,
          138000,
          141000,
          139000,
          138000,
          138000,
          138000,
          138000,
          142000,
          138000,
          148000,
          138000,
          139000,
          138000,
          138000,
          138000,
          139000,
          137000,
          139000,
          137000,
          147000,
          137000,
          138000,
          137000,
          137000,
          137000,
          139000,
          137000,
          137000,
          139000,
          137000,
          137000,
          137000,
          137000,
          137000,
          137000,
          137000,
          137000,
          137000,
          137000,
          140000,
          139000,
          147000,
          137000,
          137000,
          137000,
          137000,
          137000,
          138000,
          137000,
          137000,
          139000,
          137000,
          138000,
          137000,
          137000,
          137000,
          147000,
          137000,
          137000,
          137000,
          137000,
          148000,
          137000,
          137000,
          138000,
          137000,
          142000,
          137000,
          145000,
          142000,
          137000,
          137000,
          137000,
          158000,
          137000,
          137000,
          137000,
          138000,
          137000,
          137000,
          139000,
          137000,
          143000,
          140000,
          136000,
          140000,
          137000,
          138000,
          146000,
          137000,
          136000,
          138000,
          137000,
          138000,
          142000,
          144000,
          141000,
          156000,
          136000,
          136000,
          136000,
          137000,
          140000,
          140000,
          142000,
          136000,
          136000,
          136000,
          136000,
          139000,
          142000,
          136000,
          142000,
          136000,
          142000,
          136000,
          136000,
          136000,
          136000,
          136000,
          136000,
          138000,
          136000,
          141000,
          153000,
          136000,
          136000,
          136000,
          136000,
          138000,
          136000,
          136000,
          136000,
          137000,
          136000,
          141000,
          137000,
          136000,
          136000,
          136000,
          136000,
          136000,
          138000,
          136000,
          136000,
          137000,
          143000,
          136000,
          136000,
          137000,
          136000,
          136000,
          136000,
          141000,
          136000,
          138000,
          136000,
          136000,
          138000,
          136000,
          135000,
          136000,
          135000,
          135000,
          139000,
          142000,
          135000,
          138000,
          139000,
          137000,
          135000,
          135000,
          135000,
          136000,
          135000,
          136000,
          135000,
          135000,
          136000,
          135000,
          136000,
          137000,
          137000,
          136000,
          138000,
          142000,
          135000,
          147000,
          139000,
          135000,
          138000,
          138000,
          135000,
          135000,
          135000,
          135000,
          137000,
          135000,
          136000,
          135000,
          135000,
          135000,
          135000,
          137000,
          136000,
          136000,
          135000,
          136000,
          135000,
          135000,
          141000,
          135000,
          143000,
          135000,
          135000,
          135000,
          135000,
          138000,
          138000,
          135000,
          135000,
          143000,
          135000,
          135000,
          135000,
          135000,
          135000,
          135000,
          135000,
          135000,
          135000,
          135000,
          135000,
          135000,
          135000,
          135000,
          135000,
          135000,
          140000,
          135000,
          143000,
          146000,
          145000,
          140000,
          136000,
          135000,
          136000,
          137000,
          144000,
          135000,
          134000,
          134000,
          134000,
          134000,
          136000,
          134000,
          134000,
          136000,
          134000,
          143000,
          135000,
          136000,
          135000,
          134000,
          135000,
          144000,
          134000,
          134000,
          135000,
          134000,
          137000,
          134000,
          138000,
          135000,
          134000,
          134000,
          136000,
          146000,
          134000,
          135000,
          142000,
          151000,
          135000,
          134000,
          134000,
          134000,
          134000,
          134000,
          134000,
          134000,
          134000,
          134000,
          134000,
          136000,
          134000,
          135000,
          134000,
          134000,
          134000,
          142000,
          134000,
          134000,
          134000,
          134000,
          134000,
          139000,
          145000,
          134000,
          138000,
          134000,
          138000,
          140000,
          135000,
          134000,
          151000,
          134000,
          134000,
          134000,
          135000,
          134000,
          135000,
          134000,
          134000,
          134000,
          138000,
          134000,
          134000,
          141000,
          135000,
          134000,
          133000,
          137000,
          134000,
          133000,
          133000,
          133000,
          134000,
          133000,
          133000,
          133000,
          133000,
          133000,
          133000,
          133000,
          133000,
          133000,
          133000,
          134000,
          133000,
          137000,
          133000,
          135000,
          133000,
          135000,
          143000,
          133000,
          133000,
          133000,
          134000,
          133000,
          133000,
          134000,
          133000,
          133000,
          134000,
          133000,
          133000,
          133000,
          138000,
          137000,
          133000,
          133000,
          133000,
          133000,
          133000,
          133000,
          133000,
          133000,
          135000,
          133000,
          134000,
          133000,
          133000,
          133000,
          133000,
          133000,
          133000,
          133000,
          133000,
          133000,
          137000,
          133000,
          133000,
          135000,
          133000,
          133000,
          133000,
          133000,
          146000,
          133000,
          133000,
          133000,
          133000,
          148000,
          135000,
          133000,
          134000,
          133000,
          133000,
          133000,
          136000,
          133000,
          133000,
          136000,
          133000,
          132000,
          133000,
          134000,
          132000,
          132000,
          136000,
          133000,
          133000,
          136000,
          132000,
          138000,
          132000,
          132000,
          133000,
          135000,
          140000,
          132000,
          132000,
          148000,
          132000,
          132000,
          133000,
          133000,
          132000,
          132000,
          132000,
          143000,
          132000,
          133000,
          132000,
          133000,
          135000,
          132000,
          132000,
          132000,
          132000,
          136000,
          135000,
          132000,
          132000,
          132000,
          132000,
          132000,
          133000,
          147000,
          132000,
          132000,
          132000,
          132000,
          133000,
          132000,
          132000,
          132000,
          133000,
          139000,
          132000,
          132000,
          132000,
          132000,
          137000,
          132000,
          132000,
          132000,
          132000,
          132000,
          132000,
          132000,
          132000,
          133000,
          132000,
          132000,
          132000,
          132000,
          131000,
          131000,
          131000,
          131000,
          133000,
          132000,
          132000,
          131000,
          132000,
          131000,
          131000,
          131000,
          132000,
          132000,
          132000,
          132000,
          132000,
          131000,
          132000,
          132000,
          131000,
          131000,
          133000,
          131000,
          139000,
          131000,
          131000,
          148000,
          136000,
          132000,
          149000,
          131000,
          132000,
          134000,
          131000,
          131000,
          145000,
          134000,
          131000,
          131000,
          131000,
          132000,
          131000,
          144000,
          131000,
          132000,
          131000,
          132000,
          131000,
          133000,
          131000,
          131000,
          133000,
          132000,
          132000,
          131000,
          138000,
          131000,
          131000,
          131000,
          131000,
          131000,
          131000,
          132000,
          131000,
          131000,
          132000,
          131000,
          131000,
          132000,
          131000,
          131000,
          132000,
          131000,
          131000,
          134000,
          133000,
          133000,
          132000,
          131000,
          137000,
          131000,
          132000,
          132000,
          134000,
          131000,
          131000,
          131000,
          131000,
          131000,
          131000,
          131000,
          131000,
          131000,
          130000,
          131000,
          131000,
          130000,
          131000,
          130000,
          131000,
          130000,
          131000,
          130000,
          135000,
          130000,
          137000,
          132000,
          141000,
          130000,
          134000,
          130000,
          130000,
          130000,
          136000,
          130000,
          131000,
          133000,
          130000,
          132000,
          130000,
          130000,
          130000,
          131000,
          130000,
          137000,
          130000,
          131000,
          130000,
          130000,
          131000,
          131000,
          130000,
          136000,
          130000,
          130000,
          130000,
          130000,
          131000,
          130000,
          130000,
          130000,
          130000,
          130000,
          130000,
          130000,
          130000,
          130000,
          130000,
          133000,
          130000,
          131000,
          130000,
          130000,
          130000,
          130000,
          130000,
          130000,
          130000,
          134000,
          130000,
          130000,
          130000,
          137000,
          130000,
          130000,
          130000,
          130000,
          130000,
          144000,
          130000,
          130000,
          130000,
          130000,
          130000,
          130000,
          147000,
          130000,
          130000,
          129000,
          136000,
          140000,
          129000,
          130000,
          130000,
          130000,
          131000,
          130000,
          129000,
          129000,
          129000,
          130000,
          130000,
          129000,
          129000,
          129000,
          135000,
          129000,
          129000,
          129000,
          129000,
          129000,
          129000,
          129000,
          129000,
          129000,
          137000,
          129000,
          129000,
          129000,
          129000,
          130000,
          129000,
          129000,
          129000,
          133000,
          130000,
          129000,
          132000,
          129000,
          129000,
          134000,
          154000,
          129000,
          134000,
          139000,
          132000,
          129000,
          130000,
          129000,
          129000,
          151000,
          129000,
          129000,
          129000,
          129000,
          151000,
          130000,
          136000,
          129000,
          129000,
          130000,
          129000,
          129000,
          130000,
          132000,
          129000,
          130000,
          129000,
          130000,
          129000,
          138000,
          130000,
          129000,
          130000,
          130000
         ],
         "xaxis": "x",
         "y": [
          19005,
          13936,
          28398,
          5106,
          12892,
          2454,
          4205,
          4943,
          23126,
          11402,
          4282,
          15684,
          3271,
          3568,
          12694,
          8683,
          16656,
          8586,
          11688,
          3547,
          20024,
          1989,
          1966,
          6676,
          27678,
          1863,
          2208,
          5501,
          4751,
          12416,
          5565,
          2846,
          5942,
          10404,
          6915,
          33331,
          18947,
          4723,
          6025,
          1766,
          3104,
          6248,
          4622,
          2193,
          9437,
          2799,
          1768,
          3155,
          4671,
          2267,
          17936,
          10703,
          4319,
          11685,
          7950,
          1501,
          1536,
          2450,
          1556,
          830,
          2060,
          6973,
          30408,
          4611,
          1040,
          3764,
          3150,
          1829,
          12949,
          22842,
          4834,
          2524,
          6548,
          6212,
          1788,
          18744,
          81678,
          6190,
          20201,
          4758,
          2491,
          6943,
          14718,
          4414,
          4993,
          18188,
          2777,
          7016,
          8396,
          2194,
          5664,
          6233,
          1850,
          6119,
          1303,
          6763,
          4740,
          2484,
          6374,
          3663,
          1211,
          1897,
          715,
          2153,
          5796,
          3263,
          8403,
          2040,
          5671,
          4788,
          20042,
          6331,
          2202,
          1457,
          4028,
          2356,
          3941,
          2710,
          4862,
          2780,
          5352,
          948,
          1439,
          1762,
          1640,
          2232,
          3831,
          763,
          1644,
          2604,
          11891,
          13362,
          1960,
          957,
          928,
          783,
          1801,
          1773,
          2802,
          1447,
          4284,
          10273,
          6404,
          2111,
          6841,
          9734,
          5310,
          14526,
          4790,
          4564,
          1768,
          7412,
          1436,
          5906,
          1155,
          5281,
          5652,
          6151,
          11498,
          2706,
          4206,
          1822,
          3576,
          8976,
          3202,
          1323,
          3712,
          4853,
          3289,
          2722,
          937,
          6794,
          1396,
          2386,
          3743,
          1512,
          1389,
          1366,
          7641,
          18018,
          2145,
          6817,
          878,
          6132,
          3045,
          1052,
          2235,
          9072,
          6093,
          1956,
          12043,
          7738,
          1426,
          2776,
          835,
          1754,
          2787,
          2075,
          2109,
          9895,
          3814,
          3901,
          1480,
          2882,
          2178,
          6185,
          5013,
          6476,
          744,
          3523,
          2124,
          2543,
          1564,
          8104,
          2529,
          5430,
          1484,
          783,
          989,
          1867,
          1295,
          2569,
          2315,
          2614,
          2915,
          2380,
          896,
          637,
          12058,
          4317,
          1724,
          2109,
          1122,
          3478,
          3204,
          1833,
          669,
          3803,
          4546,
          4685,
          3950,
          745,
          8145,
          4456,
          4457,
          6494,
          2015,
          13197,
          1861,
          1057,
          2103,
          3854,
          3683,
          2838,
          7777,
          4363,
          784,
          2066,
          2598,
          10747,
          5281,
          2327,
          1696,
          969,
          2908,
          4368,
          1267,
          565,
          2698,
          1126,
          2026,
          8979,
          2939,
          4453,
          6061,
          689,
          1879,
          2432,
          2095,
          2248,
          3049,
          1230,
          1173,
          3790,
          685,
          8740,
          3647,
          2193,
          5896,
          13007,
          1779,
          3494,
          4949,
          27810,
          1342,
          4911,
          9492,
          2186,
          2339,
          6704,
          1866,
          1057,
          3629,
          7352,
          2957,
          3061,
          1981,
          1238,
          991,
          3609,
          2249,
          2227,
          6455,
          1676,
          3930,
          12260,
          1919,
          617,
          3286,
          2520,
          2583,
          2016,
          1587,
          3543,
          2834,
          8478,
          979,
          4334,
          1135,
          1022,
          4012,
          892,
          1109,
          8177,
          3404,
          571,
          1438,
          1869,
          2218,
          992,
          2174,
          1732,
          10354,
          5336,
          13633,
          3878,
          4142,
          1610,
          5336,
          701,
          1510,
          2121,
          860,
          4147,
          2731,
          1664,
          3740,
          32221,
          1726,
          1540,
          1006,
          2370,
          1242,
          3238,
          1637,
          2380,
          844,
          963,
          1876,
          2241,
          1301,
          4277,
          1301,
          1945,
          6969,
          2405,
          5466,
          1965,
          3064,
          1122,
          6824,
          1190,
          2398,
          2046,
          1901,
          1344,
          3215,
          951,
          2028,
          8035,
          870,
          2241,
          6748,
          2614,
          2365,
          2319,
          2291,
          918,
          6689,
          1675,
          1820,
          3673,
          2578,
          5388,
          1588,
          2508,
          800,
          1355,
          4346,
          3391,
          1954,
          3128,
          2119,
          3435,
          878,
          3533,
          1473,
          7062,
          2221,
          2047,
          2597,
          3575,
          2732,
          1821,
          3146,
          8100,
          2321,
          5698,
          1299,
          2870,
          2183,
          2779,
          1623,
          1629,
          2668,
          5276,
          5716,
          1437,
          5051,
          12755,
          2737,
          5242,
          1787,
          4213,
          2936,
          2990,
          2837,
          2448,
          1312,
          1261,
          2147,
          2156,
          2486,
          2790,
          1965,
          2754,
          4031,
          10791,
          726,
          2290,
          1420,
          3917,
          1647,
          2156,
          1653,
          2550,
          6942,
          828,
          4890,
          4625,
          8507,
          4483,
          5691,
          1628,
          8607,
          1846,
          2907,
          5801,
          1112,
          848,
          846,
          2743,
          710,
          3763,
          1558,
          3642,
          1311,
          701,
          1298,
          815,
          3350,
          1715,
          675,
          1266,
          7661,
          975,
          1750,
          3261,
          711,
          2142,
          1007,
          11367,
          1489,
          462,
          4991,
          1874,
          2599,
          4825,
          2190,
          734,
          4670,
          1517,
          8842,
          1369,
          4225,
          934,
          1397,
          3174,
          3746,
          10579,
          1603,
          831,
          3769,
          2805,
          8049,
          1472,
          6343,
          5161,
          3098,
          1726,
          2178,
          1089,
          3583,
          6397,
          2114,
          2464,
          1047,
          3271,
          781,
          3939,
          596,
          1810,
          4365,
          6748,
          3070,
          2974,
          2070,
          797,
          7542,
          1004,
          614,
          2265,
          826,
          3588,
          3971,
          1466,
          1935,
          1886,
          1062,
          4803,
          814,
          1135,
          2183,
          1179,
          1232,
          3314,
          2646,
          1587,
          4324,
          795,
          1449,
          941,
          3158,
          1728,
          10461,
          3784,
          3680,
          2542,
          3087,
          1337,
          4609,
          2465,
          2453,
          692,
          1180,
          2375,
          2294,
          1723,
          5733,
          3018,
          2333,
          1992,
          838,
          4072,
          946,
          3276,
          1760,
          2,
          1399,
          1682,
          1433,
          1237,
          26451,
          1348,
          2689,
          1287,
          687,
          886,
          5249,
          4257,
          6464,
          4920,
          1836,
          1877,
          6727,
          1971,
          2102,
          1893,
          1733,
          1957,
          2766,
          1846,
          1821,
          2020,
          1020,
          1469,
          2069,
          4029,
          14422,
          1808,
          2535,
          1525,
          1086,
          1117,
          6300,
          4573,
          1106,
          2025,
          628,
          3699,
          1123,
          1105,
          8432,
          1088,
          1214,
          10145,
          4019,
          5168,
          4792,
          4688,
          2181,
          1847,
          6843,
          1271,
          786,
          1500,
          1202,
          2642,
          4089,
          1090,
          3079,
          1250,
          1243,
          3316,
          1909,
          366,
          2452,
          490,
          3325,
          3997,
          6265,
          1580,
          1564,
          1989,
          1732,
          2678,
          17520,
          4143,
          3056,
          2679,
          1690,
          2144,
          1622,
          1327,
          2212,
          1360,
          838,
          8883,
          2206,
          1119,
          11079,
          2815,
          886,
          5513,
          2543,
          2600,
          1101,
          6208,
          5027,
          5367,
          1868,
          11353,
          2924,
          2391,
          12011,
          834,
          3313,
          2486,
          1381,
          820,
          1436,
          1201,
          1525,
          1622,
          1252,
          527,
          791,
          1955,
          1961,
          1213,
          2791,
          14821,
          1195,
          17032,
          1409,
          3338,
          24975,
          767,
          1823,
          977,
          1441,
          4447,
          10181,
          2235,
          4116,
          3069,
          1902,
          1860,
          562,
          1979,
          2010,
          2090,
          2111,
          5506,
          845,
          1649,
          3801,
          2371,
          2987,
          633,
          3475,
          1751,
          6625,
          1282,
          2258,
          590,
          14272,
          2561,
          2576,
          4614,
          4094,
          1008,
          1714,
          2996,
          1976,
          1066,
          4173,
          887,
          1843,
          1704,
          2089,
          3096,
          2841,
          883,
          634,
          814,
          2343,
          5721,
          706,
          838,
          2551,
          381,
          4654,
          6619,
          1601,
          726,
          2280,
          905,
          1017,
          2194,
          2778,
          8594,
          2397,
          770,
          1905,
          3718,
          1711,
          1248,
          5927,
          877,
          425,
          3373,
          784,
          5913,
          3296,
          1434,
          1356,
          1319,
          528,
          987,
          909,
          5328,
          3257,
          4651,
          1053,
          7823,
          862,
          3219,
          2528,
          3609,
          5282,
          2386,
          938,
          860,
          1782,
          1371,
          2520,
          1602,
          1989,
          11022,
          2083,
          926,
          1301,
          2002,
          1516,
          1022,
          8077,
          3681,
          665,
          2543,
          2156,
          3304,
          2558,
          5639,
          7185,
          1534,
          7939,
          4457,
          1093,
          677,
          1905,
          1336,
          3277,
          1448,
          1306,
          542,
          2479,
          1469,
          2552,
          1095,
          4225,
          3899,
          4472,
          2020,
          3166,
          836,
          733,
          1428,
          12910,
          6501,
          697,
          1905,
          2058,
          775,
          14245,
          3147,
          464,
          1090,
          3317,
          811,
          5038,
          2688,
          3695,
          1444,
          3087,
          7471,
          2711,
          11348,
          3654,
          3292,
          17685,
          1353,
          2459,
          2304,
          1286,
          1047,
          1066,
          788,
          1447,
          2532,
          1486,
          976,
          553,
          3516,
          1465,
          440,
          6702,
          2229,
          3255,
          809,
          1834,
          4209,
          2376,
          2398,
          1631,
          913,
          1313,
          3495,
          1253,
          597,
          1980,
          2725,
          809,
          3458,
          3582,
          846,
          460,
          1407,
          3829,
          3579,
          978,
          1566,
          2682,
          3675,
          1200,
          2060,
          5402,
          994,
          1657,
          1345,
          2030,
          6053,
          1824,
          8089,
          1917,
          2102,
          1004,
          1056,
          1392,
          2684,
          12043,
          502,
          1713,
          1854,
          7453,
          1131,
          1457,
          50910,
          1915,
          1876,
          9368,
          1062,
          3814,
          1070,
          1890,
          1842,
          10459,
          982,
          895,
          1182,
          1825,
          1300,
          2377,
          3288,
          18063,
          2030,
          1895,
          1644,
          1113,
          3458,
          2048,
          2220,
          927,
          881,
          2074,
          10336,
          2343,
          8976,
          8992,
          5231,
          2993,
          3552,
          416,
          3446,
          1634,
          912,
          4941,
          2033,
          1880,
          531,
          2007,
          1244,
          1141,
          2343,
          2169,
          479,
          3905,
          447,
          927,
          2574,
          1826,
          1826,
          1170,
          4679,
          1175,
          7571,
          2517,
          1804,
          1639,
          1745,
          1369,
          2101,
          1920,
          1125,
          3821,
          1526,
          3014,
          1613,
          4289,
          1933,
          3428,
          496,
          2958,
          515,
          2592,
          1020,
          5794,
          2409,
          1322,
          5774,
          2581,
          2931,
          1652,
          1981,
          1163,
          1536,
          2177,
          1083,
          1866,
          4488,
          3908,
          756,
          4006,
          7349,
          1440,
          7683,
          1594,
          907,
          2714,
          5158,
          867,
          1560,
          2542,
          1220,
          3644,
          2869,
          3143,
          1730,
          2104,
          5279,
          2741,
          1780,
          1045,
          784,
          3140,
          15889,
          2846,
          1220,
          5434,
          1788,
          997,
          4081,
          5533,
          3446,
          1084,
          500,
          2350,
          747,
          1165,
          4934,
          2756,
          708,
          2022,
          3736,
          1183,
          1479,
          560,
          6251,
          3022,
          26042,
          7408,
          2831,
          557,
          563,
          2798,
          2065,
          1184,
          3135,
          2425,
          1624,
          793,
          7865,
          2925,
          923,
          1637,
          2724,
          6993,
          1018,
          2183,
          522,
          3628,
          1445,
          971,
          16222,
          1874,
          5203,
          3801,
          7026,
          7479,
          601,
          2878,
          5905,
          1420,
          904,
          642,
          7595,
          969,
          1219,
          5193,
          3317,
          2361,
          2787,
          1081,
          1093,
          3906,
          2409,
          1488,
          2669,
          2966,
          2505,
          2150,
          737,
          7006,
          5743,
          7226,
          5488,
          1979,
          921,
          2190,
          615,
          4762,
          1838,
          1437,
          4574,
          2783,
          658,
          1560,
          7670,
          2057,
          1476,
          1838,
          1679,
          516,
          1063,
          9994,
          1611,
          6670,
          1645,
          12586,
          431,
          440,
          433,
          5350,
          5203,
          1822,
          2653,
          2355,
          1617,
          2545,
          26473,
          1637,
          513,
          1190,
          4560,
          838,
          2429,
          10680,
          2720,
          9147,
          1728,
          4230,
          2616,
          1568,
          1895,
          1215,
          1839,
          558,
          1062,
          2973,
          864,
          1792,
          5820,
          1794,
          1798,
          3957,
          695,
          473,
          2765,
          2293,
          2257,
          1430,
          756,
          1709,
          2987,
          1265,
          4519,
          2656,
          2037,
          15029,
          661,
          9934,
          1544,
          773,
          5444,
          1836,
          1961,
          2825,
          1013,
          905,
          3163,
          2160,
          3102,
          1560,
          1452,
          2062,
          1328,
          2103,
          3499,
          782,
          612,
          8928,
          7813,
          1084,
          106,
          3523,
          2656,
          864,
          632,
          1185,
          2552,
          1485,
          1735,
          1990,
          847,
          825,
          2958,
          6315,
          1150,
          2342,
          728,
          1206,
          562,
          1902,
          1269,
          1641,
          2375,
          809,
          775,
          14746,
          4076,
          7594,
          1867,
          14718,
          1182,
          1602,
          1247,
          3389,
          708,
          4517,
          2412,
          450,
          7349,
          2380,
          765,
          1174,
          2195,
          2957,
          1123,
          4903,
          662,
          2270,
          2747,
          1389,
          1255,
          4435,
          2120,
          15144,
          4600,
          683,
          1387,
          948,
          1698,
          2323,
          1367,
          6054,
          5102,
          1193,
          1330,
          900,
          93,
          627,
          6739,
          693,
          945,
          8030,
          1334,
          1932,
          1722,
          3291,
          615,
          983,
          5865,
          1714,
          4223,
          1077,
          1828,
          2647,
          1412,
          1473,
          1985,
          1563,
          840,
          1820,
          6538,
          2425,
          4179,
          1314,
          1074,
          9764,
          2230,
          1223,
          2612,
          6285,
          6068,
          1051,
          1419,
          448,
          1311,
          1271,
          3567,
          1834,
          4141,
          1612,
          1395,
          3616,
          2214,
          1264,
          2014,
          1540,
          4425,
          1371,
          1728,
          609,
          5828,
          2656,
          3722,
          1762,
          2462,
          1333,
          4232,
          7438,
          713,
          530,
          3877,
          3469,
          2263,
          960,
          4703,
          1255,
          1858,
          3007,
          1923,
          2110,
          2295,
          2351,
          1992,
          5687,
          1483,
          3170,
          1583,
          20974,
          6586,
          7543,
          1643,
          1539,
          2217,
          2574,
          978,
          3351,
          3120,
          1502,
          914,
          2844,
          5358,
          3591,
          593,
          2374,
          926,
          1777,
          2047,
          4531,
          1003,
          818,
          3320,
          1245,
          2455,
          3384,
          2404,
          6826,
          1801,
          845,
          6371,
          1956,
          2539,
          1218,
          4687,
          534,
          974,
          2202,
          1572,
          1601,
          6909,
          1255,
          832,
          1266,
          1000,
          1150,
          1563,
          1711,
          10058,
          2481,
          722,
          696,
          2167,
          882,
          1296,
          1102,
          2005,
          6753,
          3807,
          1725,
          2265,
          2156,
          1087,
          77368,
          943,
          1298,
          2818,
          1175,
          1041,
          1158,
          9238,
          819,
          2303,
          1147,
          2328,
          1770,
          4137,
          2180,
          1585,
          1312,
          1391,
          2461,
          1874,
          2338,
          2764,
          1327,
          1316,
          851,
          1095,
          3609,
          2597,
          2785,
          871,
          2820,
          1304,
          2238,
          414,
          1489,
          1553,
          1283,
          612,
          2367,
          869,
          3313,
          1543,
          3084,
          874,
          6208,
          2879,
          1376,
          1224,
          2567,
          8753,
          1376,
          10646,
          1380,
          1919,
          809,
          3270,
          1742,
          2454,
          1158,
          1556,
          2145,
          1170,
          1916,
          5781,
          1944,
          1624,
          2210,
          1422,
          1594,
          3127,
          1846,
          2153,
          1434,
          1626,
          611,
          4332,
          2604,
          632,
          9283,
          2224,
          2731,
          484,
          1417,
          3867,
          3678,
          595,
          1347,
          1782,
          2005,
          467,
          832,
          2331,
          1069,
          7529,
          2073,
          5355,
          935,
          439,
          1905,
          2063,
          1274,
          1948,
          1108,
          10423,
          1397,
          2069,
          1695,
          5418,
          3366,
          778,
          1573,
          1132,
          473,
          566,
          10170,
          795,
          1932,
          2011,
          1109,
          6929,
          1256,
          2383,
          2889,
          1264,
          944,
          672,
          2570,
          4655,
          729,
          2956,
          2455,
          1571,
          1680,
          1468,
          2834,
          3224,
          1514,
          2084,
          3758,
          786,
          1361,
          1590,
          1400,
          2976,
          1249,
          621,
          2901,
          1846,
          843,
          762,
          853,
          595,
          6005,
          6218,
          1393,
          826,
          1483,
          1941,
          1975,
          4933,
          3201,
          2681,
          1889,
          478,
          1956,
          1709,
          2085,
          3453,
          2302,
          868,
          1709,
          1618,
          10683,
          9461,
          1116,
          1429,
          1772,
          3201,
          7342,
          569,
          2436,
          4905,
          1415,
          5273,
          792,
          2166,
          9362,
          3414,
          4149,
          3296,
          4300,
          5005,
          408,
          1817,
          2125,
          1208,
          4936,
          724,
          3612,
          740,
          2921,
          7253,
          1125,
          578,
          1400,
          2944,
          5829,
          5673,
          365,
          1346,
          6633,
          3393,
          1162,
          1590,
          1173,
          1181,
          1632,
          1536,
          571,
          1488,
          4770,
          11485,
          1960,
          11250,
          2322,
          475,
          2885,
          3908,
          5358,
          10587,
          4913,
          9840,
          1585,
          1736,
          1584,
          1601,
          501,
          5377,
          2033,
          11781,
          1027,
          1846,
          4290,
          2674,
          5715,
          2323,
          1259,
          1660,
          1342,
          16172,
          850,
          990,
          2092,
          15283,
          1901,
          1830,
          781,
          3152,
          1062,
          1774,
          1163,
          2739,
          2483,
          3620,
          3243,
          4830,
          3912,
          2532,
          805,
          2026,
          5149,
          3474,
          1374,
          2402,
          1008,
          2334,
          1829,
          2927,
          10135,
          8747,
          2000,
          2232,
          1405,
          505,
          4801,
          416,
          646,
          3669,
          6312,
          2701,
          1742,
          2122,
          1280,
          4131,
          4050,
          2068,
          458,
          1257,
          4701,
          3660,
          615,
          5935,
          663,
          1746,
          729,
          1674,
          3131,
          925,
          5028,
          2226,
          843,
          1455,
          1588,
          722,
          920,
          7095,
          650,
          1521,
          1214,
          1286,
          4132,
          1041,
          900,
          1437,
          2878,
          3364,
          1077,
          2701,
          9934,
          4358,
          12808,
          3021,
          10709,
          1203,
          3563,
          2723,
          703,
          5099,
          2512,
          1091,
          5257,
          806,
          755,
          600,
          495,
          1632,
          2388,
          2262,
          1655,
          1289,
          1132,
          535,
          917,
          3276,
          3227,
          1332,
          2590,
          2992,
          1554,
          3029,
          5977,
          1177,
          1315,
          1646,
          2374,
          2024,
          2476,
          1801,
          425,
          863,
          2347,
          3437,
          2325,
          3565,
          1058,
          694,
          870,
          5304,
          2766,
          4346,
          4780,
          1805,
          3696,
          2637,
          1604,
          700,
          5522,
          5653,
          2390,
          1582,
          1908,
          1704,
          3344,
          3482,
          6184,
          2602,
          2704,
          1256,
          5971,
          2258,
          1058,
          825,
          2398,
          416,
          1186,
          2282,
          1773,
          4449,
          1916,
          5252,
          2039,
          4268,
          4883,
          2896,
          8104,
          6589,
          745,
          3078,
          2678,
          1423,
          1520,
          2156,
          5656,
          4883,
          1635,
          1369,
          1215,
          641,
          1857,
          5560,
          992,
          1290,
          519,
          824,
          2605,
          2072,
          2714,
          952,
          880,
          2773,
          3177,
          1293,
          1092,
          676,
          809,
          2214,
          2230,
          2363,
          5048,
          5592,
          637,
          3986,
          1550,
          2607,
          2680,
          6124,
          2456,
          1091,
          966,
          3316,
          644,
          999,
          2851,
          1770,
          872,
          1593,
          3523,
          1462,
          1269,
          2224,
          1268,
          1947,
          6801,
          3966,
          1001,
          3228,
          3802,
          5324,
          1223,
          4111,
          2945,
          2212,
          770,
          3436,
          1213,
          993,
          1019,
          1948,
          7598,
          1428,
          6400,
          1138,
          1312,
          2319,
          1920,
          20022,
          1661,
          2185,
          1681,
          3234,
          2833,
          5297,
          1831,
          1272,
          2198,
          2292,
          1534,
          3143,
          1000,
          2862,
          744,
          6015,
          4686,
          910,
          1123,
          4555,
          1932,
          1829,
          3459,
          5138,
          1437,
          1491,
          1650,
          1738,
          4344,
          2875,
          6837,
          3836,
          4228,
          4921,
          10302,
          1170,
          1536,
          754,
          1307,
          2220,
          4452,
          2348,
          831,
          2210,
          1225,
          5308,
          2457,
          1227,
          627,
          3352,
          16969,
          747,
          2479,
          1298,
          2015,
          2363,
          2153,
          5874,
          1107,
          478,
          863,
          703,
          2143,
          608,
          1155,
          9363,
          3945,
          2563,
          430,
          3804,
          1343,
          4105,
          2517,
          1059,
          757,
          888,
          1904,
          2993,
          472,
          1358,
          2108,
          1471,
          713,
          1747,
          668,
          1699,
          1194,
          903,
          2553,
          3213,
          901,
          1379,
          788,
          4632,
          2973,
          1563,
          1023,
          1506,
          3714,
          2289,
          5581,
          1358,
          2548,
          3008,
          559,
          2876,
          1601,
          417,
          1408,
          6115,
          1993,
          2632,
          3180,
          6254,
          867,
          3649,
          1416,
          3270,
          2947,
          2303,
          2717,
          3916,
          1357,
          1717,
          2426,
          2306,
          2218,
          1155,
          758,
          2145,
          1152,
          1906,
          1779,
          1524,
          2584,
          2350,
          2613,
          1385,
          870,
          1654,
          5659,
          824,
          3234,
          463,
          4981,
          2627,
          5294,
          1530,
          2320,
          771,
          1572,
          1484,
          2527,
          4318,
          2010,
          2211,
          2453,
          1222,
          1389,
          5092,
          2087,
          1306,
          2453,
          4133,
          719,
          458,
          2143,
          1416,
          696,
          2104,
          2894,
          1417,
          1007,
          2652,
          5634,
          2578,
          1975,
          2460,
          502,
          3601,
          3734,
          642,
          28164,
          5376,
          3203,
          837,
          2813,
          888,
          1812,
          1531,
          74,
          1237,
          2072,
          1720,
          818,
          4103,
          1495,
          686,
          968,
          998,
          1142,
          886,
          2896,
          1543,
          657,
          2616,
          3864,
          603,
          1546,
          938,
          7531,
          2168,
          2472,
          1089,
          6924,
          2371,
          1915,
          8174,
          2770,
          3219,
          1905,
          1064,
          916,
          704,
          2551,
          2083,
          3535,
          7416,
          1189,
          6772,
          444,
          5694,
          868,
          1093,
          3589,
          731,
          5979,
          2248,
          5195,
          634,
          4666,
          1567,
          2656,
          2365,
          1079,
          2033,
          452,
          3830,
          1533,
          5504,
          640,
          1238,
          5647,
          1312,
          647,
          9206,
          1467,
          925,
          2205,
          845,
          2330,
          979,
          1462,
          985,
          994,
          2779,
          1941,
          2845,
          4996,
          2325,
          5692,
          2015,
          2043,
          5707,
          1669,
          2676,
          794,
          716,
          463,
          4570,
          2011,
          9443,
          1926,
          606,
          2088,
          1795,
          1130,
          1980,
          3662,
          655,
          1174,
          3380,
          2295,
          9267,
          1482,
          1374,
          3440,
          1170,
          931,
          2099,
          3539,
          1016,
          964,
          1149,
          2534,
          4527,
          2070,
          856,
          4519,
          722,
          683,
          3358,
          1327,
          1710,
          2591,
          3501,
          3266,
          6118,
          830,
          1926,
          1770,
          880,
          2166,
          2032,
          739
         ],
         "yaxis": "y"
        },
        {
         "hovertemplate": "<b>OLS trendline</b><br>comments = 0.0333504 * upvotes + -1941.48<br>R<sup>2</sup>=0.056433<br><br>upvotes=%{x}<br>comments=%{y} <b>(trend)</b><extra></extra>",
         "legendgroup": "",
         "marker": {
          "color": "#636efa",
          "symbol": "circle"
         },
         "mode": "lines",
         "name": "",
         "showlegend": false,
         "type": "scattergl",
         "x": [
          129000,
          129000,
          129000,
          129000,
          129000,
          129000,
          129000,
          129000,
          129000,
          129000,
          129000,
          129000,
          129000,
          129000,
          129000,
          129000,
          129000,
          129000,
          129000,
          129000,
          129000,
          129000,
          129000,
          129000,
          129000,
          129000,
          129000,
          129000,
          129000,
          129000,
          129000,
          129000,
          129000,
          129000,
          129000,
          129000,
          129000,
          129000,
          129000,
          129000,
          129000,
          129000,
          129000,
          130000,
          130000,
          130000,
          130000,
          130000,
          130000,
          130000,
          130000,
          130000,
          130000,
          130000,
          130000,
          130000,
          130000,
          130000,
          130000,
          130000,
          130000,
          130000,
          130000,
          130000,
          130000,
          130000,
          130000,
          130000,
          130000,
          130000,
          130000,
          130000,
          130000,
          130000,
          130000,
          130000,
          130000,
          130000,
          130000,
          130000,
          130000,
          130000,
          130000,
          130000,
          130000,
          130000,
          130000,
          130000,
          130000,
          130000,
          130000,
          130000,
          130000,
          130000,
          130000,
          130000,
          130000,
          130000,
          130000,
          130000,
          130000,
          130000,
          130000,
          130000,
          130000,
          130000,
          130000,
          130000,
          130000,
          130000,
          130000,
          130000,
          130000,
          130000,
          130000,
          130000,
          130000,
          130000,
          131000,
          131000,
          131000,
          131000,
          131000,
          131000,
          131000,
          131000,
          131000,
          131000,
          131000,
          131000,
          131000,
          131000,
          131000,
          131000,
          131000,
          131000,
          131000,
          131000,
          131000,
          131000,
          131000,
          131000,
          131000,
          131000,
          131000,
          131000,
          131000,
          131000,
          131000,
          131000,
          131000,
          131000,
          131000,
          131000,
          131000,
          131000,
          131000,
          131000,
          131000,
          131000,
          131000,
          131000,
          131000,
          131000,
          131000,
          131000,
          131000,
          131000,
          131000,
          131000,
          131000,
          131000,
          131000,
          131000,
          131000,
          131000,
          131000,
          131000,
          131000,
          131000,
          131000,
          131000,
          131000,
          132000,
          132000,
          132000,
          132000,
          132000,
          132000,
          132000,
          132000,
          132000,
          132000,
          132000,
          132000,
          132000,
          132000,
          132000,
          132000,
          132000,
          132000,
          132000,
          132000,
          132000,
          132000,
          132000,
          132000,
          132000,
          132000,
          132000,
          132000,
          132000,
          132000,
          132000,
          132000,
          132000,
          132000,
          132000,
          132000,
          132000,
          132000,
          132000,
          132000,
          132000,
          132000,
          132000,
          132000,
          132000,
          132000,
          132000,
          132000,
          132000,
          132000,
          132000,
          132000,
          132000,
          132000,
          132000,
          132000,
          132000,
          132000,
          132000,
          132000,
          132000,
          132000,
          132000,
          132000,
          132000,
          132000,
          132000,
          132000,
          132000,
          132000,
          132000,
          132000,
          132000,
          132000,
          132000,
          132000,
          133000,
          133000,
          133000,
          133000,
          133000,
          133000,
          133000,
          133000,
          133000,
          133000,
          133000,
          133000,
          133000,
          133000,
          133000,
          133000,
          133000,
          133000,
          133000,
          133000,
          133000,
          133000,
          133000,
          133000,
          133000,
          133000,
          133000,
          133000,
          133000,
          133000,
          133000,
          133000,
          133000,
          133000,
          133000,
          133000,
          133000,
          133000,
          133000,
          133000,
          133000,
          133000,
          133000,
          133000,
          133000,
          133000,
          133000,
          133000,
          133000,
          133000,
          133000,
          133000,
          133000,
          133000,
          133000,
          133000,
          133000,
          133000,
          133000,
          133000,
          133000,
          133000,
          133000,
          133000,
          133000,
          133000,
          133000,
          133000,
          133000,
          133000,
          133000,
          133000,
          133000,
          133000,
          133000,
          133000,
          133000,
          133000,
          133000,
          133000,
          133000,
          133000,
          133000,
          134000,
          134000,
          134000,
          134000,
          134000,
          134000,
          134000,
          134000,
          134000,
          134000,
          134000,
          134000,
          134000,
          134000,
          134000,
          134000,
          134000,
          134000,
          134000,
          134000,
          134000,
          134000,
          134000,
          134000,
          134000,
          134000,
          134000,
          134000,
          134000,
          134000,
          134000,
          134000,
          134000,
          134000,
          134000,
          134000,
          134000,
          134000,
          134000,
          134000,
          134000,
          134000,
          134000,
          134000,
          134000,
          134000,
          134000,
          134000,
          134000,
          134000,
          134000,
          134000,
          134000,
          134000,
          134000,
          134000,
          134000,
          134000,
          134000,
          134000,
          134000,
          134000,
          134000,
          134000,
          135000,
          135000,
          135000,
          135000,
          135000,
          135000,
          135000,
          135000,
          135000,
          135000,
          135000,
          135000,
          135000,
          135000,
          135000,
          135000,
          135000,
          135000,
          135000,
          135000,
          135000,
          135000,
          135000,
          135000,
          135000,
          135000,
          135000,
          135000,
          135000,
          135000,
          135000,
          135000,
          135000,
          135000,
          135000,
          135000,
          135000,
          135000,
          135000,
          135000,
          135000,
          135000,
          135000,
          135000,
          135000,
          135000,
          135000,
          135000,
          135000,
          135000,
          135000,
          135000,
          135000,
          135000,
          135000,
          135000,
          135000,
          135000,
          135000,
          135000,
          135000,
          135000,
          135000,
          135000,
          135000,
          135000,
          135000,
          135000,
          135000,
          135000,
          135000,
          135000,
          135000,
          136000,
          136000,
          136000,
          136000,
          136000,
          136000,
          136000,
          136000,
          136000,
          136000,
          136000,
          136000,
          136000,
          136000,
          136000,
          136000,
          136000,
          136000,
          136000,
          136000,
          136000,
          136000,
          136000,
          136000,
          136000,
          136000,
          136000,
          136000,
          136000,
          136000,
          136000,
          136000,
          136000,
          136000,
          136000,
          136000,
          136000,
          136000,
          136000,
          136000,
          136000,
          136000,
          136000,
          136000,
          136000,
          136000,
          136000,
          136000,
          136000,
          136000,
          136000,
          136000,
          136000,
          136000,
          136000,
          136000,
          136000,
          136000,
          136000,
          136000,
          136000,
          136000,
          136000,
          136000,
          136000,
          136000,
          136000,
          136000,
          136000,
          137000,
          137000,
          137000,
          137000,
          137000,
          137000,
          137000,
          137000,
          137000,
          137000,
          137000,
          137000,
          137000,
          137000,
          137000,
          137000,
          137000,
          137000,
          137000,
          137000,
          137000,
          137000,
          137000,
          137000,
          137000,
          137000,
          137000,
          137000,
          137000,
          137000,
          137000,
          137000,
          137000,
          137000,
          137000,
          137000,
          137000,
          137000,
          137000,
          137000,
          137000,
          137000,
          137000,
          137000,
          137000,
          137000,
          137000,
          137000,
          137000,
          137000,
          137000,
          137000,
          137000,
          137000,
          137000,
          137000,
          137000,
          137000,
          137000,
          137000,
          137000,
          137000,
          137000,
          137000,
          137000,
          137000,
          137000,
          137000,
          137000,
          137000,
          137000,
          138000,
          138000,
          138000,
          138000,
          138000,
          138000,
          138000,
          138000,
          138000,
          138000,
          138000,
          138000,
          138000,
          138000,
          138000,
          138000,
          138000,
          138000,
          138000,
          138000,
          138000,
          138000,
          138000,
          138000,
          138000,
          138000,
          138000,
          138000,
          138000,
          138000,
          138000,
          138000,
          138000,
          138000,
          138000,
          138000,
          138000,
          138000,
          138000,
          138000,
          138000,
          138000,
          138000,
          138000,
          138000,
          138000,
          138000,
          138000,
          138000,
          138000,
          138000,
          138000,
          138000,
          138000,
          138000,
          138000,
          138000,
          138000,
          138000,
          138000,
          138000,
          138000,
          138000,
          138000,
          138000,
          138000,
          138000,
          138000,
          138000,
          138000,
          138000,
          138000,
          138000,
          139000,
          139000,
          139000,
          139000,
          139000,
          139000,
          139000,
          139000,
          139000,
          139000,
          139000,
          139000,
          139000,
          139000,
          139000,
          139000,
          139000,
          139000,
          139000,
          139000,
          139000,
          139000,
          139000,
          139000,
          139000,
          139000,
          139000,
          139000,
          139000,
          139000,
          139000,
          139000,
          139000,
          139000,
          139000,
          139000,
          139000,
          139000,
          139000,
          139000,
          139000,
          139000,
          139000,
          139000,
          139000,
          139000,
          139000,
          139000,
          139000,
          139000,
          139000,
          139000,
          139000,
          139000,
          139000,
          139000,
          139000,
          139000,
          139000,
          139000,
          139000,
          139000,
          139000,
          139000,
          139000,
          139000,
          140000,
          140000,
          140000,
          140000,
          140000,
          140000,
          140000,
          140000,
          140000,
          140000,
          140000,
          140000,
          140000,
          140000,
          140000,
          140000,
          140000,
          140000,
          140000,
          140000,
          140000,
          140000,
          140000,
          140000,
          140000,
          140000,
          140000,
          140000,
          140000,
          140000,
          140000,
          140000,
          140000,
          140000,
          140000,
          140000,
          140000,
          140000,
          140000,
          140000,
          140000,
          140000,
          140000,
          140000,
          140000,
          140000,
          140000,
          140000,
          140000,
          140000,
          140000,
          140000,
          141000,
          141000,
          141000,
          141000,
          141000,
          141000,
          141000,
          141000,
          141000,
          141000,
          141000,
          141000,
          141000,
          141000,
          141000,
          141000,
          141000,
          141000,
          141000,
          141000,
          141000,
          141000,
          141000,
          141000,
          141000,
          141000,
          141000,
          141000,
          141000,
          141000,
          141000,
          141000,
          141000,
          141000,
          141000,
          141000,
          141000,
          141000,
          141000,
          141000,
          141000,
          141000,
          141000,
          141000,
          141000,
          141000,
          141000,
          141000,
          141000,
          141000,
          141000,
          141000,
          141000,
          141000,
          141000,
          141000,
          142000,
          142000,
          142000,
          142000,
          142000,
          142000,
          142000,
          142000,
          142000,
          142000,
          142000,
          142000,
          142000,
          142000,
          142000,
          142000,
          142000,
          142000,
          142000,
          142000,
          142000,
          142000,
          142000,
          142000,
          142000,
          142000,
          142000,
          142000,
          142000,
          142000,
          142000,
          142000,
          142000,
          142000,
          142000,
          142000,
          142000,
          142000,
          142000,
          142000,
          142000,
          142000,
          142000,
          142000,
          142000,
          142000,
          142000,
          142000,
          142000,
          142000,
          142000,
          142000,
          142000,
          142000,
          142000,
          142000,
          142000,
          142000,
          142000,
          142000,
          142000,
          142000,
          142000,
          142000,
          142000,
          143000,
          143000,
          143000,
          143000,
          143000,
          143000,
          143000,
          143000,
          143000,
          143000,
          143000,
          143000,
          143000,
          143000,
          143000,
          143000,
          143000,
          143000,
          143000,
          143000,
          143000,
          143000,
          143000,
          143000,
          143000,
          143000,
          143000,
          143000,
          143000,
          143000,
          143000,
          143000,
          143000,
          143000,
          143000,
          143000,
          143000,
          143000,
          143000,
          143000,
          143000,
          143000,
          143000,
          143000,
          143000,
          143000,
          143000,
          143000,
          143000,
          143000,
          143000,
          143000,
          143000,
          143000,
          143000,
          143000,
          143000,
          143000,
          143000,
          143000,
          143000,
          144000,
          144000,
          144000,
          144000,
          144000,
          144000,
          144000,
          144000,
          144000,
          144000,
          144000,
          144000,
          144000,
          144000,
          144000,
          144000,
          144000,
          144000,
          144000,
          144000,
          144000,
          144000,
          144000,
          144000,
          144000,
          144000,
          144000,
          144000,
          144000,
          144000,
          144000,
          144000,
          144000,
          144000,
          144000,
          144000,
          144000,
          144000,
          144000,
          144000,
          144000,
          144000,
          144000,
          144000,
          144000,
          144000,
          144000,
          144000,
          144000,
          144000,
          144000,
          144000,
          144000,
          144000,
          144000,
          144000,
          144000,
          144000,
          145000,
          145000,
          145000,
          145000,
          145000,
          145000,
          145000,
          145000,
          145000,
          145000,
          145000,
          145000,
          145000,
          145000,
          145000,
          145000,
          145000,
          145000,
          145000,
          145000,
          145000,
          145000,
          145000,
          145000,
          145000,
          145000,
          145000,
          145000,
          145000,
          145000,
          145000,
          145000,
          145000,
          145000,
          145000,
          145000,
          145000,
          145000,
          145000,
          145000,
          145000,
          145000,
          145000,
          145000,
          145000,
          145000,
          146000,
          146000,
          146000,
          146000,
          146000,
          146000,
          146000,
          146000,
          146000,
          146000,
          146000,
          146000,
          146000,
          146000,
          146000,
          146000,
          146000,
          146000,
          146000,
          146000,
          146000,
          146000,
          146000,
          146000,
          146000,
          146000,
          146000,
          146000,
          146000,
          146000,
          146000,
          146000,
          146000,
          146000,
          146000,
          146000,
          146000,
          146000,
          147000,
          147000,
          147000,
          147000,
          147000,
          147000,
          147000,
          147000,
          147000,
          147000,
          147000,
          147000,
          147000,
          147000,
          147000,
          147000,
          147000,
          147000,
          147000,
          147000,
          147000,
          147000,
          147000,
          147000,
          147000,
          147000,
          147000,
          147000,
          147000,
          147000,
          147000,
          147000,
          147000,
          147000,
          147000,
          147000,
          147000,
          147000,
          147000,
          147000,
          147000,
          147000,
          147000,
          147000,
          147000,
          147000,
          147000,
          148000,
          148000,
          148000,
          148000,
          148000,
          148000,
          148000,
          148000,
          148000,
          148000,
          148000,
          148000,
          148000,
          148000,
          148000,
          148000,
          148000,
          148000,
          148000,
          148000,
          148000,
          148000,
          148000,
          148000,
          148000,
          148000,
          148000,
          148000,
          148000,
          148000,
          148000,
          148000,
          148000,
          148000,
          148000,
          148000,
          148000,
          148000,
          148000,
          148000,
          148000,
          148000,
          148000,
          148000,
          148000,
          148000,
          148000,
          148000,
          148000,
          148000,
          148000,
          148000,
          148000,
          148000,
          148000,
          148000,
          149000,
          149000,
          149000,
          149000,
          149000,
          149000,
          149000,
          149000,
          149000,
          149000,
          149000,
          149000,
          149000,
          149000,
          149000,
          149000,
          149000,
          149000,
          149000,
          149000,
          149000,
          149000,
          149000,
          149000,
          149000,
          149000,
          149000,
          149000,
          149000,
          149000,
          149000,
          149000,
          149000,
          149000,
          149000,
          149000,
          149000,
          149000,
          149000,
          149000,
          149000,
          149000,
          149000,
          149000,
          150000,
          150000,
          150000,
          150000,
          150000,
          150000,
          150000,
          150000,
          150000,
          150000,
          150000,
          150000,
          150000,
          150000,
          150000,
          150000,
          150000,
          150000,
          150000,
          150000,
          150000,
          150000,
          150000,
          150000,
          150000,
          150000,
          150000,
          150000,
          150000,
          150000,
          150000,
          150000,
          150000,
          150000,
          150000,
          150000,
          150000,
          150000,
          150000,
          150000,
          150000,
          151000,
          151000,
          151000,
          151000,
          151000,
          151000,
          151000,
          151000,
          151000,
          151000,
          151000,
          151000,
          151000,
          151000,
          151000,
          151000,
          151000,
          151000,
          151000,
          151000,
          151000,
          151000,
          151000,
          151000,
          151000,
          151000,
          151000,
          151000,
          151000,
          151000,
          151000,
          151000,
          151000,
          151000,
          151000,
          151000,
          151000,
          151000,
          151000,
          151000,
          151000,
          151000,
          152000,
          152000,
          152000,
          152000,
          152000,
          152000,
          152000,
          152000,
          152000,
          152000,
          152000,
          152000,
          152000,
          152000,
          152000,
          152000,
          152000,
          152000,
          152000,
          152000,
          152000,
          152000,
          152000,
          152000,
          152000,
          152000,
          152000,
          152000,
          152000,
          152000,
          152000,
          152000,
          152000,
          152000,
          153000,
          153000,
          153000,
          153000,
          153000,
          153000,
          153000,
          153000,
          153000,
          153000,
          153000,
          153000,
          153000,
          153000,
          153000,
          153000,
          153000,
          153000,
          153000,
          153000,
          153000,
          153000,
          153000,
          153000,
          153000,
          153000,
          153000,
          153000,
          153000,
          153000,
          153000,
          154000,
          154000,
          154000,
          154000,
          154000,
          154000,
          154000,
          154000,
          154000,
          154000,
          154000,
          154000,
          154000,
          154000,
          154000,
          154000,
          154000,
          154000,
          154000,
          154000,
          154000,
          154000,
          154000,
          154000,
          154000,
          154000,
          154000,
          154000,
          154000,
          154000,
          154000,
          154000,
          154000,
          154000,
          154000,
          154000,
          155000,
          155000,
          155000,
          155000,
          155000,
          155000,
          155000,
          155000,
          155000,
          155000,
          155000,
          155000,
          155000,
          155000,
          155000,
          155000,
          155000,
          155000,
          155000,
          155000,
          155000,
          155000,
          155000,
          155000,
          155000,
          155000,
          155000,
          155000,
          155000,
          155000,
          156000,
          156000,
          156000,
          156000,
          156000,
          156000,
          156000,
          156000,
          156000,
          156000,
          156000,
          156000,
          156000,
          156000,
          156000,
          156000,
          156000,
          156000,
          156000,
          156000,
          156000,
          156000,
          156000,
          156000,
          157000,
          157000,
          157000,
          157000,
          157000,
          157000,
          157000,
          157000,
          157000,
          157000,
          157000,
          157000,
          157000,
          157000,
          157000,
          157000,
          157000,
          157000,
          157000,
          157000,
          157000,
          157000,
          157000,
          157000,
          157000,
          157000,
          157000,
          157000,
          157000,
          157000,
          157000,
          157000,
          157000,
          158000,
          158000,
          158000,
          158000,
          158000,
          158000,
          158000,
          158000,
          158000,
          158000,
          158000,
          158000,
          158000,
          158000,
          158000,
          158000,
          158000,
          158000,
          158000,
          158000,
          158000,
          158000,
          158000,
          158000,
          158000,
          158000,
          158000,
          158000,
          158000,
          158000,
          158000,
          158000,
          158000,
          158000,
          158000,
          159000,
          159000,
          159000,
          159000,
          159000,
          159000,
          159000,
          159000,
          159000,
          159000,
          159000,
          159000,
          159000,
          159000,
          159000,
          159000,
          159000,
          159000,
          159000,
          159000,
          159000,
          159000,
          159000,
          159000,
          159000,
          159000,
          159000,
          159000,
          160000,
          160000,
          160000,
          160000,
          160000,
          160000,
          160000,
          160000,
          160000,
          160000,
          160000,
          160000,
          160000,
          160000,
          160000,
          160000,
          160000,
          160000,
          160000,
          161000,
          161000,
          161000,
          161000,
          161000,
          161000,
          161000,
          161000,
          161000,
          161000,
          161000,
          161000,
          161000,
          161000,
          161000,
          161000,
          162000,
          162000,
          162000,
          162000,
          162000,
          162000,
          162000,
          162000,
          162000,
          162000,
          162000,
          162000,
          162000,
          162000,
          162000,
          162000,
          162000,
          162000,
          162000,
          162000,
          162000,
          162000,
          162000,
          162000,
          162000,
          162000,
          163000,
          163000,
          163000,
          163000,
          163000,
          163000,
          163000,
          163000,
          163000,
          163000,
          163000,
          163000,
          163000,
          163000,
          163000,
          163000,
          163000,
          163000,
          163000,
          163000,
          163000,
          163000,
          163000,
          163000,
          163000,
          163000,
          163000,
          163000,
          163000,
          163000,
          163000,
          163000,
          163000,
          163000,
          163000,
          164000,
          164000,
          164000,
          164000,
          164000,
          164000,
          164000,
          164000,
          164000,
          164000,
          164000,
          164000,
          164000,
          164000,
          164000,
          165000,
          165000,
          165000,
          165000,
          165000,
          165000,
          165000,
          165000,
          165000,
          165000,
          165000,
          165000,
          165000,
          165000,
          165000,
          165000,
          165000,
          165000,
          165000,
          165000,
          166000,
          166000,
          166000,
          166000,
          166000,
          166000,
          166000,
          166000,
          166000,
          166000,
          166000,
          166000,
          166000,
          166000,
          166000,
          166000,
          166000,
          166000,
          166000,
          166000,
          166000,
          166000,
          166000,
          166000,
          166000,
          166000,
          166000,
          166000,
          166000,
          166000,
          167000,
          167000,
          167000,
          167000,
          167000,
          167000,
          167000,
          167000,
          167000,
          167000,
          167000,
          167000,
          167000,
          167000,
          167000,
          167000,
          167000,
          167000,
          167000,
          167000,
          167000,
          168000,
          168000,
          168000,
          168000,
          168000,
          168000,
          168000,
          168000,
          168000,
          168000,
          168000,
          168000,
          168000,
          168000,
          168000,
          168000,
          168000,
          168000,
          168000,
          169000,
          169000,
          169000,
          169000,
          169000,
          169000,
          169000,
          169000,
          169000,
          169000,
          169000,
          169000,
          169000,
          169000,
          169000,
          169000,
          169000,
          169000,
          170000,
          170000,
          170000,
          170000,
          170000,
          170000,
          170000,
          170000,
          170000,
          170000,
          170000,
          170000,
          170000,
          170000,
          170000,
          171000,
          171000,
          171000,
          171000,
          171000,
          171000,
          171000,
          171000,
          171000,
          171000,
          171000,
          171000,
          171000,
          171000,
          171000,
          171000,
          171000,
          171000,
          172000,
          172000,
          172000,
          172000,
          172000,
          172000,
          172000,
          172000,
          172000,
          172000,
          172000,
          173000,
          173000,
          173000,
          173000,
          173000,
          173000,
          173000,
          173000,
          173000,
          173000,
          173000,
          173000,
          173000,
          173000,
          173000,
          174000,
          174000,
          174000,
          174000,
          174000,
          174000,
          174000,
          174000,
          174000,
          174000,
          174000,
          174000,
          174000,
          174000,
          174000,
          174000,
          174000,
          174000,
          174000,
          175000,
          175000,
          175000,
          175000,
          175000,
          175000,
          175000,
          175000,
          175000,
          175000,
          175000,
          175000,
          175000,
          176000,
          176000,
          176000,
          176000,
          176000,
          176000,
          176000,
          176000,
          176000,
          176000,
          176000,
          176000,
          176000,
          177000,
          177000,
          177000,
          177000,
          177000,
          177000,
          177000,
          177000,
          177000,
          177000,
          178000,
          178000,
          178000,
          178000,
          179000,
          179000,
          179000,
          179000,
          179000,
          179000,
          179000,
          179000,
          179000,
          179000,
          179000,
          179000,
          179000,
          179000,
          179000,
          179000,
          179000,
          180000,
          180000,
          180000,
          180000,
          180000,
          180000,
          180000,
          180000,
          180000,
          180000,
          180000,
          180000,
          180000,
          180000,
          181000,
          181000,
          181000,
          181000,
          181000,
          181000,
          181000,
          181000,
          182000,
          182000,
          182000,
          182000,
          182000,
          182000,
          182000,
          182000,
          182000,
          182000,
          183000,
          183000,
          183000,
          183000,
          183000,
          183000,
          183000,
          183000,
          183000,
          183000,
          184000,
          184000,
          184000,
          184000,
          184000,
          184000,
          184000,
          184000,
          184000,
          185000,
          185000,
          185000,
          185000,
          185000,
          185000,
          185000,
          185000,
          186000,
          186000,
          186000,
          186000,
          186000,
          186000,
          186000,
          186000,
          187000,
          187000,
          187000,
          187000,
          187000,
          187000,
          187000,
          187000,
          187000,
          187000,
          188000,
          188000,
          188000,
          188000,
          188000,
          188000,
          188000,
          188000,
          188000,
          189000,
          189000,
          189000,
          189000,
          189000,
          189000,
          190000,
          190000,
          190000,
          190000,
          190000,
          191000,
          191000,
          191000,
          191000,
          191000,
          191000,
          191000,
          192000,
          192000,
          192000,
          192000,
          192000,
          192000,
          192000,
          193000,
          193000,
          193000,
          193000,
          193000,
          193000,
          193000,
          194000,
          194000,
          194000,
          194000,
          194000,
          195000,
          195000,
          195000,
          195000,
          195000,
          196000,
          196000,
          196000,
          196000,
          196000,
          196000,
          197000,
          197000,
          197000,
          197000,
          197000,
          197000,
          197000,
          198000,
          198000,
          198000,
          198000,
          199000,
          199000,
          199000,
          200000,
          200000,
          200000,
          200000,
          201000,
          201000,
          201000,
          201000,
          201000,
          202000,
          202000,
          202000,
          202000,
          202000,
          202000,
          202000,
          202000,
          203000,
          203000,
          203000,
          203000,
          203000,
          203000,
          204000,
          205000,
          205000,
          205000,
          205000,
          205000,
          205000,
          205000,
          205000,
          205000,
          206000,
          206000,
          206000,
          207000,
          207000,
          207000,
          207000,
          208000,
          208000,
          209000,
          209000,
          209000,
          210000,
          210000,
          212000,
          212000,
          213000,
          213000,
          213000,
          213000,
          214000,
          214000,
          214000,
          214000,
          215000,
          215000,
          215000,
          216000,
          216000,
          216000,
          216000,
          216000,
          216000,
          216000,
          217000,
          217000,
          217000,
          218000,
          218000,
          218000,
          218000,
          219000,
          219000,
          220000,
          220000,
          220000,
          220000,
          221000,
          221000,
          221000,
          221000,
          222000,
          222000,
          223000,
          223000,
          223000,
          223000,
          223000,
          223000,
          223000,
          224000,
          224000,
          224000,
          225000,
          225000,
          225000,
          225000,
          226000,
          226000,
          226000,
          227000,
          227000,
          228000,
          228000,
          229000,
          229000,
          230000,
          231000,
          231000,
          232000,
          232000,
          233000,
          233000,
          235000,
          236000,
          237000,
          238000,
          241000,
          242000,
          244000,
          244000,
          245000,
          245000,
          245000,
          246000,
          247000,
          250000,
          250000,
          250000,
          251000,
          251000,
          253000,
          254000,
          255000,
          256000,
          257000,
          258000,
          258000,
          262000,
          263000,
          263000,
          270000,
          270000,
          271000,
          272000,
          273000,
          277000,
          283000,
          284000,
          285000,
          291000,
          291000,
          293000,
          297000,
          297000,
          298000,
          309000,
          329000,
          336000,
          337000,
          365000,
          401000,
          432000,
          439000,
          481000
         ],
         "xaxis": "x",
         "y": [
          2360.7231376085865,
          2360.7231376085865,
          2360.7231376085865,
          2360.7231376085865,
          2360.7231376085865,
          2360.7231376085865,
          2360.7231376085865,
          2360.7231376085865,
          2360.7231376085865,
          2360.7231376085865,
          2360.7231376085865,
          2360.7231376085865,
          2360.7231376085865,
          2360.7231376085865,
          2360.7231376085865,
          2360.7231376085865,
          2360.7231376085865,
          2360.7231376085865,
          2360.7231376085865,
          2360.7231376085865,
          2360.7231376085865,
          2360.7231376085865,
          2360.7231376085865,
          2360.7231376085865,
          2360.7231376085865,
          2360.7231376085865,
          2360.7231376085865,
          2360.7231376085865,
          2360.7231376085865,
          2360.7231376085865,
          2360.7231376085865,
          2360.7231376085865,
          2360.7231376085865,
          2360.7231376085865,
          2360.7231376085865,
          2360.7231376085865,
          2360.7231376085865,
          2360.7231376085865,
          2360.7231376085865,
          2360.7231376085865,
          2360.7231376085865,
          2360.7231376085865,
          2360.7231376085865,
          2394.073524380966,
          2394.073524380966,
          2394.073524380966,
          2394.073524380966,
          2394.073524380966,
          2394.073524380966,
          2394.073524380966,
          2394.073524380966,
          2394.073524380966,
          2394.073524380966,
          2394.073524380966,
          2394.073524380966,
          2394.073524380966,
          2394.073524380966,
          2394.073524380966,
          2394.073524380966,
          2394.073524380966,
          2394.073524380966,
          2394.073524380966,
          2394.073524380966,
          2394.073524380966,
          2394.073524380966,
          2394.073524380966,
          2394.073524380966,
          2394.073524380966,
          2394.073524380966,
          2394.073524380966,
          2394.073524380966,
          2394.073524380966,
          2394.073524380966,
          2394.073524380966,
          2394.073524380966,
          2394.073524380966,
          2394.073524380966,
          2394.073524380966,
          2394.073524380966,
          2394.073524380966,
          2394.073524380966,
          2394.073524380966,
          2394.073524380966,
          2394.073524380966,
          2394.073524380966,
          2394.073524380966,
          2394.073524380966,
          2394.073524380966,
          2394.073524380966,
          2394.073524380966,
          2394.073524380966,
          2394.073524380966,
          2394.073524380966,
          2394.073524380966,
          2394.073524380966,
          2394.073524380966,
          2394.073524380966,
          2394.073524380966,
          2394.073524380966,
          2394.073524380966,
          2394.073524380966,
          2394.073524380966,
          2394.073524380966,
          2394.073524380966,
          2394.073524380966,
          2394.073524380966,
          2394.073524380966,
          2394.073524380966,
          2394.073524380966,
          2394.073524380966,
          2394.073524380966,
          2394.073524380966,
          2394.073524380966,
          2394.073524380966,
          2394.073524380966,
          2394.073524380966,
          2394.073524380966,
          2394.073524380966,
          2427.423911153346,
          2427.423911153346,
          2427.423911153346,
          2427.423911153346,
          2427.423911153346,
          2427.423911153346,
          2427.423911153346,
          2427.423911153346,
          2427.423911153346,
          2427.423911153346,
          2427.423911153346,
          2427.423911153346,
          2427.423911153346,
          2427.423911153346,
          2427.423911153346,
          2427.423911153346,
          2427.423911153346,
          2427.423911153346,
          2427.423911153346,
          2427.423911153346,
          2427.423911153346,
          2427.423911153346,
          2427.423911153346,
          2427.423911153346,
          2427.423911153346,
          2427.423911153346,
          2427.423911153346,
          2427.423911153346,
          2427.423911153346,
          2427.423911153346,
          2427.423911153346,
          2427.423911153346,
          2427.423911153346,
          2427.423911153346,
          2427.423911153346,
          2427.423911153346,
          2427.423911153346,
          2427.423911153346,
          2427.423911153346,
          2427.423911153346,
          2427.423911153346,
          2427.423911153346,
          2427.423911153346,
          2427.423911153346,
          2427.423911153346,
          2427.423911153346,
          2427.423911153346,
          2427.423911153346,
          2427.423911153346,
          2427.423911153346,
          2427.423911153346,
          2427.423911153346,
          2427.423911153346,
          2427.423911153346,
          2427.423911153346,
          2427.423911153346,
          2427.423911153346,
          2427.423911153346,
          2427.423911153346,
          2427.423911153346,
          2427.423911153346,
          2427.423911153346,
          2427.423911153346,
          2427.423911153346,
          2427.423911153346,
          2460.7742979257255,
          2460.7742979257255,
          2460.7742979257255,
          2460.7742979257255,
          2460.7742979257255,
          2460.7742979257255,
          2460.7742979257255,
          2460.7742979257255,
          2460.7742979257255,
          2460.7742979257255,
          2460.7742979257255,
          2460.7742979257255,
          2460.7742979257255,
          2460.7742979257255,
          2460.7742979257255,
          2460.7742979257255,
          2460.7742979257255,
          2460.7742979257255,
          2460.7742979257255,
          2460.7742979257255,
          2460.7742979257255,
          2460.7742979257255,
          2460.7742979257255,
          2460.7742979257255,
          2460.7742979257255,
          2460.7742979257255,
          2460.7742979257255,
          2460.7742979257255,
          2460.7742979257255,
          2460.7742979257255,
          2460.7742979257255,
          2460.7742979257255,
          2460.7742979257255,
          2460.7742979257255,
          2460.7742979257255,
          2460.7742979257255,
          2460.7742979257255,
          2460.7742979257255,
          2460.7742979257255,
          2460.7742979257255,
          2460.7742979257255,
          2460.7742979257255,
          2460.7742979257255,
          2460.7742979257255,
          2460.7742979257255,
          2460.7742979257255,
          2460.7742979257255,
          2460.7742979257255,
          2460.7742979257255,
          2460.7742979257255,
          2460.7742979257255,
          2460.7742979257255,
          2460.7742979257255,
          2460.7742979257255,
          2460.7742979257255,
          2460.7742979257255,
          2460.7742979257255,
          2460.7742979257255,
          2460.7742979257255,
          2460.7742979257255,
          2460.7742979257255,
          2460.7742979257255,
          2460.7742979257255,
          2460.7742979257255,
          2460.7742979257255,
          2460.7742979257255,
          2460.7742979257255,
          2460.7742979257255,
          2460.7742979257255,
          2460.7742979257255,
          2460.7742979257255,
          2460.7742979257255,
          2460.7742979257255,
          2460.7742979257255,
          2460.7742979257255,
          2460.7742979257255,
          2494.1246846981057,
          2494.1246846981057,
          2494.1246846981057,
          2494.1246846981057,
          2494.1246846981057,
          2494.1246846981057,
          2494.1246846981057,
          2494.1246846981057,
          2494.1246846981057,
          2494.1246846981057,
          2494.1246846981057,
          2494.1246846981057,
          2494.1246846981057,
          2494.1246846981057,
          2494.1246846981057,
          2494.1246846981057,
          2494.1246846981057,
          2494.1246846981057,
          2494.1246846981057,
          2494.1246846981057,
          2494.1246846981057,
          2494.1246846981057,
          2494.1246846981057,
          2494.1246846981057,
          2494.1246846981057,
          2494.1246846981057,
          2494.1246846981057,
          2494.1246846981057,
          2494.1246846981057,
          2494.1246846981057,
          2494.1246846981057,
          2494.1246846981057,
          2494.1246846981057,
          2494.1246846981057,
          2494.1246846981057,
          2494.1246846981057,
          2494.1246846981057,
          2494.1246846981057,
          2494.1246846981057,
          2494.1246846981057,
          2494.1246846981057,
          2494.1246846981057,
          2494.1246846981057,
          2494.1246846981057,
          2494.1246846981057,
          2494.1246846981057,
          2494.1246846981057,
          2494.1246846981057,
          2494.1246846981057,
          2494.1246846981057,
          2494.1246846981057,
          2494.1246846981057,
          2494.1246846981057,
          2494.1246846981057,
          2494.1246846981057,
          2494.1246846981057,
          2494.1246846981057,
          2494.1246846981057,
          2494.1246846981057,
          2494.1246846981057,
          2494.1246846981057,
          2494.1246846981057,
          2494.1246846981057,
          2494.1246846981057,
          2494.1246846981057,
          2494.1246846981057,
          2494.1246846981057,
          2494.1246846981057,
          2494.1246846981057,
          2494.1246846981057,
          2494.1246846981057,
          2494.1246846981057,
          2494.1246846981057,
          2494.1246846981057,
          2494.1246846981057,
          2494.1246846981057,
          2494.1246846981057,
          2494.1246846981057,
          2494.1246846981057,
          2494.1246846981057,
          2494.1246846981057,
          2494.1246846981057,
          2494.1246846981057,
          2527.475071470485,
          2527.475071470485,
          2527.475071470485,
          2527.475071470485,
          2527.475071470485,
          2527.475071470485,
          2527.475071470485,
          2527.475071470485,
          2527.475071470485,
          2527.475071470485,
          2527.475071470485,
          2527.475071470485,
          2527.475071470485,
          2527.475071470485,
          2527.475071470485,
          2527.475071470485,
          2527.475071470485,
          2527.475071470485,
          2527.475071470485,
          2527.475071470485,
          2527.475071470485,
          2527.475071470485,
          2527.475071470485,
          2527.475071470485,
          2527.475071470485,
          2527.475071470485,
          2527.475071470485,
          2527.475071470485,
          2527.475071470485,
          2527.475071470485,
          2527.475071470485,
          2527.475071470485,
          2527.475071470485,
          2527.475071470485,
          2527.475071470485,
          2527.475071470485,
          2527.475071470485,
          2527.475071470485,
          2527.475071470485,
          2527.475071470485,
          2527.475071470485,
          2527.475071470485,
          2527.475071470485,
          2527.475071470485,
          2527.475071470485,
          2527.475071470485,
          2527.475071470485,
          2527.475071470485,
          2527.475071470485,
          2527.475071470485,
          2527.475071470485,
          2527.475071470485,
          2527.475071470485,
          2527.475071470485,
          2527.475071470485,
          2527.475071470485,
          2527.475071470485,
          2527.475071470485,
          2527.475071470485,
          2527.475071470485,
          2527.475071470485,
          2527.475071470485,
          2527.475071470485,
          2527.475071470485,
          2560.8254582428654,
          2560.8254582428654,
          2560.8254582428654,
          2560.8254582428654,
          2560.8254582428654,
          2560.8254582428654,
          2560.8254582428654,
          2560.8254582428654,
          2560.8254582428654,
          2560.8254582428654,
          2560.8254582428654,
          2560.8254582428654,
          2560.8254582428654,
          2560.8254582428654,
          2560.8254582428654,
          2560.8254582428654,
          2560.8254582428654,
          2560.8254582428654,
          2560.8254582428654,
          2560.8254582428654,
          2560.8254582428654,
          2560.8254582428654,
          2560.8254582428654,
          2560.8254582428654,
          2560.8254582428654,
          2560.8254582428654,
          2560.8254582428654,
          2560.8254582428654,
          2560.8254582428654,
          2560.8254582428654,
          2560.8254582428654,
          2560.8254582428654,
          2560.8254582428654,
          2560.8254582428654,
          2560.8254582428654,
          2560.8254582428654,
          2560.8254582428654,
          2560.8254582428654,
          2560.8254582428654,
          2560.8254582428654,
          2560.8254582428654,
          2560.8254582428654,
          2560.8254582428654,
          2560.8254582428654,
          2560.8254582428654,
          2560.8254582428654,
          2560.8254582428654,
          2560.8254582428654,
          2560.8254582428654,
          2560.8254582428654,
          2560.8254582428654,
          2560.8254582428654,
          2560.8254582428654,
          2560.8254582428654,
          2560.8254582428654,
          2560.8254582428654,
          2560.8254582428654,
          2560.8254582428654,
          2560.8254582428654,
          2560.8254582428654,
          2560.8254582428654,
          2560.8254582428654,
          2560.8254582428654,
          2560.8254582428654,
          2560.8254582428654,
          2560.8254582428654,
          2560.8254582428654,
          2560.8254582428654,
          2560.8254582428654,
          2560.8254582428654,
          2560.8254582428654,
          2560.8254582428654,
          2560.8254582428654,
          2594.1758450152447,
          2594.1758450152447,
          2594.1758450152447,
          2594.1758450152447,
          2594.1758450152447,
          2594.1758450152447,
          2594.1758450152447,
          2594.1758450152447,
          2594.1758450152447,
          2594.1758450152447,
          2594.1758450152447,
          2594.1758450152447,
          2594.1758450152447,
          2594.1758450152447,
          2594.1758450152447,
          2594.1758450152447,
          2594.1758450152447,
          2594.1758450152447,
          2594.1758450152447,
          2594.1758450152447,
          2594.1758450152447,
          2594.1758450152447,
          2594.1758450152447,
          2594.1758450152447,
          2594.1758450152447,
          2594.1758450152447,
          2594.1758450152447,
          2594.1758450152447,
          2594.1758450152447,
          2594.1758450152447,
          2594.1758450152447,
          2594.1758450152447,
          2594.1758450152447,
          2594.1758450152447,
          2594.1758450152447,
          2594.1758450152447,
          2594.1758450152447,
          2594.1758450152447,
          2594.1758450152447,
          2594.1758450152447,
          2594.1758450152447,
          2594.1758450152447,
          2594.1758450152447,
          2594.1758450152447,
          2594.1758450152447,
          2594.1758450152447,
          2594.1758450152447,
          2594.1758450152447,
          2594.1758450152447,
          2594.1758450152447,
          2594.1758450152447,
          2594.1758450152447,
          2594.1758450152447,
          2594.1758450152447,
          2594.1758450152447,
          2594.1758450152447,
          2594.1758450152447,
          2594.1758450152447,
          2594.1758450152447,
          2594.1758450152447,
          2594.1758450152447,
          2594.1758450152447,
          2594.1758450152447,
          2594.1758450152447,
          2594.1758450152447,
          2594.1758450152447,
          2594.1758450152447,
          2594.1758450152447,
          2594.1758450152447,
          2627.526231787625,
          2627.526231787625,
          2627.526231787625,
          2627.526231787625,
          2627.526231787625,
          2627.526231787625,
          2627.526231787625,
          2627.526231787625,
          2627.526231787625,
          2627.526231787625,
          2627.526231787625,
          2627.526231787625,
          2627.526231787625,
          2627.526231787625,
          2627.526231787625,
          2627.526231787625,
          2627.526231787625,
          2627.526231787625,
          2627.526231787625,
          2627.526231787625,
          2627.526231787625,
          2627.526231787625,
          2627.526231787625,
          2627.526231787625,
          2627.526231787625,
          2627.526231787625,
          2627.526231787625,
          2627.526231787625,
          2627.526231787625,
          2627.526231787625,
          2627.526231787625,
          2627.526231787625,
          2627.526231787625,
          2627.526231787625,
          2627.526231787625,
          2627.526231787625,
          2627.526231787625,
          2627.526231787625,
          2627.526231787625,
          2627.526231787625,
          2627.526231787625,
          2627.526231787625,
          2627.526231787625,
          2627.526231787625,
          2627.526231787625,
          2627.526231787625,
          2627.526231787625,
          2627.526231787625,
          2627.526231787625,
          2627.526231787625,
          2627.526231787625,
          2627.526231787625,
          2627.526231787625,
          2627.526231787625,
          2627.526231787625,
          2627.526231787625,
          2627.526231787625,
          2627.526231787625,
          2627.526231787625,
          2627.526231787625,
          2627.526231787625,
          2627.526231787625,
          2627.526231787625,
          2627.526231787625,
          2627.526231787625,
          2627.526231787625,
          2627.526231787625,
          2627.526231787625,
          2627.526231787625,
          2627.526231787625,
          2627.526231787625,
          2660.8766185600043,
          2660.8766185600043,
          2660.8766185600043,
          2660.8766185600043,
          2660.8766185600043,
          2660.8766185600043,
          2660.8766185600043,
          2660.8766185600043,
          2660.8766185600043,
          2660.8766185600043,
          2660.8766185600043,
          2660.8766185600043,
          2660.8766185600043,
          2660.8766185600043,
          2660.8766185600043,
          2660.8766185600043,
          2660.8766185600043,
          2660.8766185600043,
          2660.8766185600043,
          2660.8766185600043,
          2660.8766185600043,
          2660.8766185600043,
          2660.8766185600043,
          2660.8766185600043,
          2660.8766185600043,
          2660.8766185600043,
          2660.8766185600043,
          2660.8766185600043,
          2660.8766185600043,
          2660.8766185600043,
          2660.8766185600043,
          2660.8766185600043,
          2660.8766185600043,
          2660.8766185600043,
          2660.8766185600043,
          2660.8766185600043,
          2660.8766185600043,
          2660.8766185600043,
          2660.8766185600043,
          2660.8766185600043,
          2660.8766185600043,
          2660.8766185600043,
          2660.8766185600043,
          2660.8766185600043,
          2660.8766185600043,
          2660.8766185600043,
          2660.8766185600043,
          2660.8766185600043,
          2660.8766185600043,
          2660.8766185600043,
          2660.8766185600043,
          2660.8766185600043,
          2660.8766185600043,
          2660.8766185600043,
          2660.8766185600043,
          2660.8766185600043,
          2660.8766185600043,
          2660.8766185600043,
          2660.8766185600043,
          2660.8766185600043,
          2660.8766185600043,
          2660.8766185600043,
          2660.8766185600043,
          2660.8766185600043,
          2660.8766185600043,
          2660.8766185600043,
          2660.8766185600043,
          2660.8766185600043,
          2660.8766185600043,
          2660.8766185600043,
          2660.8766185600043,
          2660.8766185600043,
          2660.8766185600043,
          2694.2270053323846,
          2694.2270053323846,
          2694.2270053323846,
          2694.2270053323846,
          2694.2270053323846,
          2694.2270053323846,
          2694.2270053323846,
          2694.2270053323846,
          2694.2270053323846,
          2694.2270053323846,
          2694.2270053323846,
          2694.2270053323846,
          2694.2270053323846,
          2694.2270053323846,
          2694.2270053323846,
          2694.2270053323846,
          2694.2270053323846,
          2694.2270053323846,
          2694.2270053323846,
          2694.2270053323846,
          2694.2270053323846,
          2694.2270053323846,
          2694.2270053323846,
          2694.2270053323846,
          2694.2270053323846,
          2694.2270053323846,
          2694.2270053323846,
          2694.2270053323846,
          2694.2270053323846,
          2694.2270053323846,
          2694.2270053323846,
          2694.2270053323846,
          2694.2270053323846,
          2694.2270053323846,
          2694.2270053323846,
          2694.2270053323846,
          2694.2270053323846,
          2694.2270053323846,
          2694.2270053323846,
          2694.2270053323846,
          2694.2270053323846,
          2694.2270053323846,
          2694.2270053323846,
          2694.2270053323846,
          2694.2270053323846,
          2694.2270053323846,
          2694.2270053323846,
          2694.2270053323846,
          2694.2270053323846,
          2694.2270053323846,
          2694.2270053323846,
          2694.2270053323846,
          2694.2270053323846,
          2694.2270053323846,
          2694.2270053323846,
          2694.2270053323846,
          2694.2270053323846,
          2694.2270053323846,
          2694.2270053323846,
          2694.2270053323846,
          2694.2270053323846,
          2694.2270053323846,
          2694.2270053323846,
          2694.2270053323846,
          2694.2270053323846,
          2694.2270053323846,
          2727.577392104764,
          2727.577392104764,
          2727.577392104764,
          2727.577392104764,
          2727.577392104764,
          2727.577392104764,
          2727.577392104764,
          2727.577392104764,
          2727.577392104764,
          2727.577392104764,
          2727.577392104764,
          2727.577392104764,
          2727.577392104764,
          2727.577392104764,
          2727.577392104764,
          2727.577392104764,
          2727.577392104764,
          2727.577392104764,
          2727.577392104764,
          2727.577392104764,
          2727.577392104764,
          2727.577392104764,
          2727.577392104764,
          2727.577392104764,
          2727.577392104764,
          2727.577392104764,
          2727.577392104764,
          2727.577392104764,
          2727.577392104764,
          2727.577392104764,
          2727.577392104764,
          2727.577392104764,
          2727.577392104764,
          2727.577392104764,
          2727.577392104764,
          2727.577392104764,
          2727.577392104764,
          2727.577392104764,
          2727.577392104764,
          2727.577392104764,
          2727.577392104764,
          2727.577392104764,
          2727.577392104764,
          2727.577392104764,
          2727.577392104764,
          2727.577392104764,
          2727.577392104764,
          2727.577392104764,
          2727.577392104764,
          2727.577392104764,
          2727.577392104764,
          2727.577392104764,
          2760.927778877144,
          2760.927778877144,
          2760.927778877144,
          2760.927778877144,
          2760.927778877144,
          2760.927778877144,
          2760.927778877144,
          2760.927778877144,
          2760.927778877144,
          2760.927778877144,
          2760.927778877144,
          2760.927778877144,
          2760.927778877144,
          2760.927778877144,
          2760.927778877144,
          2760.927778877144,
          2760.927778877144,
          2760.927778877144,
          2760.927778877144,
          2760.927778877144,
          2760.927778877144,
          2760.927778877144,
          2760.927778877144,
          2760.927778877144,
          2760.927778877144,
          2760.927778877144,
          2760.927778877144,
          2760.927778877144,
          2760.927778877144,
          2760.927778877144,
          2760.927778877144,
          2760.927778877144,
          2760.927778877144,
          2760.927778877144,
          2760.927778877144,
          2760.927778877144,
          2760.927778877144,
          2760.927778877144,
          2760.927778877144,
          2760.927778877144,
          2760.927778877144,
          2760.927778877144,
          2760.927778877144,
          2760.927778877144,
          2760.927778877144,
          2760.927778877144,
          2760.927778877144,
          2760.927778877144,
          2760.927778877144,
          2760.927778877144,
          2760.927778877144,
          2760.927778877144,
          2760.927778877144,
          2760.927778877144,
          2760.927778877144,
          2760.927778877144,
          2794.2781656495235,
          2794.2781656495235,
          2794.2781656495235,
          2794.2781656495235,
          2794.2781656495235,
          2794.2781656495235,
          2794.2781656495235,
          2794.2781656495235,
          2794.2781656495235,
          2794.2781656495235,
          2794.2781656495235,
          2794.2781656495235,
          2794.2781656495235,
          2794.2781656495235,
          2794.2781656495235,
          2794.2781656495235,
          2794.2781656495235,
          2794.2781656495235,
          2794.2781656495235,
          2794.2781656495235,
          2794.2781656495235,
          2794.2781656495235,
          2794.2781656495235,
          2794.2781656495235,
          2794.2781656495235,
          2794.2781656495235,
          2794.2781656495235,
          2794.2781656495235,
          2794.2781656495235,
          2794.2781656495235,
          2794.2781656495235,
          2794.2781656495235,
          2794.2781656495235,
          2794.2781656495235,
          2794.2781656495235,
          2794.2781656495235,
          2794.2781656495235,
          2794.2781656495235,
          2794.2781656495235,
          2794.2781656495235,
          2794.2781656495235,
          2794.2781656495235,
          2794.2781656495235,
          2794.2781656495235,
          2794.2781656495235,
          2794.2781656495235,
          2794.2781656495235,
          2794.2781656495235,
          2794.2781656495235,
          2794.2781656495235,
          2794.2781656495235,
          2794.2781656495235,
          2794.2781656495235,
          2794.2781656495235,
          2794.2781656495235,
          2794.2781656495235,
          2794.2781656495235,
          2794.2781656495235,
          2794.2781656495235,
          2794.2781656495235,
          2794.2781656495235,
          2794.2781656495235,
          2794.2781656495235,
          2794.2781656495235,
          2794.2781656495235,
          2827.628552421904,
          2827.628552421904,
          2827.628552421904,
          2827.628552421904,
          2827.628552421904,
          2827.628552421904,
          2827.628552421904,
          2827.628552421904,
          2827.628552421904,
          2827.628552421904,
          2827.628552421904,
          2827.628552421904,
          2827.628552421904,
          2827.628552421904,
          2827.628552421904,
          2827.628552421904,
          2827.628552421904,
          2827.628552421904,
          2827.628552421904,
          2827.628552421904,
          2827.628552421904,
          2827.628552421904,
          2827.628552421904,
          2827.628552421904,
          2827.628552421904,
          2827.628552421904,
          2827.628552421904,
          2827.628552421904,
          2827.628552421904,
          2827.628552421904,
          2827.628552421904,
          2827.628552421904,
          2827.628552421904,
          2827.628552421904,
          2827.628552421904,
          2827.628552421904,
          2827.628552421904,
          2827.628552421904,
          2827.628552421904,
          2827.628552421904,
          2827.628552421904,
          2827.628552421904,
          2827.628552421904,
          2827.628552421904,
          2827.628552421904,
          2827.628552421904,
          2827.628552421904,
          2827.628552421904,
          2827.628552421904,
          2827.628552421904,
          2827.628552421904,
          2827.628552421904,
          2827.628552421904,
          2827.628552421904,
          2827.628552421904,
          2827.628552421904,
          2827.628552421904,
          2827.628552421904,
          2827.628552421904,
          2827.628552421904,
          2827.628552421904,
          2860.978939194283,
          2860.978939194283,
          2860.978939194283,
          2860.978939194283,
          2860.978939194283,
          2860.978939194283,
          2860.978939194283,
          2860.978939194283,
          2860.978939194283,
          2860.978939194283,
          2860.978939194283,
          2860.978939194283,
          2860.978939194283,
          2860.978939194283,
          2860.978939194283,
          2860.978939194283,
          2860.978939194283,
          2860.978939194283,
          2860.978939194283,
          2860.978939194283,
          2860.978939194283,
          2860.978939194283,
          2860.978939194283,
          2860.978939194283,
          2860.978939194283,
          2860.978939194283,
          2860.978939194283,
          2860.978939194283,
          2860.978939194283,
          2860.978939194283,
          2860.978939194283,
          2860.978939194283,
          2860.978939194283,
          2860.978939194283,
          2860.978939194283,
          2860.978939194283,
          2860.978939194283,
          2860.978939194283,
          2860.978939194283,
          2860.978939194283,
          2860.978939194283,
          2860.978939194283,
          2860.978939194283,
          2860.978939194283,
          2860.978939194283,
          2860.978939194283,
          2860.978939194283,
          2860.978939194283,
          2860.978939194283,
          2860.978939194283,
          2860.978939194283,
          2860.978939194283,
          2860.978939194283,
          2860.978939194283,
          2860.978939194283,
          2860.978939194283,
          2860.978939194283,
          2860.978939194283,
          2894.3293259666625,
          2894.3293259666625,
          2894.3293259666625,
          2894.3293259666625,
          2894.3293259666625,
          2894.3293259666625,
          2894.3293259666625,
          2894.3293259666625,
          2894.3293259666625,
          2894.3293259666625,
          2894.3293259666625,
          2894.3293259666625,
          2894.3293259666625,
          2894.3293259666625,
          2894.3293259666625,
          2894.3293259666625,
          2894.3293259666625,
          2894.3293259666625,
          2894.3293259666625,
          2894.3293259666625,
          2894.3293259666625,
          2894.3293259666625,
          2894.3293259666625,
          2894.3293259666625,
          2894.3293259666625,
          2894.3293259666625,
          2894.3293259666625,
          2894.3293259666625,
          2894.3293259666625,
          2894.3293259666625,
          2894.3293259666625,
          2894.3293259666625,
          2894.3293259666625,
          2894.3293259666625,
          2894.3293259666625,
          2894.3293259666625,
          2894.3293259666625,
          2894.3293259666625,
          2894.3293259666625,
          2894.3293259666625,
          2894.3293259666625,
          2894.3293259666625,
          2894.3293259666625,
          2894.3293259666625,
          2894.3293259666625,
          2894.3293259666625,
          2927.6797127390428,
          2927.6797127390428,
          2927.6797127390428,
          2927.6797127390428,
          2927.6797127390428,
          2927.6797127390428,
          2927.6797127390428,
          2927.6797127390428,
          2927.6797127390428,
          2927.6797127390428,
          2927.6797127390428,
          2927.6797127390428,
          2927.6797127390428,
          2927.6797127390428,
          2927.6797127390428,
          2927.6797127390428,
          2927.6797127390428,
          2927.6797127390428,
          2927.6797127390428,
          2927.6797127390428,
          2927.6797127390428,
          2927.6797127390428,
          2927.6797127390428,
          2927.6797127390428,
          2927.6797127390428,
          2927.6797127390428,
          2927.6797127390428,
          2927.6797127390428,
          2927.6797127390428,
          2927.6797127390428,
          2927.6797127390428,
          2927.6797127390428,
          2927.6797127390428,
          2927.6797127390428,
          2927.6797127390428,
          2927.6797127390428,
          2927.6797127390428,
          2927.6797127390428,
          2961.030099511422,
          2961.030099511422,
          2961.030099511422,
          2961.030099511422,
          2961.030099511422,
          2961.030099511422,
          2961.030099511422,
          2961.030099511422,
          2961.030099511422,
          2961.030099511422,
          2961.030099511422,
          2961.030099511422,
          2961.030099511422,
          2961.030099511422,
          2961.030099511422,
          2961.030099511422,
          2961.030099511422,
          2961.030099511422,
          2961.030099511422,
          2961.030099511422,
          2961.030099511422,
          2961.030099511422,
          2961.030099511422,
          2961.030099511422,
          2961.030099511422,
          2961.030099511422,
          2961.030099511422,
          2961.030099511422,
          2961.030099511422,
          2961.030099511422,
          2961.030099511422,
          2961.030099511422,
          2961.030099511422,
          2961.030099511422,
          2961.030099511422,
          2961.030099511422,
          2961.030099511422,
          2961.030099511422,
          2961.030099511422,
          2961.030099511422,
          2961.030099511422,
          2961.030099511422,
          2961.030099511422,
          2961.030099511422,
          2961.030099511422,
          2961.030099511422,
          2961.030099511422,
          2994.3804862838024,
          2994.3804862838024,
          2994.3804862838024,
          2994.3804862838024,
          2994.3804862838024,
          2994.3804862838024,
          2994.3804862838024,
          2994.3804862838024,
          2994.3804862838024,
          2994.3804862838024,
          2994.3804862838024,
          2994.3804862838024,
          2994.3804862838024,
          2994.3804862838024,
          2994.3804862838024,
          2994.3804862838024,
          2994.3804862838024,
          2994.3804862838024,
          2994.3804862838024,
          2994.3804862838024,
          2994.3804862838024,
          2994.3804862838024,
          2994.3804862838024,
          2994.3804862838024,
          2994.3804862838024,
          2994.3804862838024,
          2994.3804862838024,
          2994.3804862838024,
          2994.3804862838024,
          2994.3804862838024,
          2994.3804862838024,
          2994.3804862838024,
          2994.3804862838024,
          2994.3804862838024,
          2994.3804862838024,
          2994.3804862838024,
          2994.3804862838024,
          2994.3804862838024,
          2994.3804862838024,
          2994.3804862838024,
          2994.3804862838024,
          2994.3804862838024,
          2994.3804862838024,
          2994.3804862838024,
          2994.3804862838024,
          2994.3804862838024,
          2994.3804862838024,
          2994.3804862838024,
          2994.3804862838024,
          2994.3804862838024,
          2994.3804862838024,
          2994.3804862838024,
          2994.3804862838024,
          2994.3804862838024,
          2994.3804862838024,
          2994.3804862838024,
          3027.7308730561817,
          3027.7308730561817,
          3027.7308730561817,
          3027.7308730561817,
          3027.7308730561817,
          3027.7308730561817,
          3027.7308730561817,
          3027.7308730561817,
          3027.7308730561817,
          3027.7308730561817,
          3027.7308730561817,
          3027.7308730561817,
          3027.7308730561817,
          3027.7308730561817,
          3027.7308730561817,
          3027.7308730561817,
          3027.7308730561817,
          3027.7308730561817,
          3027.7308730561817,
          3027.7308730561817,
          3027.7308730561817,
          3027.7308730561817,
          3027.7308730561817,
          3027.7308730561817,
          3027.7308730561817,
          3027.7308730561817,
          3027.7308730561817,
          3027.7308730561817,
          3027.7308730561817,
          3027.7308730561817,
          3027.7308730561817,
          3027.7308730561817,
          3027.7308730561817,
          3027.7308730561817,
          3027.7308730561817,
          3027.7308730561817,
          3027.7308730561817,
          3027.7308730561817,
          3027.7308730561817,
          3027.7308730561817,
          3027.7308730561817,
          3027.7308730561817,
          3027.7308730561817,
          3027.7308730561817,
          3061.081259828562,
          3061.081259828562,
          3061.081259828562,
          3061.081259828562,
          3061.081259828562,
          3061.081259828562,
          3061.081259828562,
          3061.081259828562,
          3061.081259828562,
          3061.081259828562,
          3061.081259828562,
          3061.081259828562,
          3061.081259828562,
          3061.081259828562,
          3061.081259828562,
          3061.081259828562,
          3061.081259828562,
          3061.081259828562,
          3061.081259828562,
          3061.081259828562,
          3061.081259828562,
          3061.081259828562,
          3061.081259828562,
          3061.081259828562,
          3061.081259828562,
          3061.081259828562,
          3061.081259828562,
          3061.081259828562,
          3061.081259828562,
          3061.081259828562,
          3061.081259828562,
          3061.081259828562,
          3061.081259828562,
          3061.081259828562,
          3061.081259828562,
          3061.081259828562,
          3061.081259828562,
          3061.081259828562,
          3061.081259828562,
          3061.081259828562,
          3061.081259828562,
          3094.4316466009413,
          3094.4316466009413,
          3094.4316466009413,
          3094.4316466009413,
          3094.4316466009413,
          3094.4316466009413,
          3094.4316466009413,
          3094.4316466009413,
          3094.4316466009413,
          3094.4316466009413,
          3094.4316466009413,
          3094.4316466009413,
          3094.4316466009413,
          3094.4316466009413,
          3094.4316466009413,
          3094.4316466009413,
          3094.4316466009413,
          3094.4316466009413,
          3094.4316466009413,
          3094.4316466009413,
          3094.4316466009413,
          3094.4316466009413,
          3094.4316466009413,
          3094.4316466009413,
          3094.4316466009413,
          3094.4316466009413,
          3094.4316466009413,
          3094.4316466009413,
          3094.4316466009413,
          3094.4316466009413,
          3094.4316466009413,
          3094.4316466009413,
          3094.4316466009413,
          3094.4316466009413,
          3094.4316466009413,
          3094.4316466009413,
          3094.4316466009413,
          3094.4316466009413,
          3094.4316466009413,
          3094.4316466009413,
          3094.4316466009413,
          3094.4316466009413,
          3127.7820333733216,
          3127.7820333733216,
          3127.7820333733216,
          3127.7820333733216,
          3127.7820333733216,
          3127.7820333733216,
          3127.7820333733216,
          3127.7820333733216,
          3127.7820333733216,
          3127.7820333733216,
          3127.7820333733216,
          3127.7820333733216,
          3127.7820333733216,
          3127.7820333733216,
          3127.7820333733216,
          3127.7820333733216,
          3127.7820333733216,
          3127.7820333733216,
          3127.7820333733216,
          3127.7820333733216,
          3127.7820333733216,
          3127.7820333733216,
          3127.7820333733216,
          3127.7820333733216,
          3127.7820333733216,
          3127.7820333733216,
          3127.7820333733216,
          3127.7820333733216,
          3127.7820333733216,
          3127.7820333733216,
          3127.7820333733216,
          3127.7820333733216,
          3127.7820333733216,
          3127.7820333733216,
          3161.132420145701,
          3161.132420145701,
          3161.132420145701,
          3161.132420145701,
          3161.132420145701,
          3161.132420145701,
          3161.132420145701,
          3161.132420145701,
          3161.132420145701,
          3161.132420145701,
          3161.132420145701,
          3161.132420145701,
          3161.132420145701,
          3161.132420145701,
          3161.132420145701,
          3161.132420145701,
          3161.132420145701,
          3161.132420145701,
          3161.132420145701,
          3161.132420145701,
          3161.132420145701,
          3161.132420145701,
          3161.132420145701,
          3161.132420145701,
          3161.132420145701,
          3161.132420145701,
          3161.132420145701,
          3161.132420145701,
          3161.132420145701,
          3161.132420145701,
          3161.132420145701,
          3194.482806918081,
          3194.482806918081,
          3194.482806918081,
          3194.482806918081,
          3194.482806918081,
          3194.482806918081,
          3194.482806918081,
          3194.482806918081,
          3194.482806918081,
          3194.482806918081,
          3194.482806918081,
          3194.482806918081,
          3194.482806918081,
          3194.482806918081,
          3194.482806918081,
          3194.482806918081,
          3194.482806918081,
          3194.482806918081,
          3194.482806918081,
          3194.482806918081,
          3194.482806918081,
          3194.482806918081,
          3194.482806918081,
          3194.482806918081,
          3194.482806918081,
          3194.482806918081,
          3194.482806918081,
          3194.482806918081,
          3194.482806918081,
          3194.482806918081,
          3194.482806918081,
          3194.482806918081,
          3194.482806918081,
          3194.482806918081,
          3194.482806918081,
          3194.482806918081,
          3227.8331936904606,
          3227.8331936904606,
          3227.8331936904606,
          3227.8331936904606,
          3227.8331936904606,
          3227.8331936904606,
          3227.8331936904606,
          3227.8331936904606,
          3227.8331936904606,
          3227.8331936904606,
          3227.8331936904606,
          3227.8331936904606,
          3227.8331936904606,
          3227.8331936904606,
          3227.8331936904606,
          3227.8331936904606,
          3227.8331936904606,
          3227.8331936904606,
          3227.8331936904606,
          3227.8331936904606,
          3227.8331936904606,
          3227.8331936904606,
          3227.8331936904606,
          3227.8331936904606,
          3227.8331936904606,
          3227.8331936904606,
          3227.8331936904606,
          3227.8331936904606,
          3227.8331936904606,
          3227.8331936904606,
          3261.183580462841,
          3261.183580462841,
          3261.183580462841,
          3261.183580462841,
          3261.183580462841,
          3261.183580462841,
          3261.183580462841,
          3261.183580462841,
          3261.183580462841,
          3261.183580462841,
          3261.183580462841,
          3261.183580462841,
          3261.183580462841,
          3261.183580462841,
          3261.183580462841,
          3261.183580462841,
          3261.183580462841,
          3261.183580462841,
          3261.183580462841,
          3261.183580462841,
          3261.183580462841,
          3261.183580462841,
          3261.183580462841,
          3261.183580462841,
          3294.53396723522,
          3294.53396723522,
          3294.53396723522,
          3294.53396723522,
          3294.53396723522,
          3294.53396723522,
          3294.53396723522,
          3294.53396723522,
          3294.53396723522,
          3294.53396723522,
          3294.53396723522,
          3294.53396723522,
          3294.53396723522,
          3294.53396723522,
          3294.53396723522,
          3294.53396723522,
          3294.53396723522,
          3294.53396723522,
          3294.53396723522,
          3294.53396723522,
          3294.53396723522,
          3294.53396723522,
          3294.53396723522,
          3294.53396723522,
          3294.53396723522,
          3294.53396723522,
          3294.53396723522,
          3294.53396723522,
          3294.53396723522,
          3294.53396723522,
          3294.53396723522,
          3294.53396723522,
          3294.53396723522,
          3327.8843540076005,
          3327.8843540076005,
          3327.8843540076005,
          3327.8843540076005,
          3327.8843540076005,
          3327.8843540076005,
          3327.8843540076005,
          3327.8843540076005,
          3327.8843540076005,
          3327.8843540076005,
          3327.8843540076005,
          3327.8843540076005,
          3327.8843540076005,
          3327.8843540076005,
          3327.8843540076005,
          3327.8843540076005,
          3327.8843540076005,
          3327.8843540076005,
          3327.8843540076005,
          3327.8843540076005,
          3327.8843540076005,
          3327.8843540076005,
          3327.8843540076005,
          3327.8843540076005,
          3327.8843540076005,
          3327.8843540076005,
          3327.8843540076005,
          3327.8843540076005,
          3327.8843540076005,
          3327.8843540076005,
          3327.8843540076005,
          3327.8843540076005,
          3327.8843540076005,
          3327.8843540076005,
          3327.8843540076005,
          3361.23474077998,
          3361.23474077998,
          3361.23474077998,
          3361.23474077998,
          3361.23474077998,
          3361.23474077998,
          3361.23474077998,
          3361.23474077998,
          3361.23474077998,
          3361.23474077998,
          3361.23474077998,
          3361.23474077998,
          3361.23474077998,
          3361.23474077998,
          3361.23474077998,
          3361.23474077998,
          3361.23474077998,
          3361.23474077998,
          3361.23474077998,
          3361.23474077998,
          3361.23474077998,
          3361.23474077998,
          3361.23474077998,
          3361.23474077998,
          3361.23474077998,
          3361.23474077998,
          3361.23474077998,
          3361.23474077998,
          3394.58512755236,
          3394.58512755236,
          3394.58512755236,
          3394.58512755236,
          3394.58512755236,
          3394.58512755236,
          3394.58512755236,
          3394.58512755236,
          3394.58512755236,
          3394.58512755236,
          3394.58512755236,
          3394.58512755236,
          3394.58512755236,
          3394.58512755236,
          3394.58512755236,
          3394.58512755236,
          3394.58512755236,
          3394.58512755236,
          3394.58512755236,
          3427.9355143247394,
          3427.9355143247394,
          3427.9355143247394,
          3427.9355143247394,
          3427.9355143247394,
          3427.9355143247394,
          3427.9355143247394,
          3427.9355143247394,
          3427.9355143247394,
          3427.9355143247394,
          3427.9355143247394,
          3427.9355143247394,
          3427.9355143247394,
          3427.9355143247394,
          3427.9355143247394,
          3427.9355143247394,
          3461.2859010971197,
          3461.2859010971197,
          3461.2859010971197,
          3461.2859010971197,
          3461.2859010971197,
          3461.2859010971197,
          3461.2859010971197,
          3461.2859010971197,
          3461.2859010971197,
          3461.2859010971197,
          3461.2859010971197,
          3461.2859010971197,
          3461.2859010971197,
          3461.2859010971197,
          3461.2859010971197,
          3461.2859010971197,
          3461.2859010971197,
          3461.2859010971197,
          3461.2859010971197,
          3461.2859010971197,
          3461.2859010971197,
          3461.2859010971197,
          3461.2859010971197,
          3461.2859010971197,
          3461.2859010971197,
          3461.2859010971197,
          3494.636287869499,
          3494.636287869499,
          3494.636287869499,
          3494.636287869499,
          3494.636287869499,
          3494.636287869499,
          3494.636287869499,
          3494.636287869499,
          3494.636287869499,
          3494.636287869499,
          3494.636287869499,
          3494.636287869499,
          3494.636287869499,
          3494.636287869499,
          3494.636287869499,
          3494.636287869499,
          3494.636287869499,
          3494.636287869499,
          3494.636287869499,
          3494.636287869499,
          3494.636287869499,
          3494.636287869499,
          3494.636287869499,
          3494.636287869499,
          3494.636287869499,
          3494.636287869499,
          3494.636287869499,
          3494.636287869499,
          3494.636287869499,
          3494.636287869499,
          3494.636287869499,
          3494.636287869499,
          3494.636287869499,
          3494.636287869499,
          3494.636287869499,
          3527.9866746418793,
          3527.9866746418793,
          3527.9866746418793,
          3527.9866746418793,
          3527.9866746418793,
          3527.9866746418793,
          3527.9866746418793,
          3527.9866746418793,
          3527.9866746418793,
          3527.9866746418793,
          3527.9866746418793,
          3527.9866746418793,
          3527.9866746418793,
          3527.9866746418793,
          3527.9866746418793,
          3561.3370614142586,
          3561.3370614142586,
          3561.3370614142586,
          3561.3370614142586,
          3561.3370614142586,
          3561.3370614142586,
          3561.3370614142586,
          3561.3370614142586,
          3561.3370614142586,
          3561.3370614142586,
          3561.3370614142586,
          3561.3370614142586,
          3561.3370614142586,
          3561.3370614142586,
          3561.3370614142586,
          3561.3370614142586,
          3561.3370614142586,
          3561.3370614142586,
          3561.3370614142586,
          3561.3370614142586,
          3594.687448186639,
          3594.687448186639,
          3594.687448186639,
          3594.687448186639,
          3594.687448186639,
          3594.687448186639,
          3594.687448186639,
          3594.687448186639,
          3594.687448186639,
          3594.687448186639,
          3594.687448186639,
          3594.687448186639,
          3594.687448186639,
          3594.687448186639,
          3594.687448186639,
          3594.687448186639,
          3594.687448186639,
          3594.687448186639,
          3594.687448186639,
          3594.687448186639,
          3594.687448186639,
          3594.687448186639,
          3594.687448186639,
          3594.687448186639,
          3594.687448186639,
          3594.687448186639,
          3594.687448186639,
          3594.687448186639,
          3594.687448186639,
          3594.687448186639,
          3628.0378349590183,
          3628.0378349590183,
          3628.0378349590183,
          3628.0378349590183,
          3628.0378349590183,
          3628.0378349590183,
          3628.0378349590183,
          3628.0378349590183,
          3628.0378349590183,
          3628.0378349590183,
          3628.0378349590183,
          3628.0378349590183,
          3628.0378349590183,
          3628.0378349590183,
          3628.0378349590183,
          3628.0378349590183,
          3628.0378349590183,
          3628.0378349590183,
          3628.0378349590183,
          3628.0378349590183,
          3628.0378349590183,
          3661.3882217313985,
          3661.3882217313985,
          3661.3882217313985,
          3661.3882217313985,
          3661.3882217313985,
          3661.3882217313985,
          3661.3882217313985,
          3661.3882217313985,
          3661.3882217313985,
          3661.3882217313985,
          3661.3882217313985,
          3661.3882217313985,
          3661.3882217313985,
          3661.3882217313985,
          3661.3882217313985,
          3661.3882217313985,
          3661.3882217313985,
          3661.3882217313985,
          3661.3882217313985,
          3694.738608503778,
          3694.738608503778,
          3694.738608503778,
          3694.738608503778,
          3694.738608503778,
          3694.738608503778,
          3694.738608503778,
          3694.738608503778,
          3694.738608503778,
          3694.738608503778,
          3694.738608503778,
          3694.738608503778,
          3694.738608503778,
          3694.738608503778,
          3694.738608503778,
          3694.738608503778,
          3694.738608503778,
          3694.738608503778,
          3728.088995276157,
          3728.088995276157,
          3728.088995276157,
          3728.088995276157,
          3728.088995276157,
          3728.088995276157,
          3728.088995276157,
          3728.088995276157,
          3728.088995276157,
          3728.088995276157,
          3728.088995276157,
          3728.088995276157,
          3728.088995276157,
          3728.088995276157,
          3728.088995276157,
          3761.4393820485375,
          3761.4393820485375,
          3761.4393820485375,
          3761.4393820485375,
          3761.4393820485375,
          3761.4393820485375,
          3761.4393820485375,
          3761.4393820485375,
          3761.4393820485375,
          3761.4393820485375,
          3761.4393820485375,
          3761.4393820485375,
          3761.4393820485375,
          3761.4393820485375,
          3761.4393820485375,
          3761.4393820485375,
          3761.4393820485375,
          3761.4393820485375,
          3794.789768820917,
          3794.789768820917,
          3794.789768820917,
          3794.789768820917,
          3794.789768820917,
          3794.789768820917,
          3794.789768820917,
          3794.789768820917,
          3794.789768820917,
          3794.789768820917,
          3794.789768820917,
          3828.140155593297,
          3828.140155593297,
          3828.140155593297,
          3828.140155593297,
          3828.140155593297,
          3828.140155593297,
          3828.140155593297,
          3828.140155593297,
          3828.140155593297,
          3828.140155593297,
          3828.140155593297,
          3828.140155593297,
          3828.140155593297,
          3828.140155593297,
          3828.140155593297,
          3861.4905423656764,
          3861.4905423656764,
          3861.4905423656764,
          3861.4905423656764,
          3861.4905423656764,
          3861.4905423656764,
          3861.4905423656764,
          3861.4905423656764,
          3861.4905423656764,
          3861.4905423656764,
          3861.4905423656764,
          3861.4905423656764,
          3861.4905423656764,
          3861.4905423656764,
          3861.4905423656764,
          3861.4905423656764,
          3861.4905423656764,
          3861.4905423656764,
          3861.4905423656764,
          3894.8409291380567,
          3894.8409291380567,
          3894.8409291380567,
          3894.8409291380567,
          3894.8409291380567,
          3894.8409291380567,
          3894.8409291380567,
          3894.8409291380567,
          3894.8409291380567,
          3894.8409291380567,
          3894.8409291380567,
          3894.8409291380567,
          3894.8409291380567,
          3928.191315910436,
          3928.191315910436,
          3928.191315910436,
          3928.191315910436,
          3928.191315910436,
          3928.191315910436,
          3928.191315910436,
          3928.191315910436,
          3928.191315910436,
          3928.191315910436,
          3928.191315910436,
          3928.191315910436,
          3928.191315910436,
          3961.5417026828163,
          3961.5417026828163,
          3961.5417026828163,
          3961.5417026828163,
          3961.5417026828163,
          3961.5417026828163,
          3961.5417026828163,
          3961.5417026828163,
          3961.5417026828163,
          3961.5417026828163,
          3994.8920894551957,
          3994.8920894551957,
          3994.8920894551957,
          3994.8920894551957,
          4028.242476227576,
          4028.242476227576,
          4028.242476227576,
          4028.242476227576,
          4028.242476227576,
          4028.242476227576,
          4028.242476227576,
          4028.242476227576,
          4028.242476227576,
          4028.242476227576,
          4028.242476227576,
          4028.242476227576,
          4028.242476227576,
          4028.242476227576,
          4028.242476227576,
          4028.242476227576,
          4028.242476227576,
          4061.5928629999553,
          4061.5928629999553,
          4061.5928629999553,
          4061.5928629999553,
          4061.5928629999553,
          4061.5928629999553,
          4061.5928629999553,
          4061.5928629999553,
          4061.5928629999553,
          4061.5928629999553,
          4061.5928629999553,
          4061.5928629999553,
          4061.5928629999553,
          4061.5928629999553,
          4094.9432497723355,
          4094.9432497723355,
          4094.9432497723355,
          4094.9432497723355,
          4094.9432497723355,
          4094.9432497723355,
          4094.9432497723355,
          4094.9432497723355,
          4128.293636544715,
          4128.293636544715,
          4128.293636544715,
          4128.293636544715,
          4128.293636544715,
          4128.293636544715,
          4128.293636544715,
          4128.293636544715,
          4128.293636544715,
          4128.293636544715,
          4161.644023317095,
          4161.644023317095,
          4161.644023317095,
          4161.644023317095,
          4161.644023317095,
          4161.644023317095,
          4161.644023317095,
          4161.644023317095,
          4161.644023317095,
          4161.644023317095,
          4194.9944100894745,
          4194.9944100894745,
          4194.9944100894745,
          4194.9944100894745,
          4194.9944100894745,
          4194.9944100894745,
          4194.9944100894745,
          4194.9944100894745,
          4194.9944100894745,
          4228.344796861855,
          4228.344796861855,
          4228.344796861855,
          4228.344796861855,
          4228.344796861855,
          4228.344796861855,
          4228.344796861855,
          4228.344796861855,
          4261.695183634234,
          4261.695183634234,
          4261.695183634234,
          4261.695183634234,
          4261.695183634234,
          4261.695183634234,
          4261.695183634234,
          4261.695183634234,
          4295.045570406614,
          4295.045570406614,
          4295.045570406614,
          4295.045570406614,
          4295.045570406614,
          4295.045570406614,
          4295.045570406614,
          4295.045570406614,
          4295.045570406614,
          4295.045570406614,
          4328.395957178994,
          4328.395957178994,
          4328.395957178994,
          4328.395957178994,
          4328.395957178994,
          4328.395957178994,
          4328.395957178994,
          4328.395957178994,
          4328.395957178994,
          4361.746343951374,
          4361.746343951374,
          4361.746343951374,
          4361.746343951374,
          4361.746343951374,
          4361.746343951374,
          4395.096730723753,
          4395.096730723753,
          4395.096730723753,
          4395.096730723753,
          4395.096730723753,
          4428.447117496134,
          4428.447117496134,
          4428.447117496134,
          4428.447117496134,
          4428.447117496134,
          4428.447117496134,
          4428.447117496134,
          4461.797504268513,
          4461.797504268513,
          4461.797504268513,
          4461.797504268513,
          4461.797504268513,
          4461.797504268513,
          4461.797504268513,
          4495.147891040893,
          4495.147891040893,
          4495.147891040893,
          4495.147891040893,
          4495.147891040893,
          4495.147891040893,
          4495.147891040893,
          4528.498277813273,
          4528.498277813273,
          4528.498277813273,
          4528.498277813273,
          4528.498277813273,
          4561.848664585652,
          4561.848664585652,
          4561.848664585652,
          4561.848664585652,
          4561.848664585652,
          4595.199051358032,
          4595.199051358032,
          4595.199051358032,
          4595.199051358032,
          4595.199051358032,
          4595.199051358032,
          4628.5494381304115,
          4628.5494381304115,
          4628.5494381304115,
          4628.5494381304115,
          4628.5494381304115,
          4628.5494381304115,
          4628.5494381304115,
          4661.899824902792,
          4661.899824902792,
          4661.899824902792,
          4661.899824902792,
          4695.250211675171,
          4695.250211675171,
          4695.250211675171,
          4728.600598447551,
          4728.600598447551,
          4728.600598447551,
          4728.600598447551,
          4761.950985219931,
          4761.950985219931,
          4761.950985219931,
          4761.950985219931,
          4761.950985219931,
          4795.301371992311,
          4795.301371992311,
          4795.301371992311,
          4795.301371992311,
          4795.301371992311,
          4795.301371992311,
          4795.301371992311,
          4795.301371992311,
          4828.65175876469,
          4828.65175876469,
          4828.65175876469,
          4828.65175876469,
          4828.65175876469,
          4828.65175876469,
          4862.002145537071,
          4895.35253230945,
          4895.35253230945,
          4895.35253230945,
          4895.35253230945,
          4895.35253230945,
          4895.35253230945,
          4895.35253230945,
          4895.35253230945,
          4895.35253230945,
          4928.70291908183,
          4928.70291908183,
          4928.70291908183,
          4962.05330585421,
          4962.05330585421,
          4962.05330585421,
          4962.05330585421,
          4995.40369262659,
          4995.40369262659,
          5028.754079398969,
          5028.754079398969,
          5028.754079398969,
          5062.1044661713495,
          5062.1044661713495,
          5128.805239716109,
          5128.805239716109,
          5162.155626488488,
          5162.155626488488,
          5162.155626488488,
          5162.155626488488,
          5195.506013260869,
          5195.506013260869,
          5195.506013260869,
          5195.506013260869,
          5228.856400033248,
          5228.856400033248,
          5228.856400033248,
          5262.206786805628,
          5262.206786805628,
          5262.206786805628,
          5262.206786805628,
          5262.206786805628,
          5262.206786805628,
          5262.206786805628,
          5295.557173578008,
          5295.557173578008,
          5295.557173578008,
          5328.907560350387,
          5328.907560350387,
          5328.907560350387,
          5328.907560350387,
          5362.257947122767,
          5362.257947122767,
          5395.608333895147,
          5395.608333895147,
          5395.608333895147,
          5395.608333895147,
          5428.958720667527,
          5428.958720667527,
          5428.958720667527,
          5428.958720667527,
          5462.309107439906,
          5462.309107439906,
          5495.6594942122865,
          5495.6594942122865,
          5495.6594942122865,
          5495.6594942122865,
          5495.6594942122865,
          5495.6594942122865,
          5495.6594942122865,
          5529.009880984666,
          5529.009880984666,
          5529.009880984666,
          5562.360267757046,
          5562.360267757046,
          5562.360267757046,
          5562.360267757046,
          5595.7106545294255,
          5595.7106545294255,
          5595.7106545294255,
          5629.061041301806,
          5629.061041301806,
          5662.411428074185,
          5662.411428074185,
          5695.761814846565,
          5695.761814846565,
          5729.112201618945,
          5762.462588391325,
          5762.462588391325,
          5795.812975163704,
          5795.812975163704,
          5829.163361936085,
          5829.163361936085,
          5895.864135480844,
          5929.214522253224,
          5962.564909025604,
          5995.915295797983,
          6095.966456115123,
          6129.316842887502,
          6196.017616432262,
          6196.017616432262,
          6229.368003204641,
          6229.368003204641,
          6229.368003204641,
          6262.718389977022,
          6296.068776749401,
          6396.119937066541,
          6396.119937066541,
          6396.119937066541,
          6429.47032383892,
          6429.47032383892,
          6496.171097383681,
          6529.52148415606,
          6562.871870928439,
          6596.222257700819,
          6629.5726444732,
          6662.923031245579,
          6662.923031245579,
          6796.3245783350985,
          6829.674965107478,
          6829.674965107478,
          7063.127672514137,
          7063.127672514137,
          7096.478059286516,
          7129.828446058896,
          7163.178832831275,
          7296.580379920794,
          7496.682700555074,
          7530.033087327453,
          7563.383474099833,
          7763.4857947341125,
          7763.4857947341125,
          7830.186568278871,
          7963.58811536839,
          7963.58811536839,
          7996.93850214077,
          8363.792756636947,
          9030.800492084545,
          9264.253199491202,
          9297.603586263584,
          10231.414415890216,
          11432.028339695888,
          12465.890329639664,
          12699.343037046321,
          14100.059281486272
         ],
         "yaxis": "y"
        }
       ],
       "layout": {
        "legend": {
         "tracegroupgap": 0
        },
        "margin": {
         "t": 60
        },
        "template": {
         "data": {
          "bar": [
           {
            "error_x": {
             "color": "#2a3f5f"
            },
            "error_y": {
             "color": "#2a3f5f"
            },
            "marker": {
             "line": {
              "color": "#E5ECF6",
              "width": 0.5
             },
             "pattern": {
              "fillmode": "overlay",
              "size": 10,
              "solidity": 0.2
             }
            },
            "type": "bar"
           }
          ],
          "barpolar": [
           {
            "marker": {
             "line": {
              "color": "#E5ECF6",
              "width": 0.5
             },
             "pattern": {
              "fillmode": "overlay",
              "size": 10,
              "solidity": 0.2
             }
            },
            "type": "barpolar"
           }
          ],
          "carpet": [
           {
            "aaxis": {
             "endlinecolor": "#2a3f5f",
             "gridcolor": "white",
             "linecolor": "white",
             "minorgridcolor": "white",
             "startlinecolor": "#2a3f5f"
            },
            "baxis": {
             "endlinecolor": "#2a3f5f",
             "gridcolor": "white",
             "linecolor": "white",
             "minorgridcolor": "white",
             "startlinecolor": "#2a3f5f"
            },
            "type": "carpet"
           }
          ],
          "choropleth": [
           {
            "colorbar": {
             "outlinewidth": 0,
             "ticks": ""
            },
            "type": "choropleth"
           }
          ],
          "contour": [
           {
            "colorbar": {
             "outlinewidth": 0,
             "ticks": ""
            },
            "colorscale": [
             [
              0,
              "#0d0887"
             ],
             [
              0.1111111111111111,
              "#46039f"
             ],
             [
              0.2222222222222222,
              "#7201a8"
             ],
             [
              0.3333333333333333,
              "#9c179e"
             ],
             [
              0.4444444444444444,
              "#bd3786"
             ],
             [
              0.5555555555555556,
              "#d8576b"
             ],
             [
              0.6666666666666666,
              "#ed7953"
             ],
             [
              0.7777777777777778,
              "#fb9f3a"
             ],
             [
              0.8888888888888888,
              "#fdca26"
             ],
             [
              1,
              "#f0f921"
             ]
            ],
            "type": "contour"
           }
          ],
          "contourcarpet": [
           {
            "colorbar": {
             "outlinewidth": 0,
             "ticks": ""
            },
            "type": "contourcarpet"
           }
          ],
          "heatmap": [
           {
            "colorbar": {
             "outlinewidth": 0,
             "ticks": ""
            },
            "colorscale": [
             [
              0,
              "#0d0887"
             ],
             [
              0.1111111111111111,
              "#46039f"
             ],
             [
              0.2222222222222222,
              "#7201a8"
             ],
             [
              0.3333333333333333,
              "#9c179e"
             ],
             [
              0.4444444444444444,
              "#bd3786"
             ],
             [
              0.5555555555555556,
              "#d8576b"
             ],
             [
              0.6666666666666666,
              "#ed7953"
             ],
             [
              0.7777777777777778,
              "#fb9f3a"
             ],
             [
              0.8888888888888888,
              "#fdca26"
             ],
             [
              1,
              "#f0f921"
             ]
            ],
            "type": "heatmap"
           }
          ],
          "heatmapgl": [
           {
            "colorbar": {
             "outlinewidth": 0,
             "ticks": ""
            },
            "colorscale": [
             [
              0,
              "#0d0887"
             ],
             [
              0.1111111111111111,
              "#46039f"
             ],
             [
              0.2222222222222222,
              "#7201a8"
             ],
             [
              0.3333333333333333,
              "#9c179e"
             ],
             [
              0.4444444444444444,
              "#bd3786"
             ],
             [
              0.5555555555555556,
              "#d8576b"
             ],
             [
              0.6666666666666666,
              "#ed7953"
             ],
             [
              0.7777777777777778,
              "#fb9f3a"
             ],
             [
              0.8888888888888888,
              "#fdca26"
             ],
             [
              1,
              "#f0f921"
             ]
            ],
            "type": "heatmapgl"
           }
          ],
          "histogram": [
           {
            "marker": {
             "pattern": {
              "fillmode": "overlay",
              "size": 10,
              "solidity": 0.2
             }
            },
            "type": "histogram"
           }
          ],
          "histogram2d": [
           {
            "colorbar": {
             "outlinewidth": 0,
             "ticks": ""
            },
            "colorscale": [
             [
              0,
              "#0d0887"
             ],
             [
              0.1111111111111111,
              "#46039f"
             ],
             [
              0.2222222222222222,
              "#7201a8"
             ],
             [
              0.3333333333333333,
              "#9c179e"
             ],
             [
              0.4444444444444444,
              "#bd3786"
             ],
             [
              0.5555555555555556,
              "#d8576b"
             ],
             [
              0.6666666666666666,
              "#ed7953"
             ],
             [
              0.7777777777777778,
              "#fb9f3a"
             ],
             [
              0.8888888888888888,
              "#fdca26"
             ],
             [
              1,
              "#f0f921"
             ]
            ],
            "type": "histogram2d"
           }
          ],
          "histogram2dcontour": [
           {
            "colorbar": {
             "outlinewidth": 0,
             "ticks": ""
            },
            "colorscale": [
             [
              0,
              "#0d0887"
             ],
             [
              0.1111111111111111,
              "#46039f"
             ],
             [
              0.2222222222222222,
              "#7201a8"
             ],
             [
              0.3333333333333333,
              "#9c179e"
             ],
             [
              0.4444444444444444,
              "#bd3786"
             ],
             [
              0.5555555555555556,
              "#d8576b"
             ],
             [
              0.6666666666666666,
              "#ed7953"
             ],
             [
              0.7777777777777778,
              "#fb9f3a"
             ],
             [
              0.8888888888888888,
              "#fdca26"
             ],
             [
              1,
              "#f0f921"
             ]
            ],
            "type": "histogram2dcontour"
           }
          ],
          "mesh3d": [
           {
            "colorbar": {
             "outlinewidth": 0,
             "ticks": ""
            },
            "type": "mesh3d"
           }
          ],
          "parcoords": [
           {
            "line": {
             "colorbar": {
              "outlinewidth": 0,
              "ticks": ""
             }
            },
            "type": "parcoords"
           }
          ],
          "pie": [
           {
            "automargin": true,
            "type": "pie"
           }
          ],
          "scatter": [
           {
            "fillpattern": {
             "fillmode": "overlay",
             "size": 10,
             "solidity": 0.2
            },
            "type": "scatter"
           }
          ],
          "scatter3d": [
           {
            "line": {
             "colorbar": {
              "outlinewidth": 0,
              "ticks": ""
             }
            },
            "marker": {
             "colorbar": {
              "outlinewidth": 0,
              "ticks": ""
             }
            },
            "type": "scatter3d"
           }
          ],
          "scattercarpet": [
           {
            "marker": {
             "colorbar": {
              "outlinewidth": 0,
              "ticks": ""
             }
            },
            "type": "scattercarpet"
           }
          ],
          "scattergeo": [
           {
            "marker": {
             "colorbar": {
              "outlinewidth": 0,
              "ticks": ""
             }
            },
            "type": "scattergeo"
           }
          ],
          "scattergl": [
           {
            "marker": {
             "colorbar": {
              "outlinewidth": 0,
              "ticks": ""
             }
            },
            "type": "scattergl"
           }
          ],
          "scattermapbox": [
           {
            "marker": {
             "colorbar": {
              "outlinewidth": 0,
              "ticks": ""
             }
            },
            "type": "scattermapbox"
           }
          ],
          "scatterpolar": [
           {
            "marker": {
             "colorbar": {
              "outlinewidth": 0,
              "ticks": ""
             }
            },
            "type": "scatterpolar"
           }
          ],
          "scatterpolargl": [
           {
            "marker": {
             "colorbar": {
              "outlinewidth": 0,
              "ticks": ""
             }
            },
            "type": "scatterpolargl"
           }
          ],
          "scatterternary": [
           {
            "marker": {
             "colorbar": {
              "outlinewidth": 0,
              "ticks": ""
             }
            },
            "type": "scatterternary"
           }
          ],
          "surface": [
           {
            "colorbar": {
             "outlinewidth": 0,
             "ticks": ""
            },
            "colorscale": [
             [
              0,
              "#0d0887"
             ],
             [
              0.1111111111111111,
              "#46039f"
             ],
             [
              0.2222222222222222,
              "#7201a8"
             ],
             [
              0.3333333333333333,
              "#9c179e"
             ],
             [
              0.4444444444444444,
              "#bd3786"
             ],
             [
              0.5555555555555556,
              "#d8576b"
             ],
             [
              0.6666666666666666,
              "#ed7953"
             ],
             [
              0.7777777777777778,
              "#fb9f3a"
             ],
             [
              0.8888888888888888,
              "#fdca26"
             ],
             [
              1,
              "#f0f921"
             ]
            ],
            "type": "surface"
           }
          ],
          "table": [
           {
            "cells": {
             "fill": {
              "color": "#EBF0F8"
             },
             "line": {
              "color": "white"
             }
            },
            "header": {
             "fill": {
              "color": "#C8D4E3"
             },
             "line": {
              "color": "white"
             }
            },
            "type": "table"
           }
          ]
         },
         "layout": {
          "annotationdefaults": {
           "arrowcolor": "#2a3f5f",
           "arrowhead": 0,
           "arrowwidth": 1
          },
          "autotypenumbers": "strict",
          "coloraxis": {
           "colorbar": {
            "outlinewidth": 0,
            "ticks": ""
           }
          },
          "colorscale": {
           "diverging": [
            [
             0,
             "#8e0152"
            ],
            [
             0.1,
             "#c51b7d"
            ],
            [
             0.2,
             "#de77ae"
            ],
            [
             0.3,
             "#f1b6da"
            ],
            [
             0.4,
             "#fde0ef"
            ],
            [
             0.5,
             "#f7f7f7"
            ],
            [
             0.6,
             "#e6f5d0"
            ],
            [
             0.7,
             "#b8e186"
            ],
            [
             0.8,
             "#7fbc41"
            ],
            [
             0.9,
             "#4d9221"
            ],
            [
             1,
             "#276419"
            ]
           ],
           "sequential": [
            [
             0,
             "#0d0887"
            ],
            [
             0.1111111111111111,
             "#46039f"
            ],
            [
             0.2222222222222222,
             "#7201a8"
            ],
            [
             0.3333333333333333,
             "#9c179e"
            ],
            [
             0.4444444444444444,
             "#bd3786"
            ],
            [
             0.5555555555555556,
             "#d8576b"
            ],
            [
             0.6666666666666666,
             "#ed7953"
            ],
            [
             0.7777777777777778,
             "#fb9f3a"
            ],
            [
             0.8888888888888888,
             "#fdca26"
            ],
            [
             1,
             "#f0f921"
            ]
           ],
           "sequentialminus": [
            [
             0,
             "#0d0887"
            ],
            [
             0.1111111111111111,
             "#46039f"
            ],
            [
             0.2222222222222222,
             "#7201a8"
            ],
            [
             0.3333333333333333,
             "#9c179e"
            ],
            [
             0.4444444444444444,
             "#bd3786"
            ],
            [
             0.5555555555555556,
             "#d8576b"
            ],
            [
             0.6666666666666666,
             "#ed7953"
            ],
            [
             0.7777777777777778,
             "#fb9f3a"
            ],
            [
             0.8888888888888888,
             "#fdca26"
            ],
            [
             1,
             "#f0f921"
            ]
           ]
          },
          "colorway": [
           "#636efa",
           "#EF553B",
           "#00cc96",
           "#ab63fa",
           "#FFA15A",
           "#19d3f3",
           "#FF6692",
           "#B6E880",
           "#FF97FF",
           "#FECB52"
          ],
          "font": {
           "color": "#2a3f5f"
          },
          "geo": {
           "bgcolor": "white",
           "lakecolor": "white",
           "landcolor": "#E5ECF6",
           "showlakes": true,
           "showland": true,
           "subunitcolor": "white"
          },
          "hoverlabel": {
           "align": "left"
          },
          "hovermode": "closest",
          "mapbox": {
           "style": "light"
          },
          "paper_bgcolor": "white",
          "plot_bgcolor": "#E5ECF6",
          "polar": {
           "angularaxis": {
            "gridcolor": "white",
            "linecolor": "white",
            "ticks": ""
           },
           "bgcolor": "#E5ECF6",
           "radialaxis": {
            "gridcolor": "white",
            "linecolor": "white",
            "ticks": ""
           }
          },
          "scene": {
           "xaxis": {
            "backgroundcolor": "#E5ECF6",
            "gridcolor": "white",
            "gridwidth": 2,
            "linecolor": "white",
            "showbackground": true,
            "ticks": "",
            "zerolinecolor": "white"
           },
           "yaxis": {
            "backgroundcolor": "#E5ECF6",
            "gridcolor": "white",
            "gridwidth": 2,
            "linecolor": "white",
            "showbackground": true,
            "ticks": "",
            "zerolinecolor": "white"
           },
           "zaxis": {
            "backgroundcolor": "#E5ECF6",
            "gridcolor": "white",
            "gridwidth": 2,
            "linecolor": "white",
            "showbackground": true,
            "ticks": "",
            "zerolinecolor": "white"
           }
          },
          "shapedefaults": {
           "line": {
            "color": "#2a3f5f"
           }
          },
          "ternary": {
           "aaxis": {
            "gridcolor": "white",
            "linecolor": "white",
            "ticks": ""
           },
           "baxis": {
            "gridcolor": "white",
            "linecolor": "white",
            "ticks": ""
           },
           "bgcolor": "#E5ECF6",
           "caxis": {
            "gridcolor": "white",
            "linecolor": "white",
            "ticks": ""
           }
          },
          "title": {
           "x": 0.05
          },
          "xaxis": {
           "automargin": true,
           "gridcolor": "white",
           "linecolor": "white",
           "ticks": "",
           "title": {
            "standoff": 15
           },
           "zerolinecolor": "white",
           "zerolinewidth": 2
          },
          "yaxis": {
           "automargin": true,
           "gridcolor": "white",
           "linecolor": "white",
           "ticks": "",
           "title": {
            "standoff": 15
           },
           "zerolinecolor": "white",
           "zerolinewidth": 2
          }
         }
        },
        "xaxis": {
         "anchor": "y",
         "domain": [
          0,
          1
         ],
         "title": {
          "text": "upvotes"
         }
        },
        "yaxis": {
         "anchor": "x",
         "domain": [
          0,
          1
         ],
         "title": {
          "text": "comments"
         }
        }
       }
      }
     },
     "metadata": {},
     "output_type": "display_data"
    },
    {
     "name": "stdout",
     "output_type": "stream",
     "text": [
      "Correlation between upvotes and comments: 0.23755678243751652\n"
     ]
    }
   ],
   "source": [
    "# Calculate the correlation between upvotes and comments\n",
    "corr_upvotes_comments = df['upvotes'].corr(df['comments'])\n",
    "\n",
    "# Create a scatter plot of upvotes vs comments with a trendline\n",
    "fig = px.scatter(df, x='upvotes', y='comments', trendline='ols', labels={'x': 'Number of Upvotes', 'y': 'Number of Comments'})\n",
    "fig.show()\n",
    "\n",
    "print('Correlation between upvotes and comments:', corr_upvotes_comments)"
   ]
  },
  {
   "cell_type": "markdown",
   "metadata": {},
   "source": [
    "**Popularity of subreddit**\n",
    "\n",
    "We multiply the median of votes and the median of comments by the number of posts in the subreddit (I don't know if this is the right way)"
   ]
  },
  {
   "cell_type": "code",
   "execution_count": 6,
   "metadata": {
    "ExecuteTime": {
     "end_time": "2023-11-27T12:45:21.293050238Z",
     "start_time": "2023-11-27T12:45:21.094812197Z"
    }
   },
   "outputs": [
    {
     "data": {
      "application/vnd.plotly.v1+json": {
       "config": {
        "plotlyServerURL": "https://plot.ly"
       },
       "data": [
        {
         "alignmentgroup": "True",
         "hovertemplate": "subreddit=%{x}<br>popularity=%{marker.color}<extra></extra>",
         "legendgroup": "",
         "marker": {
          "color": [
           419.25,
           276,
           156,
           127.5,
           114,
           85.5,
           73.5,
           60,
           41.25,
           29.25,
           28.5,
           27.75,
           26.25,
           22.5,
           15,
           15,
           14.25,
           14.25,
           13.5,
           13.5,
           10.5,
           9.75,
           9.75,
           6,
           6,
           6,
           5.25,
           4.5,
           4.5,
           3.75,
           3.75,
           3.75,
           3,
           3,
           3,
           3,
           3,
           2.25,
           2.25,
           2.25,
           2.25,
           2.25,
           2.25,
           1.5,
           1.5,
           1.5,
           1.5,
           1.5,
           1.5,
           1.5,
           1.5,
           1.5,
           1.5,
           0.75,
           0.75,
           0.75,
           0.75,
           0.75,
           0.75,
           0.75,
           0.75,
           0.75,
           0.75,
           0.75,
           0.75,
           0.75,
           0.75,
           0.75,
           0.75,
           0.75,
           0.75,
           0.75,
           0.75,
           0.75,
           0.75,
           0.75,
           0.75,
           0.75,
           0.75,
           0.75,
           0.75,
           0.75,
           0.75,
           0.75,
           0.75
          ],
          "coloraxis": "coloraxis",
          "line": {
           "color": "rgb(8,48,107)",
           "width": 1.5
          },
          "pattern": {
           "shape": ""
          }
         },
         "name": "",
         "offsetgroup": "",
         "opacity": 0.8,
         "orientation": "v",
         "showlegend": false,
         "textposition": "auto",
         "type": "bar",
         "x": [
          "r/memes",
          "r/pics",
          "r/funny",
          "r/aww",
          "r/nextfuckinglevel",
          "r/gaming",
          "r/gifs",
          "r/interestingasfuck",
          "r/wallstreetbets",
          "r/news",
          "r/PublicFreakout",
          "r/MurderedByWords",
          "r/worldnews",
          "r/MadeMeSmile",
          "r/todayilearned",
          "r/wholesomememes",
          "r/WhitePeopleTwitter",
          "r/AskReddit",
          "r/mildlyinteresting",
          "r/WatchPeopleDieInside",
          "r/Showerthoughts",
          "r/facepalm",
          "r/videos",
          "r/teenagers",
          "r/PrequelMemes",
          "r/Wellthatsucks",
          "r/space",
          "r/movies",
          "r/politics",
          "r/me_irl",
          "r/IdiotsInCars",
          "r/awfuleverything",
          "r/LifeProTips",
          "r/tifu",
          "r/BlackPeopleTwitter",
          "r/announcements",
          "r/PewdiepieSubmissions",
          "r/thanosdidnothingwrong",
          "r/technology",
          "r/trashy",
          "r/oddlysatisfying",
          "r/insanepeoplefacebook",
          "r/BikiniBottomTwitter",
          "r/JusticeServed",
          "r/Futurology",
          "r/instant_regret",
          "r/iamatotalpieceofshit",
          "r/Jokes",
          "r/UpliftingNews",
          "r/rickandmorty",
          "r/science",
          "r/IAmA",
          "r/LeopardsAteMyFace",
          "r/pokemon",
          "r/ChoosingBeggars",
          "r/pcmasterrace",
          "r/quityourbullshit",
          "r/Damnthatsinteresting",
          "r/nottheonion",
          "r/BeAmazed",
          "r/Coronavirus",
          "r/sports",
          "r/gifsthatkeepongiving",
          "r/DunderMifflin",
          "r/lotrmemes",
          "r/MemeEconomy",
          "r/Music",
          "r/OldSchoolCool",
          "r/PoliticalHumor",
          "r/Instagramreality",
          "r/StarWarsBattlefront",
          "r/The_Mueller",
          "r/TwoXChromosomes",
          "r/Whatcouldgowrong",
          "r/assholedesign",
          "r/AyyMD",
          "r/comics",
          "r/coolguides",
          "r/dataisbeautiful",
          "r/freefolk",
          "r/HongKong",
          "r/HolUp",
          "r/GetMotivated",
          "r/listentothis",
          "r/books"
         ],
         "xaxis": "x",
         "y": [
          419.25,
          276,
          156,
          127.5,
          114,
          85.5,
          73.5,
          60,
          41.25,
          29.25,
          28.5,
          27.75,
          26.25,
          22.5,
          15,
          15,
          14.25,
          14.25,
          13.5,
          13.5,
          10.5,
          9.75,
          9.75,
          6,
          6,
          6,
          5.25,
          4.5,
          4.5,
          3.75,
          3.75,
          3.75,
          3,
          3,
          3,
          3,
          3,
          2.25,
          2.25,
          2.25,
          2.25,
          2.25,
          2.25,
          1.5,
          1.5,
          1.5,
          1.5,
          1.5,
          1.5,
          1.5,
          1.5,
          1.5,
          1.5,
          0.75,
          0.75,
          0.75,
          0.75,
          0.75,
          0.75,
          0.75,
          0.75,
          0.75,
          0.75,
          0.75,
          0.75,
          0.75,
          0.75,
          0.75,
          0.75,
          0.75,
          0.75,
          0.75,
          0.75,
          0.75,
          0.75,
          0.75,
          0.75,
          0.75,
          0.75,
          0.75,
          0.75,
          0.75,
          0.75,
          0.75,
          0.75
         ],
         "yaxis": "y"
        }
       ],
       "layout": {
        "barmode": "relative",
        "coloraxis": {
         "colorbar": {
          "title": {
           "text": "popularity"
          }
         },
         "colorscale": [
          [
           0,
           "rgb(247,251,255)"
          ],
          [
           0.125,
           "rgb(222,235,247)"
          ],
          [
           0.25,
           "rgb(198,219,239)"
          ],
          [
           0.375,
           "rgb(158,202,225)"
          ],
          [
           0.5,
           "rgb(107,174,214)"
          ],
          [
           0.625,
           "rgb(66,146,198)"
          ],
          [
           0.75,
           "rgb(33,113,181)"
          ],
          [
           0.875,
           "rgb(8,81,156)"
          ],
          [
           1,
           "rgb(8,48,107)"
          ]
         ]
        },
        "font": {
         "color": "black",
         "size": 14
        },
        "legend": {
         "tracegroupgap": 0
        },
        "showlegend": false,
        "template": {
         "data": {
          "bar": [
           {
            "error_x": {
             "color": "#2a3f5f"
            },
            "error_y": {
             "color": "#2a3f5f"
            },
            "marker": {
             "line": {
              "color": "#E5ECF6",
              "width": 0.5
             },
             "pattern": {
              "fillmode": "overlay",
              "size": 10,
              "solidity": 0.2
             }
            },
            "type": "bar"
           }
          ],
          "barpolar": [
           {
            "marker": {
             "line": {
              "color": "#E5ECF6",
              "width": 0.5
             },
             "pattern": {
              "fillmode": "overlay",
              "size": 10,
              "solidity": 0.2
             }
            },
            "type": "barpolar"
           }
          ],
          "carpet": [
           {
            "aaxis": {
             "endlinecolor": "#2a3f5f",
             "gridcolor": "white",
             "linecolor": "white",
             "minorgridcolor": "white",
             "startlinecolor": "#2a3f5f"
            },
            "baxis": {
             "endlinecolor": "#2a3f5f",
             "gridcolor": "white",
             "linecolor": "white",
             "minorgridcolor": "white",
             "startlinecolor": "#2a3f5f"
            },
            "type": "carpet"
           }
          ],
          "choropleth": [
           {
            "colorbar": {
             "outlinewidth": 0,
             "ticks": ""
            },
            "type": "choropleth"
           }
          ],
          "contour": [
           {
            "colorbar": {
             "outlinewidth": 0,
             "ticks": ""
            },
            "colorscale": [
             [
              0,
              "#0d0887"
             ],
             [
              0.1111111111111111,
              "#46039f"
             ],
             [
              0.2222222222222222,
              "#7201a8"
             ],
             [
              0.3333333333333333,
              "#9c179e"
             ],
             [
              0.4444444444444444,
              "#bd3786"
             ],
             [
              0.5555555555555556,
              "#d8576b"
             ],
             [
              0.6666666666666666,
              "#ed7953"
             ],
             [
              0.7777777777777778,
              "#fb9f3a"
             ],
             [
              0.8888888888888888,
              "#fdca26"
             ],
             [
              1,
              "#f0f921"
             ]
            ],
            "type": "contour"
           }
          ],
          "contourcarpet": [
           {
            "colorbar": {
             "outlinewidth": 0,
             "ticks": ""
            },
            "type": "contourcarpet"
           }
          ],
          "heatmap": [
           {
            "colorbar": {
             "outlinewidth": 0,
             "ticks": ""
            },
            "colorscale": [
             [
              0,
              "#0d0887"
             ],
             [
              0.1111111111111111,
              "#46039f"
             ],
             [
              0.2222222222222222,
              "#7201a8"
             ],
             [
              0.3333333333333333,
              "#9c179e"
             ],
             [
              0.4444444444444444,
              "#bd3786"
             ],
             [
              0.5555555555555556,
              "#d8576b"
             ],
             [
              0.6666666666666666,
              "#ed7953"
             ],
             [
              0.7777777777777778,
              "#fb9f3a"
             ],
             [
              0.8888888888888888,
              "#fdca26"
             ],
             [
              1,
              "#f0f921"
             ]
            ],
            "type": "heatmap"
           }
          ],
          "heatmapgl": [
           {
            "colorbar": {
             "outlinewidth": 0,
             "ticks": ""
            },
            "colorscale": [
             [
              0,
              "#0d0887"
             ],
             [
              0.1111111111111111,
              "#46039f"
             ],
             [
              0.2222222222222222,
              "#7201a8"
             ],
             [
              0.3333333333333333,
              "#9c179e"
             ],
             [
              0.4444444444444444,
              "#bd3786"
             ],
             [
              0.5555555555555556,
              "#d8576b"
             ],
             [
              0.6666666666666666,
              "#ed7953"
             ],
             [
              0.7777777777777778,
              "#fb9f3a"
             ],
             [
              0.8888888888888888,
              "#fdca26"
             ],
             [
              1,
              "#f0f921"
             ]
            ],
            "type": "heatmapgl"
           }
          ],
          "histogram": [
           {
            "marker": {
             "pattern": {
              "fillmode": "overlay",
              "size": 10,
              "solidity": 0.2
             }
            },
            "type": "histogram"
           }
          ],
          "histogram2d": [
           {
            "colorbar": {
             "outlinewidth": 0,
             "ticks": ""
            },
            "colorscale": [
             [
              0,
              "#0d0887"
             ],
             [
              0.1111111111111111,
              "#46039f"
             ],
             [
              0.2222222222222222,
              "#7201a8"
             ],
             [
              0.3333333333333333,
              "#9c179e"
             ],
             [
              0.4444444444444444,
              "#bd3786"
             ],
             [
              0.5555555555555556,
              "#d8576b"
             ],
             [
              0.6666666666666666,
              "#ed7953"
             ],
             [
              0.7777777777777778,
              "#fb9f3a"
             ],
             [
              0.8888888888888888,
              "#fdca26"
             ],
             [
              1,
              "#f0f921"
             ]
            ],
            "type": "histogram2d"
           }
          ],
          "histogram2dcontour": [
           {
            "colorbar": {
             "outlinewidth": 0,
             "ticks": ""
            },
            "colorscale": [
             [
              0,
              "#0d0887"
             ],
             [
              0.1111111111111111,
              "#46039f"
             ],
             [
              0.2222222222222222,
              "#7201a8"
             ],
             [
              0.3333333333333333,
              "#9c179e"
             ],
             [
              0.4444444444444444,
              "#bd3786"
             ],
             [
              0.5555555555555556,
              "#d8576b"
             ],
             [
              0.6666666666666666,
              "#ed7953"
             ],
             [
              0.7777777777777778,
              "#fb9f3a"
             ],
             [
              0.8888888888888888,
              "#fdca26"
             ],
             [
              1,
              "#f0f921"
             ]
            ],
            "type": "histogram2dcontour"
           }
          ],
          "mesh3d": [
           {
            "colorbar": {
             "outlinewidth": 0,
             "ticks": ""
            },
            "type": "mesh3d"
           }
          ],
          "parcoords": [
           {
            "line": {
             "colorbar": {
              "outlinewidth": 0,
              "ticks": ""
             }
            },
            "type": "parcoords"
           }
          ],
          "pie": [
           {
            "automargin": true,
            "type": "pie"
           }
          ],
          "scatter": [
           {
            "fillpattern": {
             "fillmode": "overlay",
             "size": 10,
             "solidity": 0.2
            },
            "type": "scatter"
           }
          ],
          "scatter3d": [
           {
            "line": {
             "colorbar": {
              "outlinewidth": 0,
              "ticks": ""
             }
            },
            "marker": {
             "colorbar": {
              "outlinewidth": 0,
              "ticks": ""
             }
            },
            "type": "scatter3d"
           }
          ],
          "scattercarpet": [
           {
            "marker": {
             "colorbar": {
              "outlinewidth": 0,
              "ticks": ""
             }
            },
            "type": "scattercarpet"
           }
          ],
          "scattergeo": [
           {
            "marker": {
             "colorbar": {
              "outlinewidth": 0,
              "ticks": ""
             }
            },
            "type": "scattergeo"
           }
          ],
          "scattergl": [
           {
            "marker": {
             "colorbar": {
              "outlinewidth": 0,
              "ticks": ""
             }
            },
            "type": "scattergl"
           }
          ],
          "scattermapbox": [
           {
            "marker": {
             "colorbar": {
              "outlinewidth": 0,
              "ticks": ""
             }
            },
            "type": "scattermapbox"
           }
          ],
          "scatterpolar": [
           {
            "marker": {
             "colorbar": {
              "outlinewidth": 0,
              "ticks": ""
             }
            },
            "type": "scatterpolar"
           }
          ],
          "scatterpolargl": [
           {
            "marker": {
             "colorbar": {
              "outlinewidth": 0,
              "ticks": ""
             }
            },
            "type": "scatterpolargl"
           }
          ],
          "scatterternary": [
           {
            "marker": {
             "colorbar": {
              "outlinewidth": 0,
              "ticks": ""
             }
            },
            "type": "scatterternary"
           }
          ],
          "surface": [
           {
            "colorbar": {
             "outlinewidth": 0,
             "ticks": ""
            },
            "colorscale": [
             [
              0,
              "#0d0887"
             ],
             [
              0.1111111111111111,
              "#46039f"
             ],
             [
              0.2222222222222222,
              "#7201a8"
             ],
             [
              0.3333333333333333,
              "#9c179e"
             ],
             [
              0.4444444444444444,
              "#bd3786"
             ],
             [
              0.5555555555555556,
              "#d8576b"
             ],
             [
              0.6666666666666666,
              "#ed7953"
             ],
             [
              0.7777777777777778,
              "#fb9f3a"
             ],
             [
              0.8888888888888888,
              "#fdca26"
             ],
             [
              1,
              "#f0f921"
             ]
            ],
            "type": "surface"
           }
          ],
          "table": [
           {
            "cells": {
             "fill": {
              "color": "#EBF0F8"
             },
             "line": {
              "color": "white"
             }
            },
            "header": {
             "fill": {
              "color": "#C8D4E3"
             },
             "line": {
              "color": "white"
             }
            },
            "type": "table"
           }
          ]
         },
         "layout": {
          "annotationdefaults": {
           "arrowcolor": "#2a3f5f",
           "arrowhead": 0,
           "arrowwidth": 1
          },
          "autotypenumbers": "strict",
          "coloraxis": {
           "colorbar": {
            "outlinewidth": 0,
            "ticks": ""
           }
          },
          "colorscale": {
           "diverging": [
            [
             0,
             "#8e0152"
            ],
            [
             0.1,
             "#c51b7d"
            ],
            [
             0.2,
             "#de77ae"
            ],
            [
             0.3,
             "#f1b6da"
            ],
            [
             0.4,
             "#fde0ef"
            ],
            [
             0.5,
             "#f7f7f7"
            ],
            [
             0.6,
             "#e6f5d0"
            ],
            [
             0.7,
             "#b8e186"
            ],
            [
             0.8,
             "#7fbc41"
            ],
            [
             0.9,
             "#4d9221"
            ],
            [
             1,
             "#276419"
            ]
           ],
           "sequential": [
            [
             0,
             "#0d0887"
            ],
            [
             0.1111111111111111,
             "#46039f"
            ],
            [
             0.2222222222222222,
             "#7201a8"
            ],
            [
             0.3333333333333333,
             "#9c179e"
            ],
            [
             0.4444444444444444,
             "#bd3786"
            ],
            [
             0.5555555555555556,
             "#d8576b"
            ],
            [
             0.6666666666666666,
             "#ed7953"
            ],
            [
             0.7777777777777778,
             "#fb9f3a"
            ],
            [
             0.8888888888888888,
             "#fdca26"
            ],
            [
             1,
             "#f0f921"
            ]
           ],
           "sequentialminus": [
            [
             0,
             "#0d0887"
            ],
            [
             0.1111111111111111,
             "#46039f"
            ],
            [
             0.2222222222222222,
             "#7201a8"
            ],
            [
             0.3333333333333333,
             "#9c179e"
            ],
            [
             0.4444444444444444,
             "#bd3786"
            ],
            [
             0.5555555555555556,
             "#d8576b"
            ],
            [
             0.6666666666666666,
             "#ed7953"
            ],
            [
             0.7777777777777778,
             "#fb9f3a"
            ],
            [
             0.8888888888888888,
             "#fdca26"
            ],
            [
             1,
             "#f0f921"
            ]
           ]
          },
          "colorway": [
           "#636efa",
           "#EF553B",
           "#00cc96",
           "#ab63fa",
           "#FFA15A",
           "#19d3f3",
           "#FF6692",
           "#B6E880",
           "#FF97FF",
           "#FECB52"
          ],
          "font": {
           "color": "#2a3f5f"
          },
          "geo": {
           "bgcolor": "white",
           "lakecolor": "white",
           "landcolor": "#E5ECF6",
           "showlakes": true,
           "showland": true,
           "subunitcolor": "white"
          },
          "hoverlabel": {
           "align": "left"
          },
          "hovermode": "closest",
          "mapbox": {
           "style": "light"
          },
          "paper_bgcolor": "white",
          "plot_bgcolor": "#E5ECF6",
          "polar": {
           "angularaxis": {
            "gridcolor": "white",
            "linecolor": "white",
            "ticks": ""
           },
           "bgcolor": "#E5ECF6",
           "radialaxis": {
            "gridcolor": "white",
            "linecolor": "white",
            "ticks": ""
           }
          },
          "scene": {
           "xaxis": {
            "backgroundcolor": "#E5ECF6",
            "gridcolor": "white",
            "gridwidth": 2,
            "linecolor": "white",
            "showbackground": true,
            "ticks": "",
            "zerolinecolor": "white"
           },
           "yaxis": {
            "backgroundcolor": "#E5ECF6",
            "gridcolor": "white",
            "gridwidth": 2,
            "linecolor": "white",
            "showbackground": true,
            "ticks": "",
            "zerolinecolor": "white"
           },
           "zaxis": {
            "backgroundcolor": "#E5ECF6",
            "gridcolor": "white",
            "gridwidth": 2,
            "linecolor": "white",
            "showbackground": true,
            "ticks": "",
            "zerolinecolor": "white"
           }
          },
          "shapedefaults": {
           "line": {
            "color": "#2a3f5f"
           }
          },
          "ternary": {
           "aaxis": {
            "gridcolor": "white",
            "linecolor": "white",
            "ticks": ""
           },
           "baxis": {
            "gridcolor": "white",
            "linecolor": "white",
            "ticks": ""
           },
           "bgcolor": "#E5ECF6",
           "caxis": {
            "gridcolor": "white",
            "linecolor": "white",
            "ticks": ""
           }
          },
          "title": {
           "x": 0.05
          },
          "xaxis": {
           "automargin": true,
           "gridcolor": "white",
           "linecolor": "white",
           "ticks": "",
           "title": {
            "standoff": 15
           },
           "zerolinecolor": "white",
           "zerolinewidth": 2
          },
          "yaxis": {
           "automargin": true,
           "gridcolor": "white",
           "linecolor": "white",
           "ticks": "",
           "title": {
            "standoff": 15
           },
           "zerolinecolor": "white",
           "zerolinewidth": 2
          }
         }
        },
        "title": {
         "font": {
          "size": 24
         },
         "text": "Popularity of subreddit",
         "x": 0.5,
         "y": 0.95
        },
        "xaxis": {
         "anchor": "y",
         "domain": [
          0,
          1
         ],
         "tickangle": -45,
         "title": {
          "text": ""
         }
        },
        "yaxis": {
         "anchor": "x",
         "domain": [
          0,
          1
         ],
         "title": {
          "text": "Popularity"
         }
        }
       }
      }
     },
     "metadata": {},
     "output_type": "display_data"
    }
   ],
   "source": [
    "# # calculate the median number of comments and upvotes for each post\n",
    "popularity = df.groupby('subreddit').agg(upvotes_count=('upvotes', 'count'), \n",
    "                                                        comments_count=('comments', 'count'), \n",
    "                                                        post_count=('subreddit', 'count')).reset_index()\n",
    "\n",
    "# Calculate popularity by multiplying post count with median upvotes and comments\n",
    "popularity['popularity'] = popularity['upvotes_count'] * 0.25 + popularity['comments_count'] * 0.25 + popularity['comments_count'] * 0.25\n",
    "\n",
    "# Sort the data by popularity in descending ord\n",
    "popularity = popularity.sort_values(by='popularity', ascending=False)\n",
    "\n",
    "# create a bar chart using Plotly\n",
    "fig = px.bar(popularity, x='subreddit', y='popularity', title='Popularity of subreddit',\n",
    "             color='popularity', color_continuous_scale='Blues')\n",
    "fig.update_traces(marker_line_color='rgb(8,48,107)', marker_line_width=1.5, opacity=0.8)\n",
    "fig.update_layout(xaxis_tickangle=-45, xaxis_title='', yaxis_title='Popularity', \n",
    "                  title_font_size=24, title_x=0.5, title_y=0.95, \n",
    "                  font=dict(size=14, color='black'))\n",
    "fig.update_layout(showlegend=False)\n",
    "\n",
    "fig.show()"
   ]
  },
  {
   "cell_type": "code",
   "execution_count": 7,
   "metadata": {
    "ExecuteTime": {
     "end_time": "2023-11-27T12:59:10.114806716Z",
     "start_time": "2023-11-27T12:59:08.589911087Z"
    },
    "collapsed": false
   },
   "outputs": [
    {
     "data": {
      "application/vnd.plotly.v1+json": {
       "config": {
        "plotlyServerURL": "https://plot.ly"
       },
       "data": [
        {
         "alignmentgroup": "True",
         "hovertemplate": "subreddit=%{x}<br>Upvotes=%{y}<extra></extra>",
         "legendgroup": "r/memes",
         "marker": {
          "color": "#636efa",
          "pattern": {
           "shape": ""
          }
         },
         "name": "r/memes",
         "offsetgroup": "r/memes",
         "orientation": "v",
         "showlegend": true,
         "textposition": "auto",
         "type": "bar",
         "x": [
          "r/memes"
         ],
         "xaxis": "x",
         "y": [
          86916000
         ],
         "yaxis": "y"
        },
        {
         "alignmentgroup": "True",
         "hovertemplate": "subreddit=%{x}<br>Upvotes=%{y}<extra></extra>",
         "legendgroup": "r/pics",
         "marker": {
          "color": "#EF553B",
          "pattern": {
           "shape": ""
          }
         },
         "name": "r/pics",
         "offsetgroup": "r/pics",
         "orientation": "v",
         "showlegend": true,
         "textposition": "auto",
         "type": "bar",
         "x": [
          "r/pics"
         ],
         "xaxis": "x",
         "y": [
          57302000
         ],
         "yaxis": "y"
        },
        {
         "alignmentgroup": "True",
         "hovertemplate": "subreddit=%{x}<br>Upvotes=%{y}<extra></extra>",
         "legendgroup": "r/funny",
         "marker": {
          "color": "#00cc96",
          "pattern": {
           "shape": ""
          }
         },
         "name": "r/funny",
         "offsetgroup": "r/funny",
         "orientation": "v",
         "showlegend": true,
         "textposition": "auto",
         "type": "bar",
         "x": [
          "r/funny"
         ],
         "xaxis": "x",
         "y": [
          31632000
         ],
         "yaxis": "y"
        },
        {
         "alignmentgroup": "True",
         "hovertemplate": "subreddit=%{x}<br>Upvotes=%{y}<extra></extra>",
         "legendgroup": "r/aww",
         "marker": {
          "color": "#ab63fa",
          "pattern": {
           "shape": ""
          }
         },
         "name": "r/aww",
         "offsetgroup": "r/aww",
         "orientation": "v",
         "showlegend": true,
         "textposition": "auto",
         "type": "bar",
         "x": [
          "r/aww"
         ],
         "xaxis": "x",
         "y": [
          26105000
         ],
         "yaxis": "y"
        },
        {
         "alignmentgroup": "True",
         "hovertemplate": "subreddit=%{x}<br>Upvotes=%{y}<extra></extra>",
         "legendgroup": "r/nextfuckinglevel",
         "marker": {
          "color": "#FFA15A",
          "pattern": {
           "shape": ""
          }
         },
         "name": "r/nextfuckinglevel",
         "offsetgroup": "r/nextfuckinglevel",
         "orientation": "v",
         "showlegend": true,
         "textposition": "auto",
         "type": "bar",
         "x": [
          "r/nextfuckinglevel"
         ],
         "xaxis": "x",
         "y": [
          23911000
         ],
         "yaxis": "y"
        },
        {
         "alignmentgroup": "True",
         "hovertemplate": "subreddit=%{x}<br>Upvotes=%{y}<extra></extra>",
         "legendgroup": "r/gaming",
         "marker": {
          "color": "#19d3f3",
          "pattern": {
           "shape": ""
          }
         },
         "name": "r/gaming",
         "offsetgroup": "r/gaming",
         "orientation": "v",
         "showlegend": true,
         "textposition": "auto",
         "type": "bar",
         "x": [
          "r/gaming"
         ],
         "xaxis": "x",
         "y": [
          17034000
         ],
         "yaxis": "y"
        },
        {
         "alignmentgroup": "True",
         "hovertemplate": "subreddit=%{x}<br>Upvotes=%{y}<extra></extra>",
         "legendgroup": "r/gifs",
         "marker": {
          "color": "#FF6692",
          "pattern": {
           "shape": ""
          }
         },
         "name": "r/gifs",
         "offsetgroup": "r/gifs",
         "orientation": "v",
         "showlegend": true,
         "textposition": "auto",
         "type": "bar",
         "x": [
          "r/gifs"
         ],
         "xaxis": "x",
         "y": [
          14785000
         ],
         "yaxis": "y"
        },
        {
         "alignmentgroup": "True",
         "hovertemplate": "subreddit=%{x}<br>Upvotes=%{y}<extra></extra>",
         "legendgroup": "r/interestingasfuck",
         "marker": {
          "color": "#B6E880",
          "pattern": {
           "shape": ""
          }
         },
         "name": "r/interestingasfuck",
         "offsetgroup": "r/interestingasfuck",
         "orientation": "v",
         "showlegend": true,
         "textposition": "auto",
         "type": "bar",
         "x": [
          "r/interestingasfuck"
         ],
         "xaxis": "x",
         "y": [
          12479000
         ],
         "yaxis": "y"
        },
        {
         "alignmentgroup": "True",
         "hovertemplate": "subreddit=%{x}<br>Upvotes=%{y}<extra></extra>",
         "legendgroup": "r/wallstreetbets",
         "marker": {
          "color": "#FF97FF",
          "pattern": {
           "shape": ""
          }
         },
         "name": "r/wallstreetbets",
         "offsetgroup": "r/wallstreetbets",
         "orientation": "v",
         "showlegend": true,
         "textposition": "auto",
         "type": "bar",
         "x": [
          "r/wallstreetbets"
         ],
         "xaxis": "x",
         "y": [
          9860000
         ],
         "yaxis": "y"
        },
        {
         "alignmentgroup": "True",
         "hovertemplate": "subreddit=%{x}<br>Upvotes=%{y}<extra></extra>",
         "legendgroup": "r/news",
         "marker": {
          "color": "#FECB52",
          "pattern": {
           "shape": ""
          }
         },
         "name": "r/news",
         "offsetgroup": "r/news",
         "orientation": "v",
         "showlegend": true,
         "textposition": "auto",
         "type": "bar",
         "x": [
          "r/news"
         ],
         "xaxis": "x",
         "y": [
          6580000
         ],
         "yaxis": "y"
        },
        {
         "alignmentgroup": "True",
         "hovertemplate": "subreddit=%{x}<br>Upvotes=%{y}<extra></extra>",
         "legendgroup": "r/PublicFreakout",
         "marker": {
          "color": "#636efa",
          "pattern": {
           "shape": ""
          }
         },
         "name": "r/PublicFreakout",
         "offsetgroup": "r/PublicFreakout",
         "orientation": "v",
         "showlegend": true,
         "textposition": "auto",
         "type": "bar",
         "x": [
          "r/PublicFreakout"
         ],
         "xaxis": "x",
         "y": [
          6168000
         ],
         "yaxis": "y"
        },
        {
         "alignmentgroup": "True",
         "hovertemplate": "subreddit=%{x}<br>Upvotes=%{y}<extra></extra>",
         "legendgroup": "r/MurderedByWords",
         "marker": {
          "color": "#EF553B",
          "pattern": {
           "shape": ""
          }
         },
         "name": "r/MurderedByWords",
         "offsetgroup": "r/MurderedByWords",
         "orientation": "v",
         "showlegend": true,
         "textposition": "auto",
         "type": "bar",
         "x": [
          "r/MurderedByWords"
         ],
         "xaxis": "x",
         "y": [
          5737000
         ],
         "yaxis": "y"
        },
        {
         "alignmentgroup": "True",
         "hovertemplate": "subreddit=%{x}<br>Upvotes=%{y}<extra></extra>",
         "legendgroup": "r/worldnews",
         "marker": {
          "color": "#00cc96",
          "pattern": {
           "shape": ""
          }
         },
         "name": "r/worldnews",
         "offsetgroup": "r/worldnews",
         "orientation": "v",
         "showlegend": true,
         "textposition": "auto",
         "type": "bar",
         "x": [
          "r/worldnews"
         ],
         "xaxis": "x",
         "y": [
          5016000
         ],
         "yaxis": "y"
        },
        {
         "alignmentgroup": "True",
         "hovertemplate": "subreddit=%{x}<br>Upvotes=%{y}<extra></extra>",
         "legendgroup": "r/MadeMeSmile",
         "marker": {
          "color": "#ab63fa",
          "pattern": {
           "shape": ""
          }
         },
         "name": "r/MadeMeSmile",
         "offsetgroup": "r/MadeMeSmile",
         "orientation": "v",
         "showlegend": true,
         "textposition": "auto",
         "type": "bar",
         "x": [
          "r/MadeMeSmile"
         ],
         "xaxis": "x",
         "y": [
          4622000
         ],
         "yaxis": "y"
        },
        {
         "alignmentgroup": "True",
         "hovertemplate": "subreddit=%{x}<br>Upvotes=%{y}<extra></extra>",
         "legendgroup": "r/wholesomememes",
         "marker": {
          "color": "#FFA15A",
          "pattern": {
           "shape": ""
          }
         },
         "name": "r/wholesomememes",
         "offsetgroup": "r/wholesomememes",
         "orientation": "v",
         "showlegend": true,
         "textposition": "auto",
         "type": "bar",
         "x": [
          "r/wholesomememes"
         ],
         "xaxis": "x",
         "y": [
          3213000
         ],
         "yaxis": "y"
        },
        {
         "alignmentgroup": "True",
         "hovertemplate": "subreddit=%{x}<br>Upvotes=%{y}<extra></extra>",
         "legendgroup": "r/AskReddit",
         "marker": {
          "color": "#19d3f3",
          "pattern": {
           "shape": ""
          }
         },
         "name": "r/AskReddit",
         "offsetgroup": "r/AskReddit",
         "orientation": "v",
         "showlegend": true,
         "textposition": "auto",
         "type": "bar",
         "x": [
          "r/AskReddit"
         ],
         "xaxis": "x",
         "y": [
          3021000
         ],
         "yaxis": "y"
        },
        {
         "alignmentgroup": "True",
         "hovertemplate": "subreddit=%{x}<br>Upvotes=%{y}<extra></extra>",
         "legendgroup": "r/todayilearned",
         "marker": {
          "color": "#FF6692",
          "pattern": {
           "shape": ""
          }
         },
         "name": "r/todayilearned",
         "offsetgroup": "r/todayilearned",
         "orientation": "v",
         "showlegend": true,
         "textposition": "auto",
         "type": "bar",
         "x": [
          "r/todayilearned"
         ],
         "xaxis": "x",
         "y": [
          2970000
         ],
         "yaxis": "y"
        },
        {
         "alignmentgroup": "True",
         "hovertemplate": "subreddit=%{x}<br>Upvotes=%{y}<extra></extra>",
         "legendgroup": "r/WatchPeopleDieInside",
         "marker": {
          "color": "#B6E880",
          "pattern": {
           "shape": ""
          }
         },
         "name": "r/WatchPeopleDieInside",
         "offsetgroup": "r/WatchPeopleDieInside",
         "orientation": "v",
         "showlegend": true,
         "textposition": "auto",
         "type": "bar",
         "x": [
          "r/WatchPeopleDieInside"
         ],
         "xaxis": "x",
         "y": [
          2831000
         ],
         "yaxis": "y"
        },
        {
         "alignmentgroup": "True",
         "hovertemplate": "subreddit=%{x}<br>Upvotes=%{y}<extra></extra>",
         "legendgroup": "r/mildlyinteresting",
         "marker": {
          "color": "#FF97FF",
          "pattern": {
           "shape": ""
          }
         },
         "name": "r/mildlyinteresting",
         "offsetgroup": "r/mildlyinteresting",
         "orientation": "v",
         "showlegend": true,
         "textposition": "auto",
         "type": "bar",
         "x": [
          "r/mildlyinteresting"
         ],
         "xaxis": "x",
         "y": [
          2806000
         ],
         "yaxis": "y"
        },
        {
         "alignmentgroup": "True",
         "hovertemplate": "subreddit=%{x}<br>Upvotes=%{y}<extra></extra>",
         "legendgroup": "r/WhitePeopleTwitter",
         "marker": {
          "color": "#FECB52",
          "pattern": {
           "shape": ""
          }
         },
         "name": "r/WhitePeopleTwitter",
         "offsetgroup": "r/WhitePeopleTwitter",
         "orientation": "v",
         "showlegend": true,
         "textposition": "auto",
         "type": "bar",
         "x": [
          "r/WhitePeopleTwitter"
         ],
         "xaxis": "x",
         "y": [
          2780000
         ],
         "yaxis": "y"
        },
        {
         "alignmentgroup": "True",
         "hovertemplate": "subreddit=%{x}<br>Upvotes=%{y}<extra></extra>",
         "legendgroup": "r/Showerthoughts",
         "marker": {
          "color": "#636efa",
          "pattern": {
           "shape": ""
          }
         },
         "name": "r/Showerthoughts",
         "offsetgroup": "r/Showerthoughts",
         "orientation": "v",
         "showlegend": true,
         "textposition": "auto",
         "type": "bar",
         "x": [
          "r/Showerthoughts"
         ],
         "xaxis": "x",
         "y": [
          2133000
         ],
         "yaxis": "y"
        },
        {
         "alignmentgroup": "True",
         "hovertemplate": "subreddit=%{x}<br>Upvotes=%{y}<extra></extra>",
         "legendgroup": "r/videos",
         "marker": {
          "color": "#EF553B",
          "pattern": {
           "shape": ""
          }
         },
         "name": "r/videos",
         "offsetgroup": "r/videos",
         "orientation": "v",
         "showlegend": true,
         "textposition": "auto",
         "type": "bar",
         "x": [
          "r/videos"
         ],
         "xaxis": "x",
         "y": [
          2071000
         ],
         "yaxis": "y"
        },
        {
         "alignmentgroup": "True",
         "hovertemplate": "subreddit=%{x}<br>Upvotes=%{y}<extra></extra>",
         "legendgroup": "r/facepalm",
         "marker": {
          "color": "#00cc96",
          "pattern": {
           "shape": ""
          }
         },
         "name": "r/facepalm",
         "offsetgroup": "r/facepalm",
         "orientation": "v",
         "showlegend": true,
         "textposition": "auto",
         "type": "bar",
         "x": [
          "r/facepalm"
         ],
         "xaxis": "x",
         "y": [
          1939000
         ],
         "yaxis": "y"
        },
        {
         "alignmentgroup": "True",
         "hovertemplate": "subreddit=%{x}<br>Upvotes=%{y}<extra></extra>",
         "legendgroup": "r/PrequelMemes",
         "marker": {
          "color": "#ab63fa",
          "pattern": {
           "shape": ""
          }
         },
         "name": "r/PrequelMemes",
         "offsetgroup": "r/PrequelMemes",
         "orientation": "v",
         "showlegend": true,
         "textposition": "auto",
         "type": "bar",
         "x": [
          "r/PrequelMemes"
         ],
         "xaxis": "x",
         "y": [
          1383000
         ],
         "yaxis": "y"
        },
        {
         "alignmentgroup": "True",
         "hovertemplate": "subreddit=%{x}<br>Upvotes=%{y}<extra></extra>",
         "legendgroup": "r/teenagers",
         "marker": {
          "color": "#FFA15A",
          "pattern": {
           "shape": ""
          }
         },
         "name": "r/teenagers",
         "offsetgroup": "r/teenagers",
         "orientation": "v",
         "showlegend": true,
         "textposition": "auto",
         "type": "bar",
         "x": [
          "r/teenagers"
         ],
         "xaxis": "x",
         "y": [
          1289000
         ],
         "yaxis": "y"
        },
        {
         "alignmentgroup": "True",
         "hovertemplate": "subreddit=%{x}<br>Upvotes=%{y}<extra></extra>",
         "legendgroup": "r/movies",
         "marker": {
          "color": "#19d3f3",
          "pattern": {
           "shape": ""
          }
         },
         "name": "r/movies",
         "offsetgroup": "r/movies",
         "orientation": "v",
         "showlegend": true,
         "textposition": "auto",
         "type": "bar",
         "x": [
          "r/movies"
         ],
         "xaxis": "x",
         "y": [
          1209000
         ],
         "yaxis": "y"
        },
        {
         "alignmentgroup": "True",
         "hovertemplate": "subreddit=%{x}<br>Upvotes=%{y}<extra></extra>",
         "legendgroup": "r/space",
         "marker": {
          "color": "#FF6692",
          "pattern": {
           "shape": ""
          }
         },
         "name": "r/space",
         "offsetgroup": "r/space",
         "orientation": "v",
         "showlegend": true,
         "textposition": "auto",
         "type": "bar",
         "x": [
          "r/space"
         ],
         "xaxis": "x",
         "y": [
          1194000
         ],
         "yaxis": "y"
        },
        {
         "alignmentgroup": "True",
         "hovertemplate": "subreddit=%{x}<br>Upvotes=%{y}<extra></extra>",
         "legendgroup": "r/Wellthatsucks",
         "marker": {
          "color": "#B6E880",
          "pattern": {
           "shape": ""
          }
         },
         "name": "r/Wellthatsucks",
         "offsetgroup": "r/Wellthatsucks",
         "orientation": "v",
         "showlegend": true,
         "textposition": "auto",
         "type": "bar",
         "x": [
          "r/Wellthatsucks"
         ],
         "xaxis": "x",
         "y": [
          1156000
         ],
         "yaxis": "y"
        },
        {
         "alignmentgroup": "True",
         "hovertemplate": "subreddit=%{x}<br>Upvotes=%{y}<extra></extra>",
         "legendgroup": "r/politics",
         "marker": {
          "color": "#FF97FF",
          "pattern": {
           "shape": ""
          }
         },
         "name": "r/politics",
         "offsetgroup": "r/politics",
         "orientation": "v",
         "showlegend": true,
         "textposition": "auto",
         "type": "bar",
         "x": [
          "r/politics"
         ],
         "xaxis": "x",
         "y": [
          913000
         ],
         "yaxis": "y"
        },
        {
         "alignmentgroup": "True",
         "hovertemplate": "subreddit=%{x}<br>Upvotes=%{y}<extra></extra>",
         "legendgroup": "r/awfuleverything",
         "marker": {
          "color": "#FECB52",
          "pattern": {
           "shape": ""
          }
         },
         "name": "r/awfuleverything",
         "offsetgroup": "r/awfuleverything",
         "orientation": "v",
         "showlegend": true,
         "textposition": "auto",
         "type": "bar",
         "x": [
          "r/awfuleverything"
         ],
         "xaxis": "x",
         "y": [
          796000
         ],
         "yaxis": "y"
        },
        {
         "alignmentgroup": "True",
         "hovertemplate": "subreddit=%{x}<br>Upvotes=%{y}<extra></extra>",
         "legendgroup": "r/me_irl",
         "marker": {
          "color": "#636efa",
          "pattern": {
           "shape": ""
          }
         },
         "name": "r/me_irl",
         "offsetgroup": "r/me_irl",
         "orientation": "v",
         "showlegend": true,
         "textposition": "auto",
         "type": "bar",
         "x": [
          "r/me_irl"
         ],
         "xaxis": "x",
         "y": [
          783000
         ],
         "yaxis": "y"
        },
        {
         "alignmentgroup": "True",
         "hovertemplate": "subreddit=%{x}<br>Upvotes=%{y}<extra></extra>",
         "legendgroup": "r/IdiotsInCars",
         "marker": {
          "color": "#EF553B",
          "pattern": {
           "shape": ""
          }
         },
         "name": "r/IdiotsInCars",
         "offsetgroup": "r/IdiotsInCars",
         "orientation": "v",
         "showlegend": true,
         "textposition": "auto",
         "type": "bar",
         "x": [
          "r/IdiotsInCars"
         ],
         "xaxis": "x",
         "y": [
          768000
         ],
         "yaxis": "y"
        },
        {
         "alignmentgroup": "True",
         "hovertemplate": "subreddit=%{x}<br>Upvotes=%{y}<extra></extra>",
         "legendgroup": "r/announcements",
         "marker": {
          "color": "#00cc96",
          "pattern": {
           "shape": ""
          }
         },
         "name": "r/announcements",
         "offsetgroup": "r/announcements",
         "orientation": "v",
         "showlegend": true,
         "textposition": "auto",
         "type": "bar",
         "x": [
          "r/announcements"
         ],
         "xaxis": "x",
         "y": [
          681000
         ],
         "yaxis": "y"
        },
        {
         "alignmentgroup": "True",
         "hovertemplate": "subreddit=%{x}<br>Upvotes=%{y}<extra></extra>",
         "legendgroup": "r/PewdiepieSubmissions",
         "marker": {
          "color": "#ab63fa",
          "pattern": {
           "shape": ""
          }
         },
         "name": "r/PewdiepieSubmissions",
         "offsetgroup": "r/PewdiepieSubmissions",
         "orientation": "v",
         "showlegend": true,
         "textposition": "auto",
         "type": "bar",
         "x": [
          "r/PewdiepieSubmissions"
         ],
         "xaxis": "x",
         "y": [
          628000
         ],
         "yaxis": "y"
        },
        {
         "alignmentgroup": "True",
         "hovertemplate": "subreddit=%{x}<br>Upvotes=%{y}<extra></extra>",
         "legendgroup": "r/thanosdidnothingwrong",
         "marker": {
          "color": "#FFA15A",
          "pattern": {
           "shape": ""
          }
         },
         "name": "r/thanosdidnothingwrong",
         "offsetgroup": "r/thanosdidnothingwrong",
         "orientation": "v",
         "showlegend": true,
         "textposition": "auto",
         "type": "bar",
         "x": [
          "r/thanosdidnothingwrong"
         ],
         "xaxis": "x",
         "y": [
          628000
         ],
         "yaxis": "y"
        },
        {
         "alignmentgroup": "True",
         "hovertemplate": "subreddit=%{x}<br>Upvotes=%{y}<extra></extra>",
         "legendgroup": "r/LifeProTips",
         "marker": {
          "color": "#19d3f3",
          "pattern": {
           "shape": ""
          }
         },
         "name": "r/LifeProTips",
         "offsetgroup": "r/LifeProTips",
         "orientation": "v",
         "showlegend": true,
         "textposition": "auto",
         "type": "bar",
         "x": [
          "r/LifeProTips"
         ],
         "xaxis": "x",
         "y": [
          618000
         ],
         "yaxis": "y"
        },
        {
         "alignmentgroup": "True",
         "hovertemplate": "subreddit=%{x}<br>Upvotes=%{y}<extra></extra>",
         "legendgroup": "r/tifu",
         "marker": {
          "color": "#FF6692",
          "pattern": {
           "shape": ""
          }
         },
         "name": "r/tifu",
         "offsetgroup": "r/tifu",
         "orientation": "v",
         "showlegend": true,
         "textposition": "auto",
         "type": "bar",
         "x": [
          "r/tifu"
         ],
         "xaxis": "x",
         "y": [
          606000
         ],
         "yaxis": "y"
        },
        {
         "alignmentgroup": "True",
         "hovertemplate": "subreddit=%{x}<br>Upvotes=%{y}<extra></extra>",
         "legendgroup": "r/BlackPeopleTwitter",
         "marker": {
          "color": "#B6E880",
          "pattern": {
           "shape": ""
          }
         },
         "name": "r/BlackPeopleTwitter",
         "offsetgroup": "r/BlackPeopleTwitter",
         "orientation": "v",
         "showlegend": true,
         "textposition": "auto",
         "type": "bar",
         "x": [
          "r/BlackPeopleTwitter"
         ],
         "xaxis": "x",
         "y": [
          577000
         ],
         "yaxis": "y"
        },
        {
         "alignmentgroup": "True",
         "hovertemplate": "subreddit=%{x}<br>Upvotes=%{y}<extra></extra>",
         "legendgroup": "r/trashy",
         "marker": {
          "color": "#FF97FF",
          "pattern": {
           "shape": ""
          }
         },
         "name": "r/trashy",
         "offsetgroup": "r/trashy",
         "orientation": "v",
         "showlegend": true,
         "textposition": "auto",
         "type": "bar",
         "x": [
          "r/trashy"
         ],
         "xaxis": "x",
         "y": [
          500000
         ],
         "yaxis": "y"
        },
        {
         "alignmentgroup": "True",
         "hovertemplate": "subreddit=%{x}<br>Upvotes=%{y}<extra></extra>",
         "legendgroup": "r/oddlysatisfying",
         "marker": {
          "color": "#FECB52",
          "pattern": {
           "shape": ""
          }
         },
         "name": "r/oddlysatisfying",
         "offsetgroup": "r/oddlysatisfying",
         "orientation": "v",
         "showlegend": true,
         "textposition": "auto",
         "type": "bar",
         "x": [
          "r/oddlysatisfying"
         ],
         "xaxis": "x",
         "y": [
          477000
         ],
         "yaxis": "y"
        },
        {
         "alignmentgroup": "True",
         "hovertemplate": "subreddit=%{x}<br>Upvotes=%{y}<extra></extra>",
         "legendgroup": "r/BikiniBottomTwitter",
         "marker": {
          "color": "#636efa",
          "pattern": {
           "shape": ""
          }
         },
         "name": "r/BikiniBottomTwitter",
         "offsetgroup": "r/BikiniBottomTwitter",
         "orientation": "v",
         "showlegend": true,
         "textposition": "auto",
         "type": "bar",
         "x": [
          "r/BikiniBottomTwitter"
         ],
         "xaxis": "x",
         "y": [
          451000
         ],
         "yaxis": "y"
        },
        {
         "alignmentgroup": "True",
         "hovertemplate": "subreddit=%{x}<br>Upvotes=%{y}<extra></extra>",
         "legendgroup": "r/IAmA",
         "marker": {
          "color": "#EF553B",
          "pattern": {
           "shape": ""
          }
         },
         "name": "r/IAmA",
         "offsetgroup": "r/IAmA",
         "orientation": "v",
         "showlegend": true,
         "textposition": "auto",
         "type": "bar",
         "x": [
          "r/IAmA"
         ],
         "xaxis": "x",
         "y": [
          418000
         ],
         "yaxis": "y"
        },
        {
         "alignmentgroup": "True",
         "hovertemplate": "subreddit=%{x}<br>Upvotes=%{y}<extra></extra>",
         "legendgroup": "r/technology",
         "marker": {
          "color": "#00cc96",
          "pattern": {
           "shape": ""
          }
         },
         "name": "r/technology",
         "offsetgroup": "r/technology",
         "orientation": "v",
         "showlegend": true,
         "textposition": "auto",
         "type": "bar",
         "x": [
          "r/technology"
         ],
         "xaxis": "x",
         "y": [
          417000
         ],
         "yaxis": "y"
        },
        {
         "alignmentgroup": "True",
         "hovertemplate": "subreddit=%{x}<br>Upvotes=%{y}<extra></extra>",
         "legendgroup": "r/insanepeoplefacebook",
         "marker": {
          "color": "#ab63fa",
          "pattern": {
           "shape": ""
          }
         },
         "name": "r/insanepeoplefacebook",
         "offsetgroup": "r/insanepeoplefacebook",
         "orientation": "v",
         "showlegend": true,
         "textposition": "auto",
         "type": "bar",
         "x": [
          "r/insanepeoplefacebook"
         ],
         "xaxis": "x",
         "y": [
          404000
         ],
         "yaxis": "y"
        },
        {
         "alignmentgroup": "True",
         "hovertemplate": "subreddit=%{x}<br>Upvotes=%{y}<extra></extra>",
         "legendgroup": "r/LeopardsAteMyFace",
         "marker": {
          "color": "#FFA15A",
          "pattern": {
           "shape": ""
          }
         },
         "name": "r/LeopardsAteMyFace",
         "offsetgroup": "r/LeopardsAteMyFace",
         "orientation": "v",
         "showlegend": true,
         "textposition": "auto",
         "type": "bar",
         "x": [
          "r/LeopardsAteMyFace"
         ],
         "xaxis": "x",
         "y": [
          359000
         ],
         "yaxis": "y"
        },
        {
         "alignmentgroup": "True",
         "hovertemplate": "subreddit=%{x}<br>Upvotes=%{y}<extra></extra>",
         "legendgroup": "r/science",
         "marker": {
          "color": "#19d3f3",
          "pattern": {
           "shape": ""
          }
         },
         "name": "r/science",
         "offsetgroup": "r/science",
         "orientation": "v",
         "showlegend": true,
         "textposition": "auto",
         "type": "bar",
         "x": [
          "r/science"
         ],
         "xaxis": "x",
         "y": [
          354000
         ],
         "yaxis": "y"
        },
        {
         "alignmentgroup": "True",
         "hovertemplate": "subreddit=%{x}<br>Upvotes=%{y}<extra></extra>",
         "legendgroup": "r/iamatotalpieceofshit",
         "marker": {
          "color": "#FF6692",
          "pattern": {
           "shape": ""
          }
         },
         "name": "r/iamatotalpieceofshit",
         "offsetgroup": "r/iamatotalpieceofshit",
         "orientation": "v",
         "showlegend": true,
         "textposition": "auto",
         "type": "bar",
         "x": [
          "r/iamatotalpieceofshit"
         ],
         "xaxis": "x",
         "y": [
          340000
         ],
         "yaxis": "y"
        },
        {
         "alignmentgroup": "True",
         "hovertemplate": "subreddit=%{x}<br>Upvotes=%{y}<extra></extra>",
         "legendgroup": "r/Jokes",
         "marker": {
          "color": "#B6E880",
          "pattern": {
           "shape": ""
          }
         },
         "name": "r/Jokes",
         "offsetgroup": "r/Jokes",
         "orientation": "v",
         "showlegend": true,
         "textposition": "auto",
         "type": "bar",
         "x": [
          "r/Jokes"
         ],
         "xaxis": "x",
         "y": [
          304000
         ],
         "yaxis": "y"
        },
        {
         "alignmentgroup": "True",
         "hovertemplate": "subreddit=%{x}<br>Upvotes=%{y}<extra></extra>",
         "legendgroup": "r/Futurology",
         "marker": {
          "color": "#FF97FF",
          "pattern": {
           "shape": ""
          }
         },
         "name": "r/Futurology",
         "offsetgroup": "r/Futurology",
         "orientation": "v",
         "showlegend": true,
         "textposition": "auto",
         "type": "bar",
         "x": [
          "r/Futurology"
         ],
         "xaxis": "x",
         "y": [
          296000
         ],
         "yaxis": "y"
        },
        {
         "alignmentgroup": "True",
         "hovertemplate": "subreddit=%{x}<br>Upvotes=%{y}<extra></extra>",
         "legendgroup": "r/rickandmorty",
         "marker": {
          "color": "#FECB52",
          "pattern": {
           "shape": ""
          }
         },
         "name": "r/rickandmorty",
         "offsetgroup": "r/rickandmorty",
         "orientation": "v",
         "showlegend": true,
         "textposition": "auto",
         "type": "bar",
         "x": [
          "r/rickandmorty"
         ],
         "xaxis": "x",
         "y": [
          293000
         ],
         "yaxis": "y"
        },
        {
         "alignmentgroup": "True",
         "hovertemplate": "subreddit=%{x}<br>Upvotes=%{y}<extra></extra>",
         "legendgroup": "r/instant_regret",
         "marker": {
          "color": "#636efa",
          "pattern": {
           "shape": ""
          }
         },
         "name": "r/instant_regret",
         "offsetgroup": "r/instant_regret",
         "orientation": "v",
         "showlegend": true,
         "textposition": "auto",
         "type": "bar",
         "x": [
          "r/instant_regret"
         ],
         "xaxis": "x",
         "y": [
          287000
         ],
         "yaxis": "y"
        },
        {
         "alignmentgroup": "True",
         "hovertemplate": "subreddit=%{x}<br>Upvotes=%{y}<extra></extra>",
         "legendgroup": "r/UpliftingNews",
         "marker": {
          "color": "#EF553B",
          "pattern": {
           "shape": ""
          }
         },
         "name": "r/UpliftingNews",
         "offsetgroup": "r/UpliftingNews",
         "orientation": "v",
         "showlegend": true,
         "textposition": "auto",
         "type": "bar",
         "x": [
          "r/UpliftingNews"
         ],
         "xaxis": "x",
         "y": [
          279000
         ],
         "yaxis": "y"
        },
        {
         "alignmentgroup": "True",
         "hovertemplate": "subreddit=%{x}<br>Upvotes=%{y}<extra></extra>",
         "legendgroup": "r/JusticeServed",
         "marker": {
          "color": "#00cc96",
          "pattern": {
           "shape": ""
          }
         },
         "name": "r/JusticeServed",
         "offsetgroup": "r/JusticeServed",
         "orientation": "v",
         "showlegend": true,
         "textposition": "auto",
         "type": "bar",
         "x": [
          "r/JusticeServed"
         ],
         "xaxis": "x",
         "y": [
          269000
         ],
         "yaxis": "y"
        },
        {
         "alignmentgroup": "True",
         "hovertemplate": "subreddit=%{x}<br>Upvotes=%{y}<extra></extra>",
         "legendgroup": "r/StarWarsBattlefront",
         "marker": {
          "color": "#ab63fa",
          "pattern": {
           "shape": ""
          }
         },
         "name": "r/StarWarsBattlefront",
         "offsetgroup": "r/StarWarsBattlefront",
         "orientation": "v",
         "showlegend": true,
         "textposition": "auto",
         "type": "bar",
         "x": [
          "r/StarWarsBattlefront"
         ],
         "xaxis": "x",
         "y": [
          230000
         ],
         "yaxis": "y"
        },
        {
         "alignmentgroup": "True",
         "hovertemplate": "subreddit=%{x}<br>Upvotes=%{y}<extra></extra>",
         "legendgroup": "r/MemeEconomy",
         "marker": {
          "color": "#FFA15A",
          "pattern": {
           "shape": ""
          }
         },
         "name": "r/MemeEconomy",
         "offsetgroup": "r/MemeEconomy",
         "orientation": "v",
         "showlegend": true,
         "textposition": "auto",
         "type": "bar",
         "x": [
          "r/MemeEconomy"
         ],
         "xaxis": "x",
         "y": [
          204000
         ],
         "yaxis": "y"
        },
        {
         "alignmentgroup": "True",
         "hovertemplate": "subreddit=%{x}<br>Upvotes=%{y}<extra></extra>",
         "legendgroup": "r/nottheonion",
         "marker": {
          "color": "#19d3f3",
          "pattern": {
           "shape": ""
          }
         },
         "name": "r/nottheonion",
         "offsetgroup": "r/nottheonion",
         "orientation": "v",
         "showlegend": true,
         "textposition": "auto",
         "type": "bar",
         "x": [
          "r/nottheonion"
         ],
         "xaxis": "x",
         "y": [
          186000
         ],
         "yaxis": "y"
        },
        {
         "alignmentgroup": "True",
         "hovertemplate": "subreddit=%{x}<br>Upvotes=%{y}<extra></extra>",
         "legendgroup": "r/books",
         "marker": {
          "color": "#FF6692",
          "pattern": {
           "shape": ""
          }
         },
         "name": "r/books",
         "offsetgroup": "r/books",
         "orientation": "v",
         "showlegend": true,
         "textposition": "auto",
         "type": "bar",
         "x": [
          "r/books"
         ],
         "xaxis": "x",
         "y": [
          181000
         ],
         "yaxis": "y"
        },
        {
         "alignmentgroup": "True",
         "hovertemplate": "subreddit=%{x}<br>Upvotes=%{y}<extra></extra>",
         "legendgroup": "r/DunderMifflin",
         "marker": {
          "color": "#B6E880",
          "pattern": {
           "shape": ""
          }
         },
         "name": "r/DunderMifflin",
         "offsetgroup": "r/DunderMifflin",
         "orientation": "v",
         "showlegend": true,
         "textposition": "auto",
         "type": "bar",
         "x": [
          "r/DunderMifflin"
         ],
         "xaxis": "x",
         "y": [
          176000
         ],
         "yaxis": "y"
        },
        {
         "alignmentgroup": "True",
         "hovertemplate": "subreddit=%{x}<br>Upvotes=%{y}<extra></extra>",
         "legendgroup": "r/dataisbeautiful",
         "marker": {
          "color": "#FF97FF",
          "pattern": {
           "shape": ""
          }
         },
         "name": "r/dataisbeautiful",
         "offsetgroup": "r/dataisbeautiful",
         "orientation": "v",
         "showlegend": true,
         "textposition": "auto",
         "type": "bar",
         "x": [
          "r/dataisbeautiful"
         ],
         "xaxis": "x",
         "y": [
          163000
         ],
         "yaxis": "y"
        },
        {
         "alignmentgroup": "True",
         "hovertemplate": "subreddit=%{x}<br>Upvotes=%{y}<extra></extra>",
         "legendgroup": "r/assholedesign",
         "marker": {
          "color": "#FECB52",
          "pattern": {
           "shape": ""
          }
         },
         "name": "r/assholedesign",
         "offsetgroup": "r/assholedesign",
         "orientation": "v",
         "showlegend": true,
         "textposition": "auto",
         "type": "bar",
         "x": [
          "r/assholedesign"
         ],
         "xaxis": "x",
         "y": [
          162000
         ],
         "yaxis": "y"
        },
        {
         "alignmentgroup": "True",
         "hovertemplate": "subreddit=%{x}<br>Upvotes=%{y}<extra></extra>",
         "legendgroup": "r/comics",
         "marker": {
          "color": "#636efa",
          "pattern": {
           "shape": ""
          }
         },
         "name": "r/comics",
         "offsetgroup": "r/comics",
         "orientation": "v",
         "showlegend": true,
         "textposition": "auto",
         "type": "bar",
         "x": [
          "r/comics"
         ],
         "xaxis": "x",
         "y": [
          161000
         ],
         "yaxis": "y"
        },
        {
         "alignmentgroup": "True",
         "hovertemplate": "subreddit=%{x}<br>Upvotes=%{y}<extra></extra>",
         "legendgroup": "r/Whatcouldgowrong",
         "marker": {
          "color": "#EF553B",
          "pattern": {
           "shape": ""
          }
         },
         "name": "r/Whatcouldgowrong",
         "offsetgroup": "r/Whatcouldgowrong",
         "orientation": "v",
         "showlegend": true,
         "textposition": "auto",
         "type": "bar",
         "x": [
          "r/Whatcouldgowrong"
         ],
         "xaxis": "x",
         "y": [
          159000
         ],
         "yaxis": "y"
        },
        {
         "alignmentgroup": "True",
         "hovertemplate": "subreddit=%{x}<br>Upvotes=%{y}<extra></extra>",
         "legendgroup": "r/HolUp",
         "marker": {
          "color": "#00cc96",
          "pattern": {
           "shape": ""
          }
         },
         "name": "r/HolUp",
         "offsetgroup": "r/HolUp",
         "orientation": "v",
         "showlegend": true,
         "textposition": "auto",
         "type": "bar",
         "x": [
          "r/HolUp"
         ],
         "xaxis": "x",
         "y": [
          159000
         ],
         "yaxis": "y"
        },
        {
         "alignmentgroup": "True",
         "hovertemplate": "subreddit=%{x}<br>Upvotes=%{y}<extra></extra>",
         "legendgroup": "r/Instagramreality",
         "marker": {
          "color": "#ab63fa",
          "pattern": {
           "shape": ""
          }
         },
         "name": "r/Instagramreality",
         "offsetgroup": "r/Instagramreality",
         "orientation": "v",
         "showlegend": true,
         "textposition": "auto",
         "type": "bar",
         "x": [
          "r/Instagramreality"
         ],
         "xaxis": "x",
         "y": [
          159000
         ],
         "yaxis": "y"
        },
        {
         "alignmentgroup": "True",
         "hovertemplate": "subreddit=%{x}<br>Upvotes=%{y}<extra></extra>",
         "legendgroup": "r/freefolk",
         "marker": {
          "color": "#FFA15A",
          "pattern": {
           "shape": ""
          }
         },
         "name": "r/freefolk",
         "offsetgroup": "r/freefolk",
         "orientation": "v",
         "showlegend": true,
         "textposition": "auto",
         "type": "bar",
         "x": [
          "r/freefolk"
         ],
         "xaxis": "x",
         "y": [
          157000
         ],
         "yaxis": "y"
        },
        {
         "alignmentgroup": "True",
         "hovertemplate": "subreddit=%{x}<br>Upvotes=%{y}<extra></extra>",
         "legendgroup": "r/Music",
         "marker": {
          "color": "#19d3f3",
          "pattern": {
           "shape": ""
          }
         },
         "name": "r/Music",
         "offsetgroup": "r/Music",
         "orientation": "v",
         "showlegend": true,
         "textposition": "auto",
         "type": "bar",
         "x": [
          "r/Music"
         ],
         "xaxis": "x",
         "y": [
          148000
         ],
         "yaxis": "y"
        },
        {
         "alignmentgroup": "True",
         "hovertemplate": "subreddit=%{x}<br>Upvotes=%{y}<extra></extra>",
         "legendgroup": "r/pokemon",
         "marker": {
          "color": "#FF6692",
          "pattern": {
           "shape": ""
          }
         },
         "name": "r/pokemon",
         "offsetgroup": "r/pokemon",
         "orientation": "v",
         "showlegend": true,
         "textposition": "auto",
         "type": "bar",
         "x": [
          "r/pokemon"
         ],
         "xaxis": "x",
         "y": [
          148000
         ],
         "yaxis": "y"
        },
        {
         "alignmentgroup": "True",
         "hovertemplate": "subreddit=%{x}<br>Upvotes=%{y}<extra></extra>",
         "legendgroup": "r/GetMotivated",
         "marker": {
          "color": "#B6E880",
          "pattern": {
           "shape": ""
          }
         },
         "name": "r/GetMotivated",
         "offsetgroup": "r/GetMotivated",
         "orientation": "v",
         "showlegend": true,
         "textposition": "auto",
         "type": "bar",
         "x": [
          "r/GetMotivated"
         ],
         "xaxis": "x",
         "y": [
          147000
         ],
         "yaxis": "y"
        },
        {
         "alignmentgroup": "True",
         "hovertemplate": "subreddit=%{x}<br>Upvotes=%{y}<extra></extra>",
         "legendgroup": "r/Damnthatsinteresting",
         "marker": {
          "color": "#FF97FF",
          "pattern": {
           "shape": ""
          }
         },
         "name": "r/Damnthatsinteresting",
         "offsetgroup": "r/Damnthatsinteresting",
         "orientation": "v",
         "showlegend": true,
         "textposition": "auto",
         "type": "bar",
         "x": [
          "r/Damnthatsinteresting"
         ],
         "xaxis": "x",
         "y": [
          145000
         ],
         "yaxis": "y"
        },
        {
         "alignmentgroup": "True",
         "hovertemplate": "subreddit=%{x}<br>Upvotes=%{y}<extra></extra>",
         "legendgroup": "r/sports",
         "marker": {
          "color": "#FECB52",
          "pattern": {
           "shape": ""
          }
         },
         "name": "r/sports",
         "offsetgroup": "r/sports",
         "orientation": "v",
         "showlegend": true,
         "textposition": "auto",
         "type": "bar",
         "x": [
          "r/sports"
         ],
         "xaxis": "x",
         "y": [
          143000
         ],
         "yaxis": "y"
        },
        {
         "alignmentgroup": "True",
         "hovertemplate": "subreddit=%{x}<br>Upvotes=%{y}<extra></extra>",
         "legendgroup": "r/OldSchoolCool",
         "marker": {
          "color": "#636efa",
          "pattern": {
           "shape": ""
          }
         },
         "name": "r/OldSchoolCool",
         "offsetgroup": "r/OldSchoolCool",
         "orientation": "v",
         "showlegend": true,
         "textposition": "auto",
         "type": "bar",
         "x": [
          "r/OldSchoolCool"
         ],
         "xaxis": "x",
         "y": [
          143000
         ],
         "yaxis": "y"
        },
        {
         "alignmentgroup": "True",
         "hovertemplate": "subreddit=%{x}<br>Upvotes=%{y}<extra></extra>",
         "legendgroup": "r/ChoosingBeggars",
         "marker": {
          "color": "#EF553B",
          "pattern": {
           "shape": ""
          }
         },
         "name": "r/ChoosingBeggars",
         "offsetgroup": "r/ChoosingBeggars",
         "orientation": "v",
         "showlegend": true,
         "textposition": "auto",
         "type": "bar",
         "x": [
          "r/ChoosingBeggars"
         ],
         "xaxis": "x",
         "y": [
          143000
         ],
         "yaxis": "y"
        },
        {
         "alignmentgroup": "True",
         "hovertemplate": "subreddit=%{x}<br>Upvotes=%{y}<extra></extra>",
         "legendgroup": "r/The_Mueller",
         "marker": {
          "color": "#00cc96",
          "pattern": {
           "shape": ""
          }
         },
         "name": "r/The_Mueller",
         "offsetgroup": "r/The_Mueller",
         "orientation": "v",
         "showlegend": true,
         "textposition": "auto",
         "type": "bar",
         "x": [
          "r/The_Mueller"
         ],
         "xaxis": "x",
         "y": [
          141000
         ],
         "yaxis": "y"
        },
        {
         "alignmentgroup": "True",
         "hovertemplate": "subreddit=%{x}<br>Upvotes=%{y}<extra></extra>",
         "legendgroup": "r/pcmasterrace",
         "marker": {
          "color": "#ab63fa",
          "pattern": {
           "shape": ""
          }
         },
         "name": "r/pcmasterrace",
         "offsetgroup": "r/pcmasterrace",
         "orientation": "v",
         "showlegend": true,
         "textposition": "auto",
         "type": "bar",
         "x": [
          "r/pcmasterrace"
         ],
         "xaxis": "x",
         "y": [
          140000
         ],
         "yaxis": "y"
        },
        {
         "alignmentgroup": "True",
         "hovertemplate": "subreddit=%{x}<br>Upvotes=%{y}<extra></extra>",
         "legendgroup": "r/listentothis",
         "marker": {
          "color": "#FFA15A",
          "pattern": {
           "shape": ""
          }
         },
         "name": "r/listentothis",
         "offsetgroup": "r/listentothis",
         "orientation": "v",
         "showlegend": true,
         "textposition": "auto",
         "type": "bar",
         "x": [
          "r/listentothis"
         ],
         "xaxis": "x",
         "y": [
          139000
         ],
         "yaxis": "y"
        },
        {
         "alignmentgroup": "True",
         "hovertemplate": "subreddit=%{x}<br>Upvotes=%{y}<extra></extra>",
         "legendgroup": "r/TwoXChromosomes",
         "marker": {
          "color": "#19d3f3",
          "pattern": {
           "shape": ""
          }
         },
         "name": "r/TwoXChromosomes",
         "offsetgroup": "r/TwoXChromosomes",
         "orientation": "v",
         "showlegend": true,
         "textposition": "auto",
         "type": "bar",
         "x": [
          "r/TwoXChromosomes"
         ],
         "xaxis": "x",
         "y": [
          138000
         ],
         "yaxis": "y"
        },
        {
         "alignmentgroup": "True",
         "hovertemplate": "subreddit=%{x}<br>Upvotes=%{y}<extra></extra>",
         "legendgroup": "r/HongKong",
         "marker": {
          "color": "#FF6692",
          "pattern": {
           "shape": ""
          }
         },
         "name": "r/HongKong",
         "offsetgroup": "r/HongKong",
         "orientation": "v",
         "showlegend": true,
         "textposition": "auto",
         "type": "bar",
         "x": [
          "r/HongKong"
         ],
         "xaxis": "x",
         "y": [
          138000
         ],
         "yaxis": "y"
        },
        {
         "alignmentgroup": "True",
         "hovertemplate": "subreddit=%{x}<br>Upvotes=%{y}<extra></extra>",
         "legendgroup": "r/quityourbullshit",
         "marker": {
          "color": "#B6E880",
          "pattern": {
           "shape": ""
          }
         },
         "name": "r/quityourbullshit",
         "offsetgroup": "r/quityourbullshit",
         "orientation": "v",
         "showlegend": true,
         "textposition": "auto",
         "type": "bar",
         "x": [
          "r/quityourbullshit"
         ],
         "xaxis": "x",
         "y": [
          137000
         ],
         "yaxis": "y"
        },
        {
         "alignmentgroup": "True",
         "hovertemplate": "subreddit=%{x}<br>Upvotes=%{y}<extra></extra>",
         "legendgroup": "r/coolguides",
         "marker": {
          "color": "#FF97FF",
          "pattern": {
           "shape": ""
          }
         },
         "name": "r/coolguides",
         "offsetgroup": "r/coolguides",
         "orientation": "v",
         "showlegend": true,
         "textposition": "auto",
         "type": "bar",
         "x": [
          "r/coolguides"
         ],
         "xaxis": "x",
         "y": [
          136000
         ],
         "yaxis": "y"
        },
        {
         "alignmentgroup": "True",
         "hovertemplate": "subreddit=%{x}<br>Upvotes=%{y}<extra></extra>",
         "legendgroup": "r/gifsthatkeepongiving",
         "marker": {
          "color": "#FECB52",
          "pattern": {
           "shape": ""
          }
         },
         "name": "r/gifsthatkeepongiving",
         "offsetgroup": "r/gifsthatkeepongiving",
         "orientation": "v",
         "showlegend": true,
         "textposition": "auto",
         "type": "bar",
         "x": [
          "r/gifsthatkeepongiving"
         ],
         "xaxis": "x",
         "y": [
          136000
         ],
         "yaxis": "y"
        },
        {
         "alignmentgroup": "True",
         "hovertemplate": "subreddit=%{x}<br>Upvotes=%{y}<extra></extra>",
         "legendgroup": "r/AyyMD",
         "marker": {
          "color": "#636efa",
          "pattern": {
           "shape": ""
          }
         },
         "name": "r/AyyMD",
         "offsetgroup": "r/AyyMD",
         "orientation": "v",
         "showlegend": true,
         "textposition": "auto",
         "type": "bar",
         "x": [
          "r/AyyMD"
         ],
         "xaxis": "x",
         "y": [
          134000
         ],
         "yaxis": "y"
        },
        {
         "alignmentgroup": "True",
         "hovertemplate": "subreddit=%{x}<br>Upvotes=%{y}<extra></extra>",
         "legendgroup": "r/Coronavirus",
         "marker": {
          "color": "#EF553B",
          "pattern": {
           "shape": ""
          }
         },
         "name": "r/Coronavirus",
         "offsetgroup": "r/Coronavirus",
         "orientation": "v",
         "showlegend": true,
         "textposition": "auto",
         "type": "bar",
         "x": [
          "r/Coronavirus"
         ],
         "xaxis": "x",
         "y": [
          134000
         ],
         "yaxis": "y"
        },
        {
         "alignmentgroup": "True",
         "hovertemplate": "subreddit=%{x}<br>Upvotes=%{y}<extra></extra>",
         "legendgroup": "r/BeAmazed",
         "marker": {
          "color": "#00cc96",
          "pattern": {
           "shape": ""
          }
         },
         "name": "r/BeAmazed",
         "offsetgroup": "r/BeAmazed",
         "orientation": "v",
         "showlegend": true,
         "textposition": "auto",
         "type": "bar",
         "x": [
          "r/BeAmazed"
         ],
         "xaxis": "x",
         "y": [
          134000
         ],
         "yaxis": "y"
        },
        {
         "alignmentgroup": "True",
         "hovertemplate": "subreddit=%{x}<br>Upvotes=%{y}<extra></extra>",
         "legendgroup": "r/lotrmemes",
         "marker": {
          "color": "#ab63fa",
          "pattern": {
           "shape": ""
          }
         },
         "name": "r/lotrmemes",
         "offsetgroup": "r/lotrmemes",
         "orientation": "v",
         "showlegend": true,
         "textposition": "auto",
         "type": "bar",
         "x": [
          "r/lotrmemes"
         ],
         "xaxis": "x",
         "y": [
          133000
         ],
         "yaxis": "y"
        },
        {
         "alignmentgroup": "True",
         "hovertemplate": "subreddit=%{x}<br>Upvotes=%{y}<extra></extra>",
         "legendgroup": "r/PoliticalHumor",
         "marker": {
          "color": "#FFA15A",
          "pattern": {
           "shape": ""
          }
         },
         "name": "r/PoliticalHumor",
         "offsetgroup": "r/PoliticalHumor",
         "orientation": "v",
         "showlegend": true,
         "textposition": "auto",
         "type": "bar",
         "x": [
          "r/PoliticalHumor"
         ],
         "xaxis": "x",
         "y": [
          132000
         ],
         "yaxis": "y"
        }
       ],
       "layout": {
        "barmode": "relative",
        "height": 400,
        "legend": {
         "title": {
          "text": "subreddit"
         },
         "tracegroupgap": 0
        },
        "template": {
         "data": {
          "bar": [
           {
            "error_x": {
             "color": "#2a3f5f"
            },
            "error_y": {
             "color": "#2a3f5f"
            },
            "marker": {
             "line": {
              "color": "#E5ECF6",
              "width": 0.5
             },
             "pattern": {
              "fillmode": "overlay",
              "size": 10,
              "solidity": 0.2
             }
            },
            "type": "bar"
           }
          ],
          "barpolar": [
           {
            "marker": {
             "line": {
              "color": "#E5ECF6",
              "width": 0.5
             },
             "pattern": {
              "fillmode": "overlay",
              "size": 10,
              "solidity": 0.2
             }
            },
            "type": "barpolar"
           }
          ],
          "carpet": [
           {
            "aaxis": {
             "endlinecolor": "#2a3f5f",
             "gridcolor": "white",
             "linecolor": "white",
             "minorgridcolor": "white",
             "startlinecolor": "#2a3f5f"
            },
            "baxis": {
             "endlinecolor": "#2a3f5f",
             "gridcolor": "white",
             "linecolor": "white",
             "minorgridcolor": "white",
             "startlinecolor": "#2a3f5f"
            },
            "type": "carpet"
           }
          ],
          "choropleth": [
           {
            "colorbar": {
             "outlinewidth": 0,
             "ticks": ""
            },
            "type": "choropleth"
           }
          ],
          "contour": [
           {
            "colorbar": {
             "outlinewidth": 0,
             "ticks": ""
            },
            "colorscale": [
             [
              0,
              "#0d0887"
             ],
             [
              0.1111111111111111,
              "#46039f"
             ],
             [
              0.2222222222222222,
              "#7201a8"
             ],
             [
              0.3333333333333333,
              "#9c179e"
             ],
             [
              0.4444444444444444,
              "#bd3786"
             ],
             [
              0.5555555555555556,
              "#d8576b"
             ],
             [
              0.6666666666666666,
              "#ed7953"
             ],
             [
              0.7777777777777778,
              "#fb9f3a"
             ],
             [
              0.8888888888888888,
              "#fdca26"
             ],
             [
              1,
              "#f0f921"
             ]
            ],
            "type": "contour"
           }
          ],
          "contourcarpet": [
           {
            "colorbar": {
             "outlinewidth": 0,
             "ticks": ""
            },
            "type": "contourcarpet"
           }
          ],
          "heatmap": [
           {
            "colorbar": {
             "outlinewidth": 0,
             "ticks": ""
            },
            "colorscale": [
             [
              0,
              "#0d0887"
             ],
             [
              0.1111111111111111,
              "#46039f"
             ],
             [
              0.2222222222222222,
              "#7201a8"
             ],
             [
              0.3333333333333333,
              "#9c179e"
             ],
             [
              0.4444444444444444,
              "#bd3786"
             ],
             [
              0.5555555555555556,
              "#d8576b"
             ],
             [
              0.6666666666666666,
              "#ed7953"
             ],
             [
              0.7777777777777778,
              "#fb9f3a"
             ],
             [
              0.8888888888888888,
              "#fdca26"
             ],
             [
              1,
              "#f0f921"
             ]
            ],
            "type": "heatmap"
           }
          ],
          "heatmapgl": [
           {
            "colorbar": {
             "outlinewidth": 0,
             "ticks": ""
            },
            "colorscale": [
             [
              0,
              "#0d0887"
             ],
             [
              0.1111111111111111,
              "#46039f"
             ],
             [
              0.2222222222222222,
              "#7201a8"
             ],
             [
              0.3333333333333333,
              "#9c179e"
             ],
             [
              0.4444444444444444,
              "#bd3786"
             ],
             [
              0.5555555555555556,
              "#d8576b"
             ],
             [
              0.6666666666666666,
              "#ed7953"
             ],
             [
              0.7777777777777778,
              "#fb9f3a"
             ],
             [
              0.8888888888888888,
              "#fdca26"
             ],
             [
              1,
              "#f0f921"
             ]
            ],
            "type": "heatmapgl"
           }
          ],
          "histogram": [
           {
            "marker": {
             "pattern": {
              "fillmode": "overlay",
              "size": 10,
              "solidity": 0.2
             }
            },
            "type": "histogram"
           }
          ],
          "histogram2d": [
           {
            "colorbar": {
             "outlinewidth": 0,
             "ticks": ""
            },
            "colorscale": [
             [
              0,
              "#0d0887"
             ],
             [
              0.1111111111111111,
              "#46039f"
             ],
             [
              0.2222222222222222,
              "#7201a8"
             ],
             [
              0.3333333333333333,
              "#9c179e"
             ],
             [
              0.4444444444444444,
              "#bd3786"
             ],
             [
              0.5555555555555556,
              "#d8576b"
             ],
             [
              0.6666666666666666,
              "#ed7953"
             ],
             [
              0.7777777777777778,
              "#fb9f3a"
             ],
             [
              0.8888888888888888,
              "#fdca26"
             ],
             [
              1,
              "#f0f921"
             ]
            ],
            "type": "histogram2d"
           }
          ],
          "histogram2dcontour": [
           {
            "colorbar": {
             "outlinewidth": 0,
             "ticks": ""
            },
            "colorscale": [
             [
              0,
              "#0d0887"
             ],
             [
              0.1111111111111111,
              "#46039f"
             ],
             [
              0.2222222222222222,
              "#7201a8"
             ],
             [
              0.3333333333333333,
              "#9c179e"
             ],
             [
              0.4444444444444444,
              "#bd3786"
             ],
             [
              0.5555555555555556,
              "#d8576b"
             ],
             [
              0.6666666666666666,
              "#ed7953"
             ],
             [
              0.7777777777777778,
              "#fb9f3a"
             ],
             [
              0.8888888888888888,
              "#fdca26"
             ],
             [
              1,
              "#f0f921"
             ]
            ],
            "type": "histogram2dcontour"
           }
          ],
          "mesh3d": [
           {
            "colorbar": {
             "outlinewidth": 0,
             "ticks": ""
            },
            "type": "mesh3d"
           }
          ],
          "parcoords": [
           {
            "line": {
             "colorbar": {
              "outlinewidth": 0,
              "ticks": ""
             }
            },
            "type": "parcoords"
           }
          ],
          "pie": [
           {
            "automargin": true,
            "type": "pie"
           }
          ],
          "scatter": [
           {
            "fillpattern": {
             "fillmode": "overlay",
             "size": 10,
             "solidity": 0.2
            },
            "type": "scatter"
           }
          ],
          "scatter3d": [
           {
            "line": {
             "colorbar": {
              "outlinewidth": 0,
              "ticks": ""
             }
            },
            "marker": {
             "colorbar": {
              "outlinewidth": 0,
              "ticks": ""
             }
            },
            "type": "scatter3d"
           }
          ],
          "scattercarpet": [
           {
            "marker": {
             "colorbar": {
              "outlinewidth": 0,
              "ticks": ""
             }
            },
            "type": "scattercarpet"
           }
          ],
          "scattergeo": [
           {
            "marker": {
             "colorbar": {
              "outlinewidth": 0,
              "ticks": ""
             }
            },
            "type": "scattergeo"
           }
          ],
          "scattergl": [
           {
            "marker": {
             "colorbar": {
              "outlinewidth": 0,
              "ticks": ""
             }
            },
            "type": "scattergl"
           }
          ],
          "scattermapbox": [
           {
            "marker": {
             "colorbar": {
              "outlinewidth": 0,
              "ticks": ""
             }
            },
            "type": "scattermapbox"
           }
          ],
          "scatterpolar": [
           {
            "marker": {
             "colorbar": {
              "outlinewidth": 0,
              "ticks": ""
             }
            },
            "type": "scatterpolar"
           }
          ],
          "scatterpolargl": [
           {
            "marker": {
             "colorbar": {
              "outlinewidth": 0,
              "ticks": ""
             }
            },
            "type": "scatterpolargl"
           }
          ],
          "scatterternary": [
           {
            "marker": {
             "colorbar": {
              "outlinewidth": 0,
              "ticks": ""
             }
            },
            "type": "scatterternary"
           }
          ],
          "surface": [
           {
            "colorbar": {
             "outlinewidth": 0,
             "ticks": ""
            },
            "colorscale": [
             [
              0,
              "#0d0887"
             ],
             [
              0.1111111111111111,
              "#46039f"
             ],
             [
              0.2222222222222222,
              "#7201a8"
             ],
             [
              0.3333333333333333,
              "#9c179e"
             ],
             [
              0.4444444444444444,
              "#bd3786"
             ],
             [
              0.5555555555555556,
              "#d8576b"
             ],
             [
              0.6666666666666666,
              "#ed7953"
             ],
             [
              0.7777777777777778,
              "#fb9f3a"
             ],
             [
              0.8888888888888888,
              "#fdca26"
             ],
             [
              1,
              "#f0f921"
             ]
            ],
            "type": "surface"
           }
          ],
          "table": [
           {
            "cells": {
             "fill": {
              "color": "#EBF0F8"
             },
             "line": {
              "color": "white"
             }
            },
            "header": {
             "fill": {
              "color": "#C8D4E3"
             },
             "line": {
              "color": "white"
             }
            },
            "type": "table"
           }
          ]
         },
         "layout": {
          "annotationdefaults": {
           "arrowcolor": "#2a3f5f",
           "arrowhead": 0,
           "arrowwidth": 1
          },
          "autotypenumbers": "strict",
          "coloraxis": {
           "colorbar": {
            "outlinewidth": 0,
            "ticks": ""
           }
          },
          "colorscale": {
           "diverging": [
            [
             0,
             "#8e0152"
            ],
            [
             0.1,
             "#c51b7d"
            ],
            [
             0.2,
             "#de77ae"
            ],
            [
             0.3,
             "#f1b6da"
            ],
            [
             0.4,
             "#fde0ef"
            ],
            [
             0.5,
             "#f7f7f7"
            ],
            [
             0.6,
             "#e6f5d0"
            ],
            [
             0.7,
             "#b8e186"
            ],
            [
             0.8,
             "#7fbc41"
            ],
            [
             0.9,
             "#4d9221"
            ],
            [
             1,
             "#276419"
            ]
           ],
           "sequential": [
            [
             0,
             "#0d0887"
            ],
            [
             0.1111111111111111,
             "#46039f"
            ],
            [
             0.2222222222222222,
             "#7201a8"
            ],
            [
             0.3333333333333333,
             "#9c179e"
            ],
            [
             0.4444444444444444,
             "#bd3786"
            ],
            [
             0.5555555555555556,
             "#d8576b"
            ],
            [
             0.6666666666666666,
             "#ed7953"
            ],
            [
             0.7777777777777778,
             "#fb9f3a"
            ],
            [
             0.8888888888888888,
             "#fdca26"
            ],
            [
             1,
             "#f0f921"
            ]
           ],
           "sequentialminus": [
            [
             0,
             "#0d0887"
            ],
            [
             0.1111111111111111,
             "#46039f"
            ],
            [
             0.2222222222222222,
             "#7201a8"
            ],
            [
             0.3333333333333333,
             "#9c179e"
            ],
            [
             0.4444444444444444,
             "#bd3786"
            ],
            [
             0.5555555555555556,
             "#d8576b"
            ],
            [
             0.6666666666666666,
             "#ed7953"
            ],
            [
             0.7777777777777778,
             "#fb9f3a"
            ],
            [
             0.8888888888888888,
             "#fdca26"
            ],
            [
             1,
             "#f0f921"
            ]
           ]
          },
          "colorway": [
           "#636efa",
           "#EF553B",
           "#00cc96",
           "#ab63fa",
           "#FFA15A",
           "#19d3f3",
           "#FF6692",
           "#B6E880",
           "#FF97FF",
           "#FECB52"
          ],
          "font": {
           "color": "#2a3f5f"
          },
          "geo": {
           "bgcolor": "white",
           "lakecolor": "white",
           "landcolor": "#E5ECF6",
           "showlakes": true,
           "showland": true,
           "subunitcolor": "white"
          },
          "hoverlabel": {
           "align": "left"
          },
          "hovermode": "closest",
          "mapbox": {
           "style": "light"
          },
          "paper_bgcolor": "white",
          "plot_bgcolor": "#E5ECF6",
          "polar": {
           "angularaxis": {
            "gridcolor": "white",
            "linecolor": "white",
            "ticks": ""
           },
           "bgcolor": "#E5ECF6",
           "radialaxis": {
            "gridcolor": "white",
            "linecolor": "white",
            "ticks": ""
           }
          },
          "scene": {
           "xaxis": {
            "backgroundcolor": "#E5ECF6",
            "gridcolor": "white",
            "gridwidth": 2,
            "linecolor": "white",
            "showbackground": true,
            "ticks": "",
            "zerolinecolor": "white"
           },
           "yaxis": {
            "backgroundcolor": "#E5ECF6",
            "gridcolor": "white",
            "gridwidth": 2,
            "linecolor": "white",
            "showbackground": true,
            "ticks": "",
            "zerolinecolor": "white"
           },
           "zaxis": {
            "backgroundcolor": "#E5ECF6",
            "gridcolor": "white",
            "gridwidth": 2,
            "linecolor": "white",
            "showbackground": true,
            "ticks": "",
            "zerolinecolor": "white"
           }
          },
          "shapedefaults": {
           "line": {
            "color": "#2a3f5f"
           }
          },
          "ternary": {
           "aaxis": {
            "gridcolor": "white",
            "linecolor": "white",
            "ticks": ""
           },
           "baxis": {
            "gridcolor": "white",
            "linecolor": "white",
            "ticks": ""
           },
           "bgcolor": "#E5ECF6",
           "caxis": {
            "gridcolor": "white",
            "linecolor": "white",
            "ticks": ""
           }
          },
          "title": {
           "x": 0.05
          },
          "xaxis": {
           "automargin": true,
           "gridcolor": "white",
           "linecolor": "white",
           "ticks": "",
           "title": {
            "standoff": 15
           },
           "zerolinecolor": "white",
           "zerolinewidth": 2
          },
          "yaxis": {
           "automargin": true,
           "gridcolor": "white",
           "linecolor": "white",
           "ticks": "",
           "title": {
            "standoff": 15
           },
           "zerolinecolor": "white",
           "zerolinewidth": 2
          }
         }
        },
        "title": {
         "text": "Total Upvotes by Subreddit"
        },
        "xaxis": {
         "anchor": "y",
         "categoryarray": [
          "r/memes",
          "r/pics",
          "r/funny",
          "r/aww",
          "r/nextfuckinglevel",
          "r/gaming",
          "r/gifs",
          "r/interestingasfuck",
          "r/wallstreetbets",
          "r/news",
          "r/PublicFreakout",
          "r/MurderedByWords",
          "r/worldnews",
          "r/MadeMeSmile",
          "r/wholesomememes",
          "r/AskReddit",
          "r/todayilearned",
          "r/WatchPeopleDieInside",
          "r/mildlyinteresting",
          "r/WhitePeopleTwitter",
          "r/Showerthoughts",
          "r/videos",
          "r/facepalm",
          "r/PrequelMemes",
          "r/teenagers",
          "r/movies",
          "r/space",
          "r/Wellthatsucks",
          "r/politics",
          "r/awfuleverything",
          "r/me_irl",
          "r/IdiotsInCars",
          "r/announcements",
          "r/PewdiepieSubmissions",
          "r/thanosdidnothingwrong",
          "r/LifeProTips",
          "r/tifu",
          "r/BlackPeopleTwitter",
          "r/trashy",
          "r/oddlysatisfying",
          "r/BikiniBottomTwitter",
          "r/IAmA",
          "r/technology",
          "r/insanepeoplefacebook",
          "r/LeopardsAteMyFace",
          "r/science",
          "r/iamatotalpieceofshit",
          "r/Jokes",
          "r/Futurology",
          "r/rickandmorty",
          "r/instant_regret",
          "r/UpliftingNews",
          "r/JusticeServed",
          "r/StarWarsBattlefront",
          "r/MemeEconomy",
          "r/nottheonion",
          "r/books",
          "r/DunderMifflin",
          "r/dataisbeautiful",
          "r/assholedesign",
          "r/comics",
          "r/Whatcouldgowrong",
          "r/HolUp",
          "r/Instagramreality",
          "r/freefolk",
          "r/Music",
          "r/pokemon",
          "r/GetMotivated",
          "r/Damnthatsinteresting",
          "r/sports",
          "r/OldSchoolCool",
          "r/ChoosingBeggars",
          "r/The_Mueller",
          "r/pcmasterrace",
          "r/listentothis",
          "r/TwoXChromosomes",
          "r/HongKong",
          "r/quityourbullshit",
          "r/coolguides",
          "r/gifsthatkeepongiving",
          "r/AyyMD",
          "r/Coronavirus",
          "r/BeAmazed",
          "r/lotrmemes",
          "r/PoliticalHumor"
         ],
         "categoryorder": "array",
         "domain": [
          0,
          1
         ],
         "title": {
          "text": "subreddit"
         }
        },
        "yaxis": {
         "anchor": "x",
         "domain": [
          0,
          1
         ],
         "title": {
          "text": "Upvotes"
         }
        }
       }
      }
     },
     "metadata": {},
     "output_type": "display_data"
    },
    {
     "data": {
      "application/vnd.plotly.v1+json": {
       "config": {
        "plotlyServerURL": "https://plot.ly"
       },
       "data": [
        {
         "alignmentgroup": "True",
         "hovertemplate": "subreddit=%{x}<br>Comments=%{y}<extra></extra>",
         "legendgroup": "r/pics",
         "marker": {
          "color": "#636efa",
          "pattern": {
           "shape": ""
          }
         },
         "name": "r/pics",
         "offsetgroup": "r/pics",
         "orientation": "v",
         "showlegend": true,
         "textposition": "auto",
         "type": "bar",
         "x": [
          "r/pics"
         ],
         "xaxis": "x",
         "y": [
          1491001
         ],
         "yaxis": "y"
        },
        {
         "alignmentgroup": "True",
         "hovertemplate": "subreddit=%{x}<br>Comments=%{y}<extra></extra>",
         "legendgroup": "r/memes",
         "marker": {
          "color": "#EF553B",
          "pattern": {
           "shape": ""
          }
         },
         "name": "r/memes",
         "offsetgroup": "r/memes",
         "orientation": "v",
         "showlegend": true,
         "textposition": "auto",
         "type": "bar",
         "x": [
          "r/memes"
         ],
         "xaxis": "x",
         "y": [
          698821
         ],
         "yaxis": "y"
        },
        {
         "alignmentgroup": "True",
         "hovertemplate": "subreddit=%{x}<br>Comments=%{y}<extra></extra>",
         "legendgroup": "r/funny",
         "marker": {
          "color": "#00cc96",
          "pattern": {
           "shape": ""
          }
         },
         "name": "r/funny",
         "offsetgroup": "r/funny",
         "orientation": "v",
         "showlegend": true,
         "textposition": "auto",
         "type": "bar",
         "x": [
          "r/funny"
         ],
         "xaxis": "x",
         "y": [
          496083
         ],
         "yaxis": "y"
        },
        {
         "alignmentgroup": "True",
         "hovertemplate": "subreddit=%{x}<br>Comments=%{y}<extra></extra>",
         "legendgroup": "r/news",
         "marker": {
          "color": "#ab63fa",
          "pattern": {
           "shape": ""
          }
         },
         "name": "r/news",
         "offsetgroup": "r/news",
         "orientation": "v",
         "showlegend": true,
         "textposition": "auto",
         "type": "bar",
         "x": [
          "r/news"
         ],
         "xaxis": "x",
         "y": [
          475256
         ],
         "yaxis": "y"
        },
        {
         "alignmentgroup": "True",
         "hovertemplate": "subreddit=%{x}<br>Comments=%{y}<extra></extra>",
         "legendgroup": "r/wallstreetbets",
         "marker": {
          "color": "#FFA15A",
          "pattern": {
           "shape": ""
          }
         },
         "name": "r/wallstreetbets",
         "offsetgroup": "r/wallstreetbets",
         "orientation": "v",
         "showlegend": true,
         "textposition": "auto",
         "type": "bar",
         "x": [
          "r/wallstreetbets"
         ],
         "xaxis": "x",
         "y": [
          408643
         ],
         "yaxis": "y"
        },
        {
         "alignmentgroup": "True",
         "hovertemplate": "subreddit=%{x}<br>Comments=%{y}<extra></extra>",
         "legendgroup": "r/gaming",
         "marker": {
          "color": "#19d3f3",
          "pattern": {
           "shape": ""
          }
         },
         "name": "r/gaming",
         "offsetgroup": "r/gaming",
         "orientation": "v",
         "showlegend": true,
         "textposition": "auto",
         "type": "bar",
         "x": [
          "r/gaming"
         ],
         "xaxis": "x",
         "y": [
          384739
         ],
         "yaxis": "y"
        },
        {
         "alignmentgroup": "True",
         "hovertemplate": "subreddit=%{x}<br>Comments=%{y}<extra></extra>",
         "legendgroup": "r/nextfuckinglevel",
         "marker": {
          "color": "#FF6692",
          "pattern": {
           "shape": ""
          }
         },
         "name": "r/nextfuckinglevel",
         "offsetgroup": "r/nextfuckinglevel",
         "orientation": "v",
         "showlegend": true,
         "textposition": "auto",
         "type": "bar",
         "x": [
          "r/nextfuckinglevel"
         ],
         "xaxis": "x",
         "y": [
          375834
         ],
         "yaxis": "y"
        },
        {
         "alignmentgroup": "True",
         "hovertemplate": "subreddit=%{x}<br>Comments=%{y}<extra></extra>",
         "legendgroup": "r/gifs",
         "marker": {
          "color": "#B6E880",
          "pattern": {
           "shape": ""
          }
         },
         "name": "r/gifs",
         "offsetgroup": "r/gifs",
         "orientation": "v",
         "showlegend": true,
         "textposition": "auto",
         "type": "bar",
         "x": [
          "r/gifs"
         ],
         "xaxis": "x",
         "y": [
          363398
         ],
         "yaxis": "y"
        },
        {
         "alignmentgroup": "True",
         "hovertemplate": "subreddit=%{x}<br>Comments=%{y}<extra></extra>",
         "legendgroup": "r/aww",
         "marker": {
          "color": "#FF97FF",
          "pattern": {
           "shape": ""
          }
         },
         "name": "r/aww",
         "offsetgroup": "r/aww",
         "orientation": "v",
         "showlegend": true,
         "textposition": "auto",
         "type": "bar",
         "x": [
          "r/aww"
         ],
         "xaxis": "x",
         "y": [
          279779
         ],
         "yaxis": "y"
        },
        {
         "alignmentgroup": "True",
         "hovertemplate": "subreddit=%{x}<br>Comments=%{y}<extra></extra>",
         "legendgroup": "r/PublicFreakout",
         "marker": {
          "color": "#FECB52",
          "pattern": {
           "shape": ""
          }
         },
         "name": "r/PublicFreakout",
         "offsetgroup": "r/PublicFreakout",
         "orientation": "v",
         "showlegend": true,
         "textposition": "auto",
         "type": "bar",
         "x": [
          "r/PublicFreakout"
         ],
         "xaxis": "x",
         "y": [
          263214
         ],
         "yaxis": "y"
        },
        {
         "alignmentgroup": "True",
         "hovertemplate": "subreddit=%{x}<br>Comments=%{y}<extra></extra>",
         "legendgroup": "r/AskReddit",
         "marker": {
          "color": "#636efa",
          "pattern": {
           "shape": ""
          }
         },
         "name": "r/AskReddit",
         "offsetgroup": "r/AskReddit",
         "orientation": "v",
         "showlegend": true,
         "textposition": "auto",
         "type": "bar",
         "x": [
          "r/AskReddit"
         ],
         "xaxis": "x",
         "y": [
          248042
         ],
         "yaxis": "y"
        },
        {
         "alignmentgroup": "True",
         "hovertemplate": "subreddit=%{x}<br>Comments=%{y}<extra></extra>",
         "legendgroup": "r/worldnews",
         "marker": {
          "color": "#EF553B",
          "pattern": {
           "shape": ""
          }
         },
         "name": "r/worldnews",
         "offsetgroup": "r/worldnews",
         "orientation": "v",
         "showlegend": true,
         "textposition": "auto",
         "type": "bar",
         "x": [
          "r/worldnews"
         ],
         "xaxis": "x",
         "y": [
          228812
         ],
         "yaxis": "y"
        },
        {
         "alignmentgroup": "True",
         "hovertemplate": "subreddit=%{x}<br>Comments=%{y}<extra></extra>",
         "legendgroup": "r/interestingasfuck",
         "marker": {
          "color": "#00cc96",
          "pattern": {
           "shape": ""
          }
         },
         "name": "r/interestingasfuck",
         "offsetgroup": "r/interestingasfuck",
         "orientation": "v",
         "showlegend": true,
         "textposition": "auto",
         "type": "bar",
         "x": [
          "r/interestingasfuck"
         ],
         "xaxis": "x",
         "y": [
          217781
         ],
         "yaxis": "y"
        },
        {
         "alignmentgroup": "True",
         "hovertemplate": "subreddit=%{x}<br>Comments=%{y}<extra></extra>",
         "legendgroup": "r/politics",
         "marker": {
          "color": "#ab63fa",
          "pattern": {
           "shape": ""
          }
         },
         "name": "r/politics",
         "offsetgroup": "r/politics",
         "orientation": "v",
         "showlegend": true,
         "textposition": "auto",
         "type": "bar",
         "x": [
          "r/politics"
         ],
         "xaxis": "x",
         "y": [
          171384
         ],
         "yaxis": "y"
        },
        {
         "alignmentgroup": "True",
         "hovertemplate": "subreddit=%{x}<br>Comments=%{y}<extra></extra>",
         "legendgroup": "r/MurderedByWords",
         "marker": {
          "color": "#FFA15A",
          "pattern": {
           "shape": ""
          }
         },
         "name": "r/MurderedByWords",
         "offsetgroup": "r/MurderedByWords",
         "orientation": "v",
         "showlegend": true,
         "textposition": "auto",
         "type": "bar",
         "x": [
          "r/MurderedByWords"
         ],
         "xaxis": "x",
         "y": [
          130562
         ],
         "yaxis": "y"
        },
        {
         "alignmentgroup": "True",
         "hovertemplate": "subreddit=%{x}<br>Comments=%{y}<extra></extra>",
         "legendgroup": "r/videos",
         "marker": {
          "color": "#19d3f3",
          "pattern": {
           "shape": ""
          }
         },
         "name": "r/videos",
         "offsetgroup": "r/videos",
         "orientation": "v",
         "showlegend": true,
         "textposition": "auto",
         "type": "bar",
         "x": [
          "r/videos"
         ],
         "xaxis": "x",
         "y": [
          83946
         ],
         "yaxis": "y"
        },
        {
         "alignmentgroup": "True",
         "hovertemplate": "subreddit=%{x}<br>Comments=%{y}<extra></extra>",
         "legendgroup": "r/pokemon",
         "marker": {
          "color": "#FF6692",
          "pattern": {
           "shape": ""
          }
         },
         "name": "r/pokemon",
         "offsetgroup": "r/pokemon",
         "orientation": "v",
         "showlegend": true,
         "textposition": "auto",
         "type": "bar",
         "x": [
          "r/pokemon"
         ],
         "xaxis": "x",
         "y": [
          77368
         ],
         "yaxis": "y"
        },
        {
         "alignmentgroup": "True",
         "hovertemplate": "subreddit=%{x}<br>Comments=%{y}<extra></extra>",
         "legendgroup": "r/todayilearned",
         "marker": {
          "color": "#B6E880",
          "pattern": {
           "shape": ""
          }
         },
         "name": "r/todayilearned",
         "offsetgroup": "r/todayilearned",
         "orientation": "v",
         "showlegend": true,
         "textposition": "auto",
         "type": "bar",
         "x": [
          "r/todayilearned"
         ],
         "xaxis": "x",
         "y": [
          76902
         ],
         "yaxis": "y"
        },
        {
         "alignmentgroup": "True",
         "hovertemplate": "subreddit=%{x}<br>Comments=%{y}<extra></extra>",
         "legendgroup": "r/MadeMeSmile",
         "marker": {
          "color": "#FF97FF",
          "pattern": {
           "shape": ""
          }
         },
         "name": "r/MadeMeSmile",
         "offsetgroup": "r/MadeMeSmile",
         "orientation": "v",
         "showlegend": true,
         "textposition": "auto",
         "type": "bar",
         "x": [
          "r/MadeMeSmile"
         ],
         "xaxis": "x",
         "y": [
          65111
         ],
         "yaxis": "y"
        },
        {
         "alignmentgroup": "True",
         "hovertemplate": "subreddit=%{x}<br>Comments=%{y}<extra></extra>",
         "legendgroup": "r/WatchPeopleDieInside",
         "marker": {
          "color": "#FECB52",
          "pattern": {
           "shape": ""
          }
         },
         "name": "r/WatchPeopleDieInside",
         "offsetgroup": "r/WatchPeopleDieInside",
         "orientation": "v",
         "showlegend": true,
         "textposition": "auto",
         "type": "bar",
         "x": [
          "r/WatchPeopleDieInside"
         ],
         "xaxis": "x",
         "y": [
          63731
         ],
         "yaxis": "y"
        },
        {
         "alignmentgroup": "True",
         "hovertemplate": "subreddit=%{x}<br>Comments=%{y}<extra></extra>",
         "legendgroup": "r/thanosdidnothingwrong",
         "marker": {
          "color": "#636efa",
          "pattern": {
           "shape": ""
          }
         },
         "name": "r/thanosdidnothingwrong",
         "offsetgroup": "r/thanosdidnothingwrong",
         "orientation": "v",
         "showlegend": true,
         "textposition": "auto",
         "type": "bar",
         "x": [
          "r/thanosdidnothingwrong"
         ],
         "xaxis": "x",
         "y": [
          55628
         ],
         "yaxis": "y"
        },
        {
         "alignmentgroup": "True",
         "hovertemplate": "subreddit=%{x}<br>Comments=%{y}<extra></extra>",
         "legendgroup": "r/movies",
         "marker": {
          "color": "#EF553B",
          "pattern": {
           "shape": ""
          }
         },
         "name": "r/movies",
         "offsetgroup": "r/movies",
         "orientation": "v",
         "showlegend": true,
         "textposition": "auto",
         "type": "bar",
         "x": [
          "r/movies"
         ],
         "xaxis": "x",
         "y": [
          50189
         ],
         "yaxis": "y"
        },
        {
         "alignmentgroup": "True",
         "hovertemplate": "subreddit=%{x}<br>Comments=%{y}<extra></extra>",
         "legendgroup": "r/announcements",
         "marker": {
          "color": "#00cc96",
          "pattern": {
           "shape": ""
          }
         },
         "name": "r/announcements",
         "offsetgroup": "r/announcements",
         "orientation": "v",
         "showlegend": true,
         "textposition": "auto",
         "type": "bar",
         "x": [
          "r/announcements"
         ],
         "xaxis": "x",
         "y": [
          45369
         ],
         "yaxis": "y"
        },
        {
         "alignmentgroup": "True",
         "hovertemplate": "subreddit=%{x}<br>Comments=%{y}<extra></extra>",
         "legendgroup": "r/WhitePeopleTwitter",
         "marker": {
          "color": "#ab63fa",
          "pattern": {
           "shape": ""
          }
         },
         "name": "r/WhitePeopleTwitter",
         "offsetgroup": "r/WhitePeopleTwitter",
         "orientation": "v",
         "showlegend": true,
         "textposition": "auto",
         "type": "bar",
         "x": [
          "r/WhitePeopleTwitter"
         ],
         "xaxis": "x",
         "y": [
          44859
         ],
         "yaxis": "y"
        },
        {
         "alignmentgroup": "True",
         "hovertemplate": "subreddit=%{x}<br>Comments=%{y}<extra></extra>",
         "legendgroup": "r/facepalm",
         "marker": {
          "color": "#FFA15A",
          "pattern": {
           "shape": ""
          }
         },
         "name": "r/facepalm",
         "offsetgroup": "r/facepalm",
         "orientation": "v",
         "showlegend": true,
         "textposition": "auto",
         "type": "bar",
         "x": [
          "r/facepalm"
         ],
         "xaxis": "x",
         "y": [
          43040
         ],
         "yaxis": "y"
        },
        {
         "alignmentgroup": "True",
         "hovertemplate": "subreddit=%{x}<br>Comments=%{y}<extra></extra>",
         "legendgroup": "r/mildlyinteresting",
         "marker": {
          "color": "#19d3f3",
          "pattern": {
           "shape": ""
          }
         },
         "name": "r/mildlyinteresting",
         "offsetgroup": "r/mildlyinteresting",
         "orientation": "v",
         "showlegend": true,
         "textposition": "auto",
         "type": "bar",
         "x": [
          "r/mildlyinteresting"
         ],
         "xaxis": "x",
         "y": [
          39558
         ],
         "yaxis": "y"
        },
        {
         "alignmentgroup": "True",
         "hovertemplate": "subreddit=%{x}<br>Comments=%{y}<extra></extra>",
         "legendgroup": "r/Showerthoughts",
         "marker": {
          "color": "#FF6692",
          "pattern": {
           "shape": ""
          }
         },
         "name": "r/Showerthoughts",
         "offsetgroup": "r/Showerthoughts",
         "orientation": "v",
         "showlegend": true,
         "textposition": "auto",
         "type": "bar",
         "x": [
          "r/Showerthoughts"
         ],
         "xaxis": "x",
         "y": [
          36043
         ],
         "yaxis": "y"
        },
        {
         "alignmentgroup": "True",
         "hovertemplate": "subreddit=%{x}<br>Comments=%{y}<extra></extra>",
         "legendgroup": "r/awfuleverything",
         "marker": {
          "color": "#B6E880",
          "pattern": {
           "shape": ""
          }
         },
         "name": "r/awfuleverything",
         "offsetgroup": "r/awfuleverything",
         "orientation": "v",
         "showlegend": true,
         "textposition": "auto",
         "type": "bar",
         "x": [
          "r/awfuleverything"
         ],
         "xaxis": "x",
         "y": [
          34154
         ],
         "yaxis": "y"
        },
        {
         "alignmentgroup": "True",
         "hovertemplate": "subreddit=%{x}<br>Comments=%{y}<extra></extra>",
         "legendgroup": "r/Wellthatsucks",
         "marker": {
          "color": "#FF97FF",
          "pattern": {
           "shape": ""
          }
         },
         "name": "r/Wellthatsucks",
         "offsetgroup": "r/Wellthatsucks",
         "orientation": "v",
         "showlegend": true,
         "textposition": "auto",
         "type": "bar",
         "x": [
          "r/Wellthatsucks"
         ],
         "xaxis": "x",
         "y": [
          33907
         ],
         "yaxis": "y"
        },
        {
         "alignmentgroup": "True",
         "hovertemplate": "subreddit=%{x}<br>Comments=%{y}<extra></extra>",
         "legendgroup": "r/teenagers",
         "marker": {
          "color": "#FECB52",
          "pattern": {
           "shape": ""
          }
         },
         "name": "r/teenagers",
         "offsetgroup": "r/teenagers",
         "orientation": "v",
         "showlegend": true,
         "textposition": "auto",
         "type": "bar",
         "x": [
          "r/teenagers"
         ],
         "xaxis": "x",
         "y": [
          30944
         ],
         "yaxis": "y"
        },
        {
         "alignmentgroup": "True",
         "hovertemplate": "subreddit=%{x}<br>Comments=%{y}<extra></extra>",
         "legendgroup": "r/IAmA",
         "marker": {
          "color": "#636efa",
          "pattern": {
           "shape": ""
          }
         },
         "name": "r/IAmA",
         "offsetgroup": "r/IAmA",
         "orientation": "v",
         "showlegend": true,
         "textposition": "auto",
         "type": "bar",
         "x": [
          "r/IAmA"
         ],
         "xaxis": "x",
         "y": [
          25552
         ],
         "yaxis": "y"
        },
        {
         "alignmentgroup": "True",
         "hovertemplate": "subreddit=%{x}<br>Comments=%{y}<extra></extra>",
         "legendgroup": "r/IdiotsInCars",
         "marker": {
          "color": "#EF553B",
          "pattern": {
           "shape": ""
          }
         },
         "name": "r/IdiotsInCars",
         "offsetgroup": "r/IdiotsInCars",
         "orientation": "v",
         "showlegend": true,
         "textposition": "auto",
         "type": "bar",
         "x": [
          "r/IdiotsInCars"
         ],
         "xaxis": "x",
         "y": [
          25455
         ],
         "yaxis": "y"
        },
        {
         "alignmentgroup": "True",
         "hovertemplate": "subreddit=%{x}<br>Comments=%{y}<extra></extra>",
         "legendgroup": "r/space",
         "marker": {
          "color": "#00cc96",
          "pattern": {
           "shape": ""
          }
         },
         "name": "r/space",
         "offsetgroup": "r/space",
         "orientation": "v",
         "showlegend": true,
         "textposition": "auto",
         "type": "bar",
         "x": [
          "r/space"
         ],
         "xaxis": "x",
         "y": [
          24966
         ],
         "yaxis": "y"
        },
        {
         "alignmentgroup": "True",
         "hovertemplate": "subreddit=%{x}<br>Comments=%{y}<extra></extra>",
         "legendgroup": "r/wholesomememes",
         "marker": {
          "color": "#ab63fa",
          "pattern": {
           "shape": ""
          }
         },
         "name": "r/wholesomememes",
         "offsetgroup": "r/wholesomememes",
         "orientation": "v",
         "showlegend": true,
         "textposition": "auto",
         "type": "bar",
         "x": [
          "r/wholesomememes"
         ],
         "xaxis": "x",
         "y": [
          23704
         ],
         "yaxis": "y"
        },
        {
         "alignmentgroup": "True",
         "hovertemplate": "subreddit=%{x}<br>Comments=%{y}<extra></extra>",
         "legendgroup": "r/tifu",
         "marker": {
          "color": "#FFA15A",
          "pattern": {
           "shape": ""
          }
         },
         "name": "r/tifu",
         "offsetgroup": "r/tifu",
         "orientation": "v",
         "showlegend": true,
         "textposition": "auto",
         "type": "bar",
         "x": [
          "r/tifu"
         ],
         "xaxis": "x",
         "y": [
          21631
         ],
         "yaxis": "y"
        },
        {
         "alignmentgroup": "True",
         "hovertemplate": "subreddit=%{x}<br>Comments=%{y}<extra></extra>",
         "legendgroup": "r/technology",
         "marker": {
          "color": "#19d3f3",
          "pattern": {
           "shape": ""
          }
         },
         "name": "r/technology",
         "offsetgroup": "r/technology",
         "orientation": "v",
         "showlegend": true,
         "textposition": "auto",
         "type": "bar",
         "x": [
          "r/technology"
         ],
         "xaxis": "x",
         "y": [
          18800
         ],
         "yaxis": "y"
        },
        {
         "alignmentgroup": "True",
         "hovertemplate": "subreddit=%{x}<br>Comments=%{y}<extra></extra>",
         "legendgroup": "r/JusticeServed",
         "marker": {
          "color": "#FF6692",
          "pattern": {
           "shape": ""
          }
         },
         "name": "r/JusticeServed",
         "offsetgroup": "r/JusticeServed",
         "orientation": "v",
         "showlegend": true,
         "textposition": "auto",
         "type": "bar",
         "x": [
          "r/JusticeServed"
         ],
         "xaxis": "x",
         "y": [
          15439
         ],
         "yaxis": "y"
        },
        {
         "alignmentgroup": "True",
         "hovertemplate": "subreddit=%{x}<br>Comments=%{y}<extra></extra>",
         "legendgroup": "r/me_irl",
         "marker": {
          "color": "#B6E880",
          "pattern": {
           "shape": ""
          }
         },
         "name": "r/me_irl",
         "offsetgroup": "r/me_irl",
         "orientation": "v",
         "showlegend": true,
         "textposition": "auto",
         "type": "bar",
         "x": [
          "r/me_irl"
         ],
         "xaxis": "x",
         "y": [
          15308
         ],
         "yaxis": "y"
        },
        {
         "alignmentgroup": "True",
         "hovertemplate": "subreddit=%{x}<br>Comments=%{y}<extra></extra>",
         "legendgroup": "r/LifeProTips",
         "marker": {
          "color": "#FF97FF",
          "pattern": {
           "shape": ""
          }
         },
         "name": "r/LifeProTips",
         "offsetgroup": "r/LifeProTips",
         "orientation": "v",
         "showlegend": true,
         "textposition": "auto",
         "type": "bar",
         "x": [
          "r/LifeProTips"
         ],
         "xaxis": "x",
         "y": [
          14635
         ],
         "yaxis": "y"
        },
        {
         "alignmentgroup": "True",
         "hovertemplate": "subreddit=%{x}<br>Comments=%{y}<extra></extra>",
         "legendgroup": "r/iamatotalpieceofshit",
         "marker": {
          "color": "#FECB52",
          "pattern": {
           "shape": ""
          }
         },
         "name": "r/iamatotalpieceofshit",
         "offsetgroup": "r/iamatotalpieceofshit",
         "orientation": "v",
         "showlegend": true,
         "textposition": "auto",
         "type": "bar",
         "x": [
          "r/iamatotalpieceofshit"
         ],
         "xaxis": "x",
         "y": [
          14420
         ],
         "yaxis": "y"
        },
        {
         "alignmentgroup": "True",
         "hovertemplate": "subreddit=%{x}<br>Comments=%{y}<extra></extra>",
         "legendgroup": "r/PrequelMemes",
         "marker": {
          "color": "#636efa",
          "pattern": {
           "shape": ""
          }
         },
         "name": "r/PrequelMemes",
         "offsetgroup": "r/PrequelMemes",
         "orientation": "v",
         "showlegend": true,
         "textposition": "auto",
         "type": "bar",
         "x": [
          "r/PrequelMemes"
         ],
         "xaxis": "x",
         "y": [
          14281
         ],
         "yaxis": "y"
        },
        {
         "alignmentgroup": "True",
         "hovertemplate": "subreddit=%{x}<br>Comments=%{y}<extra></extra>",
         "legendgroup": "r/trashy",
         "marker": {
          "color": "#EF553B",
          "pattern": {
           "shape": ""
          }
         },
         "name": "r/trashy",
         "offsetgroup": "r/trashy",
         "orientation": "v",
         "showlegend": true,
         "textposition": "auto",
         "type": "bar",
         "x": [
          "r/trashy"
         ],
         "xaxis": "x",
         "y": [
          13989
         ],
         "yaxis": "y"
        },
        {
         "alignmentgroup": "True",
         "hovertemplate": "subreddit=%{x}<br>Comments=%{y}<extra></extra>",
         "legendgroup": "r/ChoosingBeggars",
         "marker": {
          "color": "#00cc96",
          "pattern": {
           "shape": ""
          }
         },
         "name": "r/ChoosingBeggars",
         "offsetgroup": "r/ChoosingBeggars",
         "orientation": "v",
         "showlegend": true,
         "textposition": "auto",
         "type": "bar",
         "x": [
          "r/ChoosingBeggars"
         ],
         "xaxis": "x",
         "y": [
          11250
         ],
         "yaxis": "y"
        },
        {
         "alignmentgroup": "True",
         "hovertemplate": "subreddit=%{x}<br>Comments=%{y}<extra></extra>",
         "legendgroup": "r/PewdiepieSubmissions",
         "marker": {
          "color": "#ab63fa",
          "pattern": {
           "shape": ""
          }
         },
         "name": "r/PewdiepieSubmissions",
         "offsetgroup": "r/PewdiepieSubmissions",
         "orientation": "v",
         "showlegend": true,
         "textposition": "auto",
         "type": "bar",
         "x": [
          "r/PewdiepieSubmissions"
         ],
         "xaxis": "x",
         "y": [
          10456
         ],
         "yaxis": "y"
        },
        {
         "alignmentgroup": "True",
         "hovertemplate": "subreddit=%{x}<br>Comments=%{y}<extra></extra>",
         "legendgroup": "r/LeopardsAteMyFace",
         "marker": {
          "color": "#FFA15A",
          "pattern": {
           "shape": ""
          }
         },
         "name": "r/LeopardsAteMyFace",
         "offsetgroup": "r/LeopardsAteMyFace",
         "orientation": "v",
         "showlegend": true,
         "textposition": "auto",
         "type": "bar",
         "x": [
          "r/LeopardsAteMyFace"
         ],
         "xaxis": "x",
         "y": [
          10072
         ],
         "yaxis": "y"
        },
        {
         "alignmentgroup": "True",
         "hovertemplate": "subreddit=%{x}<br>Comments=%{y}<extra></extra>",
         "legendgroup": "r/BikiniBottomTwitter",
         "marker": {
          "color": "#19d3f3",
          "pattern": {
           "shape": ""
          }
         },
         "name": "r/BikiniBottomTwitter",
         "offsetgroup": "r/BikiniBottomTwitter",
         "orientation": "v",
         "showlegend": true,
         "textposition": "auto",
         "type": "bar",
         "x": [
          "r/BikiniBottomTwitter"
         ],
         "xaxis": "x",
         "y": [
          9769
         ],
         "yaxis": "y"
        },
        {
         "alignmentgroup": "True",
         "hovertemplate": "subreddit=%{x}<br>Comments=%{y}<extra></extra>",
         "legendgroup": "r/science",
         "marker": {
          "color": "#FF6692",
          "pattern": {
           "shape": ""
          }
         },
         "name": "r/science",
         "offsetgroup": "r/science",
         "orientation": "v",
         "showlegend": true,
         "textposition": "auto",
         "type": "bar",
         "x": [
          "r/science"
         ],
         "xaxis": "x",
         "y": [
          9344
         ],
         "yaxis": "y"
        },
        {
         "alignmentgroup": "True",
         "hovertemplate": "subreddit=%{x}<br>Comments=%{y}<extra></extra>",
         "legendgroup": "r/Futurology",
         "marker": {
          "color": "#B6E880",
          "pattern": {
           "shape": ""
          }
         },
         "name": "r/Futurology",
         "offsetgroup": "r/Futurology",
         "orientation": "v",
         "showlegend": true,
         "textposition": "auto",
         "type": "bar",
         "x": [
          "r/Futurology"
         ],
         "xaxis": "x",
         "y": [
          7899
         ],
         "yaxis": "y"
        },
        {
         "alignmentgroup": "True",
         "hovertemplate": "subreddit=%{x}<br>Comments=%{y}<extra></extra>",
         "legendgroup": "r/dataisbeautiful",
         "marker": {
          "color": "#FF97FF",
          "pattern": {
           "shape": ""
          }
         },
         "name": "r/dataisbeautiful",
         "offsetgroup": "r/dataisbeautiful",
         "orientation": "v",
         "showlegend": true,
         "textposition": "auto",
         "type": "bar",
         "x": [
          "r/dataisbeautiful"
         ],
         "xaxis": "x",
         "y": [
          7661
         ],
         "yaxis": "y"
        },
        {
         "alignmentgroup": "True",
         "hovertemplate": "subreddit=%{x}<br>Comments=%{y}<extra></extra>",
         "legendgroup": "r/insanepeoplefacebook",
         "marker": {
          "color": "#FECB52",
          "pattern": {
           "shape": ""
          }
         },
         "name": "r/insanepeoplefacebook",
         "offsetgroup": "r/insanepeoplefacebook",
         "orientation": "v",
         "showlegend": true,
         "textposition": "auto",
         "type": "bar",
         "x": [
          "r/insanepeoplefacebook"
         ],
         "xaxis": "x",
         "y": [
          6936
         ],
         "yaxis": "y"
        },
        {
         "alignmentgroup": "True",
         "hovertemplate": "subreddit=%{x}<br>Comments=%{y}<extra></extra>",
         "legendgroup": "r/UpliftingNews",
         "marker": {
          "color": "#636efa",
          "pattern": {
           "shape": ""
          }
         },
         "name": "r/UpliftingNews",
         "offsetgroup": "r/UpliftingNews",
         "orientation": "v",
         "showlegend": true,
         "textposition": "auto",
         "type": "bar",
         "x": [
          "r/UpliftingNews"
         ],
         "xaxis": "x",
         "y": [
          5777
         ],
         "yaxis": "y"
        },
        {
         "alignmentgroup": "True",
         "hovertemplate": "subreddit=%{x}<br>Comments=%{y}<extra></extra>",
         "legendgroup": "r/coolguides",
         "marker": {
          "color": "#EF553B",
          "pattern": {
           "shape": ""
          }
         },
         "name": "r/coolguides",
         "offsetgroup": "r/coolguides",
         "orientation": "v",
         "showlegend": true,
         "textposition": "auto",
         "type": "bar",
         "x": [
          "r/coolguides"
         ],
         "xaxis": "x",
         "y": [
          5504
         ],
         "yaxis": "y"
        },
        {
         "alignmentgroup": "True",
         "hovertemplate": "subreddit=%{x}<br>Comments=%{y}<extra></extra>",
         "legendgroup": "r/BlackPeopleTwitter",
         "marker": {
          "color": "#00cc96",
          "pattern": {
           "shape": ""
          }
         },
         "name": "r/BlackPeopleTwitter",
         "offsetgroup": "r/BlackPeopleTwitter",
         "orientation": "v",
         "showlegend": true,
         "textposition": "auto",
         "type": "bar",
         "x": [
          "r/BlackPeopleTwitter"
         ],
         "xaxis": "x",
         "y": [
          4979
         ],
         "yaxis": "y"
        },
        {
         "alignmentgroup": "True",
         "hovertemplate": "subreddit=%{x}<br>Comments=%{y}<extra></extra>",
         "legendgroup": "r/The_Mueller",
         "marker": {
          "color": "#ab63fa",
          "pattern": {
           "shape": ""
          }
         },
         "name": "r/The_Mueller",
         "offsetgroup": "r/The_Mueller",
         "orientation": "v",
         "showlegend": true,
         "textposition": "auto",
         "type": "bar",
         "x": [
          "r/The_Mueller"
         ],
         "xaxis": "x",
         "y": [
          4903
         ],
         "yaxis": "y"
        },
        {
         "alignmentgroup": "True",
         "hovertemplate": "subreddit=%{x}<br>Comments=%{y}<extra></extra>",
         "legendgroup": "r/oddlysatisfying",
         "marker": {
          "color": "#FFA15A",
          "pattern": {
           "shape": ""
          }
         },
         "name": "r/oddlysatisfying",
         "offsetgroup": "r/oddlysatisfying",
         "orientation": "v",
         "showlegend": true,
         "textposition": "auto",
         "type": "bar",
         "x": [
          "r/oddlysatisfying"
         ],
         "xaxis": "x",
         "y": [
          4819
         ],
         "yaxis": "y"
        },
        {
         "alignmentgroup": "True",
         "hovertemplate": "subreddit=%{x}<br>Comments=%{y}<extra></extra>",
         "legendgroup": "r/Whatcouldgowrong",
         "marker": {
          "color": "#19d3f3",
          "pattern": {
           "shape": ""
          }
         },
         "name": "r/Whatcouldgowrong",
         "offsetgroup": "r/Whatcouldgowrong",
         "orientation": "v",
         "showlegend": true,
         "textposition": "auto",
         "type": "bar",
         "x": [
          "r/Whatcouldgowrong"
         ],
         "xaxis": "x",
         "y": [
          4519
         ],
         "yaxis": "y"
        },
        {
         "alignmentgroup": "True",
         "hovertemplate": "subreddit=%{x}<br>Comments=%{y}<extra></extra>",
         "legendgroup": "r/nottheonion",
         "marker": {
          "color": "#FF6692",
          "pattern": {
           "shape": ""
          }
         },
         "name": "r/nottheonion",
         "offsetgroup": "r/nottheonion",
         "orientation": "v",
         "showlegend": true,
         "textposition": "auto",
         "type": "bar",
         "x": [
          "r/nottheonion"
         ],
         "xaxis": "x",
         "y": [
          4368
         ],
         "yaxis": "y"
        },
        {
         "alignmentgroup": "True",
         "hovertemplate": "subreddit=%{x}<br>Comments=%{y}<extra></extra>",
         "legendgroup": "r/Coronavirus",
         "marker": {
          "color": "#B6E880",
          "pattern": {
           "shape": ""
          }
         },
         "name": "r/Coronavirus",
         "offsetgroup": "r/Coronavirus",
         "orientation": "v",
         "showlegend": true,
         "textposition": "auto",
         "type": "bar",
         "x": [
          "r/Coronavirus"
         ],
         "xaxis": "x",
         "y": [
          4346
         ],
         "yaxis": "y"
        },
        {
         "alignmentgroup": "True",
         "hovertemplate": "subreddit=%{x}<br>Comments=%{y}<extra></extra>",
         "legendgroup": "r/instant_regret",
         "marker": {
          "color": "#FF97FF",
          "pattern": {
           "shape": ""
          }
         },
         "name": "r/instant_regret",
         "offsetgroup": "r/instant_regret",
         "orientation": "v",
         "showlegend": true,
         "textposition": "auto",
         "type": "bar",
         "x": [
          "r/instant_regret"
         ],
         "xaxis": "x",
         "y": [
          4278
         ],
         "yaxis": "y"
        },
        {
         "alignmentgroup": "True",
         "hovertemplate": "subreddit=%{x}<br>Comments=%{y}<extra></extra>",
         "legendgroup": "r/gifsthatkeepongiving",
         "marker": {
          "color": "#FECB52",
          "pattern": {
           "shape": ""
          }
         },
         "name": "r/gifsthatkeepongiving",
         "offsetgroup": "r/gifsthatkeepongiving",
         "orientation": "v",
         "showlegend": true,
         "textposition": "auto",
         "type": "bar",
         "x": [
          "r/gifsthatkeepongiving"
         ],
         "xaxis": "x",
         "y": [
          4228
         ],
         "yaxis": "y"
        },
        {
         "alignmentgroup": "True",
         "hovertemplate": "subreddit=%{x}<br>Comments=%{y}<extra></extra>",
         "legendgroup": "r/rickandmorty",
         "marker": {
          "color": "#636efa",
          "pattern": {
           "shape": ""
          }
         },
         "name": "r/rickandmorty",
         "offsetgroup": "r/rickandmorty",
         "orientation": "v",
         "showlegend": true,
         "textposition": "auto",
         "type": "bar",
         "x": [
          "r/rickandmorty"
         ],
         "xaxis": "x",
         "y": [
          3984
         ],
         "yaxis": "y"
        },
        {
         "alignmentgroup": "True",
         "hovertemplate": "subreddit=%{x}<br>Comments=%{y}<extra></extra>",
         "legendgroup": "r/assholedesign",
         "marker": {
          "color": "#EF553B",
          "pattern": {
           "shape": ""
          }
         },
         "name": "r/assholedesign",
         "offsetgroup": "r/assholedesign",
         "orientation": "v",
         "showlegend": true,
         "textposition": "auto",
         "type": "bar",
         "x": [
          "r/assholedesign"
         ],
         "xaxis": "x",
         "y": [
          3609
         ],
         "yaxis": "y"
        },
        {
         "alignmentgroup": "True",
         "hovertemplate": "subreddit=%{x}<br>Comments=%{y}<extra></extra>",
         "legendgroup": "r/Jokes",
         "marker": {
          "color": "#00cc96",
          "pattern": {
           "shape": ""
          }
         },
         "name": "r/Jokes",
         "offsetgroup": "r/Jokes",
         "orientation": "v",
         "showlegend": true,
         "textposition": "auto",
         "type": "bar",
         "x": [
          "r/Jokes"
         ],
         "xaxis": "x",
         "y": [
          3412
         ],
         "yaxis": "y"
        },
        {
         "alignmentgroup": "True",
         "hovertemplate": "subreddit=%{x}<br>Comments=%{y}<extra></extra>",
         "legendgroup": "r/GetMotivated",
         "marker": {
          "color": "#ab63fa",
          "pattern": {
           "shape": ""
          }
         },
         "name": "r/GetMotivated",
         "offsetgroup": "r/GetMotivated",
         "orientation": "v",
         "showlegend": true,
         "textposition": "auto",
         "type": "bar",
         "x": [
          "r/GetMotivated"
         ],
         "xaxis": "x",
         "y": [
          3317
         ],
         "yaxis": "y"
        },
        {
         "alignmentgroup": "True",
         "hovertemplate": "subreddit=%{x}<br>Comments=%{y}<extra></extra>",
         "legendgroup": "r/pcmasterrace",
         "marker": {
          "color": "#FFA15A",
          "pattern": {
           "shape": ""
          }
         },
         "name": "r/pcmasterrace",
         "offsetgroup": "r/pcmasterrace",
         "orientation": "v",
         "showlegend": true,
         "textposition": "auto",
         "type": "bar",
         "x": [
          "r/pcmasterrace"
         ],
         "xaxis": "x",
         "y": [
          3084
         ],
         "yaxis": "y"
        },
        {
         "alignmentgroup": "True",
         "hovertemplate": "subreddit=%{x}<br>Comments=%{y}<extra></extra>",
         "legendgroup": "r/DunderMifflin",
         "marker": {
          "color": "#19d3f3",
          "pattern": {
           "shape": ""
          }
         },
         "name": "r/DunderMifflin",
         "offsetgroup": "r/DunderMifflin",
         "orientation": "v",
         "showlegend": true,
         "textposition": "auto",
         "type": "bar",
         "x": [
          "r/DunderMifflin"
         ],
         "xaxis": "x",
         "y": [
          2974
         ],
         "yaxis": "y"
        },
        {
         "alignmentgroup": "True",
         "hovertemplate": "subreddit=%{x}<br>Comments=%{y}<extra></extra>",
         "legendgroup": "r/HolUp",
         "marker": {
          "color": "#FF6692",
          "pattern": {
           "shape": ""
          }
         },
         "name": "r/HolUp",
         "offsetgroup": "r/HolUp",
         "orientation": "v",
         "showlegend": true,
         "textposition": "auto",
         "type": "bar",
         "x": [
          "r/HolUp"
         ],
         "xaxis": "x",
         "y": [
          2818
         ],
         "yaxis": "y"
        },
        {
         "alignmentgroup": "True",
         "hovertemplate": "subreddit=%{x}<br>Comments=%{y}<extra></extra>",
         "legendgroup": "r/StarWarsBattlefront",
         "marker": {
          "color": "#B6E880",
          "pattern": {
           "shape": ""
          }
         },
         "name": "r/StarWarsBattlefront",
         "offsetgroup": "r/StarWarsBattlefront",
         "orientation": "v",
         "showlegend": true,
         "textposition": "auto",
         "type": "bar",
         "x": [
          "r/StarWarsBattlefront"
         ],
         "xaxis": "x",
         "y": [
          2754
         ],
         "yaxis": "y"
        },
        {
         "alignmentgroup": "True",
         "hovertemplate": "subreddit=%{x}<br>Comments=%{y}<extra></extra>",
         "legendgroup": "r/quityourbullshit",
         "marker": {
          "color": "#FF97FF",
          "pattern": {
           "shape": ""
          }
         },
         "name": "r/quityourbullshit",
         "offsetgroup": "r/quityourbullshit",
         "orientation": "v",
         "showlegend": true,
         "textposition": "auto",
         "type": "bar",
         "x": [
          "r/quityourbullshit"
         ],
         "xaxis": "x",
         "y": [
          2676
         ],
         "yaxis": "y"
        },
        {
         "alignmentgroup": "True",
         "hovertemplate": "subreddit=%{x}<br>Comments=%{y}<extra></extra>",
         "legendgroup": "r/Damnthatsinteresting",
         "marker": {
          "color": "#FECB52",
          "pattern": {
           "shape": ""
          }
         },
         "name": "r/Damnthatsinteresting",
         "offsetgroup": "r/Damnthatsinteresting",
         "orientation": "v",
         "showlegend": true,
         "textposition": "auto",
         "type": "bar",
         "x": [
          "r/Damnthatsinteresting"
         ],
         "xaxis": "x",
         "y": [
          2637
         ],
         "yaxis": "y"
        },
        {
         "alignmentgroup": "True",
         "hovertemplate": "subreddit=%{x}<br>Comments=%{y}<extra></extra>",
         "legendgroup": "r/sports",
         "marker": {
          "color": "#636efa",
          "pattern": {
           "shape": ""
          }
         },
         "name": "r/sports",
         "offsetgroup": "r/sports",
         "orientation": "v",
         "showlegend": true,
         "textposition": "auto",
         "type": "bar",
         "x": [
          "r/sports"
         ],
         "xaxis": "x",
         "y": [
          2375
         ],
         "yaxis": "y"
        },
        {
         "alignmentgroup": "True",
         "hovertemplate": "subreddit=%{x}<br>Comments=%{y}<extra></extra>",
         "legendgroup": "r/TwoXChromosomes",
         "marker": {
          "color": "#EF553B",
          "pattern": {
           "shape": ""
          }
         },
         "name": "r/TwoXChromosomes",
         "offsetgroup": "r/TwoXChromosomes",
         "orientation": "v",
         "showlegend": true,
         "textposition": "auto",
         "type": "bar",
         "x": [
          "r/TwoXChromosomes"
         ],
         "xaxis": "x",
         "y": [
          2331
         ],
         "yaxis": "y"
        },
        {
         "alignmentgroup": "True",
         "hovertemplate": "subreddit=%{x}<br>Comments=%{y}<extra></extra>",
         "legendgroup": "r/Instagramreality",
         "marker": {
          "color": "#00cc96",
          "pattern": {
           "shape": ""
          }
         },
         "name": "r/Instagramreality",
         "offsetgroup": "r/Instagramreality",
         "orientation": "v",
         "showlegend": true,
         "textposition": "auto",
         "type": "bar",
         "x": [
          "r/Instagramreality"
         ],
         "xaxis": "x",
         "y": [
          2293
         ],
         "yaxis": "y"
        },
        {
         "alignmentgroup": "True",
         "hovertemplate": "subreddit=%{x}<br>Comments=%{y}<extra></extra>",
         "legendgroup": "r/books",
         "marker": {
          "color": "#ab63fa",
          "pattern": {
           "shape": ""
          }
         },
         "name": "r/books",
         "offsetgroup": "r/books",
         "orientation": "v",
         "showlegend": true,
         "textposition": "auto",
         "type": "bar",
         "x": [
          "r/books"
         ],
         "xaxis": "x",
         "y": [
          2103
         ],
         "yaxis": "y"
        },
        {
         "alignmentgroup": "True",
         "hovertemplate": "subreddit=%{x}<br>Comments=%{y}<extra></extra>",
         "legendgroup": "r/HongKong",
         "marker": {
          "color": "#FFA15A",
          "pattern": {
           "shape": ""
          }
         },
         "name": "r/HongKong",
         "offsetgroup": "r/HongKong",
         "orientation": "v",
         "showlegend": true,
         "textposition": "auto",
         "type": "bar",
         "x": [
          "r/HongKong"
         ],
         "xaxis": "x",
         "y": [
          1905
         ],
         "yaxis": "y"
        },
        {
         "alignmentgroup": "True",
         "hovertemplate": "subreddit=%{x}<br>Comments=%{y}<extra></extra>",
         "legendgroup": "r/listentothis",
         "marker": {
          "color": "#19d3f3",
          "pattern": {
           "shape": ""
          }
         },
         "name": "r/listentothis",
         "offsetgroup": "r/listentothis",
         "orientation": "v",
         "showlegend": true,
         "textposition": "auto",
         "type": "bar",
         "x": [
          "r/listentothis"
         ],
         "xaxis": "x",
         "y": [
          1801
         ],
         "yaxis": "y"
        },
        {
         "alignmentgroup": "True",
         "hovertemplate": "subreddit=%{x}<br>Comments=%{y}<extra></extra>",
         "legendgroup": "r/Music",
         "marker": {
          "color": "#FF6692",
          "pattern": {
           "shape": ""
          }
         },
         "name": "r/Music",
         "offsetgroup": "r/Music",
         "orientation": "v",
         "showlegend": true,
         "textposition": "auto",
         "type": "bar",
         "x": [
          "r/Music"
         ],
         "xaxis": "x",
         "y": [
          1745
         ],
         "yaxis": "y"
        },
        {
         "alignmentgroup": "True",
         "hovertemplate": "subreddit=%{x}<br>Comments=%{y}<extra></extra>",
         "legendgroup": "r/freefolk",
         "marker": {
          "color": "#B6E880",
          "pattern": {
           "shape": ""
          }
         },
         "name": "r/freefolk",
         "offsetgroup": "r/freefolk",
         "orientation": "v",
         "showlegend": true,
         "textposition": "auto",
         "type": "bar",
         "x": [
          "r/freefolk"
         ],
         "xaxis": "x",
         "y": [
          1516
         ],
         "yaxis": "y"
        },
        {
         "alignmentgroup": "True",
         "hovertemplate": "subreddit=%{x}<br>Comments=%{y}<extra></extra>",
         "legendgroup": "r/MemeEconomy",
         "marker": {
          "color": "#FF97FF",
          "pattern": {
           "shape": ""
          }
         },
         "name": "r/MemeEconomy",
         "offsetgroup": "r/MemeEconomy",
         "orientation": "v",
         "showlegend": true,
         "textposition": "auto",
         "type": "bar",
         "x": [
          "r/MemeEconomy"
         ],
         "xaxis": "x",
         "y": [
          1439
         ],
         "yaxis": "y"
        },
        {
         "alignmentgroup": "True",
         "hovertemplate": "subreddit=%{x}<br>Comments=%{y}<extra></extra>",
         "legendgroup": "r/BeAmazed",
         "marker": {
          "color": "#FECB52",
          "pattern": {
           "shape": ""
          }
         },
         "name": "r/BeAmazed",
         "offsetgroup": "r/BeAmazed",
         "orientation": "v",
         "showlegend": true,
         "textposition": "auto",
         "type": "bar",
         "x": [
          "r/BeAmazed"
         ],
         "xaxis": "x",
         "y": [
          1315
         ],
         "yaxis": "y"
        },
        {
         "alignmentgroup": "True",
         "hovertemplate": "subreddit=%{x}<br>Comments=%{y}<extra></extra>",
         "legendgroup": "r/OldSchoolCool",
         "marker": {
          "color": "#636efa",
          "pattern": {
           "shape": ""
          }
         },
         "name": "r/OldSchoolCool",
         "offsetgroup": "r/OldSchoolCool",
         "orientation": "v",
         "showlegend": true,
         "textposition": "auto",
         "type": "bar",
         "x": [
          "r/OldSchoolCool"
         ],
         "xaxis": "x",
         "y": [
          1290
         ],
         "yaxis": "y"
        },
        {
         "alignmentgroup": "True",
         "hovertemplate": "subreddit=%{x}<br>Comments=%{y}<extra></extra>",
         "legendgroup": "r/lotrmemes",
         "marker": {
          "color": "#EF553B",
          "pattern": {
           "shape": ""
          }
         },
         "name": "r/lotrmemes",
         "offsetgroup": "r/lotrmemes",
         "orientation": "v",
         "showlegend": true,
         "textposition": "auto",
         "type": "bar",
         "x": [
          "r/lotrmemes"
         ],
         "xaxis": "x",
         "y": [
          1269
         ],
         "yaxis": "y"
        },
        {
         "alignmentgroup": "True",
         "hovertemplate": "subreddit=%{x}<br>Comments=%{y}<extra></extra>",
         "legendgroup": "r/PoliticalHumor",
         "marker": {
          "color": "#00cc96",
          "pattern": {
           "shape": ""
          }
         },
         "name": "r/PoliticalHumor",
         "offsetgroup": "r/PoliticalHumor",
         "orientation": "v",
         "showlegend": true,
         "textposition": "auto",
         "type": "bar",
         "x": [
          "r/PoliticalHumor"
         ],
         "xaxis": "x",
         "y": [
          1227
         ],
         "yaxis": "y"
        },
        {
         "alignmentgroup": "True",
         "hovertemplate": "subreddit=%{x}<br>Comments=%{y}<extra></extra>",
         "legendgroup": "r/AyyMD",
         "marker": {
          "color": "#ab63fa",
          "pattern": {
           "shape": ""
          }
         },
         "name": "r/AyyMD",
         "offsetgroup": "r/AyyMD",
         "orientation": "v",
         "showlegend": true,
         "textposition": "auto",
         "type": "bar",
         "x": [
          "r/AyyMD"
         ],
         "xaxis": "x",
         "y": [
          880
         ],
         "yaxis": "y"
        },
        {
         "alignmentgroup": "True",
         "hovertemplate": "subreddit=%{x}<br>Comments=%{y}<extra></extra>",
         "legendgroup": "r/comics",
         "marker": {
          "color": "#FFA15A",
          "pattern": {
           "shape": ""
          }
         },
         "name": "r/comics",
         "offsetgroup": "r/comics",
         "orientation": "v",
         "showlegend": true,
         "textposition": "auto",
         "type": "bar",
         "x": [
          "r/comics"
         ],
         "xaxis": "x",
         "y": [
          781
         ],
         "yaxis": "y"
        }
       ],
       "layout": {
        "barmode": "relative",
        "height": 400,
        "legend": {
         "title": {
          "text": "subreddit"
         },
         "tracegroupgap": 0
        },
        "template": {
         "data": {
          "bar": [
           {
            "error_x": {
             "color": "#2a3f5f"
            },
            "error_y": {
             "color": "#2a3f5f"
            },
            "marker": {
             "line": {
              "color": "#E5ECF6",
              "width": 0.5
             },
             "pattern": {
              "fillmode": "overlay",
              "size": 10,
              "solidity": 0.2
             }
            },
            "type": "bar"
           }
          ],
          "barpolar": [
           {
            "marker": {
             "line": {
              "color": "#E5ECF6",
              "width": 0.5
             },
             "pattern": {
              "fillmode": "overlay",
              "size": 10,
              "solidity": 0.2
             }
            },
            "type": "barpolar"
           }
          ],
          "carpet": [
           {
            "aaxis": {
             "endlinecolor": "#2a3f5f",
             "gridcolor": "white",
             "linecolor": "white",
             "minorgridcolor": "white",
             "startlinecolor": "#2a3f5f"
            },
            "baxis": {
             "endlinecolor": "#2a3f5f",
             "gridcolor": "white",
             "linecolor": "white",
             "minorgridcolor": "white",
             "startlinecolor": "#2a3f5f"
            },
            "type": "carpet"
           }
          ],
          "choropleth": [
           {
            "colorbar": {
             "outlinewidth": 0,
             "ticks": ""
            },
            "type": "choropleth"
           }
          ],
          "contour": [
           {
            "colorbar": {
             "outlinewidth": 0,
             "ticks": ""
            },
            "colorscale": [
             [
              0,
              "#0d0887"
             ],
             [
              0.1111111111111111,
              "#46039f"
             ],
             [
              0.2222222222222222,
              "#7201a8"
             ],
             [
              0.3333333333333333,
              "#9c179e"
             ],
             [
              0.4444444444444444,
              "#bd3786"
             ],
             [
              0.5555555555555556,
              "#d8576b"
             ],
             [
              0.6666666666666666,
              "#ed7953"
             ],
             [
              0.7777777777777778,
              "#fb9f3a"
             ],
             [
              0.8888888888888888,
              "#fdca26"
             ],
             [
              1,
              "#f0f921"
             ]
            ],
            "type": "contour"
           }
          ],
          "contourcarpet": [
           {
            "colorbar": {
             "outlinewidth": 0,
             "ticks": ""
            },
            "type": "contourcarpet"
           }
          ],
          "heatmap": [
           {
            "colorbar": {
             "outlinewidth": 0,
             "ticks": ""
            },
            "colorscale": [
             [
              0,
              "#0d0887"
             ],
             [
              0.1111111111111111,
              "#46039f"
             ],
             [
              0.2222222222222222,
              "#7201a8"
             ],
             [
              0.3333333333333333,
              "#9c179e"
             ],
             [
              0.4444444444444444,
              "#bd3786"
             ],
             [
              0.5555555555555556,
              "#d8576b"
             ],
             [
              0.6666666666666666,
              "#ed7953"
             ],
             [
              0.7777777777777778,
              "#fb9f3a"
             ],
             [
              0.8888888888888888,
              "#fdca26"
             ],
             [
              1,
              "#f0f921"
             ]
            ],
            "type": "heatmap"
           }
          ],
          "heatmapgl": [
           {
            "colorbar": {
             "outlinewidth": 0,
             "ticks": ""
            },
            "colorscale": [
             [
              0,
              "#0d0887"
             ],
             [
              0.1111111111111111,
              "#46039f"
             ],
             [
              0.2222222222222222,
              "#7201a8"
             ],
             [
              0.3333333333333333,
              "#9c179e"
             ],
             [
              0.4444444444444444,
              "#bd3786"
             ],
             [
              0.5555555555555556,
              "#d8576b"
             ],
             [
              0.6666666666666666,
              "#ed7953"
             ],
             [
              0.7777777777777778,
              "#fb9f3a"
             ],
             [
              0.8888888888888888,
              "#fdca26"
             ],
             [
              1,
              "#f0f921"
             ]
            ],
            "type": "heatmapgl"
           }
          ],
          "histogram": [
           {
            "marker": {
             "pattern": {
              "fillmode": "overlay",
              "size": 10,
              "solidity": 0.2
             }
            },
            "type": "histogram"
           }
          ],
          "histogram2d": [
           {
            "colorbar": {
             "outlinewidth": 0,
             "ticks": ""
            },
            "colorscale": [
             [
              0,
              "#0d0887"
             ],
             [
              0.1111111111111111,
              "#46039f"
             ],
             [
              0.2222222222222222,
              "#7201a8"
             ],
             [
              0.3333333333333333,
              "#9c179e"
             ],
             [
              0.4444444444444444,
              "#bd3786"
             ],
             [
              0.5555555555555556,
              "#d8576b"
             ],
             [
              0.6666666666666666,
              "#ed7953"
             ],
             [
              0.7777777777777778,
              "#fb9f3a"
             ],
             [
              0.8888888888888888,
              "#fdca26"
             ],
             [
              1,
              "#f0f921"
             ]
            ],
            "type": "histogram2d"
           }
          ],
          "histogram2dcontour": [
           {
            "colorbar": {
             "outlinewidth": 0,
             "ticks": ""
            },
            "colorscale": [
             [
              0,
              "#0d0887"
             ],
             [
              0.1111111111111111,
              "#46039f"
             ],
             [
              0.2222222222222222,
              "#7201a8"
             ],
             [
              0.3333333333333333,
              "#9c179e"
             ],
             [
              0.4444444444444444,
              "#bd3786"
             ],
             [
              0.5555555555555556,
              "#d8576b"
             ],
             [
              0.6666666666666666,
              "#ed7953"
             ],
             [
              0.7777777777777778,
              "#fb9f3a"
             ],
             [
              0.8888888888888888,
              "#fdca26"
             ],
             [
              1,
              "#f0f921"
             ]
            ],
            "type": "histogram2dcontour"
           }
          ],
          "mesh3d": [
           {
            "colorbar": {
             "outlinewidth": 0,
             "ticks": ""
            },
            "type": "mesh3d"
           }
          ],
          "parcoords": [
           {
            "line": {
             "colorbar": {
              "outlinewidth": 0,
              "ticks": ""
             }
            },
            "type": "parcoords"
           }
          ],
          "pie": [
           {
            "automargin": true,
            "type": "pie"
           }
          ],
          "scatter": [
           {
            "fillpattern": {
             "fillmode": "overlay",
             "size": 10,
             "solidity": 0.2
            },
            "type": "scatter"
           }
          ],
          "scatter3d": [
           {
            "line": {
             "colorbar": {
              "outlinewidth": 0,
              "ticks": ""
             }
            },
            "marker": {
             "colorbar": {
              "outlinewidth": 0,
              "ticks": ""
             }
            },
            "type": "scatter3d"
           }
          ],
          "scattercarpet": [
           {
            "marker": {
             "colorbar": {
              "outlinewidth": 0,
              "ticks": ""
             }
            },
            "type": "scattercarpet"
           }
          ],
          "scattergeo": [
           {
            "marker": {
             "colorbar": {
              "outlinewidth": 0,
              "ticks": ""
             }
            },
            "type": "scattergeo"
           }
          ],
          "scattergl": [
           {
            "marker": {
             "colorbar": {
              "outlinewidth": 0,
              "ticks": ""
             }
            },
            "type": "scattergl"
           }
          ],
          "scattermapbox": [
           {
            "marker": {
             "colorbar": {
              "outlinewidth": 0,
              "ticks": ""
             }
            },
            "type": "scattermapbox"
           }
          ],
          "scatterpolar": [
           {
            "marker": {
             "colorbar": {
              "outlinewidth": 0,
              "ticks": ""
             }
            },
            "type": "scatterpolar"
           }
          ],
          "scatterpolargl": [
           {
            "marker": {
             "colorbar": {
              "outlinewidth": 0,
              "ticks": ""
             }
            },
            "type": "scatterpolargl"
           }
          ],
          "scatterternary": [
           {
            "marker": {
             "colorbar": {
              "outlinewidth": 0,
              "ticks": ""
             }
            },
            "type": "scatterternary"
           }
          ],
          "surface": [
           {
            "colorbar": {
             "outlinewidth": 0,
             "ticks": ""
            },
            "colorscale": [
             [
              0,
              "#0d0887"
             ],
             [
              0.1111111111111111,
              "#46039f"
             ],
             [
              0.2222222222222222,
              "#7201a8"
             ],
             [
              0.3333333333333333,
              "#9c179e"
             ],
             [
              0.4444444444444444,
              "#bd3786"
             ],
             [
              0.5555555555555556,
              "#d8576b"
             ],
             [
              0.6666666666666666,
              "#ed7953"
             ],
             [
              0.7777777777777778,
              "#fb9f3a"
             ],
             [
              0.8888888888888888,
              "#fdca26"
             ],
             [
              1,
              "#f0f921"
             ]
            ],
            "type": "surface"
           }
          ],
          "table": [
           {
            "cells": {
             "fill": {
              "color": "#EBF0F8"
             },
             "line": {
              "color": "white"
             }
            },
            "header": {
             "fill": {
              "color": "#C8D4E3"
             },
             "line": {
              "color": "white"
             }
            },
            "type": "table"
           }
          ]
         },
         "layout": {
          "annotationdefaults": {
           "arrowcolor": "#2a3f5f",
           "arrowhead": 0,
           "arrowwidth": 1
          },
          "autotypenumbers": "strict",
          "coloraxis": {
           "colorbar": {
            "outlinewidth": 0,
            "ticks": ""
           }
          },
          "colorscale": {
           "diverging": [
            [
             0,
             "#8e0152"
            ],
            [
             0.1,
             "#c51b7d"
            ],
            [
             0.2,
             "#de77ae"
            ],
            [
             0.3,
             "#f1b6da"
            ],
            [
             0.4,
             "#fde0ef"
            ],
            [
             0.5,
             "#f7f7f7"
            ],
            [
             0.6,
             "#e6f5d0"
            ],
            [
             0.7,
             "#b8e186"
            ],
            [
             0.8,
             "#7fbc41"
            ],
            [
             0.9,
             "#4d9221"
            ],
            [
             1,
             "#276419"
            ]
           ],
           "sequential": [
            [
             0,
             "#0d0887"
            ],
            [
             0.1111111111111111,
             "#46039f"
            ],
            [
             0.2222222222222222,
             "#7201a8"
            ],
            [
             0.3333333333333333,
             "#9c179e"
            ],
            [
             0.4444444444444444,
             "#bd3786"
            ],
            [
             0.5555555555555556,
             "#d8576b"
            ],
            [
             0.6666666666666666,
             "#ed7953"
            ],
            [
             0.7777777777777778,
             "#fb9f3a"
            ],
            [
             0.8888888888888888,
             "#fdca26"
            ],
            [
             1,
             "#f0f921"
            ]
           ],
           "sequentialminus": [
            [
             0,
             "#0d0887"
            ],
            [
             0.1111111111111111,
             "#46039f"
            ],
            [
             0.2222222222222222,
             "#7201a8"
            ],
            [
             0.3333333333333333,
             "#9c179e"
            ],
            [
             0.4444444444444444,
             "#bd3786"
            ],
            [
             0.5555555555555556,
             "#d8576b"
            ],
            [
             0.6666666666666666,
             "#ed7953"
            ],
            [
             0.7777777777777778,
             "#fb9f3a"
            ],
            [
             0.8888888888888888,
             "#fdca26"
            ],
            [
             1,
             "#f0f921"
            ]
           ]
          },
          "colorway": [
           "#636efa",
           "#EF553B",
           "#00cc96",
           "#ab63fa",
           "#FFA15A",
           "#19d3f3",
           "#FF6692",
           "#B6E880",
           "#FF97FF",
           "#FECB52"
          ],
          "font": {
           "color": "#2a3f5f"
          },
          "geo": {
           "bgcolor": "white",
           "lakecolor": "white",
           "landcolor": "#E5ECF6",
           "showlakes": true,
           "showland": true,
           "subunitcolor": "white"
          },
          "hoverlabel": {
           "align": "left"
          },
          "hovermode": "closest",
          "mapbox": {
           "style": "light"
          },
          "paper_bgcolor": "white",
          "plot_bgcolor": "#E5ECF6",
          "polar": {
           "angularaxis": {
            "gridcolor": "white",
            "linecolor": "white",
            "ticks": ""
           },
           "bgcolor": "#E5ECF6",
           "radialaxis": {
            "gridcolor": "white",
            "linecolor": "white",
            "ticks": ""
           }
          },
          "scene": {
           "xaxis": {
            "backgroundcolor": "#E5ECF6",
            "gridcolor": "white",
            "gridwidth": 2,
            "linecolor": "white",
            "showbackground": true,
            "ticks": "",
            "zerolinecolor": "white"
           },
           "yaxis": {
            "backgroundcolor": "#E5ECF6",
            "gridcolor": "white",
            "gridwidth": 2,
            "linecolor": "white",
            "showbackground": true,
            "ticks": "",
            "zerolinecolor": "white"
           },
           "zaxis": {
            "backgroundcolor": "#E5ECF6",
            "gridcolor": "white",
            "gridwidth": 2,
            "linecolor": "white",
            "showbackground": true,
            "ticks": "",
            "zerolinecolor": "white"
           }
          },
          "shapedefaults": {
           "line": {
            "color": "#2a3f5f"
           }
          },
          "ternary": {
           "aaxis": {
            "gridcolor": "white",
            "linecolor": "white",
            "ticks": ""
           },
           "baxis": {
            "gridcolor": "white",
            "linecolor": "white",
            "ticks": ""
           },
           "bgcolor": "#E5ECF6",
           "caxis": {
            "gridcolor": "white",
            "linecolor": "white",
            "ticks": ""
           }
          },
          "title": {
           "x": 0.05
          },
          "xaxis": {
           "automargin": true,
           "gridcolor": "white",
           "linecolor": "white",
           "ticks": "",
           "title": {
            "standoff": 15
           },
           "zerolinecolor": "white",
           "zerolinewidth": 2
          },
          "yaxis": {
           "automargin": true,
           "gridcolor": "white",
           "linecolor": "white",
           "ticks": "",
           "title": {
            "standoff": 15
           },
           "zerolinecolor": "white",
           "zerolinewidth": 2
          }
         }
        },
        "title": {
         "text": "Total Comments by Subreddit"
        },
        "xaxis": {
         "anchor": "y",
         "categoryarray": [
          "r/pics",
          "r/memes",
          "r/funny",
          "r/news",
          "r/wallstreetbets",
          "r/gaming",
          "r/nextfuckinglevel",
          "r/gifs",
          "r/aww",
          "r/PublicFreakout",
          "r/AskReddit",
          "r/worldnews",
          "r/interestingasfuck",
          "r/politics",
          "r/MurderedByWords",
          "r/videos",
          "r/pokemon",
          "r/todayilearned",
          "r/MadeMeSmile",
          "r/WatchPeopleDieInside",
          "r/thanosdidnothingwrong",
          "r/movies",
          "r/announcements",
          "r/WhitePeopleTwitter",
          "r/facepalm",
          "r/mildlyinteresting",
          "r/Showerthoughts",
          "r/awfuleverything",
          "r/Wellthatsucks",
          "r/teenagers",
          "r/IAmA",
          "r/IdiotsInCars",
          "r/space",
          "r/wholesomememes",
          "r/tifu",
          "r/technology",
          "r/JusticeServed",
          "r/me_irl",
          "r/LifeProTips",
          "r/iamatotalpieceofshit",
          "r/PrequelMemes",
          "r/trashy",
          "r/ChoosingBeggars",
          "r/PewdiepieSubmissions",
          "r/LeopardsAteMyFace",
          "r/BikiniBottomTwitter",
          "r/science",
          "r/Futurology",
          "r/dataisbeautiful",
          "r/insanepeoplefacebook",
          "r/UpliftingNews",
          "r/coolguides",
          "r/BlackPeopleTwitter",
          "r/The_Mueller",
          "r/oddlysatisfying",
          "r/Whatcouldgowrong",
          "r/nottheonion",
          "r/Coronavirus",
          "r/instant_regret",
          "r/gifsthatkeepongiving",
          "r/rickandmorty",
          "r/assholedesign",
          "r/Jokes",
          "r/GetMotivated",
          "r/pcmasterrace",
          "r/DunderMifflin",
          "r/HolUp",
          "r/StarWarsBattlefront",
          "r/quityourbullshit",
          "r/Damnthatsinteresting",
          "r/sports",
          "r/TwoXChromosomes",
          "r/Instagramreality",
          "r/books",
          "r/HongKong",
          "r/listentothis",
          "r/Music",
          "r/freefolk",
          "r/MemeEconomy",
          "r/BeAmazed",
          "r/OldSchoolCool",
          "r/lotrmemes",
          "r/PoliticalHumor",
          "r/AyyMD",
          "r/comics"
         ],
         "categoryorder": "array",
         "domain": [
          0,
          1
         ],
         "title": {
          "text": "subreddit"
         }
        },
        "yaxis": {
         "anchor": "x",
         "domain": [
          0,
          1
         ],
         "title": {
          "text": "Comments"
         }
        }
       }
      }
     },
     "metadata": {},
     "output_type": "display_data"
    }
   ],
   "source": [
    "# Групуємо за subreddit і обчислюємо суми коментарів та голосів\n",
    "grouped_data = df.groupby('subreddit').agg({'comments': 'sum', 'upvotes': 'sum'}).reset_index()\n",
    "\n",
    "# Сортуємо графік за сумою голосів\n",
    "fig_upvotes = px.bar(grouped_data.sort_values(by='upvotes', ascending=False), x='subreddit', y='upvotes',\n",
    "                      title='Total Upvotes by Subreddit', labels={'upvotes': 'Upvotes'}, color='subreddit',\n",
    "                      height=400)\n",
    "\n",
    "# Сортуємо графік за сумою коментарів\n",
    "fig_comments = px.bar(grouped_data.sort_values(by='comments', ascending=False), x='subreddit', y='comments',\n",
    "                      title='Total Comments by Subreddit', labels={'comments': 'Comments'}, color='subreddit',\n",
    "                      height=400)\n",
    "\n",
    "# Показуємо графіки\n",
    "fig_upvotes.show()\n",
    "fig_comments.show()"
   ]
  }
 ],
 "metadata": {
  "kernelspec": {
   "display_name": "venv",
   "language": "python",
   "name": "python3"
  },
  "language_info": {
   "codemirror_mode": {
    "name": "ipython",
    "version": 3
   },
   "file_extension": ".py",
   "mimetype": "text/x-python",
   "name": "python",
   "nbconvert_exporter": "python",
   "pygments_lexer": "ipython3",
   "version": "3.10.13"
  }
 },
 "nbformat": 4,
 "nbformat_minor": 2
}
