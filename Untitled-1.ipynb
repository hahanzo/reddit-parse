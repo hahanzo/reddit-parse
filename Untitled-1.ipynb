{
 "cells": [
  {
   "cell_type": "markdown",
   "source": [
    "This is a simple data exploration project. The project was done with the aim of learning how to \n",
    "use the Python programming language and its libraries for data research. It includes research \n",
    "on the social network \"Reddit\", namely several scripts for parsing the site and one Jupiter notebook with research."
   ],
   "metadata": {
    "collapsed": false
   }
  },
  {
   "cell_type": "markdown",
   "source": [
    "**Import library**"
   ],
   "metadata": {
    "collapsed": false
   }
  },
  {
   "cell_type": "code",
   "execution_count": 19,
   "outputs": [],
   "source": [
    "import pandas as pd\n",
    "import numpy as np\n",
    "import plotly.express as px"
   ],
   "metadata": {
    "collapsed": false,
    "ExecuteTime": {
     "end_time": "2023-12-02T20:05:38.926255457Z",
     "start_time": "2023-12-02T20:05:38.798126697Z"
    }
   }
  },
  {
   "cell_type": "markdown",
   "source": [
    "**Load and clean data**"
   ],
   "metadata": {
    "collapsed": false
   }
  },
  {
   "cell_type": "markdown",
   "source": [
    "I will do some research on \"top_all_subreddit.csv\" but,\n",
    "You can explore another daset simply change the readable file"
   ],
   "metadata": {
    "collapsed": false
   }
  },
  {
   "cell_type": "code",
   "execution_count": 20,
   "metadata": {
    "ExecuteTime": {
     "end_time": "2023-12-02T20:05:39.013720367Z",
     "start_time": "2023-12-02T20:05:38.814947626Z"
    }
   },
   "outputs": [],
   "source": [
    "# Read the CSV file and create a DataFrame\n",
    "df = pd.read_csv('top_all_subreddit.csv')\n",
    "\n",
    "# Clean 'upvotes' and 'comments'\n",
    "df['upvotes'] = df['upvotes'].str.replace('k', '000').astype(float)\n",
    "df['comments'] = pd.to_numeric(df['comments'].str.split(' ').str[0], errors='coerce')\n",
    "df = df.dropna(subset=['comments'])"
   ]
  },
  {
   "cell_type": "markdown",
   "metadata": {},
   "source": [
    "**Count of posts for each subreddit**"
   ]
  },
  {
   "cell_type": "code",
   "execution_count": 21,
   "metadata": {
    "ExecuteTime": {
     "end_time": "2023-12-02T20:05:39.090188782Z",
     "start_time": "2023-12-02T20:05:38.921520285Z"
    }
   },
   "outputs": [
    {
     "data": {
      "application/vnd.plotly.v1+json": {
       "data": [
        {
         "alignmentgroup": "True",
         "hovertemplate": "subreddit=%{x}<br>count=%{marker.color}<extra></extra>",
         "legendgroup": "",
         "marker": {
          "color": [
           559,
           368,
           208,
           170,
           152,
           114,
           98,
           80,
           55,
           39,
           38,
           37,
           35,
           30,
           20,
           20,
           19,
           19,
           18,
           18,
           14,
           13,
           13,
           8,
           8,
           8,
           7,
           6,
           6,
           5,
           5,
           5,
           4,
           4,
           4,
           4,
           4,
           3,
           3,
           3,
           3,
           3,
           3,
           2,
           2,
           2,
           2,
           2,
           2,
           2,
           2,
           2,
           2,
           1,
           1,
           1,
           1,
           1,
           1,
           1,
           1,
           1,
           1,
           1,
           1,
           1,
           1,
           1,
           1,
           1,
           1,
           1,
           1,
           1,
           1,
           1,
           1,
           1,
           1,
           1,
           1,
           1,
           1,
           1,
           1
          ],
          "coloraxis": "coloraxis",
          "pattern": {
           "shape": ""
          },
          "line": {
           "color": "rgb(8,48,107)",
           "width": 1.5
          }
         },
         "name": "",
         "offsetgroup": "",
         "orientation": "v",
         "showlegend": false,
         "textposition": "auto",
         "x": [
          "r/memes",
          "r/pics",
          "r/funny",
          "r/aww",
          "r/nextfuckinglevel",
          "r/gaming",
          "r/gifs",
          "r/interestingasfuck",
          "r/wallstreetbets",
          "r/news",
          "r/PublicFreakout",
          "r/MurderedByWords",
          "r/worldnews",
          "r/MadeMeSmile",
          "r/todayilearned",
          "r/wholesomememes",
          "r/WhitePeopleTwitter",
          "r/AskReddit",
          "r/mildlyinteresting",
          "r/WatchPeopleDieInside",
          "r/Showerthoughts",
          "r/facepalm",
          "r/videos",
          "r/teenagers",
          "r/PrequelMemes",
          "r/Wellthatsucks",
          "r/space",
          "r/movies",
          "r/politics",
          "r/me_irl",
          "r/IdiotsInCars",
          "r/awfuleverything",
          "r/LifeProTips",
          "r/tifu",
          "r/BlackPeopleTwitter",
          "r/announcements",
          "r/PewdiepieSubmissions",
          "r/thanosdidnothingwrong",
          "r/technology",
          "r/trashy",
          "r/oddlysatisfying",
          "r/insanepeoplefacebook",
          "r/BikiniBottomTwitter",
          "r/JusticeServed",
          "r/Futurology",
          "r/instant_regret",
          "r/iamatotalpieceofshit",
          "r/Jokes",
          "r/UpliftingNews",
          "r/rickandmorty",
          "r/science",
          "r/IAmA",
          "r/LeopardsAteMyFace",
          "r/pokemon",
          "r/ChoosingBeggars",
          "r/pcmasterrace",
          "r/quityourbullshit",
          "r/Damnthatsinteresting",
          "r/nottheonion",
          "r/BeAmazed",
          "r/Coronavirus",
          "r/sports",
          "r/gifsthatkeepongiving",
          "r/DunderMifflin",
          "r/lotrmemes",
          "r/MemeEconomy",
          "r/Music",
          "r/OldSchoolCool",
          "r/PoliticalHumor",
          "r/Instagramreality",
          "r/StarWarsBattlefront",
          "r/The_Mueller",
          "r/TwoXChromosomes",
          "r/Whatcouldgowrong",
          "r/assholedesign",
          "r/AyyMD",
          "r/comics",
          "r/coolguides",
          "r/dataisbeautiful",
          "r/freefolk",
          "r/HongKong",
          "r/HolUp",
          "r/GetMotivated",
          "r/listentothis",
          "r/books"
         ],
         "xaxis": "x",
         "y": [
          559,
          368,
          208,
          170,
          152,
          114,
          98,
          80,
          55,
          39,
          38,
          37,
          35,
          30,
          20,
          20,
          19,
          19,
          18,
          18,
          14,
          13,
          13,
          8,
          8,
          8,
          7,
          6,
          6,
          5,
          5,
          5,
          4,
          4,
          4,
          4,
          4,
          3,
          3,
          3,
          3,
          3,
          3,
          2,
          2,
          2,
          2,
          2,
          2,
          2,
          2,
          2,
          2,
          1,
          1,
          1,
          1,
          1,
          1,
          1,
          1,
          1,
          1,
          1,
          1,
          1,
          1,
          1,
          1,
          1,
          1,
          1,
          1,
          1,
          1,
          1,
          1,
          1,
          1,
          1,
          1,
          1,
          1,
          1,
          1
         ],
         "yaxis": "y",
         "type": "bar",
         "opacity": 0.8
        }
       ],
       "layout": {
        "template": {
         "data": {
          "histogram2dcontour": [
           {
            "type": "histogram2dcontour",
            "colorbar": {
             "outlinewidth": 0,
             "ticks": ""
            },
            "colorscale": [
             [
              0.0,
              "#0d0887"
             ],
             [
              0.1111111111111111,
              "#46039f"
             ],
             [
              0.2222222222222222,
              "#7201a8"
             ],
             [
              0.3333333333333333,
              "#9c179e"
             ],
             [
              0.4444444444444444,
              "#bd3786"
             ],
             [
              0.5555555555555556,
              "#d8576b"
             ],
             [
              0.6666666666666666,
              "#ed7953"
             ],
             [
              0.7777777777777778,
              "#fb9f3a"
             ],
             [
              0.8888888888888888,
              "#fdca26"
             ],
             [
              1.0,
              "#f0f921"
             ]
            ]
           }
          ],
          "choropleth": [
           {
            "type": "choropleth",
            "colorbar": {
             "outlinewidth": 0,
             "ticks": ""
            }
           }
          ],
          "histogram2d": [
           {
            "type": "histogram2d",
            "colorbar": {
             "outlinewidth": 0,
             "ticks": ""
            },
            "colorscale": [
             [
              0.0,
              "#0d0887"
             ],
             [
              0.1111111111111111,
              "#46039f"
             ],
             [
              0.2222222222222222,
              "#7201a8"
             ],
             [
              0.3333333333333333,
              "#9c179e"
             ],
             [
              0.4444444444444444,
              "#bd3786"
             ],
             [
              0.5555555555555556,
              "#d8576b"
             ],
             [
              0.6666666666666666,
              "#ed7953"
             ],
             [
              0.7777777777777778,
              "#fb9f3a"
             ],
             [
              0.8888888888888888,
              "#fdca26"
             ],
             [
              1.0,
              "#f0f921"
             ]
            ]
           }
          ],
          "heatmap": [
           {
            "type": "heatmap",
            "colorbar": {
             "outlinewidth": 0,
             "ticks": ""
            },
            "colorscale": [
             [
              0.0,
              "#0d0887"
             ],
             [
              0.1111111111111111,
              "#46039f"
             ],
             [
              0.2222222222222222,
              "#7201a8"
             ],
             [
              0.3333333333333333,
              "#9c179e"
             ],
             [
              0.4444444444444444,
              "#bd3786"
             ],
             [
              0.5555555555555556,
              "#d8576b"
             ],
             [
              0.6666666666666666,
              "#ed7953"
             ],
             [
              0.7777777777777778,
              "#fb9f3a"
             ],
             [
              0.8888888888888888,
              "#fdca26"
             ],
             [
              1.0,
              "#f0f921"
             ]
            ]
           }
          ],
          "heatmapgl": [
           {
            "type": "heatmapgl",
            "colorbar": {
             "outlinewidth": 0,
             "ticks": ""
            },
            "colorscale": [
             [
              0.0,
              "#0d0887"
             ],
             [
              0.1111111111111111,
              "#46039f"
             ],
             [
              0.2222222222222222,
              "#7201a8"
             ],
             [
              0.3333333333333333,
              "#9c179e"
             ],
             [
              0.4444444444444444,
              "#bd3786"
             ],
             [
              0.5555555555555556,
              "#d8576b"
             ],
             [
              0.6666666666666666,
              "#ed7953"
             ],
             [
              0.7777777777777778,
              "#fb9f3a"
             ],
             [
              0.8888888888888888,
              "#fdca26"
             ],
             [
              1.0,
              "#f0f921"
             ]
            ]
           }
          ],
          "contourcarpet": [
           {
            "type": "contourcarpet",
            "colorbar": {
             "outlinewidth": 0,
             "ticks": ""
            }
           }
          ],
          "contour": [
           {
            "type": "contour",
            "colorbar": {
             "outlinewidth": 0,
             "ticks": ""
            },
            "colorscale": [
             [
              0.0,
              "#0d0887"
             ],
             [
              0.1111111111111111,
              "#46039f"
             ],
             [
              0.2222222222222222,
              "#7201a8"
             ],
             [
              0.3333333333333333,
              "#9c179e"
             ],
             [
              0.4444444444444444,
              "#bd3786"
             ],
             [
              0.5555555555555556,
              "#d8576b"
             ],
             [
              0.6666666666666666,
              "#ed7953"
             ],
             [
              0.7777777777777778,
              "#fb9f3a"
             ],
             [
              0.8888888888888888,
              "#fdca26"
             ],
             [
              1.0,
              "#f0f921"
             ]
            ]
           }
          ],
          "surface": [
           {
            "type": "surface",
            "colorbar": {
             "outlinewidth": 0,
             "ticks": ""
            },
            "colorscale": [
             [
              0.0,
              "#0d0887"
             ],
             [
              0.1111111111111111,
              "#46039f"
             ],
             [
              0.2222222222222222,
              "#7201a8"
             ],
             [
              0.3333333333333333,
              "#9c179e"
             ],
             [
              0.4444444444444444,
              "#bd3786"
             ],
             [
              0.5555555555555556,
              "#d8576b"
             ],
             [
              0.6666666666666666,
              "#ed7953"
             ],
             [
              0.7777777777777778,
              "#fb9f3a"
             ],
             [
              0.8888888888888888,
              "#fdca26"
             ],
             [
              1.0,
              "#f0f921"
             ]
            ]
           }
          ],
          "mesh3d": [
           {
            "type": "mesh3d",
            "colorbar": {
             "outlinewidth": 0,
             "ticks": ""
            }
           }
          ],
          "scatter": [
           {
            "fillpattern": {
             "fillmode": "overlay",
             "size": 10,
             "solidity": 0.2
            },
            "type": "scatter"
           }
          ],
          "parcoords": [
           {
            "type": "parcoords",
            "line": {
             "colorbar": {
              "outlinewidth": 0,
              "ticks": ""
             }
            }
           }
          ],
          "scatterpolargl": [
           {
            "type": "scatterpolargl",
            "marker": {
             "colorbar": {
              "outlinewidth": 0,
              "ticks": ""
             }
            }
           }
          ],
          "bar": [
           {
            "error_x": {
             "color": "#2a3f5f"
            },
            "error_y": {
             "color": "#2a3f5f"
            },
            "marker": {
             "line": {
              "color": "#E5ECF6",
              "width": 0.5
             },
             "pattern": {
              "fillmode": "overlay",
              "size": 10,
              "solidity": 0.2
             }
            },
            "type": "bar"
           }
          ],
          "scattergeo": [
           {
            "type": "scattergeo",
            "marker": {
             "colorbar": {
              "outlinewidth": 0,
              "ticks": ""
             }
            }
           }
          ],
          "scatterpolar": [
           {
            "type": "scatterpolar",
            "marker": {
             "colorbar": {
              "outlinewidth": 0,
              "ticks": ""
             }
            }
           }
          ],
          "histogram": [
           {
            "marker": {
             "pattern": {
              "fillmode": "overlay",
              "size": 10,
              "solidity": 0.2
             }
            },
            "type": "histogram"
           }
          ],
          "scattergl": [
           {
            "type": "scattergl",
            "marker": {
             "colorbar": {
              "outlinewidth": 0,
              "ticks": ""
             }
            }
           }
          ],
          "scatter3d": [
           {
            "type": "scatter3d",
            "line": {
             "colorbar": {
              "outlinewidth": 0,
              "ticks": ""
             }
            },
            "marker": {
             "colorbar": {
              "outlinewidth": 0,
              "ticks": ""
             }
            }
           }
          ],
          "scattermapbox": [
           {
            "type": "scattermapbox",
            "marker": {
             "colorbar": {
              "outlinewidth": 0,
              "ticks": ""
             }
            }
           }
          ],
          "scatterternary": [
           {
            "type": "scatterternary",
            "marker": {
             "colorbar": {
              "outlinewidth": 0,
              "ticks": ""
             }
            }
           }
          ],
          "scattercarpet": [
           {
            "type": "scattercarpet",
            "marker": {
             "colorbar": {
              "outlinewidth": 0,
              "ticks": ""
             }
            }
           }
          ],
          "carpet": [
           {
            "aaxis": {
             "endlinecolor": "#2a3f5f",
             "gridcolor": "white",
             "linecolor": "white",
             "minorgridcolor": "white",
             "startlinecolor": "#2a3f5f"
            },
            "baxis": {
             "endlinecolor": "#2a3f5f",
             "gridcolor": "white",
             "linecolor": "white",
             "minorgridcolor": "white",
             "startlinecolor": "#2a3f5f"
            },
            "type": "carpet"
           }
          ],
          "table": [
           {
            "cells": {
             "fill": {
              "color": "#EBF0F8"
             },
             "line": {
              "color": "white"
             }
            },
            "header": {
             "fill": {
              "color": "#C8D4E3"
             },
             "line": {
              "color": "white"
             }
            },
            "type": "table"
           }
          ],
          "barpolar": [
           {
            "marker": {
             "line": {
              "color": "#E5ECF6",
              "width": 0.5
             },
             "pattern": {
              "fillmode": "overlay",
              "size": 10,
              "solidity": 0.2
             }
            },
            "type": "barpolar"
           }
          ],
          "pie": [
           {
            "automargin": true,
            "type": "pie"
           }
          ]
         },
         "layout": {
          "autotypenumbers": "strict",
          "colorway": [
           "#636efa",
           "#EF553B",
           "#00cc96",
           "#ab63fa",
           "#FFA15A",
           "#19d3f3",
           "#FF6692",
           "#B6E880",
           "#FF97FF",
           "#FECB52"
          ],
          "font": {
           "color": "#2a3f5f"
          },
          "hovermode": "closest",
          "hoverlabel": {
           "align": "left"
          },
          "paper_bgcolor": "white",
          "plot_bgcolor": "#E5ECF6",
          "polar": {
           "bgcolor": "#E5ECF6",
           "angularaxis": {
            "gridcolor": "white",
            "linecolor": "white",
            "ticks": ""
           },
           "radialaxis": {
            "gridcolor": "white",
            "linecolor": "white",
            "ticks": ""
           }
          },
          "ternary": {
           "bgcolor": "#E5ECF6",
           "aaxis": {
            "gridcolor": "white",
            "linecolor": "white",
            "ticks": ""
           },
           "baxis": {
            "gridcolor": "white",
            "linecolor": "white",
            "ticks": ""
           },
           "caxis": {
            "gridcolor": "white",
            "linecolor": "white",
            "ticks": ""
           }
          },
          "coloraxis": {
           "colorbar": {
            "outlinewidth": 0,
            "ticks": ""
           }
          },
          "colorscale": {
           "sequential": [
            [
             0.0,
             "#0d0887"
            ],
            [
             0.1111111111111111,
             "#46039f"
            ],
            [
             0.2222222222222222,
             "#7201a8"
            ],
            [
             0.3333333333333333,
             "#9c179e"
            ],
            [
             0.4444444444444444,
             "#bd3786"
            ],
            [
             0.5555555555555556,
             "#d8576b"
            ],
            [
             0.6666666666666666,
             "#ed7953"
            ],
            [
             0.7777777777777778,
             "#fb9f3a"
            ],
            [
             0.8888888888888888,
             "#fdca26"
            ],
            [
             1.0,
             "#f0f921"
            ]
           ],
           "sequentialminus": [
            [
             0.0,
             "#0d0887"
            ],
            [
             0.1111111111111111,
             "#46039f"
            ],
            [
             0.2222222222222222,
             "#7201a8"
            ],
            [
             0.3333333333333333,
             "#9c179e"
            ],
            [
             0.4444444444444444,
             "#bd3786"
            ],
            [
             0.5555555555555556,
             "#d8576b"
            ],
            [
             0.6666666666666666,
             "#ed7953"
            ],
            [
             0.7777777777777778,
             "#fb9f3a"
            ],
            [
             0.8888888888888888,
             "#fdca26"
            ],
            [
             1.0,
             "#f0f921"
            ]
           ],
           "diverging": [
            [
             0,
             "#8e0152"
            ],
            [
             0.1,
             "#c51b7d"
            ],
            [
             0.2,
             "#de77ae"
            ],
            [
             0.3,
             "#f1b6da"
            ],
            [
             0.4,
             "#fde0ef"
            ],
            [
             0.5,
             "#f7f7f7"
            ],
            [
             0.6,
             "#e6f5d0"
            ],
            [
             0.7,
             "#b8e186"
            ],
            [
             0.8,
             "#7fbc41"
            ],
            [
             0.9,
             "#4d9221"
            ],
            [
             1,
             "#276419"
            ]
           ]
          },
          "xaxis": {
           "gridcolor": "white",
           "linecolor": "white",
           "ticks": "",
           "title": {
            "standoff": 15
           },
           "zerolinecolor": "white",
           "automargin": true,
           "zerolinewidth": 2
          },
          "yaxis": {
           "gridcolor": "white",
           "linecolor": "white",
           "ticks": "",
           "title": {
            "standoff": 15
           },
           "zerolinecolor": "white",
           "automargin": true,
           "zerolinewidth": 2
          },
          "scene": {
           "xaxis": {
            "backgroundcolor": "#E5ECF6",
            "gridcolor": "white",
            "linecolor": "white",
            "showbackground": true,
            "ticks": "",
            "zerolinecolor": "white",
            "gridwidth": 2
           },
           "yaxis": {
            "backgroundcolor": "#E5ECF6",
            "gridcolor": "white",
            "linecolor": "white",
            "showbackground": true,
            "ticks": "",
            "zerolinecolor": "white",
            "gridwidth": 2
           },
           "zaxis": {
            "backgroundcolor": "#E5ECF6",
            "gridcolor": "white",
            "linecolor": "white",
            "showbackground": true,
            "ticks": "",
            "zerolinecolor": "white",
            "gridwidth": 2
           }
          },
          "shapedefaults": {
           "line": {
            "color": "#2a3f5f"
           }
          },
          "annotationdefaults": {
           "arrowcolor": "#2a3f5f",
           "arrowhead": 0,
           "arrowwidth": 1
          },
          "geo": {
           "bgcolor": "white",
           "landcolor": "#E5ECF6",
           "subunitcolor": "white",
           "showland": true,
           "showlakes": true,
           "lakecolor": "white"
          },
          "title": {
           "x": 0.05
          },
          "mapbox": {
           "style": "light"
          }
         }
        },
        "xaxis": {
         "anchor": "y",
         "domain": [
          0.0,
          1.0
         ],
         "title": {
          "text": ""
         },
         "tickangle": -45
        },
        "yaxis": {
         "anchor": "x",
         "domain": [
          0.0,
          1.0
         ],
         "title": {
          "text": "Count"
         }
        },
        "coloraxis": {
         "colorbar": {
          "title": {
           "text": "count"
          }
         },
         "colorscale": [
          [
           0.0,
           "rgb(247,251,255)"
          ],
          [
           0.125,
           "rgb(222,235,247)"
          ],
          [
           0.25,
           "rgb(198,219,239)"
          ],
          [
           0.375,
           "rgb(158,202,225)"
          ],
          [
           0.5,
           "rgb(107,174,214)"
          ],
          [
           0.625,
           "rgb(66,146,198)"
          ],
          [
           0.75,
           "rgb(33,113,181)"
          ],
          [
           0.875,
           "rgb(8,81,156)"
          ],
          [
           1.0,
           "rgb(8,48,107)"
          ]
         ]
        },
        "legend": {
         "tracegroupgap": 0
        },
        "title": {
         "text": "Count of Posts for Each Subreddit",
         "font": {
          "size": 24
         },
         "x": 0.5,
         "y": 0.95
        },
        "barmode": "relative",
        "font": {
         "size": 14,
         "color": "black"
        },
        "showlegend": false
       },
       "config": {
        "plotlyServerURL": "https://plot.ly"
       }
      },
      "text/html": "<div>                            <div id=\"23c6e9bc-03b4-422c-a195-eee9f46d7f8a\" class=\"plotly-graph-div\" style=\"height:525px; width:100%;\"></div>            <script type=\"text/javascript\">                require([\"plotly\"], function(Plotly) {                    window.PLOTLYENV=window.PLOTLYENV || {};                                    if (document.getElementById(\"23c6e9bc-03b4-422c-a195-eee9f46d7f8a\")) {                    Plotly.newPlot(                        \"23c6e9bc-03b4-422c-a195-eee9f46d7f8a\",                        [{\"alignmentgroup\":\"True\",\"hovertemplate\":\"subreddit=%{x}\\u003cbr\\u003ecount=%{marker.color}\\u003cextra\\u003e\\u003c\\u002fextra\\u003e\",\"legendgroup\":\"\",\"marker\":{\"color\":[559,368,208,170,152,114,98,80,55,39,38,37,35,30,20,20,19,19,18,18,14,13,13,8,8,8,7,6,6,5,5,5,4,4,4,4,4,3,3,3,3,3,3,2,2,2,2,2,2,2,2,2,2,1,1,1,1,1,1,1,1,1,1,1,1,1,1,1,1,1,1,1,1,1,1,1,1,1,1,1,1,1,1,1,1],\"coloraxis\":\"coloraxis\",\"pattern\":{\"shape\":\"\"},\"line\":{\"color\":\"rgb(8,48,107)\",\"width\":1.5}},\"name\":\"\",\"offsetgroup\":\"\",\"orientation\":\"v\",\"showlegend\":false,\"textposition\":\"auto\",\"x\":[\"r\\u002fmemes\",\"r\\u002fpics\",\"r\\u002ffunny\",\"r\\u002faww\",\"r\\u002fnextfuckinglevel\",\"r\\u002fgaming\",\"r\\u002fgifs\",\"r\\u002finterestingasfuck\",\"r\\u002fwallstreetbets\",\"r\\u002fnews\",\"r\\u002fPublicFreakout\",\"r\\u002fMurderedByWords\",\"r\\u002fworldnews\",\"r\\u002fMadeMeSmile\",\"r\\u002ftodayilearned\",\"r\\u002fwholesomememes\",\"r\\u002fWhitePeopleTwitter\",\"r\\u002fAskReddit\",\"r\\u002fmildlyinteresting\",\"r\\u002fWatchPeopleDieInside\",\"r\\u002fShowerthoughts\",\"r\\u002ffacepalm\",\"r\\u002fvideos\",\"r\\u002fteenagers\",\"r\\u002fPrequelMemes\",\"r\\u002fWellthatsucks\",\"r\\u002fspace\",\"r\\u002fmovies\",\"r\\u002fpolitics\",\"r\\u002fme_irl\",\"r\\u002fIdiotsInCars\",\"r\\u002fawfuleverything\",\"r\\u002fLifeProTips\",\"r\\u002ftifu\",\"r\\u002fBlackPeopleTwitter\",\"r\\u002fannouncements\",\"r\\u002fPewdiepieSubmissions\",\"r\\u002fthanosdidnothingwrong\",\"r\\u002ftechnology\",\"r\\u002ftrashy\",\"r\\u002foddlysatisfying\",\"r\\u002finsanepeoplefacebook\",\"r\\u002fBikiniBottomTwitter\",\"r\\u002fJusticeServed\",\"r\\u002fFuturology\",\"r\\u002finstant_regret\",\"r\\u002fiamatotalpieceofshit\",\"r\\u002fJokes\",\"r\\u002fUpliftingNews\",\"r\\u002frickandmorty\",\"r\\u002fscience\",\"r\\u002fIAmA\",\"r\\u002fLeopardsAteMyFace\",\"r\\u002fpokemon\",\"r\\u002fChoosingBeggars\",\"r\\u002fpcmasterrace\",\"r\\u002fquityourbullshit\",\"r\\u002fDamnthatsinteresting\",\"r\\u002fnottheonion\",\"r\\u002fBeAmazed\",\"r\\u002fCoronavirus\",\"r\\u002fsports\",\"r\\u002fgifsthatkeepongiving\",\"r\\u002fDunderMifflin\",\"r\\u002flotrmemes\",\"r\\u002fMemeEconomy\",\"r\\u002fMusic\",\"r\\u002fOldSchoolCool\",\"r\\u002fPoliticalHumor\",\"r\\u002fInstagramreality\",\"r\\u002fStarWarsBattlefront\",\"r\\u002fThe_Mueller\",\"r\\u002fTwoXChromosomes\",\"r\\u002fWhatcouldgowrong\",\"r\\u002fassholedesign\",\"r\\u002fAyyMD\",\"r\\u002fcomics\",\"r\\u002fcoolguides\",\"r\\u002fdataisbeautiful\",\"r\\u002ffreefolk\",\"r\\u002fHongKong\",\"r\\u002fHolUp\",\"r\\u002fGetMotivated\",\"r\\u002flistentothis\",\"r\\u002fbooks\"],\"xaxis\":\"x\",\"y\":[559,368,208,170,152,114,98,80,55,39,38,37,35,30,20,20,19,19,18,18,14,13,13,8,8,8,7,6,6,5,5,5,4,4,4,4,4,3,3,3,3,3,3,2,2,2,2,2,2,2,2,2,2,1,1,1,1,1,1,1,1,1,1,1,1,1,1,1,1,1,1,1,1,1,1,1,1,1,1,1,1,1,1,1,1],\"yaxis\":\"y\",\"type\":\"bar\",\"opacity\":0.8}],                        {\"template\":{\"data\":{\"histogram2dcontour\":[{\"type\":\"histogram2dcontour\",\"colorbar\":{\"outlinewidth\":0,\"ticks\":\"\"},\"colorscale\":[[0.0,\"#0d0887\"],[0.1111111111111111,\"#46039f\"],[0.2222222222222222,\"#7201a8\"],[0.3333333333333333,\"#9c179e\"],[0.4444444444444444,\"#bd3786\"],[0.5555555555555556,\"#d8576b\"],[0.6666666666666666,\"#ed7953\"],[0.7777777777777778,\"#fb9f3a\"],[0.8888888888888888,\"#fdca26\"],[1.0,\"#f0f921\"]]}],\"choropleth\":[{\"type\":\"choropleth\",\"colorbar\":{\"outlinewidth\":0,\"ticks\":\"\"}}],\"histogram2d\":[{\"type\":\"histogram2d\",\"colorbar\":{\"outlinewidth\":0,\"ticks\":\"\"},\"colorscale\":[[0.0,\"#0d0887\"],[0.1111111111111111,\"#46039f\"],[0.2222222222222222,\"#7201a8\"],[0.3333333333333333,\"#9c179e\"],[0.4444444444444444,\"#bd3786\"],[0.5555555555555556,\"#d8576b\"],[0.6666666666666666,\"#ed7953\"],[0.7777777777777778,\"#fb9f3a\"],[0.8888888888888888,\"#fdca26\"],[1.0,\"#f0f921\"]]}],\"heatmap\":[{\"type\":\"heatmap\",\"colorbar\":{\"outlinewidth\":0,\"ticks\":\"\"},\"colorscale\":[[0.0,\"#0d0887\"],[0.1111111111111111,\"#46039f\"],[0.2222222222222222,\"#7201a8\"],[0.3333333333333333,\"#9c179e\"],[0.4444444444444444,\"#bd3786\"],[0.5555555555555556,\"#d8576b\"],[0.6666666666666666,\"#ed7953\"],[0.7777777777777778,\"#fb9f3a\"],[0.8888888888888888,\"#fdca26\"],[1.0,\"#f0f921\"]]}],\"heatmapgl\":[{\"type\":\"heatmapgl\",\"colorbar\":{\"outlinewidth\":0,\"ticks\":\"\"},\"colorscale\":[[0.0,\"#0d0887\"],[0.1111111111111111,\"#46039f\"],[0.2222222222222222,\"#7201a8\"],[0.3333333333333333,\"#9c179e\"],[0.4444444444444444,\"#bd3786\"],[0.5555555555555556,\"#d8576b\"],[0.6666666666666666,\"#ed7953\"],[0.7777777777777778,\"#fb9f3a\"],[0.8888888888888888,\"#fdca26\"],[1.0,\"#f0f921\"]]}],\"contourcarpet\":[{\"type\":\"contourcarpet\",\"colorbar\":{\"outlinewidth\":0,\"ticks\":\"\"}}],\"contour\":[{\"type\":\"contour\",\"colorbar\":{\"outlinewidth\":0,\"ticks\":\"\"},\"colorscale\":[[0.0,\"#0d0887\"],[0.1111111111111111,\"#46039f\"],[0.2222222222222222,\"#7201a8\"],[0.3333333333333333,\"#9c179e\"],[0.4444444444444444,\"#bd3786\"],[0.5555555555555556,\"#d8576b\"],[0.6666666666666666,\"#ed7953\"],[0.7777777777777778,\"#fb9f3a\"],[0.8888888888888888,\"#fdca26\"],[1.0,\"#f0f921\"]]}],\"surface\":[{\"type\":\"surface\",\"colorbar\":{\"outlinewidth\":0,\"ticks\":\"\"},\"colorscale\":[[0.0,\"#0d0887\"],[0.1111111111111111,\"#46039f\"],[0.2222222222222222,\"#7201a8\"],[0.3333333333333333,\"#9c179e\"],[0.4444444444444444,\"#bd3786\"],[0.5555555555555556,\"#d8576b\"],[0.6666666666666666,\"#ed7953\"],[0.7777777777777778,\"#fb9f3a\"],[0.8888888888888888,\"#fdca26\"],[1.0,\"#f0f921\"]]}],\"mesh3d\":[{\"type\":\"mesh3d\",\"colorbar\":{\"outlinewidth\":0,\"ticks\":\"\"}}],\"scatter\":[{\"fillpattern\":{\"fillmode\":\"overlay\",\"size\":10,\"solidity\":0.2},\"type\":\"scatter\"}],\"parcoords\":[{\"type\":\"parcoords\",\"line\":{\"colorbar\":{\"outlinewidth\":0,\"ticks\":\"\"}}}],\"scatterpolargl\":[{\"type\":\"scatterpolargl\",\"marker\":{\"colorbar\":{\"outlinewidth\":0,\"ticks\":\"\"}}}],\"bar\":[{\"error_x\":{\"color\":\"#2a3f5f\"},\"error_y\":{\"color\":\"#2a3f5f\"},\"marker\":{\"line\":{\"color\":\"#E5ECF6\",\"width\":0.5},\"pattern\":{\"fillmode\":\"overlay\",\"size\":10,\"solidity\":0.2}},\"type\":\"bar\"}],\"scattergeo\":[{\"type\":\"scattergeo\",\"marker\":{\"colorbar\":{\"outlinewidth\":0,\"ticks\":\"\"}}}],\"scatterpolar\":[{\"type\":\"scatterpolar\",\"marker\":{\"colorbar\":{\"outlinewidth\":0,\"ticks\":\"\"}}}],\"histogram\":[{\"marker\":{\"pattern\":{\"fillmode\":\"overlay\",\"size\":10,\"solidity\":0.2}},\"type\":\"histogram\"}],\"scattergl\":[{\"type\":\"scattergl\",\"marker\":{\"colorbar\":{\"outlinewidth\":0,\"ticks\":\"\"}}}],\"scatter3d\":[{\"type\":\"scatter3d\",\"line\":{\"colorbar\":{\"outlinewidth\":0,\"ticks\":\"\"}},\"marker\":{\"colorbar\":{\"outlinewidth\":0,\"ticks\":\"\"}}}],\"scattermapbox\":[{\"type\":\"scattermapbox\",\"marker\":{\"colorbar\":{\"outlinewidth\":0,\"ticks\":\"\"}}}],\"scatterternary\":[{\"type\":\"scatterternary\",\"marker\":{\"colorbar\":{\"outlinewidth\":0,\"ticks\":\"\"}}}],\"scattercarpet\":[{\"type\":\"scattercarpet\",\"marker\":{\"colorbar\":{\"outlinewidth\":0,\"ticks\":\"\"}}}],\"carpet\":[{\"aaxis\":{\"endlinecolor\":\"#2a3f5f\",\"gridcolor\":\"white\",\"linecolor\":\"white\",\"minorgridcolor\":\"white\",\"startlinecolor\":\"#2a3f5f\"},\"baxis\":{\"endlinecolor\":\"#2a3f5f\",\"gridcolor\":\"white\",\"linecolor\":\"white\",\"minorgridcolor\":\"white\",\"startlinecolor\":\"#2a3f5f\"},\"type\":\"carpet\"}],\"table\":[{\"cells\":{\"fill\":{\"color\":\"#EBF0F8\"},\"line\":{\"color\":\"white\"}},\"header\":{\"fill\":{\"color\":\"#C8D4E3\"},\"line\":{\"color\":\"white\"}},\"type\":\"table\"}],\"barpolar\":[{\"marker\":{\"line\":{\"color\":\"#E5ECF6\",\"width\":0.5},\"pattern\":{\"fillmode\":\"overlay\",\"size\":10,\"solidity\":0.2}},\"type\":\"barpolar\"}],\"pie\":[{\"automargin\":true,\"type\":\"pie\"}]},\"layout\":{\"autotypenumbers\":\"strict\",\"colorway\":[\"#636efa\",\"#EF553B\",\"#00cc96\",\"#ab63fa\",\"#FFA15A\",\"#19d3f3\",\"#FF6692\",\"#B6E880\",\"#FF97FF\",\"#FECB52\"],\"font\":{\"color\":\"#2a3f5f\"},\"hovermode\":\"closest\",\"hoverlabel\":{\"align\":\"left\"},\"paper_bgcolor\":\"white\",\"plot_bgcolor\":\"#E5ECF6\",\"polar\":{\"bgcolor\":\"#E5ECF6\",\"angularaxis\":{\"gridcolor\":\"white\",\"linecolor\":\"white\",\"ticks\":\"\"},\"radialaxis\":{\"gridcolor\":\"white\",\"linecolor\":\"white\",\"ticks\":\"\"}},\"ternary\":{\"bgcolor\":\"#E5ECF6\",\"aaxis\":{\"gridcolor\":\"white\",\"linecolor\":\"white\",\"ticks\":\"\"},\"baxis\":{\"gridcolor\":\"white\",\"linecolor\":\"white\",\"ticks\":\"\"},\"caxis\":{\"gridcolor\":\"white\",\"linecolor\":\"white\",\"ticks\":\"\"}},\"coloraxis\":{\"colorbar\":{\"outlinewidth\":0,\"ticks\":\"\"}},\"colorscale\":{\"sequential\":[[0.0,\"#0d0887\"],[0.1111111111111111,\"#46039f\"],[0.2222222222222222,\"#7201a8\"],[0.3333333333333333,\"#9c179e\"],[0.4444444444444444,\"#bd3786\"],[0.5555555555555556,\"#d8576b\"],[0.6666666666666666,\"#ed7953\"],[0.7777777777777778,\"#fb9f3a\"],[0.8888888888888888,\"#fdca26\"],[1.0,\"#f0f921\"]],\"sequentialminus\":[[0.0,\"#0d0887\"],[0.1111111111111111,\"#46039f\"],[0.2222222222222222,\"#7201a8\"],[0.3333333333333333,\"#9c179e\"],[0.4444444444444444,\"#bd3786\"],[0.5555555555555556,\"#d8576b\"],[0.6666666666666666,\"#ed7953\"],[0.7777777777777778,\"#fb9f3a\"],[0.8888888888888888,\"#fdca26\"],[1.0,\"#f0f921\"]],\"diverging\":[[0,\"#8e0152\"],[0.1,\"#c51b7d\"],[0.2,\"#de77ae\"],[0.3,\"#f1b6da\"],[0.4,\"#fde0ef\"],[0.5,\"#f7f7f7\"],[0.6,\"#e6f5d0\"],[0.7,\"#b8e186\"],[0.8,\"#7fbc41\"],[0.9,\"#4d9221\"],[1,\"#276419\"]]},\"xaxis\":{\"gridcolor\":\"white\",\"linecolor\":\"white\",\"ticks\":\"\",\"title\":{\"standoff\":15},\"zerolinecolor\":\"white\",\"automargin\":true,\"zerolinewidth\":2},\"yaxis\":{\"gridcolor\":\"white\",\"linecolor\":\"white\",\"ticks\":\"\",\"title\":{\"standoff\":15},\"zerolinecolor\":\"white\",\"automargin\":true,\"zerolinewidth\":2},\"scene\":{\"xaxis\":{\"backgroundcolor\":\"#E5ECF6\",\"gridcolor\":\"white\",\"linecolor\":\"white\",\"showbackground\":true,\"ticks\":\"\",\"zerolinecolor\":\"white\",\"gridwidth\":2},\"yaxis\":{\"backgroundcolor\":\"#E5ECF6\",\"gridcolor\":\"white\",\"linecolor\":\"white\",\"showbackground\":true,\"ticks\":\"\",\"zerolinecolor\":\"white\",\"gridwidth\":2},\"zaxis\":{\"backgroundcolor\":\"#E5ECF6\",\"gridcolor\":\"white\",\"linecolor\":\"white\",\"showbackground\":true,\"ticks\":\"\",\"zerolinecolor\":\"white\",\"gridwidth\":2}},\"shapedefaults\":{\"line\":{\"color\":\"#2a3f5f\"}},\"annotationdefaults\":{\"arrowcolor\":\"#2a3f5f\",\"arrowhead\":0,\"arrowwidth\":1},\"geo\":{\"bgcolor\":\"white\",\"landcolor\":\"#E5ECF6\",\"subunitcolor\":\"white\",\"showland\":true,\"showlakes\":true,\"lakecolor\":\"white\"},\"title\":{\"x\":0.05},\"mapbox\":{\"style\":\"light\"}}},\"xaxis\":{\"anchor\":\"y\",\"domain\":[0.0,1.0],\"title\":{\"text\":\"\"},\"tickangle\":-45},\"yaxis\":{\"anchor\":\"x\",\"domain\":[0.0,1.0],\"title\":{\"text\":\"Count\"}},\"coloraxis\":{\"colorbar\":{\"title\":{\"text\":\"count\"}},\"colorscale\":[[0.0,\"rgb(247,251,255)\"],[0.125,\"rgb(222,235,247)\"],[0.25,\"rgb(198,219,239)\"],[0.375,\"rgb(158,202,225)\"],[0.5,\"rgb(107,174,214)\"],[0.625,\"rgb(66,146,198)\"],[0.75,\"rgb(33,113,181)\"],[0.875,\"rgb(8,81,156)\"],[1.0,\"rgb(8,48,107)\"]]},\"legend\":{\"tracegroupgap\":0},\"title\":{\"text\":\"Count of Posts for Each Subreddit\",\"font\":{\"size\":24},\"x\":0.5,\"y\":0.95},\"barmode\":\"relative\",\"font\":{\"size\":14,\"color\":\"black\"},\"showlegend\":false},                        {\"responsive\": true}                    ).then(function(){\n                            \nvar gd = document.getElementById('23c6e9bc-03b4-422c-a195-eee9f46d7f8a');\nvar x = new MutationObserver(function (mutations, observer) {{\n        var display = window.getComputedStyle(gd).display;\n        if (!display || display === 'none') {{\n            console.log([gd, 'removed!']);\n            Plotly.purge(gd);\n            observer.disconnect();\n        }}\n}});\n\n// Listen for the removal of the full notebook cells\nvar notebookContainer = gd.closest('#notebook-container');\nif (notebookContainer) {{\n    x.observe(notebookContainer, {childList: true});\n}}\n\n// Listen for the clearing of the current output cell\nvar outputEl = gd.closest('.output');\nif (outputEl) {{\n    x.observe(outputEl, {childList: true});\n}}\n\n                        })                };                });            </script>        </div>"
     },
     "metadata": {},
     "output_type": "display_data"
    }
   ],
   "source": [
    "# Group the data by subreddit and count the number of posts for each subreddit\n",
    "subreddit_count = df.groupby('subreddit').size().reset_index(name='count')\n",
    "\n",
    "# Sort the data by count in descending order\n",
    "subreddit_count = subreddit_count.sort_values(by='count', ascending=False)\n",
    "\n",
    "# Create an interactive bar plot of the count for each subreddit\n",
    "fig = px.bar(subreddit_count, x='subreddit', y='count', title='Count of Posts for Each Subreddit',\n",
    "             color='count', color_continuous_scale='Blues')\n",
    "fig.update_traces(marker_line_color='rgb(8,48,107)', marker_line_width=1.5, opacity=0.8)\n",
    "fig.update_layout(xaxis_tickangle=-45, xaxis_title='', yaxis_title='Count', \n",
    "                  title_font_size=24, title_x=0.5, title_y=0.95, \n",
    "                  font=dict(size=14, color='black'))\n",
    "fig.update_layout(showlegend=False)\n",
    "#fig.update_xaxes(showticklabels=False)\n",
    "fig.show()"
   ]
  },
  {
   "cell_type": "markdown",
   "metadata": {},
   "source": [
    "**Correlation between upvotes and comments**"
   ]
  },
  {
   "cell_type": "code",
   "execution_count": 22,
   "metadata": {
    "ExecuteTime": {
     "end_time": "2023-12-02T20:05:39.234580746Z",
     "start_time": "2023-12-02T20:05:39.049398125Z"
    }
   },
   "outputs": [
    {
     "data": {
      "application/vnd.plotly.v1+json": {
       "data": [
        {
         "hovertemplate": "upvotes=%{x}<br>comments=%{y}<extra></extra>",
         "legendgroup": "",
         "marker": {
          "color": "#636efa",
          "symbol": "circle"
         },
         "mode": "markers",
         "name": "",
         "showlegend": false,
         "x": [
          439000.0,
          481000.0,
          365000.0,
          432000.0,
          336000.0,
          309000.0,
          401000.0,
          284000.0,
          297000.0,
          298000.0,
          329000.0,
          272000.0,
          337000.0,
          270000.0,
          283000.0,
          263000.0,
          293000.0,
          258000.0,
          256000.0,
          285000.0,
          262000.0,
          250000.0,
          297000.0,
          250000.0,
          250000.0,
          291000.0,
          273000.0,
          241000.0,
          237000.0,
          291000.0,
          236000.0,
          277000.0,
          235000.0,
          263000.0,
          254000.0,
          233000.0,
          232000.0,
          270000.0,
          231000.0,
          271000.0,
          255000.0,
          229000.0,
          244000.0,
          227000.0,
          226000.0,
          226000.0,
          251000.0,
          224000.0,
          224000.0,
          223000.0,
          228000.0,
          224000.0,
          223000.0,
          223000.0,
          222000.0,
          253000.0,
          246000.0,
          221000.0,
          219000.0,
          258000.0,
          219000.0,
          251000.0,
          223000.0,
          218000.0,
          257000.0,
          244000.0,
          245000.0,
          217000.0,
          223000.0,
          216000.0,
          238000.0,
          216000.0,
          220000.0,
          216000.0,
          242000.0,
          218000.0,
          214000.0,
          214000.0,
          214000.0,
          213000.0,
          213000.0,
          213000.0,
          217000.0,
          245000.0,
          220000.0,
          216000.0,
          212000.0,
          215000.0,
          227000.0,
          245000.0,
          215000.0,
          222000.0,
          247000.0,
          209000.0,
          231000.0,
          207000.0,
          207000.0,
          206000.0,
          218000.0,
          206000.0,
          228000.0,
          225000.0,
          205000.0,
          205000.0,
          205000.0,
          223000.0,
          205000.0,
          233000.0,
          210000.0,
          229000.0,
          203000.0,
          203000.0,
          203000.0,
          202000.0,
          202000.0,
          226000.0,
          202000.0,
          202000.0,
          202000.0,
          221000.0,
          201000.0,
          225000.0,
          204000.0,
          220000.0,
          200000.0,
          205000.0,
          199000.0,
          221000.0,
          213000.0,
          199000.0,
          198000.0,
          198000.0,
          203000.0,
          218000.0,
          197000.0,
          216000.0,
          197000.0,
          232000.0,
          197000.0,
          217000.0,
          216000.0,
          196000.0,
          216000.0,
          225000.0,
          197000.0,
          200000.0,
          205000.0,
          194000.0,
          210000.0,
          201000.0,
          208000.0,
          193000.0,
          193000.0,
          193000.0,
          215000.0,
          193000.0,
          197000.0,
          193000.0,
          192000.0,
          225000.0,
          196000.0,
          209000.0,
          207000.0,
          203000.0,
          191000.0,
          205000.0,
          191000.0,
          191000.0,
          206000.0,
          201000.0,
          221000.0,
          194000.0,
          207000.0,
          214000.0,
          190000.0,
          220000.0,
          205000.0,
          212000.0,
          189000.0,
          189000.0,
          188000.0,
          188000.0,
          203000.0,
          188000.0,
          188000.0,
          188000.0,
          188000.0,
          202000.0,
          187000.0,
          200000.0,
          189000.0,
          201000.0,
          202000.0,
          193000.0,
          201000.0,
          208000.0,
          186000.0,
          209000.0,
          186000.0,
          186000.0,
          189000.0,
          186000.0,
          198000.0,
          223000.0,
          185000.0,
          187000.0,
          195000.0,
          187000.0,
          199000.0,
          192000.0,
          192000.0,
          184000.0,
          192000.0,
          187000.0,
          184000.0,
          184000.0,
          184000.0,
          195000.0,
          197000.0,
          195000.0,
          194000.0,
          183000.0,
          183000.0,
          196000.0,
          202000.0,
          189000.0,
          195000.0,
          192000.0,
          182000.0,
          183000.0,
          182000.0,
          182000.0,
          182000.0,
          185000.0,
          195000.0,
          191000.0,
          194000.0,
          182000.0,
          196000.0,
          181000.0,
          191000.0,
          190000.0,
          198000.0,
          180000.0,
          180000.0,
          180000.0,
          179000.0,
          179000.0,
          179000.0,
          188000.0,
          181000.0,
          179000.0,
          179000.0,
          185000.0,
          190000.0,
          182000.0,
          179000.0,
          192000.0,
          178000.0,
          178000.0,
          178000.0,
          187000.0,
          187000.0,
          187000.0,
          196000.0,
          186000.0,
          184000.0,
          188000.0,
          193000.0,
          186000.0,
          205000.0,
          177000.0,
          180000.0,
          177000.0,
          179000.0,
          187000.0,
          176000.0,
          180000.0,
          185000.0,
          200000.0,
          176000.0,
          183000.0,
          185000.0,
          184000.0,
          190000.0,
          176000.0,
          185000.0,
          185000.0,
          176000.0,
          176000.0,
          179000.0,
          192000.0,
          175000.0,
          175000.0,
          186000.0,
          175000.0,
          175000.0,
          175000.0,
          187000.0,
          179000.0,
          187000.0,
          183000.0,
          175000.0,
          177000.0,
          183000.0,
          175000.0,
          174000.0,
          190000.0,
          174000.0,
          174000.0,
          191000.0,
          174000.0,
          177000.0,
          174000.0,
          179000.0,
          174000.0,
          174000.0,
          180000.0,
          174000.0,
          175000.0,
          184000.0,
          188000.0,
          186000.0,
          173000.0,
          173000.0,
          173000.0,
          180000.0,
          181000.0,
          180000.0,
          179000.0,
          173000.0,
          179000.0,
          197000.0,
          172000.0,
          172000.0,
          179000.0,
          184000.0,
          183000.0,
          173000.0,
          177000.0,
          176000.0,
          173000.0,
          171000.0,
          171000.0,
          171000.0,
          179000.0,
          173000.0,
          181000.0,
          196000.0,
          189000.0,
          180000.0,
          181000.0,
          180000.0,
          180000.0,
          181000.0,
          182000.0,
          173000.0,
          170000.0,
          178000.0,
          183000.0,
          180000.0,
          179000.0,
          175000.0,
          169000.0,
          169000.0,
          169000.0,
          191000.0,
          174000.0,
          180000.0,
          175000.0,
          175000.0,
          171000.0,
          169000.0,
          169000.0,
          169000.0,
          172000.0,
          169000.0,
          177000.0,
          182000.0,
          174000.0,
          170000.0,
          174000.0,
          168000.0,
          179000.0,
          174000.0,
          173000.0,
          173000.0,
          173000.0,
          168000.0,
          177000.0,
          172000.0,
          168000.0,
          182000.0,
          168000.0,
          174000.0,
          172000.0,
          172000.0,
          173000.0,
          168000.0,
          173000.0,
          181000.0,
          167000.0,
          167000.0,
          169000.0,
          167000.0,
          177000.0,
          171000.0,
          180000.0,
          174000.0,
          175000.0,
          167000.0,
          167000.0,
          169000.0,
          167000.0,
          171000.0,
          167000.0,
          173000.0,
          168000.0,
          173000.0,
          166000.0,
          167000.0,
          166000.0,
          174000.0,
          179000.0,
          166000.0,
          170000.0,
          166000.0,
          166000.0,
          171000.0,
          171000.0,
          172000.0,
          166000.0,
          166000.0,
          166000.0,
          176000.0,
          177000.0,
          171000.0,
          169000.0,
          166000.0,
          165000.0,
          165000.0,
          185000.0,
          171000.0,
          165000.0,
          175000.0,
          168000.0,
          169000.0,
          176000.0,
          166000.0,
          168000.0,
          165000.0,
          174000.0,
          165000.0,
          165000.0,
          172000.0,
          230000.0,
          167000.0,
          166000.0,
          166000.0,
          164000.0,
          168000.0,
          164000.0,
          170000.0,
          164000.0,
          168000.0,
          164000.0,
          171000.0,
          167000.0,
          163000.0,
          163000.0,
          183000.0,
          163000.0,
          163000.0,
          176000.0,
          163000.0,
          176000.0,
          163000.0,
          165000.0,
          163000.0,
          171000.0,
          172000.0,
          167000.0,
          167000.0,
          163000.0,
          166000.0,
          163000.0,
          167000.0,
          167000.0,
          174000.0,
          167000.0,
          171000.0,
          166000.0,
          167000.0,
          163000.0,
          163000.0,
          166000.0,
          163000.0,
          168000.0,
          166000.0,
          163000.0,
          165000.0,
          170000.0,
          162000.0,
          165000.0,
          162000.0,
          169000.0,
          162000.0,
          162000.0,
          163000.0,
          164000.0,
          162000.0,
          162000.0,
          174000.0,
          165000.0,
          167000.0,
          171000.0,
          170000.0,
          162000.0,
          163000.0,
          162000.0,
          166000.0,
          164000.0,
          162000.0,
          162000.0,
          162000.0,
          165000.0,
          161000.0,
          162000.0,
          163000.0,
          167000.0,
          172000.0,
          176000.0,
          184000.0,
          162000.0,
          165000.0,
          161000.0,
          164000.0,
          170000.0,
          161000.0,
          166000.0,
          163000.0,
          160000.0,
          162000.0,
          160000.0,
          172000.0,
          176000.0,
          171000.0,
          163000.0,
          170000.0,
          163000.0,
          160000.0,
          183000.0,
          163000.0,
          160000.0,
          162000.0,
          166000.0,
          161000.0,
          169000.0,
          163000.0,
          182000.0,
          170000.0,
          162000.0,
          170000.0,
          166000.0,
          161000.0,
          159000.0,
          159000.0,
          165000.0,
          166000.0,
          166000.0,
          160000.0,
          163000.0,
          171000.0,
          166000.0,
          166000.0,
          159000.0,
          159000.0,
          165000.0,
          159000.0,
          170000.0,
          177000.0,
          160000.0,
          165000.0,
          166000.0,
          163000.0,
          159000.0,
          168000.0,
          168000.0,
          161000.0,
          159000.0,
          158000.0,
          167000.0,
          162000.0,
          174000.0,
          161000.0,
          165000.0,
          160000.0,
          158000.0,
          163000.0,
          158000.0,
          166000.0,
          158000.0,
          159000.0,
          163000.0,
          160000.0,
          158000.0,
          159000.0,
          170000.0,
          158000.0,
          171000.0,
          158000.0,
          159000.0,
          163000.0,
          158000.0,
          158000.0,
          158000.0,
          158000.0,
          161000.0,
          169000.0,
          165000.0,
          158000.0,
          158000.0,
          158000.0,
          164000.0,
          157000.0,
          161000.0,
          166000.0,
          157000.0,
          158000.0,
          157000.0,
          161000.0,
          164000.0,
          159000.0,
          157000.0,
          157000.0,
          162000.0,
          159000.0,
          157000.0,
          165000.0,
          158000.0,
          159000.0,
          159000.0,
          181000.0,
          160000.0,
          160000.0,
          157000.0,
          158000.0,
          157000.0,
          157000.0,
          176000.0,
          163000.0,
          167000.0,
          156000.0,
          156000.0,
          163000.0,
          157000.0,
          158000.0,
          156000.0,
          170000.0,
          163000.0,
          156000.0,
          158000.0,
          163000.0,
          163000.0,
          164000.0,
          158000.0,
          157000.0,
          159000.0,
          156000.0,
          162000.0,
          156000.0,
          159000.0,
          163000.0,
          157000.0,
          164000.0,
          156000.0,
          160000.0,
          157000.0,
          158000.0,
          156000.0,
          163000.0,
          169000.0,
          170000.0,
          160000.0,
          160000.0,
          158000.0,
          159000.0,
          155000.0,
          155000.0,
          158000.0,
          158000.0,
          156000.0,
          158000.0,
          155000.0,
          168000.0,
          168000.0,
          157000.0,
          155000.0,
          168000.0,
          168000.0,
          156000.0,
          155000.0,
          155000.0,
          155000.0,
          155000.0,
          157000.0,
          165000.0,
          155000.0,
          160000.0,
          157000.0,
          156000.0,
          158000.0,
          157000.0,
          157000.0,
          155000.0,
          156000.0,
          162000.0,
          161000.0,
          155000.0,
          154000.0,
          157000.0,
          154000.0,
          163000.0,
          154000.0,
          161000.0,
          166000.0,
          154000.0,
          156000.0,
          155000.0,
          155000.0,
          155000.0,
          154000.0,
          155000.0,
          154000.0,
          156000.0,
          157000.0,
          161000.0,
          155000.0,
          155000.0,
          154000.0,
          154000.0,
          154000.0,
          157000.0,
          154000.0,
          155000.0,
          158000.0,
          159000.0,
          154000.0,
          153000.0,
          155000.0,
          153000.0,
          155000.0,
          154000.0,
          156000.0,
          153000.0,
          155000.0,
          154000.0,
          154000.0,
          159000.0,
          160000.0,
          158000.0,
          156000.0,
          153000.0,
          154000.0,
          155000.0,
          154000.0,
          153000.0,
          154000.0,
          154000.0,
          153000.0,
          161000.0,
          157000.0,
          153000.0,
          154000.0,
          154000.0,
          153000.0,
          153000.0,
          152000.0,
          153000.0,
          152000.0,
          153000.0,
          152000.0,
          194000.0,
          152000.0,
          152000.0,
          153000.0,
          152000.0,
          153000.0,
          153000.0,
          159000.0,
          154000.0,
          152000.0,
          157000.0,
          154000.0,
          153000.0,
          152000.0,
          152000.0,
          158000.0,
          158000.0,
          153000.0,
          155000.0,
          153000.0,
          153000.0,
          152000.0,
          152000.0,
          153000.0,
          156000.0,
          152000.0,
          153000.0,
          151000.0,
          153000.0,
          168000.0,
          157000.0,
          164000.0,
          156000.0,
          160000.0,
          153000.0,
          151000.0,
          151000.0,
          162000.0,
          151000.0,
          155000.0,
          152000.0,
          152000.0,
          156000.0,
          156000.0,
          170000.0,
          160000.0,
          151000.0,
          151000.0,
          151000.0,
          151000.0,
          151000.0,
          155000.0,
          157000.0,
          152000.0,
          151000.0,
          151000.0,
          152000.0,
          163000.0,
          150000.0,
          152000.0,
          150000.0,
          150000.0,
          150000.0,
          162000.0,
          150000.0,
          151000.0,
          153000.0,
          151000.0,
          150000.0,
          167000.0,
          151000.0,
          151000.0,
          152000.0,
          151000.0,
          150000.0,
          158000.0,
          150000.0,
          151000.0,
          159000.0,
          150000.0,
          150000.0,
          152000.0,
          157000.0,
          154000.0,
          151000.0,
          155000.0,
          150000.0,
          150000.0,
          151000.0,
          154000.0,
          152000.0,
          151000.0,
          150000.0,
          158000.0,
          150000.0,
          150000.0,
          150000.0,
          150000.0,
          150000.0,
          158000.0,
          168000.0,
          149000.0,
          149000.0,
          156000.0,
          154000.0,
          149000.0,
          149000.0,
          149000.0,
          169000.0,
          149000.0,
          152000.0,
          154000.0,
          150000.0,
          149000.0,
          149000.0,
          157000.0,
          153000.0,
          154000.0,
          166000.0,
          150000.0,
          150000.0,
          162000.0,
          149000.0,
          150000.0,
          156000.0,
          151000.0,
          149000.0,
          151000.0,
          149000.0,
          149000.0,
          149000.0,
          152000.0,
          149000.0,
          149000.0,
          150000.0,
          157000.0,
          154000.0,
          149000.0,
          153000.0,
          150000.0,
          149000.0,
          159000.0,
          148000.0,
          149000.0,
          149000.0,
          152000.0,
          148000.0,
          148000.0,
          152000.0,
          151000.0,
          160000.0,
          150000.0,
          152000.0,
          164000.0,
          159000.0,
          150000.0,
          150000.0,
          152000.0,
          149000.0,
          149000.0,
          150000.0,
          148000.0,
          148000.0,
          164000.0,
          148000.0,
          161000.0,
          151000.0,
          148000.0,
          148000.0,
          149000.0,
          149000.0,
          148000.0,
          159000.0,
          149000.0,
          162000.0,
          148000.0,
          152000.0,
          152000.0,
          148000.0,
          148000.0,
          159000.0,
          154000.0,
          148000.0,
          151000.0,
          155000.0,
          151000.0,
          148000.0,
          148000.0,
          148000.0,
          148000.0,
          151000.0,
          152000.0,
          147000.0,
          147000.0,
          150000.0,
          148000.0,
          149000.0,
          147000.0,
          149000.0,
          154000.0,
          148000.0,
          148000.0,
          147000.0,
          147000.0,
          158000.0,
          171000.0,
          148000.0,
          147000.0,
          151000.0,
          147000.0,
          151000.0,
          151000.0,
          151000.0,
          149000.0,
          149000.0,
          149000.0,
          150000.0,
          148000.0,
          147000.0,
          153000.0,
          154000.0,
          148000.0,
          147000.0,
          147000.0,
          147000.0,
          147000.0,
          155000.0,
          147000.0,
          148000.0,
          147000.0,
          147000.0,
          147000.0,
          148000.0,
          147000.0,
          149000.0,
          161000.0,
          147000.0,
          148000.0,
          147000.0,
          147000.0,
          147000.0,
          148000.0,
          149000.0,
          149000.0,
          146000.0,
          150000.0,
          147000.0,
          165000.0,
          166000.0,
          147000.0,
          147000.0,
          147000.0,
          150000.0,
          153000.0,
          147000.0,
          146000.0,
          148000.0,
          146000.0,
          147000.0,
          146000.0,
          147000.0,
          146000.0,
          147000.0,
          149000.0,
          150000.0,
          147000.0,
          148000.0,
          148000.0,
          146000.0,
          150000.0,
          146000.0,
          148000.0,
          148000.0,
          149000.0,
          150000.0,
          146000.0,
          146000.0,
          147000.0,
          146000.0,
          146000.0,
          150000.0,
          146000.0,
          146000.0,
          148000.0,
          147000.0,
          147000.0,
          146000.0,
          149000.0,
          148000.0,
          151000.0,
          146000.0,
          148000.0,
          146000.0,
          145000.0,
          147000.0,
          146000.0,
          145000.0,
          145000.0,
          145000.0,
          146000.0,
          146000.0,
          154000.0,
          145000.0,
          146000.0,
          145000.0,
          146000.0,
          160000.0,
          145000.0,
          152000.0,
          145000.0,
          145000.0,
          145000.0,
          145000.0,
          145000.0,
          145000.0,
          145000.0,
          145000.0,
          145000.0,
          152000.0,
          148000.0,
          145000.0,
          145000.0,
          151000.0,
          148000.0,
          148000.0,
          147000.0,
          157000.0,
          144000.0,
          145000.0,
          145000.0,
          153000.0,
          148000.0,
          145000.0,
          145000.0,
          150000.0,
          145000.0,
          147000.0,
          145000.0,
          144000.0,
          144000.0,
          145000.0,
          144000.0,
          144000.0,
          169000.0,
          144000.0,
          144000.0,
          157000.0,
          147000.0,
          152000.0,
          144000.0,
          144000.0,
          144000.0,
          144000.0,
          144000.0,
          150000.0,
          151000.0,
          144000.0,
          147000.0,
          146000.0,
          144000.0,
          146000.0,
          145000.0,
          144000.0,
          147000.0,
          149000.0,
          144000.0,
          144000.0,
          145000.0,
          144000.0,
          144000.0,
          145000.0,
          144000.0,
          144000.0,
          149000.0,
          145000.0,
          144000.0,
          146000.0,
          144000.0,
          154000.0,
          144000.0,
          145000.0,
          144000.0,
          144000.0,
          144000.0,
          144000.0,
          144000.0,
          147000.0,
          143000.0,
          144000.0,
          143000.0,
          144000.0,
          144000.0,
          146000.0,
          144000.0,
          149000.0,
          143000.0,
          143000.0,
          144000.0,
          144000.0,
          143000.0,
          145000.0,
          144000.0,
          143000.0,
          143000.0,
          143000.0,
          143000.0,
          143000.0,
          143000.0,
          151000.0,
          143000.0,
          145000.0,
          150000.0,
          155000.0,
          143000.0,
          143000.0,
          143000.0,
          143000.0,
          143000.0,
          143000.0,
          143000.0,
          143000.0,
          143000.0,
          143000.0,
          157000.0,
          144000.0,
          144000.0,
          146000.0,
          143000.0,
          148000.0,
          143000.0,
          162000.0,
          143000.0,
          143000.0,
          143000.0,
          143000.0,
          149000.0,
          159000.0,
          144000.0,
          156000.0,
          143000.0,
          143000.0,
          162000.0,
          145000.0,
          159000.0,
          143000.0,
          144000.0,
          143000.0,
          143000.0,
          146000.0,
          142000.0,
          143000.0,
          169000.0,
          142000.0,
          154000.0,
          143000.0,
          143000.0,
          142000.0,
          142000.0,
          143000.0,
          144000.0,
          142000.0,
          145000.0,
          143000.0,
          144000.0,
          142000.0,
          142000.0,
          157000.0,
          142000.0,
          142000.0,
          142000.0,
          142000.0,
          144000.0,
          143000.0,
          153000.0,
          142000.0,
          157000.0,
          145000.0,
          149000.0,
          142000.0,
          142000.0,
          143000.0,
          142000.0,
          142000.0,
          142000.0,
          143000.0,
          143000.0,
          143000.0,
          144000.0,
          142000.0,
          142000.0,
          142000.0,
          144000.0,
          142000.0,
          143000.0,
          142000.0,
          142000.0,
          142000.0,
          142000.0,
          148000.0,
          146000.0,
          144000.0,
          142000.0,
          142000.0,
          142000.0,
          142000.0,
          142000.0,
          141000.0,
          152000.0,
          142000.0,
          141000.0,
          142000.0,
          142000.0,
          143000.0,
          141000.0,
          145000.0,
          142000.0,
          141000.0,
          141000.0,
          142000.0,
          141000.0,
          142000.0,
          141000.0,
          145000.0,
          164000.0,
          141000.0,
          141000.0,
          141000.0,
          141000.0,
          141000.0,
          141000.0,
          141000.0,
          141000.0,
          141000.0,
          141000.0,
          141000.0,
          142000.0,
          142000.0,
          142000.0,
          141000.0,
          142000.0,
          141000.0,
          142000.0,
          149000.0,
          141000.0,
          141000.0,
          141000.0,
          141000.0,
          141000.0,
          141000.0,
          141000.0,
          143000.0,
          141000.0,
          144000.0,
          141000.0,
          141000.0,
          140000.0,
          144000.0,
          144000.0,
          140000.0,
          143000.0,
          140000.0,
          142000.0,
          146000.0,
          140000.0,
          146000.0,
          142000.0,
          140000.0,
          141000.0,
          141000.0,
          141000.0,
          146000.0,
          140000.0,
          140000.0,
          144000.0,
          153000.0,
          143000.0,
          140000.0,
          140000.0,
          141000.0,
          140000.0,
          140000.0,
          140000.0,
          140000.0,
          143000.0,
          140000.0,
          152000.0,
          140000.0,
          140000.0,
          142000.0,
          140000.0,
          140000.0,
          140000.0,
          144000.0,
          148000.0,
          145000.0,
          150000.0,
          140000.0,
          140000.0,
          140000.0,
          148000.0,
          140000.0,
          148000.0,
          148000.0,
          141000.0,
          154000.0,
          140000.0,
          140000.0,
          141000.0,
          140000.0,
          141000.0,
          142000.0,
          140000.0,
          140000.0,
          141000.0,
          145000.0,
          145000.0,
          140000.0,
          139000.0,
          139000.0,
          139000.0,
          139000.0,
          151000.0,
          140000.0,
          155000.0,
          139000.0,
          140000.0,
          139000.0,
          148000.0,
          148000.0,
          140000.0,
          139000.0,
          139000.0,
          149000.0,
          139000.0,
          144000.0,
          142000.0,
          139000.0,
          140000.0,
          146000.0,
          139000.0,
          139000.0,
          140000.0,
          140000.0,
          140000.0,
          139000.0,
          139000.0,
          139000.0,
          139000.0,
          145000.0,
          142000.0,
          141000.0,
          139000.0,
          142000.0,
          139000.0,
          139000.0,
          139000.0,
          139000.0,
          140000.0,
          139000.0,
          143000.0,
          139000.0,
          139000.0,
          139000.0,
          139000.0,
          141000.0,
          141000.0,
          150000.0,
          151000.0,
          149000.0,
          139000.0,
          148000.0,
          139000.0,
          139000.0,
          146000.0,
          139000.0,
          142000.0,
          145000.0,
          139000.0,
          141000.0,
          141000.0,
          139000.0,
          139000.0,
          148000.0,
          139000.0,
          139000.0,
          159000.0,
          139000.0,
          143000.0,
          139000.0,
          139000.0,
          139000.0,
          139000.0,
          139000.0,
          138000.0,
          138000.0,
          138000.0,
          142000.0,
          141000.0,
          139000.0,
          151000.0,
          138000.0,
          138000.0,
          138000.0,
          138000.0,
          139000.0,
          138000.0,
          143000.0,
          138000.0,
          138000.0,
          140000.0,
          138000.0,
          138000.0,
          138000.0,
          148000.0,
          143000.0,
          138000.0,
          138000.0,
          140000.0,
          139000.0,
          138000.0,
          142000.0,
          138000.0,
          138000.0,
          141000.0,
          140000.0,
          141000.0,
          141000.0,
          138000.0,
          138000.0,
          140000.0,
          148000.0,
          138000.0,
          138000.0,
          147000.0,
          139000.0,
          140000.0,
          138000.0,
          138000.0,
          138000.0,
          141000.0,
          138000.0,
          142000.0,
          138000.0,
          138000.0,
          138000.0,
          138000.0,
          138000.0,
          138000.0,
          139000.0,
          142000.0,
          139000.0,
          144000.0,
          139000.0,
          138000.0,
          138000.0,
          139000.0,
          138000.0,
          146000.0,
          138000.0,
          138000.0,
          141000.0,
          139000.0,
          138000.0,
          138000.0,
          138000.0,
          138000.0,
          142000.0,
          138000.0,
          148000.0,
          138000.0,
          139000.0,
          138000.0,
          138000.0,
          138000.0,
          139000.0,
          137000.0,
          139000.0,
          137000.0,
          147000.0,
          137000.0,
          138000.0,
          137000.0,
          137000.0,
          137000.0,
          139000.0,
          137000.0,
          137000.0,
          139000.0,
          137000.0,
          137000.0,
          137000.0,
          137000.0,
          137000.0,
          137000.0,
          137000.0,
          137000.0,
          137000.0,
          137000.0,
          140000.0,
          139000.0,
          147000.0,
          137000.0,
          137000.0,
          137000.0,
          137000.0,
          137000.0,
          138000.0,
          137000.0,
          137000.0,
          139000.0,
          137000.0,
          138000.0,
          137000.0,
          137000.0,
          137000.0,
          147000.0,
          137000.0,
          137000.0,
          137000.0,
          137000.0,
          148000.0,
          137000.0,
          137000.0,
          138000.0,
          137000.0,
          142000.0,
          137000.0,
          145000.0,
          142000.0,
          137000.0,
          137000.0,
          137000.0,
          158000.0,
          137000.0,
          137000.0,
          137000.0,
          138000.0,
          137000.0,
          137000.0,
          139000.0,
          137000.0,
          143000.0,
          140000.0,
          136000.0,
          140000.0,
          137000.0,
          138000.0,
          146000.0,
          137000.0,
          136000.0,
          138000.0,
          137000.0,
          138000.0,
          142000.0,
          144000.0,
          141000.0,
          156000.0,
          136000.0,
          136000.0,
          136000.0,
          137000.0,
          140000.0,
          140000.0,
          142000.0,
          136000.0,
          136000.0,
          136000.0,
          136000.0,
          139000.0,
          142000.0,
          136000.0,
          142000.0,
          136000.0,
          142000.0,
          136000.0,
          136000.0,
          136000.0,
          136000.0,
          136000.0,
          136000.0,
          138000.0,
          136000.0,
          141000.0,
          153000.0,
          136000.0,
          136000.0,
          136000.0,
          136000.0,
          138000.0,
          136000.0,
          136000.0,
          136000.0,
          137000.0,
          136000.0,
          141000.0,
          137000.0,
          136000.0,
          136000.0,
          136000.0,
          136000.0,
          136000.0,
          138000.0,
          136000.0,
          136000.0,
          137000.0,
          143000.0,
          136000.0,
          136000.0,
          137000.0,
          136000.0,
          136000.0,
          136000.0,
          141000.0,
          136000.0,
          138000.0,
          136000.0,
          136000.0,
          138000.0,
          136000.0,
          135000.0,
          136000.0,
          135000.0,
          135000.0,
          139000.0,
          142000.0,
          135000.0,
          138000.0,
          139000.0,
          137000.0,
          135000.0,
          135000.0,
          135000.0,
          136000.0,
          135000.0,
          136000.0,
          135000.0,
          135000.0,
          136000.0,
          135000.0,
          136000.0,
          137000.0,
          137000.0,
          136000.0,
          138000.0,
          142000.0,
          135000.0,
          147000.0,
          139000.0,
          135000.0,
          138000.0,
          138000.0,
          135000.0,
          135000.0,
          135000.0,
          135000.0,
          137000.0,
          135000.0,
          136000.0,
          135000.0,
          135000.0,
          135000.0,
          135000.0,
          137000.0,
          136000.0,
          136000.0,
          135000.0,
          136000.0,
          135000.0,
          135000.0,
          141000.0,
          135000.0,
          143000.0,
          135000.0,
          135000.0,
          135000.0,
          135000.0,
          138000.0,
          138000.0,
          135000.0,
          135000.0,
          143000.0,
          135000.0,
          135000.0,
          135000.0,
          135000.0,
          135000.0,
          135000.0,
          135000.0,
          135000.0,
          135000.0,
          135000.0,
          135000.0,
          135000.0,
          135000.0,
          135000.0,
          135000.0,
          135000.0,
          140000.0,
          135000.0,
          143000.0,
          146000.0,
          145000.0,
          140000.0,
          136000.0,
          135000.0,
          136000.0,
          137000.0,
          144000.0,
          135000.0,
          134000.0,
          134000.0,
          134000.0,
          134000.0,
          136000.0,
          134000.0,
          134000.0,
          136000.0,
          134000.0,
          143000.0,
          135000.0,
          136000.0,
          135000.0,
          134000.0,
          135000.0,
          144000.0,
          134000.0,
          134000.0,
          135000.0,
          134000.0,
          137000.0,
          134000.0,
          138000.0,
          135000.0,
          134000.0,
          134000.0,
          136000.0,
          146000.0,
          134000.0,
          135000.0,
          142000.0,
          151000.0,
          135000.0,
          134000.0,
          134000.0,
          134000.0,
          134000.0,
          134000.0,
          134000.0,
          134000.0,
          134000.0,
          134000.0,
          134000.0,
          136000.0,
          134000.0,
          135000.0,
          134000.0,
          134000.0,
          134000.0,
          142000.0,
          134000.0,
          134000.0,
          134000.0,
          134000.0,
          134000.0,
          139000.0,
          145000.0,
          134000.0,
          138000.0,
          134000.0,
          138000.0,
          140000.0,
          135000.0,
          134000.0,
          151000.0,
          134000.0,
          134000.0,
          134000.0,
          135000.0,
          134000.0,
          135000.0,
          134000.0,
          134000.0,
          134000.0,
          138000.0,
          134000.0,
          134000.0,
          141000.0,
          135000.0,
          134000.0,
          133000.0,
          137000.0,
          134000.0,
          133000.0,
          133000.0,
          133000.0,
          134000.0,
          133000.0,
          133000.0,
          133000.0,
          133000.0,
          133000.0,
          133000.0,
          133000.0,
          133000.0,
          133000.0,
          133000.0,
          134000.0,
          133000.0,
          137000.0,
          133000.0,
          135000.0,
          133000.0,
          135000.0,
          143000.0,
          133000.0,
          133000.0,
          133000.0,
          134000.0,
          133000.0,
          133000.0,
          134000.0,
          133000.0,
          133000.0,
          134000.0,
          133000.0,
          133000.0,
          133000.0,
          138000.0,
          137000.0,
          133000.0,
          133000.0,
          133000.0,
          133000.0,
          133000.0,
          133000.0,
          133000.0,
          133000.0,
          135000.0,
          133000.0,
          134000.0,
          133000.0,
          133000.0,
          133000.0,
          133000.0,
          133000.0,
          133000.0,
          133000.0,
          133000.0,
          133000.0,
          137000.0,
          133000.0,
          133000.0,
          135000.0,
          133000.0,
          133000.0,
          133000.0,
          133000.0,
          146000.0,
          133000.0,
          133000.0,
          133000.0,
          133000.0,
          148000.0,
          135000.0,
          133000.0,
          134000.0,
          133000.0,
          133000.0,
          133000.0,
          136000.0,
          133000.0,
          133000.0,
          136000.0,
          133000.0,
          132000.0,
          133000.0,
          134000.0,
          132000.0,
          132000.0,
          136000.0,
          133000.0,
          133000.0,
          136000.0,
          132000.0,
          138000.0,
          132000.0,
          132000.0,
          133000.0,
          135000.0,
          140000.0,
          132000.0,
          132000.0,
          148000.0,
          132000.0,
          132000.0,
          133000.0,
          133000.0,
          132000.0,
          132000.0,
          132000.0,
          143000.0,
          132000.0,
          133000.0,
          132000.0,
          133000.0,
          135000.0,
          132000.0,
          132000.0,
          132000.0,
          132000.0,
          136000.0,
          135000.0,
          132000.0,
          132000.0,
          132000.0,
          132000.0,
          132000.0,
          133000.0,
          147000.0,
          132000.0,
          132000.0,
          132000.0,
          132000.0,
          133000.0,
          132000.0,
          132000.0,
          132000.0,
          133000.0,
          139000.0,
          132000.0,
          132000.0,
          132000.0,
          132000.0,
          137000.0,
          132000.0,
          132000.0,
          132000.0,
          132000.0,
          132000.0,
          132000.0,
          132000.0,
          132000.0,
          133000.0,
          132000.0,
          132000.0,
          132000.0,
          132000.0,
          131000.0,
          131000.0,
          131000.0,
          131000.0,
          133000.0,
          132000.0,
          132000.0,
          131000.0,
          132000.0,
          131000.0,
          131000.0,
          131000.0,
          132000.0,
          132000.0,
          132000.0,
          132000.0,
          132000.0,
          131000.0,
          132000.0,
          132000.0,
          131000.0,
          131000.0,
          133000.0,
          131000.0,
          139000.0,
          131000.0,
          131000.0,
          148000.0,
          136000.0,
          132000.0,
          149000.0,
          131000.0,
          132000.0,
          134000.0,
          131000.0,
          131000.0,
          145000.0,
          134000.0,
          131000.0,
          131000.0,
          131000.0,
          132000.0,
          131000.0,
          144000.0,
          131000.0,
          132000.0,
          131000.0,
          132000.0,
          131000.0,
          133000.0,
          131000.0,
          131000.0,
          133000.0,
          132000.0,
          132000.0,
          131000.0,
          138000.0,
          131000.0,
          131000.0,
          131000.0,
          131000.0,
          131000.0,
          131000.0,
          132000.0,
          131000.0,
          131000.0,
          132000.0,
          131000.0,
          131000.0,
          132000.0,
          131000.0,
          131000.0,
          132000.0,
          131000.0,
          131000.0,
          134000.0,
          133000.0,
          133000.0,
          132000.0,
          131000.0,
          137000.0,
          131000.0,
          132000.0,
          132000.0,
          134000.0,
          131000.0,
          131000.0,
          131000.0,
          131000.0,
          131000.0,
          131000.0,
          131000.0,
          131000.0,
          131000.0,
          130000.0,
          131000.0,
          131000.0,
          130000.0,
          131000.0,
          130000.0,
          131000.0,
          130000.0,
          131000.0,
          130000.0,
          135000.0,
          130000.0,
          137000.0,
          132000.0,
          141000.0,
          130000.0,
          134000.0,
          130000.0,
          130000.0,
          130000.0,
          136000.0,
          130000.0,
          131000.0,
          133000.0,
          130000.0,
          132000.0,
          130000.0,
          130000.0,
          130000.0,
          131000.0,
          130000.0,
          137000.0,
          130000.0,
          131000.0,
          130000.0,
          130000.0,
          131000.0,
          131000.0,
          130000.0,
          136000.0,
          130000.0,
          130000.0,
          130000.0,
          130000.0,
          131000.0,
          130000.0,
          130000.0,
          130000.0,
          130000.0,
          130000.0,
          130000.0,
          130000.0,
          130000.0,
          130000.0,
          130000.0,
          133000.0,
          130000.0,
          131000.0,
          130000.0,
          130000.0,
          130000.0,
          130000.0,
          130000.0,
          130000.0,
          130000.0,
          134000.0,
          130000.0,
          130000.0,
          130000.0,
          137000.0,
          130000.0,
          130000.0,
          130000.0,
          130000.0,
          130000.0,
          144000.0,
          130000.0,
          130000.0,
          130000.0,
          130000.0,
          130000.0,
          130000.0,
          147000.0,
          130000.0,
          130000.0,
          129000.0,
          136000.0,
          140000.0,
          129000.0,
          130000.0,
          130000.0,
          130000.0,
          131000.0,
          130000.0,
          129000.0,
          129000.0,
          129000.0,
          130000.0,
          130000.0,
          129000.0,
          129000.0,
          129000.0,
          135000.0,
          129000.0,
          129000.0,
          129000.0,
          129000.0,
          129000.0,
          129000.0,
          129000.0,
          129000.0,
          129000.0,
          137000.0,
          129000.0,
          129000.0,
          129000.0,
          129000.0,
          130000.0,
          129000.0,
          129000.0,
          129000.0,
          133000.0,
          130000.0,
          129000.0,
          132000.0,
          129000.0,
          129000.0,
          134000.0,
          154000.0,
          129000.0,
          134000.0,
          139000.0,
          132000.0,
          129000.0,
          130000.0,
          129000.0,
          129000.0,
          151000.0,
          129000.0,
          129000.0,
          129000.0,
          129000.0,
          151000.0,
          130000.0,
          136000.0,
          129000.0,
          129000.0,
          130000.0,
          129000.0,
          129000.0,
          130000.0,
          132000.0,
          129000.0,
          130000.0,
          129000.0,
          130000.0,
          129000.0,
          138000.0,
          130000.0,
          129000.0,
          130000.0,
          130000.0
         ],
         "xaxis": "x",
         "y": [
          19005.0,
          13936.0,
          28398.0,
          5106.0,
          12892.0,
          2454.0,
          4205.0,
          4943.0,
          23126.0,
          11402.0,
          4282.0,
          15684.0,
          3271.0,
          3568.0,
          12694.0,
          8683.0,
          16656.0,
          8586.0,
          11688.0,
          3547.0,
          20024.0,
          1989.0,
          1966.0,
          6676.0,
          27678.0,
          1863.0,
          2208.0,
          5501.0,
          4751.0,
          12416.0,
          5565.0,
          2846.0,
          5942.0,
          10404.0,
          6915.0,
          33331.0,
          18947.0,
          4723.0,
          6025.0,
          1766.0,
          3104.0,
          6248.0,
          4622.0,
          2193.0,
          9437.0,
          2799.0,
          1768.0,
          3155.0,
          4671.0,
          2267.0,
          17936.0,
          10703.0,
          4319.0,
          11685.0,
          7950.0,
          1501.0,
          1536.0,
          2450.0,
          1556.0,
          830.0,
          2060.0,
          6973.0,
          30408.0,
          4611.0,
          1040.0,
          3764.0,
          3150.0,
          1829.0,
          12949.0,
          22842.0,
          4834.0,
          2524.0,
          6548.0,
          6212.0,
          1788.0,
          18744.0,
          81678.0,
          6190.0,
          20201.0,
          4758.0,
          2491.0,
          6943.0,
          14718.0,
          4414.0,
          4993.0,
          18188.0,
          2777.0,
          7016.0,
          8396.0,
          2194.0,
          5664.0,
          6233.0,
          1850.0,
          6119.0,
          1303.0,
          6763.0,
          4740.0,
          2484.0,
          6374.0,
          3663.0,
          1211.0,
          1897.0,
          715.0,
          2153.0,
          5796.0,
          3263.0,
          8403.0,
          2040.0,
          5671.0,
          4788.0,
          20042.0,
          6331.0,
          2202.0,
          1457.0,
          4028.0,
          2356.0,
          3941.0,
          2710.0,
          4862.0,
          2780.0,
          5352.0,
          948.0,
          1439.0,
          1762.0,
          1640.0,
          2232.0,
          3831.0,
          763.0,
          1644.0,
          2604.0,
          11891.0,
          13362.0,
          1960.0,
          957.0,
          928.0,
          783.0,
          1801.0,
          1773.0,
          2802.0,
          1447.0,
          4284.0,
          10273.0,
          6404.0,
          2111.0,
          6841.0,
          9734.0,
          5310.0,
          14526.0,
          4790.0,
          4564.0,
          1768.0,
          7412.0,
          1436.0,
          5906.0,
          1155.0,
          5281.0,
          5652.0,
          6151.0,
          11498.0,
          2706.0,
          4206.0,
          1822.0,
          3576.0,
          8976.0,
          3202.0,
          1323.0,
          3712.0,
          4853.0,
          3289.0,
          2722.0,
          937.0,
          6794.0,
          1396.0,
          2386.0,
          3743.0,
          1512.0,
          1389.0,
          1366.0,
          7641.0,
          18018.0,
          2145.0,
          6817.0,
          878.0,
          6132.0,
          3045.0,
          1052.0,
          2235.0,
          9072.0,
          6093.0,
          1956.0,
          12043.0,
          7738.0,
          1426.0,
          2776.0,
          835.0,
          1754.0,
          2787.0,
          2075.0,
          2109.0,
          9895.0,
          3814.0,
          3901.0,
          1480.0,
          2882.0,
          2178.0,
          6185.0,
          5013.0,
          6476.0,
          744.0,
          3523.0,
          2124.0,
          2543.0,
          1564.0,
          8104.0,
          2529.0,
          5430.0,
          1484.0,
          783.0,
          989.0,
          1867.0,
          1295.0,
          2569.0,
          2315.0,
          2614.0,
          2915.0,
          2380.0,
          896.0,
          637.0,
          12058.0,
          4317.0,
          1724.0,
          2109.0,
          1122.0,
          3478.0,
          3204.0,
          1833.0,
          669.0,
          3803.0,
          4546.0,
          4685.0,
          3950.0,
          745.0,
          8145.0,
          4456.0,
          4457.0,
          6494.0,
          2015.0,
          13197.0,
          1861.0,
          1057.0,
          2103.0,
          3854.0,
          3683.0,
          2838.0,
          7777.0,
          4363.0,
          784.0,
          2066.0,
          2598.0,
          10747.0,
          5281.0,
          2327.0,
          1696.0,
          969.0,
          2908.0,
          4368.0,
          1267.0,
          565.0,
          2698.0,
          1126.0,
          2026.0,
          8979.0,
          2939.0,
          4453.0,
          6061.0,
          689.0,
          1879.0,
          2432.0,
          2095.0,
          2248.0,
          3049.0,
          1230.0,
          1173.0,
          3790.0,
          685.0,
          8740.0,
          3647.0,
          2193.0,
          5896.0,
          13007.0,
          1779.0,
          3494.0,
          4949.0,
          27810.0,
          1342.0,
          4911.0,
          9492.0,
          2186.0,
          2339.0,
          6704.0,
          1866.0,
          1057.0,
          3629.0,
          7352.0,
          2957.0,
          3061.0,
          1981.0,
          1238.0,
          991.0,
          3609.0,
          2249.0,
          2227.0,
          6455.0,
          1676.0,
          3930.0,
          12260.0,
          1919.0,
          617.0,
          3286.0,
          2520.0,
          2583.0,
          2016.0,
          1587.0,
          3543.0,
          2834.0,
          8478.0,
          979.0,
          4334.0,
          1135.0,
          1022.0,
          4012.0,
          892.0,
          1109.0,
          8177.0,
          3404.0,
          571.0,
          1438.0,
          1869.0,
          2218.0,
          992.0,
          2174.0,
          1732.0,
          10354.0,
          5336.0,
          13633.0,
          3878.0,
          4142.0,
          1610.0,
          5336.0,
          701.0,
          1510.0,
          2121.0,
          860.0,
          4147.0,
          2731.0,
          1664.0,
          3740.0,
          32221.0,
          1726.0,
          1540.0,
          1006.0,
          2370.0,
          1242.0,
          3238.0,
          1637.0,
          2380.0,
          844.0,
          963.0,
          1876.0,
          2241.0,
          1301.0,
          4277.0,
          1301.0,
          1945.0,
          6969.0,
          2405.0,
          5466.0,
          1965.0,
          3064.0,
          1122.0,
          6824.0,
          1190.0,
          2398.0,
          2046.0,
          1901.0,
          1344.0,
          3215.0,
          951.0,
          2028.0,
          8035.0,
          870.0,
          2241.0,
          6748.0,
          2614.0,
          2365.0,
          2319.0,
          2291.0,
          918.0,
          6689.0,
          1675.0,
          1820.0,
          3673.0,
          2578.0,
          5388.0,
          1588.0,
          2508.0,
          800.0,
          1355.0,
          4346.0,
          3391.0,
          1954.0,
          3128.0,
          2119.0,
          3435.0,
          878.0,
          3533.0,
          1473.0,
          7062.0,
          2221.0,
          2047.0,
          2597.0,
          3575.0,
          2732.0,
          1821.0,
          3146.0,
          8100.0,
          2321.0,
          5698.0,
          1299.0,
          2870.0,
          2183.0,
          2779.0,
          1623.0,
          1629.0,
          2668.0,
          5276.0,
          5716.0,
          1437.0,
          5051.0,
          12755.0,
          2737.0,
          5242.0,
          1787.0,
          4213.0,
          2936.0,
          2990.0,
          2837.0,
          2448.0,
          1312.0,
          1261.0,
          2147.0,
          2156.0,
          2486.0,
          2790.0,
          1965.0,
          2754.0,
          4031.0,
          10791.0,
          726.0,
          2290.0,
          1420.0,
          3917.0,
          1647.0,
          2156.0,
          1653.0,
          2550.0,
          6942.0,
          828.0,
          4890.0,
          4625.0,
          8507.0,
          4483.0,
          5691.0,
          1628.0,
          8607.0,
          1846.0,
          2907.0,
          5801.0,
          1112.0,
          848.0,
          846.0,
          2743.0,
          710.0,
          3763.0,
          1558.0,
          3642.0,
          1311.0,
          701.0,
          1298.0,
          815.0,
          3350.0,
          1715.0,
          675.0,
          1266.0,
          7661.0,
          975.0,
          1750.0,
          3261.0,
          711.0,
          2142.0,
          1007.0,
          11367.0,
          1489.0,
          462.0,
          4991.0,
          1874.0,
          2599.0,
          4825.0,
          2190.0,
          734.0,
          4670.0,
          1517.0,
          8842.0,
          1369.0,
          4225.0,
          934.0,
          1397.0,
          3174.0,
          3746.0,
          10579.0,
          1603.0,
          831.0,
          3769.0,
          2805.0,
          8049.0,
          1472.0,
          6343.0,
          5161.0,
          3098.0,
          1726.0,
          2178.0,
          1089.0,
          3583.0,
          6397.0,
          2114.0,
          2464.0,
          1047.0,
          3271.0,
          781.0,
          3939.0,
          596.0,
          1810.0,
          4365.0,
          6748.0,
          3070.0,
          2974.0,
          2070.0,
          797.0,
          7542.0,
          1004.0,
          614.0,
          2265.0,
          826.0,
          3588.0,
          3971.0,
          1466.0,
          1935.0,
          1886.0,
          1062.0,
          4803.0,
          814.0,
          1135.0,
          2183.0,
          1179.0,
          1232.0,
          3314.0,
          2646.0,
          1587.0,
          4324.0,
          795.0,
          1449.0,
          941.0,
          3158.0,
          1728.0,
          10461.0,
          3784.0,
          3680.0,
          2542.0,
          3087.0,
          1337.0,
          4609.0,
          2465.0,
          2453.0,
          692.0,
          1180.0,
          2375.0,
          2294.0,
          1723.0,
          5733.0,
          3018.0,
          2333.0,
          1992.0,
          838.0,
          4072.0,
          946.0,
          3276.0,
          1760.0,
          2.0,
          1399.0,
          1682.0,
          1433.0,
          1237.0,
          26451.0,
          1348.0,
          2689.0,
          1287.0,
          687.0,
          886.0,
          5249.0,
          4257.0,
          6464.0,
          4920.0,
          1836.0,
          1877.0,
          6727.0,
          1971.0,
          2102.0,
          1893.0,
          1733.0,
          1957.0,
          2766.0,
          1846.0,
          1821.0,
          2020.0,
          1020.0,
          1469.0,
          2069.0,
          4029.0,
          14422.0,
          1808.0,
          2535.0,
          1525.0,
          1086.0,
          1117.0,
          6300.0,
          4573.0,
          1106.0,
          2025.0,
          628.0,
          3699.0,
          1123.0,
          1105.0,
          8432.0,
          1088.0,
          1214.0,
          10145.0,
          4019.0,
          5168.0,
          4792.0,
          4688.0,
          2181.0,
          1847.0,
          6843.0,
          1271.0,
          786.0,
          1500.0,
          1202.0,
          2642.0,
          4089.0,
          1090.0,
          3079.0,
          1250.0,
          1243.0,
          3316.0,
          1909.0,
          366.0,
          2452.0,
          490.0,
          3325.0,
          3997.0,
          6265.0,
          1580.0,
          1564.0,
          1989.0,
          1732.0,
          2678.0,
          17520.0,
          4143.0,
          3056.0,
          2679.0,
          1690.0,
          2144.0,
          1622.0,
          1327.0,
          2212.0,
          1360.0,
          838.0,
          8883.0,
          2206.0,
          1119.0,
          11079.0,
          2815.0,
          886.0,
          5513.0,
          2543.0,
          2600.0,
          1101.0,
          6208.0,
          5027.0,
          5367.0,
          1868.0,
          11353.0,
          2924.0,
          2391.0,
          12011.0,
          834.0,
          3313.0,
          2486.0,
          1381.0,
          820.0,
          1436.0,
          1201.0,
          1525.0,
          1622.0,
          1252.0,
          527.0,
          791.0,
          1955.0,
          1961.0,
          1213.0,
          2791.0,
          14821.0,
          1195.0,
          17032.0,
          1409.0,
          3338.0,
          24975.0,
          767.0,
          1823.0,
          977.0,
          1441.0,
          4447.0,
          10181.0,
          2235.0,
          4116.0,
          3069.0,
          1902.0,
          1860.0,
          562.0,
          1979.0,
          2010.0,
          2090.0,
          2111.0,
          5506.0,
          845.0,
          1649.0,
          3801.0,
          2371.0,
          2987.0,
          633.0,
          3475.0,
          1751.0,
          6625.0,
          1282.0,
          2258.0,
          590.0,
          14272.0,
          2561.0,
          2576.0,
          4614.0,
          4094.0,
          1008.0,
          1714.0,
          2996.0,
          1976.0,
          1066.0,
          4173.0,
          887.0,
          1843.0,
          1704.0,
          2089.0,
          3096.0,
          2841.0,
          883.0,
          634.0,
          814.0,
          2343.0,
          5721.0,
          706.0,
          838.0,
          2551.0,
          381.0,
          4654.0,
          6619.0,
          1601.0,
          726.0,
          2280.0,
          905.0,
          1017.0,
          2194.0,
          2778.0,
          8594.0,
          2397.0,
          770.0,
          1905.0,
          3718.0,
          1711.0,
          1248.0,
          5927.0,
          877.0,
          425.0,
          3373.0,
          784.0,
          5913.0,
          3296.0,
          1434.0,
          1356.0,
          1319.0,
          528.0,
          987.0,
          909.0,
          5328.0,
          3257.0,
          4651.0,
          1053.0,
          7823.0,
          862.0,
          3219.0,
          2528.0,
          3609.0,
          5282.0,
          2386.0,
          938.0,
          860.0,
          1782.0,
          1371.0,
          2520.0,
          1602.0,
          1989.0,
          11022.0,
          2083.0,
          926.0,
          1301.0,
          2002.0,
          1516.0,
          1022.0,
          8077.0,
          3681.0,
          665.0,
          2543.0,
          2156.0,
          3304.0,
          2558.0,
          5639.0,
          7185.0,
          1534.0,
          7939.0,
          4457.0,
          1093.0,
          677.0,
          1905.0,
          1336.0,
          3277.0,
          1448.0,
          1306.0,
          542.0,
          2479.0,
          1469.0,
          2552.0,
          1095.0,
          4225.0,
          3899.0,
          4472.0,
          2020.0,
          3166.0,
          836.0,
          733.0,
          1428.0,
          12910.0,
          6501.0,
          697.0,
          1905.0,
          2058.0,
          775.0,
          14245.0,
          3147.0,
          464.0,
          1090.0,
          3317.0,
          811.0,
          5038.0,
          2688.0,
          3695.0,
          1444.0,
          3087.0,
          7471.0,
          2711.0,
          11348.0,
          3654.0,
          3292.0,
          17685.0,
          1353.0,
          2459.0,
          2304.0,
          1286.0,
          1047.0,
          1066.0,
          788.0,
          1447.0,
          2532.0,
          1486.0,
          976.0,
          553.0,
          3516.0,
          1465.0,
          440.0,
          6702.0,
          2229.0,
          3255.0,
          809.0,
          1834.0,
          4209.0,
          2376.0,
          2398.0,
          1631.0,
          913.0,
          1313.0,
          3495.0,
          1253.0,
          597.0,
          1980.0,
          2725.0,
          809.0,
          3458.0,
          3582.0,
          846.0,
          460.0,
          1407.0,
          3829.0,
          3579.0,
          978.0,
          1566.0,
          2682.0,
          3675.0,
          1200.0,
          2060.0,
          5402.0,
          994.0,
          1657.0,
          1345.0,
          2030.0,
          6053.0,
          1824.0,
          8089.0,
          1917.0,
          2102.0,
          1004.0,
          1056.0,
          1392.0,
          2684.0,
          12043.0,
          502.0,
          1713.0,
          1854.0,
          7453.0,
          1131.0,
          1457.0,
          50910.0,
          1915.0,
          1876.0,
          9368.0,
          1062.0,
          3814.0,
          1070.0,
          1890.0,
          1842.0,
          10459.0,
          982.0,
          895.0,
          1182.0,
          1825.0,
          1300.0,
          2377.0,
          3288.0,
          18063.0,
          2030.0,
          1895.0,
          1644.0,
          1113.0,
          3458.0,
          2048.0,
          2220.0,
          927.0,
          881.0,
          2074.0,
          10336.0,
          2343.0,
          8976.0,
          8992.0,
          5231.0,
          2993.0,
          3552.0,
          416.0,
          3446.0,
          1634.0,
          912.0,
          4941.0,
          2033.0,
          1880.0,
          531.0,
          2007.0,
          1244.0,
          1141.0,
          2343.0,
          2169.0,
          479.0,
          3905.0,
          447.0,
          927.0,
          2574.0,
          1826.0,
          1826.0,
          1170.0,
          4679.0,
          1175.0,
          7571.0,
          2517.0,
          1804.0,
          1639.0,
          1745.0,
          1369.0,
          2101.0,
          1920.0,
          1125.0,
          3821.0,
          1526.0,
          3014.0,
          1613.0,
          4289.0,
          1933.0,
          3428.0,
          496.0,
          2958.0,
          515.0,
          2592.0,
          1020.0,
          5794.0,
          2409.0,
          1322.0,
          5774.0,
          2581.0,
          2931.0,
          1652.0,
          1981.0,
          1163.0,
          1536.0,
          2177.0,
          1083.0,
          1866.0,
          4488.0,
          3908.0,
          756.0,
          4006.0,
          7349.0,
          1440.0,
          7683.0,
          1594.0,
          907.0,
          2714.0,
          5158.0,
          867.0,
          1560.0,
          2542.0,
          1220.0,
          3644.0,
          2869.0,
          3143.0,
          1730.0,
          2104.0,
          5279.0,
          2741.0,
          1780.0,
          1045.0,
          784.0,
          3140.0,
          15889.0,
          2846.0,
          1220.0,
          5434.0,
          1788.0,
          997.0,
          4081.0,
          5533.0,
          3446.0,
          1084.0,
          500.0,
          2350.0,
          747.0,
          1165.0,
          4934.0,
          2756.0,
          708.0,
          2022.0,
          3736.0,
          1183.0,
          1479.0,
          560.0,
          6251.0,
          3022.0,
          26042.0,
          7408.0,
          2831.0,
          557.0,
          563.0,
          2798.0,
          2065.0,
          1184.0,
          3135.0,
          2425.0,
          1624.0,
          793.0,
          7865.0,
          2925.0,
          923.0,
          1637.0,
          2724.0,
          6993.0,
          1018.0,
          2183.0,
          522.0,
          3628.0,
          1445.0,
          971.0,
          16222.0,
          1874.0,
          5203.0,
          3801.0,
          7026.0,
          7479.0,
          601.0,
          2878.0,
          5905.0,
          1420.0,
          904.0,
          642.0,
          7595.0,
          969.0,
          1219.0,
          5193.0,
          3317.0,
          2361.0,
          2787.0,
          1081.0,
          1093.0,
          3906.0,
          2409.0,
          1488.0,
          2669.0,
          2966.0,
          2505.0,
          2150.0,
          737.0,
          7006.0,
          5743.0,
          7226.0,
          5488.0,
          1979.0,
          921.0,
          2190.0,
          615.0,
          4762.0,
          1838.0,
          1437.0,
          4574.0,
          2783.0,
          658.0,
          1560.0,
          7670.0,
          2057.0,
          1476.0,
          1838.0,
          1679.0,
          516.0,
          1063.0,
          9994.0,
          1611.0,
          6670.0,
          1645.0,
          12586.0,
          431.0,
          440.0,
          433.0,
          5350.0,
          5203.0,
          1822.0,
          2653.0,
          2355.0,
          1617.0,
          2545.0,
          26473.0,
          1637.0,
          513.0,
          1190.0,
          4560.0,
          838.0,
          2429.0,
          10680.0,
          2720.0,
          9147.0,
          1728.0,
          4230.0,
          2616.0,
          1568.0,
          1895.0,
          1215.0,
          1839.0,
          558.0,
          1062.0,
          2973.0,
          864.0,
          1792.0,
          5820.0,
          1794.0,
          1798.0,
          3957.0,
          695.0,
          473.0,
          2765.0,
          2293.0,
          2257.0,
          1430.0,
          756.0,
          1709.0,
          2987.0,
          1265.0,
          4519.0,
          2656.0,
          2037.0,
          15029.0,
          661.0,
          9934.0,
          1544.0,
          773.0,
          5444.0,
          1836.0,
          1961.0,
          2825.0,
          1013.0,
          905.0,
          3163.0,
          2160.0,
          3102.0,
          1560.0,
          1452.0,
          2062.0,
          1328.0,
          2103.0,
          3499.0,
          782.0,
          612.0,
          8928.0,
          7813.0,
          1084.0,
          106.0,
          3523.0,
          2656.0,
          864.0,
          632.0,
          1185.0,
          2552.0,
          1485.0,
          1735.0,
          1990.0,
          847.0,
          825.0,
          2958.0,
          6315.0,
          1150.0,
          2342.0,
          728.0,
          1206.0,
          562.0,
          1902.0,
          1269.0,
          1641.0,
          2375.0,
          809.0,
          775.0,
          14746.0,
          4076.0,
          7594.0,
          1867.0,
          14718.0,
          1182.0,
          1602.0,
          1247.0,
          3389.0,
          708.0,
          4517.0,
          2412.0,
          450.0,
          7349.0,
          2380.0,
          765.0,
          1174.0,
          2195.0,
          2957.0,
          1123.0,
          4903.0,
          662.0,
          2270.0,
          2747.0,
          1389.0,
          1255.0,
          4435.0,
          2120.0,
          15144.0,
          4600.0,
          683.0,
          1387.0,
          948.0,
          1698.0,
          2323.0,
          1367.0,
          6054.0,
          5102.0,
          1193.0,
          1330.0,
          900.0,
          93.0,
          627.0,
          6739.0,
          693.0,
          945.0,
          8030.0,
          1334.0,
          1932.0,
          1722.0,
          3291.0,
          615.0,
          983.0,
          5865.0,
          1714.0,
          4223.0,
          1077.0,
          1828.0,
          2647.0,
          1412.0,
          1473.0,
          1985.0,
          1563.0,
          840.0,
          1820.0,
          6538.0,
          2425.0,
          4179.0,
          1314.0,
          1074.0,
          9764.0,
          2230.0,
          1223.0,
          2612.0,
          6285.0,
          6068.0,
          1051.0,
          1419.0,
          448.0,
          1311.0,
          1271.0,
          3567.0,
          1834.0,
          4141.0,
          1612.0,
          1395.0,
          3616.0,
          2214.0,
          1264.0,
          2014.0,
          1540.0,
          4425.0,
          1371.0,
          1728.0,
          609.0,
          5828.0,
          2656.0,
          3722.0,
          1762.0,
          2462.0,
          1333.0,
          4232.0,
          7438.0,
          713.0,
          530.0,
          3877.0,
          3469.0,
          2263.0,
          960.0,
          4703.0,
          1255.0,
          1858.0,
          3007.0,
          1923.0,
          2110.0,
          2295.0,
          2351.0,
          1992.0,
          5687.0,
          1483.0,
          3170.0,
          1583.0,
          20974.0,
          6586.0,
          7543.0,
          1643.0,
          1539.0,
          2217.0,
          2574.0,
          978.0,
          3351.0,
          3120.0,
          1502.0,
          914.0,
          2844.0,
          5358.0,
          3591.0,
          593.0,
          2374.0,
          926.0,
          1777.0,
          2047.0,
          4531.0,
          1003.0,
          818.0,
          3320.0,
          1245.0,
          2455.0,
          3384.0,
          2404.0,
          6826.0,
          1801.0,
          845.0,
          6371.0,
          1956.0,
          2539.0,
          1218.0,
          4687.0,
          534.0,
          974.0,
          2202.0,
          1572.0,
          1601.0,
          6909.0,
          1255.0,
          832.0,
          1266.0,
          1000.0,
          1150.0,
          1563.0,
          1711.0,
          10058.0,
          2481.0,
          722.0,
          696.0,
          2167.0,
          882.0,
          1296.0,
          1102.0,
          2005.0,
          6753.0,
          3807.0,
          1725.0,
          2265.0,
          2156.0,
          1087.0,
          77368.0,
          943.0,
          1298.0,
          2818.0,
          1175.0,
          1041.0,
          1158.0,
          9238.0,
          819.0,
          2303.0,
          1147.0,
          2328.0,
          1770.0,
          4137.0,
          2180.0,
          1585.0,
          1312.0,
          1391.0,
          2461.0,
          1874.0,
          2338.0,
          2764.0,
          1327.0,
          1316.0,
          851.0,
          1095.0,
          3609.0,
          2597.0,
          2785.0,
          871.0,
          2820.0,
          1304.0,
          2238.0,
          414.0,
          1489.0,
          1553.0,
          1283.0,
          612.0,
          2367.0,
          869.0,
          3313.0,
          1543.0,
          3084.0,
          874.0,
          6208.0,
          2879.0,
          1376.0,
          1224.0,
          2567.0,
          8753.0,
          1376.0,
          10646.0,
          1380.0,
          1919.0,
          809.0,
          3270.0,
          1742.0,
          2454.0,
          1158.0,
          1556.0,
          2145.0,
          1170.0,
          1916.0,
          5781.0,
          1944.0,
          1624.0,
          2210.0,
          1422.0,
          1594.0,
          3127.0,
          1846.0,
          2153.0,
          1434.0,
          1626.0,
          611.0,
          4332.0,
          2604.0,
          632.0,
          9283.0,
          2224.0,
          2731.0,
          484.0,
          1417.0,
          3867.0,
          3678.0,
          595.0,
          1347.0,
          1782.0,
          2005.0,
          467.0,
          832.0,
          2331.0,
          1069.0,
          7529.0,
          2073.0,
          5355.0,
          935.0,
          439.0,
          1905.0,
          2063.0,
          1274.0,
          1948.0,
          1108.0,
          10423.0,
          1397.0,
          2069.0,
          1695.0,
          5418.0,
          3366.0,
          778.0,
          1573.0,
          1132.0,
          473.0,
          566.0,
          10170.0,
          795.0,
          1932.0,
          2011.0,
          1109.0,
          6929.0,
          1256.0,
          2383.0,
          2889.0,
          1264.0,
          944.0,
          672.0,
          2570.0,
          4655.0,
          729.0,
          2956.0,
          2455.0,
          1571.0,
          1680.0,
          1468.0,
          2834.0,
          3224.0,
          1514.0,
          2084.0,
          3758.0,
          786.0,
          1361.0,
          1590.0,
          1400.0,
          2976.0,
          1249.0,
          621.0,
          2901.0,
          1846.0,
          843.0,
          762.0,
          853.0,
          595.0,
          6005.0,
          6218.0,
          1393.0,
          826.0,
          1483.0,
          1941.0,
          1975.0,
          4933.0,
          3201.0,
          2681.0,
          1889.0,
          478.0,
          1956.0,
          1709.0,
          2085.0,
          3453.0,
          2302.0,
          868.0,
          1709.0,
          1618.0,
          10683.0,
          9461.0,
          1116.0,
          1429.0,
          1772.0,
          3201.0,
          7342.0,
          569.0,
          2436.0,
          4905.0,
          1415.0,
          5273.0,
          792.0,
          2166.0,
          9362.0,
          3414.0,
          4149.0,
          3296.0,
          4300.0,
          5005.0,
          408.0,
          1817.0,
          2125.0,
          1208.0,
          4936.0,
          724.0,
          3612.0,
          740.0,
          2921.0,
          7253.0,
          1125.0,
          578.0,
          1400.0,
          2944.0,
          5829.0,
          5673.0,
          365.0,
          1346.0,
          6633.0,
          3393.0,
          1162.0,
          1590.0,
          1173.0,
          1181.0,
          1632.0,
          1536.0,
          571.0,
          1488.0,
          4770.0,
          11485.0,
          1960.0,
          11250.0,
          2322.0,
          475.0,
          2885.0,
          3908.0,
          5358.0,
          10587.0,
          4913.0,
          9840.0,
          1585.0,
          1736.0,
          1584.0,
          1601.0,
          501.0,
          5377.0,
          2033.0,
          11781.0,
          1027.0,
          1846.0,
          4290.0,
          2674.0,
          5715.0,
          2323.0,
          1259.0,
          1660.0,
          1342.0,
          16172.0,
          850.0,
          990.0,
          2092.0,
          15283.0,
          1901.0,
          1830.0,
          781.0,
          3152.0,
          1062.0,
          1774.0,
          1163.0,
          2739.0,
          2483.0,
          3620.0,
          3243.0,
          4830.0,
          3912.0,
          2532.0,
          805.0,
          2026.0,
          5149.0,
          3474.0,
          1374.0,
          2402.0,
          1008.0,
          2334.0,
          1829.0,
          2927.0,
          10135.0,
          8747.0,
          2000.0,
          2232.0,
          1405.0,
          505.0,
          4801.0,
          416.0,
          646.0,
          3669.0,
          6312.0,
          2701.0,
          1742.0,
          2122.0,
          1280.0,
          4131.0,
          4050.0,
          2068.0,
          458.0,
          1257.0,
          4701.0,
          3660.0,
          615.0,
          5935.0,
          663.0,
          1746.0,
          729.0,
          1674.0,
          3131.0,
          925.0,
          5028.0,
          2226.0,
          843.0,
          1455.0,
          1588.0,
          722.0,
          920.0,
          7095.0,
          650.0,
          1521.0,
          1214.0,
          1286.0,
          4132.0,
          1041.0,
          900.0,
          1437.0,
          2878.0,
          3364.0,
          1077.0,
          2701.0,
          9934.0,
          4358.0,
          12808.0,
          3021.0,
          10709.0,
          1203.0,
          3563.0,
          2723.0,
          703.0,
          5099.0,
          2512.0,
          1091.0,
          5257.0,
          806.0,
          755.0,
          600.0,
          495.0,
          1632.0,
          2388.0,
          2262.0,
          1655.0,
          1289.0,
          1132.0,
          535.0,
          917.0,
          3276.0,
          3227.0,
          1332.0,
          2590.0,
          2992.0,
          1554.0,
          3029.0,
          5977.0,
          1177.0,
          1315.0,
          1646.0,
          2374.0,
          2024.0,
          2476.0,
          1801.0,
          425.0,
          863.0,
          2347.0,
          3437.0,
          2325.0,
          3565.0,
          1058.0,
          694.0,
          870.0,
          5304.0,
          2766.0,
          4346.0,
          4780.0,
          1805.0,
          3696.0,
          2637.0,
          1604.0,
          700.0,
          5522.0,
          5653.0,
          2390.0,
          1582.0,
          1908.0,
          1704.0,
          3344.0,
          3482.0,
          6184.0,
          2602.0,
          2704.0,
          1256.0,
          5971.0,
          2258.0,
          1058.0,
          825.0,
          2398.0,
          416.0,
          1186.0,
          2282.0,
          1773.0,
          4449.0,
          1916.0,
          5252.0,
          2039.0,
          4268.0,
          4883.0,
          2896.0,
          8104.0,
          6589.0,
          745.0,
          3078.0,
          2678.0,
          1423.0,
          1520.0,
          2156.0,
          5656.0,
          4883.0,
          1635.0,
          1369.0,
          1215.0,
          641.0,
          1857.0,
          5560.0,
          992.0,
          1290.0,
          519.0,
          824.0,
          2605.0,
          2072.0,
          2714.0,
          952.0,
          880.0,
          2773.0,
          3177.0,
          1293.0,
          1092.0,
          676.0,
          809.0,
          2214.0,
          2230.0,
          2363.0,
          5048.0,
          5592.0,
          637.0,
          3986.0,
          1550.0,
          2607.0,
          2680.0,
          6124.0,
          2456.0,
          1091.0,
          966.0,
          3316.0,
          644.0,
          999.0,
          2851.0,
          1770.0,
          872.0,
          1593.0,
          3523.0,
          1462.0,
          1269.0,
          2224.0,
          1268.0,
          1947.0,
          6801.0,
          3966.0,
          1001.0,
          3228.0,
          3802.0,
          5324.0,
          1223.0,
          4111.0,
          2945.0,
          2212.0,
          770.0,
          3436.0,
          1213.0,
          993.0,
          1019.0,
          1948.0,
          7598.0,
          1428.0,
          6400.0,
          1138.0,
          1312.0,
          2319.0,
          1920.0,
          20022.0,
          1661.0,
          2185.0,
          1681.0,
          3234.0,
          2833.0,
          5297.0,
          1831.0,
          1272.0,
          2198.0,
          2292.0,
          1534.0,
          3143.0,
          1000.0,
          2862.0,
          744.0,
          6015.0,
          4686.0,
          910.0,
          1123.0,
          4555.0,
          1932.0,
          1829.0,
          3459.0,
          5138.0,
          1437.0,
          1491.0,
          1650.0,
          1738.0,
          4344.0,
          2875.0,
          6837.0,
          3836.0,
          4228.0,
          4921.0,
          10302.0,
          1170.0,
          1536.0,
          754.0,
          1307.0,
          2220.0,
          4452.0,
          2348.0,
          831.0,
          2210.0,
          1225.0,
          5308.0,
          2457.0,
          1227.0,
          627.0,
          3352.0,
          16969.0,
          747.0,
          2479.0,
          1298.0,
          2015.0,
          2363.0,
          2153.0,
          5874.0,
          1107.0,
          478.0,
          863.0,
          703.0,
          2143.0,
          608.0,
          1155.0,
          9363.0,
          3945.0,
          2563.0,
          430.0,
          3804.0,
          1343.0,
          4105.0,
          2517.0,
          1059.0,
          757.0,
          888.0,
          1904.0,
          2993.0,
          472.0,
          1358.0,
          2108.0,
          1471.0,
          713.0,
          1747.0,
          668.0,
          1699.0,
          1194.0,
          903.0,
          2553.0,
          3213.0,
          901.0,
          1379.0,
          788.0,
          4632.0,
          2973.0,
          1563.0,
          1023.0,
          1506.0,
          3714.0,
          2289.0,
          5581.0,
          1358.0,
          2548.0,
          3008.0,
          559.0,
          2876.0,
          1601.0,
          417.0,
          1408.0,
          6115.0,
          1993.0,
          2632.0,
          3180.0,
          6254.0,
          867.0,
          3649.0,
          1416.0,
          3270.0,
          2947.0,
          2303.0,
          2717.0,
          3916.0,
          1357.0,
          1717.0,
          2426.0,
          2306.0,
          2218.0,
          1155.0,
          758.0,
          2145.0,
          1152.0,
          1906.0,
          1779.0,
          1524.0,
          2584.0,
          2350.0,
          2613.0,
          1385.0,
          870.0,
          1654.0,
          5659.0,
          824.0,
          3234.0,
          463.0,
          4981.0,
          2627.0,
          5294.0,
          1530.0,
          2320.0,
          771.0,
          1572.0,
          1484.0,
          2527.0,
          4318.0,
          2010.0,
          2211.0,
          2453.0,
          1222.0,
          1389.0,
          5092.0,
          2087.0,
          1306.0,
          2453.0,
          4133.0,
          719.0,
          458.0,
          2143.0,
          1416.0,
          696.0,
          2104.0,
          2894.0,
          1417.0,
          1007.0,
          2652.0,
          5634.0,
          2578.0,
          1975.0,
          2460.0,
          502.0,
          3601.0,
          3734.0,
          642.0,
          28164.0,
          5376.0,
          3203.0,
          837.0,
          2813.0,
          888.0,
          1812.0,
          1531.0,
          74.0,
          1237.0,
          2072.0,
          1720.0,
          818.0,
          4103.0,
          1495.0,
          686.0,
          968.0,
          998.0,
          1142.0,
          886.0,
          2896.0,
          1543.0,
          657.0,
          2616.0,
          3864.0,
          603.0,
          1546.0,
          938.0,
          7531.0,
          2168.0,
          2472.0,
          1089.0,
          6924.0,
          2371.0,
          1915.0,
          8174.0,
          2770.0,
          3219.0,
          1905.0,
          1064.0,
          916.0,
          704.0,
          2551.0,
          2083.0,
          3535.0,
          7416.0,
          1189.0,
          6772.0,
          444.0,
          5694.0,
          868.0,
          1093.0,
          3589.0,
          731.0,
          5979.0,
          2248.0,
          5195.0,
          634.0,
          4666.0,
          1567.0,
          2656.0,
          2365.0,
          1079.0,
          2033.0,
          452.0,
          3830.0,
          1533.0,
          5504.0,
          640.0,
          1238.0,
          5647.0,
          1312.0,
          647.0,
          9206.0,
          1467.0,
          925.0,
          2205.0,
          845.0,
          2330.0,
          979.0,
          1462.0,
          985.0,
          994.0,
          2779.0,
          1941.0,
          2845.0,
          4996.0,
          2325.0,
          5692.0,
          2015.0,
          2043.0,
          5707.0,
          1669.0,
          2676.0,
          794.0,
          716.0,
          463.0,
          4570.0,
          2011.0,
          9443.0,
          1926.0,
          606.0,
          2088.0,
          1795.0,
          1130.0,
          1980.0,
          3662.0,
          655.0,
          1174.0,
          3380.0,
          2295.0,
          9267.0,
          1482.0,
          1374.0,
          3440.0,
          1170.0,
          931.0,
          2099.0,
          3539.0,
          1016.0,
          964.0,
          1149.0,
          2534.0,
          4527.0,
          2070.0,
          856.0,
          4519.0,
          722.0,
          683.0,
          3358.0,
          1327.0,
          1710.0,
          2591.0,
          3501.0,
          3266.0,
          6118.0,
          830.0,
          1926.0,
          1770.0,
          880.0,
          2166.0,
          2032.0,
          739.0
         ],
         "yaxis": "y",
         "type": "scattergl"
        },
        {
         "hovertemplate": "<b>OLS trendline</b><br>comments = 0.0333504 * upvotes + -1941.48<br>R<sup>2</sup>=0.056433<br><br>upvotes=%{x}<br>comments=%{y} <b>(trend)</b><extra></extra>",
         "legendgroup": "",
         "marker": {
          "color": "#636efa",
          "symbol": "circle"
         },
         "mode": "lines",
         "name": "",
         "showlegend": false,
         "x": [
          129000.0,
          129000.0,
          129000.0,
          129000.0,
          129000.0,
          129000.0,
          129000.0,
          129000.0,
          129000.0,
          129000.0,
          129000.0,
          129000.0,
          129000.0,
          129000.0,
          129000.0,
          129000.0,
          129000.0,
          129000.0,
          129000.0,
          129000.0,
          129000.0,
          129000.0,
          129000.0,
          129000.0,
          129000.0,
          129000.0,
          129000.0,
          129000.0,
          129000.0,
          129000.0,
          129000.0,
          129000.0,
          129000.0,
          129000.0,
          129000.0,
          129000.0,
          129000.0,
          129000.0,
          129000.0,
          129000.0,
          129000.0,
          129000.0,
          129000.0,
          130000.0,
          130000.0,
          130000.0,
          130000.0,
          130000.0,
          130000.0,
          130000.0,
          130000.0,
          130000.0,
          130000.0,
          130000.0,
          130000.0,
          130000.0,
          130000.0,
          130000.0,
          130000.0,
          130000.0,
          130000.0,
          130000.0,
          130000.0,
          130000.0,
          130000.0,
          130000.0,
          130000.0,
          130000.0,
          130000.0,
          130000.0,
          130000.0,
          130000.0,
          130000.0,
          130000.0,
          130000.0,
          130000.0,
          130000.0,
          130000.0,
          130000.0,
          130000.0,
          130000.0,
          130000.0,
          130000.0,
          130000.0,
          130000.0,
          130000.0,
          130000.0,
          130000.0,
          130000.0,
          130000.0,
          130000.0,
          130000.0,
          130000.0,
          130000.0,
          130000.0,
          130000.0,
          130000.0,
          130000.0,
          130000.0,
          130000.0,
          130000.0,
          130000.0,
          130000.0,
          130000.0,
          130000.0,
          130000.0,
          130000.0,
          130000.0,
          130000.0,
          130000.0,
          130000.0,
          130000.0,
          130000.0,
          130000.0,
          130000.0,
          130000.0,
          130000.0,
          130000.0,
          131000.0,
          131000.0,
          131000.0,
          131000.0,
          131000.0,
          131000.0,
          131000.0,
          131000.0,
          131000.0,
          131000.0,
          131000.0,
          131000.0,
          131000.0,
          131000.0,
          131000.0,
          131000.0,
          131000.0,
          131000.0,
          131000.0,
          131000.0,
          131000.0,
          131000.0,
          131000.0,
          131000.0,
          131000.0,
          131000.0,
          131000.0,
          131000.0,
          131000.0,
          131000.0,
          131000.0,
          131000.0,
          131000.0,
          131000.0,
          131000.0,
          131000.0,
          131000.0,
          131000.0,
          131000.0,
          131000.0,
          131000.0,
          131000.0,
          131000.0,
          131000.0,
          131000.0,
          131000.0,
          131000.0,
          131000.0,
          131000.0,
          131000.0,
          131000.0,
          131000.0,
          131000.0,
          131000.0,
          131000.0,
          131000.0,
          131000.0,
          131000.0,
          131000.0,
          131000.0,
          131000.0,
          131000.0,
          131000.0,
          131000.0,
          131000.0,
          132000.0,
          132000.0,
          132000.0,
          132000.0,
          132000.0,
          132000.0,
          132000.0,
          132000.0,
          132000.0,
          132000.0,
          132000.0,
          132000.0,
          132000.0,
          132000.0,
          132000.0,
          132000.0,
          132000.0,
          132000.0,
          132000.0,
          132000.0,
          132000.0,
          132000.0,
          132000.0,
          132000.0,
          132000.0,
          132000.0,
          132000.0,
          132000.0,
          132000.0,
          132000.0,
          132000.0,
          132000.0,
          132000.0,
          132000.0,
          132000.0,
          132000.0,
          132000.0,
          132000.0,
          132000.0,
          132000.0,
          132000.0,
          132000.0,
          132000.0,
          132000.0,
          132000.0,
          132000.0,
          132000.0,
          132000.0,
          132000.0,
          132000.0,
          132000.0,
          132000.0,
          132000.0,
          132000.0,
          132000.0,
          132000.0,
          132000.0,
          132000.0,
          132000.0,
          132000.0,
          132000.0,
          132000.0,
          132000.0,
          132000.0,
          132000.0,
          132000.0,
          132000.0,
          132000.0,
          132000.0,
          132000.0,
          132000.0,
          132000.0,
          132000.0,
          132000.0,
          132000.0,
          132000.0,
          133000.0,
          133000.0,
          133000.0,
          133000.0,
          133000.0,
          133000.0,
          133000.0,
          133000.0,
          133000.0,
          133000.0,
          133000.0,
          133000.0,
          133000.0,
          133000.0,
          133000.0,
          133000.0,
          133000.0,
          133000.0,
          133000.0,
          133000.0,
          133000.0,
          133000.0,
          133000.0,
          133000.0,
          133000.0,
          133000.0,
          133000.0,
          133000.0,
          133000.0,
          133000.0,
          133000.0,
          133000.0,
          133000.0,
          133000.0,
          133000.0,
          133000.0,
          133000.0,
          133000.0,
          133000.0,
          133000.0,
          133000.0,
          133000.0,
          133000.0,
          133000.0,
          133000.0,
          133000.0,
          133000.0,
          133000.0,
          133000.0,
          133000.0,
          133000.0,
          133000.0,
          133000.0,
          133000.0,
          133000.0,
          133000.0,
          133000.0,
          133000.0,
          133000.0,
          133000.0,
          133000.0,
          133000.0,
          133000.0,
          133000.0,
          133000.0,
          133000.0,
          133000.0,
          133000.0,
          133000.0,
          133000.0,
          133000.0,
          133000.0,
          133000.0,
          133000.0,
          133000.0,
          133000.0,
          133000.0,
          133000.0,
          133000.0,
          133000.0,
          133000.0,
          133000.0,
          133000.0,
          134000.0,
          134000.0,
          134000.0,
          134000.0,
          134000.0,
          134000.0,
          134000.0,
          134000.0,
          134000.0,
          134000.0,
          134000.0,
          134000.0,
          134000.0,
          134000.0,
          134000.0,
          134000.0,
          134000.0,
          134000.0,
          134000.0,
          134000.0,
          134000.0,
          134000.0,
          134000.0,
          134000.0,
          134000.0,
          134000.0,
          134000.0,
          134000.0,
          134000.0,
          134000.0,
          134000.0,
          134000.0,
          134000.0,
          134000.0,
          134000.0,
          134000.0,
          134000.0,
          134000.0,
          134000.0,
          134000.0,
          134000.0,
          134000.0,
          134000.0,
          134000.0,
          134000.0,
          134000.0,
          134000.0,
          134000.0,
          134000.0,
          134000.0,
          134000.0,
          134000.0,
          134000.0,
          134000.0,
          134000.0,
          134000.0,
          134000.0,
          134000.0,
          134000.0,
          134000.0,
          134000.0,
          134000.0,
          134000.0,
          134000.0,
          135000.0,
          135000.0,
          135000.0,
          135000.0,
          135000.0,
          135000.0,
          135000.0,
          135000.0,
          135000.0,
          135000.0,
          135000.0,
          135000.0,
          135000.0,
          135000.0,
          135000.0,
          135000.0,
          135000.0,
          135000.0,
          135000.0,
          135000.0,
          135000.0,
          135000.0,
          135000.0,
          135000.0,
          135000.0,
          135000.0,
          135000.0,
          135000.0,
          135000.0,
          135000.0,
          135000.0,
          135000.0,
          135000.0,
          135000.0,
          135000.0,
          135000.0,
          135000.0,
          135000.0,
          135000.0,
          135000.0,
          135000.0,
          135000.0,
          135000.0,
          135000.0,
          135000.0,
          135000.0,
          135000.0,
          135000.0,
          135000.0,
          135000.0,
          135000.0,
          135000.0,
          135000.0,
          135000.0,
          135000.0,
          135000.0,
          135000.0,
          135000.0,
          135000.0,
          135000.0,
          135000.0,
          135000.0,
          135000.0,
          135000.0,
          135000.0,
          135000.0,
          135000.0,
          135000.0,
          135000.0,
          135000.0,
          135000.0,
          135000.0,
          135000.0,
          136000.0,
          136000.0,
          136000.0,
          136000.0,
          136000.0,
          136000.0,
          136000.0,
          136000.0,
          136000.0,
          136000.0,
          136000.0,
          136000.0,
          136000.0,
          136000.0,
          136000.0,
          136000.0,
          136000.0,
          136000.0,
          136000.0,
          136000.0,
          136000.0,
          136000.0,
          136000.0,
          136000.0,
          136000.0,
          136000.0,
          136000.0,
          136000.0,
          136000.0,
          136000.0,
          136000.0,
          136000.0,
          136000.0,
          136000.0,
          136000.0,
          136000.0,
          136000.0,
          136000.0,
          136000.0,
          136000.0,
          136000.0,
          136000.0,
          136000.0,
          136000.0,
          136000.0,
          136000.0,
          136000.0,
          136000.0,
          136000.0,
          136000.0,
          136000.0,
          136000.0,
          136000.0,
          136000.0,
          136000.0,
          136000.0,
          136000.0,
          136000.0,
          136000.0,
          136000.0,
          136000.0,
          136000.0,
          136000.0,
          136000.0,
          136000.0,
          136000.0,
          136000.0,
          136000.0,
          136000.0,
          137000.0,
          137000.0,
          137000.0,
          137000.0,
          137000.0,
          137000.0,
          137000.0,
          137000.0,
          137000.0,
          137000.0,
          137000.0,
          137000.0,
          137000.0,
          137000.0,
          137000.0,
          137000.0,
          137000.0,
          137000.0,
          137000.0,
          137000.0,
          137000.0,
          137000.0,
          137000.0,
          137000.0,
          137000.0,
          137000.0,
          137000.0,
          137000.0,
          137000.0,
          137000.0,
          137000.0,
          137000.0,
          137000.0,
          137000.0,
          137000.0,
          137000.0,
          137000.0,
          137000.0,
          137000.0,
          137000.0,
          137000.0,
          137000.0,
          137000.0,
          137000.0,
          137000.0,
          137000.0,
          137000.0,
          137000.0,
          137000.0,
          137000.0,
          137000.0,
          137000.0,
          137000.0,
          137000.0,
          137000.0,
          137000.0,
          137000.0,
          137000.0,
          137000.0,
          137000.0,
          137000.0,
          137000.0,
          137000.0,
          137000.0,
          137000.0,
          137000.0,
          137000.0,
          137000.0,
          137000.0,
          137000.0,
          137000.0,
          138000.0,
          138000.0,
          138000.0,
          138000.0,
          138000.0,
          138000.0,
          138000.0,
          138000.0,
          138000.0,
          138000.0,
          138000.0,
          138000.0,
          138000.0,
          138000.0,
          138000.0,
          138000.0,
          138000.0,
          138000.0,
          138000.0,
          138000.0,
          138000.0,
          138000.0,
          138000.0,
          138000.0,
          138000.0,
          138000.0,
          138000.0,
          138000.0,
          138000.0,
          138000.0,
          138000.0,
          138000.0,
          138000.0,
          138000.0,
          138000.0,
          138000.0,
          138000.0,
          138000.0,
          138000.0,
          138000.0,
          138000.0,
          138000.0,
          138000.0,
          138000.0,
          138000.0,
          138000.0,
          138000.0,
          138000.0,
          138000.0,
          138000.0,
          138000.0,
          138000.0,
          138000.0,
          138000.0,
          138000.0,
          138000.0,
          138000.0,
          138000.0,
          138000.0,
          138000.0,
          138000.0,
          138000.0,
          138000.0,
          138000.0,
          138000.0,
          138000.0,
          138000.0,
          138000.0,
          138000.0,
          138000.0,
          138000.0,
          138000.0,
          138000.0,
          139000.0,
          139000.0,
          139000.0,
          139000.0,
          139000.0,
          139000.0,
          139000.0,
          139000.0,
          139000.0,
          139000.0,
          139000.0,
          139000.0,
          139000.0,
          139000.0,
          139000.0,
          139000.0,
          139000.0,
          139000.0,
          139000.0,
          139000.0,
          139000.0,
          139000.0,
          139000.0,
          139000.0,
          139000.0,
          139000.0,
          139000.0,
          139000.0,
          139000.0,
          139000.0,
          139000.0,
          139000.0,
          139000.0,
          139000.0,
          139000.0,
          139000.0,
          139000.0,
          139000.0,
          139000.0,
          139000.0,
          139000.0,
          139000.0,
          139000.0,
          139000.0,
          139000.0,
          139000.0,
          139000.0,
          139000.0,
          139000.0,
          139000.0,
          139000.0,
          139000.0,
          139000.0,
          139000.0,
          139000.0,
          139000.0,
          139000.0,
          139000.0,
          139000.0,
          139000.0,
          139000.0,
          139000.0,
          139000.0,
          139000.0,
          139000.0,
          139000.0,
          140000.0,
          140000.0,
          140000.0,
          140000.0,
          140000.0,
          140000.0,
          140000.0,
          140000.0,
          140000.0,
          140000.0,
          140000.0,
          140000.0,
          140000.0,
          140000.0,
          140000.0,
          140000.0,
          140000.0,
          140000.0,
          140000.0,
          140000.0,
          140000.0,
          140000.0,
          140000.0,
          140000.0,
          140000.0,
          140000.0,
          140000.0,
          140000.0,
          140000.0,
          140000.0,
          140000.0,
          140000.0,
          140000.0,
          140000.0,
          140000.0,
          140000.0,
          140000.0,
          140000.0,
          140000.0,
          140000.0,
          140000.0,
          140000.0,
          140000.0,
          140000.0,
          140000.0,
          140000.0,
          140000.0,
          140000.0,
          140000.0,
          140000.0,
          140000.0,
          140000.0,
          141000.0,
          141000.0,
          141000.0,
          141000.0,
          141000.0,
          141000.0,
          141000.0,
          141000.0,
          141000.0,
          141000.0,
          141000.0,
          141000.0,
          141000.0,
          141000.0,
          141000.0,
          141000.0,
          141000.0,
          141000.0,
          141000.0,
          141000.0,
          141000.0,
          141000.0,
          141000.0,
          141000.0,
          141000.0,
          141000.0,
          141000.0,
          141000.0,
          141000.0,
          141000.0,
          141000.0,
          141000.0,
          141000.0,
          141000.0,
          141000.0,
          141000.0,
          141000.0,
          141000.0,
          141000.0,
          141000.0,
          141000.0,
          141000.0,
          141000.0,
          141000.0,
          141000.0,
          141000.0,
          141000.0,
          141000.0,
          141000.0,
          141000.0,
          141000.0,
          141000.0,
          141000.0,
          141000.0,
          141000.0,
          141000.0,
          142000.0,
          142000.0,
          142000.0,
          142000.0,
          142000.0,
          142000.0,
          142000.0,
          142000.0,
          142000.0,
          142000.0,
          142000.0,
          142000.0,
          142000.0,
          142000.0,
          142000.0,
          142000.0,
          142000.0,
          142000.0,
          142000.0,
          142000.0,
          142000.0,
          142000.0,
          142000.0,
          142000.0,
          142000.0,
          142000.0,
          142000.0,
          142000.0,
          142000.0,
          142000.0,
          142000.0,
          142000.0,
          142000.0,
          142000.0,
          142000.0,
          142000.0,
          142000.0,
          142000.0,
          142000.0,
          142000.0,
          142000.0,
          142000.0,
          142000.0,
          142000.0,
          142000.0,
          142000.0,
          142000.0,
          142000.0,
          142000.0,
          142000.0,
          142000.0,
          142000.0,
          142000.0,
          142000.0,
          142000.0,
          142000.0,
          142000.0,
          142000.0,
          142000.0,
          142000.0,
          142000.0,
          142000.0,
          142000.0,
          142000.0,
          142000.0,
          143000.0,
          143000.0,
          143000.0,
          143000.0,
          143000.0,
          143000.0,
          143000.0,
          143000.0,
          143000.0,
          143000.0,
          143000.0,
          143000.0,
          143000.0,
          143000.0,
          143000.0,
          143000.0,
          143000.0,
          143000.0,
          143000.0,
          143000.0,
          143000.0,
          143000.0,
          143000.0,
          143000.0,
          143000.0,
          143000.0,
          143000.0,
          143000.0,
          143000.0,
          143000.0,
          143000.0,
          143000.0,
          143000.0,
          143000.0,
          143000.0,
          143000.0,
          143000.0,
          143000.0,
          143000.0,
          143000.0,
          143000.0,
          143000.0,
          143000.0,
          143000.0,
          143000.0,
          143000.0,
          143000.0,
          143000.0,
          143000.0,
          143000.0,
          143000.0,
          143000.0,
          143000.0,
          143000.0,
          143000.0,
          143000.0,
          143000.0,
          143000.0,
          143000.0,
          143000.0,
          143000.0,
          144000.0,
          144000.0,
          144000.0,
          144000.0,
          144000.0,
          144000.0,
          144000.0,
          144000.0,
          144000.0,
          144000.0,
          144000.0,
          144000.0,
          144000.0,
          144000.0,
          144000.0,
          144000.0,
          144000.0,
          144000.0,
          144000.0,
          144000.0,
          144000.0,
          144000.0,
          144000.0,
          144000.0,
          144000.0,
          144000.0,
          144000.0,
          144000.0,
          144000.0,
          144000.0,
          144000.0,
          144000.0,
          144000.0,
          144000.0,
          144000.0,
          144000.0,
          144000.0,
          144000.0,
          144000.0,
          144000.0,
          144000.0,
          144000.0,
          144000.0,
          144000.0,
          144000.0,
          144000.0,
          144000.0,
          144000.0,
          144000.0,
          144000.0,
          144000.0,
          144000.0,
          144000.0,
          144000.0,
          144000.0,
          144000.0,
          144000.0,
          144000.0,
          145000.0,
          145000.0,
          145000.0,
          145000.0,
          145000.0,
          145000.0,
          145000.0,
          145000.0,
          145000.0,
          145000.0,
          145000.0,
          145000.0,
          145000.0,
          145000.0,
          145000.0,
          145000.0,
          145000.0,
          145000.0,
          145000.0,
          145000.0,
          145000.0,
          145000.0,
          145000.0,
          145000.0,
          145000.0,
          145000.0,
          145000.0,
          145000.0,
          145000.0,
          145000.0,
          145000.0,
          145000.0,
          145000.0,
          145000.0,
          145000.0,
          145000.0,
          145000.0,
          145000.0,
          145000.0,
          145000.0,
          145000.0,
          145000.0,
          145000.0,
          145000.0,
          145000.0,
          145000.0,
          146000.0,
          146000.0,
          146000.0,
          146000.0,
          146000.0,
          146000.0,
          146000.0,
          146000.0,
          146000.0,
          146000.0,
          146000.0,
          146000.0,
          146000.0,
          146000.0,
          146000.0,
          146000.0,
          146000.0,
          146000.0,
          146000.0,
          146000.0,
          146000.0,
          146000.0,
          146000.0,
          146000.0,
          146000.0,
          146000.0,
          146000.0,
          146000.0,
          146000.0,
          146000.0,
          146000.0,
          146000.0,
          146000.0,
          146000.0,
          146000.0,
          146000.0,
          146000.0,
          146000.0,
          147000.0,
          147000.0,
          147000.0,
          147000.0,
          147000.0,
          147000.0,
          147000.0,
          147000.0,
          147000.0,
          147000.0,
          147000.0,
          147000.0,
          147000.0,
          147000.0,
          147000.0,
          147000.0,
          147000.0,
          147000.0,
          147000.0,
          147000.0,
          147000.0,
          147000.0,
          147000.0,
          147000.0,
          147000.0,
          147000.0,
          147000.0,
          147000.0,
          147000.0,
          147000.0,
          147000.0,
          147000.0,
          147000.0,
          147000.0,
          147000.0,
          147000.0,
          147000.0,
          147000.0,
          147000.0,
          147000.0,
          147000.0,
          147000.0,
          147000.0,
          147000.0,
          147000.0,
          147000.0,
          147000.0,
          148000.0,
          148000.0,
          148000.0,
          148000.0,
          148000.0,
          148000.0,
          148000.0,
          148000.0,
          148000.0,
          148000.0,
          148000.0,
          148000.0,
          148000.0,
          148000.0,
          148000.0,
          148000.0,
          148000.0,
          148000.0,
          148000.0,
          148000.0,
          148000.0,
          148000.0,
          148000.0,
          148000.0,
          148000.0,
          148000.0,
          148000.0,
          148000.0,
          148000.0,
          148000.0,
          148000.0,
          148000.0,
          148000.0,
          148000.0,
          148000.0,
          148000.0,
          148000.0,
          148000.0,
          148000.0,
          148000.0,
          148000.0,
          148000.0,
          148000.0,
          148000.0,
          148000.0,
          148000.0,
          148000.0,
          148000.0,
          148000.0,
          148000.0,
          148000.0,
          148000.0,
          148000.0,
          148000.0,
          148000.0,
          148000.0,
          149000.0,
          149000.0,
          149000.0,
          149000.0,
          149000.0,
          149000.0,
          149000.0,
          149000.0,
          149000.0,
          149000.0,
          149000.0,
          149000.0,
          149000.0,
          149000.0,
          149000.0,
          149000.0,
          149000.0,
          149000.0,
          149000.0,
          149000.0,
          149000.0,
          149000.0,
          149000.0,
          149000.0,
          149000.0,
          149000.0,
          149000.0,
          149000.0,
          149000.0,
          149000.0,
          149000.0,
          149000.0,
          149000.0,
          149000.0,
          149000.0,
          149000.0,
          149000.0,
          149000.0,
          149000.0,
          149000.0,
          149000.0,
          149000.0,
          149000.0,
          149000.0,
          150000.0,
          150000.0,
          150000.0,
          150000.0,
          150000.0,
          150000.0,
          150000.0,
          150000.0,
          150000.0,
          150000.0,
          150000.0,
          150000.0,
          150000.0,
          150000.0,
          150000.0,
          150000.0,
          150000.0,
          150000.0,
          150000.0,
          150000.0,
          150000.0,
          150000.0,
          150000.0,
          150000.0,
          150000.0,
          150000.0,
          150000.0,
          150000.0,
          150000.0,
          150000.0,
          150000.0,
          150000.0,
          150000.0,
          150000.0,
          150000.0,
          150000.0,
          150000.0,
          150000.0,
          150000.0,
          150000.0,
          150000.0,
          151000.0,
          151000.0,
          151000.0,
          151000.0,
          151000.0,
          151000.0,
          151000.0,
          151000.0,
          151000.0,
          151000.0,
          151000.0,
          151000.0,
          151000.0,
          151000.0,
          151000.0,
          151000.0,
          151000.0,
          151000.0,
          151000.0,
          151000.0,
          151000.0,
          151000.0,
          151000.0,
          151000.0,
          151000.0,
          151000.0,
          151000.0,
          151000.0,
          151000.0,
          151000.0,
          151000.0,
          151000.0,
          151000.0,
          151000.0,
          151000.0,
          151000.0,
          151000.0,
          151000.0,
          151000.0,
          151000.0,
          151000.0,
          151000.0,
          152000.0,
          152000.0,
          152000.0,
          152000.0,
          152000.0,
          152000.0,
          152000.0,
          152000.0,
          152000.0,
          152000.0,
          152000.0,
          152000.0,
          152000.0,
          152000.0,
          152000.0,
          152000.0,
          152000.0,
          152000.0,
          152000.0,
          152000.0,
          152000.0,
          152000.0,
          152000.0,
          152000.0,
          152000.0,
          152000.0,
          152000.0,
          152000.0,
          152000.0,
          152000.0,
          152000.0,
          152000.0,
          152000.0,
          152000.0,
          153000.0,
          153000.0,
          153000.0,
          153000.0,
          153000.0,
          153000.0,
          153000.0,
          153000.0,
          153000.0,
          153000.0,
          153000.0,
          153000.0,
          153000.0,
          153000.0,
          153000.0,
          153000.0,
          153000.0,
          153000.0,
          153000.0,
          153000.0,
          153000.0,
          153000.0,
          153000.0,
          153000.0,
          153000.0,
          153000.0,
          153000.0,
          153000.0,
          153000.0,
          153000.0,
          153000.0,
          154000.0,
          154000.0,
          154000.0,
          154000.0,
          154000.0,
          154000.0,
          154000.0,
          154000.0,
          154000.0,
          154000.0,
          154000.0,
          154000.0,
          154000.0,
          154000.0,
          154000.0,
          154000.0,
          154000.0,
          154000.0,
          154000.0,
          154000.0,
          154000.0,
          154000.0,
          154000.0,
          154000.0,
          154000.0,
          154000.0,
          154000.0,
          154000.0,
          154000.0,
          154000.0,
          154000.0,
          154000.0,
          154000.0,
          154000.0,
          154000.0,
          154000.0,
          155000.0,
          155000.0,
          155000.0,
          155000.0,
          155000.0,
          155000.0,
          155000.0,
          155000.0,
          155000.0,
          155000.0,
          155000.0,
          155000.0,
          155000.0,
          155000.0,
          155000.0,
          155000.0,
          155000.0,
          155000.0,
          155000.0,
          155000.0,
          155000.0,
          155000.0,
          155000.0,
          155000.0,
          155000.0,
          155000.0,
          155000.0,
          155000.0,
          155000.0,
          155000.0,
          156000.0,
          156000.0,
          156000.0,
          156000.0,
          156000.0,
          156000.0,
          156000.0,
          156000.0,
          156000.0,
          156000.0,
          156000.0,
          156000.0,
          156000.0,
          156000.0,
          156000.0,
          156000.0,
          156000.0,
          156000.0,
          156000.0,
          156000.0,
          156000.0,
          156000.0,
          156000.0,
          156000.0,
          157000.0,
          157000.0,
          157000.0,
          157000.0,
          157000.0,
          157000.0,
          157000.0,
          157000.0,
          157000.0,
          157000.0,
          157000.0,
          157000.0,
          157000.0,
          157000.0,
          157000.0,
          157000.0,
          157000.0,
          157000.0,
          157000.0,
          157000.0,
          157000.0,
          157000.0,
          157000.0,
          157000.0,
          157000.0,
          157000.0,
          157000.0,
          157000.0,
          157000.0,
          157000.0,
          157000.0,
          157000.0,
          157000.0,
          158000.0,
          158000.0,
          158000.0,
          158000.0,
          158000.0,
          158000.0,
          158000.0,
          158000.0,
          158000.0,
          158000.0,
          158000.0,
          158000.0,
          158000.0,
          158000.0,
          158000.0,
          158000.0,
          158000.0,
          158000.0,
          158000.0,
          158000.0,
          158000.0,
          158000.0,
          158000.0,
          158000.0,
          158000.0,
          158000.0,
          158000.0,
          158000.0,
          158000.0,
          158000.0,
          158000.0,
          158000.0,
          158000.0,
          158000.0,
          158000.0,
          159000.0,
          159000.0,
          159000.0,
          159000.0,
          159000.0,
          159000.0,
          159000.0,
          159000.0,
          159000.0,
          159000.0,
          159000.0,
          159000.0,
          159000.0,
          159000.0,
          159000.0,
          159000.0,
          159000.0,
          159000.0,
          159000.0,
          159000.0,
          159000.0,
          159000.0,
          159000.0,
          159000.0,
          159000.0,
          159000.0,
          159000.0,
          159000.0,
          160000.0,
          160000.0,
          160000.0,
          160000.0,
          160000.0,
          160000.0,
          160000.0,
          160000.0,
          160000.0,
          160000.0,
          160000.0,
          160000.0,
          160000.0,
          160000.0,
          160000.0,
          160000.0,
          160000.0,
          160000.0,
          160000.0,
          161000.0,
          161000.0,
          161000.0,
          161000.0,
          161000.0,
          161000.0,
          161000.0,
          161000.0,
          161000.0,
          161000.0,
          161000.0,
          161000.0,
          161000.0,
          161000.0,
          161000.0,
          161000.0,
          162000.0,
          162000.0,
          162000.0,
          162000.0,
          162000.0,
          162000.0,
          162000.0,
          162000.0,
          162000.0,
          162000.0,
          162000.0,
          162000.0,
          162000.0,
          162000.0,
          162000.0,
          162000.0,
          162000.0,
          162000.0,
          162000.0,
          162000.0,
          162000.0,
          162000.0,
          162000.0,
          162000.0,
          162000.0,
          162000.0,
          163000.0,
          163000.0,
          163000.0,
          163000.0,
          163000.0,
          163000.0,
          163000.0,
          163000.0,
          163000.0,
          163000.0,
          163000.0,
          163000.0,
          163000.0,
          163000.0,
          163000.0,
          163000.0,
          163000.0,
          163000.0,
          163000.0,
          163000.0,
          163000.0,
          163000.0,
          163000.0,
          163000.0,
          163000.0,
          163000.0,
          163000.0,
          163000.0,
          163000.0,
          163000.0,
          163000.0,
          163000.0,
          163000.0,
          163000.0,
          163000.0,
          164000.0,
          164000.0,
          164000.0,
          164000.0,
          164000.0,
          164000.0,
          164000.0,
          164000.0,
          164000.0,
          164000.0,
          164000.0,
          164000.0,
          164000.0,
          164000.0,
          164000.0,
          165000.0,
          165000.0,
          165000.0,
          165000.0,
          165000.0,
          165000.0,
          165000.0,
          165000.0,
          165000.0,
          165000.0,
          165000.0,
          165000.0,
          165000.0,
          165000.0,
          165000.0,
          165000.0,
          165000.0,
          165000.0,
          165000.0,
          165000.0,
          166000.0,
          166000.0,
          166000.0,
          166000.0,
          166000.0,
          166000.0,
          166000.0,
          166000.0,
          166000.0,
          166000.0,
          166000.0,
          166000.0,
          166000.0,
          166000.0,
          166000.0,
          166000.0,
          166000.0,
          166000.0,
          166000.0,
          166000.0,
          166000.0,
          166000.0,
          166000.0,
          166000.0,
          166000.0,
          166000.0,
          166000.0,
          166000.0,
          166000.0,
          166000.0,
          167000.0,
          167000.0,
          167000.0,
          167000.0,
          167000.0,
          167000.0,
          167000.0,
          167000.0,
          167000.0,
          167000.0,
          167000.0,
          167000.0,
          167000.0,
          167000.0,
          167000.0,
          167000.0,
          167000.0,
          167000.0,
          167000.0,
          167000.0,
          167000.0,
          168000.0,
          168000.0,
          168000.0,
          168000.0,
          168000.0,
          168000.0,
          168000.0,
          168000.0,
          168000.0,
          168000.0,
          168000.0,
          168000.0,
          168000.0,
          168000.0,
          168000.0,
          168000.0,
          168000.0,
          168000.0,
          168000.0,
          169000.0,
          169000.0,
          169000.0,
          169000.0,
          169000.0,
          169000.0,
          169000.0,
          169000.0,
          169000.0,
          169000.0,
          169000.0,
          169000.0,
          169000.0,
          169000.0,
          169000.0,
          169000.0,
          169000.0,
          169000.0,
          170000.0,
          170000.0,
          170000.0,
          170000.0,
          170000.0,
          170000.0,
          170000.0,
          170000.0,
          170000.0,
          170000.0,
          170000.0,
          170000.0,
          170000.0,
          170000.0,
          170000.0,
          171000.0,
          171000.0,
          171000.0,
          171000.0,
          171000.0,
          171000.0,
          171000.0,
          171000.0,
          171000.0,
          171000.0,
          171000.0,
          171000.0,
          171000.0,
          171000.0,
          171000.0,
          171000.0,
          171000.0,
          171000.0,
          172000.0,
          172000.0,
          172000.0,
          172000.0,
          172000.0,
          172000.0,
          172000.0,
          172000.0,
          172000.0,
          172000.0,
          172000.0,
          173000.0,
          173000.0,
          173000.0,
          173000.0,
          173000.0,
          173000.0,
          173000.0,
          173000.0,
          173000.0,
          173000.0,
          173000.0,
          173000.0,
          173000.0,
          173000.0,
          173000.0,
          174000.0,
          174000.0,
          174000.0,
          174000.0,
          174000.0,
          174000.0,
          174000.0,
          174000.0,
          174000.0,
          174000.0,
          174000.0,
          174000.0,
          174000.0,
          174000.0,
          174000.0,
          174000.0,
          174000.0,
          174000.0,
          174000.0,
          175000.0,
          175000.0,
          175000.0,
          175000.0,
          175000.0,
          175000.0,
          175000.0,
          175000.0,
          175000.0,
          175000.0,
          175000.0,
          175000.0,
          175000.0,
          176000.0,
          176000.0,
          176000.0,
          176000.0,
          176000.0,
          176000.0,
          176000.0,
          176000.0,
          176000.0,
          176000.0,
          176000.0,
          176000.0,
          176000.0,
          177000.0,
          177000.0,
          177000.0,
          177000.0,
          177000.0,
          177000.0,
          177000.0,
          177000.0,
          177000.0,
          177000.0,
          178000.0,
          178000.0,
          178000.0,
          178000.0,
          179000.0,
          179000.0,
          179000.0,
          179000.0,
          179000.0,
          179000.0,
          179000.0,
          179000.0,
          179000.0,
          179000.0,
          179000.0,
          179000.0,
          179000.0,
          179000.0,
          179000.0,
          179000.0,
          179000.0,
          180000.0,
          180000.0,
          180000.0,
          180000.0,
          180000.0,
          180000.0,
          180000.0,
          180000.0,
          180000.0,
          180000.0,
          180000.0,
          180000.0,
          180000.0,
          180000.0,
          181000.0,
          181000.0,
          181000.0,
          181000.0,
          181000.0,
          181000.0,
          181000.0,
          181000.0,
          182000.0,
          182000.0,
          182000.0,
          182000.0,
          182000.0,
          182000.0,
          182000.0,
          182000.0,
          182000.0,
          182000.0,
          183000.0,
          183000.0,
          183000.0,
          183000.0,
          183000.0,
          183000.0,
          183000.0,
          183000.0,
          183000.0,
          183000.0,
          184000.0,
          184000.0,
          184000.0,
          184000.0,
          184000.0,
          184000.0,
          184000.0,
          184000.0,
          184000.0,
          185000.0,
          185000.0,
          185000.0,
          185000.0,
          185000.0,
          185000.0,
          185000.0,
          185000.0,
          186000.0,
          186000.0,
          186000.0,
          186000.0,
          186000.0,
          186000.0,
          186000.0,
          186000.0,
          187000.0,
          187000.0,
          187000.0,
          187000.0,
          187000.0,
          187000.0,
          187000.0,
          187000.0,
          187000.0,
          187000.0,
          188000.0,
          188000.0,
          188000.0,
          188000.0,
          188000.0,
          188000.0,
          188000.0,
          188000.0,
          188000.0,
          189000.0,
          189000.0,
          189000.0,
          189000.0,
          189000.0,
          189000.0,
          190000.0,
          190000.0,
          190000.0,
          190000.0,
          190000.0,
          191000.0,
          191000.0,
          191000.0,
          191000.0,
          191000.0,
          191000.0,
          191000.0,
          192000.0,
          192000.0,
          192000.0,
          192000.0,
          192000.0,
          192000.0,
          192000.0,
          193000.0,
          193000.0,
          193000.0,
          193000.0,
          193000.0,
          193000.0,
          193000.0,
          194000.0,
          194000.0,
          194000.0,
          194000.0,
          194000.0,
          195000.0,
          195000.0,
          195000.0,
          195000.0,
          195000.0,
          196000.0,
          196000.0,
          196000.0,
          196000.0,
          196000.0,
          196000.0,
          197000.0,
          197000.0,
          197000.0,
          197000.0,
          197000.0,
          197000.0,
          197000.0,
          198000.0,
          198000.0,
          198000.0,
          198000.0,
          199000.0,
          199000.0,
          199000.0,
          200000.0,
          200000.0,
          200000.0,
          200000.0,
          201000.0,
          201000.0,
          201000.0,
          201000.0,
          201000.0,
          202000.0,
          202000.0,
          202000.0,
          202000.0,
          202000.0,
          202000.0,
          202000.0,
          202000.0,
          203000.0,
          203000.0,
          203000.0,
          203000.0,
          203000.0,
          203000.0,
          204000.0,
          205000.0,
          205000.0,
          205000.0,
          205000.0,
          205000.0,
          205000.0,
          205000.0,
          205000.0,
          205000.0,
          206000.0,
          206000.0,
          206000.0,
          207000.0,
          207000.0,
          207000.0,
          207000.0,
          208000.0,
          208000.0,
          209000.0,
          209000.0,
          209000.0,
          210000.0,
          210000.0,
          212000.0,
          212000.0,
          213000.0,
          213000.0,
          213000.0,
          213000.0,
          214000.0,
          214000.0,
          214000.0,
          214000.0,
          215000.0,
          215000.0,
          215000.0,
          216000.0,
          216000.0,
          216000.0,
          216000.0,
          216000.0,
          216000.0,
          216000.0,
          217000.0,
          217000.0,
          217000.0,
          218000.0,
          218000.0,
          218000.0,
          218000.0,
          219000.0,
          219000.0,
          220000.0,
          220000.0,
          220000.0,
          220000.0,
          221000.0,
          221000.0,
          221000.0,
          221000.0,
          222000.0,
          222000.0,
          223000.0,
          223000.0,
          223000.0,
          223000.0,
          223000.0,
          223000.0,
          223000.0,
          224000.0,
          224000.0,
          224000.0,
          225000.0,
          225000.0,
          225000.0,
          225000.0,
          226000.0,
          226000.0,
          226000.0,
          227000.0,
          227000.0,
          228000.0,
          228000.0,
          229000.0,
          229000.0,
          230000.0,
          231000.0,
          231000.0,
          232000.0,
          232000.0,
          233000.0,
          233000.0,
          235000.0,
          236000.0,
          237000.0,
          238000.0,
          241000.0,
          242000.0,
          244000.0,
          244000.0,
          245000.0,
          245000.0,
          245000.0,
          246000.0,
          247000.0,
          250000.0,
          250000.0,
          250000.0,
          251000.0,
          251000.0,
          253000.0,
          254000.0,
          255000.0,
          256000.0,
          257000.0,
          258000.0,
          258000.0,
          262000.0,
          263000.0,
          263000.0,
          270000.0,
          270000.0,
          271000.0,
          272000.0,
          273000.0,
          277000.0,
          283000.0,
          284000.0,
          285000.0,
          291000.0,
          291000.0,
          293000.0,
          297000.0,
          297000.0,
          298000.0,
          309000.0,
          329000.0,
          336000.0,
          337000.0,
          365000.0,
          401000.0,
          432000.0,
          439000.0,
          481000.0
         ],
         "xaxis": "x",
         "y": [
          2360.7231376085865,
          2360.7231376085865,
          2360.7231376085865,
          2360.7231376085865,
          2360.7231376085865,
          2360.7231376085865,
          2360.7231376085865,
          2360.7231376085865,
          2360.7231376085865,
          2360.7231376085865,
          2360.7231376085865,
          2360.7231376085865,
          2360.7231376085865,
          2360.7231376085865,
          2360.7231376085865,
          2360.7231376085865,
          2360.7231376085865,
          2360.7231376085865,
          2360.7231376085865,
          2360.7231376085865,
          2360.7231376085865,
          2360.7231376085865,
          2360.7231376085865,
          2360.7231376085865,
          2360.7231376085865,
          2360.7231376085865,
          2360.7231376085865,
          2360.7231376085865,
          2360.7231376085865,
          2360.7231376085865,
          2360.7231376085865,
          2360.7231376085865,
          2360.7231376085865,
          2360.7231376085865,
          2360.7231376085865,
          2360.7231376085865,
          2360.7231376085865,
          2360.7231376085865,
          2360.7231376085865,
          2360.7231376085865,
          2360.7231376085865,
          2360.7231376085865,
          2360.7231376085865,
          2394.073524380966,
          2394.073524380966,
          2394.073524380966,
          2394.073524380966,
          2394.073524380966,
          2394.073524380966,
          2394.073524380966,
          2394.073524380966,
          2394.073524380966,
          2394.073524380966,
          2394.073524380966,
          2394.073524380966,
          2394.073524380966,
          2394.073524380966,
          2394.073524380966,
          2394.073524380966,
          2394.073524380966,
          2394.073524380966,
          2394.073524380966,
          2394.073524380966,
          2394.073524380966,
          2394.073524380966,
          2394.073524380966,
          2394.073524380966,
          2394.073524380966,
          2394.073524380966,
          2394.073524380966,
          2394.073524380966,
          2394.073524380966,
          2394.073524380966,
          2394.073524380966,
          2394.073524380966,
          2394.073524380966,
          2394.073524380966,
          2394.073524380966,
          2394.073524380966,
          2394.073524380966,
          2394.073524380966,
          2394.073524380966,
          2394.073524380966,
          2394.073524380966,
          2394.073524380966,
          2394.073524380966,
          2394.073524380966,
          2394.073524380966,
          2394.073524380966,
          2394.073524380966,
          2394.073524380966,
          2394.073524380966,
          2394.073524380966,
          2394.073524380966,
          2394.073524380966,
          2394.073524380966,
          2394.073524380966,
          2394.073524380966,
          2394.073524380966,
          2394.073524380966,
          2394.073524380966,
          2394.073524380966,
          2394.073524380966,
          2394.073524380966,
          2394.073524380966,
          2394.073524380966,
          2394.073524380966,
          2394.073524380966,
          2394.073524380966,
          2394.073524380966,
          2394.073524380966,
          2394.073524380966,
          2394.073524380966,
          2394.073524380966,
          2394.073524380966,
          2394.073524380966,
          2394.073524380966,
          2394.073524380966,
          2427.423911153346,
          2427.423911153346,
          2427.423911153346,
          2427.423911153346,
          2427.423911153346,
          2427.423911153346,
          2427.423911153346,
          2427.423911153346,
          2427.423911153346,
          2427.423911153346,
          2427.423911153346,
          2427.423911153346,
          2427.423911153346,
          2427.423911153346,
          2427.423911153346,
          2427.423911153346,
          2427.423911153346,
          2427.423911153346,
          2427.423911153346,
          2427.423911153346,
          2427.423911153346,
          2427.423911153346,
          2427.423911153346,
          2427.423911153346,
          2427.423911153346,
          2427.423911153346,
          2427.423911153346,
          2427.423911153346,
          2427.423911153346,
          2427.423911153346,
          2427.423911153346,
          2427.423911153346,
          2427.423911153346,
          2427.423911153346,
          2427.423911153346,
          2427.423911153346,
          2427.423911153346,
          2427.423911153346,
          2427.423911153346,
          2427.423911153346,
          2427.423911153346,
          2427.423911153346,
          2427.423911153346,
          2427.423911153346,
          2427.423911153346,
          2427.423911153346,
          2427.423911153346,
          2427.423911153346,
          2427.423911153346,
          2427.423911153346,
          2427.423911153346,
          2427.423911153346,
          2427.423911153346,
          2427.423911153346,
          2427.423911153346,
          2427.423911153346,
          2427.423911153346,
          2427.423911153346,
          2427.423911153346,
          2427.423911153346,
          2427.423911153346,
          2427.423911153346,
          2427.423911153346,
          2427.423911153346,
          2427.423911153346,
          2460.7742979257255,
          2460.7742979257255,
          2460.7742979257255,
          2460.7742979257255,
          2460.7742979257255,
          2460.7742979257255,
          2460.7742979257255,
          2460.7742979257255,
          2460.7742979257255,
          2460.7742979257255,
          2460.7742979257255,
          2460.7742979257255,
          2460.7742979257255,
          2460.7742979257255,
          2460.7742979257255,
          2460.7742979257255,
          2460.7742979257255,
          2460.7742979257255,
          2460.7742979257255,
          2460.7742979257255,
          2460.7742979257255,
          2460.7742979257255,
          2460.7742979257255,
          2460.7742979257255,
          2460.7742979257255,
          2460.7742979257255,
          2460.7742979257255,
          2460.7742979257255,
          2460.7742979257255,
          2460.7742979257255,
          2460.7742979257255,
          2460.7742979257255,
          2460.7742979257255,
          2460.7742979257255,
          2460.7742979257255,
          2460.7742979257255,
          2460.7742979257255,
          2460.7742979257255,
          2460.7742979257255,
          2460.7742979257255,
          2460.7742979257255,
          2460.7742979257255,
          2460.7742979257255,
          2460.7742979257255,
          2460.7742979257255,
          2460.7742979257255,
          2460.7742979257255,
          2460.7742979257255,
          2460.7742979257255,
          2460.7742979257255,
          2460.7742979257255,
          2460.7742979257255,
          2460.7742979257255,
          2460.7742979257255,
          2460.7742979257255,
          2460.7742979257255,
          2460.7742979257255,
          2460.7742979257255,
          2460.7742979257255,
          2460.7742979257255,
          2460.7742979257255,
          2460.7742979257255,
          2460.7742979257255,
          2460.7742979257255,
          2460.7742979257255,
          2460.7742979257255,
          2460.7742979257255,
          2460.7742979257255,
          2460.7742979257255,
          2460.7742979257255,
          2460.7742979257255,
          2460.7742979257255,
          2460.7742979257255,
          2460.7742979257255,
          2460.7742979257255,
          2460.7742979257255,
          2494.1246846981057,
          2494.1246846981057,
          2494.1246846981057,
          2494.1246846981057,
          2494.1246846981057,
          2494.1246846981057,
          2494.1246846981057,
          2494.1246846981057,
          2494.1246846981057,
          2494.1246846981057,
          2494.1246846981057,
          2494.1246846981057,
          2494.1246846981057,
          2494.1246846981057,
          2494.1246846981057,
          2494.1246846981057,
          2494.1246846981057,
          2494.1246846981057,
          2494.1246846981057,
          2494.1246846981057,
          2494.1246846981057,
          2494.1246846981057,
          2494.1246846981057,
          2494.1246846981057,
          2494.1246846981057,
          2494.1246846981057,
          2494.1246846981057,
          2494.1246846981057,
          2494.1246846981057,
          2494.1246846981057,
          2494.1246846981057,
          2494.1246846981057,
          2494.1246846981057,
          2494.1246846981057,
          2494.1246846981057,
          2494.1246846981057,
          2494.1246846981057,
          2494.1246846981057,
          2494.1246846981057,
          2494.1246846981057,
          2494.1246846981057,
          2494.1246846981057,
          2494.1246846981057,
          2494.1246846981057,
          2494.1246846981057,
          2494.1246846981057,
          2494.1246846981057,
          2494.1246846981057,
          2494.1246846981057,
          2494.1246846981057,
          2494.1246846981057,
          2494.1246846981057,
          2494.1246846981057,
          2494.1246846981057,
          2494.1246846981057,
          2494.1246846981057,
          2494.1246846981057,
          2494.1246846981057,
          2494.1246846981057,
          2494.1246846981057,
          2494.1246846981057,
          2494.1246846981057,
          2494.1246846981057,
          2494.1246846981057,
          2494.1246846981057,
          2494.1246846981057,
          2494.1246846981057,
          2494.1246846981057,
          2494.1246846981057,
          2494.1246846981057,
          2494.1246846981057,
          2494.1246846981057,
          2494.1246846981057,
          2494.1246846981057,
          2494.1246846981057,
          2494.1246846981057,
          2494.1246846981057,
          2494.1246846981057,
          2494.1246846981057,
          2494.1246846981057,
          2494.1246846981057,
          2494.1246846981057,
          2494.1246846981057,
          2527.475071470485,
          2527.475071470485,
          2527.475071470485,
          2527.475071470485,
          2527.475071470485,
          2527.475071470485,
          2527.475071470485,
          2527.475071470485,
          2527.475071470485,
          2527.475071470485,
          2527.475071470485,
          2527.475071470485,
          2527.475071470485,
          2527.475071470485,
          2527.475071470485,
          2527.475071470485,
          2527.475071470485,
          2527.475071470485,
          2527.475071470485,
          2527.475071470485,
          2527.475071470485,
          2527.475071470485,
          2527.475071470485,
          2527.475071470485,
          2527.475071470485,
          2527.475071470485,
          2527.475071470485,
          2527.475071470485,
          2527.475071470485,
          2527.475071470485,
          2527.475071470485,
          2527.475071470485,
          2527.475071470485,
          2527.475071470485,
          2527.475071470485,
          2527.475071470485,
          2527.475071470485,
          2527.475071470485,
          2527.475071470485,
          2527.475071470485,
          2527.475071470485,
          2527.475071470485,
          2527.475071470485,
          2527.475071470485,
          2527.475071470485,
          2527.475071470485,
          2527.475071470485,
          2527.475071470485,
          2527.475071470485,
          2527.475071470485,
          2527.475071470485,
          2527.475071470485,
          2527.475071470485,
          2527.475071470485,
          2527.475071470485,
          2527.475071470485,
          2527.475071470485,
          2527.475071470485,
          2527.475071470485,
          2527.475071470485,
          2527.475071470485,
          2527.475071470485,
          2527.475071470485,
          2527.475071470485,
          2560.8254582428654,
          2560.8254582428654,
          2560.8254582428654,
          2560.8254582428654,
          2560.8254582428654,
          2560.8254582428654,
          2560.8254582428654,
          2560.8254582428654,
          2560.8254582428654,
          2560.8254582428654,
          2560.8254582428654,
          2560.8254582428654,
          2560.8254582428654,
          2560.8254582428654,
          2560.8254582428654,
          2560.8254582428654,
          2560.8254582428654,
          2560.8254582428654,
          2560.8254582428654,
          2560.8254582428654,
          2560.8254582428654,
          2560.8254582428654,
          2560.8254582428654,
          2560.8254582428654,
          2560.8254582428654,
          2560.8254582428654,
          2560.8254582428654,
          2560.8254582428654,
          2560.8254582428654,
          2560.8254582428654,
          2560.8254582428654,
          2560.8254582428654,
          2560.8254582428654,
          2560.8254582428654,
          2560.8254582428654,
          2560.8254582428654,
          2560.8254582428654,
          2560.8254582428654,
          2560.8254582428654,
          2560.8254582428654,
          2560.8254582428654,
          2560.8254582428654,
          2560.8254582428654,
          2560.8254582428654,
          2560.8254582428654,
          2560.8254582428654,
          2560.8254582428654,
          2560.8254582428654,
          2560.8254582428654,
          2560.8254582428654,
          2560.8254582428654,
          2560.8254582428654,
          2560.8254582428654,
          2560.8254582428654,
          2560.8254582428654,
          2560.8254582428654,
          2560.8254582428654,
          2560.8254582428654,
          2560.8254582428654,
          2560.8254582428654,
          2560.8254582428654,
          2560.8254582428654,
          2560.8254582428654,
          2560.8254582428654,
          2560.8254582428654,
          2560.8254582428654,
          2560.8254582428654,
          2560.8254582428654,
          2560.8254582428654,
          2560.8254582428654,
          2560.8254582428654,
          2560.8254582428654,
          2560.8254582428654,
          2594.1758450152447,
          2594.1758450152447,
          2594.1758450152447,
          2594.1758450152447,
          2594.1758450152447,
          2594.1758450152447,
          2594.1758450152447,
          2594.1758450152447,
          2594.1758450152447,
          2594.1758450152447,
          2594.1758450152447,
          2594.1758450152447,
          2594.1758450152447,
          2594.1758450152447,
          2594.1758450152447,
          2594.1758450152447,
          2594.1758450152447,
          2594.1758450152447,
          2594.1758450152447,
          2594.1758450152447,
          2594.1758450152447,
          2594.1758450152447,
          2594.1758450152447,
          2594.1758450152447,
          2594.1758450152447,
          2594.1758450152447,
          2594.1758450152447,
          2594.1758450152447,
          2594.1758450152447,
          2594.1758450152447,
          2594.1758450152447,
          2594.1758450152447,
          2594.1758450152447,
          2594.1758450152447,
          2594.1758450152447,
          2594.1758450152447,
          2594.1758450152447,
          2594.1758450152447,
          2594.1758450152447,
          2594.1758450152447,
          2594.1758450152447,
          2594.1758450152447,
          2594.1758450152447,
          2594.1758450152447,
          2594.1758450152447,
          2594.1758450152447,
          2594.1758450152447,
          2594.1758450152447,
          2594.1758450152447,
          2594.1758450152447,
          2594.1758450152447,
          2594.1758450152447,
          2594.1758450152447,
          2594.1758450152447,
          2594.1758450152447,
          2594.1758450152447,
          2594.1758450152447,
          2594.1758450152447,
          2594.1758450152447,
          2594.1758450152447,
          2594.1758450152447,
          2594.1758450152447,
          2594.1758450152447,
          2594.1758450152447,
          2594.1758450152447,
          2594.1758450152447,
          2594.1758450152447,
          2594.1758450152447,
          2594.1758450152447,
          2627.526231787625,
          2627.526231787625,
          2627.526231787625,
          2627.526231787625,
          2627.526231787625,
          2627.526231787625,
          2627.526231787625,
          2627.526231787625,
          2627.526231787625,
          2627.526231787625,
          2627.526231787625,
          2627.526231787625,
          2627.526231787625,
          2627.526231787625,
          2627.526231787625,
          2627.526231787625,
          2627.526231787625,
          2627.526231787625,
          2627.526231787625,
          2627.526231787625,
          2627.526231787625,
          2627.526231787625,
          2627.526231787625,
          2627.526231787625,
          2627.526231787625,
          2627.526231787625,
          2627.526231787625,
          2627.526231787625,
          2627.526231787625,
          2627.526231787625,
          2627.526231787625,
          2627.526231787625,
          2627.526231787625,
          2627.526231787625,
          2627.526231787625,
          2627.526231787625,
          2627.526231787625,
          2627.526231787625,
          2627.526231787625,
          2627.526231787625,
          2627.526231787625,
          2627.526231787625,
          2627.526231787625,
          2627.526231787625,
          2627.526231787625,
          2627.526231787625,
          2627.526231787625,
          2627.526231787625,
          2627.526231787625,
          2627.526231787625,
          2627.526231787625,
          2627.526231787625,
          2627.526231787625,
          2627.526231787625,
          2627.526231787625,
          2627.526231787625,
          2627.526231787625,
          2627.526231787625,
          2627.526231787625,
          2627.526231787625,
          2627.526231787625,
          2627.526231787625,
          2627.526231787625,
          2627.526231787625,
          2627.526231787625,
          2627.526231787625,
          2627.526231787625,
          2627.526231787625,
          2627.526231787625,
          2627.526231787625,
          2627.526231787625,
          2660.8766185600043,
          2660.8766185600043,
          2660.8766185600043,
          2660.8766185600043,
          2660.8766185600043,
          2660.8766185600043,
          2660.8766185600043,
          2660.8766185600043,
          2660.8766185600043,
          2660.8766185600043,
          2660.8766185600043,
          2660.8766185600043,
          2660.8766185600043,
          2660.8766185600043,
          2660.8766185600043,
          2660.8766185600043,
          2660.8766185600043,
          2660.8766185600043,
          2660.8766185600043,
          2660.8766185600043,
          2660.8766185600043,
          2660.8766185600043,
          2660.8766185600043,
          2660.8766185600043,
          2660.8766185600043,
          2660.8766185600043,
          2660.8766185600043,
          2660.8766185600043,
          2660.8766185600043,
          2660.8766185600043,
          2660.8766185600043,
          2660.8766185600043,
          2660.8766185600043,
          2660.8766185600043,
          2660.8766185600043,
          2660.8766185600043,
          2660.8766185600043,
          2660.8766185600043,
          2660.8766185600043,
          2660.8766185600043,
          2660.8766185600043,
          2660.8766185600043,
          2660.8766185600043,
          2660.8766185600043,
          2660.8766185600043,
          2660.8766185600043,
          2660.8766185600043,
          2660.8766185600043,
          2660.8766185600043,
          2660.8766185600043,
          2660.8766185600043,
          2660.8766185600043,
          2660.8766185600043,
          2660.8766185600043,
          2660.8766185600043,
          2660.8766185600043,
          2660.8766185600043,
          2660.8766185600043,
          2660.8766185600043,
          2660.8766185600043,
          2660.8766185600043,
          2660.8766185600043,
          2660.8766185600043,
          2660.8766185600043,
          2660.8766185600043,
          2660.8766185600043,
          2660.8766185600043,
          2660.8766185600043,
          2660.8766185600043,
          2660.8766185600043,
          2660.8766185600043,
          2660.8766185600043,
          2660.8766185600043,
          2694.2270053323846,
          2694.2270053323846,
          2694.2270053323846,
          2694.2270053323846,
          2694.2270053323846,
          2694.2270053323846,
          2694.2270053323846,
          2694.2270053323846,
          2694.2270053323846,
          2694.2270053323846,
          2694.2270053323846,
          2694.2270053323846,
          2694.2270053323846,
          2694.2270053323846,
          2694.2270053323846,
          2694.2270053323846,
          2694.2270053323846,
          2694.2270053323846,
          2694.2270053323846,
          2694.2270053323846,
          2694.2270053323846,
          2694.2270053323846,
          2694.2270053323846,
          2694.2270053323846,
          2694.2270053323846,
          2694.2270053323846,
          2694.2270053323846,
          2694.2270053323846,
          2694.2270053323846,
          2694.2270053323846,
          2694.2270053323846,
          2694.2270053323846,
          2694.2270053323846,
          2694.2270053323846,
          2694.2270053323846,
          2694.2270053323846,
          2694.2270053323846,
          2694.2270053323846,
          2694.2270053323846,
          2694.2270053323846,
          2694.2270053323846,
          2694.2270053323846,
          2694.2270053323846,
          2694.2270053323846,
          2694.2270053323846,
          2694.2270053323846,
          2694.2270053323846,
          2694.2270053323846,
          2694.2270053323846,
          2694.2270053323846,
          2694.2270053323846,
          2694.2270053323846,
          2694.2270053323846,
          2694.2270053323846,
          2694.2270053323846,
          2694.2270053323846,
          2694.2270053323846,
          2694.2270053323846,
          2694.2270053323846,
          2694.2270053323846,
          2694.2270053323846,
          2694.2270053323846,
          2694.2270053323846,
          2694.2270053323846,
          2694.2270053323846,
          2694.2270053323846,
          2727.577392104764,
          2727.577392104764,
          2727.577392104764,
          2727.577392104764,
          2727.577392104764,
          2727.577392104764,
          2727.577392104764,
          2727.577392104764,
          2727.577392104764,
          2727.577392104764,
          2727.577392104764,
          2727.577392104764,
          2727.577392104764,
          2727.577392104764,
          2727.577392104764,
          2727.577392104764,
          2727.577392104764,
          2727.577392104764,
          2727.577392104764,
          2727.577392104764,
          2727.577392104764,
          2727.577392104764,
          2727.577392104764,
          2727.577392104764,
          2727.577392104764,
          2727.577392104764,
          2727.577392104764,
          2727.577392104764,
          2727.577392104764,
          2727.577392104764,
          2727.577392104764,
          2727.577392104764,
          2727.577392104764,
          2727.577392104764,
          2727.577392104764,
          2727.577392104764,
          2727.577392104764,
          2727.577392104764,
          2727.577392104764,
          2727.577392104764,
          2727.577392104764,
          2727.577392104764,
          2727.577392104764,
          2727.577392104764,
          2727.577392104764,
          2727.577392104764,
          2727.577392104764,
          2727.577392104764,
          2727.577392104764,
          2727.577392104764,
          2727.577392104764,
          2727.577392104764,
          2760.927778877144,
          2760.927778877144,
          2760.927778877144,
          2760.927778877144,
          2760.927778877144,
          2760.927778877144,
          2760.927778877144,
          2760.927778877144,
          2760.927778877144,
          2760.927778877144,
          2760.927778877144,
          2760.927778877144,
          2760.927778877144,
          2760.927778877144,
          2760.927778877144,
          2760.927778877144,
          2760.927778877144,
          2760.927778877144,
          2760.927778877144,
          2760.927778877144,
          2760.927778877144,
          2760.927778877144,
          2760.927778877144,
          2760.927778877144,
          2760.927778877144,
          2760.927778877144,
          2760.927778877144,
          2760.927778877144,
          2760.927778877144,
          2760.927778877144,
          2760.927778877144,
          2760.927778877144,
          2760.927778877144,
          2760.927778877144,
          2760.927778877144,
          2760.927778877144,
          2760.927778877144,
          2760.927778877144,
          2760.927778877144,
          2760.927778877144,
          2760.927778877144,
          2760.927778877144,
          2760.927778877144,
          2760.927778877144,
          2760.927778877144,
          2760.927778877144,
          2760.927778877144,
          2760.927778877144,
          2760.927778877144,
          2760.927778877144,
          2760.927778877144,
          2760.927778877144,
          2760.927778877144,
          2760.927778877144,
          2760.927778877144,
          2760.927778877144,
          2794.2781656495235,
          2794.2781656495235,
          2794.2781656495235,
          2794.2781656495235,
          2794.2781656495235,
          2794.2781656495235,
          2794.2781656495235,
          2794.2781656495235,
          2794.2781656495235,
          2794.2781656495235,
          2794.2781656495235,
          2794.2781656495235,
          2794.2781656495235,
          2794.2781656495235,
          2794.2781656495235,
          2794.2781656495235,
          2794.2781656495235,
          2794.2781656495235,
          2794.2781656495235,
          2794.2781656495235,
          2794.2781656495235,
          2794.2781656495235,
          2794.2781656495235,
          2794.2781656495235,
          2794.2781656495235,
          2794.2781656495235,
          2794.2781656495235,
          2794.2781656495235,
          2794.2781656495235,
          2794.2781656495235,
          2794.2781656495235,
          2794.2781656495235,
          2794.2781656495235,
          2794.2781656495235,
          2794.2781656495235,
          2794.2781656495235,
          2794.2781656495235,
          2794.2781656495235,
          2794.2781656495235,
          2794.2781656495235,
          2794.2781656495235,
          2794.2781656495235,
          2794.2781656495235,
          2794.2781656495235,
          2794.2781656495235,
          2794.2781656495235,
          2794.2781656495235,
          2794.2781656495235,
          2794.2781656495235,
          2794.2781656495235,
          2794.2781656495235,
          2794.2781656495235,
          2794.2781656495235,
          2794.2781656495235,
          2794.2781656495235,
          2794.2781656495235,
          2794.2781656495235,
          2794.2781656495235,
          2794.2781656495235,
          2794.2781656495235,
          2794.2781656495235,
          2794.2781656495235,
          2794.2781656495235,
          2794.2781656495235,
          2794.2781656495235,
          2827.628552421904,
          2827.628552421904,
          2827.628552421904,
          2827.628552421904,
          2827.628552421904,
          2827.628552421904,
          2827.628552421904,
          2827.628552421904,
          2827.628552421904,
          2827.628552421904,
          2827.628552421904,
          2827.628552421904,
          2827.628552421904,
          2827.628552421904,
          2827.628552421904,
          2827.628552421904,
          2827.628552421904,
          2827.628552421904,
          2827.628552421904,
          2827.628552421904,
          2827.628552421904,
          2827.628552421904,
          2827.628552421904,
          2827.628552421904,
          2827.628552421904,
          2827.628552421904,
          2827.628552421904,
          2827.628552421904,
          2827.628552421904,
          2827.628552421904,
          2827.628552421904,
          2827.628552421904,
          2827.628552421904,
          2827.628552421904,
          2827.628552421904,
          2827.628552421904,
          2827.628552421904,
          2827.628552421904,
          2827.628552421904,
          2827.628552421904,
          2827.628552421904,
          2827.628552421904,
          2827.628552421904,
          2827.628552421904,
          2827.628552421904,
          2827.628552421904,
          2827.628552421904,
          2827.628552421904,
          2827.628552421904,
          2827.628552421904,
          2827.628552421904,
          2827.628552421904,
          2827.628552421904,
          2827.628552421904,
          2827.628552421904,
          2827.628552421904,
          2827.628552421904,
          2827.628552421904,
          2827.628552421904,
          2827.628552421904,
          2827.628552421904,
          2860.978939194283,
          2860.978939194283,
          2860.978939194283,
          2860.978939194283,
          2860.978939194283,
          2860.978939194283,
          2860.978939194283,
          2860.978939194283,
          2860.978939194283,
          2860.978939194283,
          2860.978939194283,
          2860.978939194283,
          2860.978939194283,
          2860.978939194283,
          2860.978939194283,
          2860.978939194283,
          2860.978939194283,
          2860.978939194283,
          2860.978939194283,
          2860.978939194283,
          2860.978939194283,
          2860.978939194283,
          2860.978939194283,
          2860.978939194283,
          2860.978939194283,
          2860.978939194283,
          2860.978939194283,
          2860.978939194283,
          2860.978939194283,
          2860.978939194283,
          2860.978939194283,
          2860.978939194283,
          2860.978939194283,
          2860.978939194283,
          2860.978939194283,
          2860.978939194283,
          2860.978939194283,
          2860.978939194283,
          2860.978939194283,
          2860.978939194283,
          2860.978939194283,
          2860.978939194283,
          2860.978939194283,
          2860.978939194283,
          2860.978939194283,
          2860.978939194283,
          2860.978939194283,
          2860.978939194283,
          2860.978939194283,
          2860.978939194283,
          2860.978939194283,
          2860.978939194283,
          2860.978939194283,
          2860.978939194283,
          2860.978939194283,
          2860.978939194283,
          2860.978939194283,
          2860.978939194283,
          2894.3293259666625,
          2894.3293259666625,
          2894.3293259666625,
          2894.3293259666625,
          2894.3293259666625,
          2894.3293259666625,
          2894.3293259666625,
          2894.3293259666625,
          2894.3293259666625,
          2894.3293259666625,
          2894.3293259666625,
          2894.3293259666625,
          2894.3293259666625,
          2894.3293259666625,
          2894.3293259666625,
          2894.3293259666625,
          2894.3293259666625,
          2894.3293259666625,
          2894.3293259666625,
          2894.3293259666625,
          2894.3293259666625,
          2894.3293259666625,
          2894.3293259666625,
          2894.3293259666625,
          2894.3293259666625,
          2894.3293259666625,
          2894.3293259666625,
          2894.3293259666625,
          2894.3293259666625,
          2894.3293259666625,
          2894.3293259666625,
          2894.3293259666625,
          2894.3293259666625,
          2894.3293259666625,
          2894.3293259666625,
          2894.3293259666625,
          2894.3293259666625,
          2894.3293259666625,
          2894.3293259666625,
          2894.3293259666625,
          2894.3293259666625,
          2894.3293259666625,
          2894.3293259666625,
          2894.3293259666625,
          2894.3293259666625,
          2894.3293259666625,
          2927.6797127390428,
          2927.6797127390428,
          2927.6797127390428,
          2927.6797127390428,
          2927.6797127390428,
          2927.6797127390428,
          2927.6797127390428,
          2927.6797127390428,
          2927.6797127390428,
          2927.6797127390428,
          2927.6797127390428,
          2927.6797127390428,
          2927.6797127390428,
          2927.6797127390428,
          2927.6797127390428,
          2927.6797127390428,
          2927.6797127390428,
          2927.6797127390428,
          2927.6797127390428,
          2927.6797127390428,
          2927.6797127390428,
          2927.6797127390428,
          2927.6797127390428,
          2927.6797127390428,
          2927.6797127390428,
          2927.6797127390428,
          2927.6797127390428,
          2927.6797127390428,
          2927.6797127390428,
          2927.6797127390428,
          2927.6797127390428,
          2927.6797127390428,
          2927.6797127390428,
          2927.6797127390428,
          2927.6797127390428,
          2927.6797127390428,
          2927.6797127390428,
          2927.6797127390428,
          2961.030099511422,
          2961.030099511422,
          2961.030099511422,
          2961.030099511422,
          2961.030099511422,
          2961.030099511422,
          2961.030099511422,
          2961.030099511422,
          2961.030099511422,
          2961.030099511422,
          2961.030099511422,
          2961.030099511422,
          2961.030099511422,
          2961.030099511422,
          2961.030099511422,
          2961.030099511422,
          2961.030099511422,
          2961.030099511422,
          2961.030099511422,
          2961.030099511422,
          2961.030099511422,
          2961.030099511422,
          2961.030099511422,
          2961.030099511422,
          2961.030099511422,
          2961.030099511422,
          2961.030099511422,
          2961.030099511422,
          2961.030099511422,
          2961.030099511422,
          2961.030099511422,
          2961.030099511422,
          2961.030099511422,
          2961.030099511422,
          2961.030099511422,
          2961.030099511422,
          2961.030099511422,
          2961.030099511422,
          2961.030099511422,
          2961.030099511422,
          2961.030099511422,
          2961.030099511422,
          2961.030099511422,
          2961.030099511422,
          2961.030099511422,
          2961.030099511422,
          2961.030099511422,
          2994.3804862838024,
          2994.3804862838024,
          2994.3804862838024,
          2994.3804862838024,
          2994.3804862838024,
          2994.3804862838024,
          2994.3804862838024,
          2994.3804862838024,
          2994.3804862838024,
          2994.3804862838024,
          2994.3804862838024,
          2994.3804862838024,
          2994.3804862838024,
          2994.3804862838024,
          2994.3804862838024,
          2994.3804862838024,
          2994.3804862838024,
          2994.3804862838024,
          2994.3804862838024,
          2994.3804862838024,
          2994.3804862838024,
          2994.3804862838024,
          2994.3804862838024,
          2994.3804862838024,
          2994.3804862838024,
          2994.3804862838024,
          2994.3804862838024,
          2994.3804862838024,
          2994.3804862838024,
          2994.3804862838024,
          2994.3804862838024,
          2994.3804862838024,
          2994.3804862838024,
          2994.3804862838024,
          2994.3804862838024,
          2994.3804862838024,
          2994.3804862838024,
          2994.3804862838024,
          2994.3804862838024,
          2994.3804862838024,
          2994.3804862838024,
          2994.3804862838024,
          2994.3804862838024,
          2994.3804862838024,
          2994.3804862838024,
          2994.3804862838024,
          2994.3804862838024,
          2994.3804862838024,
          2994.3804862838024,
          2994.3804862838024,
          2994.3804862838024,
          2994.3804862838024,
          2994.3804862838024,
          2994.3804862838024,
          2994.3804862838024,
          2994.3804862838024,
          3027.7308730561817,
          3027.7308730561817,
          3027.7308730561817,
          3027.7308730561817,
          3027.7308730561817,
          3027.7308730561817,
          3027.7308730561817,
          3027.7308730561817,
          3027.7308730561817,
          3027.7308730561817,
          3027.7308730561817,
          3027.7308730561817,
          3027.7308730561817,
          3027.7308730561817,
          3027.7308730561817,
          3027.7308730561817,
          3027.7308730561817,
          3027.7308730561817,
          3027.7308730561817,
          3027.7308730561817,
          3027.7308730561817,
          3027.7308730561817,
          3027.7308730561817,
          3027.7308730561817,
          3027.7308730561817,
          3027.7308730561817,
          3027.7308730561817,
          3027.7308730561817,
          3027.7308730561817,
          3027.7308730561817,
          3027.7308730561817,
          3027.7308730561817,
          3027.7308730561817,
          3027.7308730561817,
          3027.7308730561817,
          3027.7308730561817,
          3027.7308730561817,
          3027.7308730561817,
          3027.7308730561817,
          3027.7308730561817,
          3027.7308730561817,
          3027.7308730561817,
          3027.7308730561817,
          3027.7308730561817,
          3061.081259828562,
          3061.081259828562,
          3061.081259828562,
          3061.081259828562,
          3061.081259828562,
          3061.081259828562,
          3061.081259828562,
          3061.081259828562,
          3061.081259828562,
          3061.081259828562,
          3061.081259828562,
          3061.081259828562,
          3061.081259828562,
          3061.081259828562,
          3061.081259828562,
          3061.081259828562,
          3061.081259828562,
          3061.081259828562,
          3061.081259828562,
          3061.081259828562,
          3061.081259828562,
          3061.081259828562,
          3061.081259828562,
          3061.081259828562,
          3061.081259828562,
          3061.081259828562,
          3061.081259828562,
          3061.081259828562,
          3061.081259828562,
          3061.081259828562,
          3061.081259828562,
          3061.081259828562,
          3061.081259828562,
          3061.081259828562,
          3061.081259828562,
          3061.081259828562,
          3061.081259828562,
          3061.081259828562,
          3061.081259828562,
          3061.081259828562,
          3061.081259828562,
          3094.4316466009413,
          3094.4316466009413,
          3094.4316466009413,
          3094.4316466009413,
          3094.4316466009413,
          3094.4316466009413,
          3094.4316466009413,
          3094.4316466009413,
          3094.4316466009413,
          3094.4316466009413,
          3094.4316466009413,
          3094.4316466009413,
          3094.4316466009413,
          3094.4316466009413,
          3094.4316466009413,
          3094.4316466009413,
          3094.4316466009413,
          3094.4316466009413,
          3094.4316466009413,
          3094.4316466009413,
          3094.4316466009413,
          3094.4316466009413,
          3094.4316466009413,
          3094.4316466009413,
          3094.4316466009413,
          3094.4316466009413,
          3094.4316466009413,
          3094.4316466009413,
          3094.4316466009413,
          3094.4316466009413,
          3094.4316466009413,
          3094.4316466009413,
          3094.4316466009413,
          3094.4316466009413,
          3094.4316466009413,
          3094.4316466009413,
          3094.4316466009413,
          3094.4316466009413,
          3094.4316466009413,
          3094.4316466009413,
          3094.4316466009413,
          3094.4316466009413,
          3127.7820333733216,
          3127.7820333733216,
          3127.7820333733216,
          3127.7820333733216,
          3127.7820333733216,
          3127.7820333733216,
          3127.7820333733216,
          3127.7820333733216,
          3127.7820333733216,
          3127.7820333733216,
          3127.7820333733216,
          3127.7820333733216,
          3127.7820333733216,
          3127.7820333733216,
          3127.7820333733216,
          3127.7820333733216,
          3127.7820333733216,
          3127.7820333733216,
          3127.7820333733216,
          3127.7820333733216,
          3127.7820333733216,
          3127.7820333733216,
          3127.7820333733216,
          3127.7820333733216,
          3127.7820333733216,
          3127.7820333733216,
          3127.7820333733216,
          3127.7820333733216,
          3127.7820333733216,
          3127.7820333733216,
          3127.7820333733216,
          3127.7820333733216,
          3127.7820333733216,
          3127.7820333733216,
          3161.132420145701,
          3161.132420145701,
          3161.132420145701,
          3161.132420145701,
          3161.132420145701,
          3161.132420145701,
          3161.132420145701,
          3161.132420145701,
          3161.132420145701,
          3161.132420145701,
          3161.132420145701,
          3161.132420145701,
          3161.132420145701,
          3161.132420145701,
          3161.132420145701,
          3161.132420145701,
          3161.132420145701,
          3161.132420145701,
          3161.132420145701,
          3161.132420145701,
          3161.132420145701,
          3161.132420145701,
          3161.132420145701,
          3161.132420145701,
          3161.132420145701,
          3161.132420145701,
          3161.132420145701,
          3161.132420145701,
          3161.132420145701,
          3161.132420145701,
          3161.132420145701,
          3194.482806918081,
          3194.482806918081,
          3194.482806918081,
          3194.482806918081,
          3194.482806918081,
          3194.482806918081,
          3194.482806918081,
          3194.482806918081,
          3194.482806918081,
          3194.482806918081,
          3194.482806918081,
          3194.482806918081,
          3194.482806918081,
          3194.482806918081,
          3194.482806918081,
          3194.482806918081,
          3194.482806918081,
          3194.482806918081,
          3194.482806918081,
          3194.482806918081,
          3194.482806918081,
          3194.482806918081,
          3194.482806918081,
          3194.482806918081,
          3194.482806918081,
          3194.482806918081,
          3194.482806918081,
          3194.482806918081,
          3194.482806918081,
          3194.482806918081,
          3194.482806918081,
          3194.482806918081,
          3194.482806918081,
          3194.482806918081,
          3194.482806918081,
          3194.482806918081,
          3227.8331936904606,
          3227.8331936904606,
          3227.8331936904606,
          3227.8331936904606,
          3227.8331936904606,
          3227.8331936904606,
          3227.8331936904606,
          3227.8331936904606,
          3227.8331936904606,
          3227.8331936904606,
          3227.8331936904606,
          3227.8331936904606,
          3227.8331936904606,
          3227.8331936904606,
          3227.8331936904606,
          3227.8331936904606,
          3227.8331936904606,
          3227.8331936904606,
          3227.8331936904606,
          3227.8331936904606,
          3227.8331936904606,
          3227.8331936904606,
          3227.8331936904606,
          3227.8331936904606,
          3227.8331936904606,
          3227.8331936904606,
          3227.8331936904606,
          3227.8331936904606,
          3227.8331936904606,
          3227.8331936904606,
          3261.183580462841,
          3261.183580462841,
          3261.183580462841,
          3261.183580462841,
          3261.183580462841,
          3261.183580462841,
          3261.183580462841,
          3261.183580462841,
          3261.183580462841,
          3261.183580462841,
          3261.183580462841,
          3261.183580462841,
          3261.183580462841,
          3261.183580462841,
          3261.183580462841,
          3261.183580462841,
          3261.183580462841,
          3261.183580462841,
          3261.183580462841,
          3261.183580462841,
          3261.183580462841,
          3261.183580462841,
          3261.183580462841,
          3261.183580462841,
          3294.53396723522,
          3294.53396723522,
          3294.53396723522,
          3294.53396723522,
          3294.53396723522,
          3294.53396723522,
          3294.53396723522,
          3294.53396723522,
          3294.53396723522,
          3294.53396723522,
          3294.53396723522,
          3294.53396723522,
          3294.53396723522,
          3294.53396723522,
          3294.53396723522,
          3294.53396723522,
          3294.53396723522,
          3294.53396723522,
          3294.53396723522,
          3294.53396723522,
          3294.53396723522,
          3294.53396723522,
          3294.53396723522,
          3294.53396723522,
          3294.53396723522,
          3294.53396723522,
          3294.53396723522,
          3294.53396723522,
          3294.53396723522,
          3294.53396723522,
          3294.53396723522,
          3294.53396723522,
          3294.53396723522,
          3327.8843540076005,
          3327.8843540076005,
          3327.8843540076005,
          3327.8843540076005,
          3327.8843540076005,
          3327.8843540076005,
          3327.8843540076005,
          3327.8843540076005,
          3327.8843540076005,
          3327.8843540076005,
          3327.8843540076005,
          3327.8843540076005,
          3327.8843540076005,
          3327.8843540076005,
          3327.8843540076005,
          3327.8843540076005,
          3327.8843540076005,
          3327.8843540076005,
          3327.8843540076005,
          3327.8843540076005,
          3327.8843540076005,
          3327.8843540076005,
          3327.8843540076005,
          3327.8843540076005,
          3327.8843540076005,
          3327.8843540076005,
          3327.8843540076005,
          3327.8843540076005,
          3327.8843540076005,
          3327.8843540076005,
          3327.8843540076005,
          3327.8843540076005,
          3327.8843540076005,
          3327.8843540076005,
          3327.8843540076005,
          3361.23474077998,
          3361.23474077998,
          3361.23474077998,
          3361.23474077998,
          3361.23474077998,
          3361.23474077998,
          3361.23474077998,
          3361.23474077998,
          3361.23474077998,
          3361.23474077998,
          3361.23474077998,
          3361.23474077998,
          3361.23474077998,
          3361.23474077998,
          3361.23474077998,
          3361.23474077998,
          3361.23474077998,
          3361.23474077998,
          3361.23474077998,
          3361.23474077998,
          3361.23474077998,
          3361.23474077998,
          3361.23474077998,
          3361.23474077998,
          3361.23474077998,
          3361.23474077998,
          3361.23474077998,
          3361.23474077998,
          3394.58512755236,
          3394.58512755236,
          3394.58512755236,
          3394.58512755236,
          3394.58512755236,
          3394.58512755236,
          3394.58512755236,
          3394.58512755236,
          3394.58512755236,
          3394.58512755236,
          3394.58512755236,
          3394.58512755236,
          3394.58512755236,
          3394.58512755236,
          3394.58512755236,
          3394.58512755236,
          3394.58512755236,
          3394.58512755236,
          3394.58512755236,
          3427.9355143247394,
          3427.9355143247394,
          3427.9355143247394,
          3427.9355143247394,
          3427.9355143247394,
          3427.9355143247394,
          3427.9355143247394,
          3427.9355143247394,
          3427.9355143247394,
          3427.9355143247394,
          3427.9355143247394,
          3427.9355143247394,
          3427.9355143247394,
          3427.9355143247394,
          3427.9355143247394,
          3427.9355143247394,
          3461.2859010971197,
          3461.2859010971197,
          3461.2859010971197,
          3461.2859010971197,
          3461.2859010971197,
          3461.2859010971197,
          3461.2859010971197,
          3461.2859010971197,
          3461.2859010971197,
          3461.2859010971197,
          3461.2859010971197,
          3461.2859010971197,
          3461.2859010971197,
          3461.2859010971197,
          3461.2859010971197,
          3461.2859010971197,
          3461.2859010971197,
          3461.2859010971197,
          3461.2859010971197,
          3461.2859010971197,
          3461.2859010971197,
          3461.2859010971197,
          3461.2859010971197,
          3461.2859010971197,
          3461.2859010971197,
          3461.2859010971197,
          3494.636287869499,
          3494.636287869499,
          3494.636287869499,
          3494.636287869499,
          3494.636287869499,
          3494.636287869499,
          3494.636287869499,
          3494.636287869499,
          3494.636287869499,
          3494.636287869499,
          3494.636287869499,
          3494.636287869499,
          3494.636287869499,
          3494.636287869499,
          3494.636287869499,
          3494.636287869499,
          3494.636287869499,
          3494.636287869499,
          3494.636287869499,
          3494.636287869499,
          3494.636287869499,
          3494.636287869499,
          3494.636287869499,
          3494.636287869499,
          3494.636287869499,
          3494.636287869499,
          3494.636287869499,
          3494.636287869499,
          3494.636287869499,
          3494.636287869499,
          3494.636287869499,
          3494.636287869499,
          3494.636287869499,
          3494.636287869499,
          3494.636287869499,
          3527.9866746418793,
          3527.9866746418793,
          3527.9866746418793,
          3527.9866746418793,
          3527.9866746418793,
          3527.9866746418793,
          3527.9866746418793,
          3527.9866746418793,
          3527.9866746418793,
          3527.9866746418793,
          3527.9866746418793,
          3527.9866746418793,
          3527.9866746418793,
          3527.9866746418793,
          3527.9866746418793,
          3561.3370614142586,
          3561.3370614142586,
          3561.3370614142586,
          3561.3370614142586,
          3561.3370614142586,
          3561.3370614142586,
          3561.3370614142586,
          3561.3370614142586,
          3561.3370614142586,
          3561.3370614142586,
          3561.3370614142586,
          3561.3370614142586,
          3561.3370614142586,
          3561.3370614142586,
          3561.3370614142586,
          3561.3370614142586,
          3561.3370614142586,
          3561.3370614142586,
          3561.3370614142586,
          3561.3370614142586,
          3594.687448186639,
          3594.687448186639,
          3594.687448186639,
          3594.687448186639,
          3594.687448186639,
          3594.687448186639,
          3594.687448186639,
          3594.687448186639,
          3594.687448186639,
          3594.687448186639,
          3594.687448186639,
          3594.687448186639,
          3594.687448186639,
          3594.687448186639,
          3594.687448186639,
          3594.687448186639,
          3594.687448186639,
          3594.687448186639,
          3594.687448186639,
          3594.687448186639,
          3594.687448186639,
          3594.687448186639,
          3594.687448186639,
          3594.687448186639,
          3594.687448186639,
          3594.687448186639,
          3594.687448186639,
          3594.687448186639,
          3594.687448186639,
          3594.687448186639,
          3628.0378349590183,
          3628.0378349590183,
          3628.0378349590183,
          3628.0378349590183,
          3628.0378349590183,
          3628.0378349590183,
          3628.0378349590183,
          3628.0378349590183,
          3628.0378349590183,
          3628.0378349590183,
          3628.0378349590183,
          3628.0378349590183,
          3628.0378349590183,
          3628.0378349590183,
          3628.0378349590183,
          3628.0378349590183,
          3628.0378349590183,
          3628.0378349590183,
          3628.0378349590183,
          3628.0378349590183,
          3628.0378349590183,
          3661.3882217313985,
          3661.3882217313985,
          3661.3882217313985,
          3661.3882217313985,
          3661.3882217313985,
          3661.3882217313985,
          3661.3882217313985,
          3661.3882217313985,
          3661.3882217313985,
          3661.3882217313985,
          3661.3882217313985,
          3661.3882217313985,
          3661.3882217313985,
          3661.3882217313985,
          3661.3882217313985,
          3661.3882217313985,
          3661.3882217313985,
          3661.3882217313985,
          3661.3882217313985,
          3694.738608503778,
          3694.738608503778,
          3694.738608503778,
          3694.738608503778,
          3694.738608503778,
          3694.738608503778,
          3694.738608503778,
          3694.738608503778,
          3694.738608503778,
          3694.738608503778,
          3694.738608503778,
          3694.738608503778,
          3694.738608503778,
          3694.738608503778,
          3694.738608503778,
          3694.738608503778,
          3694.738608503778,
          3694.738608503778,
          3728.088995276157,
          3728.088995276157,
          3728.088995276157,
          3728.088995276157,
          3728.088995276157,
          3728.088995276157,
          3728.088995276157,
          3728.088995276157,
          3728.088995276157,
          3728.088995276157,
          3728.088995276157,
          3728.088995276157,
          3728.088995276157,
          3728.088995276157,
          3728.088995276157,
          3761.4393820485375,
          3761.4393820485375,
          3761.4393820485375,
          3761.4393820485375,
          3761.4393820485375,
          3761.4393820485375,
          3761.4393820485375,
          3761.4393820485375,
          3761.4393820485375,
          3761.4393820485375,
          3761.4393820485375,
          3761.4393820485375,
          3761.4393820485375,
          3761.4393820485375,
          3761.4393820485375,
          3761.4393820485375,
          3761.4393820485375,
          3761.4393820485375,
          3794.789768820917,
          3794.789768820917,
          3794.789768820917,
          3794.789768820917,
          3794.789768820917,
          3794.789768820917,
          3794.789768820917,
          3794.789768820917,
          3794.789768820917,
          3794.789768820917,
          3794.789768820917,
          3828.140155593297,
          3828.140155593297,
          3828.140155593297,
          3828.140155593297,
          3828.140155593297,
          3828.140155593297,
          3828.140155593297,
          3828.140155593297,
          3828.140155593297,
          3828.140155593297,
          3828.140155593297,
          3828.140155593297,
          3828.140155593297,
          3828.140155593297,
          3828.140155593297,
          3861.4905423656764,
          3861.4905423656764,
          3861.4905423656764,
          3861.4905423656764,
          3861.4905423656764,
          3861.4905423656764,
          3861.4905423656764,
          3861.4905423656764,
          3861.4905423656764,
          3861.4905423656764,
          3861.4905423656764,
          3861.4905423656764,
          3861.4905423656764,
          3861.4905423656764,
          3861.4905423656764,
          3861.4905423656764,
          3861.4905423656764,
          3861.4905423656764,
          3861.4905423656764,
          3894.8409291380567,
          3894.8409291380567,
          3894.8409291380567,
          3894.8409291380567,
          3894.8409291380567,
          3894.8409291380567,
          3894.8409291380567,
          3894.8409291380567,
          3894.8409291380567,
          3894.8409291380567,
          3894.8409291380567,
          3894.8409291380567,
          3894.8409291380567,
          3928.191315910436,
          3928.191315910436,
          3928.191315910436,
          3928.191315910436,
          3928.191315910436,
          3928.191315910436,
          3928.191315910436,
          3928.191315910436,
          3928.191315910436,
          3928.191315910436,
          3928.191315910436,
          3928.191315910436,
          3928.191315910436,
          3961.5417026828163,
          3961.5417026828163,
          3961.5417026828163,
          3961.5417026828163,
          3961.5417026828163,
          3961.5417026828163,
          3961.5417026828163,
          3961.5417026828163,
          3961.5417026828163,
          3961.5417026828163,
          3994.8920894551957,
          3994.8920894551957,
          3994.8920894551957,
          3994.8920894551957,
          4028.242476227576,
          4028.242476227576,
          4028.242476227576,
          4028.242476227576,
          4028.242476227576,
          4028.242476227576,
          4028.242476227576,
          4028.242476227576,
          4028.242476227576,
          4028.242476227576,
          4028.242476227576,
          4028.242476227576,
          4028.242476227576,
          4028.242476227576,
          4028.242476227576,
          4028.242476227576,
          4028.242476227576,
          4061.5928629999553,
          4061.5928629999553,
          4061.5928629999553,
          4061.5928629999553,
          4061.5928629999553,
          4061.5928629999553,
          4061.5928629999553,
          4061.5928629999553,
          4061.5928629999553,
          4061.5928629999553,
          4061.5928629999553,
          4061.5928629999553,
          4061.5928629999553,
          4061.5928629999553,
          4094.9432497723355,
          4094.9432497723355,
          4094.9432497723355,
          4094.9432497723355,
          4094.9432497723355,
          4094.9432497723355,
          4094.9432497723355,
          4094.9432497723355,
          4128.293636544715,
          4128.293636544715,
          4128.293636544715,
          4128.293636544715,
          4128.293636544715,
          4128.293636544715,
          4128.293636544715,
          4128.293636544715,
          4128.293636544715,
          4128.293636544715,
          4161.644023317095,
          4161.644023317095,
          4161.644023317095,
          4161.644023317095,
          4161.644023317095,
          4161.644023317095,
          4161.644023317095,
          4161.644023317095,
          4161.644023317095,
          4161.644023317095,
          4194.9944100894745,
          4194.9944100894745,
          4194.9944100894745,
          4194.9944100894745,
          4194.9944100894745,
          4194.9944100894745,
          4194.9944100894745,
          4194.9944100894745,
          4194.9944100894745,
          4228.344796861855,
          4228.344796861855,
          4228.344796861855,
          4228.344796861855,
          4228.344796861855,
          4228.344796861855,
          4228.344796861855,
          4228.344796861855,
          4261.695183634234,
          4261.695183634234,
          4261.695183634234,
          4261.695183634234,
          4261.695183634234,
          4261.695183634234,
          4261.695183634234,
          4261.695183634234,
          4295.045570406614,
          4295.045570406614,
          4295.045570406614,
          4295.045570406614,
          4295.045570406614,
          4295.045570406614,
          4295.045570406614,
          4295.045570406614,
          4295.045570406614,
          4295.045570406614,
          4328.395957178994,
          4328.395957178994,
          4328.395957178994,
          4328.395957178994,
          4328.395957178994,
          4328.395957178994,
          4328.395957178994,
          4328.395957178994,
          4328.395957178994,
          4361.746343951374,
          4361.746343951374,
          4361.746343951374,
          4361.746343951374,
          4361.746343951374,
          4361.746343951374,
          4395.096730723753,
          4395.096730723753,
          4395.096730723753,
          4395.096730723753,
          4395.096730723753,
          4428.447117496134,
          4428.447117496134,
          4428.447117496134,
          4428.447117496134,
          4428.447117496134,
          4428.447117496134,
          4428.447117496134,
          4461.797504268513,
          4461.797504268513,
          4461.797504268513,
          4461.797504268513,
          4461.797504268513,
          4461.797504268513,
          4461.797504268513,
          4495.147891040893,
          4495.147891040893,
          4495.147891040893,
          4495.147891040893,
          4495.147891040893,
          4495.147891040893,
          4495.147891040893,
          4528.498277813273,
          4528.498277813273,
          4528.498277813273,
          4528.498277813273,
          4528.498277813273,
          4561.848664585652,
          4561.848664585652,
          4561.848664585652,
          4561.848664585652,
          4561.848664585652,
          4595.199051358032,
          4595.199051358032,
          4595.199051358032,
          4595.199051358032,
          4595.199051358032,
          4595.199051358032,
          4628.5494381304115,
          4628.5494381304115,
          4628.5494381304115,
          4628.5494381304115,
          4628.5494381304115,
          4628.5494381304115,
          4628.5494381304115,
          4661.899824902792,
          4661.899824902792,
          4661.899824902792,
          4661.899824902792,
          4695.250211675171,
          4695.250211675171,
          4695.250211675171,
          4728.600598447551,
          4728.600598447551,
          4728.600598447551,
          4728.600598447551,
          4761.950985219931,
          4761.950985219931,
          4761.950985219931,
          4761.950985219931,
          4761.950985219931,
          4795.301371992311,
          4795.301371992311,
          4795.301371992311,
          4795.301371992311,
          4795.301371992311,
          4795.301371992311,
          4795.301371992311,
          4795.301371992311,
          4828.65175876469,
          4828.65175876469,
          4828.65175876469,
          4828.65175876469,
          4828.65175876469,
          4828.65175876469,
          4862.002145537071,
          4895.35253230945,
          4895.35253230945,
          4895.35253230945,
          4895.35253230945,
          4895.35253230945,
          4895.35253230945,
          4895.35253230945,
          4895.35253230945,
          4895.35253230945,
          4928.70291908183,
          4928.70291908183,
          4928.70291908183,
          4962.05330585421,
          4962.05330585421,
          4962.05330585421,
          4962.05330585421,
          4995.40369262659,
          4995.40369262659,
          5028.754079398969,
          5028.754079398969,
          5028.754079398969,
          5062.1044661713495,
          5062.1044661713495,
          5128.805239716109,
          5128.805239716109,
          5162.155626488488,
          5162.155626488488,
          5162.155626488488,
          5162.155626488488,
          5195.506013260869,
          5195.506013260869,
          5195.506013260869,
          5195.506013260869,
          5228.856400033248,
          5228.856400033248,
          5228.856400033248,
          5262.206786805628,
          5262.206786805628,
          5262.206786805628,
          5262.206786805628,
          5262.206786805628,
          5262.206786805628,
          5262.206786805628,
          5295.557173578008,
          5295.557173578008,
          5295.557173578008,
          5328.907560350387,
          5328.907560350387,
          5328.907560350387,
          5328.907560350387,
          5362.257947122767,
          5362.257947122767,
          5395.608333895147,
          5395.608333895147,
          5395.608333895147,
          5395.608333895147,
          5428.958720667527,
          5428.958720667527,
          5428.958720667527,
          5428.958720667527,
          5462.309107439906,
          5462.309107439906,
          5495.6594942122865,
          5495.6594942122865,
          5495.6594942122865,
          5495.6594942122865,
          5495.6594942122865,
          5495.6594942122865,
          5495.6594942122865,
          5529.009880984666,
          5529.009880984666,
          5529.009880984666,
          5562.360267757046,
          5562.360267757046,
          5562.360267757046,
          5562.360267757046,
          5595.7106545294255,
          5595.7106545294255,
          5595.7106545294255,
          5629.061041301806,
          5629.061041301806,
          5662.411428074185,
          5662.411428074185,
          5695.761814846565,
          5695.761814846565,
          5729.112201618945,
          5762.462588391325,
          5762.462588391325,
          5795.812975163704,
          5795.812975163704,
          5829.163361936085,
          5829.163361936085,
          5895.864135480844,
          5929.214522253224,
          5962.564909025604,
          5995.915295797983,
          6095.966456115123,
          6129.316842887502,
          6196.017616432262,
          6196.017616432262,
          6229.368003204641,
          6229.368003204641,
          6229.368003204641,
          6262.718389977022,
          6296.068776749401,
          6396.119937066541,
          6396.119937066541,
          6396.119937066541,
          6429.47032383892,
          6429.47032383892,
          6496.171097383681,
          6529.52148415606,
          6562.871870928439,
          6596.222257700819,
          6629.5726444732,
          6662.923031245579,
          6662.923031245579,
          6796.3245783350985,
          6829.674965107478,
          6829.674965107478,
          7063.127672514137,
          7063.127672514137,
          7096.478059286516,
          7129.828446058896,
          7163.178832831275,
          7296.580379920794,
          7496.682700555074,
          7530.033087327453,
          7563.383474099833,
          7763.4857947341125,
          7763.4857947341125,
          7830.186568278871,
          7963.58811536839,
          7963.58811536839,
          7996.93850214077,
          8363.792756636947,
          9030.800492084545,
          9264.253199491202,
          9297.603586263584,
          10231.414415890216,
          11432.028339695888,
          12465.890329639664,
          12699.343037046321,
          14100.059281486272
         ],
         "yaxis": "y",
         "type": "scattergl"
        }
       ],
       "layout": {
        "template": {
         "data": {
          "histogram2dcontour": [
           {
            "type": "histogram2dcontour",
            "colorbar": {
             "outlinewidth": 0,
             "ticks": ""
            },
            "colorscale": [
             [
              0.0,
              "#0d0887"
             ],
             [
              0.1111111111111111,
              "#46039f"
             ],
             [
              0.2222222222222222,
              "#7201a8"
             ],
             [
              0.3333333333333333,
              "#9c179e"
             ],
             [
              0.4444444444444444,
              "#bd3786"
             ],
             [
              0.5555555555555556,
              "#d8576b"
             ],
             [
              0.6666666666666666,
              "#ed7953"
             ],
             [
              0.7777777777777778,
              "#fb9f3a"
             ],
             [
              0.8888888888888888,
              "#fdca26"
             ],
             [
              1.0,
              "#f0f921"
             ]
            ]
           }
          ],
          "choropleth": [
           {
            "type": "choropleth",
            "colorbar": {
             "outlinewidth": 0,
             "ticks": ""
            }
           }
          ],
          "histogram2d": [
           {
            "type": "histogram2d",
            "colorbar": {
             "outlinewidth": 0,
             "ticks": ""
            },
            "colorscale": [
             [
              0.0,
              "#0d0887"
             ],
             [
              0.1111111111111111,
              "#46039f"
             ],
             [
              0.2222222222222222,
              "#7201a8"
             ],
             [
              0.3333333333333333,
              "#9c179e"
             ],
             [
              0.4444444444444444,
              "#bd3786"
             ],
             [
              0.5555555555555556,
              "#d8576b"
             ],
             [
              0.6666666666666666,
              "#ed7953"
             ],
             [
              0.7777777777777778,
              "#fb9f3a"
             ],
             [
              0.8888888888888888,
              "#fdca26"
             ],
             [
              1.0,
              "#f0f921"
             ]
            ]
           }
          ],
          "heatmap": [
           {
            "type": "heatmap",
            "colorbar": {
             "outlinewidth": 0,
             "ticks": ""
            },
            "colorscale": [
             [
              0.0,
              "#0d0887"
             ],
             [
              0.1111111111111111,
              "#46039f"
             ],
             [
              0.2222222222222222,
              "#7201a8"
             ],
             [
              0.3333333333333333,
              "#9c179e"
             ],
             [
              0.4444444444444444,
              "#bd3786"
             ],
             [
              0.5555555555555556,
              "#d8576b"
             ],
             [
              0.6666666666666666,
              "#ed7953"
             ],
             [
              0.7777777777777778,
              "#fb9f3a"
             ],
             [
              0.8888888888888888,
              "#fdca26"
             ],
             [
              1.0,
              "#f0f921"
             ]
            ]
           }
          ],
          "heatmapgl": [
           {
            "type": "heatmapgl",
            "colorbar": {
             "outlinewidth": 0,
             "ticks": ""
            },
            "colorscale": [
             [
              0.0,
              "#0d0887"
             ],
             [
              0.1111111111111111,
              "#46039f"
             ],
             [
              0.2222222222222222,
              "#7201a8"
             ],
             [
              0.3333333333333333,
              "#9c179e"
             ],
             [
              0.4444444444444444,
              "#bd3786"
             ],
             [
              0.5555555555555556,
              "#d8576b"
             ],
             [
              0.6666666666666666,
              "#ed7953"
             ],
             [
              0.7777777777777778,
              "#fb9f3a"
             ],
             [
              0.8888888888888888,
              "#fdca26"
             ],
             [
              1.0,
              "#f0f921"
             ]
            ]
           }
          ],
          "contourcarpet": [
           {
            "type": "contourcarpet",
            "colorbar": {
             "outlinewidth": 0,
             "ticks": ""
            }
           }
          ],
          "contour": [
           {
            "type": "contour",
            "colorbar": {
             "outlinewidth": 0,
             "ticks": ""
            },
            "colorscale": [
             [
              0.0,
              "#0d0887"
             ],
             [
              0.1111111111111111,
              "#46039f"
             ],
             [
              0.2222222222222222,
              "#7201a8"
             ],
             [
              0.3333333333333333,
              "#9c179e"
             ],
             [
              0.4444444444444444,
              "#bd3786"
             ],
             [
              0.5555555555555556,
              "#d8576b"
             ],
             [
              0.6666666666666666,
              "#ed7953"
             ],
             [
              0.7777777777777778,
              "#fb9f3a"
             ],
             [
              0.8888888888888888,
              "#fdca26"
             ],
             [
              1.0,
              "#f0f921"
             ]
            ]
           }
          ],
          "surface": [
           {
            "type": "surface",
            "colorbar": {
             "outlinewidth": 0,
             "ticks": ""
            },
            "colorscale": [
             [
              0.0,
              "#0d0887"
             ],
             [
              0.1111111111111111,
              "#46039f"
             ],
             [
              0.2222222222222222,
              "#7201a8"
             ],
             [
              0.3333333333333333,
              "#9c179e"
             ],
             [
              0.4444444444444444,
              "#bd3786"
             ],
             [
              0.5555555555555556,
              "#d8576b"
             ],
             [
              0.6666666666666666,
              "#ed7953"
             ],
             [
              0.7777777777777778,
              "#fb9f3a"
             ],
             [
              0.8888888888888888,
              "#fdca26"
             ],
             [
              1.0,
              "#f0f921"
             ]
            ]
           }
          ],
          "mesh3d": [
           {
            "type": "mesh3d",
            "colorbar": {
             "outlinewidth": 0,
             "ticks": ""
            }
           }
          ],
          "scatter": [
           {
            "fillpattern": {
             "fillmode": "overlay",
             "size": 10,
             "solidity": 0.2
            },
            "type": "scatter"
           }
          ],
          "parcoords": [
           {
            "type": "parcoords",
            "line": {
             "colorbar": {
              "outlinewidth": 0,
              "ticks": ""
             }
            }
           }
          ],
          "scatterpolargl": [
           {
            "type": "scatterpolargl",
            "marker": {
             "colorbar": {
              "outlinewidth": 0,
              "ticks": ""
             }
            }
           }
          ],
          "bar": [
           {
            "error_x": {
             "color": "#2a3f5f"
            },
            "error_y": {
             "color": "#2a3f5f"
            },
            "marker": {
             "line": {
              "color": "#E5ECF6",
              "width": 0.5
             },
             "pattern": {
              "fillmode": "overlay",
              "size": 10,
              "solidity": 0.2
             }
            },
            "type": "bar"
           }
          ],
          "scattergeo": [
           {
            "type": "scattergeo",
            "marker": {
             "colorbar": {
              "outlinewidth": 0,
              "ticks": ""
             }
            }
           }
          ],
          "scatterpolar": [
           {
            "type": "scatterpolar",
            "marker": {
             "colorbar": {
              "outlinewidth": 0,
              "ticks": ""
             }
            }
           }
          ],
          "histogram": [
           {
            "marker": {
             "pattern": {
              "fillmode": "overlay",
              "size": 10,
              "solidity": 0.2
             }
            },
            "type": "histogram"
           }
          ],
          "scattergl": [
           {
            "type": "scattergl",
            "marker": {
             "colorbar": {
              "outlinewidth": 0,
              "ticks": ""
             }
            }
           }
          ],
          "scatter3d": [
           {
            "type": "scatter3d",
            "line": {
             "colorbar": {
              "outlinewidth": 0,
              "ticks": ""
             }
            },
            "marker": {
             "colorbar": {
              "outlinewidth": 0,
              "ticks": ""
             }
            }
           }
          ],
          "scattermapbox": [
           {
            "type": "scattermapbox",
            "marker": {
             "colorbar": {
              "outlinewidth": 0,
              "ticks": ""
             }
            }
           }
          ],
          "scatterternary": [
           {
            "type": "scatterternary",
            "marker": {
             "colorbar": {
              "outlinewidth": 0,
              "ticks": ""
             }
            }
           }
          ],
          "scattercarpet": [
           {
            "type": "scattercarpet",
            "marker": {
             "colorbar": {
              "outlinewidth": 0,
              "ticks": ""
             }
            }
           }
          ],
          "carpet": [
           {
            "aaxis": {
             "endlinecolor": "#2a3f5f",
             "gridcolor": "white",
             "linecolor": "white",
             "minorgridcolor": "white",
             "startlinecolor": "#2a3f5f"
            },
            "baxis": {
             "endlinecolor": "#2a3f5f",
             "gridcolor": "white",
             "linecolor": "white",
             "minorgridcolor": "white",
             "startlinecolor": "#2a3f5f"
            },
            "type": "carpet"
           }
          ],
          "table": [
           {
            "cells": {
             "fill": {
              "color": "#EBF0F8"
             },
             "line": {
              "color": "white"
             }
            },
            "header": {
             "fill": {
              "color": "#C8D4E3"
             },
             "line": {
              "color": "white"
             }
            },
            "type": "table"
           }
          ],
          "barpolar": [
           {
            "marker": {
             "line": {
              "color": "#E5ECF6",
              "width": 0.5
             },
             "pattern": {
              "fillmode": "overlay",
              "size": 10,
              "solidity": 0.2
             }
            },
            "type": "barpolar"
           }
          ],
          "pie": [
           {
            "automargin": true,
            "type": "pie"
           }
          ]
         },
         "layout": {
          "autotypenumbers": "strict",
          "colorway": [
           "#636efa",
           "#EF553B",
           "#00cc96",
           "#ab63fa",
           "#FFA15A",
           "#19d3f3",
           "#FF6692",
           "#B6E880",
           "#FF97FF",
           "#FECB52"
          ],
          "font": {
           "color": "#2a3f5f"
          },
          "hovermode": "closest",
          "hoverlabel": {
           "align": "left"
          },
          "paper_bgcolor": "white",
          "plot_bgcolor": "#E5ECF6",
          "polar": {
           "bgcolor": "#E5ECF6",
           "angularaxis": {
            "gridcolor": "white",
            "linecolor": "white",
            "ticks": ""
           },
           "radialaxis": {
            "gridcolor": "white",
            "linecolor": "white",
            "ticks": ""
           }
          },
          "ternary": {
           "bgcolor": "#E5ECF6",
           "aaxis": {
            "gridcolor": "white",
            "linecolor": "white",
            "ticks": ""
           },
           "baxis": {
            "gridcolor": "white",
            "linecolor": "white",
            "ticks": ""
           },
           "caxis": {
            "gridcolor": "white",
            "linecolor": "white",
            "ticks": ""
           }
          },
          "coloraxis": {
           "colorbar": {
            "outlinewidth": 0,
            "ticks": ""
           }
          },
          "colorscale": {
           "sequential": [
            [
             0.0,
             "#0d0887"
            ],
            [
             0.1111111111111111,
             "#46039f"
            ],
            [
             0.2222222222222222,
             "#7201a8"
            ],
            [
             0.3333333333333333,
             "#9c179e"
            ],
            [
             0.4444444444444444,
             "#bd3786"
            ],
            [
             0.5555555555555556,
             "#d8576b"
            ],
            [
             0.6666666666666666,
             "#ed7953"
            ],
            [
             0.7777777777777778,
             "#fb9f3a"
            ],
            [
             0.8888888888888888,
             "#fdca26"
            ],
            [
             1.0,
             "#f0f921"
            ]
           ],
           "sequentialminus": [
            [
             0.0,
             "#0d0887"
            ],
            [
             0.1111111111111111,
             "#46039f"
            ],
            [
             0.2222222222222222,
             "#7201a8"
            ],
            [
             0.3333333333333333,
             "#9c179e"
            ],
            [
             0.4444444444444444,
             "#bd3786"
            ],
            [
             0.5555555555555556,
             "#d8576b"
            ],
            [
             0.6666666666666666,
             "#ed7953"
            ],
            [
             0.7777777777777778,
             "#fb9f3a"
            ],
            [
             0.8888888888888888,
             "#fdca26"
            ],
            [
             1.0,
             "#f0f921"
            ]
           ],
           "diverging": [
            [
             0,
             "#8e0152"
            ],
            [
             0.1,
             "#c51b7d"
            ],
            [
             0.2,
             "#de77ae"
            ],
            [
             0.3,
             "#f1b6da"
            ],
            [
             0.4,
             "#fde0ef"
            ],
            [
             0.5,
             "#f7f7f7"
            ],
            [
             0.6,
             "#e6f5d0"
            ],
            [
             0.7,
             "#b8e186"
            ],
            [
             0.8,
             "#7fbc41"
            ],
            [
             0.9,
             "#4d9221"
            ],
            [
             1,
             "#276419"
            ]
           ]
          },
          "xaxis": {
           "gridcolor": "white",
           "linecolor": "white",
           "ticks": "",
           "title": {
            "standoff": 15
           },
           "zerolinecolor": "white",
           "automargin": true,
           "zerolinewidth": 2
          },
          "yaxis": {
           "gridcolor": "white",
           "linecolor": "white",
           "ticks": "",
           "title": {
            "standoff": 15
           },
           "zerolinecolor": "white",
           "automargin": true,
           "zerolinewidth": 2
          },
          "scene": {
           "xaxis": {
            "backgroundcolor": "#E5ECF6",
            "gridcolor": "white",
            "linecolor": "white",
            "showbackground": true,
            "ticks": "",
            "zerolinecolor": "white",
            "gridwidth": 2
           },
           "yaxis": {
            "backgroundcolor": "#E5ECF6",
            "gridcolor": "white",
            "linecolor": "white",
            "showbackground": true,
            "ticks": "",
            "zerolinecolor": "white",
            "gridwidth": 2
           },
           "zaxis": {
            "backgroundcolor": "#E5ECF6",
            "gridcolor": "white",
            "linecolor": "white",
            "showbackground": true,
            "ticks": "",
            "zerolinecolor": "white",
            "gridwidth": 2
           }
          },
          "shapedefaults": {
           "line": {
            "color": "#2a3f5f"
           }
          },
          "annotationdefaults": {
           "arrowcolor": "#2a3f5f",
           "arrowhead": 0,
           "arrowwidth": 1
          },
          "geo": {
           "bgcolor": "white",
           "landcolor": "#E5ECF6",
           "subunitcolor": "white",
           "showland": true,
           "showlakes": true,
           "lakecolor": "white"
          },
          "title": {
           "x": 0.05
          },
          "mapbox": {
           "style": "light"
          }
         }
        },
        "xaxis": {
         "anchor": "y",
         "domain": [
          0.0,
          1.0
         ],
         "title": {
          "text": "upvotes"
         }
        },
        "yaxis": {
         "anchor": "x",
         "domain": [
          0.0,
          1.0
         ],
         "title": {
          "text": "comments"
         }
        },
        "legend": {
         "tracegroupgap": 0
        },
        "margin": {
         "t": 60
        }
       },
       "config": {
        "plotlyServerURL": "https://plot.ly"
       }
      },
      "text/html": "<div>                            <div id=\"0b3073d1-dfed-4b24-8bec-fe46365b529c\" class=\"plotly-graph-div\" style=\"height:525px; width:100%;\"></div>            <script type=\"text/javascript\">                require([\"plotly\"], function(Plotly) {                    window.PLOTLYENV=window.PLOTLYENV || {};                                    if (document.getElementById(\"0b3073d1-dfed-4b24-8bec-fe46365b529c\")) {                    Plotly.newPlot(                        \"0b3073d1-dfed-4b24-8bec-fe46365b529c\",                        [{\"hovertemplate\":\"upvotes=%{x}\\u003cbr\\u003ecomments=%{y}\\u003cextra\\u003e\\u003c\\u002fextra\\u003e\",\"legendgroup\":\"\",\"marker\":{\"color\":\"#636efa\",\"symbol\":\"circle\"},\"mode\":\"markers\",\"name\":\"\",\"showlegend\":false,\"x\":[439000.0,481000.0,365000.0,432000.0,336000.0,309000.0,401000.0,284000.0,297000.0,298000.0,329000.0,272000.0,337000.0,270000.0,283000.0,263000.0,293000.0,258000.0,256000.0,285000.0,262000.0,250000.0,297000.0,250000.0,250000.0,291000.0,273000.0,241000.0,237000.0,291000.0,236000.0,277000.0,235000.0,263000.0,254000.0,233000.0,232000.0,270000.0,231000.0,271000.0,255000.0,229000.0,244000.0,227000.0,226000.0,226000.0,251000.0,224000.0,224000.0,223000.0,228000.0,224000.0,223000.0,223000.0,222000.0,253000.0,246000.0,221000.0,219000.0,258000.0,219000.0,251000.0,223000.0,218000.0,257000.0,244000.0,245000.0,217000.0,223000.0,216000.0,238000.0,216000.0,220000.0,216000.0,242000.0,218000.0,214000.0,214000.0,214000.0,213000.0,213000.0,213000.0,217000.0,245000.0,220000.0,216000.0,212000.0,215000.0,227000.0,245000.0,215000.0,222000.0,247000.0,209000.0,231000.0,207000.0,207000.0,206000.0,218000.0,206000.0,228000.0,225000.0,205000.0,205000.0,205000.0,223000.0,205000.0,233000.0,210000.0,229000.0,203000.0,203000.0,203000.0,202000.0,202000.0,226000.0,202000.0,202000.0,202000.0,221000.0,201000.0,225000.0,204000.0,220000.0,200000.0,205000.0,199000.0,221000.0,213000.0,199000.0,198000.0,198000.0,203000.0,218000.0,197000.0,216000.0,197000.0,232000.0,197000.0,217000.0,216000.0,196000.0,216000.0,225000.0,197000.0,200000.0,205000.0,194000.0,210000.0,201000.0,208000.0,193000.0,193000.0,193000.0,215000.0,193000.0,197000.0,193000.0,192000.0,225000.0,196000.0,209000.0,207000.0,203000.0,191000.0,205000.0,191000.0,191000.0,206000.0,201000.0,221000.0,194000.0,207000.0,214000.0,190000.0,220000.0,205000.0,212000.0,189000.0,189000.0,188000.0,188000.0,203000.0,188000.0,188000.0,188000.0,188000.0,202000.0,187000.0,200000.0,189000.0,201000.0,202000.0,193000.0,201000.0,208000.0,186000.0,209000.0,186000.0,186000.0,189000.0,186000.0,198000.0,223000.0,185000.0,187000.0,195000.0,187000.0,199000.0,192000.0,192000.0,184000.0,192000.0,187000.0,184000.0,184000.0,184000.0,195000.0,197000.0,195000.0,194000.0,183000.0,183000.0,196000.0,202000.0,189000.0,195000.0,192000.0,182000.0,183000.0,182000.0,182000.0,182000.0,185000.0,195000.0,191000.0,194000.0,182000.0,196000.0,181000.0,191000.0,190000.0,198000.0,180000.0,180000.0,180000.0,179000.0,179000.0,179000.0,188000.0,181000.0,179000.0,179000.0,185000.0,190000.0,182000.0,179000.0,192000.0,178000.0,178000.0,178000.0,187000.0,187000.0,187000.0,196000.0,186000.0,184000.0,188000.0,193000.0,186000.0,205000.0,177000.0,180000.0,177000.0,179000.0,187000.0,176000.0,180000.0,185000.0,200000.0,176000.0,183000.0,185000.0,184000.0,190000.0,176000.0,185000.0,185000.0,176000.0,176000.0,179000.0,192000.0,175000.0,175000.0,186000.0,175000.0,175000.0,175000.0,187000.0,179000.0,187000.0,183000.0,175000.0,177000.0,183000.0,175000.0,174000.0,190000.0,174000.0,174000.0,191000.0,174000.0,177000.0,174000.0,179000.0,174000.0,174000.0,180000.0,174000.0,175000.0,184000.0,188000.0,186000.0,173000.0,173000.0,173000.0,180000.0,181000.0,180000.0,179000.0,173000.0,179000.0,197000.0,172000.0,172000.0,179000.0,184000.0,183000.0,173000.0,177000.0,176000.0,173000.0,171000.0,171000.0,171000.0,179000.0,173000.0,181000.0,196000.0,189000.0,180000.0,181000.0,180000.0,180000.0,181000.0,182000.0,173000.0,170000.0,178000.0,183000.0,180000.0,179000.0,175000.0,169000.0,169000.0,169000.0,191000.0,174000.0,180000.0,175000.0,175000.0,171000.0,169000.0,169000.0,169000.0,172000.0,169000.0,177000.0,182000.0,174000.0,170000.0,174000.0,168000.0,179000.0,174000.0,173000.0,173000.0,173000.0,168000.0,177000.0,172000.0,168000.0,182000.0,168000.0,174000.0,172000.0,172000.0,173000.0,168000.0,173000.0,181000.0,167000.0,167000.0,169000.0,167000.0,177000.0,171000.0,180000.0,174000.0,175000.0,167000.0,167000.0,169000.0,167000.0,171000.0,167000.0,173000.0,168000.0,173000.0,166000.0,167000.0,166000.0,174000.0,179000.0,166000.0,170000.0,166000.0,166000.0,171000.0,171000.0,172000.0,166000.0,166000.0,166000.0,176000.0,177000.0,171000.0,169000.0,166000.0,165000.0,165000.0,185000.0,171000.0,165000.0,175000.0,168000.0,169000.0,176000.0,166000.0,168000.0,165000.0,174000.0,165000.0,165000.0,172000.0,230000.0,167000.0,166000.0,166000.0,164000.0,168000.0,164000.0,170000.0,164000.0,168000.0,164000.0,171000.0,167000.0,163000.0,163000.0,183000.0,163000.0,163000.0,176000.0,163000.0,176000.0,163000.0,165000.0,163000.0,171000.0,172000.0,167000.0,167000.0,163000.0,166000.0,163000.0,167000.0,167000.0,174000.0,167000.0,171000.0,166000.0,167000.0,163000.0,163000.0,166000.0,163000.0,168000.0,166000.0,163000.0,165000.0,170000.0,162000.0,165000.0,162000.0,169000.0,162000.0,162000.0,163000.0,164000.0,162000.0,162000.0,174000.0,165000.0,167000.0,171000.0,170000.0,162000.0,163000.0,162000.0,166000.0,164000.0,162000.0,162000.0,162000.0,165000.0,161000.0,162000.0,163000.0,167000.0,172000.0,176000.0,184000.0,162000.0,165000.0,161000.0,164000.0,170000.0,161000.0,166000.0,163000.0,160000.0,162000.0,160000.0,172000.0,176000.0,171000.0,163000.0,170000.0,163000.0,160000.0,183000.0,163000.0,160000.0,162000.0,166000.0,161000.0,169000.0,163000.0,182000.0,170000.0,162000.0,170000.0,166000.0,161000.0,159000.0,159000.0,165000.0,166000.0,166000.0,160000.0,163000.0,171000.0,166000.0,166000.0,159000.0,159000.0,165000.0,159000.0,170000.0,177000.0,160000.0,165000.0,166000.0,163000.0,159000.0,168000.0,168000.0,161000.0,159000.0,158000.0,167000.0,162000.0,174000.0,161000.0,165000.0,160000.0,158000.0,163000.0,158000.0,166000.0,158000.0,159000.0,163000.0,160000.0,158000.0,159000.0,170000.0,158000.0,171000.0,158000.0,159000.0,163000.0,158000.0,158000.0,158000.0,158000.0,161000.0,169000.0,165000.0,158000.0,158000.0,158000.0,164000.0,157000.0,161000.0,166000.0,157000.0,158000.0,157000.0,161000.0,164000.0,159000.0,157000.0,157000.0,162000.0,159000.0,157000.0,165000.0,158000.0,159000.0,159000.0,181000.0,160000.0,160000.0,157000.0,158000.0,157000.0,157000.0,176000.0,163000.0,167000.0,156000.0,156000.0,163000.0,157000.0,158000.0,156000.0,170000.0,163000.0,156000.0,158000.0,163000.0,163000.0,164000.0,158000.0,157000.0,159000.0,156000.0,162000.0,156000.0,159000.0,163000.0,157000.0,164000.0,156000.0,160000.0,157000.0,158000.0,156000.0,163000.0,169000.0,170000.0,160000.0,160000.0,158000.0,159000.0,155000.0,155000.0,158000.0,158000.0,156000.0,158000.0,155000.0,168000.0,168000.0,157000.0,155000.0,168000.0,168000.0,156000.0,155000.0,155000.0,155000.0,155000.0,157000.0,165000.0,155000.0,160000.0,157000.0,156000.0,158000.0,157000.0,157000.0,155000.0,156000.0,162000.0,161000.0,155000.0,154000.0,157000.0,154000.0,163000.0,154000.0,161000.0,166000.0,154000.0,156000.0,155000.0,155000.0,155000.0,154000.0,155000.0,154000.0,156000.0,157000.0,161000.0,155000.0,155000.0,154000.0,154000.0,154000.0,157000.0,154000.0,155000.0,158000.0,159000.0,154000.0,153000.0,155000.0,153000.0,155000.0,154000.0,156000.0,153000.0,155000.0,154000.0,154000.0,159000.0,160000.0,158000.0,156000.0,153000.0,154000.0,155000.0,154000.0,153000.0,154000.0,154000.0,153000.0,161000.0,157000.0,153000.0,154000.0,154000.0,153000.0,153000.0,152000.0,153000.0,152000.0,153000.0,152000.0,194000.0,152000.0,152000.0,153000.0,152000.0,153000.0,153000.0,159000.0,154000.0,152000.0,157000.0,154000.0,153000.0,152000.0,152000.0,158000.0,158000.0,153000.0,155000.0,153000.0,153000.0,152000.0,152000.0,153000.0,156000.0,152000.0,153000.0,151000.0,153000.0,168000.0,157000.0,164000.0,156000.0,160000.0,153000.0,151000.0,151000.0,162000.0,151000.0,155000.0,152000.0,152000.0,156000.0,156000.0,170000.0,160000.0,151000.0,151000.0,151000.0,151000.0,151000.0,155000.0,157000.0,152000.0,151000.0,151000.0,152000.0,163000.0,150000.0,152000.0,150000.0,150000.0,150000.0,162000.0,150000.0,151000.0,153000.0,151000.0,150000.0,167000.0,151000.0,151000.0,152000.0,151000.0,150000.0,158000.0,150000.0,151000.0,159000.0,150000.0,150000.0,152000.0,157000.0,154000.0,151000.0,155000.0,150000.0,150000.0,151000.0,154000.0,152000.0,151000.0,150000.0,158000.0,150000.0,150000.0,150000.0,150000.0,150000.0,158000.0,168000.0,149000.0,149000.0,156000.0,154000.0,149000.0,149000.0,149000.0,169000.0,149000.0,152000.0,154000.0,150000.0,149000.0,149000.0,157000.0,153000.0,154000.0,166000.0,150000.0,150000.0,162000.0,149000.0,150000.0,156000.0,151000.0,149000.0,151000.0,149000.0,149000.0,149000.0,152000.0,149000.0,149000.0,150000.0,157000.0,154000.0,149000.0,153000.0,150000.0,149000.0,159000.0,148000.0,149000.0,149000.0,152000.0,148000.0,148000.0,152000.0,151000.0,160000.0,150000.0,152000.0,164000.0,159000.0,150000.0,150000.0,152000.0,149000.0,149000.0,150000.0,148000.0,148000.0,164000.0,148000.0,161000.0,151000.0,148000.0,148000.0,149000.0,149000.0,148000.0,159000.0,149000.0,162000.0,148000.0,152000.0,152000.0,148000.0,148000.0,159000.0,154000.0,148000.0,151000.0,155000.0,151000.0,148000.0,148000.0,148000.0,148000.0,151000.0,152000.0,147000.0,147000.0,150000.0,148000.0,149000.0,147000.0,149000.0,154000.0,148000.0,148000.0,147000.0,147000.0,158000.0,171000.0,148000.0,147000.0,151000.0,147000.0,151000.0,151000.0,151000.0,149000.0,149000.0,149000.0,150000.0,148000.0,147000.0,153000.0,154000.0,148000.0,147000.0,147000.0,147000.0,147000.0,155000.0,147000.0,148000.0,147000.0,147000.0,147000.0,148000.0,147000.0,149000.0,161000.0,147000.0,148000.0,147000.0,147000.0,147000.0,148000.0,149000.0,149000.0,146000.0,150000.0,147000.0,165000.0,166000.0,147000.0,147000.0,147000.0,150000.0,153000.0,147000.0,146000.0,148000.0,146000.0,147000.0,146000.0,147000.0,146000.0,147000.0,149000.0,150000.0,147000.0,148000.0,148000.0,146000.0,150000.0,146000.0,148000.0,148000.0,149000.0,150000.0,146000.0,146000.0,147000.0,146000.0,146000.0,150000.0,146000.0,146000.0,148000.0,147000.0,147000.0,146000.0,149000.0,148000.0,151000.0,146000.0,148000.0,146000.0,145000.0,147000.0,146000.0,145000.0,145000.0,145000.0,146000.0,146000.0,154000.0,145000.0,146000.0,145000.0,146000.0,160000.0,145000.0,152000.0,145000.0,145000.0,145000.0,145000.0,145000.0,145000.0,145000.0,145000.0,145000.0,152000.0,148000.0,145000.0,145000.0,151000.0,148000.0,148000.0,147000.0,157000.0,144000.0,145000.0,145000.0,153000.0,148000.0,145000.0,145000.0,150000.0,145000.0,147000.0,145000.0,144000.0,144000.0,145000.0,144000.0,144000.0,169000.0,144000.0,144000.0,157000.0,147000.0,152000.0,144000.0,144000.0,144000.0,144000.0,144000.0,150000.0,151000.0,144000.0,147000.0,146000.0,144000.0,146000.0,145000.0,144000.0,147000.0,149000.0,144000.0,144000.0,145000.0,144000.0,144000.0,145000.0,144000.0,144000.0,149000.0,145000.0,144000.0,146000.0,144000.0,154000.0,144000.0,145000.0,144000.0,144000.0,144000.0,144000.0,144000.0,147000.0,143000.0,144000.0,143000.0,144000.0,144000.0,146000.0,144000.0,149000.0,143000.0,143000.0,144000.0,144000.0,143000.0,145000.0,144000.0,143000.0,143000.0,143000.0,143000.0,143000.0,143000.0,151000.0,143000.0,145000.0,150000.0,155000.0,143000.0,143000.0,143000.0,143000.0,143000.0,143000.0,143000.0,143000.0,143000.0,143000.0,157000.0,144000.0,144000.0,146000.0,143000.0,148000.0,143000.0,162000.0,143000.0,143000.0,143000.0,143000.0,149000.0,159000.0,144000.0,156000.0,143000.0,143000.0,162000.0,145000.0,159000.0,143000.0,144000.0,143000.0,143000.0,146000.0,142000.0,143000.0,169000.0,142000.0,154000.0,143000.0,143000.0,142000.0,142000.0,143000.0,144000.0,142000.0,145000.0,143000.0,144000.0,142000.0,142000.0,157000.0,142000.0,142000.0,142000.0,142000.0,144000.0,143000.0,153000.0,142000.0,157000.0,145000.0,149000.0,142000.0,142000.0,143000.0,142000.0,142000.0,142000.0,143000.0,143000.0,143000.0,144000.0,142000.0,142000.0,142000.0,144000.0,142000.0,143000.0,142000.0,142000.0,142000.0,142000.0,148000.0,146000.0,144000.0,142000.0,142000.0,142000.0,142000.0,142000.0,141000.0,152000.0,142000.0,141000.0,142000.0,142000.0,143000.0,141000.0,145000.0,142000.0,141000.0,141000.0,142000.0,141000.0,142000.0,141000.0,145000.0,164000.0,141000.0,141000.0,141000.0,141000.0,141000.0,141000.0,141000.0,141000.0,141000.0,141000.0,141000.0,142000.0,142000.0,142000.0,141000.0,142000.0,141000.0,142000.0,149000.0,141000.0,141000.0,141000.0,141000.0,141000.0,141000.0,141000.0,143000.0,141000.0,144000.0,141000.0,141000.0,140000.0,144000.0,144000.0,140000.0,143000.0,140000.0,142000.0,146000.0,140000.0,146000.0,142000.0,140000.0,141000.0,141000.0,141000.0,146000.0,140000.0,140000.0,144000.0,153000.0,143000.0,140000.0,140000.0,141000.0,140000.0,140000.0,140000.0,140000.0,143000.0,140000.0,152000.0,140000.0,140000.0,142000.0,140000.0,140000.0,140000.0,144000.0,148000.0,145000.0,150000.0,140000.0,140000.0,140000.0,148000.0,140000.0,148000.0,148000.0,141000.0,154000.0,140000.0,140000.0,141000.0,140000.0,141000.0,142000.0,140000.0,140000.0,141000.0,145000.0,145000.0,140000.0,139000.0,139000.0,139000.0,139000.0,151000.0,140000.0,155000.0,139000.0,140000.0,139000.0,148000.0,148000.0,140000.0,139000.0,139000.0,149000.0,139000.0,144000.0,142000.0,139000.0,140000.0,146000.0,139000.0,139000.0,140000.0,140000.0,140000.0,139000.0,139000.0,139000.0,139000.0,145000.0,142000.0,141000.0,139000.0,142000.0,139000.0,139000.0,139000.0,139000.0,140000.0,139000.0,143000.0,139000.0,139000.0,139000.0,139000.0,141000.0,141000.0,150000.0,151000.0,149000.0,139000.0,148000.0,139000.0,139000.0,146000.0,139000.0,142000.0,145000.0,139000.0,141000.0,141000.0,139000.0,139000.0,148000.0,139000.0,139000.0,159000.0,139000.0,143000.0,139000.0,139000.0,139000.0,139000.0,139000.0,138000.0,138000.0,138000.0,142000.0,141000.0,139000.0,151000.0,138000.0,138000.0,138000.0,138000.0,139000.0,138000.0,143000.0,138000.0,138000.0,140000.0,138000.0,138000.0,138000.0,148000.0,143000.0,138000.0,138000.0,140000.0,139000.0,138000.0,142000.0,138000.0,138000.0,141000.0,140000.0,141000.0,141000.0,138000.0,138000.0,140000.0,148000.0,138000.0,138000.0,147000.0,139000.0,140000.0,138000.0,138000.0,138000.0,141000.0,138000.0,142000.0,138000.0,138000.0,138000.0,138000.0,138000.0,138000.0,139000.0,142000.0,139000.0,144000.0,139000.0,138000.0,138000.0,139000.0,138000.0,146000.0,138000.0,138000.0,141000.0,139000.0,138000.0,138000.0,138000.0,138000.0,142000.0,138000.0,148000.0,138000.0,139000.0,138000.0,138000.0,138000.0,139000.0,137000.0,139000.0,137000.0,147000.0,137000.0,138000.0,137000.0,137000.0,137000.0,139000.0,137000.0,137000.0,139000.0,137000.0,137000.0,137000.0,137000.0,137000.0,137000.0,137000.0,137000.0,137000.0,137000.0,140000.0,139000.0,147000.0,137000.0,137000.0,137000.0,137000.0,137000.0,138000.0,137000.0,137000.0,139000.0,137000.0,138000.0,137000.0,137000.0,137000.0,147000.0,137000.0,137000.0,137000.0,137000.0,148000.0,137000.0,137000.0,138000.0,137000.0,142000.0,137000.0,145000.0,142000.0,137000.0,137000.0,137000.0,158000.0,137000.0,137000.0,137000.0,138000.0,137000.0,137000.0,139000.0,137000.0,143000.0,140000.0,136000.0,140000.0,137000.0,138000.0,146000.0,137000.0,136000.0,138000.0,137000.0,138000.0,142000.0,144000.0,141000.0,156000.0,136000.0,136000.0,136000.0,137000.0,140000.0,140000.0,142000.0,136000.0,136000.0,136000.0,136000.0,139000.0,142000.0,136000.0,142000.0,136000.0,142000.0,136000.0,136000.0,136000.0,136000.0,136000.0,136000.0,138000.0,136000.0,141000.0,153000.0,136000.0,136000.0,136000.0,136000.0,138000.0,136000.0,136000.0,136000.0,137000.0,136000.0,141000.0,137000.0,136000.0,136000.0,136000.0,136000.0,136000.0,138000.0,136000.0,136000.0,137000.0,143000.0,136000.0,136000.0,137000.0,136000.0,136000.0,136000.0,141000.0,136000.0,138000.0,136000.0,136000.0,138000.0,136000.0,135000.0,136000.0,135000.0,135000.0,139000.0,142000.0,135000.0,138000.0,139000.0,137000.0,135000.0,135000.0,135000.0,136000.0,135000.0,136000.0,135000.0,135000.0,136000.0,135000.0,136000.0,137000.0,137000.0,136000.0,138000.0,142000.0,135000.0,147000.0,139000.0,135000.0,138000.0,138000.0,135000.0,135000.0,135000.0,135000.0,137000.0,135000.0,136000.0,135000.0,135000.0,135000.0,135000.0,137000.0,136000.0,136000.0,135000.0,136000.0,135000.0,135000.0,141000.0,135000.0,143000.0,135000.0,135000.0,135000.0,135000.0,138000.0,138000.0,135000.0,135000.0,143000.0,135000.0,135000.0,135000.0,135000.0,135000.0,135000.0,135000.0,135000.0,135000.0,135000.0,135000.0,135000.0,135000.0,135000.0,135000.0,135000.0,140000.0,135000.0,143000.0,146000.0,145000.0,140000.0,136000.0,135000.0,136000.0,137000.0,144000.0,135000.0,134000.0,134000.0,134000.0,134000.0,136000.0,134000.0,134000.0,136000.0,134000.0,143000.0,135000.0,136000.0,135000.0,134000.0,135000.0,144000.0,134000.0,134000.0,135000.0,134000.0,137000.0,134000.0,138000.0,135000.0,134000.0,134000.0,136000.0,146000.0,134000.0,135000.0,142000.0,151000.0,135000.0,134000.0,134000.0,134000.0,134000.0,134000.0,134000.0,134000.0,134000.0,134000.0,134000.0,136000.0,134000.0,135000.0,134000.0,134000.0,134000.0,142000.0,134000.0,134000.0,134000.0,134000.0,134000.0,139000.0,145000.0,134000.0,138000.0,134000.0,138000.0,140000.0,135000.0,134000.0,151000.0,134000.0,134000.0,134000.0,135000.0,134000.0,135000.0,134000.0,134000.0,134000.0,138000.0,134000.0,134000.0,141000.0,135000.0,134000.0,133000.0,137000.0,134000.0,133000.0,133000.0,133000.0,134000.0,133000.0,133000.0,133000.0,133000.0,133000.0,133000.0,133000.0,133000.0,133000.0,133000.0,134000.0,133000.0,137000.0,133000.0,135000.0,133000.0,135000.0,143000.0,133000.0,133000.0,133000.0,134000.0,133000.0,133000.0,134000.0,133000.0,133000.0,134000.0,133000.0,133000.0,133000.0,138000.0,137000.0,133000.0,133000.0,133000.0,133000.0,133000.0,133000.0,133000.0,133000.0,135000.0,133000.0,134000.0,133000.0,133000.0,133000.0,133000.0,133000.0,133000.0,133000.0,133000.0,133000.0,137000.0,133000.0,133000.0,135000.0,133000.0,133000.0,133000.0,133000.0,146000.0,133000.0,133000.0,133000.0,133000.0,148000.0,135000.0,133000.0,134000.0,133000.0,133000.0,133000.0,136000.0,133000.0,133000.0,136000.0,133000.0,132000.0,133000.0,134000.0,132000.0,132000.0,136000.0,133000.0,133000.0,136000.0,132000.0,138000.0,132000.0,132000.0,133000.0,135000.0,140000.0,132000.0,132000.0,148000.0,132000.0,132000.0,133000.0,133000.0,132000.0,132000.0,132000.0,143000.0,132000.0,133000.0,132000.0,133000.0,135000.0,132000.0,132000.0,132000.0,132000.0,136000.0,135000.0,132000.0,132000.0,132000.0,132000.0,132000.0,133000.0,147000.0,132000.0,132000.0,132000.0,132000.0,133000.0,132000.0,132000.0,132000.0,133000.0,139000.0,132000.0,132000.0,132000.0,132000.0,137000.0,132000.0,132000.0,132000.0,132000.0,132000.0,132000.0,132000.0,132000.0,133000.0,132000.0,132000.0,132000.0,132000.0,131000.0,131000.0,131000.0,131000.0,133000.0,132000.0,132000.0,131000.0,132000.0,131000.0,131000.0,131000.0,132000.0,132000.0,132000.0,132000.0,132000.0,131000.0,132000.0,132000.0,131000.0,131000.0,133000.0,131000.0,139000.0,131000.0,131000.0,148000.0,136000.0,132000.0,149000.0,131000.0,132000.0,134000.0,131000.0,131000.0,145000.0,134000.0,131000.0,131000.0,131000.0,132000.0,131000.0,144000.0,131000.0,132000.0,131000.0,132000.0,131000.0,133000.0,131000.0,131000.0,133000.0,132000.0,132000.0,131000.0,138000.0,131000.0,131000.0,131000.0,131000.0,131000.0,131000.0,132000.0,131000.0,131000.0,132000.0,131000.0,131000.0,132000.0,131000.0,131000.0,132000.0,131000.0,131000.0,134000.0,133000.0,133000.0,132000.0,131000.0,137000.0,131000.0,132000.0,132000.0,134000.0,131000.0,131000.0,131000.0,131000.0,131000.0,131000.0,131000.0,131000.0,131000.0,130000.0,131000.0,131000.0,130000.0,131000.0,130000.0,131000.0,130000.0,131000.0,130000.0,135000.0,130000.0,137000.0,132000.0,141000.0,130000.0,134000.0,130000.0,130000.0,130000.0,136000.0,130000.0,131000.0,133000.0,130000.0,132000.0,130000.0,130000.0,130000.0,131000.0,130000.0,137000.0,130000.0,131000.0,130000.0,130000.0,131000.0,131000.0,130000.0,136000.0,130000.0,130000.0,130000.0,130000.0,131000.0,130000.0,130000.0,130000.0,130000.0,130000.0,130000.0,130000.0,130000.0,130000.0,130000.0,133000.0,130000.0,131000.0,130000.0,130000.0,130000.0,130000.0,130000.0,130000.0,130000.0,134000.0,130000.0,130000.0,130000.0,137000.0,130000.0,130000.0,130000.0,130000.0,130000.0,144000.0,130000.0,130000.0,130000.0,130000.0,130000.0,130000.0,147000.0,130000.0,130000.0,129000.0,136000.0,140000.0,129000.0,130000.0,130000.0,130000.0,131000.0,130000.0,129000.0,129000.0,129000.0,130000.0,130000.0,129000.0,129000.0,129000.0,135000.0,129000.0,129000.0,129000.0,129000.0,129000.0,129000.0,129000.0,129000.0,129000.0,137000.0,129000.0,129000.0,129000.0,129000.0,130000.0,129000.0,129000.0,129000.0,133000.0,130000.0,129000.0,132000.0,129000.0,129000.0,134000.0,154000.0,129000.0,134000.0,139000.0,132000.0,129000.0,130000.0,129000.0,129000.0,151000.0,129000.0,129000.0,129000.0,129000.0,151000.0,130000.0,136000.0,129000.0,129000.0,130000.0,129000.0,129000.0,130000.0,132000.0,129000.0,130000.0,129000.0,130000.0,129000.0,138000.0,130000.0,129000.0,130000.0,130000.0],\"xaxis\":\"x\",\"y\":[19005.0,13936.0,28398.0,5106.0,12892.0,2454.0,4205.0,4943.0,23126.0,11402.0,4282.0,15684.0,3271.0,3568.0,12694.0,8683.0,16656.0,8586.0,11688.0,3547.0,20024.0,1989.0,1966.0,6676.0,27678.0,1863.0,2208.0,5501.0,4751.0,12416.0,5565.0,2846.0,5942.0,10404.0,6915.0,33331.0,18947.0,4723.0,6025.0,1766.0,3104.0,6248.0,4622.0,2193.0,9437.0,2799.0,1768.0,3155.0,4671.0,2267.0,17936.0,10703.0,4319.0,11685.0,7950.0,1501.0,1536.0,2450.0,1556.0,830.0,2060.0,6973.0,30408.0,4611.0,1040.0,3764.0,3150.0,1829.0,12949.0,22842.0,4834.0,2524.0,6548.0,6212.0,1788.0,18744.0,81678.0,6190.0,20201.0,4758.0,2491.0,6943.0,14718.0,4414.0,4993.0,18188.0,2777.0,7016.0,8396.0,2194.0,5664.0,6233.0,1850.0,6119.0,1303.0,6763.0,4740.0,2484.0,6374.0,3663.0,1211.0,1897.0,715.0,2153.0,5796.0,3263.0,8403.0,2040.0,5671.0,4788.0,20042.0,6331.0,2202.0,1457.0,4028.0,2356.0,3941.0,2710.0,4862.0,2780.0,5352.0,948.0,1439.0,1762.0,1640.0,2232.0,3831.0,763.0,1644.0,2604.0,11891.0,13362.0,1960.0,957.0,928.0,783.0,1801.0,1773.0,2802.0,1447.0,4284.0,10273.0,6404.0,2111.0,6841.0,9734.0,5310.0,14526.0,4790.0,4564.0,1768.0,7412.0,1436.0,5906.0,1155.0,5281.0,5652.0,6151.0,11498.0,2706.0,4206.0,1822.0,3576.0,8976.0,3202.0,1323.0,3712.0,4853.0,3289.0,2722.0,937.0,6794.0,1396.0,2386.0,3743.0,1512.0,1389.0,1366.0,7641.0,18018.0,2145.0,6817.0,878.0,6132.0,3045.0,1052.0,2235.0,9072.0,6093.0,1956.0,12043.0,7738.0,1426.0,2776.0,835.0,1754.0,2787.0,2075.0,2109.0,9895.0,3814.0,3901.0,1480.0,2882.0,2178.0,6185.0,5013.0,6476.0,744.0,3523.0,2124.0,2543.0,1564.0,8104.0,2529.0,5430.0,1484.0,783.0,989.0,1867.0,1295.0,2569.0,2315.0,2614.0,2915.0,2380.0,896.0,637.0,12058.0,4317.0,1724.0,2109.0,1122.0,3478.0,3204.0,1833.0,669.0,3803.0,4546.0,4685.0,3950.0,745.0,8145.0,4456.0,4457.0,6494.0,2015.0,13197.0,1861.0,1057.0,2103.0,3854.0,3683.0,2838.0,7777.0,4363.0,784.0,2066.0,2598.0,10747.0,5281.0,2327.0,1696.0,969.0,2908.0,4368.0,1267.0,565.0,2698.0,1126.0,2026.0,8979.0,2939.0,4453.0,6061.0,689.0,1879.0,2432.0,2095.0,2248.0,3049.0,1230.0,1173.0,3790.0,685.0,8740.0,3647.0,2193.0,5896.0,13007.0,1779.0,3494.0,4949.0,27810.0,1342.0,4911.0,9492.0,2186.0,2339.0,6704.0,1866.0,1057.0,3629.0,7352.0,2957.0,3061.0,1981.0,1238.0,991.0,3609.0,2249.0,2227.0,6455.0,1676.0,3930.0,12260.0,1919.0,617.0,3286.0,2520.0,2583.0,2016.0,1587.0,3543.0,2834.0,8478.0,979.0,4334.0,1135.0,1022.0,4012.0,892.0,1109.0,8177.0,3404.0,571.0,1438.0,1869.0,2218.0,992.0,2174.0,1732.0,10354.0,5336.0,13633.0,3878.0,4142.0,1610.0,5336.0,701.0,1510.0,2121.0,860.0,4147.0,2731.0,1664.0,3740.0,32221.0,1726.0,1540.0,1006.0,2370.0,1242.0,3238.0,1637.0,2380.0,844.0,963.0,1876.0,2241.0,1301.0,4277.0,1301.0,1945.0,6969.0,2405.0,5466.0,1965.0,3064.0,1122.0,6824.0,1190.0,2398.0,2046.0,1901.0,1344.0,3215.0,951.0,2028.0,8035.0,870.0,2241.0,6748.0,2614.0,2365.0,2319.0,2291.0,918.0,6689.0,1675.0,1820.0,3673.0,2578.0,5388.0,1588.0,2508.0,800.0,1355.0,4346.0,3391.0,1954.0,3128.0,2119.0,3435.0,878.0,3533.0,1473.0,7062.0,2221.0,2047.0,2597.0,3575.0,2732.0,1821.0,3146.0,8100.0,2321.0,5698.0,1299.0,2870.0,2183.0,2779.0,1623.0,1629.0,2668.0,5276.0,5716.0,1437.0,5051.0,12755.0,2737.0,5242.0,1787.0,4213.0,2936.0,2990.0,2837.0,2448.0,1312.0,1261.0,2147.0,2156.0,2486.0,2790.0,1965.0,2754.0,4031.0,10791.0,726.0,2290.0,1420.0,3917.0,1647.0,2156.0,1653.0,2550.0,6942.0,828.0,4890.0,4625.0,8507.0,4483.0,5691.0,1628.0,8607.0,1846.0,2907.0,5801.0,1112.0,848.0,846.0,2743.0,710.0,3763.0,1558.0,3642.0,1311.0,701.0,1298.0,815.0,3350.0,1715.0,675.0,1266.0,7661.0,975.0,1750.0,3261.0,711.0,2142.0,1007.0,11367.0,1489.0,462.0,4991.0,1874.0,2599.0,4825.0,2190.0,734.0,4670.0,1517.0,8842.0,1369.0,4225.0,934.0,1397.0,3174.0,3746.0,10579.0,1603.0,831.0,3769.0,2805.0,8049.0,1472.0,6343.0,5161.0,3098.0,1726.0,2178.0,1089.0,3583.0,6397.0,2114.0,2464.0,1047.0,3271.0,781.0,3939.0,596.0,1810.0,4365.0,6748.0,3070.0,2974.0,2070.0,797.0,7542.0,1004.0,614.0,2265.0,826.0,3588.0,3971.0,1466.0,1935.0,1886.0,1062.0,4803.0,814.0,1135.0,2183.0,1179.0,1232.0,3314.0,2646.0,1587.0,4324.0,795.0,1449.0,941.0,3158.0,1728.0,10461.0,3784.0,3680.0,2542.0,3087.0,1337.0,4609.0,2465.0,2453.0,692.0,1180.0,2375.0,2294.0,1723.0,5733.0,3018.0,2333.0,1992.0,838.0,4072.0,946.0,3276.0,1760.0,2.0,1399.0,1682.0,1433.0,1237.0,26451.0,1348.0,2689.0,1287.0,687.0,886.0,5249.0,4257.0,6464.0,4920.0,1836.0,1877.0,6727.0,1971.0,2102.0,1893.0,1733.0,1957.0,2766.0,1846.0,1821.0,2020.0,1020.0,1469.0,2069.0,4029.0,14422.0,1808.0,2535.0,1525.0,1086.0,1117.0,6300.0,4573.0,1106.0,2025.0,628.0,3699.0,1123.0,1105.0,8432.0,1088.0,1214.0,10145.0,4019.0,5168.0,4792.0,4688.0,2181.0,1847.0,6843.0,1271.0,786.0,1500.0,1202.0,2642.0,4089.0,1090.0,3079.0,1250.0,1243.0,3316.0,1909.0,366.0,2452.0,490.0,3325.0,3997.0,6265.0,1580.0,1564.0,1989.0,1732.0,2678.0,17520.0,4143.0,3056.0,2679.0,1690.0,2144.0,1622.0,1327.0,2212.0,1360.0,838.0,8883.0,2206.0,1119.0,11079.0,2815.0,886.0,5513.0,2543.0,2600.0,1101.0,6208.0,5027.0,5367.0,1868.0,11353.0,2924.0,2391.0,12011.0,834.0,3313.0,2486.0,1381.0,820.0,1436.0,1201.0,1525.0,1622.0,1252.0,527.0,791.0,1955.0,1961.0,1213.0,2791.0,14821.0,1195.0,17032.0,1409.0,3338.0,24975.0,767.0,1823.0,977.0,1441.0,4447.0,10181.0,2235.0,4116.0,3069.0,1902.0,1860.0,562.0,1979.0,2010.0,2090.0,2111.0,5506.0,845.0,1649.0,3801.0,2371.0,2987.0,633.0,3475.0,1751.0,6625.0,1282.0,2258.0,590.0,14272.0,2561.0,2576.0,4614.0,4094.0,1008.0,1714.0,2996.0,1976.0,1066.0,4173.0,887.0,1843.0,1704.0,2089.0,3096.0,2841.0,883.0,634.0,814.0,2343.0,5721.0,706.0,838.0,2551.0,381.0,4654.0,6619.0,1601.0,726.0,2280.0,905.0,1017.0,2194.0,2778.0,8594.0,2397.0,770.0,1905.0,3718.0,1711.0,1248.0,5927.0,877.0,425.0,3373.0,784.0,5913.0,3296.0,1434.0,1356.0,1319.0,528.0,987.0,909.0,5328.0,3257.0,4651.0,1053.0,7823.0,862.0,3219.0,2528.0,3609.0,5282.0,2386.0,938.0,860.0,1782.0,1371.0,2520.0,1602.0,1989.0,11022.0,2083.0,926.0,1301.0,2002.0,1516.0,1022.0,8077.0,3681.0,665.0,2543.0,2156.0,3304.0,2558.0,5639.0,7185.0,1534.0,7939.0,4457.0,1093.0,677.0,1905.0,1336.0,3277.0,1448.0,1306.0,542.0,2479.0,1469.0,2552.0,1095.0,4225.0,3899.0,4472.0,2020.0,3166.0,836.0,733.0,1428.0,12910.0,6501.0,697.0,1905.0,2058.0,775.0,14245.0,3147.0,464.0,1090.0,3317.0,811.0,5038.0,2688.0,3695.0,1444.0,3087.0,7471.0,2711.0,11348.0,3654.0,3292.0,17685.0,1353.0,2459.0,2304.0,1286.0,1047.0,1066.0,788.0,1447.0,2532.0,1486.0,976.0,553.0,3516.0,1465.0,440.0,6702.0,2229.0,3255.0,809.0,1834.0,4209.0,2376.0,2398.0,1631.0,913.0,1313.0,3495.0,1253.0,597.0,1980.0,2725.0,809.0,3458.0,3582.0,846.0,460.0,1407.0,3829.0,3579.0,978.0,1566.0,2682.0,3675.0,1200.0,2060.0,5402.0,994.0,1657.0,1345.0,2030.0,6053.0,1824.0,8089.0,1917.0,2102.0,1004.0,1056.0,1392.0,2684.0,12043.0,502.0,1713.0,1854.0,7453.0,1131.0,1457.0,50910.0,1915.0,1876.0,9368.0,1062.0,3814.0,1070.0,1890.0,1842.0,10459.0,982.0,895.0,1182.0,1825.0,1300.0,2377.0,3288.0,18063.0,2030.0,1895.0,1644.0,1113.0,3458.0,2048.0,2220.0,927.0,881.0,2074.0,10336.0,2343.0,8976.0,8992.0,5231.0,2993.0,3552.0,416.0,3446.0,1634.0,912.0,4941.0,2033.0,1880.0,531.0,2007.0,1244.0,1141.0,2343.0,2169.0,479.0,3905.0,447.0,927.0,2574.0,1826.0,1826.0,1170.0,4679.0,1175.0,7571.0,2517.0,1804.0,1639.0,1745.0,1369.0,2101.0,1920.0,1125.0,3821.0,1526.0,3014.0,1613.0,4289.0,1933.0,3428.0,496.0,2958.0,515.0,2592.0,1020.0,5794.0,2409.0,1322.0,5774.0,2581.0,2931.0,1652.0,1981.0,1163.0,1536.0,2177.0,1083.0,1866.0,4488.0,3908.0,756.0,4006.0,7349.0,1440.0,7683.0,1594.0,907.0,2714.0,5158.0,867.0,1560.0,2542.0,1220.0,3644.0,2869.0,3143.0,1730.0,2104.0,5279.0,2741.0,1780.0,1045.0,784.0,3140.0,15889.0,2846.0,1220.0,5434.0,1788.0,997.0,4081.0,5533.0,3446.0,1084.0,500.0,2350.0,747.0,1165.0,4934.0,2756.0,708.0,2022.0,3736.0,1183.0,1479.0,560.0,6251.0,3022.0,26042.0,7408.0,2831.0,557.0,563.0,2798.0,2065.0,1184.0,3135.0,2425.0,1624.0,793.0,7865.0,2925.0,923.0,1637.0,2724.0,6993.0,1018.0,2183.0,522.0,3628.0,1445.0,971.0,16222.0,1874.0,5203.0,3801.0,7026.0,7479.0,601.0,2878.0,5905.0,1420.0,904.0,642.0,7595.0,969.0,1219.0,5193.0,3317.0,2361.0,2787.0,1081.0,1093.0,3906.0,2409.0,1488.0,2669.0,2966.0,2505.0,2150.0,737.0,7006.0,5743.0,7226.0,5488.0,1979.0,921.0,2190.0,615.0,4762.0,1838.0,1437.0,4574.0,2783.0,658.0,1560.0,7670.0,2057.0,1476.0,1838.0,1679.0,516.0,1063.0,9994.0,1611.0,6670.0,1645.0,12586.0,431.0,440.0,433.0,5350.0,5203.0,1822.0,2653.0,2355.0,1617.0,2545.0,26473.0,1637.0,513.0,1190.0,4560.0,838.0,2429.0,10680.0,2720.0,9147.0,1728.0,4230.0,2616.0,1568.0,1895.0,1215.0,1839.0,558.0,1062.0,2973.0,864.0,1792.0,5820.0,1794.0,1798.0,3957.0,695.0,473.0,2765.0,2293.0,2257.0,1430.0,756.0,1709.0,2987.0,1265.0,4519.0,2656.0,2037.0,15029.0,661.0,9934.0,1544.0,773.0,5444.0,1836.0,1961.0,2825.0,1013.0,905.0,3163.0,2160.0,3102.0,1560.0,1452.0,2062.0,1328.0,2103.0,3499.0,782.0,612.0,8928.0,7813.0,1084.0,106.0,3523.0,2656.0,864.0,632.0,1185.0,2552.0,1485.0,1735.0,1990.0,847.0,825.0,2958.0,6315.0,1150.0,2342.0,728.0,1206.0,562.0,1902.0,1269.0,1641.0,2375.0,809.0,775.0,14746.0,4076.0,7594.0,1867.0,14718.0,1182.0,1602.0,1247.0,3389.0,708.0,4517.0,2412.0,450.0,7349.0,2380.0,765.0,1174.0,2195.0,2957.0,1123.0,4903.0,662.0,2270.0,2747.0,1389.0,1255.0,4435.0,2120.0,15144.0,4600.0,683.0,1387.0,948.0,1698.0,2323.0,1367.0,6054.0,5102.0,1193.0,1330.0,900.0,93.0,627.0,6739.0,693.0,945.0,8030.0,1334.0,1932.0,1722.0,3291.0,615.0,983.0,5865.0,1714.0,4223.0,1077.0,1828.0,2647.0,1412.0,1473.0,1985.0,1563.0,840.0,1820.0,6538.0,2425.0,4179.0,1314.0,1074.0,9764.0,2230.0,1223.0,2612.0,6285.0,6068.0,1051.0,1419.0,448.0,1311.0,1271.0,3567.0,1834.0,4141.0,1612.0,1395.0,3616.0,2214.0,1264.0,2014.0,1540.0,4425.0,1371.0,1728.0,609.0,5828.0,2656.0,3722.0,1762.0,2462.0,1333.0,4232.0,7438.0,713.0,530.0,3877.0,3469.0,2263.0,960.0,4703.0,1255.0,1858.0,3007.0,1923.0,2110.0,2295.0,2351.0,1992.0,5687.0,1483.0,3170.0,1583.0,20974.0,6586.0,7543.0,1643.0,1539.0,2217.0,2574.0,978.0,3351.0,3120.0,1502.0,914.0,2844.0,5358.0,3591.0,593.0,2374.0,926.0,1777.0,2047.0,4531.0,1003.0,818.0,3320.0,1245.0,2455.0,3384.0,2404.0,6826.0,1801.0,845.0,6371.0,1956.0,2539.0,1218.0,4687.0,534.0,974.0,2202.0,1572.0,1601.0,6909.0,1255.0,832.0,1266.0,1000.0,1150.0,1563.0,1711.0,10058.0,2481.0,722.0,696.0,2167.0,882.0,1296.0,1102.0,2005.0,6753.0,3807.0,1725.0,2265.0,2156.0,1087.0,77368.0,943.0,1298.0,2818.0,1175.0,1041.0,1158.0,9238.0,819.0,2303.0,1147.0,2328.0,1770.0,4137.0,2180.0,1585.0,1312.0,1391.0,2461.0,1874.0,2338.0,2764.0,1327.0,1316.0,851.0,1095.0,3609.0,2597.0,2785.0,871.0,2820.0,1304.0,2238.0,414.0,1489.0,1553.0,1283.0,612.0,2367.0,869.0,3313.0,1543.0,3084.0,874.0,6208.0,2879.0,1376.0,1224.0,2567.0,8753.0,1376.0,10646.0,1380.0,1919.0,809.0,3270.0,1742.0,2454.0,1158.0,1556.0,2145.0,1170.0,1916.0,5781.0,1944.0,1624.0,2210.0,1422.0,1594.0,3127.0,1846.0,2153.0,1434.0,1626.0,611.0,4332.0,2604.0,632.0,9283.0,2224.0,2731.0,484.0,1417.0,3867.0,3678.0,595.0,1347.0,1782.0,2005.0,467.0,832.0,2331.0,1069.0,7529.0,2073.0,5355.0,935.0,439.0,1905.0,2063.0,1274.0,1948.0,1108.0,10423.0,1397.0,2069.0,1695.0,5418.0,3366.0,778.0,1573.0,1132.0,473.0,566.0,10170.0,795.0,1932.0,2011.0,1109.0,6929.0,1256.0,2383.0,2889.0,1264.0,944.0,672.0,2570.0,4655.0,729.0,2956.0,2455.0,1571.0,1680.0,1468.0,2834.0,3224.0,1514.0,2084.0,3758.0,786.0,1361.0,1590.0,1400.0,2976.0,1249.0,621.0,2901.0,1846.0,843.0,762.0,853.0,595.0,6005.0,6218.0,1393.0,826.0,1483.0,1941.0,1975.0,4933.0,3201.0,2681.0,1889.0,478.0,1956.0,1709.0,2085.0,3453.0,2302.0,868.0,1709.0,1618.0,10683.0,9461.0,1116.0,1429.0,1772.0,3201.0,7342.0,569.0,2436.0,4905.0,1415.0,5273.0,792.0,2166.0,9362.0,3414.0,4149.0,3296.0,4300.0,5005.0,408.0,1817.0,2125.0,1208.0,4936.0,724.0,3612.0,740.0,2921.0,7253.0,1125.0,578.0,1400.0,2944.0,5829.0,5673.0,365.0,1346.0,6633.0,3393.0,1162.0,1590.0,1173.0,1181.0,1632.0,1536.0,571.0,1488.0,4770.0,11485.0,1960.0,11250.0,2322.0,475.0,2885.0,3908.0,5358.0,10587.0,4913.0,9840.0,1585.0,1736.0,1584.0,1601.0,501.0,5377.0,2033.0,11781.0,1027.0,1846.0,4290.0,2674.0,5715.0,2323.0,1259.0,1660.0,1342.0,16172.0,850.0,990.0,2092.0,15283.0,1901.0,1830.0,781.0,3152.0,1062.0,1774.0,1163.0,2739.0,2483.0,3620.0,3243.0,4830.0,3912.0,2532.0,805.0,2026.0,5149.0,3474.0,1374.0,2402.0,1008.0,2334.0,1829.0,2927.0,10135.0,8747.0,2000.0,2232.0,1405.0,505.0,4801.0,416.0,646.0,3669.0,6312.0,2701.0,1742.0,2122.0,1280.0,4131.0,4050.0,2068.0,458.0,1257.0,4701.0,3660.0,615.0,5935.0,663.0,1746.0,729.0,1674.0,3131.0,925.0,5028.0,2226.0,843.0,1455.0,1588.0,722.0,920.0,7095.0,650.0,1521.0,1214.0,1286.0,4132.0,1041.0,900.0,1437.0,2878.0,3364.0,1077.0,2701.0,9934.0,4358.0,12808.0,3021.0,10709.0,1203.0,3563.0,2723.0,703.0,5099.0,2512.0,1091.0,5257.0,806.0,755.0,600.0,495.0,1632.0,2388.0,2262.0,1655.0,1289.0,1132.0,535.0,917.0,3276.0,3227.0,1332.0,2590.0,2992.0,1554.0,3029.0,5977.0,1177.0,1315.0,1646.0,2374.0,2024.0,2476.0,1801.0,425.0,863.0,2347.0,3437.0,2325.0,3565.0,1058.0,694.0,870.0,5304.0,2766.0,4346.0,4780.0,1805.0,3696.0,2637.0,1604.0,700.0,5522.0,5653.0,2390.0,1582.0,1908.0,1704.0,3344.0,3482.0,6184.0,2602.0,2704.0,1256.0,5971.0,2258.0,1058.0,825.0,2398.0,416.0,1186.0,2282.0,1773.0,4449.0,1916.0,5252.0,2039.0,4268.0,4883.0,2896.0,8104.0,6589.0,745.0,3078.0,2678.0,1423.0,1520.0,2156.0,5656.0,4883.0,1635.0,1369.0,1215.0,641.0,1857.0,5560.0,992.0,1290.0,519.0,824.0,2605.0,2072.0,2714.0,952.0,880.0,2773.0,3177.0,1293.0,1092.0,676.0,809.0,2214.0,2230.0,2363.0,5048.0,5592.0,637.0,3986.0,1550.0,2607.0,2680.0,6124.0,2456.0,1091.0,966.0,3316.0,644.0,999.0,2851.0,1770.0,872.0,1593.0,3523.0,1462.0,1269.0,2224.0,1268.0,1947.0,6801.0,3966.0,1001.0,3228.0,3802.0,5324.0,1223.0,4111.0,2945.0,2212.0,770.0,3436.0,1213.0,993.0,1019.0,1948.0,7598.0,1428.0,6400.0,1138.0,1312.0,2319.0,1920.0,20022.0,1661.0,2185.0,1681.0,3234.0,2833.0,5297.0,1831.0,1272.0,2198.0,2292.0,1534.0,3143.0,1000.0,2862.0,744.0,6015.0,4686.0,910.0,1123.0,4555.0,1932.0,1829.0,3459.0,5138.0,1437.0,1491.0,1650.0,1738.0,4344.0,2875.0,6837.0,3836.0,4228.0,4921.0,10302.0,1170.0,1536.0,754.0,1307.0,2220.0,4452.0,2348.0,831.0,2210.0,1225.0,5308.0,2457.0,1227.0,627.0,3352.0,16969.0,747.0,2479.0,1298.0,2015.0,2363.0,2153.0,5874.0,1107.0,478.0,863.0,703.0,2143.0,608.0,1155.0,9363.0,3945.0,2563.0,430.0,3804.0,1343.0,4105.0,2517.0,1059.0,757.0,888.0,1904.0,2993.0,472.0,1358.0,2108.0,1471.0,713.0,1747.0,668.0,1699.0,1194.0,903.0,2553.0,3213.0,901.0,1379.0,788.0,4632.0,2973.0,1563.0,1023.0,1506.0,3714.0,2289.0,5581.0,1358.0,2548.0,3008.0,559.0,2876.0,1601.0,417.0,1408.0,6115.0,1993.0,2632.0,3180.0,6254.0,867.0,3649.0,1416.0,3270.0,2947.0,2303.0,2717.0,3916.0,1357.0,1717.0,2426.0,2306.0,2218.0,1155.0,758.0,2145.0,1152.0,1906.0,1779.0,1524.0,2584.0,2350.0,2613.0,1385.0,870.0,1654.0,5659.0,824.0,3234.0,463.0,4981.0,2627.0,5294.0,1530.0,2320.0,771.0,1572.0,1484.0,2527.0,4318.0,2010.0,2211.0,2453.0,1222.0,1389.0,5092.0,2087.0,1306.0,2453.0,4133.0,719.0,458.0,2143.0,1416.0,696.0,2104.0,2894.0,1417.0,1007.0,2652.0,5634.0,2578.0,1975.0,2460.0,502.0,3601.0,3734.0,642.0,28164.0,5376.0,3203.0,837.0,2813.0,888.0,1812.0,1531.0,74.0,1237.0,2072.0,1720.0,818.0,4103.0,1495.0,686.0,968.0,998.0,1142.0,886.0,2896.0,1543.0,657.0,2616.0,3864.0,603.0,1546.0,938.0,7531.0,2168.0,2472.0,1089.0,6924.0,2371.0,1915.0,8174.0,2770.0,3219.0,1905.0,1064.0,916.0,704.0,2551.0,2083.0,3535.0,7416.0,1189.0,6772.0,444.0,5694.0,868.0,1093.0,3589.0,731.0,5979.0,2248.0,5195.0,634.0,4666.0,1567.0,2656.0,2365.0,1079.0,2033.0,452.0,3830.0,1533.0,5504.0,640.0,1238.0,5647.0,1312.0,647.0,9206.0,1467.0,925.0,2205.0,845.0,2330.0,979.0,1462.0,985.0,994.0,2779.0,1941.0,2845.0,4996.0,2325.0,5692.0,2015.0,2043.0,5707.0,1669.0,2676.0,794.0,716.0,463.0,4570.0,2011.0,9443.0,1926.0,606.0,2088.0,1795.0,1130.0,1980.0,3662.0,655.0,1174.0,3380.0,2295.0,9267.0,1482.0,1374.0,3440.0,1170.0,931.0,2099.0,3539.0,1016.0,964.0,1149.0,2534.0,4527.0,2070.0,856.0,4519.0,722.0,683.0,3358.0,1327.0,1710.0,2591.0,3501.0,3266.0,6118.0,830.0,1926.0,1770.0,880.0,2166.0,2032.0,739.0],\"yaxis\":\"y\",\"type\":\"scattergl\"},{\"hovertemplate\":\"\\u003cb\\u003eOLS trendline\\u003c\\u002fb\\u003e\\u003cbr\\u003ecomments = 0.0333504 * upvotes + -1941.48\\u003cbr\\u003eR\\u003csup\\u003e2\\u003c\\u002fsup\\u003e=0.056433\\u003cbr\\u003e\\u003cbr\\u003eupvotes=%{x}\\u003cbr\\u003ecomments=%{y} \\u003cb\\u003e(trend)\\u003c\\u002fb\\u003e\\u003cextra\\u003e\\u003c\\u002fextra\\u003e\",\"legendgroup\":\"\",\"marker\":{\"color\":\"#636efa\",\"symbol\":\"circle\"},\"mode\":\"lines\",\"name\":\"\",\"showlegend\":false,\"x\":[129000.0,129000.0,129000.0,129000.0,129000.0,129000.0,129000.0,129000.0,129000.0,129000.0,129000.0,129000.0,129000.0,129000.0,129000.0,129000.0,129000.0,129000.0,129000.0,129000.0,129000.0,129000.0,129000.0,129000.0,129000.0,129000.0,129000.0,129000.0,129000.0,129000.0,129000.0,129000.0,129000.0,129000.0,129000.0,129000.0,129000.0,129000.0,129000.0,129000.0,129000.0,129000.0,129000.0,130000.0,130000.0,130000.0,130000.0,130000.0,130000.0,130000.0,130000.0,130000.0,130000.0,130000.0,130000.0,130000.0,130000.0,130000.0,130000.0,130000.0,130000.0,130000.0,130000.0,130000.0,130000.0,130000.0,130000.0,130000.0,130000.0,130000.0,130000.0,130000.0,130000.0,130000.0,130000.0,130000.0,130000.0,130000.0,130000.0,130000.0,130000.0,130000.0,130000.0,130000.0,130000.0,130000.0,130000.0,130000.0,130000.0,130000.0,130000.0,130000.0,130000.0,130000.0,130000.0,130000.0,130000.0,130000.0,130000.0,130000.0,130000.0,130000.0,130000.0,130000.0,130000.0,130000.0,130000.0,130000.0,130000.0,130000.0,130000.0,130000.0,130000.0,130000.0,130000.0,130000.0,130000.0,130000.0,131000.0,131000.0,131000.0,131000.0,131000.0,131000.0,131000.0,131000.0,131000.0,131000.0,131000.0,131000.0,131000.0,131000.0,131000.0,131000.0,131000.0,131000.0,131000.0,131000.0,131000.0,131000.0,131000.0,131000.0,131000.0,131000.0,131000.0,131000.0,131000.0,131000.0,131000.0,131000.0,131000.0,131000.0,131000.0,131000.0,131000.0,131000.0,131000.0,131000.0,131000.0,131000.0,131000.0,131000.0,131000.0,131000.0,131000.0,131000.0,131000.0,131000.0,131000.0,131000.0,131000.0,131000.0,131000.0,131000.0,131000.0,131000.0,131000.0,131000.0,131000.0,131000.0,131000.0,131000.0,131000.0,132000.0,132000.0,132000.0,132000.0,132000.0,132000.0,132000.0,132000.0,132000.0,132000.0,132000.0,132000.0,132000.0,132000.0,132000.0,132000.0,132000.0,132000.0,132000.0,132000.0,132000.0,132000.0,132000.0,132000.0,132000.0,132000.0,132000.0,132000.0,132000.0,132000.0,132000.0,132000.0,132000.0,132000.0,132000.0,132000.0,132000.0,132000.0,132000.0,132000.0,132000.0,132000.0,132000.0,132000.0,132000.0,132000.0,132000.0,132000.0,132000.0,132000.0,132000.0,132000.0,132000.0,132000.0,132000.0,132000.0,132000.0,132000.0,132000.0,132000.0,132000.0,132000.0,132000.0,132000.0,132000.0,132000.0,132000.0,132000.0,132000.0,132000.0,132000.0,132000.0,132000.0,132000.0,132000.0,132000.0,133000.0,133000.0,133000.0,133000.0,133000.0,133000.0,133000.0,133000.0,133000.0,133000.0,133000.0,133000.0,133000.0,133000.0,133000.0,133000.0,133000.0,133000.0,133000.0,133000.0,133000.0,133000.0,133000.0,133000.0,133000.0,133000.0,133000.0,133000.0,133000.0,133000.0,133000.0,133000.0,133000.0,133000.0,133000.0,133000.0,133000.0,133000.0,133000.0,133000.0,133000.0,133000.0,133000.0,133000.0,133000.0,133000.0,133000.0,133000.0,133000.0,133000.0,133000.0,133000.0,133000.0,133000.0,133000.0,133000.0,133000.0,133000.0,133000.0,133000.0,133000.0,133000.0,133000.0,133000.0,133000.0,133000.0,133000.0,133000.0,133000.0,133000.0,133000.0,133000.0,133000.0,133000.0,133000.0,133000.0,133000.0,133000.0,133000.0,133000.0,133000.0,133000.0,133000.0,134000.0,134000.0,134000.0,134000.0,134000.0,134000.0,134000.0,134000.0,134000.0,134000.0,134000.0,134000.0,134000.0,134000.0,134000.0,134000.0,134000.0,134000.0,134000.0,134000.0,134000.0,134000.0,134000.0,134000.0,134000.0,134000.0,134000.0,134000.0,134000.0,134000.0,134000.0,134000.0,134000.0,134000.0,134000.0,134000.0,134000.0,134000.0,134000.0,134000.0,134000.0,134000.0,134000.0,134000.0,134000.0,134000.0,134000.0,134000.0,134000.0,134000.0,134000.0,134000.0,134000.0,134000.0,134000.0,134000.0,134000.0,134000.0,134000.0,134000.0,134000.0,134000.0,134000.0,134000.0,135000.0,135000.0,135000.0,135000.0,135000.0,135000.0,135000.0,135000.0,135000.0,135000.0,135000.0,135000.0,135000.0,135000.0,135000.0,135000.0,135000.0,135000.0,135000.0,135000.0,135000.0,135000.0,135000.0,135000.0,135000.0,135000.0,135000.0,135000.0,135000.0,135000.0,135000.0,135000.0,135000.0,135000.0,135000.0,135000.0,135000.0,135000.0,135000.0,135000.0,135000.0,135000.0,135000.0,135000.0,135000.0,135000.0,135000.0,135000.0,135000.0,135000.0,135000.0,135000.0,135000.0,135000.0,135000.0,135000.0,135000.0,135000.0,135000.0,135000.0,135000.0,135000.0,135000.0,135000.0,135000.0,135000.0,135000.0,135000.0,135000.0,135000.0,135000.0,135000.0,135000.0,136000.0,136000.0,136000.0,136000.0,136000.0,136000.0,136000.0,136000.0,136000.0,136000.0,136000.0,136000.0,136000.0,136000.0,136000.0,136000.0,136000.0,136000.0,136000.0,136000.0,136000.0,136000.0,136000.0,136000.0,136000.0,136000.0,136000.0,136000.0,136000.0,136000.0,136000.0,136000.0,136000.0,136000.0,136000.0,136000.0,136000.0,136000.0,136000.0,136000.0,136000.0,136000.0,136000.0,136000.0,136000.0,136000.0,136000.0,136000.0,136000.0,136000.0,136000.0,136000.0,136000.0,136000.0,136000.0,136000.0,136000.0,136000.0,136000.0,136000.0,136000.0,136000.0,136000.0,136000.0,136000.0,136000.0,136000.0,136000.0,136000.0,137000.0,137000.0,137000.0,137000.0,137000.0,137000.0,137000.0,137000.0,137000.0,137000.0,137000.0,137000.0,137000.0,137000.0,137000.0,137000.0,137000.0,137000.0,137000.0,137000.0,137000.0,137000.0,137000.0,137000.0,137000.0,137000.0,137000.0,137000.0,137000.0,137000.0,137000.0,137000.0,137000.0,137000.0,137000.0,137000.0,137000.0,137000.0,137000.0,137000.0,137000.0,137000.0,137000.0,137000.0,137000.0,137000.0,137000.0,137000.0,137000.0,137000.0,137000.0,137000.0,137000.0,137000.0,137000.0,137000.0,137000.0,137000.0,137000.0,137000.0,137000.0,137000.0,137000.0,137000.0,137000.0,137000.0,137000.0,137000.0,137000.0,137000.0,137000.0,138000.0,138000.0,138000.0,138000.0,138000.0,138000.0,138000.0,138000.0,138000.0,138000.0,138000.0,138000.0,138000.0,138000.0,138000.0,138000.0,138000.0,138000.0,138000.0,138000.0,138000.0,138000.0,138000.0,138000.0,138000.0,138000.0,138000.0,138000.0,138000.0,138000.0,138000.0,138000.0,138000.0,138000.0,138000.0,138000.0,138000.0,138000.0,138000.0,138000.0,138000.0,138000.0,138000.0,138000.0,138000.0,138000.0,138000.0,138000.0,138000.0,138000.0,138000.0,138000.0,138000.0,138000.0,138000.0,138000.0,138000.0,138000.0,138000.0,138000.0,138000.0,138000.0,138000.0,138000.0,138000.0,138000.0,138000.0,138000.0,138000.0,138000.0,138000.0,138000.0,138000.0,139000.0,139000.0,139000.0,139000.0,139000.0,139000.0,139000.0,139000.0,139000.0,139000.0,139000.0,139000.0,139000.0,139000.0,139000.0,139000.0,139000.0,139000.0,139000.0,139000.0,139000.0,139000.0,139000.0,139000.0,139000.0,139000.0,139000.0,139000.0,139000.0,139000.0,139000.0,139000.0,139000.0,139000.0,139000.0,139000.0,139000.0,139000.0,139000.0,139000.0,139000.0,139000.0,139000.0,139000.0,139000.0,139000.0,139000.0,139000.0,139000.0,139000.0,139000.0,139000.0,139000.0,139000.0,139000.0,139000.0,139000.0,139000.0,139000.0,139000.0,139000.0,139000.0,139000.0,139000.0,139000.0,139000.0,140000.0,140000.0,140000.0,140000.0,140000.0,140000.0,140000.0,140000.0,140000.0,140000.0,140000.0,140000.0,140000.0,140000.0,140000.0,140000.0,140000.0,140000.0,140000.0,140000.0,140000.0,140000.0,140000.0,140000.0,140000.0,140000.0,140000.0,140000.0,140000.0,140000.0,140000.0,140000.0,140000.0,140000.0,140000.0,140000.0,140000.0,140000.0,140000.0,140000.0,140000.0,140000.0,140000.0,140000.0,140000.0,140000.0,140000.0,140000.0,140000.0,140000.0,140000.0,140000.0,141000.0,141000.0,141000.0,141000.0,141000.0,141000.0,141000.0,141000.0,141000.0,141000.0,141000.0,141000.0,141000.0,141000.0,141000.0,141000.0,141000.0,141000.0,141000.0,141000.0,141000.0,141000.0,141000.0,141000.0,141000.0,141000.0,141000.0,141000.0,141000.0,141000.0,141000.0,141000.0,141000.0,141000.0,141000.0,141000.0,141000.0,141000.0,141000.0,141000.0,141000.0,141000.0,141000.0,141000.0,141000.0,141000.0,141000.0,141000.0,141000.0,141000.0,141000.0,141000.0,141000.0,141000.0,141000.0,141000.0,142000.0,142000.0,142000.0,142000.0,142000.0,142000.0,142000.0,142000.0,142000.0,142000.0,142000.0,142000.0,142000.0,142000.0,142000.0,142000.0,142000.0,142000.0,142000.0,142000.0,142000.0,142000.0,142000.0,142000.0,142000.0,142000.0,142000.0,142000.0,142000.0,142000.0,142000.0,142000.0,142000.0,142000.0,142000.0,142000.0,142000.0,142000.0,142000.0,142000.0,142000.0,142000.0,142000.0,142000.0,142000.0,142000.0,142000.0,142000.0,142000.0,142000.0,142000.0,142000.0,142000.0,142000.0,142000.0,142000.0,142000.0,142000.0,142000.0,142000.0,142000.0,142000.0,142000.0,142000.0,142000.0,143000.0,143000.0,143000.0,143000.0,143000.0,143000.0,143000.0,143000.0,143000.0,143000.0,143000.0,143000.0,143000.0,143000.0,143000.0,143000.0,143000.0,143000.0,143000.0,143000.0,143000.0,143000.0,143000.0,143000.0,143000.0,143000.0,143000.0,143000.0,143000.0,143000.0,143000.0,143000.0,143000.0,143000.0,143000.0,143000.0,143000.0,143000.0,143000.0,143000.0,143000.0,143000.0,143000.0,143000.0,143000.0,143000.0,143000.0,143000.0,143000.0,143000.0,143000.0,143000.0,143000.0,143000.0,143000.0,143000.0,143000.0,143000.0,143000.0,143000.0,143000.0,144000.0,144000.0,144000.0,144000.0,144000.0,144000.0,144000.0,144000.0,144000.0,144000.0,144000.0,144000.0,144000.0,144000.0,144000.0,144000.0,144000.0,144000.0,144000.0,144000.0,144000.0,144000.0,144000.0,144000.0,144000.0,144000.0,144000.0,144000.0,144000.0,144000.0,144000.0,144000.0,144000.0,144000.0,144000.0,144000.0,144000.0,144000.0,144000.0,144000.0,144000.0,144000.0,144000.0,144000.0,144000.0,144000.0,144000.0,144000.0,144000.0,144000.0,144000.0,144000.0,144000.0,144000.0,144000.0,144000.0,144000.0,144000.0,145000.0,145000.0,145000.0,145000.0,145000.0,145000.0,145000.0,145000.0,145000.0,145000.0,145000.0,145000.0,145000.0,145000.0,145000.0,145000.0,145000.0,145000.0,145000.0,145000.0,145000.0,145000.0,145000.0,145000.0,145000.0,145000.0,145000.0,145000.0,145000.0,145000.0,145000.0,145000.0,145000.0,145000.0,145000.0,145000.0,145000.0,145000.0,145000.0,145000.0,145000.0,145000.0,145000.0,145000.0,145000.0,145000.0,146000.0,146000.0,146000.0,146000.0,146000.0,146000.0,146000.0,146000.0,146000.0,146000.0,146000.0,146000.0,146000.0,146000.0,146000.0,146000.0,146000.0,146000.0,146000.0,146000.0,146000.0,146000.0,146000.0,146000.0,146000.0,146000.0,146000.0,146000.0,146000.0,146000.0,146000.0,146000.0,146000.0,146000.0,146000.0,146000.0,146000.0,146000.0,147000.0,147000.0,147000.0,147000.0,147000.0,147000.0,147000.0,147000.0,147000.0,147000.0,147000.0,147000.0,147000.0,147000.0,147000.0,147000.0,147000.0,147000.0,147000.0,147000.0,147000.0,147000.0,147000.0,147000.0,147000.0,147000.0,147000.0,147000.0,147000.0,147000.0,147000.0,147000.0,147000.0,147000.0,147000.0,147000.0,147000.0,147000.0,147000.0,147000.0,147000.0,147000.0,147000.0,147000.0,147000.0,147000.0,147000.0,148000.0,148000.0,148000.0,148000.0,148000.0,148000.0,148000.0,148000.0,148000.0,148000.0,148000.0,148000.0,148000.0,148000.0,148000.0,148000.0,148000.0,148000.0,148000.0,148000.0,148000.0,148000.0,148000.0,148000.0,148000.0,148000.0,148000.0,148000.0,148000.0,148000.0,148000.0,148000.0,148000.0,148000.0,148000.0,148000.0,148000.0,148000.0,148000.0,148000.0,148000.0,148000.0,148000.0,148000.0,148000.0,148000.0,148000.0,148000.0,148000.0,148000.0,148000.0,148000.0,148000.0,148000.0,148000.0,148000.0,149000.0,149000.0,149000.0,149000.0,149000.0,149000.0,149000.0,149000.0,149000.0,149000.0,149000.0,149000.0,149000.0,149000.0,149000.0,149000.0,149000.0,149000.0,149000.0,149000.0,149000.0,149000.0,149000.0,149000.0,149000.0,149000.0,149000.0,149000.0,149000.0,149000.0,149000.0,149000.0,149000.0,149000.0,149000.0,149000.0,149000.0,149000.0,149000.0,149000.0,149000.0,149000.0,149000.0,149000.0,150000.0,150000.0,150000.0,150000.0,150000.0,150000.0,150000.0,150000.0,150000.0,150000.0,150000.0,150000.0,150000.0,150000.0,150000.0,150000.0,150000.0,150000.0,150000.0,150000.0,150000.0,150000.0,150000.0,150000.0,150000.0,150000.0,150000.0,150000.0,150000.0,150000.0,150000.0,150000.0,150000.0,150000.0,150000.0,150000.0,150000.0,150000.0,150000.0,150000.0,150000.0,151000.0,151000.0,151000.0,151000.0,151000.0,151000.0,151000.0,151000.0,151000.0,151000.0,151000.0,151000.0,151000.0,151000.0,151000.0,151000.0,151000.0,151000.0,151000.0,151000.0,151000.0,151000.0,151000.0,151000.0,151000.0,151000.0,151000.0,151000.0,151000.0,151000.0,151000.0,151000.0,151000.0,151000.0,151000.0,151000.0,151000.0,151000.0,151000.0,151000.0,151000.0,151000.0,152000.0,152000.0,152000.0,152000.0,152000.0,152000.0,152000.0,152000.0,152000.0,152000.0,152000.0,152000.0,152000.0,152000.0,152000.0,152000.0,152000.0,152000.0,152000.0,152000.0,152000.0,152000.0,152000.0,152000.0,152000.0,152000.0,152000.0,152000.0,152000.0,152000.0,152000.0,152000.0,152000.0,152000.0,153000.0,153000.0,153000.0,153000.0,153000.0,153000.0,153000.0,153000.0,153000.0,153000.0,153000.0,153000.0,153000.0,153000.0,153000.0,153000.0,153000.0,153000.0,153000.0,153000.0,153000.0,153000.0,153000.0,153000.0,153000.0,153000.0,153000.0,153000.0,153000.0,153000.0,153000.0,154000.0,154000.0,154000.0,154000.0,154000.0,154000.0,154000.0,154000.0,154000.0,154000.0,154000.0,154000.0,154000.0,154000.0,154000.0,154000.0,154000.0,154000.0,154000.0,154000.0,154000.0,154000.0,154000.0,154000.0,154000.0,154000.0,154000.0,154000.0,154000.0,154000.0,154000.0,154000.0,154000.0,154000.0,154000.0,154000.0,155000.0,155000.0,155000.0,155000.0,155000.0,155000.0,155000.0,155000.0,155000.0,155000.0,155000.0,155000.0,155000.0,155000.0,155000.0,155000.0,155000.0,155000.0,155000.0,155000.0,155000.0,155000.0,155000.0,155000.0,155000.0,155000.0,155000.0,155000.0,155000.0,155000.0,156000.0,156000.0,156000.0,156000.0,156000.0,156000.0,156000.0,156000.0,156000.0,156000.0,156000.0,156000.0,156000.0,156000.0,156000.0,156000.0,156000.0,156000.0,156000.0,156000.0,156000.0,156000.0,156000.0,156000.0,157000.0,157000.0,157000.0,157000.0,157000.0,157000.0,157000.0,157000.0,157000.0,157000.0,157000.0,157000.0,157000.0,157000.0,157000.0,157000.0,157000.0,157000.0,157000.0,157000.0,157000.0,157000.0,157000.0,157000.0,157000.0,157000.0,157000.0,157000.0,157000.0,157000.0,157000.0,157000.0,157000.0,158000.0,158000.0,158000.0,158000.0,158000.0,158000.0,158000.0,158000.0,158000.0,158000.0,158000.0,158000.0,158000.0,158000.0,158000.0,158000.0,158000.0,158000.0,158000.0,158000.0,158000.0,158000.0,158000.0,158000.0,158000.0,158000.0,158000.0,158000.0,158000.0,158000.0,158000.0,158000.0,158000.0,158000.0,158000.0,159000.0,159000.0,159000.0,159000.0,159000.0,159000.0,159000.0,159000.0,159000.0,159000.0,159000.0,159000.0,159000.0,159000.0,159000.0,159000.0,159000.0,159000.0,159000.0,159000.0,159000.0,159000.0,159000.0,159000.0,159000.0,159000.0,159000.0,159000.0,160000.0,160000.0,160000.0,160000.0,160000.0,160000.0,160000.0,160000.0,160000.0,160000.0,160000.0,160000.0,160000.0,160000.0,160000.0,160000.0,160000.0,160000.0,160000.0,161000.0,161000.0,161000.0,161000.0,161000.0,161000.0,161000.0,161000.0,161000.0,161000.0,161000.0,161000.0,161000.0,161000.0,161000.0,161000.0,162000.0,162000.0,162000.0,162000.0,162000.0,162000.0,162000.0,162000.0,162000.0,162000.0,162000.0,162000.0,162000.0,162000.0,162000.0,162000.0,162000.0,162000.0,162000.0,162000.0,162000.0,162000.0,162000.0,162000.0,162000.0,162000.0,163000.0,163000.0,163000.0,163000.0,163000.0,163000.0,163000.0,163000.0,163000.0,163000.0,163000.0,163000.0,163000.0,163000.0,163000.0,163000.0,163000.0,163000.0,163000.0,163000.0,163000.0,163000.0,163000.0,163000.0,163000.0,163000.0,163000.0,163000.0,163000.0,163000.0,163000.0,163000.0,163000.0,163000.0,163000.0,164000.0,164000.0,164000.0,164000.0,164000.0,164000.0,164000.0,164000.0,164000.0,164000.0,164000.0,164000.0,164000.0,164000.0,164000.0,165000.0,165000.0,165000.0,165000.0,165000.0,165000.0,165000.0,165000.0,165000.0,165000.0,165000.0,165000.0,165000.0,165000.0,165000.0,165000.0,165000.0,165000.0,165000.0,165000.0,166000.0,166000.0,166000.0,166000.0,166000.0,166000.0,166000.0,166000.0,166000.0,166000.0,166000.0,166000.0,166000.0,166000.0,166000.0,166000.0,166000.0,166000.0,166000.0,166000.0,166000.0,166000.0,166000.0,166000.0,166000.0,166000.0,166000.0,166000.0,166000.0,166000.0,167000.0,167000.0,167000.0,167000.0,167000.0,167000.0,167000.0,167000.0,167000.0,167000.0,167000.0,167000.0,167000.0,167000.0,167000.0,167000.0,167000.0,167000.0,167000.0,167000.0,167000.0,168000.0,168000.0,168000.0,168000.0,168000.0,168000.0,168000.0,168000.0,168000.0,168000.0,168000.0,168000.0,168000.0,168000.0,168000.0,168000.0,168000.0,168000.0,168000.0,169000.0,169000.0,169000.0,169000.0,169000.0,169000.0,169000.0,169000.0,169000.0,169000.0,169000.0,169000.0,169000.0,169000.0,169000.0,169000.0,169000.0,169000.0,170000.0,170000.0,170000.0,170000.0,170000.0,170000.0,170000.0,170000.0,170000.0,170000.0,170000.0,170000.0,170000.0,170000.0,170000.0,171000.0,171000.0,171000.0,171000.0,171000.0,171000.0,171000.0,171000.0,171000.0,171000.0,171000.0,171000.0,171000.0,171000.0,171000.0,171000.0,171000.0,171000.0,172000.0,172000.0,172000.0,172000.0,172000.0,172000.0,172000.0,172000.0,172000.0,172000.0,172000.0,173000.0,173000.0,173000.0,173000.0,173000.0,173000.0,173000.0,173000.0,173000.0,173000.0,173000.0,173000.0,173000.0,173000.0,173000.0,174000.0,174000.0,174000.0,174000.0,174000.0,174000.0,174000.0,174000.0,174000.0,174000.0,174000.0,174000.0,174000.0,174000.0,174000.0,174000.0,174000.0,174000.0,174000.0,175000.0,175000.0,175000.0,175000.0,175000.0,175000.0,175000.0,175000.0,175000.0,175000.0,175000.0,175000.0,175000.0,176000.0,176000.0,176000.0,176000.0,176000.0,176000.0,176000.0,176000.0,176000.0,176000.0,176000.0,176000.0,176000.0,177000.0,177000.0,177000.0,177000.0,177000.0,177000.0,177000.0,177000.0,177000.0,177000.0,178000.0,178000.0,178000.0,178000.0,179000.0,179000.0,179000.0,179000.0,179000.0,179000.0,179000.0,179000.0,179000.0,179000.0,179000.0,179000.0,179000.0,179000.0,179000.0,179000.0,179000.0,180000.0,180000.0,180000.0,180000.0,180000.0,180000.0,180000.0,180000.0,180000.0,180000.0,180000.0,180000.0,180000.0,180000.0,181000.0,181000.0,181000.0,181000.0,181000.0,181000.0,181000.0,181000.0,182000.0,182000.0,182000.0,182000.0,182000.0,182000.0,182000.0,182000.0,182000.0,182000.0,183000.0,183000.0,183000.0,183000.0,183000.0,183000.0,183000.0,183000.0,183000.0,183000.0,184000.0,184000.0,184000.0,184000.0,184000.0,184000.0,184000.0,184000.0,184000.0,185000.0,185000.0,185000.0,185000.0,185000.0,185000.0,185000.0,185000.0,186000.0,186000.0,186000.0,186000.0,186000.0,186000.0,186000.0,186000.0,187000.0,187000.0,187000.0,187000.0,187000.0,187000.0,187000.0,187000.0,187000.0,187000.0,188000.0,188000.0,188000.0,188000.0,188000.0,188000.0,188000.0,188000.0,188000.0,189000.0,189000.0,189000.0,189000.0,189000.0,189000.0,190000.0,190000.0,190000.0,190000.0,190000.0,191000.0,191000.0,191000.0,191000.0,191000.0,191000.0,191000.0,192000.0,192000.0,192000.0,192000.0,192000.0,192000.0,192000.0,193000.0,193000.0,193000.0,193000.0,193000.0,193000.0,193000.0,194000.0,194000.0,194000.0,194000.0,194000.0,195000.0,195000.0,195000.0,195000.0,195000.0,196000.0,196000.0,196000.0,196000.0,196000.0,196000.0,197000.0,197000.0,197000.0,197000.0,197000.0,197000.0,197000.0,198000.0,198000.0,198000.0,198000.0,199000.0,199000.0,199000.0,200000.0,200000.0,200000.0,200000.0,201000.0,201000.0,201000.0,201000.0,201000.0,202000.0,202000.0,202000.0,202000.0,202000.0,202000.0,202000.0,202000.0,203000.0,203000.0,203000.0,203000.0,203000.0,203000.0,204000.0,205000.0,205000.0,205000.0,205000.0,205000.0,205000.0,205000.0,205000.0,205000.0,206000.0,206000.0,206000.0,207000.0,207000.0,207000.0,207000.0,208000.0,208000.0,209000.0,209000.0,209000.0,210000.0,210000.0,212000.0,212000.0,213000.0,213000.0,213000.0,213000.0,214000.0,214000.0,214000.0,214000.0,215000.0,215000.0,215000.0,216000.0,216000.0,216000.0,216000.0,216000.0,216000.0,216000.0,217000.0,217000.0,217000.0,218000.0,218000.0,218000.0,218000.0,219000.0,219000.0,220000.0,220000.0,220000.0,220000.0,221000.0,221000.0,221000.0,221000.0,222000.0,222000.0,223000.0,223000.0,223000.0,223000.0,223000.0,223000.0,223000.0,224000.0,224000.0,224000.0,225000.0,225000.0,225000.0,225000.0,226000.0,226000.0,226000.0,227000.0,227000.0,228000.0,228000.0,229000.0,229000.0,230000.0,231000.0,231000.0,232000.0,232000.0,233000.0,233000.0,235000.0,236000.0,237000.0,238000.0,241000.0,242000.0,244000.0,244000.0,245000.0,245000.0,245000.0,246000.0,247000.0,250000.0,250000.0,250000.0,251000.0,251000.0,253000.0,254000.0,255000.0,256000.0,257000.0,258000.0,258000.0,262000.0,263000.0,263000.0,270000.0,270000.0,271000.0,272000.0,273000.0,277000.0,283000.0,284000.0,285000.0,291000.0,291000.0,293000.0,297000.0,297000.0,298000.0,309000.0,329000.0,336000.0,337000.0,365000.0,401000.0,432000.0,439000.0,481000.0],\"xaxis\":\"x\",\"y\":[2360.7231376085865,2360.7231376085865,2360.7231376085865,2360.7231376085865,2360.7231376085865,2360.7231376085865,2360.7231376085865,2360.7231376085865,2360.7231376085865,2360.7231376085865,2360.7231376085865,2360.7231376085865,2360.7231376085865,2360.7231376085865,2360.7231376085865,2360.7231376085865,2360.7231376085865,2360.7231376085865,2360.7231376085865,2360.7231376085865,2360.7231376085865,2360.7231376085865,2360.7231376085865,2360.7231376085865,2360.7231376085865,2360.7231376085865,2360.7231376085865,2360.7231376085865,2360.7231376085865,2360.7231376085865,2360.7231376085865,2360.7231376085865,2360.7231376085865,2360.7231376085865,2360.7231376085865,2360.7231376085865,2360.7231376085865,2360.7231376085865,2360.7231376085865,2360.7231376085865,2360.7231376085865,2360.7231376085865,2360.7231376085865,2394.073524380966,2394.073524380966,2394.073524380966,2394.073524380966,2394.073524380966,2394.073524380966,2394.073524380966,2394.073524380966,2394.073524380966,2394.073524380966,2394.073524380966,2394.073524380966,2394.073524380966,2394.073524380966,2394.073524380966,2394.073524380966,2394.073524380966,2394.073524380966,2394.073524380966,2394.073524380966,2394.073524380966,2394.073524380966,2394.073524380966,2394.073524380966,2394.073524380966,2394.073524380966,2394.073524380966,2394.073524380966,2394.073524380966,2394.073524380966,2394.073524380966,2394.073524380966,2394.073524380966,2394.073524380966,2394.073524380966,2394.073524380966,2394.073524380966,2394.073524380966,2394.073524380966,2394.073524380966,2394.073524380966,2394.073524380966,2394.073524380966,2394.073524380966,2394.073524380966,2394.073524380966,2394.073524380966,2394.073524380966,2394.073524380966,2394.073524380966,2394.073524380966,2394.073524380966,2394.073524380966,2394.073524380966,2394.073524380966,2394.073524380966,2394.073524380966,2394.073524380966,2394.073524380966,2394.073524380966,2394.073524380966,2394.073524380966,2394.073524380966,2394.073524380966,2394.073524380966,2394.073524380966,2394.073524380966,2394.073524380966,2394.073524380966,2394.073524380966,2394.073524380966,2394.073524380966,2394.073524380966,2394.073524380966,2394.073524380966,2427.423911153346,2427.423911153346,2427.423911153346,2427.423911153346,2427.423911153346,2427.423911153346,2427.423911153346,2427.423911153346,2427.423911153346,2427.423911153346,2427.423911153346,2427.423911153346,2427.423911153346,2427.423911153346,2427.423911153346,2427.423911153346,2427.423911153346,2427.423911153346,2427.423911153346,2427.423911153346,2427.423911153346,2427.423911153346,2427.423911153346,2427.423911153346,2427.423911153346,2427.423911153346,2427.423911153346,2427.423911153346,2427.423911153346,2427.423911153346,2427.423911153346,2427.423911153346,2427.423911153346,2427.423911153346,2427.423911153346,2427.423911153346,2427.423911153346,2427.423911153346,2427.423911153346,2427.423911153346,2427.423911153346,2427.423911153346,2427.423911153346,2427.423911153346,2427.423911153346,2427.423911153346,2427.423911153346,2427.423911153346,2427.423911153346,2427.423911153346,2427.423911153346,2427.423911153346,2427.423911153346,2427.423911153346,2427.423911153346,2427.423911153346,2427.423911153346,2427.423911153346,2427.423911153346,2427.423911153346,2427.423911153346,2427.423911153346,2427.423911153346,2427.423911153346,2427.423911153346,2460.7742979257255,2460.7742979257255,2460.7742979257255,2460.7742979257255,2460.7742979257255,2460.7742979257255,2460.7742979257255,2460.7742979257255,2460.7742979257255,2460.7742979257255,2460.7742979257255,2460.7742979257255,2460.7742979257255,2460.7742979257255,2460.7742979257255,2460.7742979257255,2460.7742979257255,2460.7742979257255,2460.7742979257255,2460.7742979257255,2460.7742979257255,2460.7742979257255,2460.7742979257255,2460.7742979257255,2460.7742979257255,2460.7742979257255,2460.7742979257255,2460.7742979257255,2460.7742979257255,2460.7742979257255,2460.7742979257255,2460.7742979257255,2460.7742979257255,2460.7742979257255,2460.7742979257255,2460.7742979257255,2460.7742979257255,2460.7742979257255,2460.7742979257255,2460.7742979257255,2460.7742979257255,2460.7742979257255,2460.7742979257255,2460.7742979257255,2460.7742979257255,2460.7742979257255,2460.7742979257255,2460.7742979257255,2460.7742979257255,2460.7742979257255,2460.7742979257255,2460.7742979257255,2460.7742979257255,2460.7742979257255,2460.7742979257255,2460.7742979257255,2460.7742979257255,2460.7742979257255,2460.7742979257255,2460.7742979257255,2460.7742979257255,2460.7742979257255,2460.7742979257255,2460.7742979257255,2460.7742979257255,2460.7742979257255,2460.7742979257255,2460.7742979257255,2460.7742979257255,2460.7742979257255,2460.7742979257255,2460.7742979257255,2460.7742979257255,2460.7742979257255,2460.7742979257255,2460.7742979257255,2494.1246846981057,2494.1246846981057,2494.1246846981057,2494.1246846981057,2494.1246846981057,2494.1246846981057,2494.1246846981057,2494.1246846981057,2494.1246846981057,2494.1246846981057,2494.1246846981057,2494.1246846981057,2494.1246846981057,2494.1246846981057,2494.1246846981057,2494.1246846981057,2494.1246846981057,2494.1246846981057,2494.1246846981057,2494.1246846981057,2494.1246846981057,2494.1246846981057,2494.1246846981057,2494.1246846981057,2494.1246846981057,2494.1246846981057,2494.1246846981057,2494.1246846981057,2494.1246846981057,2494.1246846981057,2494.1246846981057,2494.1246846981057,2494.1246846981057,2494.1246846981057,2494.1246846981057,2494.1246846981057,2494.1246846981057,2494.1246846981057,2494.1246846981057,2494.1246846981057,2494.1246846981057,2494.1246846981057,2494.1246846981057,2494.1246846981057,2494.1246846981057,2494.1246846981057,2494.1246846981057,2494.1246846981057,2494.1246846981057,2494.1246846981057,2494.1246846981057,2494.1246846981057,2494.1246846981057,2494.1246846981057,2494.1246846981057,2494.1246846981057,2494.1246846981057,2494.1246846981057,2494.1246846981057,2494.1246846981057,2494.1246846981057,2494.1246846981057,2494.1246846981057,2494.1246846981057,2494.1246846981057,2494.1246846981057,2494.1246846981057,2494.1246846981057,2494.1246846981057,2494.1246846981057,2494.1246846981057,2494.1246846981057,2494.1246846981057,2494.1246846981057,2494.1246846981057,2494.1246846981057,2494.1246846981057,2494.1246846981057,2494.1246846981057,2494.1246846981057,2494.1246846981057,2494.1246846981057,2494.1246846981057,2527.475071470485,2527.475071470485,2527.475071470485,2527.475071470485,2527.475071470485,2527.475071470485,2527.475071470485,2527.475071470485,2527.475071470485,2527.475071470485,2527.475071470485,2527.475071470485,2527.475071470485,2527.475071470485,2527.475071470485,2527.475071470485,2527.475071470485,2527.475071470485,2527.475071470485,2527.475071470485,2527.475071470485,2527.475071470485,2527.475071470485,2527.475071470485,2527.475071470485,2527.475071470485,2527.475071470485,2527.475071470485,2527.475071470485,2527.475071470485,2527.475071470485,2527.475071470485,2527.475071470485,2527.475071470485,2527.475071470485,2527.475071470485,2527.475071470485,2527.475071470485,2527.475071470485,2527.475071470485,2527.475071470485,2527.475071470485,2527.475071470485,2527.475071470485,2527.475071470485,2527.475071470485,2527.475071470485,2527.475071470485,2527.475071470485,2527.475071470485,2527.475071470485,2527.475071470485,2527.475071470485,2527.475071470485,2527.475071470485,2527.475071470485,2527.475071470485,2527.475071470485,2527.475071470485,2527.475071470485,2527.475071470485,2527.475071470485,2527.475071470485,2527.475071470485,2560.8254582428654,2560.8254582428654,2560.8254582428654,2560.8254582428654,2560.8254582428654,2560.8254582428654,2560.8254582428654,2560.8254582428654,2560.8254582428654,2560.8254582428654,2560.8254582428654,2560.8254582428654,2560.8254582428654,2560.8254582428654,2560.8254582428654,2560.8254582428654,2560.8254582428654,2560.8254582428654,2560.8254582428654,2560.8254582428654,2560.8254582428654,2560.8254582428654,2560.8254582428654,2560.8254582428654,2560.8254582428654,2560.8254582428654,2560.8254582428654,2560.8254582428654,2560.8254582428654,2560.8254582428654,2560.8254582428654,2560.8254582428654,2560.8254582428654,2560.8254582428654,2560.8254582428654,2560.8254582428654,2560.8254582428654,2560.8254582428654,2560.8254582428654,2560.8254582428654,2560.8254582428654,2560.8254582428654,2560.8254582428654,2560.8254582428654,2560.8254582428654,2560.8254582428654,2560.8254582428654,2560.8254582428654,2560.8254582428654,2560.8254582428654,2560.8254582428654,2560.8254582428654,2560.8254582428654,2560.8254582428654,2560.8254582428654,2560.8254582428654,2560.8254582428654,2560.8254582428654,2560.8254582428654,2560.8254582428654,2560.8254582428654,2560.8254582428654,2560.8254582428654,2560.8254582428654,2560.8254582428654,2560.8254582428654,2560.8254582428654,2560.8254582428654,2560.8254582428654,2560.8254582428654,2560.8254582428654,2560.8254582428654,2560.8254582428654,2594.1758450152447,2594.1758450152447,2594.1758450152447,2594.1758450152447,2594.1758450152447,2594.1758450152447,2594.1758450152447,2594.1758450152447,2594.1758450152447,2594.1758450152447,2594.1758450152447,2594.1758450152447,2594.1758450152447,2594.1758450152447,2594.1758450152447,2594.1758450152447,2594.1758450152447,2594.1758450152447,2594.1758450152447,2594.1758450152447,2594.1758450152447,2594.1758450152447,2594.1758450152447,2594.1758450152447,2594.1758450152447,2594.1758450152447,2594.1758450152447,2594.1758450152447,2594.1758450152447,2594.1758450152447,2594.1758450152447,2594.1758450152447,2594.1758450152447,2594.1758450152447,2594.1758450152447,2594.1758450152447,2594.1758450152447,2594.1758450152447,2594.1758450152447,2594.1758450152447,2594.1758450152447,2594.1758450152447,2594.1758450152447,2594.1758450152447,2594.1758450152447,2594.1758450152447,2594.1758450152447,2594.1758450152447,2594.1758450152447,2594.1758450152447,2594.1758450152447,2594.1758450152447,2594.1758450152447,2594.1758450152447,2594.1758450152447,2594.1758450152447,2594.1758450152447,2594.1758450152447,2594.1758450152447,2594.1758450152447,2594.1758450152447,2594.1758450152447,2594.1758450152447,2594.1758450152447,2594.1758450152447,2594.1758450152447,2594.1758450152447,2594.1758450152447,2594.1758450152447,2627.526231787625,2627.526231787625,2627.526231787625,2627.526231787625,2627.526231787625,2627.526231787625,2627.526231787625,2627.526231787625,2627.526231787625,2627.526231787625,2627.526231787625,2627.526231787625,2627.526231787625,2627.526231787625,2627.526231787625,2627.526231787625,2627.526231787625,2627.526231787625,2627.526231787625,2627.526231787625,2627.526231787625,2627.526231787625,2627.526231787625,2627.526231787625,2627.526231787625,2627.526231787625,2627.526231787625,2627.526231787625,2627.526231787625,2627.526231787625,2627.526231787625,2627.526231787625,2627.526231787625,2627.526231787625,2627.526231787625,2627.526231787625,2627.526231787625,2627.526231787625,2627.526231787625,2627.526231787625,2627.526231787625,2627.526231787625,2627.526231787625,2627.526231787625,2627.526231787625,2627.526231787625,2627.526231787625,2627.526231787625,2627.526231787625,2627.526231787625,2627.526231787625,2627.526231787625,2627.526231787625,2627.526231787625,2627.526231787625,2627.526231787625,2627.526231787625,2627.526231787625,2627.526231787625,2627.526231787625,2627.526231787625,2627.526231787625,2627.526231787625,2627.526231787625,2627.526231787625,2627.526231787625,2627.526231787625,2627.526231787625,2627.526231787625,2627.526231787625,2627.526231787625,2660.8766185600043,2660.8766185600043,2660.8766185600043,2660.8766185600043,2660.8766185600043,2660.8766185600043,2660.8766185600043,2660.8766185600043,2660.8766185600043,2660.8766185600043,2660.8766185600043,2660.8766185600043,2660.8766185600043,2660.8766185600043,2660.8766185600043,2660.8766185600043,2660.8766185600043,2660.8766185600043,2660.8766185600043,2660.8766185600043,2660.8766185600043,2660.8766185600043,2660.8766185600043,2660.8766185600043,2660.8766185600043,2660.8766185600043,2660.8766185600043,2660.8766185600043,2660.8766185600043,2660.8766185600043,2660.8766185600043,2660.8766185600043,2660.8766185600043,2660.8766185600043,2660.8766185600043,2660.8766185600043,2660.8766185600043,2660.8766185600043,2660.8766185600043,2660.8766185600043,2660.8766185600043,2660.8766185600043,2660.8766185600043,2660.8766185600043,2660.8766185600043,2660.8766185600043,2660.8766185600043,2660.8766185600043,2660.8766185600043,2660.8766185600043,2660.8766185600043,2660.8766185600043,2660.8766185600043,2660.8766185600043,2660.8766185600043,2660.8766185600043,2660.8766185600043,2660.8766185600043,2660.8766185600043,2660.8766185600043,2660.8766185600043,2660.8766185600043,2660.8766185600043,2660.8766185600043,2660.8766185600043,2660.8766185600043,2660.8766185600043,2660.8766185600043,2660.8766185600043,2660.8766185600043,2660.8766185600043,2660.8766185600043,2660.8766185600043,2694.2270053323846,2694.2270053323846,2694.2270053323846,2694.2270053323846,2694.2270053323846,2694.2270053323846,2694.2270053323846,2694.2270053323846,2694.2270053323846,2694.2270053323846,2694.2270053323846,2694.2270053323846,2694.2270053323846,2694.2270053323846,2694.2270053323846,2694.2270053323846,2694.2270053323846,2694.2270053323846,2694.2270053323846,2694.2270053323846,2694.2270053323846,2694.2270053323846,2694.2270053323846,2694.2270053323846,2694.2270053323846,2694.2270053323846,2694.2270053323846,2694.2270053323846,2694.2270053323846,2694.2270053323846,2694.2270053323846,2694.2270053323846,2694.2270053323846,2694.2270053323846,2694.2270053323846,2694.2270053323846,2694.2270053323846,2694.2270053323846,2694.2270053323846,2694.2270053323846,2694.2270053323846,2694.2270053323846,2694.2270053323846,2694.2270053323846,2694.2270053323846,2694.2270053323846,2694.2270053323846,2694.2270053323846,2694.2270053323846,2694.2270053323846,2694.2270053323846,2694.2270053323846,2694.2270053323846,2694.2270053323846,2694.2270053323846,2694.2270053323846,2694.2270053323846,2694.2270053323846,2694.2270053323846,2694.2270053323846,2694.2270053323846,2694.2270053323846,2694.2270053323846,2694.2270053323846,2694.2270053323846,2694.2270053323846,2727.577392104764,2727.577392104764,2727.577392104764,2727.577392104764,2727.577392104764,2727.577392104764,2727.577392104764,2727.577392104764,2727.577392104764,2727.577392104764,2727.577392104764,2727.577392104764,2727.577392104764,2727.577392104764,2727.577392104764,2727.577392104764,2727.577392104764,2727.577392104764,2727.577392104764,2727.577392104764,2727.577392104764,2727.577392104764,2727.577392104764,2727.577392104764,2727.577392104764,2727.577392104764,2727.577392104764,2727.577392104764,2727.577392104764,2727.577392104764,2727.577392104764,2727.577392104764,2727.577392104764,2727.577392104764,2727.577392104764,2727.577392104764,2727.577392104764,2727.577392104764,2727.577392104764,2727.577392104764,2727.577392104764,2727.577392104764,2727.577392104764,2727.577392104764,2727.577392104764,2727.577392104764,2727.577392104764,2727.577392104764,2727.577392104764,2727.577392104764,2727.577392104764,2727.577392104764,2760.927778877144,2760.927778877144,2760.927778877144,2760.927778877144,2760.927778877144,2760.927778877144,2760.927778877144,2760.927778877144,2760.927778877144,2760.927778877144,2760.927778877144,2760.927778877144,2760.927778877144,2760.927778877144,2760.927778877144,2760.927778877144,2760.927778877144,2760.927778877144,2760.927778877144,2760.927778877144,2760.927778877144,2760.927778877144,2760.927778877144,2760.927778877144,2760.927778877144,2760.927778877144,2760.927778877144,2760.927778877144,2760.927778877144,2760.927778877144,2760.927778877144,2760.927778877144,2760.927778877144,2760.927778877144,2760.927778877144,2760.927778877144,2760.927778877144,2760.927778877144,2760.927778877144,2760.927778877144,2760.927778877144,2760.927778877144,2760.927778877144,2760.927778877144,2760.927778877144,2760.927778877144,2760.927778877144,2760.927778877144,2760.927778877144,2760.927778877144,2760.927778877144,2760.927778877144,2760.927778877144,2760.927778877144,2760.927778877144,2760.927778877144,2794.2781656495235,2794.2781656495235,2794.2781656495235,2794.2781656495235,2794.2781656495235,2794.2781656495235,2794.2781656495235,2794.2781656495235,2794.2781656495235,2794.2781656495235,2794.2781656495235,2794.2781656495235,2794.2781656495235,2794.2781656495235,2794.2781656495235,2794.2781656495235,2794.2781656495235,2794.2781656495235,2794.2781656495235,2794.2781656495235,2794.2781656495235,2794.2781656495235,2794.2781656495235,2794.2781656495235,2794.2781656495235,2794.2781656495235,2794.2781656495235,2794.2781656495235,2794.2781656495235,2794.2781656495235,2794.2781656495235,2794.2781656495235,2794.2781656495235,2794.2781656495235,2794.2781656495235,2794.2781656495235,2794.2781656495235,2794.2781656495235,2794.2781656495235,2794.2781656495235,2794.2781656495235,2794.2781656495235,2794.2781656495235,2794.2781656495235,2794.2781656495235,2794.2781656495235,2794.2781656495235,2794.2781656495235,2794.2781656495235,2794.2781656495235,2794.2781656495235,2794.2781656495235,2794.2781656495235,2794.2781656495235,2794.2781656495235,2794.2781656495235,2794.2781656495235,2794.2781656495235,2794.2781656495235,2794.2781656495235,2794.2781656495235,2794.2781656495235,2794.2781656495235,2794.2781656495235,2794.2781656495235,2827.628552421904,2827.628552421904,2827.628552421904,2827.628552421904,2827.628552421904,2827.628552421904,2827.628552421904,2827.628552421904,2827.628552421904,2827.628552421904,2827.628552421904,2827.628552421904,2827.628552421904,2827.628552421904,2827.628552421904,2827.628552421904,2827.628552421904,2827.628552421904,2827.628552421904,2827.628552421904,2827.628552421904,2827.628552421904,2827.628552421904,2827.628552421904,2827.628552421904,2827.628552421904,2827.628552421904,2827.628552421904,2827.628552421904,2827.628552421904,2827.628552421904,2827.628552421904,2827.628552421904,2827.628552421904,2827.628552421904,2827.628552421904,2827.628552421904,2827.628552421904,2827.628552421904,2827.628552421904,2827.628552421904,2827.628552421904,2827.628552421904,2827.628552421904,2827.628552421904,2827.628552421904,2827.628552421904,2827.628552421904,2827.628552421904,2827.628552421904,2827.628552421904,2827.628552421904,2827.628552421904,2827.628552421904,2827.628552421904,2827.628552421904,2827.628552421904,2827.628552421904,2827.628552421904,2827.628552421904,2827.628552421904,2860.978939194283,2860.978939194283,2860.978939194283,2860.978939194283,2860.978939194283,2860.978939194283,2860.978939194283,2860.978939194283,2860.978939194283,2860.978939194283,2860.978939194283,2860.978939194283,2860.978939194283,2860.978939194283,2860.978939194283,2860.978939194283,2860.978939194283,2860.978939194283,2860.978939194283,2860.978939194283,2860.978939194283,2860.978939194283,2860.978939194283,2860.978939194283,2860.978939194283,2860.978939194283,2860.978939194283,2860.978939194283,2860.978939194283,2860.978939194283,2860.978939194283,2860.978939194283,2860.978939194283,2860.978939194283,2860.978939194283,2860.978939194283,2860.978939194283,2860.978939194283,2860.978939194283,2860.978939194283,2860.978939194283,2860.978939194283,2860.978939194283,2860.978939194283,2860.978939194283,2860.978939194283,2860.978939194283,2860.978939194283,2860.978939194283,2860.978939194283,2860.978939194283,2860.978939194283,2860.978939194283,2860.978939194283,2860.978939194283,2860.978939194283,2860.978939194283,2860.978939194283,2894.3293259666625,2894.3293259666625,2894.3293259666625,2894.3293259666625,2894.3293259666625,2894.3293259666625,2894.3293259666625,2894.3293259666625,2894.3293259666625,2894.3293259666625,2894.3293259666625,2894.3293259666625,2894.3293259666625,2894.3293259666625,2894.3293259666625,2894.3293259666625,2894.3293259666625,2894.3293259666625,2894.3293259666625,2894.3293259666625,2894.3293259666625,2894.3293259666625,2894.3293259666625,2894.3293259666625,2894.3293259666625,2894.3293259666625,2894.3293259666625,2894.3293259666625,2894.3293259666625,2894.3293259666625,2894.3293259666625,2894.3293259666625,2894.3293259666625,2894.3293259666625,2894.3293259666625,2894.3293259666625,2894.3293259666625,2894.3293259666625,2894.3293259666625,2894.3293259666625,2894.3293259666625,2894.3293259666625,2894.3293259666625,2894.3293259666625,2894.3293259666625,2894.3293259666625,2927.6797127390428,2927.6797127390428,2927.6797127390428,2927.6797127390428,2927.6797127390428,2927.6797127390428,2927.6797127390428,2927.6797127390428,2927.6797127390428,2927.6797127390428,2927.6797127390428,2927.6797127390428,2927.6797127390428,2927.6797127390428,2927.6797127390428,2927.6797127390428,2927.6797127390428,2927.6797127390428,2927.6797127390428,2927.6797127390428,2927.6797127390428,2927.6797127390428,2927.6797127390428,2927.6797127390428,2927.6797127390428,2927.6797127390428,2927.6797127390428,2927.6797127390428,2927.6797127390428,2927.6797127390428,2927.6797127390428,2927.6797127390428,2927.6797127390428,2927.6797127390428,2927.6797127390428,2927.6797127390428,2927.6797127390428,2927.6797127390428,2961.030099511422,2961.030099511422,2961.030099511422,2961.030099511422,2961.030099511422,2961.030099511422,2961.030099511422,2961.030099511422,2961.030099511422,2961.030099511422,2961.030099511422,2961.030099511422,2961.030099511422,2961.030099511422,2961.030099511422,2961.030099511422,2961.030099511422,2961.030099511422,2961.030099511422,2961.030099511422,2961.030099511422,2961.030099511422,2961.030099511422,2961.030099511422,2961.030099511422,2961.030099511422,2961.030099511422,2961.030099511422,2961.030099511422,2961.030099511422,2961.030099511422,2961.030099511422,2961.030099511422,2961.030099511422,2961.030099511422,2961.030099511422,2961.030099511422,2961.030099511422,2961.030099511422,2961.030099511422,2961.030099511422,2961.030099511422,2961.030099511422,2961.030099511422,2961.030099511422,2961.030099511422,2961.030099511422,2994.3804862838024,2994.3804862838024,2994.3804862838024,2994.3804862838024,2994.3804862838024,2994.3804862838024,2994.3804862838024,2994.3804862838024,2994.3804862838024,2994.3804862838024,2994.3804862838024,2994.3804862838024,2994.3804862838024,2994.3804862838024,2994.3804862838024,2994.3804862838024,2994.3804862838024,2994.3804862838024,2994.3804862838024,2994.3804862838024,2994.3804862838024,2994.3804862838024,2994.3804862838024,2994.3804862838024,2994.3804862838024,2994.3804862838024,2994.3804862838024,2994.3804862838024,2994.3804862838024,2994.3804862838024,2994.3804862838024,2994.3804862838024,2994.3804862838024,2994.3804862838024,2994.3804862838024,2994.3804862838024,2994.3804862838024,2994.3804862838024,2994.3804862838024,2994.3804862838024,2994.3804862838024,2994.3804862838024,2994.3804862838024,2994.3804862838024,2994.3804862838024,2994.3804862838024,2994.3804862838024,2994.3804862838024,2994.3804862838024,2994.3804862838024,2994.3804862838024,2994.3804862838024,2994.3804862838024,2994.3804862838024,2994.3804862838024,2994.3804862838024,3027.7308730561817,3027.7308730561817,3027.7308730561817,3027.7308730561817,3027.7308730561817,3027.7308730561817,3027.7308730561817,3027.7308730561817,3027.7308730561817,3027.7308730561817,3027.7308730561817,3027.7308730561817,3027.7308730561817,3027.7308730561817,3027.7308730561817,3027.7308730561817,3027.7308730561817,3027.7308730561817,3027.7308730561817,3027.7308730561817,3027.7308730561817,3027.7308730561817,3027.7308730561817,3027.7308730561817,3027.7308730561817,3027.7308730561817,3027.7308730561817,3027.7308730561817,3027.7308730561817,3027.7308730561817,3027.7308730561817,3027.7308730561817,3027.7308730561817,3027.7308730561817,3027.7308730561817,3027.7308730561817,3027.7308730561817,3027.7308730561817,3027.7308730561817,3027.7308730561817,3027.7308730561817,3027.7308730561817,3027.7308730561817,3027.7308730561817,3061.081259828562,3061.081259828562,3061.081259828562,3061.081259828562,3061.081259828562,3061.081259828562,3061.081259828562,3061.081259828562,3061.081259828562,3061.081259828562,3061.081259828562,3061.081259828562,3061.081259828562,3061.081259828562,3061.081259828562,3061.081259828562,3061.081259828562,3061.081259828562,3061.081259828562,3061.081259828562,3061.081259828562,3061.081259828562,3061.081259828562,3061.081259828562,3061.081259828562,3061.081259828562,3061.081259828562,3061.081259828562,3061.081259828562,3061.081259828562,3061.081259828562,3061.081259828562,3061.081259828562,3061.081259828562,3061.081259828562,3061.081259828562,3061.081259828562,3061.081259828562,3061.081259828562,3061.081259828562,3061.081259828562,3094.4316466009413,3094.4316466009413,3094.4316466009413,3094.4316466009413,3094.4316466009413,3094.4316466009413,3094.4316466009413,3094.4316466009413,3094.4316466009413,3094.4316466009413,3094.4316466009413,3094.4316466009413,3094.4316466009413,3094.4316466009413,3094.4316466009413,3094.4316466009413,3094.4316466009413,3094.4316466009413,3094.4316466009413,3094.4316466009413,3094.4316466009413,3094.4316466009413,3094.4316466009413,3094.4316466009413,3094.4316466009413,3094.4316466009413,3094.4316466009413,3094.4316466009413,3094.4316466009413,3094.4316466009413,3094.4316466009413,3094.4316466009413,3094.4316466009413,3094.4316466009413,3094.4316466009413,3094.4316466009413,3094.4316466009413,3094.4316466009413,3094.4316466009413,3094.4316466009413,3094.4316466009413,3094.4316466009413,3127.7820333733216,3127.7820333733216,3127.7820333733216,3127.7820333733216,3127.7820333733216,3127.7820333733216,3127.7820333733216,3127.7820333733216,3127.7820333733216,3127.7820333733216,3127.7820333733216,3127.7820333733216,3127.7820333733216,3127.7820333733216,3127.7820333733216,3127.7820333733216,3127.7820333733216,3127.7820333733216,3127.7820333733216,3127.7820333733216,3127.7820333733216,3127.7820333733216,3127.7820333733216,3127.7820333733216,3127.7820333733216,3127.7820333733216,3127.7820333733216,3127.7820333733216,3127.7820333733216,3127.7820333733216,3127.7820333733216,3127.7820333733216,3127.7820333733216,3127.7820333733216,3161.132420145701,3161.132420145701,3161.132420145701,3161.132420145701,3161.132420145701,3161.132420145701,3161.132420145701,3161.132420145701,3161.132420145701,3161.132420145701,3161.132420145701,3161.132420145701,3161.132420145701,3161.132420145701,3161.132420145701,3161.132420145701,3161.132420145701,3161.132420145701,3161.132420145701,3161.132420145701,3161.132420145701,3161.132420145701,3161.132420145701,3161.132420145701,3161.132420145701,3161.132420145701,3161.132420145701,3161.132420145701,3161.132420145701,3161.132420145701,3161.132420145701,3194.482806918081,3194.482806918081,3194.482806918081,3194.482806918081,3194.482806918081,3194.482806918081,3194.482806918081,3194.482806918081,3194.482806918081,3194.482806918081,3194.482806918081,3194.482806918081,3194.482806918081,3194.482806918081,3194.482806918081,3194.482806918081,3194.482806918081,3194.482806918081,3194.482806918081,3194.482806918081,3194.482806918081,3194.482806918081,3194.482806918081,3194.482806918081,3194.482806918081,3194.482806918081,3194.482806918081,3194.482806918081,3194.482806918081,3194.482806918081,3194.482806918081,3194.482806918081,3194.482806918081,3194.482806918081,3194.482806918081,3194.482806918081,3227.8331936904606,3227.8331936904606,3227.8331936904606,3227.8331936904606,3227.8331936904606,3227.8331936904606,3227.8331936904606,3227.8331936904606,3227.8331936904606,3227.8331936904606,3227.8331936904606,3227.8331936904606,3227.8331936904606,3227.8331936904606,3227.8331936904606,3227.8331936904606,3227.8331936904606,3227.8331936904606,3227.8331936904606,3227.8331936904606,3227.8331936904606,3227.8331936904606,3227.8331936904606,3227.8331936904606,3227.8331936904606,3227.8331936904606,3227.8331936904606,3227.8331936904606,3227.8331936904606,3227.8331936904606,3261.183580462841,3261.183580462841,3261.183580462841,3261.183580462841,3261.183580462841,3261.183580462841,3261.183580462841,3261.183580462841,3261.183580462841,3261.183580462841,3261.183580462841,3261.183580462841,3261.183580462841,3261.183580462841,3261.183580462841,3261.183580462841,3261.183580462841,3261.183580462841,3261.183580462841,3261.183580462841,3261.183580462841,3261.183580462841,3261.183580462841,3261.183580462841,3294.53396723522,3294.53396723522,3294.53396723522,3294.53396723522,3294.53396723522,3294.53396723522,3294.53396723522,3294.53396723522,3294.53396723522,3294.53396723522,3294.53396723522,3294.53396723522,3294.53396723522,3294.53396723522,3294.53396723522,3294.53396723522,3294.53396723522,3294.53396723522,3294.53396723522,3294.53396723522,3294.53396723522,3294.53396723522,3294.53396723522,3294.53396723522,3294.53396723522,3294.53396723522,3294.53396723522,3294.53396723522,3294.53396723522,3294.53396723522,3294.53396723522,3294.53396723522,3294.53396723522,3327.8843540076005,3327.8843540076005,3327.8843540076005,3327.8843540076005,3327.8843540076005,3327.8843540076005,3327.8843540076005,3327.8843540076005,3327.8843540076005,3327.8843540076005,3327.8843540076005,3327.8843540076005,3327.8843540076005,3327.8843540076005,3327.8843540076005,3327.8843540076005,3327.8843540076005,3327.8843540076005,3327.8843540076005,3327.8843540076005,3327.8843540076005,3327.8843540076005,3327.8843540076005,3327.8843540076005,3327.8843540076005,3327.8843540076005,3327.8843540076005,3327.8843540076005,3327.8843540076005,3327.8843540076005,3327.8843540076005,3327.8843540076005,3327.8843540076005,3327.8843540076005,3327.8843540076005,3361.23474077998,3361.23474077998,3361.23474077998,3361.23474077998,3361.23474077998,3361.23474077998,3361.23474077998,3361.23474077998,3361.23474077998,3361.23474077998,3361.23474077998,3361.23474077998,3361.23474077998,3361.23474077998,3361.23474077998,3361.23474077998,3361.23474077998,3361.23474077998,3361.23474077998,3361.23474077998,3361.23474077998,3361.23474077998,3361.23474077998,3361.23474077998,3361.23474077998,3361.23474077998,3361.23474077998,3361.23474077998,3394.58512755236,3394.58512755236,3394.58512755236,3394.58512755236,3394.58512755236,3394.58512755236,3394.58512755236,3394.58512755236,3394.58512755236,3394.58512755236,3394.58512755236,3394.58512755236,3394.58512755236,3394.58512755236,3394.58512755236,3394.58512755236,3394.58512755236,3394.58512755236,3394.58512755236,3427.9355143247394,3427.9355143247394,3427.9355143247394,3427.9355143247394,3427.9355143247394,3427.9355143247394,3427.9355143247394,3427.9355143247394,3427.9355143247394,3427.9355143247394,3427.9355143247394,3427.9355143247394,3427.9355143247394,3427.9355143247394,3427.9355143247394,3427.9355143247394,3461.2859010971197,3461.2859010971197,3461.2859010971197,3461.2859010971197,3461.2859010971197,3461.2859010971197,3461.2859010971197,3461.2859010971197,3461.2859010971197,3461.2859010971197,3461.2859010971197,3461.2859010971197,3461.2859010971197,3461.2859010971197,3461.2859010971197,3461.2859010971197,3461.2859010971197,3461.2859010971197,3461.2859010971197,3461.2859010971197,3461.2859010971197,3461.2859010971197,3461.2859010971197,3461.2859010971197,3461.2859010971197,3461.2859010971197,3494.636287869499,3494.636287869499,3494.636287869499,3494.636287869499,3494.636287869499,3494.636287869499,3494.636287869499,3494.636287869499,3494.636287869499,3494.636287869499,3494.636287869499,3494.636287869499,3494.636287869499,3494.636287869499,3494.636287869499,3494.636287869499,3494.636287869499,3494.636287869499,3494.636287869499,3494.636287869499,3494.636287869499,3494.636287869499,3494.636287869499,3494.636287869499,3494.636287869499,3494.636287869499,3494.636287869499,3494.636287869499,3494.636287869499,3494.636287869499,3494.636287869499,3494.636287869499,3494.636287869499,3494.636287869499,3494.636287869499,3527.9866746418793,3527.9866746418793,3527.9866746418793,3527.9866746418793,3527.9866746418793,3527.9866746418793,3527.9866746418793,3527.9866746418793,3527.9866746418793,3527.9866746418793,3527.9866746418793,3527.9866746418793,3527.9866746418793,3527.9866746418793,3527.9866746418793,3561.3370614142586,3561.3370614142586,3561.3370614142586,3561.3370614142586,3561.3370614142586,3561.3370614142586,3561.3370614142586,3561.3370614142586,3561.3370614142586,3561.3370614142586,3561.3370614142586,3561.3370614142586,3561.3370614142586,3561.3370614142586,3561.3370614142586,3561.3370614142586,3561.3370614142586,3561.3370614142586,3561.3370614142586,3561.3370614142586,3594.687448186639,3594.687448186639,3594.687448186639,3594.687448186639,3594.687448186639,3594.687448186639,3594.687448186639,3594.687448186639,3594.687448186639,3594.687448186639,3594.687448186639,3594.687448186639,3594.687448186639,3594.687448186639,3594.687448186639,3594.687448186639,3594.687448186639,3594.687448186639,3594.687448186639,3594.687448186639,3594.687448186639,3594.687448186639,3594.687448186639,3594.687448186639,3594.687448186639,3594.687448186639,3594.687448186639,3594.687448186639,3594.687448186639,3594.687448186639,3628.0378349590183,3628.0378349590183,3628.0378349590183,3628.0378349590183,3628.0378349590183,3628.0378349590183,3628.0378349590183,3628.0378349590183,3628.0378349590183,3628.0378349590183,3628.0378349590183,3628.0378349590183,3628.0378349590183,3628.0378349590183,3628.0378349590183,3628.0378349590183,3628.0378349590183,3628.0378349590183,3628.0378349590183,3628.0378349590183,3628.0378349590183,3661.3882217313985,3661.3882217313985,3661.3882217313985,3661.3882217313985,3661.3882217313985,3661.3882217313985,3661.3882217313985,3661.3882217313985,3661.3882217313985,3661.3882217313985,3661.3882217313985,3661.3882217313985,3661.3882217313985,3661.3882217313985,3661.3882217313985,3661.3882217313985,3661.3882217313985,3661.3882217313985,3661.3882217313985,3694.738608503778,3694.738608503778,3694.738608503778,3694.738608503778,3694.738608503778,3694.738608503778,3694.738608503778,3694.738608503778,3694.738608503778,3694.738608503778,3694.738608503778,3694.738608503778,3694.738608503778,3694.738608503778,3694.738608503778,3694.738608503778,3694.738608503778,3694.738608503778,3728.088995276157,3728.088995276157,3728.088995276157,3728.088995276157,3728.088995276157,3728.088995276157,3728.088995276157,3728.088995276157,3728.088995276157,3728.088995276157,3728.088995276157,3728.088995276157,3728.088995276157,3728.088995276157,3728.088995276157,3761.4393820485375,3761.4393820485375,3761.4393820485375,3761.4393820485375,3761.4393820485375,3761.4393820485375,3761.4393820485375,3761.4393820485375,3761.4393820485375,3761.4393820485375,3761.4393820485375,3761.4393820485375,3761.4393820485375,3761.4393820485375,3761.4393820485375,3761.4393820485375,3761.4393820485375,3761.4393820485375,3794.789768820917,3794.789768820917,3794.789768820917,3794.789768820917,3794.789768820917,3794.789768820917,3794.789768820917,3794.789768820917,3794.789768820917,3794.789768820917,3794.789768820917,3828.140155593297,3828.140155593297,3828.140155593297,3828.140155593297,3828.140155593297,3828.140155593297,3828.140155593297,3828.140155593297,3828.140155593297,3828.140155593297,3828.140155593297,3828.140155593297,3828.140155593297,3828.140155593297,3828.140155593297,3861.4905423656764,3861.4905423656764,3861.4905423656764,3861.4905423656764,3861.4905423656764,3861.4905423656764,3861.4905423656764,3861.4905423656764,3861.4905423656764,3861.4905423656764,3861.4905423656764,3861.4905423656764,3861.4905423656764,3861.4905423656764,3861.4905423656764,3861.4905423656764,3861.4905423656764,3861.4905423656764,3861.4905423656764,3894.8409291380567,3894.8409291380567,3894.8409291380567,3894.8409291380567,3894.8409291380567,3894.8409291380567,3894.8409291380567,3894.8409291380567,3894.8409291380567,3894.8409291380567,3894.8409291380567,3894.8409291380567,3894.8409291380567,3928.191315910436,3928.191315910436,3928.191315910436,3928.191315910436,3928.191315910436,3928.191315910436,3928.191315910436,3928.191315910436,3928.191315910436,3928.191315910436,3928.191315910436,3928.191315910436,3928.191315910436,3961.5417026828163,3961.5417026828163,3961.5417026828163,3961.5417026828163,3961.5417026828163,3961.5417026828163,3961.5417026828163,3961.5417026828163,3961.5417026828163,3961.5417026828163,3994.8920894551957,3994.8920894551957,3994.8920894551957,3994.8920894551957,4028.242476227576,4028.242476227576,4028.242476227576,4028.242476227576,4028.242476227576,4028.242476227576,4028.242476227576,4028.242476227576,4028.242476227576,4028.242476227576,4028.242476227576,4028.242476227576,4028.242476227576,4028.242476227576,4028.242476227576,4028.242476227576,4028.242476227576,4061.5928629999553,4061.5928629999553,4061.5928629999553,4061.5928629999553,4061.5928629999553,4061.5928629999553,4061.5928629999553,4061.5928629999553,4061.5928629999553,4061.5928629999553,4061.5928629999553,4061.5928629999553,4061.5928629999553,4061.5928629999553,4094.9432497723355,4094.9432497723355,4094.9432497723355,4094.9432497723355,4094.9432497723355,4094.9432497723355,4094.9432497723355,4094.9432497723355,4128.293636544715,4128.293636544715,4128.293636544715,4128.293636544715,4128.293636544715,4128.293636544715,4128.293636544715,4128.293636544715,4128.293636544715,4128.293636544715,4161.644023317095,4161.644023317095,4161.644023317095,4161.644023317095,4161.644023317095,4161.644023317095,4161.644023317095,4161.644023317095,4161.644023317095,4161.644023317095,4194.9944100894745,4194.9944100894745,4194.9944100894745,4194.9944100894745,4194.9944100894745,4194.9944100894745,4194.9944100894745,4194.9944100894745,4194.9944100894745,4228.344796861855,4228.344796861855,4228.344796861855,4228.344796861855,4228.344796861855,4228.344796861855,4228.344796861855,4228.344796861855,4261.695183634234,4261.695183634234,4261.695183634234,4261.695183634234,4261.695183634234,4261.695183634234,4261.695183634234,4261.695183634234,4295.045570406614,4295.045570406614,4295.045570406614,4295.045570406614,4295.045570406614,4295.045570406614,4295.045570406614,4295.045570406614,4295.045570406614,4295.045570406614,4328.395957178994,4328.395957178994,4328.395957178994,4328.395957178994,4328.395957178994,4328.395957178994,4328.395957178994,4328.395957178994,4328.395957178994,4361.746343951374,4361.746343951374,4361.746343951374,4361.746343951374,4361.746343951374,4361.746343951374,4395.096730723753,4395.096730723753,4395.096730723753,4395.096730723753,4395.096730723753,4428.447117496134,4428.447117496134,4428.447117496134,4428.447117496134,4428.447117496134,4428.447117496134,4428.447117496134,4461.797504268513,4461.797504268513,4461.797504268513,4461.797504268513,4461.797504268513,4461.797504268513,4461.797504268513,4495.147891040893,4495.147891040893,4495.147891040893,4495.147891040893,4495.147891040893,4495.147891040893,4495.147891040893,4528.498277813273,4528.498277813273,4528.498277813273,4528.498277813273,4528.498277813273,4561.848664585652,4561.848664585652,4561.848664585652,4561.848664585652,4561.848664585652,4595.199051358032,4595.199051358032,4595.199051358032,4595.199051358032,4595.199051358032,4595.199051358032,4628.5494381304115,4628.5494381304115,4628.5494381304115,4628.5494381304115,4628.5494381304115,4628.5494381304115,4628.5494381304115,4661.899824902792,4661.899824902792,4661.899824902792,4661.899824902792,4695.250211675171,4695.250211675171,4695.250211675171,4728.600598447551,4728.600598447551,4728.600598447551,4728.600598447551,4761.950985219931,4761.950985219931,4761.950985219931,4761.950985219931,4761.950985219931,4795.301371992311,4795.301371992311,4795.301371992311,4795.301371992311,4795.301371992311,4795.301371992311,4795.301371992311,4795.301371992311,4828.65175876469,4828.65175876469,4828.65175876469,4828.65175876469,4828.65175876469,4828.65175876469,4862.002145537071,4895.35253230945,4895.35253230945,4895.35253230945,4895.35253230945,4895.35253230945,4895.35253230945,4895.35253230945,4895.35253230945,4895.35253230945,4928.70291908183,4928.70291908183,4928.70291908183,4962.05330585421,4962.05330585421,4962.05330585421,4962.05330585421,4995.40369262659,4995.40369262659,5028.754079398969,5028.754079398969,5028.754079398969,5062.1044661713495,5062.1044661713495,5128.805239716109,5128.805239716109,5162.155626488488,5162.155626488488,5162.155626488488,5162.155626488488,5195.506013260869,5195.506013260869,5195.506013260869,5195.506013260869,5228.856400033248,5228.856400033248,5228.856400033248,5262.206786805628,5262.206786805628,5262.206786805628,5262.206786805628,5262.206786805628,5262.206786805628,5262.206786805628,5295.557173578008,5295.557173578008,5295.557173578008,5328.907560350387,5328.907560350387,5328.907560350387,5328.907560350387,5362.257947122767,5362.257947122767,5395.608333895147,5395.608333895147,5395.608333895147,5395.608333895147,5428.958720667527,5428.958720667527,5428.958720667527,5428.958720667527,5462.309107439906,5462.309107439906,5495.6594942122865,5495.6594942122865,5495.6594942122865,5495.6594942122865,5495.6594942122865,5495.6594942122865,5495.6594942122865,5529.009880984666,5529.009880984666,5529.009880984666,5562.360267757046,5562.360267757046,5562.360267757046,5562.360267757046,5595.7106545294255,5595.7106545294255,5595.7106545294255,5629.061041301806,5629.061041301806,5662.411428074185,5662.411428074185,5695.761814846565,5695.761814846565,5729.112201618945,5762.462588391325,5762.462588391325,5795.812975163704,5795.812975163704,5829.163361936085,5829.163361936085,5895.864135480844,5929.214522253224,5962.564909025604,5995.915295797983,6095.966456115123,6129.316842887502,6196.017616432262,6196.017616432262,6229.368003204641,6229.368003204641,6229.368003204641,6262.718389977022,6296.068776749401,6396.119937066541,6396.119937066541,6396.119937066541,6429.47032383892,6429.47032383892,6496.171097383681,6529.52148415606,6562.871870928439,6596.222257700819,6629.5726444732,6662.923031245579,6662.923031245579,6796.3245783350985,6829.674965107478,6829.674965107478,7063.127672514137,7063.127672514137,7096.478059286516,7129.828446058896,7163.178832831275,7296.580379920794,7496.682700555074,7530.033087327453,7563.383474099833,7763.4857947341125,7763.4857947341125,7830.186568278871,7963.58811536839,7963.58811536839,7996.93850214077,8363.792756636947,9030.800492084545,9264.253199491202,9297.603586263584,10231.414415890216,11432.028339695888,12465.890329639664,12699.343037046321,14100.059281486272],\"yaxis\":\"y\",\"type\":\"scattergl\"}],                        {\"template\":{\"data\":{\"histogram2dcontour\":[{\"type\":\"histogram2dcontour\",\"colorbar\":{\"outlinewidth\":0,\"ticks\":\"\"},\"colorscale\":[[0.0,\"#0d0887\"],[0.1111111111111111,\"#46039f\"],[0.2222222222222222,\"#7201a8\"],[0.3333333333333333,\"#9c179e\"],[0.4444444444444444,\"#bd3786\"],[0.5555555555555556,\"#d8576b\"],[0.6666666666666666,\"#ed7953\"],[0.7777777777777778,\"#fb9f3a\"],[0.8888888888888888,\"#fdca26\"],[1.0,\"#f0f921\"]]}],\"choropleth\":[{\"type\":\"choropleth\",\"colorbar\":{\"outlinewidth\":0,\"ticks\":\"\"}}],\"histogram2d\":[{\"type\":\"histogram2d\",\"colorbar\":{\"outlinewidth\":0,\"ticks\":\"\"},\"colorscale\":[[0.0,\"#0d0887\"],[0.1111111111111111,\"#46039f\"],[0.2222222222222222,\"#7201a8\"],[0.3333333333333333,\"#9c179e\"],[0.4444444444444444,\"#bd3786\"],[0.5555555555555556,\"#d8576b\"],[0.6666666666666666,\"#ed7953\"],[0.7777777777777778,\"#fb9f3a\"],[0.8888888888888888,\"#fdca26\"],[1.0,\"#f0f921\"]]}],\"heatmap\":[{\"type\":\"heatmap\",\"colorbar\":{\"outlinewidth\":0,\"ticks\":\"\"},\"colorscale\":[[0.0,\"#0d0887\"],[0.1111111111111111,\"#46039f\"],[0.2222222222222222,\"#7201a8\"],[0.3333333333333333,\"#9c179e\"],[0.4444444444444444,\"#bd3786\"],[0.5555555555555556,\"#d8576b\"],[0.6666666666666666,\"#ed7953\"],[0.7777777777777778,\"#fb9f3a\"],[0.8888888888888888,\"#fdca26\"],[1.0,\"#f0f921\"]]}],\"heatmapgl\":[{\"type\":\"heatmapgl\",\"colorbar\":{\"outlinewidth\":0,\"ticks\":\"\"},\"colorscale\":[[0.0,\"#0d0887\"],[0.1111111111111111,\"#46039f\"],[0.2222222222222222,\"#7201a8\"],[0.3333333333333333,\"#9c179e\"],[0.4444444444444444,\"#bd3786\"],[0.5555555555555556,\"#d8576b\"],[0.6666666666666666,\"#ed7953\"],[0.7777777777777778,\"#fb9f3a\"],[0.8888888888888888,\"#fdca26\"],[1.0,\"#f0f921\"]]}],\"contourcarpet\":[{\"type\":\"contourcarpet\",\"colorbar\":{\"outlinewidth\":0,\"ticks\":\"\"}}],\"contour\":[{\"type\":\"contour\",\"colorbar\":{\"outlinewidth\":0,\"ticks\":\"\"},\"colorscale\":[[0.0,\"#0d0887\"],[0.1111111111111111,\"#46039f\"],[0.2222222222222222,\"#7201a8\"],[0.3333333333333333,\"#9c179e\"],[0.4444444444444444,\"#bd3786\"],[0.5555555555555556,\"#d8576b\"],[0.6666666666666666,\"#ed7953\"],[0.7777777777777778,\"#fb9f3a\"],[0.8888888888888888,\"#fdca26\"],[1.0,\"#f0f921\"]]}],\"surface\":[{\"type\":\"surface\",\"colorbar\":{\"outlinewidth\":0,\"ticks\":\"\"},\"colorscale\":[[0.0,\"#0d0887\"],[0.1111111111111111,\"#46039f\"],[0.2222222222222222,\"#7201a8\"],[0.3333333333333333,\"#9c179e\"],[0.4444444444444444,\"#bd3786\"],[0.5555555555555556,\"#d8576b\"],[0.6666666666666666,\"#ed7953\"],[0.7777777777777778,\"#fb9f3a\"],[0.8888888888888888,\"#fdca26\"],[1.0,\"#f0f921\"]]}],\"mesh3d\":[{\"type\":\"mesh3d\",\"colorbar\":{\"outlinewidth\":0,\"ticks\":\"\"}}],\"scatter\":[{\"fillpattern\":{\"fillmode\":\"overlay\",\"size\":10,\"solidity\":0.2},\"type\":\"scatter\"}],\"parcoords\":[{\"type\":\"parcoords\",\"line\":{\"colorbar\":{\"outlinewidth\":0,\"ticks\":\"\"}}}],\"scatterpolargl\":[{\"type\":\"scatterpolargl\",\"marker\":{\"colorbar\":{\"outlinewidth\":0,\"ticks\":\"\"}}}],\"bar\":[{\"error_x\":{\"color\":\"#2a3f5f\"},\"error_y\":{\"color\":\"#2a3f5f\"},\"marker\":{\"line\":{\"color\":\"#E5ECF6\",\"width\":0.5},\"pattern\":{\"fillmode\":\"overlay\",\"size\":10,\"solidity\":0.2}},\"type\":\"bar\"}],\"scattergeo\":[{\"type\":\"scattergeo\",\"marker\":{\"colorbar\":{\"outlinewidth\":0,\"ticks\":\"\"}}}],\"scatterpolar\":[{\"type\":\"scatterpolar\",\"marker\":{\"colorbar\":{\"outlinewidth\":0,\"ticks\":\"\"}}}],\"histogram\":[{\"marker\":{\"pattern\":{\"fillmode\":\"overlay\",\"size\":10,\"solidity\":0.2}},\"type\":\"histogram\"}],\"scattergl\":[{\"type\":\"scattergl\",\"marker\":{\"colorbar\":{\"outlinewidth\":0,\"ticks\":\"\"}}}],\"scatter3d\":[{\"type\":\"scatter3d\",\"line\":{\"colorbar\":{\"outlinewidth\":0,\"ticks\":\"\"}},\"marker\":{\"colorbar\":{\"outlinewidth\":0,\"ticks\":\"\"}}}],\"scattermapbox\":[{\"type\":\"scattermapbox\",\"marker\":{\"colorbar\":{\"outlinewidth\":0,\"ticks\":\"\"}}}],\"scatterternary\":[{\"type\":\"scatterternary\",\"marker\":{\"colorbar\":{\"outlinewidth\":0,\"ticks\":\"\"}}}],\"scattercarpet\":[{\"type\":\"scattercarpet\",\"marker\":{\"colorbar\":{\"outlinewidth\":0,\"ticks\":\"\"}}}],\"carpet\":[{\"aaxis\":{\"endlinecolor\":\"#2a3f5f\",\"gridcolor\":\"white\",\"linecolor\":\"white\",\"minorgridcolor\":\"white\",\"startlinecolor\":\"#2a3f5f\"},\"baxis\":{\"endlinecolor\":\"#2a3f5f\",\"gridcolor\":\"white\",\"linecolor\":\"white\",\"minorgridcolor\":\"white\",\"startlinecolor\":\"#2a3f5f\"},\"type\":\"carpet\"}],\"table\":[{\"cells\":{\"fill\":{\"color\":\"#EBF0F8\"},\"line\":{\"color\":\"white\"}},\"header\":{\"fill\":{\"color\":\"#C8D4E3\"},\"line\":{\"color\":\"white\"}},\"type\":\"table\"}],\"barpolar\":[{\"marker\":{\"line\":{\"color\":\"#E5ECF6\",\"width\":0.5},\"pattern\":{\"fillmode\":\"overlay\",\"size\":10,\"solidity\":0.2}},\"type\":\"barpolar\"}],\"pie\":[{\"automargin\":true,\"type\":\"pie\"}]},\"layout\":{\"autotypenumbers\":\"strict\",\"colorway\":[\"#636efa\",\"#EF553B\",\"#00cc96\",\"#ab63fa\",\"#FFA15A\",\"#19d3f3\",\"#FF6692\",\"#B6E880\",\"#FF97FF\",\"#FECB52\"],\"font\":{\"color\":\"#2a3f5f\"},\"hovermode\":\"closest\",\"hoverlabel\":{\"align\":\"left\"},\"paper_bgcolor\":\"white\",\"plot_bgcolor\":\"#E5ECF6\",\"polar\":{\"bgcolor\":\"#E5ECF6\",\"angularaxis\":{\"gridcolor\":\"white\",\"linecolor\":\"white\",\"ticks\":\"\"},\"radialaxis\":{\"gridcolor\":\"white\",\"linecolor\":\"white\",\"ticks\":\"\"}},\"ternary\":{\"bgcolor\":\"#E5ECF6\",\"aaxis\":{\"gridcolor\":\"white\",\"linecolor\":\"white\",\"ticks\":\"\"},\"baxis\":{\"gridcolor\":\"white\",\"linecolor\":\"white\",\"ticks\":\"\"},\"caxis\":{\"gridcolor\":\"white\",\"linecolor\":\"white\",\"ticks\":\"\"}},\"coloraxis\":{\"colorbar\":{\"outlinewidth\":0,\"ticks\":\"\"}},\"colorscale\":{\"sequential\":[[0.0,\"#0d0887\"],[0.1111111111111111,\"#46039f\"],[0.2222222222222222,\"#7201a8\"],[0.3333333333333333,\"#9c179e\"],[0.4444444444444444,\"#bd3786\"],[0.5555555555555556,\"#d8576b\"],[0.6666666666666666,\"#ed7953\"],[0.7777777777777778,\"#fb9f3a\"],[0.8888888888888888,\"#fdca26\"],[1.0,\"#f0f921\"]],\"sequentialminus\":[[0.0,\"#0d0887\"],[0.1111111111111111,\"#46039f\"],[0.2222222222222222,\"#7201a8\"],[0.3333333333333333,\"#9c179e\"],[0.4444444444444444,\"#bd3786\"],[0.5555555555555556,\"#d8576b\"],[0.6666666666666666,\"#ed7953\"],[0.7777777777777778,\"#fb9f3a\"],[0.8888888888888888,\"#fdca26\"],[1.0,\"#f0f921\"]],\"diverging\":[[0,\"#8e0152\"],[0.1,\"#c51b7d\"],[0.2,\"#de77ae\"],[0.3,\"#f1b6da\"],[0.4,\"#fde0ef\"],[0.5,\"#f7f7f7\"],[0.6,\"#e6f5d0\"],[0.7,\"#b8e186\"],[0.8,\"#7fbc41\"],[0.9,\"#4d9221\"],[1,\"#276419\"]]},\"xaxis\":{\"gridcolor\":\"white\",\"linecolor\":\"white\",\"ticks\":\"\",\"title\":{\"standoff\":15},\"zerolinecolor\":\"white\",\"automargin\":true,\"zerolinewidth\":2},\"yaxis\":{\"gridcolor\":\"white\",\"linecolor\":\"white\",\"ticks\":\"\",\"title\":{\"standoff\":15},\"zerolinecolor\":\"white\",\"automargin\":true,\"zerolinewidth\":2},\"scene\":{\"xaxis\":{\"backgroundcolor\":\"#E5ECF6\",\"gridcolor\":\"white\",\"linecolor\":\"white\",\"showbackground\":true,\"ticks\":\"\",\"zerolinecolor\":\"white\",\"gridwidth\":2},\"yaxis\":{\"backgroundcolor\":\"#E5ECF6\",\"gridcolor\":\"white\",\"linecolor\":\"white\",\"showbackground\":true,\"ticks\":\"\",\"zerolinecolor\":\"white\",\"gridwidth\":2},\"zaxis\":{\"backgroundcolor\":\"#E5ECF6\",\"gridcolor\":\"white\",\"linecolor\":\"white\",\"showbackground\":true,\"ticks\":\"\",\"zerolinecolor\":\"white\",\"gridwidth\":2}},\"shapedefaults\":{\"line\":{\"color\":\"#2a3f5f\"}},\"annotationdefaults\":{\"arrowcolor\":\"#2a3f5f\",\"arrowhead\":0,\"arrowwidth\":1},\"geo\":{\"bgcolor\":\"white\",\"landcolor\":\"#E5ECF6\",\"subunitcolor\":\"white\",\"showland\":true,\"showlakes\":true,\"lakecolor\":\"white\"},\"title\":{\"x\":0.05},\"mapbox\":{\"style\":\"light\"}}},\"xaxis\":{\"anchor\":\"y\",\"domain\":[0.0,1.0],\"title\":{\"text\":\"upvotes\"}},\"yaxis\":{\"anchor\":\"x\",\"domain\":[0.0,1.0],\"title\":{\"text\":\"comments\"}},\"legend\":{\"tracegroupgap\":0},\"margin\":{\"t\":60}},                        {\"responsive\": true}                    ).then(function(){\n                            \nvar gd = document.getElementById('0b3073d1-dfed-4b24-8bec-fe46365b529c');\nvar x = new MutationObserver(function (mutations, observer) {{\n        var display = window.getComputedStyle(gd).display;\n        if (!display || display === 'none') {{\n            console.log([gd, 'removed!']);\n            Plotly.purge(gd);\n            observer.disconnect();\n        }}\n}});\n\n// Listen for the removal of the full notebook cells\nvar notebookContainer = gd.closest('#notebook-container');\nif (notebookContainer) {{\n    x.observe(notebookContainer, {childList: true});\n}}\n\n// Listen for the clearing of the current output cell\nvar outputEl = gd.closest('.output');\nif (outputEl) {{\n    x.observe(outputEl, {childList: true});\n}}\n\n                        })                };                });            </script>        </div>"
     },
     "metadata": {},
     "output_type": "display_data"
    },
    {
     "name": "stdout",
     "output_type": "stream",
     "text": [
      "Correlation between upvotes and comments: 0.23755678243751652\n"
     ]
    }
   ],
   "source": [
    "# Calculate the correlation between upvotes and comments\n",
    "corr_upvotes_comments = df['upvotes'].corr(df['comments'])\n",
    "\n",
    "# Create a scatter plot of upvotes vs comments with a trendline\n",
    "fig = px.scatter(df, x='upvotes', y='comments', trendline='ols', labels={'x': 'Number of Upvotes', 'y': 'Number of Comments'})\n",
    "fig.show()\n",
    "\n",
    "print('Correlation between upvotes and comments:', corr_upvotes_comments)"
   ]
  },
  {
   "cell_type": "markdown",
   "metadata": {},
   "source": [
    "**Popularity of subreddit**\n",
    "\n",
    "We multiply the median of votes and the median of comments by the number of posts in the subreddit (I don't know if this is the right way)"
   ]
  },
  {
   "cell_type": "code",
   "execution_count": 23,
   "metadata": {
    "ExecuteTime": {
     "end_time": "2023-12-02T20:05:39.375690974Z",
     "start_time": "2023-12-02T20:05:39.233407706Z"
    }
   },
   "outputs": [
    {
     "data": {
      "application/vnd.plotly.v1+json": {
       "data": [
        {
         "alignmentgroup": "True",
         "hovertemplate": "subreddit=%{x}<br>popularity=%{marker.color}<extra></extra>",
         "legendgroup": "",
         "marker": {
          "color": [
           419.25,
           276.0,
           156.0,
           127.5,
           114.0,
           85.5,
           73.5,
           60.0,
           41.25,
           29.25,
           28.5,
           27.75,
           26.25,
           22.5,
           15.0,
           15.0,
           14.25,
           14.25,
           13.5,
           13.5,
           10.5,
           9.75,
           9.75,
           6.0,
           6.0,
           6.0,
           5.25,
           4.5,
           4.5,
           3.75,
           3.75,
           3.75,
           3.0,
           3.0,
           3.0,
           3.0,
           3.0,
           2.25,
           2.25,
           2.25,
           2.25,
           2.25,
           2.25,
           1.5,
           1.5,
           1.5,
           1.5,
           1.5,
           1.5,
           1.5,
           1.5,
           1.5,
           1.5,
           0.75,
           0.75,
           0.75,
           0.75,
           0.75,
           0.75,
           0.75,
           0.75,
           0.75,
           0.75,
           0.75,
           0.75,
           0.75,
           0.75,
           0.75,
           0.75,
           0.75,
           0.75,
           0.75,
           0.75,
           0.75,
           0.75,
           0.75,
           0.75,
           0.75,
           0.75,
           0.75,
           0.75,
           0.75,
           0.75,
           0.75,
           0.75
          ],
          "coloraxis": "coloraxis",
          "pattern": {
           "shape": ""
          },
          "line": {
           "color": "rgb(8,48,107)",
           "width": 1.5
          }
         },
         "name": "",
         "offsetgroup": "",
         "orientation": "v",
         "showlegend": false,
         "textposition": "auto",
         "x": [
          "r/memes",
          "r/pics",
          "r/funny",
          "r/aww",
          "r/nextfuckinglevel",
          "r/gaming",
          "r/gifs",
          "r/interestingasfuck",
          "r/wallstreetbets",
          "r/news",
          "r/PublicFreakout",
          "r/MurderedByWords",
          "r/worldnews",
          "r/MadeMeSmile",
          "r/todayilearned",
          "r/wholesomememes",
          "r/WhitePeopleTwitter",
          "r/AskReddit",
          "r/mildlyinteresting",
          "r/WatchPeopleDieInside",
          "r/Showerthoughts",
          "r/facepalm",
          "r/videos",
          "r/teenagers",
          "r/PrequelMemes",
          "r/Wellthatsucks",
          "r/space",
          "r/movies",
          "r/politics",
          "r/me_irl",
          "r/IdiotsInCars",
          "r/awfuleverything",
          "r/LifeProTips",
          "r/tifu",
          "r/BlackPeopleTwitter",
          "r/announcements",
          "r/PewdiepieSubmissions",
          "r/thanosdidnothingwrong",
          "r/technology",
          "r/trashy",
          "r/oddlysatisfying",
          "r/insanepeoplefacebook",
          "r/BikiniBottomTwitter",
          "r/JusticeServed",
          "r/Futurology",
          "r/instant_regret",
          "r/iamatotalpieceofshit",
          "r/Jokes",
          "r/UpliftingNews",
          "r/rickandmorty",
          "r/science",
          "r/IAmA",
          "r/LeopardsAteMyFace",
          "r/pokemon",
          "r/ChoosingBeggars",
          "r/pcmasterrace",
          "r/quityourbullshit",
          "r/Damnthatsinteresting",
          "r/nottheonion",
          "r/BeAmazed",
          "r/Coronavirus",
          "r/sports",
          "r/gifsthatkeepongiving",
          "r/DunderMifflin",
          "r/lotrmemes",
          "r/MemeEconomy",
          "r/Music",
          "r/OldSchoolCool",
          "r/PoliticalHumor",
          "r/Instagramreality",
          "r/StarWarsBattlefront",
          "r/The_Mueller",
          "r/TwoXChromosomes",
          "r/Whatcouldgowrong",
          "r/assholedesign",
          "r/AyyMD",
          "r/comics",
          "r/coolguides",
          "r/dataisbeautiful",
          "r/freefolk",
          "r/HongKong",
          "r/HolUp",
          "r/GetMotivated",
          "r/listentothis",
          "r/books"
         ],
         "xaxis": "x",
         "y": [
          419.25,
          276.0,
          156.0,
          127.5,
          114.0,
          85.5,
          73.5,
          60.0,
          41.25,
          29.25,
          28.5,
          27.75,
          26.25,
          22.5,
          15.0,
          15.0,
          14.25,
          14.25,
          13.5,
          13.5,
          10.5,
          9.75,
          9.75,
          6.0,
          6.0,
          6.0,
          5.25,
          4.5,
          4.5,
          3.75,
          3.75,
          3.75,
          3.0,
          3.0,
          3.0,
          3.0,
          3.0,
          2.25,
          2.25,
          2.25,
          2.25,
          2.25,
          2.25,
          1.5,
          1.5,
          1.5,
          1.5,
          1.5,
          1.5,
          1.5,
          1.5,
          1.5,
          1.5,
          0.75,
          0.75,
          0.75,
          0.75,
          0.75,
          0.75,
          0.75,
          0.75,
          0.75,
          0.75,
          0.75,
          0.75,
          0.75,
          0.75,
          0.75,
          0.75,
          0.75,
          0.75,
          0.75,
          0.75,
          0.75,
          0.75,
          0.75,
          0.75,
          0.75,
          0.75,
          0.75,
          0.75,
          0.75,
          0.75,
          0.75,
          0.75
         ],
         "yaxis": "y",
         "type": "bar",
         "opacity": 0.8
        }
       ],
       "layout": {
        "template": {
         "data": {
          "histogram2dcontour": [
           {
            "type": "histogram2dcontour",
            "colorbar": {
             "outlinewidth": 0,
             "ticks": ""
            },
            "colorscale": [
             [
              0.0,
              "#0d0887"
             ],
             [
              0.1111111111111111,
              "#46039f"
             ],
             [
              0.2222222222222222,
              "#7201a8"
             ],
             [
              0.3333333333333333,
              "#9c179e"
             ],
             [
              0.4444444444444444,
              "#bd3786"
             ],
             [
              0.5555555555555556,
              "#d8576b"
             ],
             [
              0.6666666666666666,
              "#ed7953"
             ],
             [
              0.7777777777777778,
              "#fb9f3a"
             ],
             [
              0.8888888888888888,
              "#fdca26"
             ],
             [
              1.0,
              "#f0f921"
             ]
            ]
           }
          ],
          "choropleth": [
           {
            "type": "choropleth",
            "colorbar": {
             "outlinewidth": 0,
             "ticks": ""
            }
           }
          ],
          "histogram2d": [
           {
            "type": "histogram2d",
            "colorbar": {
             "outlinewidth": 0,
             "ticks": ""
            },
            "colorscale": [
             [
              0.0,
              "#0d0887"
             ],
             [
              0.1111111111111111,
              "#46039f"
             ],
             [
              0.2222222222222222,
              "#7201a8"
             ],
             [
              0.3333333333333333,
              "#9c179e"
             ],
             [
              0.4444444444444444,
              "#bd3786"
             ],
             [
              0.5555555555555556,
              "#d8576b"
             ],
             [
              0.6666666666666666,
              "#ed7953"
             ],
             [
              0.7777777777777778,
              "#fb9f3a"
             ],
             [
              0.8888888888888888,
              "#fdca26"
             ],
             [
              1.0,
              "#f0f921"
             ]
            ]
           }
          ],
          "heatmap": [
           {
            "type": "heatmap",
            "colorbar": {
             "outlinewidth": 0,
             "ticks": ""
            },
            "colorscale": [
             [
              0.0,
              "#0d0887"
             ],
             [
              0.1111111111111111,
              "#46039f"
             ],
             [
              0.2222222222222222,
              "#7201a8"
             ],
             [
              0.3333333333333333,
              "#9c179e"
             ],
             [
              0.4444444444444444,
              "#bd3786"
             ],
             [
              0.5555555555555556,
              "#d8576b"
             ],
             [
              0.6666666666666666,
              "#ed7953"
             ],
             [
              0.7777777777777778,
              "#fb9f3a"
             ],
             [
              0.8888888888888888,
              "#fdca26"
             ],
             [
              1.0,
              "#f0f921"
             ]
            ]
           }
          ],
          "heatmapgl": [
           {
            "type": "heatmapgl",
            "colorbar": {
             "outlinewidth": 0,
             "ticks": ""
            },
            "colorscale": [
             [
              0.0,
              "#0d0887"
             ],
             [
              0.1111111111111111,
              "#46039f"
             ],
             [
              0.2222222222222222,
              "#7201a8"
             ],
             [
              0.3333333333333333,
              "#9c179e"
             ],
             [
              0.4444444444444444,
              "#bd3786"
             ],
             [
              0.5555555555555556,
              "#d8576b"
             ],
             [
              0.6666666666666666,
              "#ed7953"
             ],
             [
              0.7777777777777778,
              "#fb9f3a"
             ],
             [
              0.8888888888888888,
              "#fdca26"
             ],
             [
              1.0,
              "#f0f921"
             ]
            ]
           }
          ],
          "contourcarpet": [
           {
            "type": "contourcarpet",
            "colorbar": {
             "outlinewidth": 0,
             "ticks": ""
            }
           }
          ],
          "contour": [
           {
            "type": "contour",
            "colorbar": {
             "outlinewidth": 0,
             "ticks": ""
            },
            "colorscale": [
             [
              0.0,
              "#0d0887"
             ],
             [
              0.1111111111111111,
              "#46039f"
             ],
             [
              0.2222222222222222,
              "#7201a8"
             ],
             [
              0.3333333333333333,
              "#9c179e"
             ],
             [
              0.4444444444444444,
              "#bd3786"
             ],
             [
              0.5555555555555556,
              "#d8576b"
             ],
             [
              0.6666666666666666,
              "#ed7953"
             ],
             [
              0.7777777777777778,
              "#fb9f3a"
             ],
             [
              0.8888888888888888,
              "#fdca26"
             ],
             [
              1.0,
              "#f0f921"
             ]
            ]
           }
          ],
          "surface": [
           {
            "type": "surface",
            "colorbar": {
             "outlinewidth": 0,
             "ticks": ""
            },
            "colorscale": [
             [
              0.0,
              "#0d0887"
             ],
             [
              0.1111111111111111,
              "#46039f"
             ],
             [
              0.2222222222222222,
              "#7201a8"
             ],
             [
              0.3333333333333333,
              "#9c179e"
             ],
             [
              0.4444444444444444,
              "#bd3786"
             ],
             [
              0.5555555555555556,
              "#d8576b"
             ],
             [
              0.6666666666666666,
              "#ed7953"
             ],
             [
              0.7777777777777778,
              "#fb9f3a"
             ],
             [
              0.8888888888888888,
              "#fdca26"
             ],
             [
              1.0,
              "#f0f921"
             ]
            ]
           }
          ],
          "mesh3d": [
           {
            "type": "mesh3d",
            "colorbar": {
             "outlinewidth": 0,
             "ticks": ""
            }
           }
          ],
          "scatter": [
           {
            "fillpattern": {
             "fillmode": "overlay",
             "size": 10,
             "solidity": 0.2
            },
            "type": "scatter"
           }
          ],
          "parcoords": [
           {
            "type": "parcoords",
            "line": {
             "colorbar": {
              "outlinewidth": 0,
              "ticks": ""
             }
            }
           }
          ],
          "scatterpolargl": [
           {
            "type": "scatterpolargl",
            "marker": {
             "colorbar": {
              "outlinewidth": 0,
              "ticks": ""
             }
            }
           }
          ],
          "bar": [
           {
            "error_x": {
             "color": "#2a3f5f"
            },
            "error_y": {
             "color": "#2a3f5f"
            },
            "marker": {
             "line": {
              "color": "#E5ECF6",
              "width": 0.5
             },
             "pattern": {
              "fillmode": "overlay",
              "size": 10,
              "solidity": 0.2
             }
            },
            "type": "bar"
           }
          ],
          "scattergeo": [
           {
            "type": "scattergeo",
            "marker": {
             "colorbar": {
              "outlinewidth": 0,
              "ticks": ""
             }
            }
           }
          ],
          "scatterpolar": [
           {
            "type": "scatterpolar",
            "marker": {
             "colorbar": {
              "outlinewidth": 0,
              "ticks": ""
             }
            }
           }
          ],
          "histogram": [
           {
            "marker": {
             "pattern": {
              "fillmode": "overlay",
              "size": 10,
              "solidity": 0.2
             }
            },
            "type": "histogram"
           }
          ],
          "scattergl": [
           {
            "type": "scattergl",
            "marker": {
             "colorbar": {
              "outlinewidth": 0,
              "ticks": ""
             }
            }
           }
          ],
          "scatter3d": [
           {
            "type": "scatter3d",
            "line": {
             "colorbar": {
              "outlinewidth": 0,
              "ticks": ""
             }
            },
            "marker": {
             "colorbar": {
              "outlinewidth": 0,
              "ticks": ""
             }
            }
           }
          ],
          "scattermapbox": [
           {
            "type": "scattermapbox",
            "marker": {
             "colorbar": {
              "outlinewidth": 0,
              "ticks": ""
             }
            }
           }
          ],
          "scatterternary": [
           {
            "type": "scatterternary",
            "marker": {
             "colorbar": {
              "outlinewidth": 0,
              "ticks": ""
             }
            }
           }
          ],
          "scattercarpet": [
           {
            "type": "scattercarpet",
            "marker": {
             "colorbar": {
              "outlinewidth": 0,
              "ticks": ""
             }
            }
           }
          ],
          "carpet": [
           {
            "aaxis": {
             "endlinecolor": "#2a3f5f",
             "gridcolor": "white",
             "linecolor": "white",
             "minorgridcolor": "white",
             "startlinecolor": "#2a3f5f"
            },
            "baxis": {
             "endlinecolor": "#2a3f5f",
             "gridcolor": "white",
             "linecolor": "white",
             "minorgridcolor": "white",
             "startlinecolor": "#2a3f5f"
            },
            "type": "carpet"
           }
          ],
          "table": [
           {
            "cells": {
             "fill": {
              "color": "#EBF0F8"
             },
             "line": {
              "color": "white"
             }
            },
            "header": {
             "fill": {
              "color": "#C8D4E3"
             },
             "line": {
              "color": "white"
             }
            },
            "type": "table"
           }
          ],
          "barpolar": [
           {
            "marker": {
             "line": {
              "color": "#E5ECF6",
              "width": 0.5
             },
             "pattern": {
              "fillmode": "overlay",
              "size": 10,
              "solidity": 0.2
             }
            },
            "type": "barpolar"
           }
          ],
          "pie": [
           {
            "automargin": true,
            "type": "pie"
           }
          ]
         },
         "layout": {
          "autotypenumbers": "strict",
          "colorway": [
           "#636efa",
           "#EF553B",
           "#00cc96",
           "#ab63fa",
           "#FFA15A",
           "#19d3f3",
           "#FF6692",
           "#B6E880",
           "#FF97FF",
           "#FECB52"
          ],
          "font": {
           "color": "#2a3f5f"
          },
          "hovermode": "closest",
          "hoverlabel": {
           "align": "left"
          },
          "paper_bgcolor": "white",
          "plot_bgcolor": "#E5ECF6",
          "polar": {
           "bgcolor": "#E5ECF6",
           "angularaxis": {
            "gridcolor": "white",
            "linecolor": "white",
            "ticks": ""
           },
           "radialaxis": {
            "gridcolor": "white",
            "linecolor": "white",
            "ticks": ""
           }
          },
          "ternary": {
           "bgcolor": "#E5ECF6",
           "aaxis": {
            "gridcolor": "white",
            "linecolor": "white",
            "ticks": ""
           },
           "baxis": {
            "gridcolor": "white",
            "linecolor": "white",
            "ticks": ""
           },
           "caxis": {
            "gridcolor": "white",
            "linecolor": "white",
            "ticks": ""
           }
          },
          "coloraxis": {
           "colorbar": {
            "outlinewidth": 0,
            "ticks": ""
           }
          },
          "colorscale": {
           "sequential": [
            [
             0.0,
             "#0d0887"
            ],
            [
             0.1111111111111111,
             "#46039f"
            ],
            [
             0.2222222222222222,
             "#7201a8"
            ],
            [
             0.3333333333333333,
             "#9c179e"
            ],
            [
             0.4444444444444444,
             "#bd3786"
            ],
            [
             0.5555555555555556,
             "#d8576b"
            ],
            [
             0.6666666666666666,
             "#ed7953"
            ],
            [
             0.7777777777777778,
             "#fb9f3a"
            ],
            [
             0.8888888888888888,
             "#fdca26"
            ],
            [
             1.0,
             "#f0f921"
            ]
           ],
           "sequentialminus": [
            [
             0.0,
             "#0d0887"
            ],
            [
             0.1111111111111111,
             "#46039f"
            ],
            [
             0.2222222222222222,
             "#7201a8"
            ],
            [
             0.3333333333333333,
             "#9c179e"
            ],
            [
             0.4444444444444444,
             "#bd3786"
            ],
            [
             0.5555555555555556,
             "#d8576b"
            ],
            [
             0.6666666666666666,
             "#ed7953"
            ],
            [
             0.7777777777777778,
             "#fb9f3a"
            ],
            [
             0.8888888888888888,
             "#fdca26"
            ],
            [
             1.0,
             "#f0f921"
            ]
           ],
           "diverging": [
            [
             0,
             "#8e0152"
            ],
            [
             0.1,
             "#c51b7d"
            ],
            [
             0.2,
             "#de77ae"
            ],
            [
             0.3,
             "#f1b6da"
            ],
            [
             0.4,
             "#fde0ef"
            ],
            [
             0.5,
             "#f7f7f7"
            ],
            [
             0.6,
             "#e6f5d0"
            ],
            [
             0.7,
             "#b8e186"
            ],
            [
             0.8,
             "#7fbc41"
            ],
            [
             0.9,
             "#4d9221"
            ],
            [
             1,
             "#276419"
            ]
           ]
          },
          "xaxis": {
           "gridcolor": "white",
           "linecolor": "white",
           "ticks": "",
           "title": {
            "standoff": 15
           },
           "zerolinecolor": "white",
           "automargin": true,
           "zerolinewidth": 2
          },
          "yaxis": {
           "gridcolor": "white",
           "linecolor": "white",
           "ticks": "",
           "title": {
            "standoff": 15
           },
           "zerolinecolor": "white",
           "automargin": true,
           "zerolinewidth": 2
          },
          "scene": {
           "xaxis": {
            "backgroundcolor": "#E5ECF6",
            "gridcolor": "white",
            "linecolor": "white",
            "showbackground": true,
            "ticks": "",
            "zerolinecolor": "white",
            "gridwidth": 2
           },
           "yaxis": {
            "backgroundcolor": "#E5ECF6",
            "gridcolor": "white",
            "linecolor": "white",
            "showbackground": true,
            "ticks": "",
            "zerolinecolor": "white",
            "gridwidth": 2
           },
           "zaxis": {
            "backgroundcolor": "#E5ECF6",
            "gridcolor": "white",
            "linecolor": "white",
            "showbackground": true,
            "ticks": "",
            "zerolinecolor": "white",
            "gridwidth": 2
           }
          },
          "shapedefaults": {
           "line": {
            "color": "#2a3f5f"
           }
          },
          "annotationdefaults": {
           "arrowcolor": "#2a3f5f",
           "arrowhead": 0,
           "arrowwidth": 1
          },
          "geo": {
           "bgcolor": "white",
           "landcolor": "#E5ECF6",
           "subunitcolor": "white",
           "showland": true,
           "showlakes": true,
           "lakecolor": "white"
          },
          "title": {
           "x": 0.05
          },
          "mapbox": {
           "style": "light"
          }
         }
        },
        "xaxis": {
         "anchor": "y",
         "domain": [
          0.0,
          1.0
         ],
         "title": {
          "text": ""
         },
         "tickangle": -45
        },
        "yaxis": {
         "anchor": "x",
         "domain": [
          0.0,
          1.0
         ],
         "title": {
          "text": "Popularity"
         }
        },
        "coloraxis": {
         "colorbar": {
          "title": {
           "text": "popularity"
          }
         },
         "colorscale": [
          [
           0.0,
           "rgb(247,251,255)"
          ],
          [
           0.125,
           "rgb(222,235,247)"
          ],
          [
           0.25,
           "rgb(198,219,239)"
          ],
          [
           0.375,
           "rgb(158,202,225)"
          ],
          [
           0.5,
           "rgb(107,174,214)"
          ],
          [
           0.625,
           "rgb(66,146,198)"
          ],
          [
           0.75,
           "rgb(33,113,181)"
          ],
          [
           0.875,
           "rgb(8,81,156)"
          ],
          [
           1.0,
           "rgb(8,48,107)"
          ]
         ]
        },
        "legend": {
         "tracegroupgap": 0
        },
        "title": {
         "text": "Popularity of subreddit",
         "font": {
          "size": 24
         },
         "x": 0.5,
         "y": 0.95
        },
        "barmode": "relative",
        "font": {
         "size": 14,
         "color": "black"
        },
        "showlegend": false
       },
       "config": {
        "plotlyServerURL": "https://plot.ly"
       }
      },
      "text/html": "<div>                            <div id=\"e03c89e0-cea3-4874-b498-07fdd4b1baa0\" class=\"plotly-graph-div\" style=\"height:525px; width:100%;\"></div>            <script type=\"text/javascript\">                require([\"plotly\"], function(Plotly) {                    window.PLOTLYENV=window.PLOTLYENV || {};                                    if (document.getElementById(\"e03c89e0-cea3-4874-b498-07fdd4b1baa0\")) {                    Plotly.newPlot(                        \"e03c89e0-cea3-4874-b498-07fdd4b1baa0\",                        [{\"alignmentgroup\":\"True\",\"hovertemplate\":\"subreddit=%{x}\\u003cbr\\u003epopularity=%{marker.color}\\u003cextra\\u003e\\u003c\\u002fextra\\u003e\",\"legendgroup\":\"\",\"marker\":{\"color\":[419.25,276.0,156.0,127.5,114.0,85.5,73.5,60.0,41.25,29.25,28.5,27.75,26.25,22.5,15.0,15.0,14.25,14.25,13.5,13.5,10.5,9.75,9.75,6.0,6.0,6.0,5.25,4.5,4.5,3.75,3.75,3.75,3.0,3.0,3.0,3.0,3.0,2.25,2.25,2.25,2.25,2.25,2.25,1.5,1.5,1.5,1.5,1.5,1.5,1.5,1.5,1.5,1.5,0.75,0.75,0.75,0.75,0.75,0.75,0.75,0.75,0.75,0.75,0.75,0.75,0.75,0.75,0.75,0.75,0.75,0.75,0.75,0.75,0.75,0.75,0.75,0.75,0.75,0.75,0.75,0.75,0.75,0.75,0.75,0.75],\"coloraxis\":\"coloraxis\",\"pattern\":{\"shape\":\"\"},\"line\":{\"color\":\"rgb(8,48,107)\",\"width\":1.5}},\"name\":\"\",\"offsetgroup\":\"\",\"orientation\":\"v\",\"showlegend\":false,\"textposition\":\"auto\",\"x\":[\"r\\u002fmemes\",\"r\\u002fpics\",\"r\\u002ffunny\",\"r\\u002faww\",\"r\\u002fnextfuckinglevel\",\"r\\u002fgaming\",\"r\\u002fgifs\",\"r\\u002finterestingasfuck\",\"r\\u002fwallstreetbets\",\"r\\u002fnews\",\"r\\u002fPublicFreakout\",\"r\\u002fMurderedByWords\",\"r\\u002fworldnews\",\"r\\u002fMadeMeSmile\",\"r\\u002ftodayilearned\",\"r\\u002fwholesomememes\",\"r\\u002fWhitePeopleTwitter\",\"r\\u002fAskReddit\",\"r\\u002fmildlyinteresting\",\"r\\u002fWatchPeopleDieInside\",\"r\\u002fShowerthoughts\",\"r\\u002ffacepalm\",\"r\\u002fvideos\",\"r\\u002fteenagers\",\"r\\u002fPrequelMemes\",\"r\\u002fWellthatsucks\",\"r\\u002fspace\",\"r\\u002fmovies\",\"r\\u002fpolitics\",\"r\\u002fme_irl\",\"r\\u002fIdiotsInCars\",\"r\\u002fawfuleverything\",\"r\\u002fLifeProTips\",\"r\\u002ftifu\",\"r\\u002fBlackPeopleTwitter\",\"r\\u002fannouncements\",\"r\\u002fPewdiepieSubmissions\",\"r\\u002fthanosdidnothingwrong\",\"r\\u002ftechnology\",\"r\\u002ftrashy\",\"r\\u002foddlysatisfying\",\"r\\u002finsanepeoplefacebook\",\"r\\u002fBikiniBottomTwitter\",\"r\\u002fJusticeServed\",\"r\\u002fFuturology\",\"r\\u002finstant_regret\",\"r\\u002fiamatotalpieceofshit\",\"r\\u002fJokes\",\"r\\u002fUpliftingNews\",\"r\\u002frickandmorty\",\"r\\u002fscience\",\"r\\u002fIAmA\",\"r\\u002fLeopardsAteMyFace\",\"r\\u002fpokemon\",\"r\\u002fChoosingBeggars\",\"r\\u002fpcmasterrace\",\"r\\u002fquityourbullshit\",\"r\\u002fDamnthatsinteresting\",\"r\\u002fnottheonion\",\"r\\u002fBeAmazed\",\"r\\u002fCoronavirus\",\"r\\u002fsports\",\"r\\u002fgifsthatkeepongiving\",\"r\\u002fDunderMifflin\",\"r\\u002flotrmemes\",\"r\\u002fMemeEconomy\",\"r\\u002fMusic\",\"r\\u002fOldSchoolCool\",\"r\\u002fPoliticalHumor\",\"r\\u002fInstagramreality\",\"r\\u002fStarWarsBattlefront\",\"r\\u002fThe_Mueller\",\"r\\u002fTwoXChromosomes\",\"r\\u002fWhatcouldgowrong\",\"r\\u002fassholedesign\",\"r\\u002fAyyMD\",\"r\\u002fcomics\",\"r\\u002fcoolguides\",\"r\\u002fdataisbeautiful\",\"r\\u002ffreefolk\",\"r\\u002fHongKong\",\"r\\u002fHolUp\",\"r\\u002fGetMotivated\",\"r\\u002flistentothis\",\"r\\u002fbooks\"],\"xaxis\":\"x\",\"y\":[419.25,276.0,156.0,127.5,114.0,85.5,73.5,60.0,41.25,29.25,28.5,27.75,26.25,22.5,15.0,15.0,14.25,14.25,13.5,13.5,10.5,9.75,9.75,6.0,6.0,6.0,5.25,4.5,4.5,3.75,3.75,3.75,3.0,3.0,3.0,3.0,3.0,2.25,2.25,2.25,2.25,2.25,2.25,1.5,1.5,1.5,1.5,1.5,1.5,1.5,1.5,1.5,1.5,0.75,0.75,0.75,0.75,0.75,0.75,0.75,0.75,0.75,0.75,0.75,0.75,0.75,0.75,0.75,0.75,0.75,0.75,0.75,0.75,0.75,0.75,0.75,0.75,0.75,0.75,0.75,0.75,0.75,0.75,0.75,0.75],\"yaxis\":\"y\",\"type\":\"bar\",\"opacity\":0.8}],                        {\"template\":{\"data\":{\"histogram2dcontour\":[{\"type\":\"histogram2dcontour\",\"colorbar\":{\"outlinewidth\":0,\"ticks\":\"\"},\"colorscale\":[[0.0,\"#0d0887\"],[0.1111111111111111,\"#46039f\"],[0.2222222222222222,\"#7201a8\"],[0.3333333333333333,\"#9c179e\"],[0.4444444444444444,\"#bd3786\"],[0.5555555555555556,\"#d8576b\"],[0.6666666666666666,\"#ed7953\"],[0.7777777777777778,\"#fb9f3a\"],[0.8888888888888888,\"#fdca26\"],[1.0,\"#f0f921\"]]}],\"choropleth\":[{\"type\":\"choropleth\",\"colorbar\":{\"outlinewidth\":0,\"ticks\":\"\"}}],\"histogram2d\":[{\"type\":\"histogram2d\",\"colorbar\":{\"outlinewidth\":0,\"ticks\":\"\"},\"colorscale\":[[0.0,\"#0d0887\"],[0.1111111111111111,\"#46039f\"],[0.2222222222222222,\"#7201a8\"],[0.3333333333333333,\"#9c179e\"],[0.4444444444444444,\"#bd3786\"],[0.5555555555555556,\"#d8576b\"],[0.6666666666666666,\"#ed7953\"],[0.7777777777777778,\"#fb9f3a\"],[0.8888888888888888,\"#fdca26\"],[1.0,\"#f0f921\"]]}],\"heatmap\":[{\"type\":\"heatmap\",\"colorbar\":{\"outlinewidth\":0,\"ticks\":\"\"},\"colorscale\":[[0.0,\"#0d0887\"],[0.1111111111111111,\"#46039f\"],[0.2222222222222222,\"#7201a8\"],[0.3333333333333333,\"#9c179e\"],[0.4444444444444444,\"#bd3786\"],[0.5555555555555556,\"#d8576b\"],[0.6666666666666666,\"#ed7953\"],[0.7777777777777778,\"#fb9f3a\"],[0.8888888888888888,\"#fdca26\"],[1.0,\"#f0f921\"]]}],\"heatmapgl\":[{\"type\":\"heatmapgl\",\"colorbar\":{\"outlinewidth\":0,\"ticks\":\"\"},\"colorscale\":[[0.0,\"#0d0887\"],[0.1111111111111111,\"#46039f\"],[0.2222222222222222,\"#7201a8\"],[0.3333333333333333,\"#9c179e\"],[0.4444444444444444,\"#bd3786\"],[0.5555555555555556,\"#d8576b\"],[0.6666666666666666,\"#ed7953\"],[0.7777777777777778,\"#fb9f3a\"],[0.8888888888888888,\"#fdca26\"],[1.0,\"#f0f921\"]]}],\"contourcarpet\":[{\"type\":\"contourcarpet\",\"colorbar\":{\"outlinewidth\":0,\"ticks\":\"\"}}],\"contour\":[{\"type\":\"contour\",\"colorbar\":{\"outlinewidth\":0,\"ticks\":\"\"},\"colorscale\":[[0.0,\"#0d0887\"],[0.1111111111111111,\"#46039f\"],[0.2222222222222222,\"#7201a8\"],[0.3333333333333333,\"#9c179e\"],[0.4444444444444444,\"#bd3786\"],[0.5555555555555556,\"#d8576b\"],[0.6666666666666666,\"#ed7953\"],[0.7777777777777778,\"#fb9f3a\"],[0.8888888888888888,\"#fdca26\"],[1.0,\"#f0f921\"]]}],\"surface\":[{\"type\":\"surface\",\"colorbar\":{\"outlinewidth\":0,\"ticks\":\"\"},\"colorscale\":[[0.0,\"#0d0887\"],[0.1111111111111111,\"#46039f\"],[0.2222222222222222,\"#7201a8\"],[0.3333333333333333,\"#9c179e\"],[0.4444444444444444,\"#bd3786\"],[0.5555555555555556,\"#d8576b\"],[0.6666666666666666,\"#ed7953\"],[0.7777777777777778,\"#fb9f3a\"],[0.8888888888888888,\"#fdca26\"],[1.0,\"#f0f921\"]]}],\"mesh3d\":[{\"type\":\"mesh3d\",\"colorbar\":{\"outlinewidth\":0,\"ticks\":\"\"}}],\"scatter\":[{\"fillpattern\":{\"fillmode\":\"overlay\",\"size\":10,\"solidity\":0.2},\"type\":\"scatter\"}],\"parcoords\":[{\"type\":\"parcoords\",\"line\":{\"colorbar\":{\"outlinewidth\":0,\"ticks\":\"\"}}}],\"scatterpolargl\":[{\"type\":\"scatterpolargl\",\"marker\":{\"colorbar\":{\"outlinewidth\":0,\"ticks\":\"\"}}}],\"bar\":[{\"error_x\":{\"color\":\"#2a3f5f\"},\"error_y\":{\"color\":\"#2a3f5f\"},\"marker\":{\"line\":{\"color\":\"#E5ECF6\",\"width\":0.5},\"pattern\":{\"fillmode\":\"overlay\",\"size\":10,\"solidity\":0.2}},\"type\":\"bar\"}],\"scattergeo\":[{\"type\":\"scattergeo\",\"marker\":{\"colorbar\":{\"outlinewidth\":0,\"ticks\":\"\"}}}],\"scatterpolar\":[{\"type\":\"scatterpolar\",\"marker\":{\"colorbar\":{\"outlinewidth\":0,\"ticks\":\"\"}}}],\"histogram\":[{\"marker\":{\"pattern\":{\"fillmode\":\"overlay\",\"size\":10,\"solidity\":0.2}},\"type\":\"histogram\"}],\"scattergl\":[{\"type\":\"scattergl\",\"marker\":{\"colorbar\":{\"outlinewidth\":0,\"ticks\":\"\"}}}],\"scatter3d\":[{\"type\":\"scatter3d\",\"line\":{\"colorbar\":{\"outlinewidth\":0,\"ticks\":\"\"}},\"marker\":{\"colorbar\":{\"outlinewidth\":0,\"ticks\":\"\"}}}],\"scattermapbox\":[{\"type\":\"scattermapbox\",\"marker\":{\"colorbar\":{\"outlinewidth\":0,\"ticks\":\"\"}}}],\"scatterternary\":[{\"type\":\"scatterternary\",\"marker\":{\"colorbar\":{\"outlinewidth\":0,\"ticks\":\"\"}}}],\"scattercarpet\":[{\"type\":\"scattercarpet\",\"marker\":{\"colorbar\":{\"outlinewidth\":0,\"ticks\":\"\"}}}],\"carpet\":[{\"aaxis\":{\"endlinecolor\":\"#2a3f5f\",\"gridcolor\":\"white\",\"linecolor\":\"white\",\"minorgridcolor\":\"white\",\"startlinecolor\":\"#2a3f5f\"},\"baxis\":{\"endlinecolor\":\"#2a3f5f\",\"gridcolor\":\"white\",\"linecolor\":\"white\",\"minorgridcolor\":\"white\",\"startlinecolor\":\"#2a3f5f\"},\"type\":\"carpet\"}],\"table\":[{\"cells\":{\"fill\":{\"color\":\"#EBF0F8\"},\"line\":{\"color\":\"white\"}},\"header\":{\"fill\":{\"color\":\"#C8D4E3\"},\"line\":{\"color\":\"white\"}},\"type\":\"table\"}],\"barpolar\":[{\"marker\":{\"line\":{\"color\":\"#E5ECF6\",\"width\":0.5},\"pattern\":{\"fillmode\":\"overlay\",\"size\":10,\"solidity\":0.2}},\"type\":\"barpolar\"}],\"pie\":[{\"automargin\":true,\"type\":\"pie\"}]},\"layout\":{\"autotypenumbers\":\"strict\",\"colorway\":[\"#636efa\",\"#EF553B\",\"#00cc96\",\"#ab63fa\",\"#FFA15A\",\"#19d3f3\",\"#FF6692\",\"#B6E880\",\"#FF97FF\",\"#FECB52\"],\"font\":{\"color\":\"#2a3f5f\"},\"hovermode\":\"closest\",\"hoverlabel\":{\"align\":\"left\"},\"paper_bgcolor\":\"white\",\"plot_bgcolor\":\"#E5ECF6\",\"polar\":{\"bgcolor\":\"#E5ECF6\",\"angularaxis\":{\"gridcolor\":\"white\",\"linecolor\":\"white\",\"ticks\":\"\"},\"radialaxis\":{\"gridcolor\":\"white\",\"linecolor\":\"white\",\"ticks\":\"\"}},\"ternary\":{\"bgcolor\":\"#E5ECF6\",\"aaxis\":{\"gridcolor\":\"white\",\"linecolor\":\"white\",\"ticks\":\"\"},\"baxis\":{\"gridcolor\":\"white\",\"linecolor\":\"white\",\"ticks\":\"\"},\"caxis\":{\"gridcolor\":\"white\",\"linecolor\":\"white\",\"ticks\":\"\"}},\"coloraxis\":{\"colorbar\":{\"outlinewidth\":0,\"ticks\":\"\"}},\"colorscale\":{\"sequential\":[[0.0,\"#0d0887\"],[0.1111111111111111,\"#46039f\"],[0.2222222222222222,\"#7201a8\"],[0.3333333333333333,\"#9c179e\"],[0.4444444444444444,\"#bd3786\"],[0.5555555555555556,\"#d8576b\"],[0.6666666666666666,\"#ed7953\"],[0.7777777777777778,\"#fb9f3a\"],[0.8888888888888888,\"#fdca26\"],[1.0,\"#f0f921\"]],\"sequentialminus\":[[0.0,\"#0d0887\"],[0.1111111111111111,\"#46039f\"],[0.2222222222222222,\"#7201a8\"],[0.3333333333333333,\"#9c179e\"],[0.4444444444444444,\"#bd3786\"],[0.5555555555555556,\"#d8576b\"],[0.6666666666666666,\"#ed7953\"],[0.7777777777777778,\"#fb9f3a\"],[0.8888888888888888,\"#fdca26\"],[1.0,\"#f0f921\"]],\"diverging\":[[0,\"#8e0152\"],[0.1,\"#c51b7d\"],[0.2,\"#de77ae\"],[0.3,\"#f1b6da\"],[0.4,\"#fde0ef\"],[0.5,\"#f7f7f7\"],[0.6,\"#e6f5d0\"],[0.7,\"#b8e186\"],[0.8,\"#7fbc41\"],[0.9,\"#4d9221\"],[1,\"#276419\"]]},\"xaxis\":{\"gridcolor\":\"white\",\"linecolor\":\"white\",\"ticks\":\"\",\"title\":{\"standoff\":15},\"zerolinecolor\":\"white\",\"automargin\":true,\"zerolinewidth\":2},\"yaxis\":{\"gridcolor\":\"white\",\"linecolor\":\"white\",\"ticks\":\"\",\"title\":{\"standoff\":15},\"zerolinecolor\":\"white\",\"automargin\":true,\"zerolinewidth\":2},\"scene\":{\"xaxis\":{\"backgroundcolor\":\"#E5ECF6\",\"gridcolor\":\"white\",\"linecolor\":\"white\",\"showbackground\":true,\"ticks\":\"\",\"zerolinecolor\":\"white\",\"gridwidth\":2},\"yaxis\":{\"backgroundcolor\":\"#E5ECF6\",\"gridcolor\":\"white\",\"linecolor\":\"white\",\"showbackground\":true,\"ticks\":\"\",\"zerolinecolor\":\"white\",\"gridwidth\":2},\"zaxis\":{\"backgroundcolor\":\"#E5ECF6\",\"gridcolor\":\"white\",\"linecolor\":\"white\",\"showbackground\":true,\"ticks\":\"\",\"zerolinecolor\":\"white\",\"gridwidth\":2}},\"shapedefaults\":{\"line\":{\"color\":\"#2a3f5f\"}},\"annotationdefaults\":{\"arrowcolor\":\"#2a3f5f\",\"arrowhead\":0,\"arrowwidth\":1},\"geo\":{\"bgcolor\":\"white\",\"landcolor\":\"#E5ECF6\",\"subunitcolor\":\"white\",\"showland\":true,\"showlakes\":true,\"lakecolor\":\"white\"},\"title\":{\"x\":0.05},\"mapbox\":{\"style\":\"light\"}}},\"xaxis\":{\"anchor\":\"y\",\"domain\":[0.0,1.0],\"title\":{\"text\":\"\"},\"tickangle\":-45},\"yaxis\":{\"anchor\":\"x\",\"domain\":[0.0,1.0],\"title\":{\"text\":\"Popularity\"}},\"coloraxis\":{\"colorbar\":{\"title\":{\"text\":\"popularity\"}},\"colorscale\":[[0.0,\"rgb(247,251,255)\"],[0.125,\"rgb(222,235,247)\"],[0.25,\"rgb(198,219,239)\"],[0.375,\"rgb(158,202,225)\"],[0.5,\"rgb(107,174,214)\"],[0.625,\"rgb(66,146,198)\"],[0.75,\"rgb(33,113,181)\"],[0.875,\"rgb(8,81,156)\"],[1.0,\"rgb(8,48,107)\"]]},\"legend\":{\"tracegroupgap\":0},\"title\":{\"text\":\"Popularity of subreddit\",\"font\":{\"size\":24},\"x\":0.5,\"y\":0.95},\"barmode\":\"relative\",\"font\":{\"size\":14,\"color\":\"black\"},\"showlegend\":false},                        {\"responsive\": true}                    ).then(function(){\n                            \nvar gd = document.getElementById('e03c89e0-cea3-4874-b498-07fdd4b1baa0');\nvar x = new MutationObserver(function (mutations, observer) {{\n        var display = window.getComputedStyle(gd).display;\n        if (!display || display === 'none') {{\n            console.log([gd, 'removed!']);\n            Plotly.purge(gd);\n            observer.disconnect();\n        }}\n}});\n\n// Listen for the removal of the full notebook cells\nvar notebookContainer = gd.closest('#notebook-container');\nif (notebookContainer) {{\n    x.observe(notebookContainer, {childList: true});\n}}\n\n// Listen for the clearing of the current output cell\nvar outputEl = gd.closest('.output');\nif (outputEl) {{\n    x.observe(outputEl, {childList: true});\n}}\n\n                        })                };                });            </script>        </div>"
     },
     "metadata": {},
     "output_type": "display_data"
    }
   ],
   "source": [
    "# # calculate the median number of comments and upvotes for each post\n",
    "popularity = df.groupby('subreddit').agg(upvotes_count=('upvotes', 'count'), \n",
    "                                                        comments_count=('comments', 'count'), \n",
    "                                                        post_count=('subreddit', 'count')).reset_index()\n",
    "\n",
    "# Calculate popularity by multiplying post count with median upvotes and comments\n",
    "popularity['popularity'] = popularity['upvotes_count'] * 0.25 + popularity['comments_count'] * 0.25 + popularity['comments_count'] * 0.25\n",
    "\n",
    "# Sort the data by popularity in descending ord\n",
    "popularity = popularity.sort_values(by='popularity', ascending=False)\n",
    "\n",
    "# create a bar chart using Plotly\n",
    "fig = px.bar(popularity, x='subreddit', y='popularity', title='Popularity of subreddit',\n",
    "             color='popularity', color_continuous_scale='Blues')\n",
    "fig.update_traces(marker_line_color='rgb(8,48,107)', marker_line_width=1.5, opacity=0.8)\n",
    "fig.update_layout(xaxis_tickangle=-45, xaxis_title='', yaxis_title='Popularity', \n",
    "                  title_font_size=24, title_x=0.5, title_y=0.95, \n",
    "                  font=dict(size=14, color='black'))\n",
    "fig.update_layout(showlegend=False)\n",
    "\n",
    "fig.show()"
   ]
  },
  {
   "cell_type": "code",
   "execution_count": 24,
   "metadata": {
    "collapsed": false,
    "ExecuteTime": {
     "end_time": "2023-12-02T20:05:40.643944948Z",
     "start_time": "2023-12-02T20:05:39.401381339Z"
    }
   },
   "outputs": [
    {
     "data": {
      "application/vnd.plotly.v1+json": {
       "data": [
        {
         "alignmentgroup": "True",
         "hovertemplate": "subreddit=%{x}<br>Upvotes=%{y}<extra></extra>",
         "legendgroup": "r/memes",
         "marker": {
          "color": "#636efa",
          "pattern": {
           "shape": ""
          }
         },
         "name": "r/memes",
         "offsetgroup": "r/memes",
         "orientation": "v",
         "showlegend": true,
         "textposition": "auto",
         "x": [
          "r/memes"
         ],
         "xaxis": "x",
         "y": [
          8.6916E7
         ],
         "yaxis": "y",
         "type": "bar"
        },
        {
         "alignmentgroup": "True",
         "hovertemplate": "subreddit=%{x}<br>Upvotes=%{y}<extra></extra>",
         "legendgroup": "r/pics",
         "marker": {
          "color": "#EF553B",
          "pattern": {
           "shape": ""
          }
         },
         "name": "r/pics",
         "offsetgroup": "r/pics",
         "orientation": "v",
         "showlegend": true,
         "textposition": "auto",
         "x": [
          "r/pics"
         ],
         "xaxis": "x",
         "y": [
          5.7302E7
         ],
         "yaxis": "y",
         "type": "bar"
        },
        {
         "alignmentgroup": "True",
         "hovertemplate": "subreddit=%{x}<br>Upvotes=%{y}<extra></extra>",
         "legendgroup": "r/funny",
         "marker": {
          "color": "#00cc96",
          "pattern": {
           "shape": ""
          }
         },
         "name": "r/funny",
         "offsetgroup": "r/funny",
         "orientation": "v",
         "showlegend": true,
         "textposition": "auto",
         "x": [
          "r/funny"
         ],
         "xaxis": "x",
         "y": [
          3.1632E7
         ],
         "yaxis": "y",
         "type": "bar"
        },
        {
         "alignmentgroup": "True",
         "hovertemplate": "subreddit=%{x}<br>Upvotes=%{y}<extra></extra>",
         "legendgroup": "r/aww",
         "marker": {
          "color": "#ab63fa",
          "pattern": {
           "shape": ""
          }
         },
         "name": "r/aww",
         "offsetgroup": "r/aww",
         "orientation": "v",
         "showlegend": true,
         "textposition": "auto",
         "x": [
          "r/aww"
         ],
         "xaxis": "x",
         "y": [
          2.6105E7
         ],
         "yaxis": "y",
         "type": "bar"
        },
        {
         "alignmentgroup": "True",
         "hovertemplate": "subreddit=%{x}<br>Upvotes=%{y}<extra></extra>",
         "legendgroup": "r/nextfuckinglevel",
         "marker": {
          "color": "#FFA15A",
          "pattern": {
           "shape": ""
          }
         },
         "name": "r/nextfuckinglevel",
         "offsetgroup": "r/nextfuckinglevel",
         "orientation": "v",
         "showlegend": true,
         "textposition": "auto",
         "x": [
          "r/nextfuckinglevel"
         ],
         "xaxis": "x",
         "y": [
          2.3911E7
         ],
         "yaxis": "y",
         "type": "bar"
        },
        {
         "alignmentgroup": "True",
         "hovertemplate": "subreddit=%{x}<br>Upvotes=%{y}<extra></extra>",
         "legendgroup": "r/gaming",
         "marker": {
          "color": "#19d3f3",
          "pattern": {
           "shape": ""
          }
         },
         "name": "r/gaming",
         "offsetgroup": "r/gaming",
         "orientation": "v",
         "showlegend": true,
         "textposition": "auto",
         "x": [
          "r/gaming"
         ],
         "xaxis": "x",
         "y": [
          1.7034E7
         ],
         "yaxis": "y",
         "type": "bar"
        },
        {
         "alignmentgroup": "True",
         "hovertemplate": "subreddit=%{x}<br>Upvotes=%{y}<extra></extra>",
         "legendgroup": "r/gifs",
         "marker": {
          "color": "#FF6692",
          "pattern": {
           "shape": ""
          }
         },
         "name": "r/gifs",
         "offsetgroup": "r/gifs",
         "orientation": "v",
         "showlegend": true,
         "textposition": "auto",
         "x": [
          "r/gifs"
         ],
         "xaxis": "x",
         "y": [
          1.4785E7
         ],
         "yaxis": "y",
         "type": "bar"
        },
        {
         "alignmentgroup": "True",
         "hovertemplate": "subreddit=%{x}<br>Upvotes=%{y}<extra></extra>",
         "legendgroup": "r/interestingasfuck",
         "marker": {
          "color": "#B6E880",
          "pattern": {
           "shape": ""
          }
         },
         "name": "r/interestingasfuck",
         "offsetgroup": "r/interestingasfuck",
         "orientation": "v",
         "showlegend": true,
         "textposition": "auto",
         "x": [
          "r/interestingasfuck"
         ],
         "xaxis": "x",
         "y": [
          1.2479E7
         ],
         "yaxis": "y",
         "type": "bar"
        },
        {
         "alignmentgroup": "True",
         "hovertemplate": "subreddit=%{x}<br>Upvotes=%{y}<extra></extra>",
         "legendgroup": "r/wallstreetbets",
         "marker": {
          "color": "#FF97FF",
          "pattern": {
           "shape": ""
          }
         },
         "name": "r/wallstreetbets",
         "offsetgroup": "r/wallstreetbets",
         "orientation": "v",
         "showlegend": true,
         "textposition": "auto",
         "x": [
          "r/wallstreetbets"
         ],
         "xaxis": "x",
         "y": [
          9860000.0
         ],
         "yaxis": "y",
         "type": "bar"
        },
        {
         "alignmentgroup": "True",
         "hovertemplate": "subreddit=%{x}<br>Upvotes=%{y}<extra></extra>",
         "legendgroup": "r/news",
         "marker": {
          "color": "#FECB52",
          "pattern": {
           "shape": ""
          }
         },
         "name": "r/news",
         "offsetgroup": "r/news",
         "orientation": "v",
         "showlegend": true,
         "textposition": "auto",
         "x": [
          "r/news"
         ],
         "xaxis": "x",
         "y": [
          6580000.0
         ],
         "yaxis": "y",
         "type": "bar"
        },
        {
         "alignmentgroup": "True",
         "hovertemplate": "subreddit=%{x}<br>Upvotes=%{y}<extra></extra>",
         "legendgroup": "r/PublicFreakout",
         "marker": {
          "color": "#636efa",
          "pattern": {
           "shape": ""
          }
         },
         "name": "r/PublicFreakout",
         "offsetgroup": "r/PublicFreakout",
         "orientation": "v",
         "showlegend": true,
         "textposition": "auto",
         "x": [
          "r/PublicFreakout"
         ],
         "xaxis": "x",
         "y": [
          6168000.0
         ],
         "yaxis": "y",
         "type": "bar"
        },
        {
         "alignmentgroup": "True",
         "hovertemplate": "subreddit=%{x}<br>Upvotes=%{y}<extra></extra>",
         "legendgroup": "r/MurderedByWords",
         "marker": {
          "color": "#EF553B",
          "pattern": {
           "shape": ""
          }
         },
         "name": "r/MurderedByWords",
         "offsetgroup": "r/MurderedByWords",
         "orientation": "v",
         "showlegend": true,
         "textposition": "auto",
         "x": [
          "r/MurderedByWords"
         ],
         "xaxis": "x",
         "y": [
          5737000.0
         ],
         "yaxis": "y",
         "type": "bar"
        },
        {
         "alignmentgroup": "True",
         "hovertemplate": "subreddit=%{x}<br>Upvotes=%{y}<extra></extra>",
         "legendgroup": "r/worldnews",
         "marker": {
          "color": "#00cc96",
          "pattern": {
           "shape": ""
          }
         },
         "name": "r/worldnews",
         "offsetgroup": "r/worldnews",
         "orientation": "v",
         "showlegend": true,
         "textposition": "auto",
         "x": [
          "r/worldnews"
         ],
         "xaxis": "x",
         "y": [
          5016000.0
         ],
         "yaxis": "y",
         "type": "bar"
        },
        {
         "alignmentgroup": "True",
         "hovertemplate": "subreddit=%{x}<br>Upvotes=%{y}<extra></extra>",
         "legendgroup": "r/MadeMeSmile",
         "marker": {
          "color": "#ab63fa",
          "pattern": {
           "shape": ""
          }
         },
         "name": "r/MadeMeSmile",
         "offsetgroup": "r/MadeMeSmile",
         "orientation": "v",
         "showlegend": true,
         "textposition": "auto",
         "x": [
          "r/MadeMeSmile"
         ],
         "xaxis": "x",
         "y": [
          4622000.0
         ],
         "yaxis": "y",
         "type": "bar"
        },
        {
         "alignmentgroup": "True",
         "hovertemplate": "subreddit=%{x}<br>Upvotes=%{y}<extra></extra>",
         "legendgroup": "r/wholesomememes",
         "marker": {
          "color": "#FFA15A",
          "pattern": {
           "shape": ""
          }
         },
         "name": "r/wholesomememes",
         "offsetgroup": "r/wholesomememes",
         "orientation": "v",
         "showlegend": true,
         "textposition": "auto",
         "x": [
          "r/wholesomememes"
         ],
         "xaxis": "x",
         "y": [
          3213000.0
         ],
         "yaxis": "y",
         "type": "bar"
        },
        {
         "alignmentgroup": "True",
         "hovertemplate": "subreddit=%{x}<br>Upvotes=%{y}<extra></extra>",
         "legendgroup": "r/AskReddit",
         "marker": {
          "color": "#19d3f3",
          "pattern": {
           "shape": ""
          }
         },
         "name": "r/AskReddit",
         "offsetgroup": "r/AskReddit",
         "orientation": "v",
         "showlegend": true,
         "textposition": "auto",
         "x": [
          "r/AskReddit"
         ],
         "xaxis": "x",
         "y": [
          3021000.0
         ],
         "yaxis": "y",
         "type": "bar"
        },
        {
         "alignmentgroup": "True",
         "hovertemplate": "subreddit=%{x}<br>Upvotes=%{y}<extra></extra>",
         "legendgroup": "r/todayilearned",
         "marker": {
          "color": "#FF6692",
          "pattern": {
           "shape": ""
          }
         },
         "name": "r/todayilearned",
         "offsetgroup": "r/todayilearned",
         "orientation": "v",
         "showlegend": true,
         "textposition": "auto",
         "x": [
          "r/todayilearned"
         ],
         "xaxis": "x",
         "y": [
          2970000.0
         ],
         "yaxis": "y",
         "type": "bar"
        },
        {
         "alignmentgroup": "True",
         "hovertemplate": "subreddit=%{x}<br>Upvotes=%{y}<extra></extra>",
         "legendgroup": "r/WatchPeopleDieInside",
         "marker": {
          "color": "#B6E880",
          "pattern": {
           "shape": ""
          }
         },
         "name": "r/WatchPeopleDieInside",
         "offsetgroup": "r/WatchPeopleDieInside",
         "orientation": "v",
         "showlegend": true,
         "textposition": "auto",
         "x": [
          "r/WatchPeopleDieInside"
         ],
         "xaxis": "x",
         "y": [
          2831000.0
         ],
         "yaxis": "y",
         "type": "bar"
        },
        {
         "alignmentgroup": "True",
         "hovertemplate": "subreddit=%{x}<br>Upvotes=%{y}<extra></extra>",
         "legendgroup": "r/mildlyinteresting",
         "marker": {
          "color": "#FF97FF",
          "pattern": {
           "shape": ""
          }
         },
         "name": "r/mildlyinteresting",
         "offsetgroup": "r/mildlyinteresting",
         "orientation": "v",
         "showlegend": true,
         "textposition": "auto",
         "x": [
          "r/mildlyinteresting"
         ],
         "xaxis": "x",
         "y": [
          2806000.0
         ],
         "yaxis": "y",
         "type": "bar"
        },
        {
         "alignmentgroup": "True",
         "hovertemplate": "subreddit=%{x}<br>Upvotes=%{y}<extra></extra>",
         "legendgroup": "r/WhitePeopleTwitter",
         "marker": {
          "color": "#FECB52",
          "pattern": {
           "shape": ""
          }
         },
         "name": "r/WhitePeopleTwitter",
         "offsetgroup": "r/WhitePeopleTwitter",
         "orientation": "v",
         "showlegend": true,
         "textposition": "auto",
         "x": [
          "r/WhitePeopleTwitter"
         ],
         "xaxis": "x",
         "y": [
          2780000.0
         ],
         "yaxis": "y",
         "type": "bar"
        },
        {
         "alignmentgroup": "True",
         "hovertemplate": "subreddit=%{x}<br>Upvotes=%{y}<extra></extra>",
         "legendgroup": "r/Showerthoughts",
         "marker": {
          "color": "#636efa",
          "pattern": {
           "shape": ""
          }
         },
         "name": "r/Showerthoughts",
         "offsetgroup": "r/Showerthoughts",
         "orientation": "v",
         "showlegend": true,
         "textposition": "auto",
         "x": [
          "r/Showerthoughts"
         ],
         "xaxis": "x",
         "y": [
          2133000.0
         ],
         "yaxis": "y",
         "type": "bar"
        },
        {
         "alignmentgroup": "True",
         "hovertemplate": "subreddit=%{x}<br>Upvotes=%{y}<extra></extra>",
         "legendgroup": "r/videos",
         "marker": {
          "color": "#EF553B",
          "pattern": {
           "shape": ""
          }
         },
         "name": "r/videos",
         "offsetgroup": "r/videos",
         "orientation": "v",
         "showlegend": true,
         "textposition": "auto",
         "x": [
          "r/videos"
         ],
         "xaxis": "x",
         "y": [
          2071000.0
         ],
         "yaxis": "y",
         "type": "bar"
        },
        {
         "alignmentgroup": "True",
         "hovertemplate": "subreddit=%{x}<br>Upvotes=%{y}<extra></extra>",
         "legendgroup": "r/facepalm",
         "marker": {
          "color": "#00cc96",
          "pattern": {
           "shape": ""
          }
         },
         "name": "r/facepalm",
         "offsetgroup": "r/facepalm",
         "orientation": "v",
         "showlegend": true,
         "textposition": "auto",
         "x": [
          "r/facepalm"
         ],
         "xaxis": "x",
         "y": [
          1939000.0
         ],
         "yaxis": "y",
         "type": "bar"
        },
        {
         "alignmentgroup": "True",
         "hovertemplate": "subreddit=%{x}<br>Upvotes=%{y}<extra></extra>",
         "legendgroup": "r/PrequelMemes",
         "marker": {
          "color": "#ab63fa",
          "pattern": {
           "shape": ""
          }
         },
         "name": "r/PrequelMemes",
         "offsetgroup": "r/PrequelMemes",
         "orientation": "v",
         "showlegend": true,
         "textposition": "auto",
         "x": [
          "r/PrequelMemes"
         ],
         "xaxis": "x",
         "y": [
          1383000.0
         ],
         "yaxis": "y",
         "type": "bar"
        },
        {
         "alignmentgroup": "True",
         "hovertemplate": "subreddit=%{x}<br>Upvotes=%{y}<extra></extra>",
         "legendgroup": "r/teenagers",
         "marker": {
          "color": "#FFA15A",
          "pattern": {
           "shape": ""
          }
         },
         "name": "r/teenagers",
         "offsetgroup": "r/teenagers",
         "orientation": "v",
         "showlegend": true,
         "textposition": "auto",
         "x": [
          "r/teenagers"
         ],
         "xaxis": "x",
         "y": [
          1289000.0
         ],
         "yaxis": "y",
         "type": "bar"
        },
        {
         "alignmentgroup": "True",
         "hovertemplate": "subreddit=%{x}<br>Upvotes=%{y}<extra></extra>",
         "legendgroup": "r/movies",
         "marker": {
          "color": "#19d3f3",
          "pattern": {
           "shape": ""
          }
         },
         "name": "r/movies",
         "offsetgroup": "r/movies",
         "orientation": "v",
         "showlegend": true,
         "textposition": "auto",
         "x": [
          "r/movies"
         ],
         "xaxis": "x",
         "y": [
          1209000.0
         ],
         "yaxis": "y",
         "type": "bar"
        },
        {
         "alignmentgroup": "True",
         "hovertemplate": "subreddit=%{x}<br>Upvotes=%{y}<extra></extra>",
         "legendgroup": "r/space",
         "marker": {
          "color": "#FF6692",
          "pattern": {
           "shape": ""
          }
         },
         "name": "r/space",
         "offsetgroup": "r/space",
         "orientation": "v",
         "showlegend": true,
         "textposition": "auto",
         "x": [
          "r/space"
         ],
         "xaxis": "x",
         "y": [
          1194000.0
         ],
         "yaxis": "y",
         "type": "bar"
        },
        {
         "alignmentgroup": "True",
         "hovertemplate": "subreddit=%{x}<br>Upvotes=%{y}<extra></extra>",
         "legendgroup": "r/Wellthatsucks",
         "marker": {
          "color": "#B6E880",
          "pattern": {
           "shape": ""
          }
         },
         "name": "r/Wellthatsucks",
         "offsetgroup": "r/Wellthatsucks",
         "orientation": "v",
         "showlegend": true,
         "textposition": "auto",
         "x": [
          "r/Wellthatsucks"
         ],
         "xaxis": "x",
         "y": [
          1156000.0
         ],
         "yaxis": "y",
         "type": "bar"
        },
        {
         "alignmentgroup": "True",
         "hovertemplate": "subreddit=%{x}<br>Upvotes=%{y}<extra></extra>",
         "legendgroup": "r/politics",
         "marker": {
          "color": "#FF97FF",
          "pattern": {
           "shape": ""
          }
         },
         "name": "r/politics",
         "offsetgroup": "r/politics",
         "orientation": "v",
         "showlegend": true,
         "textposition": "auto",
         "x": [
          "r/politics"
         ],
         "xaxis": "x",
         "y": [
          913000.0
         ],
         "yaxis": "y",
         "type": "bar"
        },
        {
         "alignmentgroup": "True",
         "hovertemplate": "subreddit=%{x}<br>Upvotes=%{y}<extra></extra>",
         "legendgroup": "r/awfuleverything",
         "marker": {
          "color": "#FECB52",
          "pattern": {
           "shape": ""
          }
         },
         "name": "r/awfuleverything",
         "offsetgroup": "r/awfuleverything",
         "orientation": "v",
         "showlegend": true,
         "textposition": "auto",
         "x": [
          "r/awfuleverything"
         ],
         "xaxis": "x",
         "y": [
          796000.0
         ],
         "yaxis": "y",
         "type": "bar"
        },
        {
         "alignmentgroup": "True",
         "hovertemplate": "subreddit=%{x}<br>Upvotes=%{y}<extra></extra>",
         "legendgroup": "r/me_irl",
         "marker": {
          "color": "#636efa",
          "pattern": {
           "shape": ""
          }
         },
         "name": "r/me_irl",
         "offsetgroup": "r/me_irl",
         "orientation": "v",
         "showlegend": true,
         "textposition": "auto",
         "x": [
          "r/me_irl"
         ],
         "xaxis": "x",
         "y": [
          783000.0
         ],
         "yaxis": "y",
         "type": "bar"
        },
        {
         "alignmentgroup": "True",
         "hovertemplate": "subreddit=%{x}<br>Upvotes=%{y}<extra></extra>",
         "legendgroup": "r/IdiotsInCars",
         "marker": {
          "color": "#EF553B",
          "pattern": {
           "shape": ""
          }
         },
         "name": "r/IdiotsInCars",
         "offsetgroup": "r/IdiotsInCars",
         "orientation": "v",
         "showlegend": true,
         "textposition": "auto",
         "x": [
          "r/IdiotsInCars"
         ],
         "xaxis": "x",
         "y": [
          768000.0
         ],
         "yaxis": "y",
         "type": "bar"
        },
        {
         "alignmentgroup": "True",
         "hovertemplate": "subreddit=%{x}<br>Upvotes=%{y}<extra></extra>",
         "legendgroup": "r/announcements",
         "marker": {
          "color": "#00cc96",
          "pattern": {
           "shape": ""
          }
         },
         "name": "r/announcements",
         "offsetgroup": "r/announcements",
         "orientation": "v",
         "showlegend": true,
         "textposition": "auto",
         "x": [
          "r/announcements"
         ],
         "xaxis": "x",
         "y": [
          681000.0
         ],
         "yaxis": "y",
         "type": "bar"
        },
        {
         "alignmentgroup": "True",
         "hovertemplate": "subreddit=%{x}<br>Upvotes=%{y}<extra></extra>",
         "legendgroup": "r/PewdiepieSubmissions",
         "marker": {
          "color": "#ab63fa",
          "pattern": {
           "shape": ""
          }
         },
         "name": "r/PewdiepieSubmissions",
         "offsetgroup": "r/PewdiepieSubmissions",
         "orientation": "v",
         "showlegend": true,
         "textposition": "auto",
         "x": [
          "r/PewdiepieSubmissions"
         ],
         "xaxis": "x",
         "y": [
          628000.0
         ],
         "yaxis": "y",
         "type": "bar"
        },
        {
         "alignmentgroup": "True",
         "hovertemplate": "subreddit=%{x}<br>Upvotes=%{y}<extra></extra>",
         "legendgroup": "r/thanosdidnothingwrong",
         "marker": {
          "color": "#FFA15A",
          "pattern": {
           "shape": ""
          }
         },
         "name": "r/thanosdidnothingwrong",
         "offsetgroup": "r/thanosdidnothingwrong",
         "orientation": "v",
         "showlegend": true,
         "textposition": "auto",
         "x": [
          "r/thanosdidnothingwrong"
         ],
         "xaxis": "x",
         "y": [
          628000.0
         ],
         "yaxis": "y",
         "type": "bar"
        },
        {
         "alignmentgroup": "True",
         "hovertemplate": "subreddit=%{x}<br>Upvotes=%{y}<extra></extra>",
         "legendgroup": "r/LifeProTips",
         "marker": {
          "color": "#19d3f3",
          "pattern": {
           "shape": ""
          }
         },
         "name": "r/LifeProTips",
         "offsetgroup": "r/LifeProTips",
         "orientation": "v",
         "showlegend": true,
         "textposition": "auto",
         "x": [
          "r/LifeProTips"
         ],
         "xaxis": "x",
         "y": [
          618000.0
         ],
         "yaxis": "y",
         "type": "bar"
        },
        {
         "alignmentgroup": "True",
         "hovertemplate": "subreddit=%{x}<br>Upvotes=%{y}<extra></extra>",
         "legendgroup": "r/tifu",
         "marker": {
          "color": "#FF6692",
          "pattern": {
           "shape": ""
          }
         },
         "name": "r/tifu",
         "offsetgroup": "r/tifu",
         "orientation": "v",
         "showlegend": true,
         "textposition": "auto",
         "x": [
          "r/tifu"
         ],
         "xaxis": "x",
         "y": [
          606000.0
         ],
         "yaxis": "y",
         "type": "bar"
        },
        {
         "alignmentgroup": "True",
         "hovertemplate": "subreddit=%{x}<br>Upvotes=%{y}<extra></extra>",
         "legendgroup": "r/BlackPeopleTwitter",
         "marker": {
          "color": "#B6E880",
          "pattern": {
           "shape": ""
          }
         },
         "name": "r/BlackPeopleTwitter",
         "offsetgroup": "r/BlackPeopleTwitter",
         "orientation": "v",
         "showlegend": true,
         "textposition": "auto",
         "x": [
          "r/BlackPeopleTwitter"
         ],
         "xaxis": "x",
         "y": [
          577000.0
         ],
         "yaxis": "y",
         "type": "bar"
        },
        {
         "alignmentgroup": "True",
         "hovertemplate": "subreddit=%{x}<br>Upvotes=%{y}<extra></extra>",
         "legendgroup": "r/trashy",
         "marker": {
          "color": "#FF97FF",
          "pattern": {
           "shape": ""
          }
         },
         "name": "r/trashy",
         "offsetgroup": "r/trashy",
         "orientation": "v",
         "showlegend": true,
         "textposition": "auto",
         "x": [
          "r/trashy"
         ],
         "xaxis": "x",
         "y": [
          500000.0
         ],
         "yaxis": "y",
         "type": "bar"
        },
        {
         "alignmentgroup": "True",
         "hovertemplate": "subreddit=%{x}<br>Upvotes=%{y}<extra></extra>",
         "legendgroup": "r/oddlysatisfying",
         "marker": {
          "color": "#FECB52",
          "pattern": {
           "shape": ""
          }
         },
         "name": "r/oddlysatisfying",
         "offsetgroup": "r/oddlysatisfying",
         "orientation": "v",
         "showlegend": true,
         "textposition": "auto",
         "x": [
          "r/oddlysatisfying"
         ],
         "xaxis": "x",
         "y": [
          477000.0
         ],
         "yaxis": "y",
         "type": "bar"
        },
        {
         "alignmentgroup": "True",
         "hovertemplate": "subreddit=%{x}<br>Upvotes=%{y}<extra></extra>",
         "legendgroup": "r/BikiniBottomTwitter",
         "marker": {
          "color": "#636efa",
          "pattern": {
           "shape": ""
          }
         },
         "name": "r/BikiniBottomTwitter",
         "offsetgroup": "r/BikiniBottomTwitter",
         "orientation": "v",
         "showlegend": true,
         "textposition": "auto",
         "x": [
          "r/BikiniBottomTwitter"
         ],
         "xaxis": "x",
         "y": [
          451000.0
         ],
         "yaxis": "y",
         "type": "bar"
        },
        {
         "alignmentgroup": "True",
         "hovertemplate": "subreddit=%{x}<br>Upvotes=%{y}<extra></extra>",
         "legendgroup": "r/IAmA",
         "marker": {
          "color": "#EF553B",
          "pattern": {
           "shape": ""
          }
         },
         "name": "r/IAmA",
         "offsetgroup": "r/IAmA",
         "orientation": "v",
         "showlegend": true,
         "textposition": "auto",
         "x": [
          "r/IAmA"
         ],
         "xaxis": "x",
         "y": [
          418000.0
         ],
         "yaxis": "y",
         "type": "bar"
        },
        {
         "alignmentgroup": "True",
         "hovertemplate": "subreddit=%{x}<br>Upvotes=%{y}<extra></extra>",
         "legendgroup": "r/technology",
         "marker": {
          "color": "#00cc96",
          "pattern": {
           "shape": ""
          }
         },
         "name": "r/technology",
         "offsetgroup": "r/technology",
         "orientation": "v",
         "showlegend": true,
         "textposition": "auto",
         "x": [
          "r/technology"
         ],
         "xaxis": "x",
         "y": [
          417000.0
         ],
         "yaxis": "y",
         "type": "bar"
        },
        {
         "alignmentgroup": "True",
         "hovertemplate": "subreddit=%{x}<br>Upvotes=%{y}<extra></extra>",
         "legendgroup": "r/insanepeoplefacebook",
         "marker": {
          "color": "#ab63fa",
          "pattern": {
           "shape": ""
          }
         },
         "name": "r/insanepeoplefacebook",
         "offsetgroup": "r/insanepeoplefacebook",
         "orientation": "v",
         "showlegend": true,
         "textposition": "auto",
         "x": [
          "r/insanepeoplefacebook"
         ],
         "xaxis": "x",
         "y": [
          404000.0
         ],
         "yaxis": "y",
         "type": "bar"
        },
        {
         "alignmentgroup": "True",
         "hovertemplate": "subreddit=%{x}<br>Upvotes=%{y}<extra></extra>",
         "legendgroup": "r/LeopardsAteMyFace",
         "marker": {
          "color": "#FFA15A",
          "pattern": {
           "shape": ""
          }
         },
         "name": "r/LeopardsAteMyFace",
         "offsetgroup": "r/LeopardsAteMyFace",
         "orientation": "v",
         "showlegend": true,
         "textposition": "auto",
         "x": [
          "r/LeopardsAteMyFace"
         ],
         "xaxis": "x",
         "y": [
          359000.0
         ],
         "yaxis": "y",
         "type": "bar"
        },
        {
         "alignmentgroup": "True",
         "hovertemplate": "subreddit=%{x}<br>Upvotes=%{y}<extra></extra>",
         "legendgroup": "r/science",
         "marker": {
          "color": "#19d3f3",
          "pattern": {
           "shape": ""
          }
         },
         "name": "r/science",
         "offsetgroup": "r/science",
         "orientation": "v",
         "showlegend": true,
         "textposition": "auto",
         "x": [
          "r/science"
         ],
         "xaxis": "x",
         "y": [
          354000.0
         ],
         "yaxis": "y",
         "type": "bar"
        },
        {
         "alignmentgroup": "True",
         "hovertemplate": "subreddit=%{x}<br>Upvotes=%{y}<extra></extra>",
         "legendgroup": "r/iamatotalpieceofshit",
         "marker": {
          "color": "#FF6692",
          "pattern": {
           "shape": ""
          }
         },
         "name": "r/iamatotalpieceofshit",
         "offsetgroup": "r/iamatotalpieceofshit",
         "orientation": "v",
         "showlegend": true,
         "textposition": "auto",
         "x": [
          "r/iamatotalpieceofshit"
         ],
         "xaxis": "x",
         "y": [
          340000.0
         ],
         "yaxis": "y",
         "type": "bar"
        },
        {
         "alignmentgroup": "True",
         "hovertemplate": "subreddit=%{x}<br>Upvotes=%{y}<extra></extra>",
         "legendgroup": "r/Jokes",
         "marker": {
          "color": "#B6E880",
          "pattern": {
           "shape": ""
          }
         },
         "name": "r/Jokes",
         "offsetgroup": "r/Jokes",
         "orientation": "v",
         "showlegend": true,
         "textposition": "auto",
         "x": [
          "r/Jokes"
         ],
         "xaxis": "x",
         "y": [
          304000.0
         ],
         "yaxis": "y",
         "type": "bar"
        },
        {
         "alignmentgroup": "True",
         "hovertemplate": "subreddit=%{x}<br>Upvotes=%{y}<extra></extra>",
         "legendgroup": "r/Futurology",
         "marker": {
          "color": "#FF97FF",
          "pattern": {
           "shape": ""
          }
         },
         "name": "r/Futurology",
         "offsetgroup": "r/Futurology",
         "orientation": "v",
         "showlegend": true,
         "textposition": "auto",
         "x": [
          "r/Futurology"
         ],
         "xaxis": "x",
         "y": [
          296000.0
         ],
         "yaxis": "y",
         "type": "bar"
        },
        {
         "alignmentgroup": "True",
         "hovertemplate": "subreddit=%{x}<br>Upvotes=%{y}<extra></extra>",
         "legendgroup": "r/rickandmorty",
         "marker": {
          "color": "#FECB52",
          "pattern": {
           "shape": ""
          }
         },
         "name": "r/rickandmorty",
         "offsetgroup": "r/rickandmorty",
         "orientation": "v",
         "showlegend": true,
         "textposition": "auto",
         "x": [
          "r/rickandmorty"
         ],
         "xaxis": "x",
         "y": [
          293000.0
         ],
         "yaxis": "y",
         "type": "bar"
        },
        {
         "alignmentgroup": "True",
         "hovertemplate": "subreddit=%{x}<br>Upvotes=%{y}<extra></extra>",
         "legendgroup": "r/instant_regret",
         "marker": {
          "color": "#636efa",
          "pattern": {
           "shape": ""
          }
         },
         "name": "r/instant_regret",
         "offsetgroup": "r/instant_regret",
         "orientation": "v",
         "showlegend": true,
         "textposition": "auto",
         "x": [
          "r/instant_regret"
         ],
         "xaxis": "x",
         "y": [
          287000.0
         ],
         "yaxis": "y",
         "type": "bar"
        },
        {
         "alignmentgroup": "True",
         "hovertemplate": "subreddit=%{x}<br>Upvotes=%{y}<extra></extra>",
         "legendgroup": "r/UpliftingNews",
         "marker": {
          "color": "#EF553B",
          "pattern": {
           "shape": ""
          }
         },
         "name": "r/UpliftingNews",
         "offsetgroup": "r/UpliftingNews",
         "orientation": "v",
         "showlegend": true,
         "textposition": "auto",
         "x": [
          "r/UpliftingNews"
         ],
         "xaxis": "x",
         "y": [
          279000.0
         ],
         "yaxis": "y",
         "type": "bar"
        },
        {
         "alignmentgroup": "True",
         "hovertemplate": "subreddit=%{x}<br>Upvotes=%{y}<extra></extra>",
         "legendgroup": "r/JusticeServed",
         "marker": {
          "color": "#00cc96",
          "pattern": {
           "shape": ""
          }
         },
         "name": "r/JusticeServed",
         "offsetgroup": "r/JusticeServed",
         "orientation": "v",
         "showlegend": true,
         "textposition": "auto",
         "x": [
          "r/JusticeServed"
         ],
         "xaxis": "x",
         "y": [
          269000.0
         ],
         "yaxis": "y",
         "type": "bar"
        },
        {
         "alignmentgroup": "True",
         "hovertemplate": "subreddit=%{x}<br>Upvotes=%{y}<extra></extra>",
         "legendgroup": "r/StarWarsBattlefront",
         "marker": {
          "color": "#ab63fa",
          "pattern": {
           "shape": ""
          }
         },
         "name": "r/StarWarsBattlefront",
         "offsetgroup": "r/StarWarsBattlefront",
         "orientation": "v",
         "showlegend": true,
         "textposition": "auto",
         "x": [
          "r/StarWarsBattlefront"
         ],
         "xaxis": "x",
         "y": [
          230000.0
         ],
         "yaxis": "y",
         "type": "bar"
        },
        {
         "alignmentgroup": "True",
         "hovertemplate": "subreddit=%{x}<br>Upvotes=%{y}<extra></extra>",
         "legendgroup": "r/MemeEconomy",
         "marker": {
          "color": "#FFA15A",
          "pattern": {
           "shape": ""
          }
         },
         "name": "r/MemeEconomy",
         "offsetgroup": "r/MemeEconomy",
         "orientation": "v",
         "showlegend": true,
         "textposition": "auto",
         "x": [
          "r/MemeEconomy"
         ],
         "xaxis": "x",
         "y": [
          204000.0
         ],
         "yaxis": "y",
         "type": "bar"
        },
        {
         "alignmentgroup": "True",
         "hovertemplate": "subreddit=%{x}<br>Upvotes=%{y}<extra></extra>",
         "legendgroup": "r/nottheonion",
         "marker": {
          "color": "#19d3f3",
          "pattern": {
           "shape": ""
          }
         },
         "name": "r/nottheonion",
         "offsetgroup": "r/nottheonion",
         "orientation": "v",
         "showlegend": true,
         "textposition": "auto",
         "x": [
          "r/nottheonion"
         ],
         "xaxis": "x",
         "y": [
          186000.0
         ],
         "yaxis": "y",
         "type": "bar"
        },
        {
         "alignmentgroup": "True",
         "hovertemplate": "subreddit=%{x}<br>Upvotes=%{y}<extra></extra>",
         "legendgroup": "r/books",
         "marker": {
          "color": "#FF6692",
          "pattern": {
           "shape": ""
          }
         },
         "name": "r/books",
         "offsetgroup": "r/books",
         "orientation": "v",
         "showlegend": true,
         "textposition": "auto",
         "x": [
          "r/books"
         ],
         "xaxis": "x",
         "y": [
          181000.0
         ],
         "yaxis": "y",
         "type": "bar"
        },
        {
         "alignmentgroup": "True",
         "hovertemplate": "subreddit=%{x}<br>Upvotes=%{y}<extra></extra>",
         "legendgroup": "r/DunderMifflin",
         "marker": {
          "color": "#B6E880",
          "pattern": {
           "shape": ""
          }
         },
         "name": "r/DunderMifflin",
         "offsetgroup": "r/DunderMifflin",
         "orientation": "v",
         "showlegend": true,
         "textposition": "auto",
         "x": [
          "r/DunderMifflin"
         ],
         "xaxis": "x",
         "y": [
          176000.0
         ],
         "yaxis": "y",
         "type": "bar"
        },
        {
         "alignmentgroup": "True",
         "hovertemplate": "subreddit=%{x}<br>Upvotes=%{y}<extra></extra>",
         "legendgroup": "r/dataisbeautiful",
         "marker": {
          "color": "#FF97FF",
          "pattern": {
           "shape": ""
          }
         },
         "name": "r/dataisbeautiful",
         "offsetgroup": "r/dataisbeautiful",
         "orientation": "v",
         "showlegend": true,
         "textposition": "auto",
         "x": [
          "r/dataisbeautiful"
         ],
         "xaxis": "x",
         "y": [
          163000.0
         ],
         "yaxis": "y",
         "type": "bar"
        },
        {
         "alignmentgroup": "True",
         "hovertemplate": "subreddit=%{x}<br>Upvotes=%{y}<extra></extra>",
         "legendgroup": "r/assholedesign",
         "marker": {
          "color": "#FECB52",
          "pattern": {
           "shape": ""
          }
         },
         "name": "r/assholedesign",
         "offsetgroup": "r/assholedesign",
         "orientation": "v",
         "showlegend": true,
         "textposition": "auto",
         "x": [
          "r/assholedesign"
         ],
         "xaxis": "x",
         "y": [
          162000.0
         ],
         "yaxis": "y",
         "type": "bar"
        },
        {
         "alignmentgroup": "True",
         "hovertemplate": "subreddit=%{x}<br>Upvotes=%{y}<extra></extra>",
         "legendgroup": "r/comics",
         "marker": {
          "color": "#636efa",
          "pattern": {
           "shape": ""
          }
         },
         "name": "r/comics",
         "offsetgroup": "r/comics",
         "orientation": "v",
         "showlegend": true,
         "textposition": "auto",
         "x": [
          "r/comics"
         ],
         "xaxis": "x",
         "y": [
          161000.0
         ],
         "yaxis": "y",
         "type": "bar"
        },
        {
         "alignmentgroup": "True",
         "hovertemplate": "subreddit=%{x}<br>Upvotes=%{y}<extra></extra>",
         "legendgroup": "r/Whatcouldgowrong",
         "marker": {
          "color": "#EF553B",
          "pattern": {
           "shape": ""
          }
         },
         "name": "r/Whatcouldgowrong",
         "offsetgroup": "r/Whatcouldgowrong",
         "orientation": "v",
         "showlegend": true,
         "textposition": "auto",
         "x": [
          "r/Whatcouldgowrong"
         ],
         "xaxis": "x",
         "y": [
          159000.0
         ],
         "yaxis": "y",
         "type": "bar"
        },
        {
         "alignmentgroup": "True",
         "hovertemplate": "subreddit=%{x}<br>Upvotes=%{y}<extra></extra>",
         "legendgroup": "r/HolUp",
         "marker": {
          "color": "#00cc96",
          "pattern": {
           "shape": ""
          }
         },
         "name": "r/HolUp",
         "offsetgroup": "r/HolUp",
         "orientation": "v",
         "showlegend": true,
         "textposition": "auto",
         "x": [
          "r/HolUp"
         ],
         "xaxis": "x",
         "y": [
          159000.0
         ],
         "yaxis": "y",
         "type": "bar"
        },
        {
         "alignmentgroup": "True",
         "hovertemplate": "subreddit=%{x}<br>Upvotes=%{y}<extra></extra>",
         "legendgroup": "r/Instagramreality",
         "marker": {
          "color": "#ab63fa",
          "pattern": {
           "shape": ""
          }
         },
         "name": "r/Instagramreality",
         "offsetgroup": "r/Instagramreality",
         "orientation": "v",
         "showlegend": true,
         "textposition": "auto",
         "x": [
          "r/Instagramreality"
         ],
         "xaxis": "x",
         "y": [
          159000.0
         ],
         "yaxis": "y",
         "type": "bar"
        },
        {
         "alignmentgroup": "True",
         "hovertemplate": "subreddit=%{x}<br>Upvotes=%{y}<extra></extra>",
         "legendgroup": "r/freefolk",
         "marker": {
          "color": "#FFA15A",
          "pattern": {
           "shape": ""
          }
         },
         "name": "r/freefolk",
         "offsetgroup": "r/freefolk",
         "orientation": "v",
         "showlegend": true,
         "textposition": "auto",
         "x": [
          "r/freefolk"
         ],
         "xaxis": "x",
         "y": [
          157000.0
         ],
         "yaxis": "y",
         "type": "bar"
        },
        {
         "alignmentgroup": "True",
         "hovertemplate": "subreddit=%{x}<br>Upvotes=%{y}<extra></extra>",
         "legendgroup": "r/Music",
         "marker": {
          "color": "#19d3f3",
          "pattern": {
           "shape": ""
          }
         },
         "name": "r/Music",
         "offsetgroup": "r/Music",
         "orientation": "v",
         "showlegend": true,
         "textposition": "auto",
         "x": [
          "r/Music"
         ],
         "xaxis": "x",
         "y": [
          148000.0
         ],
         "yaxis": "y",
         "type": "bar"
        },
        {
         "alignmentgroup": "True",
         "hovertemplate": "subreddit=%{x}<br>Upvotes=%{y}<extra></extra>",
         "legendgroup": "r/pokemon",
         "marker": {
          "color": "#FF6692",
          "pattern": {
           "shape": ""
          }
         },
         "name": "r/pokemon",
         "offsetgroup": "r/pokemon",
         "orientation": "v",
         "showlegend": true,
         "textposition": "auto",
         "x": [
          "r/pokemon"
         ],
         "xaxis": "x",
         "y": [
          148000.0
         ],
         "yaxis": "y",
         "type": "bar"
        },
        {
         "alignmentgroup": "True",
         "hovertemplate": "subreddit=%{x}<br>Upvotes=%{y}<extra></extra>",
         "legendgroup": "r/GetMotivated",
         "marker": {
          "color": "#B6E880",
          "pattern": {
           "shape": ""
          }
         },
         "name": "r/GetMotivated",
         "offsetgroup": "r/GetMotivated",
         "orientation": "v",
         "showlegend": true,
         "textposition": "auto",
         "x": [
          "r/GetMotivated"
         ],
         "xaxis": "x",
         "y": [
          147000.0
         ],
         "yaxis": "y",
         "type": "bar"
        },
        {
         "alignmentgroup": "True",
         "hovertemplate": "subreddit=%{x}<br>Upvotes=%{y}<extra></extra>",
         "legendgroup": "r/Damnthatsinteresting",
         "marker": {
          "color": "#FF97FF",
          "pattern": {
           "shape": ""
          }
         },
         "name": "r/Damnthatsinteresting",
         "offsetgroup": "r/Damnthatsinteresting",
         "orientation": "v",
         "showlegend": true,
         "textposition": "auto",
         "x": [
          "r/Damnthatsinteresting"
         ],
         "xaxis": "x",
         "y": [
          145000.0
         ],
         "yaxis": "y",
         "type": "bar"
        },
        {
         "alignmentgroup": "True",
         "hovertemplate": "subreddit=%{x}<br>Upvotes=%{y}<extra></extra>",
         "legendgroup": "r/sports",
         "marker": {
          "color": "#FECB52",
          "pattern": {
           "shape": ""
          }
         },
         "name": "r/sports",
         "offsetgroup": "r/sports",
         "orientation": "v",
         "showlegend": true,
         "textposition": "auto",
         "x": [
          "r/sports"
         ],
         "xaxis": "x",
         "y": [
          143000.0
         ],
         "yaxis": "y",
         "type": "bar"
        },
        {
         "alignmentgroup": "True",
         "hovertemplate": "subreddit=%{x}<br>Upvotes=%{y}<extra></extra>",
         "legendgroup": "r/OldSchoolCool",
         "marker": {
          "color": "#636efa",
          "pattern": {
           "shape": ""
          }
         },
         "name": "r/OldSchoolCool",
         "offsetgroup": "r/OldSchoolCool",
         "orientation": "v",
         "showlegend": true,
         "textposition": "auto",
         "x": [
          "r/OldSchoolCool"
         ],
         "xaxis": "x",
         "y": [
          143000.0
         ],
         "yaxis": "y",
         "type": "bar"
        },
        {
         "alignmentgroup": "True",
         "hovertemplate": "subreddit=%{x}<br>Upvotes=%{y}<extra></extra>",
         "legendgroup": "r/ChoosingBeggars",
         "marker": {
          "color": "#EF553B",
          "pattern": {
           "shape": ""
          }
         },
         "name": "r/ChoosingBeggars",
         "offsetgroup": "r/ChoosingBeggars",
         "orientation": "v",
         "showlegend": true,
         "textposition": "auto",
         "x": [
          "r/ChoosingBeggars"
         ],
         "xaxis": "x",
         "y": [
          143000.0
         ],
         "yaxis": "y",
         "type": "bar"
        },
        {
         "alignmentgroup": "True",
         "hovertemplate": "subreddit=%{x}<br>Upvotes=%{y}<extra></extra>",
         "legendgroup": "r/The_Mueller",
         "marker": {
          "color": "#00cc96",
          "pattern": {
           "shape": ""
          }
         },
         "name": "r/The_Mueller",
         "offsetgroup": "r/The_Mueller",
         "orientation": "v",
         "showlegend": true,
         "textposition": "auto",
         "x": [
          "r/The_Mueller"
         ],
         "xaxis": "x",
         "y": [
          141000.0
         ],
         "yaxis": "y",
         "type": "bar"
        },
        {
         "alignmentgroup": "True",
         "hovertemplate": "subreddit=%{x}<br>Upvotes=%{y}<extra></extra>",
         "legendgroup": "r/pcmasterrace",
         "marker": {
          "color": "#ab63fa",
          "pattern": {
           "shape": ""
          }
         },
         "name": "r/pcmasterrace",
         "offsetgroup": "r/pcmasterrace",
         "orientation": "v",
         "showlegend": true,
         "textposition": "auto",
         "x": [
          "r/pcmasterrace"
         ],
         "xaxis": "x",
         "y": [
          140000.0
         ],
         "yaxis": "y",
         "type": "bar"
        },
        {
         "alignmentgroup": "True",
         "hovertemplate": "subreddit=%{x}<br>Upvotes=%{y}<extra></extra>",
         "legendgroup": "r/listentothis",
         "marker": {
          "color": "#FFA15A",
          "pattern": {
           "shape": ""
          }
         },
         "name": "r/listentothis",
         "offsetgroup": "r/listentothis",
         "orientation": "v",
         "showlegend": true,
         "textposition": "auto",
         "x": [
          "r/listentothis"
         ],
         "xaxis": "x",
         "y": [
          139000.0
         ],
         "yaxis": "y",
         "type": "bar"
        },
        {
         "alignmentgroup": "True",
         "hovertemplate": "subreddit=%{x}<br>Upvotes=%{y}<extra></extra>",
         "legendgroup": "r/TwoXChromosomes",
         "marker": {
          "color": "#19d3f3",
          "pattern": {
           "shape": ""
          }
         },
         "name": "r/TwoXChromosomes",
         "offsetgroup": "r/TwoXChromosomes",
         "orientation": "v",
         "showlegend": true,
         "textposition": "auto",
         "x": [
          "r/TwoXChromosomes"
         ],
         "xaxis": "x",
         "y": [
          138000.0
         ],
         "yaxis": "y",
         "type": "bar"
        },
        {
         "alignmentgroup": "True",
         "hovertemplate": "subreddit=%{x}<br>Upvotes=%{y}<extra></extra>",
         "legendgroup": "r/HongKong",
         "marker": {
          "color": "#FF6692",
          "pattern": {
           "shape": ""
          }
         },
         "name": "r/HongKong",
         "offsetgroup": "r/HongKong",
         "orientation": "v",
         "showlegend": true,
         "textposition": "auto",
         "x": [
          "r/HongKong"
         ],
         "xaxis": "x",
         "y": [
          138000.0
         ],
         "yaxis": "y",
         "type": "bar"
        },
        {
         "alignmentgroup": "True",
         "hovertemplate": "subreddit=%{x}<br>Upvotes=%{y}<extra></extra>",
         "legendgroup": "r/quityourbullshit",
         "marker": {
          "color": "#B6E880",
          "pattern": {
           "shape": ""
          }
         },
         "name": "r/quityourbullshit",
         "offsetgroup": "r/quityourbullshit",
         "orientation": "v",
         "showlegend": true,
         "textposition": "auto",
         "x": [
          "r/quityourbullshit"
         ],
         "xaxis": "x",
         "y": [
          137000.0
         ],
         "yaxis": "y",
         "type": "bar"
        },
        {
         "alignmentgroup": "True",
         "hovertemplate": "subreddit=%{x}<br>Upvotes=%{y}<extra></extra>",
         "legendgroup": "r/coolguides",
         "marker": {
          "color": "#FF97FF",
          "pattern": {
           "shape": ""
          }
         },
         "name": "r/coolguides",
         "offsetgroup": "r/coolguides",
         "orientation": "v",
         "showlegend": true,
         "textposition": "auto",
         "x": [
          "r/coolguides"
         ],
         "xaxis": "x",
         "y": [
          136000.0
         ],
         "yaxis": "y",
         "type": "bar"
        },
        {
         "alignmentgroup": "True",
         "hovertemplate": "subreddit=%{x}<br>Upvotes=%{y}<extra></extra>",
         "legendgroup": "r/gifsthatkeepongiving",
         "marker": {
          "color": "#FECB52",
          "pattern": {
           "shape": ""
          }
         },
         "name": "r/gifsthatkeepongiving",
         "offsetgroup": "r/gifsthatkeepongiving",
         "orientation": "v",
         "showlegend": true,
         "textposition": "auto",
         "x": [
          "r/gifsthatkeepongiving"
         ],
         "xaxis": "x",
         "y": [
          136000.0
         ],
         "yaxis": "y",
         "type": "bar"
        },
        {
         "alignmentgroup": "True",
         "hovertemplate": "subreddit=%{x}<br>Upvotes=%{y}<extra></extra>",
         "legendgroup": "r/AyyMD",
         "marker": {
          "color": "#636efa",
          "pattern": {
           "shape": ""
          }
         },
         "name": "r/AyyMD",
         "offsetgroup": "r/AyyMD",
         "orientation": "v",
         "showlegend": true,
         "textposition": "auto",
         "x": [
          "r/AyyMD"
         ],
         "xaxis": "x",
         "y": [
          134000.0
         ],
         "yaxis": "y",
         "type": "bar"
        },
        {
         "alignmentgroup": "True",
         "hovertemplate": "subreddit=%{x}<br>Upvotes=%{y}<extra></extra>",
         "legendgroup": "r/Coronavirus",
         "marker": {
          "color": "#EF553B",
          "pattern": {
           "shape": ""
          }
         },
         "name": "r/Coronavirus",
         "offsetgroup": "r/Coronavirus",
         "orientation": "v",
         "showlegend": true,
         "textposition": "auto",
         "x": [
          "r/Coronavirus"
         ],
         "xaxis": "x",
         "y": [
          134000.0
         ],
         "yaxis": "y",
         "type": "bar"
        },
        {
         "alignmentgroup": "True",
         "hovertemplate": "subreddit=%{x}<br>Upvotes=%{y}<extra></extra>",
         "legendgroup": "r/BeAmazed",
         "marker": {
          "color": "#00cc96",
          "pattern": {
           "shape": ""
          }
         },
         "name": "r/BeAmazed",
         "offsetgroup": "r/BeAmazed",
         "orientation": "v",
         "showlegend": true,
         "textposition": "auto",
         "x": [
          "r/BeAmazed"
         ],
         "xaxis": "x",
         "y": [
          134000.0
         ],
         "yaxis": "y",
         "type": "bar"
        },
        {
         "alignmentgroup": "True",
         "hovertemplate": "subreddit=%{x}<br>Upvotes=%{y}<extra></extra>",
         "legendgroup": "r/lotrmemes",
         "marker": {
          "color": "#ab63fa",
          "pattern": {
           "shape": ""
          }
         },
         "name": "r/lotrmemes",
         "offsetgroup": "r/lotrmemes",
         "orientation": "v",
         "showlegend": true,
         "textposition": "auto",
         "x": [
          "r/lotrmemes"
         ],
         "xaxis": "x",
         "y": [
          133000.0
         ],
         "yaxis": "y",
         "type": "bar"
        },
        {
         "alignmentgroup": "True",
         "hovertemplate": "subreddit=%{x}<br>Upvotes=%{y}<extra></extra>",
         "legendgroup": "r/PoliticalHumor",
         "marker": {
          "color": "#FFA15A",
          "pattern": {
           "shape": ""
          }
         },
         "name": "r/PoliticalHumor",
         "offsetgroup": "r/PoliticalHumor",
         "orientation": "v",
         "showlegend": true,
         "textposition": "auto",
         "x": [
          "r/PoliticalHumor"
         ],
         "xaxis": "x",
         "y": [
          132000.0
         ],
         "yaxis": "y",
         "type": "bar"
        }
       ],
       "layout": {
        "template": {
         "data": {
          "histogram2dcontour": [
           {
            "type": "histogram2dcontour",
            "colorbar": {
             "outlinewidth": 0,
             "ticks": ""
            },
            "colorscale": [
             [
              0.0,
              "#0d0887"
             ],
             [
              0.1111111111111111,
              "#46039f"
             ],
             [
              0.2222222222222222,
              "#7201a8"
             ],
             [
              0.3333333333333333,
              "#9c179e"
             ],
             [
              0.4444444444444444,
              "#bd3786"
             ],
             [
              0.5555555555555556,
              "#d8576b"
             ],
             [
              0.6666666666666666,
              "#ed7953"
             ],
             [
              0.7777777777777778,
              "#fb9f3a"
             ],
             [
              0.8888888888888888,
              "#fdca26"
             ],
             [
              1.0,
              "#f0f921"
             ]
            ]
           }
          ],
          "choropleth": [
           {
            "type": "choropleth",
            "colorbar": {
             "outlinewidth": 0,
             "ticks": ""
            }
           }
          ],
          "histogram2d": [
           {
            "type": "histogram2d",
            "colorbar": {
             "outlinewidth": 0,
             "ticks": ""
            },
            "colorscale": [
             [
              0.0,
              "#0d0887"
             ],
             [
              0.1111111111111111,
              "#46039f"
             ],
             [
              0.2222222222222222,
              "#7201a8"
             ],
             [
              0.3333333333333333,
              "#9c179e"
             ],
             [
              0.4444444444444444,
              "#bd3786"
             ],
             [
              0.5555555555555556,
              "#d8576b"
             ],
             [
              0.6666666666666666,
              "#ed7953"
             ],
             [
              0.7777777777777778,
              "#fb9f3a"
             ],
             [
              0.8888888888888888,
              "#fdca26"
             ],
             [
              1.0,
              "#f0f921"
             ]
            ]
           }
          ],
          "heatmap": [
           {
            "type": "heatmap",
            "colorbar": {
             "outlinewidth": 0,
             "ticks": ""
            },
            "colorscale": [
             [
              0.0,
              "#0d0887"
             ],
             [
              0.1111111111111111,
              "#46039f"
             ],
             [
              0.2222222222222222,
              "#7201a8"
             ],
             [
              0.3333333333333333,
              "#9c179e"
             ],
             [
              0.4444444444444444,
              "#bd3786"
             ],
             [
              0.5555555555555556,
              "#d8576b"
             ],
             [
              0.6666666666666666,
              "#ed7953"
             ],
             [
              0.7777777777777778,
              "#fb9f3a"
             ],
             [
              0.8888888888888888,
              "#fdca26"
             ],
             [
              1.0,
              "#f0f921"
             ]
            ]
           }
          ],
          "heatmapgl": [
           {
            "type": "heatmapgl",
            "colorbar": {
             "outlinewidth": 0,
             "ticks": ""
            },
            "colorscale": [
             [
              0.0,
              "#0d0887"
             ],
             [
              0.1111111111111111,
              "#46039f"
             ],
             [
              0.2222222222222222,
              "#7201a8"
             ],
             [
              0.3333333333333333,
              "#9c179e"
             ],
             [
              0.4444444444444444,
              "#bd3786"
             ],
             [
              0.5555555555555556,
              "#d8576b"
             ],
             [
              0.6666666666666666,
              "#ed7953"
             ],
             [
              0.7777777777777778,
              "#fb9f3a"
             ],
             [
              0.8888888888888888,
              "#fdca26"
             ],
             [
              1.0,
              "#f0f921"
             ]
            ]
           }
          ],
          "contourcarpet": [
           {
            "type": "contourcarpet",
            "colorbar": {
             "outlinewidth": 0,
             "ticks": ""
            }
           }
          ],
          "contour": [
           {
            "type": "contour",
            "colorbar": {
             "outlinewidth": 0,
             "ticks": ""
            },
            "colorscale": [
             [
              0.0,
              "#0d0887"
             ],
             [
              0.1111111111111111,
              "#46039f"
             ],
             [
              0.2222222222222222,
              "#7201a8"
             ],
             [
              0.3333333333333333,
              "#9c179e"
             ],
             [
              0.4444444444444444,
              "#bd3786"
             ],
             [
              0.5555555555555556,
              "#d8576b"
             ],
             [
              0.6666666666666666,
              "#ed7953"
             ],
             [
              0.7777777777777778,
              "#fb9f3a"
             ],
             [
              0.8888888888888888,
              "#fdca26"
             ],
             [
              1.0,
              "#f0f921"
             ]
            ]
           }
          ],
          "surface": [
           {
            "type": "surface",
            "colorbar": {
             "outlinewidth": 0,
             "ticks": ""
            },
            "colorscale": [
             [
              0.0,
              "#0d0887"
             ],
             [
              0.1111111111111111,
              "#46039f"
             ],
             [
              0.2222222222222222,
              "#7201a8"
             ],
             [
              0.3333333333333333,
              "#9c179e"
             ],
             [
              0.4444444444444444,
              "#bd3786"
             ],
             [
              0.5555555555555556,
              "#d8576b"
             ],
             [
              0.6666666666666666,
              "#ed7953"
             ],
             [
              0.7777777777777778,
              "#fb9f3a"
             ],
             [
              0.8888888888888888,
              "#fdca26"
             ],
             [
              1.0,
              "#f0f921"
             ]
            ]
           }
          ],
          "mesh3d": [
           {
            "type": "mesh3d",
            "colorbar": {
             "outlinewidth": 0,
             "ticks": ""
            }
           }
          ],
          "scatter": [
           {
            "fillpattern": {
             "fillmode": "overlay",
             "size": 10,
             "solidity": 0.2
            },
            "type": "scatter"
           }
          ],
          "parcoords": [
           {
            "type": "parcoords",
            "line": {
             "colorbar": {
              "outlinewidth": 0,
              "ticks": ""
             }
            }
           }
          ],
          "scatterpolargl": [
           {
            "type": "scatterpolargl",
            "marker": {
             "colorbar": {
              "outlinewidth": 0,
              "ticks": ""
             }
            }
           }
          ],
          "bar": [
           {
            "error_x": {
             "color": "#2a3f5f"
            },
            "error_y": {
             "color": "#2a3f5f"
            },
            "marker": {
             "line": {
              "color": "#E5ECF6",
              "width": 0.5
             },
             "pattern": {
              "fillmode": "overlay",
              "size": 10,
              "solidity": 0.2
             }
            },
            "type": "bar"
           }
          ],
          "scattergeo": [
           {
            "type": "scattergeo",
            "marker": {
             "colorbar": {
              "outlinewidth": 0,
              "ticks": ""
             }
            }
           }
          ],
          "scatterpolar": [
           {
            "type": "scatterpolar",
            "marker": {
             "colorbar": {
              "outlinewidth": 0,
              "ticks": ""
             }
            }
           }
          ],
          "histogram": [
           {
            "marker": {
             "pattern": {
              "fillmode": "overlay",
              "size": 10,
              "solidity": 0.2
             }
            },
            "type": "histogram"
           }
          ],
          "scattergl": [
           {
            "type": "scattergl",
            "marker": {
             "colorbar": {
              "outlinewidth": 0,
              "ticks": ""
             }
            }
           }
          ],
          "scatter3d": [
           {
            "type": "scatter3d",
            "line": {
             "colorbar": {
              "outlinewidth": 0,
              "ticks": ""
             }
            },
            "marker": {
             "colorbar": {
              "outlinewidth": 0,
              "ticks": ""
             }
            }
           }
          ],
          "scattermapbox": [
           {
            "type": "scattermapbox",
            "marker": {
             "colorbar": {
              "outlinewidth": 0,
              "ticks": ""
             }
            }
           }
          ],
          "scatterternary": [
           {
            "type": "scatterternary",
            "marker": {
             "colorbar": {
              "outlinewidth": 0,
              "ticks": ""
             }
            }
           }
          ],
          "scattercarpet": [
           {
            "type": "scattercarpet",
            "marker": {
             "colorbar": {
              "outlinewidth": 0,
              "ticks": ""
             }
            }
           }
          ],
          "carpet": [
           {
            "aaxis": {
             "endlinecolor": "#2a3f5f",
             "gridcolor": "white",
             "linecolor": "white",
             "minorgridcolor": "white",
             "startlinecolor": "#2a3f5f"
            },
            "baxis": {
             "endlinecolor": "#2a3f5f",
             "gridcolor": "white",
             "linecolor": "white",
             "minorgridcolor": "white",
             "startlinecolor": "#2a3f5f"
            },
            "type": "carpet"
           }
          ],
          "table": [
           {
            "cells": {
             "fill": {
              "color": "#EBF0F8"
             },
             "line": {
              "color": "white"
             }
            },
            "header": {
             "fill": {
              "color": "#C8D4E3"
             },
             "line": {
              "color": "white"
             }
            },
            "type": "table"
           }
          ],
          "barpolar": [
           {
            "marker": {
             "line": {
              "color": "#E5ECF6",
              "width": 0.5
             },
             "pattern": {
              "fillmode": "overlay",
              "size": 10,
              "solidity": 0.2
             }
            },
            "type": "barpolar"
           }
          ],
          "pie": [
           {
            "automargin": true,
            "type": "pie"
           }
          ]
         },
         "layout": {
          "autotypenumbers": "strict",
          "colorway": [
           "#636efa",
           "#EF553B",
           "#00cc96",
           "#ab63fa",
           "#FFA15A",
           "#19d3f3",
           "#FF6692",
           "#B6E880",
           "#FF97FF",
           "#FECB52"
          ],
          "font": {
           "color": "#2a3f5f"
          },
          "hovermode": "closest",
          "hoverlabel": {
           "align": "left"
          },
          "paper_bgcolor": "white",
          "plot_bgcolor": "#E5ECF6",
          "polar": {
           "bgcolor": "#E5ECF6",
           "angularaxis": {
            "gridcolor": "white",
            "linecolor": "white",
            "ticks": ""
           },
           "radialaxis": {
            "gridcolor": "white",
            "linecolor": "white",
            "ticks": ""
           }
          },
          "ternary": {
           "bgcolor": "#E5ECF6",
           "aaxis": {
            "gridcolor": "white",
            "linecolor": "white",
            "ticks": ""
           },
           "baxis": {
            "gridcolor": "white",
            "linecolor": "white",
            "ticks": ""
           },
           "caxis": {
            "gridcolor": "white",
            "linecolor": "white",
            "ticks": ""
           }
          },
          "coloraxis": {
           "colorbar": {
            "outlinewidth": 0,
            "ticks": ""
           }
          },
          "colorscale": {
           "sequential": [
            [
             0.0,
             "#0d0887"
            ],
            [
             0.1111111111111111,
             "#46039f"
            ],
            [
             0.2222222222222222,
             "#7201a8"
            ],
            [
             0.3333333333333333,
             "#9c179e"
            ],
            [
             0.4444444444444444,
             "#bd3786"
            ],
            [
             0.5555555555555556,
             "#d8576b"
            ],
            [
             0.6666666666666666,
             "#ed7953"
            ],
            [
             0.7777777777777778,
             "#fb9f3a"
            ],
            [
             0.8888888888888888,
             "#fdca26"
            ],
            [
             1.0,
             "#f0f921"
            ]
           ],
           "sequentialminus": [
            [
             0.0,
             "#0d0887"
            ],
            [
             0.1111111111111111,
             "#46039f"
            ],
            [
             0.2222222222222222,
             "#7201a8"
            ],
            [
             0.3333333333333333,
             "#9c179e"
            ],
            [
             0.4444444444444444,
             "#bd3786"
            ],
            [
             0.5555555555555556,
             "#d8576b"
            ],
            [
             0.6666666666666666,
             "#ed7953"
            ],
            [
             0.7777777777777778,
             "#fb9f3a"
            ],
            [
             0.8888888888888888,
             "#fdca26"
            ],
            [
             1.0,
             "#f0f921"
            ]
           ],
           "diverging": [
            [
             0,
             "#8e0152"
            ],
            [
             0.1,
             "#c51b7d"
            ],
            [
             0.2,
             "#de77ae"
            ],
            [
             0.3,
             "#f1b6da"
            ],
            [
             0.4,
             "#fde0ef"
            ],
            [
             0.5,
             "#f7f7f7"
            ],
            [
             0.6,
             "#e6f5d0"
            ],
            [
             0.7,
             "#b8e186"
            ],
            [
             0.8,
             "#7fbc41"
            ],
            [
             0.9,
             "#4d9221"
            ],
            [
             1,
             "#276419"
            ]
           ]
          },
          "xaxis": {
           "gridcolor": "white",
           "linecolor": "white",
           "ticks": "",
           "title": {
            "standoff": 15
           },
           "zerolinecolor": "white",
           "automargin": true,
           "zerolinewidth": 2
          },
          "yaxis": {
           "gridcolor": "white",
           "linecolor": "white",
           "ticks": "",
           "title": {
            "standoff": 15
           },
           "zerolinecolor": "white",
           "automargin": true,
           "zerolinewidth": 2
          },
          "scene": {
           "xaxis": {
            "backgroundcolor": "#E5ECF6",
            "gridcolor": "white",
            "linecolor": "white",
            "showbackground": true,
            "ticks": "",
            "zerolinecolor": "white",
            "gridwidth": 2
           },
           "yaxis": {
            "backgroundcolor": "#E5ECF6",
            "gridcolor": "white",
            "linecolor": "white",
            "showbackground": true,
            "ticks": "",
            "zerolinecolor": "white",
            "gridwidth": 2
           },
           "zaxis": {
            "backgroundcolor": "#E5ECF6",
            "gridcolor": "white",
            "linecolor": "white",
            "showbackground": true,
            "ticks": "",
            "zerolinecolor": "white",
            "gridwidth": 2
           }
          },
          "shapedefaults": {
           "line": {
            "color": "#2a3f5f"
           }
          },
          "annotationdefaults": {
           "arrowcolor": "#2a3f5f",
           "arrowhead": 0,
           "arrowwidth": 1
          },
          "geo": {
           "bgcolor": "white",
           "landcolor": "#E5ECF6",
           "subunitcolor": "white",
           "showland": true,
           "showlakes": true,
           "lakecolor": "white"
          },
          "title": {
           "x": 0.05
          },
          "mapbox": {
           "style": "light"
          }
         }
        },
        "xaxis": {
         "anchor": "y",
         "domain": [
          0.0,
          1.0
         ],
         "title": {
          "text": "subreddit"
         },
         "categoryorder": "array",
         "categoryarray": [
          "r/memes",
          "r/pics",
          "r/funny",
          "r/aww",
          "r/nextfuckinglevel",
          "r/gaming",
          "r/gifs",
          "r/interestingasfuck",
          "r/wallstreetbets",
          "r/news",
          "r/PublicFreakout",
          "r/MurderedByWords",
          "r/worldnews",
          "r/MadeMeSmile",
          "r/wholesomememes",
          "r/AskReddit",
          "r/todayilearned",
          "r/WatchPeopleDieInside",
          "r/mildlyinteresting",
          "r/WhitePeopleTwitter",
          "r/Showerthoughts",
          "r/videos",
          "r/facepalm",
          "r/PrequelMemes",
          "r/teenagers",
          "r/movies",
          "r/space",
          "r/Wellthatsucks",
          "r/politics",
          "r/awfuleverything",
          "r/me_irl",
          "r/IdiotsInCars",
          "r/announcements",
          "r/PewdiepieSubmissions",
          "r/thanosdidnothingwrong",
          "r/LifeProTips",
          "r/tifu",
          "r/BlackPeopleTwitter",
          "r/trashy",
          "r/oddlysatisfying",
          "r/BikiniBottomTwitter",
          "r/IAmA",
          "r/technology",
          "r/insanepeoplefacebook",
          "r/LeopardsAteMyFace",
          "r/science",
          "r/iamatotalpieceofshit",
          "r/Jokes",
          "r/Futurology",
          "r/rickandmorty",
          "r/instant_regret",
          "r/UpliftingNews",
          "r/JusticeServed",
          "r/StarWarsBattlefront",
          "r/MemeEconomy",
          "r/nottheonion",
          "r/books",
          "r/DunderMifflin",
          "r/dataisbeautiful",
          "r/assholedesign",
          "r/comics",
          "r/Whatcouldgowrong",
          "r/HolUp",
          "r/Instagramreality",
          "r/freefolk",
          "r/Music",
          "r/pokemon",
          "r/GetMotivated",
          "r/Damnthatsinteresting",
          "r/sports",
          "r/OldSchoolCool",
          "r/ChoosingBeggars",
          "r/The_Mueller",
          "r/pcmasterrace",
          "r/listentothis",
          "r/TwoXChromosomes",
          "r/HongKong",
          "r/quityourbullshit",
          "r/coolguides",
          "r/gifsthatkeepongiving",
          "r/AyyMD",
          "r/Coronavirus",
          "r/BeAmazed",
          "r/lotrmemes",
          "r/PoliticalHumor"
         ]
        },
        "yaxis": {
         "anchor": "x",
         "domain": [
          0.0,
          1.0
         ],
         "title": {
          "text": "Upvotes"
         }
        },
        "legend": {
         "title": {
          "text": "subreddit"
         },
         "tracegroupgap": 0
        },
        "title": {
         "text": "Total Upvotes by Subreddit"
        },
        "barmode": "relative",
        "height": 400
       },
       "config": {
        "plotlyServerURL": "https://plot.ly"
       }
      },
      "text/html": "<div>                            <div id=\"af89586b-3eb6-40ba-b1db-1be7951fe651\" class=\"plotly-graph-div\" style=\"height:400px; width:100%;\"></div>            <script type=\"text/javascript\">                require([\"plotly\"], function(Plotly) {                    window.PLOTLYENV=window.PLOTLYENV || {};                                    if (document.getElementById(\"af89586b-3eb6-40ba-b1db-1be7951fe651\")) {                    Plotly.newPlot(                        \"af89586b-3eb6-40ba-b1db-1be7951fe651\",                        [{\"alignmentgroup\":\"True\",\"hovertemplate\":\"subreddit=%{x}\\u003cbr\\u003eUpvotes=%{y}\\u003cextra\\u003e\\u003c\\u002fextra\\u003e\",\"legendgroup\":\"r\\u002fmemes\",\"marker\":{\"color\":\"#636efa\",\"pattern\":{\"shape\":\"\"}},\"name\":\"r\\u002fmemes\",\"offsetgroup\":\"r\\u002fmemes\",\"orientation\":\"v\",\"showlegend\":true,\"textposition\":\"auto\",\"x\":[\"r\\u002fmemes\"],\"xaxis\":\"x\",\"y\":[86916000.0],\"yaxis\":\"y\",\"type\":\"bar\"},{\"alignmentgroup\":\"True\",\"hovertemplate\":\"subreddit=%{x}\\u003cbr\\u003eUpvotes=%{y}\\u003cextra\\u003e\\u003c\\u002fextra\\u003e\",\"legendgroup\":\"r\\u002fpics\",\"marker\":{\"color\":\"#EF553B\",\"pattern\":{\"shape\":\"\"}},\"name\":\"r\\u002fpics\",\"offsetgroup\":\"r\\u002fpics\",\"orientation\":\"v\",\"showlegend\":true,\"textposition\":\"auto\",\"x\":[\"r\\u002fpics\"],\"xaxis\":\"x\",\"y\":[57302000.0],\"yaxis\":\"y\",\"type\":\"bar\"},{\"alignmentgroup\":\"True\",\"hovertemplate\":\"subreddit=%{x}\\u003cbr\\u003eUpvotes=%{y}\\u003cextra\\u003e\\u003c\\u002fextra\\u003e\",\"legendgroup\":\"r\\u002ffunny\",\"marker\":{\"color\":\"#00cc96\",\"pattern\":{\"shape\":\"\"}},\"name\":\"r\\u002ffunny\",\"offsetgroup\":\"r\\u002ffunny\",\"orientation\":\"v\",\"showlegend\":true,\"textposition\":\"auto\",\"x\":[\"r\\u002ffunny\"],\"xaxis\":\"x\",\"y\":[31632000.0],\"yaxis\":\"y\",\"type\":\"bar\"},{\"alignmentgroup\":\"True\",\"hovertemplate\":\"subreddit=%{x}\\u003cbr\\u003eUpvotes=%{y}\\u003cextra\\u003e\\u003c\\u002fextra\\u003e\",\"legendgroup\":\"r\\u002faww\",\"marker\":{\"color\":\"#ab63fa\",\"pattern\":{\"shape\":\"\"}},\"name\":\"r\\u002faww\",\"offsetgroup\":\"r\\u002faww\",\"orientation\":\"v\",\"showlegend\":true,\"textposition\":\"auto\",\"x\":[\"r\\u002faww\"],\"xaxis\":\"x\",\"y\":[26105000.0],\"yaxis\":\"y\",\"type\":\"bar\"},{\"alignmentgroup\":\"True\",\"hovertemplate\":\"subreddit=%{x}\\u003cbr\\u003eUpvotes=%{y}\\u003cextra\\u003e\\u003c\\u002fextra\\u003e\",\"legendgroup\":\"r\\u002fnextfuckinglevel\",\"marker\":{\"color\":\"#FFA15A\",\"pattern\":{\"shape\":\"\"}},\"name\":\"r\\u002fnextfuckinglevel\",\"offsetgroup\":\"r\\u002fnextfuckinglevel\",\"orientation\":\"v\",\"showlegend\":true,\"textposition\":\"auto\",\"x\":[\"r\\u002fnextfuckinglevel\"],\"xaxis\":\"x\",\"y\":[23911000.0],\"yaxis\":\"y\",\"type\":\"bar\"},{\"alignmentgroup\":\"True\",\"hovertemplate\":\"subreddit=%{x}\\u003cbr\\u003eUpvotes=%{y}\\u003cextra\\u003e\\u003c\\u002fextra\\u003e\",\"legendgroup\":\"r\\u002fgaming\",\"marker\":{\"color\":\"#19d3f3\",\"pattern\":{\"shape\":\"\"}},\"name\":\"r\\u002fgaming\",\"offsetgroup\":\"r\\u002fgaming\",\"orientation\":\"v\",\"showlegend\":true,\"textposition\":\"auto\",\"x\":[\"r\\u002fgaming\"],\"xaxis\":\"x\",\"y\":[17034000.0],\"yaxis\":\"y\",\"type\":\"bar\"},{\"alignmentgroup\":\"True\",\"hovertemplate\":\"subreddit=%{x}\\u003cbr\\u003eUpvotes=%{y}\\u003cextra\\u003e\\u003c\\u002fextra\\u003e\",\"legendgroup\":\"r\\u002fgifs\",\"marker\":{\"color\":\"#FF6692\",\"pattern\":{\"shape\":\"\"}},\"name\":\"r\\u002fgifs\",\"offsetgroup\":\"r\\u002fgifs\",\"orientation\":\"v\",\"showlegend\":true,\"textposition\":\"auto\",\"x\":[\"r\\u002fgifs\"],\"xaxis\":\"x\",\"y\":[14785000.0],\"yaxis\":\"y\",\"type\":\"bar\"},{\"alignmentgroup\":\"True\",\"hovertemplate\":\"subreddit=%{x}\\u003cbr\\u003eUpvotes=%{y}\\u003cextra\\u003e\\u003c\\u002fextra\\u003e\",\"legendgroup\":\"r\\u002finterestingasfuck\",\"marker\":{\"color\":\"#B6E880\",\"pattern\":{\"shape\":\"\"}},\"name\":\"r\\u002finterestingasfuck\",\"offsetgroup\":\"r\\u002finterestingasfuck\",\"orientation\":\"v\",\"showlegend\":true,\"textposition\":\"auto\",\"x\":[\"r\\u002finterestingasfuck\"],\"xaxis\":\"x\",\"y\":[12479000.0],\"yaxis\":\"y\",\"type\":\"bar\"},{\"alignmentgroup\":\"True\",\"hovertemplate\":\"subreddit=%{x}\\u003cbr\\u003eUpvotes=%{y}\\u003cextra\\u003e\\u003c\\u002fextra\\u003e\",\"legendgroup\":\"r\\u002fwallstreetbets\",\"marker\":{\"color\":\"#FF97FF\",\"pattern\":{\"shape\":\"\"}},\"name\":\"r\\u002fwallstreetbets\",\"offsetgroup\":\"r\\u002fwallstreetbets\",\"orientation\":\"v\",\"showlegend\":true,\"textposition\":\"auto\",\"x\":[\"r\\u002fwallstreetbets\"],\"xaxis\":\"x\",\"y\":[9860000.0],\"yaxis\":\"y\",\"type\":\"bar\"},{\"alignmentgroup\":\"True\",\"hovertemplate\":\"subreddit=%{x}\\u003cbr\\u003eUpvotes=%{y}\\u003cextra\\u003e\\u003c\\u002fextra\\u003e\",\"legendgroup\":\"r\\u002fnews\",\"marker\":{\"color\":\"#FECB52\",\"pattern\":{\"shape\":\"\"}},\"name\":\"r\\u002fnews\",\"offsetgroup\":\"r\\u002fnews\",\"orientation\":\"v\",\"showlegend\":true,\"textposition\":\"auto\",\"x\":[\"r\\u002fnews\"],\"xaxis\":\"x\",\"y\":[6580000.0],\"yaxis\":\"y\",\"type\":\"bar\"},{\"alignmentgroup\":\"True\",\"hovertemplate\":\"subreddit=%{x}\\u003cbr\\u003eUpvotes=%{y}\\u003cextra\\u003e\\u003c\\u002fextra\\u003e\",\"legendgroup\":\"r\\u002fPublicFreakout\",\"marker\":{\"color\":\"#636efa\",\"pattern\":{\"shape\":\"\"}},\"name\":\"r\\u002fPublicFreakout\",\"offsetgroup\":\"r\\u002fPublicFreakout\",\"orientation\":\"v\",\"showlegend\":true,\"textposition\":\"auto\",\"x\":[\"r\\u002fPublicFreakout\"],\"xaxis\":\"x\",\"y\":[6168000.0],\"yaxis\":\"y\",\"type\":\"bar\"},{\"alignmentgroup\":\"True\",\"hovertemplate\":\"subreddit=%{x}\\u003cbr\\u003eUpvotes=%{y}\\u003cextra\\u003e\\u003c\\u002fextra\\u003e\",\"legendgroup\":\"r\\u002fMurderedByWords\",\"marker\":{\"color\":\"#EF553B\",\"pattern\":{\"shape\":\"\"}},\"name\":\"r\\u002fMurderedByWords\",\"offsetgroup\":\"r\\u002fMurderedByWords\",\"orientation\":\"v\",\"showlegend\":true,\"textposition\":\"auto\",\"x\":[\"r\\u002fMurderedByWords\"],\"xaxis\":\"x\",\"y\":[5737000.0],\"yaxis\":\"y\",\"type\":\"bar\"},{\"alignmentgroup\":\"True\",\"hovertemplate\":\"subreddit=%{x}\\u003cbr\\u003eUpvotes=%{y}\\u003cextra\\u003e\\u003c\\u002fextra\\u003e\",\"legendgroup\":\"r\\u002fworldnews\",\"marker\":{\"color\":\"#00cc96\",\"pattern\":{\"shape\":\"\"}},\"name\":\"r\\u002fworldnews\",\"offsetgroup\":\"r\\u002fworldnews\",\"orientation\":\"v\",\"showlegend\":true,\"textposition\":\"auto\",\"x\":[\"r\\u002fworldnews\"],\"xaxis\":\"x\",\"y\":[5016000.0],\"yaxis\":\"y\",\"type\":\"bar\"},{\"alignmentgroup\":\"True\",\"hovertemplate\":\"subreddit=%{x}\\u003cbr\\u003eUpvotes=%{y}\\u003cextra\\u003e\\u003c\\u002fextra\\u003e\",\"legendgroup\":\"r\\u002fMadeMeSmile\",\"marker\":{\"color\":\"#ab63fa\",\"pattern\":{\"shape\":\"\"}},\"name\":\"r\\u002fMadeMeSmile\",\"offsetgroup\":\"r\\u002fMadeMeSmile\",\"orientation\":\"v\",\"showlegend\":true,\"textposition\":\"auto\",\"x\":[\"r\\u002fMadeMeSmile\"],\"xaxis\":\"x\",\"y\":[4622000.0],\"yaxis\":\"y\",\"type\":\"bar\"},{\"alignmentgroup\":\"True\",\"hovertemplate\":\"subreddit=%{x}\\u003cbr\\u003eUpvotes=%{y}\\u003cextra\\u003e\\u003c\\u002fextra\\u003e\",\"legendgroup\":\"r\\u002fwholesomememes\",\"marker\":{\"color\":\"#FFA15A\",\"pattern\":{\"shape\":\"\"}},\"name\":\"r\\u002fwholesomememes\",\"offsetgroup\":\"r\\u002fwholesomememes\",\"orientation\":\"v\",\"showlegend\":true,\"textposition\":\"auto\",\"x\":[\"r\\u002fwholesomememes\"],\"xaxis\":\"x\",\"y\":[3213000.0],\"yaxis\":\"y\",\"type\":\"bar\"},{\"alignmentgroup\":\"True\",\"hovertemplate\":\"subreddit=%{x}\\u003cbr\\u003eUpvotes=%{y}\\u003cextra\\u003e\\u003c\\u002fextra\\u003e\",\"legendgroup\":\"r\\u002fAskReddit\",\"marker\":{\"color\":\"#19d3f3\",\"pattern\":{\"shape\":\"\"}},\"name\":\"r\\u002fAskReddit\",\"offsetgroup\":\"r\\u002fAskReddit\",\"orientation\":\"v\",\"showlegend\":true,\"textposition\":\"auto\",\"x\":[\"r\\u002fAskReddit\"],\"xaxis\":\"x\",\"y\":[3021000.0],\"yaxis\":\"y\",\"type\":\"bar\"},{\"alignmentgroup\":\"True\",\"hovertemplate\":\"subreddit=%{x}\\u003cbr\\u003eUpvotes=%{y}\\u003cextra\\u003e\\u003c\\u002fextra\\u003e\",\"legendgroup\":\"r\\u002ftodayilearned\",\"marker\":{\"color\":\"#FF6692\",\"pattern\":{\"shape\":\"\"}},\"name\":\"r\\u002ftodayilearned\",\"offsetgroup\":\"r\\u002ftodayilearned\",\"orientation\":\"v\",\"showlegend\":true,\"textposition\":\"auto\",\"x\":[\"r\\u002ftodayilearned\"],\"xaxis\":\"x\",\"y\":[2970000.0],\"yaxis\":\"y\",\"type\":\"bar\"},{\"alignmentgroup\":\"True\",\"hovertemplate\":\"subreddit=%{x}\\u003cbr\\u003eUpvotes=%{y}\\u003cextra\\u003e\\u003c\\u002fextra\\u003e\",\"legendgroup\":\"r\\u002fWatchPeopleDieInside\",\"marker\":{\"color\":\"#B6E880\",\"pattern\":{\"shape\":\"\"}},\"name\":\"r\\u002fWatchPeopleDieInside\",\"offsetgroup\":\"r\\u002fWatchPeopleDieInside\",\"orientation\":\"v\",\"showlegend\":true,\"textposition\":\"auto\",\"x\":[\"r\\u002fWatchPeopleDieInside\"],\"xaxis\":\"x\",\"y\":[2831000.0],\"yaxis\":\"y\",\"type\":\"bar\"},{\"alignmentgroup\":\"True\",\"hovertemplate\":\"subreddit=%{x}\\u003cbr\\u003eUpvotes=%{y}\\u003cextra\\u003e\\u003c\\u002fextra\\u003e\",\"legendgroup\":\"r\\u002fmildlyinteresting\",\"marker\":{\"color\":\"#FF97FF\",\"pattern\":{\"shape\":\"\"}},\"name\":\"r\\u002fmildlyinteresting\",\"offsetgroup\":\"r\\u002fmildlyinteresting\",\"orientation\":\"v\",\"showlegend\":true,\"textposition\":\"auto\",\"x\":[\"r\\u002fmildlyinteresting\"],\"xaxis\":\"x\",\"y\":[2806000.0],\"yaxis\":\"y\",\"type\":\"bar\"},{\"alignmentgroup\":\"True\",\"hovertemplate\":\"subreddit=%{x}\\u003cbr\\u003eUpvotes=%{y}\\u003cextra\\u003e\\u003c\\u002fextra\\u003e\",\"legendgroup\":\"r\\u002fWhitePeopleTwitter\",\"marker\":{\"color\":\"#FECB52\",\"pattern\":{\"shape\":\"\"}},\"name\":\"r\\u002fWhitePeopleTwitter\",\"offsetgroup\":\"r\\u002fWhitePeopleTwitter\",\"orientation\":\"v\",\"showlegend\":true,\"textposition\":\"auto\",\"x\":[\"r\\u002fWhitePeopleTwitter\"],\"xaxis\":\"x\",\"y\":[2780000.0],\"yaxis\":\"y\",\"type\":\"bar\"},{\"alignmentgroup\":\"True\",\"hovertemplate\":\"subreddit=%{x}\\u003cbr\\u003eUpvotes=%{y}\\u003cextra\\u003e\\u003c\\u002fextra\\u003e\",\"legendgroup\":\"r\\u002fShowerthoughts\",\"marker\":{\"color\":\"#636efa\",\"pattern\":{\"shape\":\"\"}},\"name\":\"r\\u002fShowerthoughts\",\"offsetgroup\":\"r\\u002fShowerthoughts\",\"orientation\":\"v\",\"showlegend\":true,\"textposition\":\"auto\",\"x\":[\"r\\u002fShowerthoughts\"],\"xaxis\":\"x\",\"y\":[2133000.0],\"yaxis\":\"y\",\"type\":\"bar\"},{\"alignmentgroup\":\"True\",\"hovertemplate\":\"subreddit=%{x}\\u003cbr\\u003eUpvotes=%{y}\\u003cextra\\u003e\\u003c\\u002fextra\\u003e\",\"legendgroup\":\"r\\u002fvideos\",\"marker\":{\"color\":\"#EF553B\",\"pattern\":{\"shape\":\"\"}},\"name\":\"r\\u002fvideos\",\"offsetgroup\":\"r\\u002fvideos\",\"orientation\":\"v\",\"showlegend\":true,\"textposition\":\"auto\",\"x\":[\"r\\u002fvideos\"],\"xaxis\":\"x\",\"y\":[2071000.0],\"yaxis\":\"y\",\"type\":\"bar\"},{\"alignmentgroup\":\"True\",\"hovertemplate\":\"subreddit=%{x}\\u003cbr\\u003eUpvotes=%{y}\\u003cextra\\u003e\\u003c\\u002fextra\\u003e\",\"legendgroup\":\"r\\u002ffacepalm\",\"marker\":{\"color\":\"#00cc96\",\"pattern\":{\"shape\":\"\"}},\"name\":\"r\\u002ffacepalm\",\"offsetgroup\":\"r\\u002ffacepalm\",\"orientation\":\"v\",\"showlegend\":true,\"textposition\":\"auto\",\"x\":[\"r\\u002ffacepalm\"],\"xaxis\":\"x\",\"y\":[1939000.0],\"yaxis\":\"y\",\"type\":\"bar\"},{\"alignmentgroup\":\"True\",\"hovertemplate\":\"subreddit=%{x}\\u003cbr\\u003eUpvotes=%{y}\\u003cextra\\u003e\\u003c\\u002fextra\\u003e\",\"legendgroup\":\"r\\u002fPrequelMemes\",\"marker\":{\"color\":\"#ab63fa\",\"pattern\":{\"shape\":\"\"}},\"name\":\"r\\u002fPrequelMemes\",\"offsetgroup\":\"r\\u002fPrequelMemes\",\"orientation\":\"v\",\"showlegend\":true,\"textposition\":\"auto\",\"x\":[\"r\\u002fPrequelMemes\"],\"xaxis\":\"x\",\"y\":[1383000.0],\"yaxis\":\"y\",\"type\":\"bar\"},{\"alignmentgroup\":\"True\",\"hovertemplate\":\"subreddit=%{x}\\u003cbr\\u003eUpvotes=%{y}\\u003cextra\\u003e\\u003c\\u002fextra\\u003e\",\"legendgroup\":\"r\\u002fteenagers\",\"marker\":{\"color\":\"#FFA15A\",\"pattern\":{\"shape\":\"\"}},\"name\":\"r\\u002fteenagers\",\"offsetgroup\":\"r\\u002fteenagers\",\"orientation\":\"v\",\"showlegend\":true,\"textposition\":\"auto\",\"x\":[\"r\\u002fteenagers\"],\"xaxis\":\"x\",\"y\":[1289000.0],\"yaxis\":\"y\",\"type\":\"bar\"},{\"alignmentgroup\":\"True\",\"hovertemplate\":\"subreddit=%{x}\\u003cbr\\u003eUpvotes=%{y}\\u003cextra\\u003e\\u003c\\u002fextra\\u003e\",\"legendgroup\":\"r\\u002fmovies\",\"marker\":{\"color\":\"#19d3f3\",\"pattern\":{\"shape\":\"\"}},\"name\":\"r\\u002fmovies\",\"offsetgroup\":\"r\\u002fmovies\",\"orientation\":\"v\",\"showlegend\":true,\"textposition\":\"auto\",\"x\":[\"r\\u002fmovies\"],\"xaxis\":\"x\",\"y\":[1209000.0],\"yaxis\":\"y\",\"type\":\"bar\"},{\"alignmentgroup\":\"True\",\"hovertemplate\":\"subreddit=%{x}\\u003cbr\\u003eUpvotes=%{y}\\u003cextra\\u003e\\u003c\\u002fextra\\u003e\",\"legendgroup\":\"r\\u002fspace\",\"marker\":{\"color\":\"#FF6692\",\"pattern\":{\"shape\":\"\"}},\"name\":\"r\\u002fspace\",\"offsetgroup\":\"r\\u002fspace\",\"orientation\":\"v\",\"showlegend\":true,\"textposition\":\"auto\",\"x\":[\"r\\u002fspace\"],\"xaxis\":\"x\",\"y\":[1194000.0],\"yaxis\":\"y\",\"type\":\"bar\"},{\"alignmentgroup\":\"True\",\"hovertemplate\":\"subreddit=%{x}\\u003cbr\\u003eUpvotes=%{y}\\u003cextra\\u003e\\u003c\\u002fextra\\u003e\",\"legendgroup\":\"r\\u002fWellthatsucks\",\"marker\":{\"color\":\"#B6E880\",\"pattern\":{\"shape\":\"\"}},\"name\":\"r\\u002fWellthatsucks\",\"offsetgroup\":\"r\\u002fWellthatsucks\",\"orientation\":\"v\",\"showlegend\":true,\"textposition\":\"auto\",\"x\":[\"r\\u002fWellthatsucks\"],\"xaxis\":\"x\",\"y\":[1156000.0],\"yaxis\":\"y\",\"type\":\"bar\"},{\"alignmentgroup\":\"True\",\"hovertemplate\":\"subreddit=%{x}\\u003cbr\\u003eUpvotes=%{y}\\u003cextra\\u003e\\u003c\\u002fextra\\u003e\",\"legendgroup\":\"r\\u002fpolitics\",\"marker\":{\"color\":\"#FF97FF\",\"pattern\":{\"shape\":\"\"}},\"name\":\"r\\u002fpolitics\",\"offsetgroup\":\"r\\u002fpolitics\",\"orientation\":\"v\",\"showlegend\":true,\"textposition\":\"auto\",\"x\":[\"r\\u002fpolitics\"],\"xaxis\":\"x\",\"y\":[913000.0],\"yaxis\":\"y\",\"type\":\"bar\"},{\"alignmentgroup\":\"True\",\"hovertemplate\":\"subreddit=%{x}\\u003cbr\\u003eUpvotes=%{y}\\u003cextra\\u003e\\u003c\\u002fextra\\u003e\",\"legendgroup\":\"r\\u002fawfuleverything\",\"marker\":{\"color\":\"#FECB52\",\"pattern\":{\"shape\":\"\"}},\"name\":\"r\\u002fawfuleverything\",\"offsetgroup\":\"r\\u002fawfuleverything\",\"orientation\":\"v\",\"showlegend\":true,\"textposition\":\"auto\",\"x\":[\"r\\u002fawfuleverything\"],\"xaxis\":\"x\",\"y\":[796000.0],\"yaxis\":\"y\",\"type\":\"bar\"},{\"alignmentgroup\":\"True\",\"hovertemplate\":\"subreddit=%{x}\\u003cbr\\u003eUpvotes=%{y}\\u003cextra\\u003e\\u003c\\u002fextra\\u003e\",\"legendgroup\":\"r\\u002fme_irl\",\"marker\":{\"color\":\"#636efa\",\"pattern\":{\"shape\":\"\"}},\"name\":\"r\\u002fme_irl\",\"offsetgroup\":\"r\\u002fme_irl\",\"orientation\":\"v\",\"showlegend\":true,\"textposition\":\"auto\",\"x\":[\"r\\u002fme_irl\"],\"xaxis\":\"x\",\"y\":[783000.0],\"yaxis\":\"y\",\"type\":\"bar\"},{\"alignmentgroup\":\"True\",\"hovertemplate\":\"subreddit=%{x}\\u003cbr\\u003eUpvotes=%{y}\\u003cextra\\u003e\\u003c\\u002fextra\\u003e\",\"legendgroup\":\"r\\u002fIdiotsInCars\",\"marker\":{\"color\":\"#EF553B\",\"pattern\":{\"shape\":\"\"}},\"name\":\"r\\u002fIdiotsInCars\",\"offsetgroup\":\"r\\u002fIdiotsInCars\",\"orientation\":\"v\",\"showlegend\":true,\"textposition\":\"auto\",\"x\":[\"r\\u002fIdiotsInCars\"],\"xaxis\":\"x\",\"y\":[768000.0],\"yaxis\":\"y\",\"type\":\"bar\"},{\"alignmentgroup\":\"True\",\"hovertemplate\":\"subreddit=%{x}\\u003cbr\\u003eUpvotes=%{y}\\u003cextra\\u003e\\u003c\\u002fextra\\u003e\",\"legendgroup\":\"r\\u002fannouncements\",\"marker\":{\"color\":\"#00cc96\",\"pattern\":{\"shape\":\"\"}},\"name\":\"r\\u002fannouncements\",\"offsetgroup\":\"r\\u002fannouncements\",\"orientation\":\"v\",\"showlegend\":true,\"textposition\":\"auto\",\"x\":[\"r\\u002fannouncements\"],\"xaxis\":\"x\",\"y\":[681000.0],\"yaxis\":\"y\",\"type\":\"bar\"},{\"alignmentgroup\":\"True\",\"hovertemplate\":\"subreddit=%{x}\\u003cbr\\u003eUpvotes=%{y}\\u003cextra\\u003e\\u003c\\u002fextra\\u003e\",\"legendgroup\":\"r\\u002fPewdiepieSubmissions\",\"marker\":{\"color\":\"#ab63fa\",\"pattern\":{\"shape\":\"\"}},\"name\":\"r\\u002fPewdiepieSubmissions\",\"offsetgroup\":\"r\\u002fPewdiepieSubmissions\",\"orientation\":\"v\",\"showlegend\":true,\"textposition\":\"auto\",\"x\":[\"r\\u002fPewdiepieSubmissions\"],\"xaxis\":\"x\",\"y\":[628000.0],\"yaxis\":\"y\",\"type\":\"bar\"},{\"alignmentgroup\":\"True\",\"hovertemplate\":\"subreddit=%{x}\\u003cbr\\u003eUpvotes=%{y}\\u003cextra\\u003e\\u003c\\u002fextra\\u003e\",\"legendgroup\":\"r\\u002fthanosdidnothingwrong\",\"marker\":{\"color\":\"#FFA15A\",\"pattern\":{\"shape\":\"\"}},\"name\":\"r\\u002fthanosdidnothingwrong\",\"offsetgroup\":\"r\\u002fthanosdidnothingwrong\",\"orientation\":\"v\",\"showlegend\":true,\"textposition\":\"auto\",\"x\":[\"r\\u002fthanosdidnothingwrong\"],\"xaxis\":\"x\",\"y\":[628000.0],\"yaxis\":\"y\",\"type\":\"bar\"},{\"alignmentgroup\":\"True\",\"hovertemplate\":\"subreddit=%{x}\\u003cbr\\u003eUpvotes=%{y}\\u003cextra\\u003e\\u003c\\u002fextra\\u003e\",\"legendgroup\":\"r\\u002fLifeProTips\",\"marker\":{\"color\":\"#19d3f3\",\"pattern\":{\"shape\":\"\"}},\"name\":\"r\\u002fLifeProTips\",\"offsetgroup\":\"r\\u002fLifeProTips\",\"orientation\":\"v\",\"showlegend\":true,\"textposition\":\"auto\",\"x\":[\"r\\u002fLifeProTips\"],\"xaxis\":\"x\",\"y\":[618000.0],\"yaxis\":\"y\",\"type\":\"bar\"},{\"alignmentgroup\":\"True\",\"hovertemplate\":\"subreddit=%{x}\\u003cbr\\u003eUpvotes=%{y}\\u003cextra\\u003e\\u003c\\u002fextra\\u003e\",\"legendgroup\":\"r\\u002ftifu\",\"marker\":{\"color\":\"#FF6692\",\"pattern\":{\"shape\":\"\"}},\"name\":\"r\\u002ftifu\",\"offsetgroup\":\"r\\u002ftifu\",\"orientation\":\"v\",\"showlegend\":true,\"textposition\":\"auto\",\"x\":[\"r\\u002ftifu\"],\"xaxis\":\"x\",\"y\":[606000.0],\"yaxis\":\"y\",\"type\":\"bar\"},{\"alignmentgroup\":\"True\",\"hovertemplate\":\"subreddit=%{x}\\u003cbr\\u003eUpvotes=%{y}\\u003cextra\\u003e\\u003c\\u002fextra\\u003e\",\"legendgroup\":\"r\\u002fBlackPeopleTwitter\",\"marker\":{\"color\":\"#B6E880\",\"pattern\":{\"shape\":\"\"}},\"name\":\"r\\u002fBlackPeopleTwitter\",\"offsetgroup\":\"r\\u002fBlackPeopleTwitter\",\"orientation\":\"v\",\"showlegend\":true,\"textposition\":\"auto\",\"x\":[\"r\\u002fBlackPeopleTwitter\"],\"xaxis\":\"x\",\"y\":[577000.0],\"yaxis\":\"y\",\"type\":\"bar\"},{\"alignmentgroup\":\"True\",\"hovertemplate\":\"subreddit=%{x}\\u003cbr\\u003eUpvotes=%{y}\\u003cextra\\u003e\\u003c\\u002fextra\\u003e\",\"legendgroup\":\"r\\u002ftrashy\",\"marker\":{\"color\":\"#FF97FF\",\"pattern\":{\"shape\":\"\"}},\"name\":\"r\\u002ftrashy\",\"offsetgroup\":\"r\\u002ftrashy\",\"orientation\":\"v\",\"showlegend\":true,\"textposition\":\"auto\",\"x\":[\"r\\u002ftrashy\"],\"xaxis\":\"x\",\"y\":[500000.0],\"yaxis\":\"y\",\"type\":\"bar\"},{\"alignmentgroup\":\"True\",\"hovertemplate\":\"subreddit=%{x}\\u003cbr\\u003eUpvotes=%{y}\\u003cextra\\u003e\\u003c\\u002fextra\\u003e\",\"legendgroup\":\"r\\u002foddlysatisfying\",\"marker\":{\"color\":\"#FECB52\",\"pattern\":{\"shape\":\"\"}},\"name\":\"r\\u002foddlysatisfying\",\"offsetgroup\":\"r\\u002foddlysatisfying\",\"orientation\":\"v\",\"showlegend\":true,\"textposition\":\"auto\",\"x\":[\"r\\u002foddlysatisfying\"],\"xaxis\":\"x\",\"y\":[477000.0],\"yaxis\":\"y\",\"type\":\"bar\"},{\"alignmentgroup\":\"True\",\"hovertemplate\":\"subreddit=%{x}\\u003cbr\\u003eUpvotes=%{y}\\u003cextra\\u003e\\u003c\\u002fextra\\u003e\",\"legendgroup\":\"r\\u002fBikiniBottomTwitter\",\"marker\":{\"color\":\"#636efa\",\"pattern\":{\"shape\":\"\"}},\"name\":\"r\\u002fBikiniBottomTwitter\",\"offsetgroup\":\"r\\u002fBikiniBottomTwitter\",\"orientation\":\"v\",\"showlegend\":true,\"textposition\":\"auto\",\"x\":[\"r\\u002fBikiniBottomTwitter\"],\"xaxis\":\"x\",\"y\":[451000.0],\"yaxis\":\"y\",\"type\":\"bar\"},{\"alignmentgroup\":\"True\",\"hovertemplate\":\"subreddit=%{x}\\u003cbr\\u003eUpvotes=%{y}\\u003cextra\\u003e\\u003c\\u002fextra\\u003e\",\"legendgroup\":\"r\\u002fIAmA\",\"marker\":{\"color\":\"#EF553B\",\"pattern\":{\"shape\":\"\"}},\"name\":\"r\\u002fIAmA\",\"offsetgroup\":\"r\\u002fIAmA\",\"orientation\":\"v\",\"showlegend\":true,\"textposition\":\"auto\",\"x\":[\"r\\u002fIAmA\"],\"xaxis\":\"x\",\"y\":[418000.0],\"yaxis\":\"y\",\"type\":\"bar\"},{\"alignmentgroup\":\"True\",\"hovertemplate\":\"subreddit=%{x}\\u003cbr\\u003eUpvotes=%{y}\\u003cextra\\u003e\\u003c\\u002fextra\\u003e\",\"legendgroup\":\"r\\u002ftechnology\",\"marker\":{\"color\":\"#00cc96\",\"pattern\":{\"shape\":\"\"}},\"name\":\"r\\u002ftechnology\",\"offsetgroup\":\"r\\u002ftechnology\",\"orientation\":\"v\",\"showlegend\":true,\"textposition\":\"auto\",\"x\":[\"r\\u002ftechnology\"],\"xaxis\":\"x\",\"y\":[417000.0],\"yaxis\":\"y\",\"type\":\"bar\"},{\"alignmentgroup\":\"True\",\"hovertemplate\":\"subreddit=%{x}\\u003cbr\\u003eUpvotes=%{y}\\u003cextra\\u003e\\u003c\\u002fextra\\u003e\",\"legendgroup\":\"r\\u002finsanepeoplefacebook\",\"marker\":{\"color\":\"#ab63fa\",\"pattern\":{\"shape\":\"\"}},\"name\":\"r\\u002finsanepeoplefacebook\",\"offsetgroup\":\"r\\u002finsanepeoplefacebook\",\"orientation\":\"v\",\"showlegend\":true,\"textposition\":\"auto\",\"x\":[\"r\\u002finsanepeoplefacebook\"],\"xaxis\":\"x\",\"y\":[404000.0],\"yaxis\":\"y\",\"type\":\"bar\"},{\"alignmentgroup\":\"True\",\"hovertemplate\":\"subreddit=%{x}\\u003cbr\\u003eUpvotes=%{y}\\u003cextra\\u003e\\u003c\\u002fextra\\u003e\",\"legendgroup\":\"r\\u002fLeopardsAteMyFace\",\"marker\":{\"color\":\"#FFA15A\",\"pattern\":{\"shape\":\"\"}},\"name\":\"r\\u002fLeopardsAteMyFace\",\"offsetgroup\":\"r\\u002fLeopardsAteMyFace\",\"orientation\":\"v\",\"showlegend\":true,\"textposition\":\"auto\",\"x\":[\"r\\u002fLeopardsAteMyFace\"],\"xaxis\":\"x\",\"y\":[359000.0],\"yaxis\":\"y\",\"type\":\"bar\"},{\"alignmentgroup\":\"True\",\"hovertemplate\":\"subreddit=%{x}\\u003cbr\\u003eUpvotes=%{y}\\u003cextra\\u003e\\u003c\\u002fextra\\u003e\",\"legendgroup\":\"r\\u002fscience\",\"marker\":{\"color\":\"#19d3f3\",\"pattern\":{\"shape\":\"\"}},\"name\":\"r\\u002fscience\",\"offsetgroup\":\"r\\u002fscience\",\"orientation\":\"v\",\"showlegend\":true,\"textposition\":\"auto\",\"x\":[\"r\\u002fscience\"],\"xaxis\":\"x\",\"y\":[354000.0],\"yaxis\":\"y\",\"type\":\"bar\"},{\"alignmentgroup\":\"True\",\"hovertemplate\":\"subreddit=%{x}\\u003cbr\\u003eUpvotes=%{y}\\u003cextra\\u003e\\u003c\\u002fextra\\u003e\",\"legendgroup\":\"r\\u002fiamatotalpieceofshit\",\"marker\":{\"color\":\"#FF6692\",\"pattern\":{\"shape\":\"\"}},\"name\":\"r\\u002fiamatotalpieceofshit\",\"offsetgroup\":\"r\\u002fiamatotalpieceofshit\",\"orientation\":\"v\",\"showlegend\":true,\"textposition\":\"auto\",\"x\":[\"r\\u002fiamatotalpieceofshit\"],\"xaxis\":\"x\",\"y\":[340000.0],\"yaxis\":\"y\",\"type\":\"bar\"},{\"alignmentgroup\":\"True\",\"hovertemplate\":\"subreddit=%{x}\\u003cbr\\u003eUpvotes=%{y}\\u003cextra\\u003e\\u003c\\u002fextra\\u003e\",\"legendgroup\":\"r\\u002fJokes\",\"marker\":{\"color\":\"#B6E880\",\"pattern\":{\"shape\":\"\"}},\"name\":\"r\\u002fJokes\",\"offsetgroup\":\"r\\u002fJokes\",\"orientation\":\"v\",\"showlegend\":true,\"textposition\":\"auto\",\"x\":[\"r\\u002fJokes\"],\"xaxis\":\"x\",\"y\":[304000.0],\"yaxis\":\"y\",\"type\":\"bar\"},{\"alignmentgroup\":\"True\",\"hovertemplate\":\"subreddit=%{x}\\u003cbr\\u003eUpvotes=%{y}\\u003cextra\\u003e\\u003c\\u002fextra\\u003e\",\"legendgroup\":\"r\\u002fFuturology\",\"marker\":{\"color\":\"#FF97FF\",\"pattern\":{\"shape\":\"\"}},\"name\":\"r\\u002fFuturology\",\"offsetgroup\":\"r\\u002fFuturology\",\"orientation\":\"v\",\"showlegend\":true,\"textposition\":\"auto\",\"x\":[\"r\\u002fFuturology\"],\"xaxis\":\"x\",\"y\":[296000.0],\"yaxis\":\"y\",\"type\":\"bar\"},{\"alignmentgroup\":\"True\",\"hovertemplate\":\"subreddit=%{x}\\u003cbr\\u003eUpvotes=%{y}\\u003cextra\\u003e\\u003c\\u002fextra\\u003e\",\"legendgroup\":\"r\\u002frickandmorty\",\"marker\":{\"color\":\"#FECB52\",\"pattern\":{\"shape\":\"\"}},\"name\":\"r\\u002frickandmorty\",\"offsetgroup\":\"r\\u002frickandmorty\",\"orientation\":\"v\",\"showlegend\":true,\"textposition\":\"auto\",\"x\":[\"r\\u002frickandmorty\"],\"xaxis\":\"x\",\"y\":[293000.0],\"yaxis\":\"y\",\"type\":\"bar\"},{\"alignmentgroup\":\"True\",\"hovertemplate\":\"subreddit=%{x}\\u003cbr\\u003eUpvotes=%{y}\\u003cextra\\u003e\\u003c\\u002fextra\\u003e\",\"legendgroup\":\"r\\u002finstant_regret\",\"marker\":{\"color\":\"#636efa\",\"pattern\":{\"shape\":\"\"}},\"name\":\"r\\u002finstant_regret\",\"offsetgroup\":\"r\\u002finstant_regret\",\"orientation\":\"v\",\"showlegend\":true,\"textposition\":\"auto\",\"x\":[\"r\\u002finstant_regret\"],\"xaxis\":\"x\",\"y\":[287000.0],\"yaxis\":\"y\",\"type\":\"bar\"},{\"alignmentgroup\":\"True\",\"hovertemplate\":\"subreddit=%{x}\\u003cbr\\u003eUpvotes=%{y}\\u003cextra\\u003e\\u003c\\u002fextra\\u003e\",\"legendgroup\":\"r\\u002fUpliftingNews\",\"marker\":{\"color\":\"#EF553B\",\"pattern\":{\"shape\":\"\"}},\"name\":\"r\\u002fUpliftingNews\",\"offsetgroup\":\"r\\u002fUpliftingNews\",\"orientation\":\"v\",\"showlegend\":true,\"textposition\":\"auto\",\"x\":[\"r\\u002fUpliftingNews\"],\"xaxis\":\"x\",\"y\":[279000.0],\"yaxis\":\"y\",\"type\":\"bar\"},{\"alignmentgroup\":\"True\",\"hovertemplate\":\"subreddit=%{x}\\u003cbr\\u003eUpvotes=%{y}\\u003cextra\\u003e\\u003c\\u002fextra\\u003e\",\"legendgroup\":\"r\\u002fJusticeServed\",\"marker\":{\"color\":\"#00cc96\",\"pattern\":{\"shape\":\"\"}},\"name\":\"r\\u002fJusticeServed\",\"offsetgroup\":\"r\\u002fJusticeServed\",\"orientation\":\"v\",\"showlegend\":true,\"textposition\":\"auto\",\"x\":[\"r\\u002fJusticeServed\"],\"xaxis\":\"x\",\"y\":[269000.0],\"yaxis\":\"y\",\"type\":\"bar\"},{\"alignmentgroup\":\"True\",\"hovertemplate\":\"subreddit=%{x}\\u003cbr\\u003eUpvotes=%{y}\\u003cextra\\u003e\\u003c\\u002fextra\\u003e\",\"legendgroup\":\"r\\u002fStarWarsBattlefront\",\"marker\":{\"color\":\"#ab63fa\",\"pattern\":{\"shape\":\"\"}},\"name\":\"r\\u002fStarWarsBattlefront\",\"offsetgroup\":\"r\\u002fStarWarsBattlefront\",\"orientation\":\"v\",\"showlegend\":true,\"textposition\":\"auto\",\"x\":[\"r\\u002fStarWarsBattlefront\"],\"xaxis\":\"x\",\"y\":[230000.0],\"yaxis\":\"y\",\"type\":\"bar\"},{\"alignmentgroup\":\"True\",\"hovertemplate\":\"subreddit=%{x}\\u003cbr\\u003eUpvotes=%{y}\\u003cextra\\u003e\\u003c\\u002fextra\\u003e\",\"legendgroup\":\"r\\u002fMemeEconomy\",\"marker\":{\"color\":\"#FFA15A\",\"pattern\":{\"shape\":\"\"}},\"name\":\"r\\u002fMemeEconomy\",\"offsetgroup\":\"r\\u002fMemeEconomy\",\"orientation\":\"v\",\"showlegend\":true,\"textposition\":\"auto\",\"x\":[\"r\\u002fMemeEconomy\"],\"xaxis\":\"x\",\"y\":[204000.0],\"yaxis\":\"y\",\"type\":\"bar\"},{\"alignmentgroup\":\"True\",\"hovertemplate\":\"subreddit=%{x}\\u003cbr\\u003eUpvotes=%{y}\\u003cextra\\u003e\\u003c\\u002fextra\\u003e\",\"legendgroup\":\"r\\u002fnottheonion\",\"marker\":{\"color\":\"#19d3f3\",\"pattern\":{\"shape\":\"\"}},\"name\":\"r\\u002fnottheonion\",\"offsetgroup\":\"r\\u002fnottheonion\",\"orientation\":\"v\",\"showlegend\":true,\"textposition\":\"auto\",\"x\":[\"r\\u002fnottheonion\"],\"xaxis\":\"x\",\"y\":[186000.0],\"yaxis\":\"y\",\"type\":\"bar\"},{\"alignmentgroup\":\"True\",\"hovertemplate\":\"subreddit=%{x}\\u003cbr\\u003eUpvotes=%{y}\\u003cextra\\u003e\\u003c\\u002fextra\\u003e\",\"legendgroup\":\"r\\u002fbooks\",\"marker\":{\"color\":\"#FF6692\",\"pattern\":{\"shape\":\"\"}},\"name\":\"r\\u002fbooks\",\"offsetgroup\":\"r\\u002fbooks\",\"orientation\":\"v\",\"showlegend\":true,\"textposition\":\"auto\",\"x\":[\"r\\u002fbooks\"],\"xaxis\":\"x\",\"y\":[181000.0],\"yaxis\":\"y\",\"type\":\"bar\"},{\"alignmentgroup\":\"True\",\"hovertemplate\":\"subreddit=%{x}\\u003cbr\\u003eUpvotes=%{y}\\u003cextra\\u003e\\u003c\\u002fextra\\u003e\",\"legendgroup\":\"r\\u002fDunderMifflin\",\"marker\":{\"color\":\"#B6E880\",\"pattern\":{\"shape\":\"\"}},\"name\":\"r\\u002fDunderMifflin\",\"offsetgroup\":\"r\\u002fDunderMifflin\",\"orientation\":\"v\",\"showlegend\":true,\"textposition\":\"auto\",\"x\":[\"r\\u002fDunderMifflin\"],\"xaxis\":\"x\",\"y\":[176000.0],\"yaxis\":\"y\",\"type\":\"bar\"},{\"alignmentgroup\":\"True\",\"hovertemplate\":\"subreddit=%{x}\\u003cbr\\u003eUpvotes=%{y}\\u003cextra\\u003e\\u003c\\u002fextra\\u003e\",\"legendgroup\":\"r\\u002fdataisbeautiful\",\"marker\":{\"color\":\"#FF97FF\",\"pattern\":{\"shape\":\"\"}},\"name\":\"r\\u002fdataisbeautiful\",\"offsetgroup\":\"r\\u002fdataisbeautiful\",\"orientation\":\"v\",\"showlegend\":true,\"textposition\":\"auto\",\"x\":[\"r\\u002fdataisbeautiful\"],\"xaxis\":\"x\",\"y\":[163000.0],\"yaxis\":\"y\",\"type\":\"bar\"},{\"alignmentgroup\":\"True\",\"hovertemplate\":\"subreddit=%{x}\\u003cbr\\u003eUpvotes=%{y}\\u003cextra\\u003e\\u003c\\u002fextra\\u003e\",\"legendgroup\":\"r\\u002fassholedesign\",\"marker\":{\"color\":\"#FECB52\",\"pattern\":{\"shape\":\"\"}},\"name\":\"r\\u002fassholedesign\",\"offsetgroup\":\"r\\u002fassholedesign\",\"orientation\":\"v\",\"showlegend\":true,\"textposition\":\"auto\",\"x\":[\"r\\u002fassholedesign\"],\"xaxis\":\"x\",\"y\":[162000.0],\"yaxis\":\"y\",\"type\":\"bar\"},{\"alignmentgroup\":\"True\",\"hovertemplate\":\"subreddit=%{x}\\u003cbr\\u003eUpvotes=%{y}\\u003cextra\\u003e\\u003c\\u002fextra\\u003e\",\"legendgroup\":\"r\\u002fcomics\",\"marker\":{\"color\":\"#636efa\",\"pattern\":{\"shape\":\"\"}},\"name\":\"r\\u002fcomics\",\"offsetgroup\":\"r\\u002fcomics\",\"orientation\":\"v\",\"showlegend\":true,\"textposition\":\"auto\",\"x\":[\"r\\u002fcomics\"],\"xaxis\":\"x\",\"y\":[161000.0],\"yaxis\":\"y\",\"type\":\"bar\"},{\"alignmentgroup\":\"True\",\"hovertemplate\":\"subreddit=%{x}\\u003cbr\\u003eUpvotes=%{y}\\u003cextra\\u003e\\u003c\\u002fextra\\u003e\",\"legendgroup\":\"r\\u002fWhatcouldgowrong\",\"marker\":{\"color\":\"#EF553B\",\"pattern\":{\"shape\":\"\"}},\"name\":\"r\\u002fWhatcouldgowrong\",\"offsetgroup\":\"r\\u002fWhatcouldgowrong\",\"orientation\":\"v\",\"showlegend\":true,\"textposition\":\"auto\",\"x\":[\"r\\u002fWhatcouldgowrong\"],\"xaxis\":\"x\",\"y\":[159000.0],\"yaxis\":\"y\",\"type\":\"bar\"},{\"alignmentgroup\":\"True\",\"hovertemplate\":\"subreddit=%{x}\\u003cbr\\u003eUpvotes=%{y}\\u003cextra\\u003e\\u003c\\u002fextra\\u003e\",\"legendgroup\":\"r\\u002fHolUp\",\"marker\":{\"color\":\"#00cc96\",\"pattern\":{\"shape\":\"\"}},\"name\":\"r\\u002fHolUp\",\"offsetgroup\":\"r\\u002fHolUp\",\"orientation\":\"v\",\"showlegend\":true,\"textposition\":\"auto\",\"x\":[\"r\\u002fHolUp\"],\"xaxis\":\"x\",\"y\":[159000.0],\"yaxis\":\"y\",\"type\":\"bar\"},{\"alignmentgroup\":\"True\",\"hovertemplate\":\"subreddit=%{x}\\u003cbr\\u003eUpvotes=%{y}\\u003cextra\\u003e\\u003c\\u002fextra\\u003e\",\"legendgroup\":\"r\\u002fInstagramreality\",\"marker\":{\"color\":\"#ab63fa\",\"pattern\":{\"shape\":\"\"}},\"name\":\"r\\u002fInstagramreality\",\"offsetgroup\":\"r\\u002fInstagramreality\",\"orientation\":\"v\",\"showlegend\":true,\"textposition\":\"auto\",\"x\":[\"r\\u002fInstagramreality\"],\"xaxis\":\"x\",\"y\":[159000.0],\"yaxis\":\"y\",\"type\":\"bar\"},{\"alignmentgroup\":\"True\",\"hovertemplate\":\"subreddit=%{x}\\u003cbr\\u003eUpvotes=%{y}\\u003cextra\\u003e\\u003c\\u002fextra\\u003e\",\"legendgroup\":\"r\\u002ffreefolk\",\"marker\":{\"color\":\"#FFA15A\",\"pattern\":{\"shape\":\"\"}},\"name\":\"r\\u002ffreefolk\",\"offsetgroup\":\"r\\u002ffreefolk\",\"orientation\":\"v\",\"showlegend\":true,\"textposition\":\"auto\",\"x\":[\"r\\u002ffreefolk\"],\"xaxis\":\"x\",\"y\":[157000.0],\"yaxis\":\"y\",\"type\":\"bar\"},{\"alignmentgroup\":\"True\",\"hovertemplate\":\"subreddit=%{x}\\u003cbr\\u003eUpvotes=%{y}\\u003cextra\\u003e\\u003c\\u002fextra\\u003e\",\"legendgroup\":\"r\\u002fMusic\",\"marker\":{\"color\":\"#19d3f3\",\"pattern\":{\"shape\":\"\"}},\"name\":\"r\\u002fMusic\",\"offsetgroup\":\"r\\u002fMusic\",\"orientation\":\"v\",\"showlegend\":true,\"textposition\":\"auto\",\"x\":[\"r\\u002fMusic\"],\"xaxis\":\"x\",\"y\":[148000.0],\"yaxis\":\"y\",\"type\":\"bar\"},{\"alignmentgroup\":\"True\",\"hovertemplate\":\"subreddit=%{x}\\u003cbr\\u003eUpvotes=%{y}\\u003cextra\\u003e\\u003c\\u002fextra\\u003e\",\"legendgroup\":\"r\\u002fpokemon\",\"marker\":{\"color\":\"#FF6692\",\"pattern\":{\"shape\":\"\"}},\"name\":\"r\\u002fpokemon\",\"offsetgroup\":\"r\\u002fpokemon\",\"orientation\":\"v\",\"showlegend\":true,\"textposition\":\"auto\",\"x\":[\"r\\u002fpokemon\"],\"xaxis\":\"x\",\"y\":[148000.0],\"yaxis\":\"y\",\"type\":\"bar\"},{\"alignmentgroup\":\"True\",\"hovertemplate\":\"subreddit=%{x}\\u003cbr\\u003eUpvotes=%{y}\\u003cextra\\u003e\\u003c\\u002fextra\\u003e\",\"legendgroup\":\"r\\u002fGetMotivated\",\"marker\":{\"color\":\"#B6E880\",\"pattern\":{\"shape\":\"\"}},\"name\":\"r\\u002fGetMotivated\",\"offsetgroup\":\"r\\u002fGetMotivated\",\"orientation\":\"v\",\"showlegend\":true,\"textposition\":\"auto\",\"x\":[\"r\\u002fGetMotivated\"],\"xaxis\":\"x\",\"y\":[147000.0],\"yaxis\":\"y\",\"type\":\"bar\"},{\"alignmentgroup\":\"True\",\"hovertemplate\":\"subreddit=%{x}\\u003cbr\\u003eUpvotes=%{y}\\u003cextra\\u003e\\u003c\\u002fextra\\u003e\",\"legendgroup\":\"r\\u002fDamnthatsinteresting\",\"marker\":{\"color\":\"#FF97FF\",\"pattern\":{\"shape\":\"\"}},\"name\":\"r\\u002fDamnthatsinteresting\",\"offsetgroup\":\"r\\u002fDamnthatsinteresting\",\"orientation\":\"v\",\"showlegend\":true,\"textposition\":\"auto\",\"x\":[\"r\\u002fDamnthatsinteresting\"],\"xaxis\":\"x\",\"y\":[145000.0],\"yaxis\":\"y\",\"type\":\"bar\"},{\"alignmentgroup\":\"True\",\"hovertemplate\":\"subreddit=%{x}\\u003cbr\\u003eUpvotes=%{y}\\u003cextra\\u003e\\u003c\\u002fextra\\u003e\",\"legendgroup\":\"r\\u002fsports\",\"marker\":{\"color\":\"#FECB52\",\"pattern\":{\"shape\":\"\"}},\"name\":\"r\\u002fsports\",\"offsetgroup\":\"r\\u002fsports\",\"orientation\":\"v\",\"showlegend\":true,\"textposition\":\"auto\",\"x\":[\"r\\u002fsports\"],\"xaxis\":\"x\",\"y\":[143000.0],\"yaxis\":\"y\",\"type\":\"bar\"},{\"alignmentgroup\":\"True\",\"hovertemplate\":\"subreddit=%{x}\\u003cbr\\u003eUpvotes=%{y}\\u003cextra\\u003e\\u003c\\u002fextra\\u003e\",\"legendgroup\":\"r\\u002fOldSchoolCool\",\"marker\":{\"color\":\"#636efa\",\"pattern\":{\"shape\":\"\"}},\"name\":\"r\\u002fOldSchoolCool\",\"offsetgroup\":\"r\\u002fOldSchoolCool\",\"orientation\":\"v\",\"showlegend\":true,\"textposition\":\"auto\",\"x\":[\"r\\u002fOldSchoolCool\"],\"xaxis\":\"x\",\"y\":[143000.0],\"yaxis\":\"y\",\"type\":\"bar\"},{\"alignmentgroup\":\"True\",\"hovertemplate\":\"subreddit=%{x}\\u003cbr\\u003eUpvotes=%{y}\\u003cextra\\u003e\\u003c\\u002fextra\\u003e\",\"legendgroup\":\"r\\u002fChoosingBeggars\",\"marker\":{\"color\":\"#EF553B\",\"pattern\":{\"shape\":\"\"}},\"name\":\"r\\u002fChoosingBeggars\",\"offsetgroup\":\"r\\u002fChoosingBeggars\",\"orientation\":\"v\",\"showlegend\":true,\"textposition\":\"auto\",\"x\":[\"r\\u002fChoosingBeggars\"],\"xaxis\":\"x\",\"y\":[143000.0],\"yaxis\":\"y\",\"type\":\"bar\"},{\"alignmentgroup\":\"True\",\"hovertemplate\":\"subreddit=%{x}\\u003cbr\\u003eUpvotes=%{y}\\u003cextra\\u003e\\u003c\\u002fextra\\u003e\",\"legendgroup\":\"r\\u002fThe_Mueller\",\"marker\":{\"color\":\"#00cc96\",\"pattern\":{\"shape\":\"\"}},\"name\":\"r\\u002fThe_Mueller\",\"offsetgroup\":\"r\\u002fThe_Mueller\",\"orientation\":\"v\",\"showlegend\":true,\"textposition\":\"auto\",\"x\":[\"r\\u002fThe_Mueller\"],\"xaxis\":\"x\",\"y\":[141000.0],\"yaxis\":\"y\",\"type\":\"bar\"},{\"alignmentgroup\":\"True\",\"hovertemplate\":\"subreddit=%{x}\\u003cbr\\u003eUpvotes=%{y}\\u003cextra\\u003e\\u003c\\u002fextra\\u003e\",\"legendgroup\":\"r\\u002fpcmasterrace\",\"marker\":{\"color\":\"#ab63fa\",\"pattern\":{\"shape\":\"\"}},\"name\":\"r\\u002fpcmasterrace\",\"offsetgroup\":\"r\\u002fpcmasterrace\",\"orientation\":\"v\",\"showlegend\":true,\"textposition\":\"auto\",\"x\":[\"r\\u002fpcmasterrace\"],\"xaxis\":\"x\",\"y\":[140000.0],\"yaxis\":\"y\",\"type\":\"bar\"},{\"alignmentgroup\":\"True\",\"hovertemplate\":\"subreddit=%{x}\\u003cbr\\u003eUpvotes=%{y}\\u003cextra\\u003e\\u003c\\u002fextra\\u003e\",\"legendgroup\":\"r\\u002flistentothis\",\"marker\":{\"color\":\"#FFA15A\",\"pattern\":{\"shape\":\"\"}},\"name\":\"r\\u002flistentothis\",\"offsetgroup\":\"r\\u002flistentothis\",\"orientation\":\"v\",\"showlegend\":true,\"textposition\":\"auto\",\"x\":[\"r\\u002flistentothis\"],\"xaxis\":\"x\",\"y\":[139000.0],\"yaxis\":\"y\",\"type\":\"bar\"},{\"alignmentgroup\":\"True\",\"hovertemplate\":\"subreddit=%{x}\\u003cbr\\u003eUpvotes=%{y}\\u003cextra\\u003e\\u003c\\u002fextra\\u003e\",\"legendgroup\":\"r\\u002fTwoXChromosomes\",\"marker\":{\"color\":\"#19d3f3\",\"pattern\":{\"shape\":\"\"}},\"name\":\"r\\u002fTwoXChromosomes\",\"offsetgroup\":\"r\\u002fTwoXChromosomes\",\"orientation\":\"v\",\"showlegend\":true,\"textposition\":\"auto\",\"x\":[\"r\\u002fTwoXChromosomes\"],\"xaxis\":\"x\",\"y\":[138000.0],\"yaxis\":\"y\",\"type\":\"bar\"},{\"alignmentgroup\":\"True\",\"hovertemplate\":\"subreddit=%{x}\\u003cbr\\u003eUpvotes=%{y}\\u003cextra\\u003e\\u003c\\u002fextra\\u003e\",\"legendgroup\":\"r\\u002fHongKong\",\"marker\":{\"color\":\"#FF6692\",\"pattern\":{\"shape\":\"\"}},\"name\":\"r\\u002fHongKong\",\"offsetgroup\":\"r\\u002fHongKong\",\"orientation\":\"v\",\"showlegend\":true,\"textposition\":\"auto\",\"x\":[\"r\\u002fHongKong\"],\"xaxis\":\"x\",\"y\":[138000.0],\"yaxis\":\"y\",\"type\":\"bar\"},{\"alignmentgroup\":\"True\",\"hovertemplate\":\"subreddit=%{x}\\u003cbr\\u003eUpvotes=%{y}\\u003cextra\\u003e\\u003c\\u002fextra\\u003e\",\"legendgroup\":\"r\\u002fquityourbullshit\",\"marker\":{\"color\":\"#B6E880\",\"pattern\":{\"shape\":\"\"}},\"name\":\"r\\u002fquityourbullshit\",\"offsetgroup\":\"r\\u002fquityourbullshit\",\"orientation\":\"v\",\"showlegend\":true,\"textposition\":\"auto\",\"x\":[\"r\\u002fquityourbullshit\"],\"xaxis\":\"x\",\"y\":[137000.0],\"yaxis\":\"y\",\"type\":\"bar\"},{\"alignmentgroup\":\"True\",\"hovertemplate\":\"subreddit=%{x}\\u003cbr\\u003eUpvotes=%{y}\\u003cextra\\u003e\\u003c\\u002fextra\\u003e\",\"legendgroup\":\"r\\u002fcoolguides\",\"marker\":{\"color\":\"#FF97FF\",\"pattern\":{\"shape\":\"\"}},\"name\":\"r\\u002fcoolguides\",\"offsetgroup\":\"r\\u002fcoolguides\",\"orientation\":\"v\",\"showlegend\":true,\"textposition\":\"auto\",\"x\":[\"r\\u002fcoolguides\"],\"xaxis\":\"x\",\"y\":[136000.0],\"yaxis\":\"y\",\"type\":\"bar\"},{\"alignmentgroup\":\"True\",\"hovertemplate\":\"subreddit=%{x}\\u003cbr\\u003eUpvotes=%{y}\\u003cextra\\u003e\\u003c\\u002fextra\\u003e\",\"legendgroup\":\"r\\u002fgifsthatkeepongiving\",\"marker\":{\"color\":\"#FECB52\",\"pattern\":{\"shape\":\"\"}},\"name\":\"r\\u002fgifsthatkeepongiving\",\"offsetgroup\":\"r\\u002fgifsthatkeepongiving\",\"orientation\":\"v\",\"showlegend\":true,\"textposition\":\"auto\",\"x\":[\"r\\u002fgifsthatkeepongiving\"],\"xaxis\":\"x\",\"y\":[136000.0],\"yaxis\":\"y\",\"type\":\"bar\"},{\"alignmentgroup\":\"True\",\"hovertemplate\":\"subreddit=%{x}\\u003cbr\\u003eUpvotes=%{y}\\u003cextra\\u003e\\u003c\\u002fextra\\u003e\",\"legendgroup\":\"r\\u002fAyyMD\",\"marker\":{\"color\":\"#636efa\",\"pattern\":{\"shape\":\"\"}},\"name\":\"r\\u002fAyyMD\",\"offsetgroup\":\"r\\u002fAyyMD\",\"orientation\":\"v\",\"showlegend\":true,\"textposition\":\"auto\",\"x\":[\"r\\u002fAyyMD\"],\"xaxis\":\"x\",\"y\":[134000.0],\"yaxis\":\"y\",\"type\":\"bar\"},{\"alignmentgroup\":\"True\",\"hovertemplate\":\"subreddit=%{x}\\u003cbr\\u003eUpvotes=%{y}\\u003cextra\\u003e\\u003c\\u002fextra\\u003e\",\"legendgroup\":\"r\\u002fCoronavirus\",\"marker\":{\"color\":\"#EF553B\",\"pattern\":{\"shape\":\"\"}},\"name\":\"r\\u002fCoronavirus\",\"offsetgroup\":\"r\\u002fCoronavirus\",\"orientation\":\"v\",\"showlegend\":true,\"textposition\":\"auto\",\"x\":[\"r\\u002fCoronavirus\"],\"xaxis\":\"x\",\"y\":[134000.0],\"yaxis\":\"y\",\"type\":\"bar\"},{\"alignmentgroup\":\"True\",\"hovertemplate\":\"subreddit=%{x}\\u003cbr\\u003eUpvotes=%{y}\\u003cextra\\u003e\\u003c\\u002fextra\\u003e\",\"legendgroup\":\"r\\u002fBeAmazed\",\"marker\":{\"color\":\"#00cc96\",\"pattern\":{\"shape\":\"\"}},\"name\":\"r\\u002fBeAmazed\",\"offsetgroup\":\"r\\u002fBeAmazed\",\"orientation\":\"v\",\"showlegend\":true,\"textposition\":\"auto\",\"x\":[\"r\\u002fBeAmazed\"],\"xaxis\":\"x\",\"y\":[134000.0],\"yaxis\":\"y\",\"type\":\"bar\"},{\"alignmentgroup\":\"True\",\"hovertemplate\":\"subreddit=%{x}\\u003cbr\\u003eUpvotes=%{y}\\u003cextra\\u003e\\u003c\\u002fextra\\u003e\",\"legendgroup\":\"r\\u002flotrmemes\",\"marker\":{\"color\":\"#ab63fa\",\"pattern\":{\"shape\":\"\"}},\"name\":\"r\\u002flotrmemes\",\"offsetgroup\":\"r\\u002flotrmemes\",\"orientation\":\"v\",\"showlegend\":true,\"textposition\":\"auto\",\"x\":[\"r\\u002flotrmemes\"],\"xaxis\":\"x\",\"y\":[133000.0],\"yaxis\":\"y\",\"type\":\"bar\"},{\"alignmentgroup\":\"True\",\"hovertemplate\":\"subreddit=%{x}\\u003cbr\\u003eUpvotes=%{y}\\u003cextra\\u003e\\u003c\\u002fextra\\u003e\",\"legendgroup\":\"r\\u002fPoliticalHumor\",\"marker\":{\"color\":\"#FFA15A\",\"pattern\":{\"shape\":\"\"}},\"name\":\"r\\u002fPoliticalHumor\",\"offsetgroup\":\"r\\u002fPoliticalHumor\",\"orientation\":\"v\",\"showlegend\":true,\"textposition\":\"auto\",\"x\":[\"r\\u002fPoliticalHumor\"],\"xaxis\":\"x\",\"y\":[132000.0],\"yaxis\":\"y\",\"type\":\"bar\"}],                        {\"template\":{\"data\":{\"histogram2dcontour\":[{\"type\":\"histogram2dcontour\",\"colorbar\":{\"outlinewidth\":0,\"ticks\":\"\"},\"colorscale\":[[0.0,\"#0d0887\"],[0.1111111111111111,\"#46039f\"],[0.2222222222222222,\"#7201a8\"],[0.3333333333333333,\"#9c179e\"],[0.4444444444444444,\"#bd3786\"],[0.5555555555555556,\"#d8576b\"],[0.6666666666666666,\"#ed7953\"],[0.7777777777777778,\"#fb9f3a\"],[0.8888888888888888,\"#fdca26\"],[1.0,\"#f0f921\"]]}],\"choropleth\":[{\"type\":\"choropleth\",\"colorbar\":{\"outlinewidth\":0,\"ticks\":\"\"}}],\"histogram2d\":[{\"type\":\"histogram2d\",\"colorbar\":{\"outlinewidth\":0,\"ticks\":\"\"},\"colorscale\":[[0.0,\"#0d0887\"],[0.1111111111111111,\"#46039f\"],[0.2222222222222222,\"#7201a8\"],[0.3333333333333333,\"#9c179e\"],[0.4444444444444444,\"#bd3786\"],[0.5555555555555556,\"#d8576b\"],[0.6666666666666666,\"#ed7953\"],[0.7777777777777778,\"#fb9f3a\"],[0.8888888888888888,\"#fdca26\"],[1.0,\"#f0f921\"]]}],\"heatmap\":[{\"type\":\"heatmap\",\"colorbar\":{\"outlinewidth\":0,\"ticks\":\"\"},\"colorscale\":[[0.0,\"#0d0887\"],[0.1111111111111111,\"#46039f\"],[0.2222222222222222,\"#7201a8\"],[0.3333333333333333,\"#9c179e\"],[0.4444444444444444,\"#bd3786\"],[0.5555555555555556,\"#d8576b\"],[0.6666666666666666,\"#ed7953\"],[0.7777777777777778,\"#fb9f3a\"],[0.8888888888888888,\"#fdca26\"],[1.0,\"#f0f921\"]]}],\"heatmapgl\":[{\"type\":\"heatmapgl\",\"colorbar\":{\"outlinewidth\":0,\"ticks\":\"\"},\"colorscale\":[[0.0,\"#0d0887\"],[0.1111111111111111,\"#46039f\"],[0.2222222222222222,\"#7201a8\"],[0.3333333333333333,\"#9c179e\"],[0.4444444444444444,\"#bd3786\"],[0.5555555555555556,\"#d8576b\"],[0.6666666666666666,\"#ed7953\"],[0.7777777777777778,\"#fb9f3a\"],[0.8888888888888888,\"#fdca26\"],[1.0,\"#f0f921\"]]}],\"contourcarpet\":[{\"type\":\"contourcarpet\",\"colorbar\":{\"outlinewidth\":0,\"ticks\":\"\"}}],\"contour\":[{\"type\":\"contour\",\"colorbar\":{\"outlinewidth\":0,\"ticks\":\"\"},\"colorscale\":[[0.0,\"#0d0887\"],[0.1111111111111111,\"#46039f\"],[0.2222222222222222,\"#7201a8\"],[0.3333333333333333,\"#9c179e\"],[0.4444444444444444,\"#bd3786\"],[0.5555555555555556,\"#d8576b\"],[0.6666666666666666,\"#ed7953\"],[0.7777777777777778,\"#fb9f3a\"],[0.8888888888888888,\"#fdca26\"],[1.0,\"#f0f921\"]]}],\"surface\":[{\"type\":\"surface\",\"colorbar\":{\"outlinewidth\":0,\"ticks\":\"\"},\"colorscale\":[[0.0,\"#0d0887\"],[0.1111111111111111,\"#46039f\"],[0.2222222222222222,\"#7201a8\"],[0.3333333333333333,\"#9c179e\"],[0.4444444444444444,\"#bd3786\"],[0.5555555555555556,\"#d8576b\"],[0.6666666666666666,\"#ed7953\"],[0.7777777777777778,\"#fb9f3a\"],[0.8888888888888888,\"#fdca26\"],[1.0,\"#f0f921\"]]}],\"mesh3d\":[{\"type\":\"mesh3d\",\"colorbar\":{\"outlinewidth\":0,\"ticks\":\"\"}}],\"scatter\":[{\"fillpattern\":{\"fillmode\":\"overlay\",\"size\":10,\"solidity\":0.2},\"type\":\"scatter\"}],\"parcoords\":[{\"type\":\"parcoords\",\"line\":{\"colorbar\":{\"outlinewidth\":0,\"ticks\":\"\"}}}],\"scatterpolargl\":[{\"type\":\"scatterpolargl\",\"marker\":{\"colorbar\":{\"outlinewidth\":0,\"ticks\":\"\"}}}],\"bar\":[{\"error_x\":{\"color\":\"#2a3f5f\"},\"error_y\":{\"color\":\"#2a3f5f\"},\"marker\":{\"line\":{\"color\":\"#E5ECF6\",\"width\":0.5},\"pattern\":{\"fillmode\":\"overlay\",\"size\":10,\"solidity\":0.2}},\"type\":\"bar\"}],\"scattergeo\":[{\"type\":\"scattergeo\",\"marker\":{\"colorbar\":{\"outlinewidth\":0,\"ticks\":\"\"}}}],\"scatterpolar\":[{\"type\":\"scatterpolar\",\"marker\":{\"colorbar\":{\"outlinewidth\":0,\"ticks\":\"\"}}}],\"histogram\":[{\"marker\":{\"pattern\":{\"fillmode\":\"overlay\",\"size\":10,\"solidity\":0.2}},\"type\":\"histogram\"}],\"scattergl\":[{\"type\":\"scattergl\",\"marker\":{\"colorbar\":{\"outlinewidth\":0,\"ticks\":\"\"}}}],\"scatter3d\":[{\"type\":\"scatter3d\",\"line\":{\"colorbar\":{\"outlinewidth\":0,\"ticks\":\"\"}},\"marker\":{\"colorbar\":{\"outlinewidth\":0,\"ticks\":\"\"}}}],\"scattermapbox\":[{\"type\":\"scattermapbox\",\"marker\":{\"colorbar\":{\"outlinewidth\":0,\"ticks\":\"\"}}}],\"scatterternary\":[{\"type\":\"scatterternary\",\"marker\":{\"colorbar\":{\"outlinewidth\":0,\"ticks\":\"\"}}}],\"scattercarpet\":[{\"type\":\"scattercarpet\",\"marker\":{\"colorbar\":{\"outlinewidth\":0,\"ticks\":\"\"}}}],\"carpet\":[{\"aaxis\":{\"endlinecolor\":\"#2a3f5f\",\"gridcolor\":\"white\",\"linecolor\":\"white\",\"minorgridcolor\":\"white\",\"startlinecolor\":\"#2a3f5f\"},\"baxis\":{\"endlinecolor\":\"#2a3f5f\",\"gridcolor\":\"white\",\"linecolor\":\"white\",\"minorgridcolor\":\"white\",\"startlinecolor\":\"#2a3f5f\"},\"type\":\"carpet\"}],\"table\":[{\"cells\":{\"fill\":{\"color\":\"#EBF0F8\"},\"line\":{\"color\":\"white\"}},\"header\":{\"fill\":{\"color\":\"#C8D4E3\"},\"line\":{\"color\":\"white\"}},\"type\":\"table\"}],\"barpolar\":[{\"marker\":{\"line\":{\"color\":\"#E5ECF6\",\"width\":0.5},\"pattern\":{\"fillmode\":\"overlay\",\"size\":10,\"solidity\":0.2}},\"type\":\"barpolar\"}],\"pie\":[{\"automargin\":true,\"type\":\"pie\"}]},\"layout\":{\"autotypenumbers\":\"strict\",\"colorway\":[\"#636efa\",\"#EF553B\",\"#00cc96\",\"#ab63fa\",\"#FFA15A\",\"#19d3f3\",\"#FF6692\",\"#B6E880\",\"#FF97FF\",\"#FECB52\"],\"font\":{\"color\":\"#2a3f5f\"},\"hovermode\":\"closest\",\"hoverlabel\":{\"align\":\"left\"},\"paper_bgcolor\":\"white\",\"plot_bgcolor\":\"#E5ECF6\",\"polar\":{\"bgcolor\":\"#E5ECF6\",\"angularaxis\":{\"gridcolor\":\"white\",\"linecolor\":\"white\",\"ticks\":\"\"},\"radialaxis\":{\"gridcolor\":\"white\",\"linecolor\":\"white\",\"ticks\":\"\"}},\"ternary\":{\"bgcolor\":\"#E5ECF6\",\"aaxis\":{\"gridcolor\":\"white\",\"linecolor\":\"white\",\"ticks\":\"\"},\"baxis\":{\"gridcolor\":\"white\",\"linecolor\":\"white\",\"ticks\":\"\"},\"caxis\":{\"gridcolor\":\"white\",\"linecolor\":\"white\",\"ticks\":\"\"}},\"coloraxis\":{\"colorbar\":{\"outlinewidth\":0,\"ticks\":\"\"}},\"colorscale\":{\"sequential\":[[0.0,\"#0d0887\"],[0.1111111111111111,\"#46039f\"],[0.2222222222222222,\"#7201a8\"],[0.3333333333333333,\"#9c179e\"],[0.4444444444444444,\"#bd3786\"],[0.5555555555555556,\"#d8576b\"],[0.6666666666666666,\"#ed7953\"],[0.7777777777777778,\"#fb9f3a\"],[0.8888888888888888,\"#fdca26\"],[1.0,\"#f0f921\"]],\"sequentialminus\":[[0.0,\"#0d0887\"],[0.1111111111111111,\"#46039f\"],[0.2222222222222222,\"#7201a8\"],[0.3333333333333333,\"#9c179e\"],[0.4444444444444444,\"#bd3786\"],[0.5555555555555556,\"#d8576b\"],[0.6666666666666666,\"#ed7953\"],[0.7777777777777778,\"#fb9f3a\"],[0.8888888888888888,\"#fdca26\"],[1.0,\"#f0f921\"]],\"diverging\":[[0,\"#8e0152\"],[0.1,\"#c51b7d\"],[0.2,\"#de77ae\"],[0.3,\"#f1b6da\"],[0.4,\"#fde0ef\"],[0.5,\"#f7f7f7\"],[0.6,\"#e6f5d0\"],[0.7,\"#b8e186\"],[0.8,\"#7fbc41\"],[0.9,\"#4d9221\"],[1,\"#276419\"]]},\"xaxis\":{\"gridcolor\":\"white\",\"linecolor\":\"white\",\"ticks\":\"\",\"title\":{\"standoff\":15},\"zerolinecolor\":\"white\",\"automargin\":true,\"zerolinewidth\":2},\"yaxis\":{\"gridcolor\":\"white\",\"linecolor\":\"white\",\"ticks\":\"\",\"title\":{\"standoff\":15},\"zerolinecolor\":\"white\",\"automargin\":true,\"zerolinewidth\":2},\"scene\":{\"xaxis\":{\"backgroundcolor\":\"#E5ECF6\",\"gridcolor\":\"white\",\"linecolor\":\"white\",\"showbackground\":true,\"ticks\":\"\",\"zerolinecolor\":\"white\",\"gridwidth\":2},\"yaxis\":{\"backgroundcolor\":\"#E5ECF6\",\"gridcolor\":\"white\",\"linecolor\":\"white\",\"showbackground\":true,\"ticks\":\"\",\"zerolinecolor\":\"white\",\"gridwidth\":2},\"zaxis\":{\"backgroundcolor\":\"#E5ECF6\",\"gridcolor\":\"white\",\"linecolor\":\"white\",\"showbackground\":true,\"ticks\":\"\",\"zerolinecolor\":\"white\",\"gridwidth\":2}},\"shapedefaults\":{\"line\":{\"color\":\"#2a3f5f\"}},\"annotationdefaults\":{\"arrowcolor\":\"#2a3f5f\",\"arrowhead\":0,\"arrowwidth\":1},\"geo\":{\"bgcolor\":\"white\",\"landcolor\":\"#E5ECF6\",\"subunitcolor\":\"white\",\"showland\":true,\"showlakes\":true,\"lakecolor\":\"white\"},\"title\":{\"x\":0.05},\"mapbox\":{\"style\":\"light\"}}},\"xaxis\":{\"anchor\":\"y\",\"domain\":[0.0,1.0],\"title\":{\"text\":\"subreddit\"},\"categoryorder\":\"array\",\"categoryarray\":[\"r\\u002fmemes\",\"r\\u002fpics\",\"r\\u002ffunny\",\"r\\u002faww\",\"r\\u002fnextfuckinglevel\",\"r\\u002fgaming\",\"r\\u002fgifs\",\"r\\u002finterestingasfuck\",\"r\\u002fwallstreetbets\",\"r\\u002fnews\",\"r\\u002fPublicFreakout\",\"r\\u002fMurderedByWords\",\"r\\u002fworldnews\",\"r\\u002fMadeMeSmile\",\"r\\u002fwholesomememes\",\"r\\u002fAskReddit\",\"r\\u002ftodayilearned\",\"r\\u002fWatchPeopleDieInside\",\"r\\u002fmildlyinteresting\",\"r\\u002fWhitePeopleTwitter\",\"r\\u002fShowerthoughts\",\"r\\u002fvideos\",\"r\\u002ffacepalm\",\"r\\u002fPrequelMemes\",\"r\\u002fteenagers\",\"r\\u002fmovies\",\"r\\u002fspace\",\"r\\u002fWellthatsucks\",\"r\\u002fpolitics\",\"r\\u002fawfuleverything\",\"r\\u002fme_irl\",\"r\\u002fIdiotsInCars\",\"r\\u002fannouncements\",\"r\\u002fPewdiepieSubmissions\",\"r\\u002fthanosdidnothingwrong\",\"r\\u002fLifeProTips\",\"r\\u002ftifu\",\"r\\u002fBlackPeopleTwitter\",\"r\\u002ftrashy\",\"r\\u002foddlysatisfying\",\"r\\u002fBikiniBottomTwitter\",\"r\\u002fIAmA\",\"r\\u002ftechnology\",\"r\\u002finsanepeoplefacebook\",\"r\\u002fLeopardsAteMyFace\",\"r\\u002fscience\",\"r\\u002fiamatotalpieceofshit\",\"r\\u002fJokes\",\"r\\u002fFuturology\",\"r\\u002frickandmorty\",\"r\\u002finstant_regret\",\"r\\u002fUpliftingNews\",\"r\\u002fJusticeServed\",\"r\\u002fStarWarsBattlefront\",\"r\\u002fMemeEconomy\",\"r\\u002fnottheonion\",\"r\\u002fbooks\",\"r\\u002fDunderMifflin\",\"r\\u002fdataisbeautiful\",\"r\\u002fassholedesign\",\"r\\u002fcomics\",\"r\\u002fWhatcouldgowrong\",\"r\\u002fHolUp\",\"r\\u002fInstagramreality\",\"r\\u002ffreefolk\",\"r\\u002fMusic\",\"r\\u002fpokemon\",\"r\\u002fGetMotivated\",\"r\\u002fDamnthatsinteresting\",\"r\\u002fsports\",\"r\\u002fOldSchoolCool\",\"r\\u002fChoosingBeggars\",\"r\\u002fThe_Mueller\",\"r\\u002fpcmasterrace\",\"r\\u002flistentothis\",\"r\\u002fTwoXChromosomes\",\"r\\u002fHongKong\",\"r\\u002fquityourbullshit\",\"r\\u002fcoolguides\",\"r\\u002fgifsthatkeepongiving\",\"r\\u002fAyyMD\",\"r\\u002fCoronavirus\",\"r\\u002fBeAmazed\",\"r\\u002flotrmemes\",\"r\\u002fPoliticalHumor\"]},\"yaxis\":{\"anchor\":\"x\",\"domain\":[0.0,1.0],\"title\":{\"text\":\"Upvotes\"}},\"legend\":{\"title\":{\"text\":\"subreddit\"},\"tracegroupgap\":0},\"title\":{\"text\":\"Total Upvotes by Subreddit\"},\"barmode\":\"relative\",\"height\":400},                        {\"responsive\": true}                    ).then(function(){\n                            \nvar gd = document.getElementById('af89586b-3eb6-40ba-b1db-1be7951fe651');\nvar x = new MutationObserver(function (mutations, observer) {{\n        var display = window.getComputedStyle(gd).display;\n        if (!display || display === 'none') {{\n            console.log([gd, 'removed!']);\n            Plotly.purge(gd);\n            observer.disconnect();\n        }}\n}});\n\n// Listen for the removal of the full notebook cells\nvar notebookContainer = gd.closest('#notebook-container');\nif (notebookContainer) {{\n    x.observe(notebookContainer, {childList: true});\n}}\n\n// Listen for the clearing of the current output cell\nvar outputEl = gd.closest('.output');\nif (outputEl) {{\n    x.observe(outputEl, {childList: true});\n}}\n\n                        })                };                });            </script>        </div>"
     },
     "metadata": {},
     "output_type": "display_data"
    },
    {
     "data": {
      "application/vnd.plotly.v1+json": {
       "data": [
        {
         "alignmentgroup": "True",
         "hovertemplate": "subreddit=%{x}<br>Comments=%{y}<extra></extra>",
         "legendgroup": "r/pics",
         "marker": {
          "color": "#636efa",
          "pattern": {
           "shape": ""
          }
         },
         "name": "r/pics",
         "offsetgroup": "r/pics",
         "orientation": "v",
         "showlegend": true,
         "textposition": "auto",
         "x": [
          "r/pics"
         ],
         "xaxis": "x",
         "y": [
          1491001.0
         ],
         "yaxis": "y",
         "type": "bar"
        },
        {
         "alignmentgroup": "True",
         "hovertemplate": "subreddit=%{x}<br>Comments=%{y}<extra></extra>",
         "legendgroup": "r/memes",
         "marker": {
          "color": "#EF553B",
          "pattern": {
           "shape": ""
          }
         },
         "name": "r/memes",
         "offsetgroup": "r/memes",
         "orientation": "v",
         "showlegend": true,
         "textposition": "auto",
         "x": [
          "r/memes"
         ],
         "xaxis": "x",
         "y": [
          698821.0
         ],
         "yaxis": "y",
         "type": "bar"
        },
        {
         "alignmentgroup": "True",
         "hovertemplate": "subreddit=%{x}<br>Comments=%{y}<extra></extra>",
         "legendgroup": "r/funny",
         "marker": {
          "color": "#00cc96",
          "pattern": {
           "shape": ""
          }
         },
         "name": "r/funny",
         "offsetgroup": "r/funny",
         "orientation": "v",
         "showlegend": true,
         "textposition": "auto",
         "x": [
          "r/funny"
         ],
         "xaxis": "x",
         "y": [
          496083.0
         ],
         "yaxis": "y",
         "type": "bar"
        },
        {
         "alignmentgroup": "True",
         "hovertemplate": "subreddit=%{x}<br>Comments=%{y}<extra></extra>",
         "legendgroup": "r/news",
         "marker": {
          "color": "#ab63fa",
          "pattern": {
           "shape": ""
          }
         },
         "name": "r/news",
         "offsetgroup": "r/news",
         "orientation": "v",
         "showlegend": true,
         "textposition": "auto",
         "x": [
          "r/news"
         ],
         "xaxis": "x",
         "y": [
          475256.0
         ],
         "yaxis": "y",
         "type": "bar"
        },
        {
         "alignmentgroup": "True",
         "hovertemplate": "subreddit=%{x}<br>Comments=%{y}<extra></extra>",
         "legendgroup": "r/wallstreetbets",
         "marker": {
          "color": "#FFA15A",
          "pattern": {
           "shape": ""
          }
         },
         "name": "r/wallstreetbets",
         "offsetgroup": "r/wallstreetbets",
         "orientation": "v",
         "showlegend": true,
         "textposition": "auto",
         "x": [
          "r/wallstreetbets"
         ],
         "xaxis": "x",
         "y": [
          408643.0
         ],
         "yaxis": "y",
         "type": "bar"
        },
        {
         "alignmentgroup": "True",
         "hovertemplate": "subreddit=%{x}<br>Comments=%{y}<extra></extra>",
         "legendgroup": "r/gaming",
         "marker": {
          "color": "#19d3f3",
          "pattern": {
           "shape": ""
          }
         },
         "name": "r/gaming",
         "offsetgroup": "r/gaming",
         "orientation": "v",
         "showlegend": true,
         "textposition": "auto",
         "x": [
          "r/gaming"
         ],
         "xaxis": "x",
         "y": [
          384739.0
         ],
         "yaxis": "y",
         "type": "bar"
        },
        {
         "alignmentgroup": "True",
         "hovertemplate": "subreddit=%{x}<br>Comments=%{y}<extra></extra>",
         "legendgroup": "r/nextfuckinglevel",
         "marker": {
          "color": "#FF6692",
          "pattern": {
           "shape": ""
          }
         },
         "name": "r/nextfuckinglevel",
         "offsetgroup": "r/nextfuckinglevel",
         "orientation": "v",
         "showlegend": true,
         "textposition": "auto",
         "x": [
          "r/nextfuckinglevel"
         ],
         "xaxis": "x",
         "y": [
          375834.0
         ],
         "yaxis": "y",
         "type": "bar"
        },
        {
         "alignmentgroup": "True",
         "hovertemplate": "subreddit=%{x}<br>Comments=%{y}<extra></extra>",
         "legendgroup": "r/gifs",
         "marker": {
          "color": "#B6E880",
          "pattern": {
           "shape": ""
          }
         },
         "name": "r/gifs",
         "offsetgroup": "r/gifs",
         "orientation": "v",
         "showlegend": true,
         "textposition": "auto",
         "x": [
          "r/gifs"
         ],
         "xaxis": "x",
         "y": [
          363398.0
         ],
         "yaxis": "y",
         "type": "bar"
        },
        {
         "alignmentgroup": "True",
         "hovertemplate": "subreddit=%{x}<br>Comments=%{y}<extra></extra>",
         "legendgroup": "r/aww",
         "marker": {
          "color": "#FF97FF",
          "pattern": {
           "shape": ""
          }
         },
         "name": "r/aww",
         "offsetgroup": "r/aww",
         "orientation": "v",
         "showlegend": true,
         "textposition": "auto",
         "x": [
          "r/aww"
         ],
         "xaxis": "x",
         "y": [
          279779.0
         ],
         "yaxis": "y",
         "type": "bar"
        },
        {
         "alignmentgroup": "True",
         "hovertemplate": "subreddit=%{x}<br>Comments=%{y}<extra></extra>",
         "legendgroup": "r/PublicFreakout",
         "marker": {
          "color": "#FECB52",
          "pattern": {
           "shape": ""
          }
         },
         "name": "r/PublicFreakout",
         "offsetgroup": "r/PublicFreakout",
         "orientation": "v",
         "showlegend": true,
         "textposition": "auto",
         "x": [
          "r/PublicFreakout"
         ],
         "xaxis": "x",
         "y": [
          263214.0
         ],
         "yaxis": "y",
         "type": "bar"
        },
        {
         "alignmentgroup": "True",
         "hovertemplate": "subreddit=%{x}<br>Comments=%{y}<extra></extra>",
         "legendgroup": "r/AskReddit",
         "marker": {
          "color": "#636efa",
          "pattern": {
           "shape": ""
          }
         },
         "name": "r/AskReddit",
         "offsetgroup": "r/AskReddit",
         "orientation": "v",
         "showlegend": true,
         "textposition": "auto",
         "x": [
          "r/AskReddit"
         ],
         "xaxis": "x",
         "y": [
          248042.0
         ],
         "yaxis": "y",
         "type": "bar"
        },
        {
         "alignmentgroup": "True",
         "hovertemplate": "subreddit=%{x}<br>Comments=%{y}<extra></extra>",
         "legendgroup": "r/worldnews",
         "marker": {
          "color": "#EF553B",
          "pattern": {
           "shape": ""
          }
         },
         "name": "r/worldnews",
         "offsetgroup": "r/worldnews",
         "orientation": "v",
         "showlegend": true,
         "textposition": "auto",
         "x": [
          "r/worldnews"
         ],
         "xaxis": "x",
         "y": [
          228812.0
         ],
         "yaxis": "y",
         "type": "bar"
        },
        {
         "alignmentgroup": "True",
         "hovertemplate": "subreddit=%{x}<br>Comments=%{y}<extra></extra>",
         "legendgroup": "r/interestingasfuck",
         "marker": {
          "color": "#00cc96",
          "pattern": {
           "shape": ""
          }
         },
         "name": "r/interestingasfuck",
         "offsetgroup": "r/interestingasfuck",
         "orientation": "v",
         "showlegend": true,
         "textposition": "auto",
         "x": [
          "r/interestingasfuck"
         ],
         "xaxis": "x",
         "y": [
          217781.0
         ],
         "yaxis": "y",
         "type": "bar"
        },
        {
         "alignmentgroup": "True",
         "hovertemplate": "subreddit=%{x}<br>Comments=%{y}<extra></extra>",
         "legendgroup": "r/politics",
         "marker": {
          "color": "#ab63fa",
          "pattern": {
           "shape": ""
          }
         },
         "name": "r/politics",
         "offsetgroup": "r/politics",
         "orientation": "v",
         "showlegend": true,
         "textposition": "auto",
         "x": [
          "r/politics"
         ],
         "xaxis": "x",
         "y": [
          171384.0
         ],
         "yaxis": "y",
         "type": "bar"
        },
        {
         "alignmentgroup": "True",
         "hovertemplate": "subreddit=%{x}<br>Comments=%{y}<extra></extra>",
         "legendgroup": "r/MurderedByWords",
         "marker": {
          "color": "#FFA15A",
          "pattern": {
           "shape": ""
          }
         },
         "name": "r/MurderedByWords",
         "offsetgroup": "r/MurderedByWords",
         "orientation": "v",
         "showlegend": true,
         "textposition": "auto",
         "x": [
          "r/MurderedByWords"
         ],
         "xaxis": "x",
         "y": [
          130562.0
         ],
         "yaxis": "y",
         "type": "bar"
        },
        {
         "alignmentgroup": "True",
         "hovertemplate": "subreddit=%{x}<br>Comments=%{y}<extra></extra>",
         "legendgroup": "r/videos",
         "marker": {
          "color": "#19d3f3",
          "pattern": {
           "shape": ""
          }
         },
         "name": "r/videos",
         "offsetgroup": "r/videos",
         "orientation": "v",
         "showlegend": true,
         "textposition": "auto",
         "x": [
          "r/videos"
         ],
         "xaxis": "x",
         "y": [
          83946.0
         ],
         "yaxis": "y",
         "type": "bar"
        },
        {
         "alignmentgroup": "True",
         "hovertemplate": "subreddit=%{x}<br>Comments=%{y}<extra></extra>",
         "legendgroup": "r/pokemon",
         "marker": {
          "color": "#FF6692",
          "pattern": {
           "shape": ""
          }
         },
         "name": "r/pokemon",
         "offsetgroup": "r/pokemon",
         "orientation": "v",
         "showlegend": true,
         "textposition": "auto",
         "x": [
          "r/pokemon"
         ],
         "xaxis": "x",
         "y": [
          77368.0
         ],
         "yaxis": "y",
         "type": "bar"
        },
        {
         "alignmentgroup": "True",
         "hovertemplate": "subreddit=%{x}<br>Comments=%{y}<extra></extra>",
         "legendgroup": "r/todayilearned",
         "marker": {
          "color": "#B6E880",
          "pattern": {
           "shape": ""
          }
         },
         "name": "r/todayilearned",
         "offsetgroup": "r/todayilearned",
         "orientation": "v",
         "showlegend": true,
         "textposition": "auto",
         "x": [
          "r/todayilearned"
         ],
         "xaxis": "x",
         "y": [
          76902.0
         ],
         "yaxis": "y",
         "type": "bar"
        },
        {
         "alignmentgroup": "True",
         "hovertemplate": "subreddit=%{x}<br>Comments=%{y}<extra></extra>",
         "legendgroup": "r/MadeMeSmile",
         "marker": {
          "color": "#FF97FF",
          "pattern": {
           "shape": ""
          }
         },
         "name": "r/MadeMeSmile",
         "offsetgroup": "r/MadeMeSmile",
         "orientation": "v",
         "showlegend": true,
         "textposition": "auto",
         "x": [
          "r/MadeMeSmile"
         ],
         "xaxis": "x",
         "y": [
          65111.0
         ],
         "yaxis": "y",
         "type": "bar"
        },
        {
         "alignmentgroup": "True",
         "hovertemplate": "subreddit=%{x}<br>Comments=%{y}<extra></extra>",
         "legendgroup": "r/WatchPeopleDieInside",
         "marker": {
          "color": "#FECB52",
          "pattern": {
           "shape": ""
          }
         },
         "name": "r/WatchPeopleDieInside",
         "offsetgroup": "r/WatchPeopleDieInside",
         "orientation": "v",
         "showlegend": true,
         "textposition": "auto",
         "x": [
          "r/WatchPeopleDieInside"
         ],
         "xaxis": "x",
         "y": [
          63731.0
         ],
         "yaxis": "y",
         "type": "bar"
        },
        {
         "alignmentgroup": "True",
         "hovertemplate": "subreddit=%{x}<br>Comments=%{y}<extra></extra>",
         "legendgroup": "r/thanosdidnothingwrong",
         "marker": {
          "color": "#636efa",
          "pattern": {
           "shape": ""
          }
         },
         "name": "r/thanosdidnothingwrong",
         "offsetgroup": "r/thanosdidnothingwrong",
         "orientation": "v",
         "showlegend": true,
         "textposition": "auto",
         "x": [
          "r/thanosdidnothingwrong"
         ],
         "xaxis": "x",
         "y": [
          55628.0
         ],
         "yaxis": "y",
         "type": "bar"
        },
        {
         "alignmentgroup": "True",
         "hovertemplate": "subreddit=%{x}<br>Comments=%{y}<extra></extra>",
         "legendgroup": "r/movies",
         "marker": {
          "color": "#EF553B",
          "pattern": {
           "shape": ""
          }
         },
         "name": "r/movies",
         "offsetgroup": "r/movies",
         "orientation": "v",
         "showlegend": true,
         "textposition": "auto",
         "x": [
          "r/movies"
         ],
         "xaxis": "x",
         "y": [
          50189.0
         ],
         "yaxis": "y",
         "type": "bar"
        },
        {
         "alignmentgroup": "True",
         "hovertemplate": "subreddit=%{x}<br>Comments=%{y}<extra></extra>",
         "legendgroup": "r/announcements",
         "marker": {
          "color": "#00cc96",
          "pattern": {
           "shape": ""
          }
         },
         "name": "r/announcements",
         "offsetgroup": "r/announcements",
         "orientation": "v",
         "showlegend": true,
         "textposition": "auto",
         "x": [
          "r/announcements"
         ],
         "xaxis": "x",
         "y": [
          45369.0
         ],
         "yaxis": "y",
         "type": "bar"
        },
        {
         "alignmentgroup": "True",
         "hovertemplate": "subreddit=%{x}<br>Comments=%{y}<extra></extra>",
         "legendgroup": "r/WhitePeopleTwitter",
         "marker": {
          "color": "#ab63fa",
          "pattern": {
           "shape": ""
          }
         },
         "name": "r/WhitePeopleTwitter",
         "offsetgroup": "r/WhitePeopleTwitter",
         "orientation": "v",
         "showlegend": true,
         "textposition": "auto",
         "x": [
          "r/WhitePeopleTwitter"
         ],
         "xaxis": "x",
         "y": [
          44859.0
         ],
         "yaxis": "y",
         "type": "bar"
        },
        {
         "alignmentgroup": "True",
         "hovertemplate": "subreddit=%{x}<br>Comments=%{y}<extra></extra>",
         "legendgroup": "r/facepalm",
         "marker": {
          "color": "#FFA15A",
          "pattern": {
           "shape": ""
          }
         },
         "name": "r/facepalm",
         "offsetgroup": "r/facepalm",
         "orientation": "v",
         "showlegend": true,
         "textposition": "auto",
         "x": [
          "r/facepalm"
         ],
         "xaxis": "x",
         "y": [
          43040.0
         ],
         "yaxis": "y",
         "type": "bar"
        },
        {
         "alignmentgroup": "True",
         "hovertemplate": "subreddit=%{x}<br>Comments=%{y}<extra></extra>",
         "legendgroup": "r/mildlyinteresting",
         "marker": {
          "color": "#19d3f3",
          "pattern": {
           "shape": ""
          }
         },
         "name": "r/mildlyinteresting",
         "offsetgroup": "r/mildlyinteresting",
         "orientation": "v",
         "showlegend": true,
         "textposition": "auto",
         "x": [
          "r/mildlyinteresting"
         ],
         "xaxis": "x",
         "y": [
          39558.0
         ],
         "yaxis": "y",
         "type": "bar"
        },
        {
         "alignmentgroup": "True",
         "hovertemplate": "subreddit=%{x}<br>Comments=%{y}<extra></extra>",
         "legendgroup": "r/Showerthoughts",
         "marker": {
          "color": "#FF6692",
          "pattern": {
           "shape": ""
          }
         },
         "name": "r/Showerthoughts",
         "offsetgroup": "r/Showerthoughts",
         "orientation": "v",
         "showlegend": true,
         "textposition": "auto",
         "x": [
          "r/Showerthoughts"
         ],
         "xaxis": "x",
         "y": [
          36043.0
         ],
         "yaxis": "y",
         "type": "bar"
        },
        {
         "alignmentgroup": "True",
         "hovertemplate": "subreddit=%{x}<br>Comments=%{y}<extra></extra>",
         "legendgroup": "r/awfuleverything",
         "marker": {
          "color": "#B6E880",
          "pattern": {
           "shape": ""
          }
         },
         "name": "r/awfuleverything",
         "offsetgroup": "r/awfuleverything",
         "orientation": "v",
         "showlegend": true,
         "textposition": "auto",
         "x": [
          "r/awfuleverything"
         ],
         "xaxis": "x",
         "y": [
          34154.0
         ],
         "yaxis": "y",
         "type": "bar"
        },
        {
         "alignmentgroup": "True",
         "hovertemplate": "subreddit=%{x}<br>Comments=%{y}<extra></extra>",
         "legendgroup": "r/Wellthatsucks",
         "marker": {
          "color": "#FF97FF",
          "pattern": {
           "shape": ""
          }
         },
         "name": "r/Wellthatsucks",
         "offsetgroup": "r/Wellthatsucks",
         "orientation": "v",
         "showlegend": true,
         "textposition": "auto",
         "x": [
          "r/Wellthatsucks"
         ],
         "xaxis": "x",
         "y": [
          33907.0
         ],
         "yaxis": "y",
         "type": "bar"
        },
        {
         "alignmentgroup": "True",
         "hovertemplate": "subreddit=%{x}<br>Comments=%{y}<extra></extra>",
         "legendgroup": "r/teenagers",
         "marker": {
          "color": "#FECB52",
          "pattern": {
           "shape": ""
          }
         },
         "name": "r/teenagers",
         "offsetgroup": "r/teenagers",
         "orientation": "v",
         "showlegend": true,
         "textposition": "auto",
         "x": [
          "r/teenagers"
         ],
         "xaxis": "x",
         "y": [
          30944.0
         ],
         "yaxis": "y",
         "type": "bar"
        },
        {
         "alignmentgroup": "True",
         "hovertemplate": "subreddit=%{x}<br>Comments=%{y}<extra></extra>",
         "legendgroup": "r/IAmA",
         "marker": {
          "color": "#636efa",
          "pattern": {
           "shape": ""
          }
         },
         "name": "r/IAmA",
         "offsetgroup": "r/IAmA",
         "orientation": "v",
         "showlegend": true,
         "textposition": "auto",
         "x": [
          "r/IAmA"
         ],
         "xaxis": "x",
         "y": [
          25552.0
         ],
         "yaxis": "y",
         "type": "bar"
        },
        {
         "alignmentgroup": "True",
         "hovertemplate": "subreddit=%{x}<br>Comments=%{y}<extra></extra>",
         "legendgroup": "r/IdiotsInCars",
         "marker": {
          "color": "#EF553B",
          "pattern": {
           "shape": ""
          }
         },
         "name": "r/IdiotsInCars",
         "offsetgroup": "r/IdiotsInCars",
         "orientation": "v",
         "showlegend": true,
         "textposition": "auto",
         "x": [
          "r/IdiotsInCars"
         ],
         "xaxis": "x",
         "y": [
          25455.0
         ],
         "yaxis": "y",
         "type": "bar"
        },
        {
         "alignmentgroup": "True",
         "hovertemplate": "subreddit=%{x}<br>Comments=%{y}<extra></extra>",
         "legendgroup": "r/space",
         "marker": {
          "color": "#00cc96",
          "pattern": {
           "shape": ""
          }
         },
         "name": "r/space",
         "offsetgroup": "r/space",
         "orientation": "v",
         "showlegend": true,
         "textposition": "auto",
         "x": [
          "r/space"
         ],
         "xaxis": "x",
         "y": [
          24966.0
         ],
         "yaxis": "y",
         "type": "bar"
        },
        {
         "alignmentgroup": "True",
         "hovertemplate": "subreddit=%{x}<br>Comments=%{y}<extra></extra>",
         "legendgroup": "r/wholesomememes",
         "marker": {
          "color": "#ab63fa",
          "pattern": {
           "shape": ""
          }
         },
         "name": "r/wholesomememes",
         "offsetgroup": "r/wholesomememes",
         "orientation": "v",
         "showlegend": true,
         "textposition": "auto",
         "x": [
          "r/wholesomememes"
         ],
         "xaxis": "x",
         "y": [
          23704.0
         ],
         "yaxis": "y",
         "type": "bar"
        },
        {
         "alignmentgroup": "True",
         "hovertemplate": "subreddit=%{x}<br>Comments=%{y}<extra></extra>",
         "legendgroup": "r/tifu",
         "marker": {
          "color": "#FFA15A",
          "pattern": {
           "shape": ""
          }
         },
         "name": "r/tifu",
         "offsetgroup": "r/tifu",
         "orientation": "v",
         "showlegend": true,
         "textposition": "auto",
         "x": [
          "r/tifu"
         ],
         "xaxis": "x",
         "y": [
          21631.0
         ],
         "yaxis": "y",
         "type": "bar"
        },
        {
         "alignmentgroup": "True",
         "hovertemplate": "subreddit=%{x}<br>Comments=%{y}<extra></extra>",
         "legendgroup": "r/technology",
         "marker": {
          "color": "#19d3f3",
          "pattern": {
           "shape": ""
          }
         },
         "name": "r/technology",
         "offsetgroup": "r/technology",
         "orientation": "v",
         "showlegend": true,
         "textposition": "auto",
         "x": [
          "r/technology"
         ],
         "xaxis": "x",
         "y": [
          18800.0
         ],
         "yaxis": "y",
         "type": "bar"
        },
        {
         "alignmentgroup": "True",
         "hovertemplate": "subreddit=%{x}<br>Comments=%{y}<extra></extra>",
         "legendgroup": "r/JusticeServed",
         "marker": {
          "color": "#FF6692",
          "pattern": {
           "shape": ""
          }
         },
         "name": "r/JusticeServed",
         "offsetgroup": "r/JusticeServed",
         "orientation": "v",
         "showlegend": true,
         "textposition": "auto",
         "x": [
          "r/JusticeServed"
         ],
         "xaxis": "x",
         "y": [
          15439.0
         ],
         "yaxis": "y",
         "type": "bar"
        },
        {
         "alignmentgroup": "True",
         "hovertemplate": "subreddit=%{x}<br>Comments=%{y}<extra></extra>",
         "legendgroup": "r/me_irl",
         "marker": {
          "color": "#B6E880",
          "pattern": {
           "shape": ""
          }
         },
         "name": "r/me_irl",
         "offsetgroup": "r/me_irl",
         "orientation": "v",
         "showlegend": true,
         "textposition": "auto",
         "x": [
          "r/me_irl"
         ],
         "xaxis": "x",
         "y": [
          15308.0
         ],
         "yaxis": "y",
         "type": "bar"
        },
        {
         "alignmentgroup": "True",
         "hovertemplate": "subreddit=%{x}<br>Comments=%{y}<extra></extra>",
         "legendgroup": "r/LifeProTips",
         "marker": {
          "color": "#FF97FF",
          "pattern": {
           "shape": ""
          }
         },
         "name": "r/LifeProTips",
         "offsetgroup": "r/LifeProTips",
         "orientation": "v",
         "showlegend": true,
         "textposition": "auto",
         "x": [
          "r/LifeProTips"
         ],
         "xaxis": "x",
         "y": [
          14635.0
         ],
         "yaxis": "y",
         "type": "bar"
        },
        {
         "alignmentgroup": "True",
         "hovertemplate": "subreddit=%{x}<br>Comments=%{y}<extra></extra>",
         "legendgroup": "r/iamatotalpieceofshit",
         "marker": {
          "color": "#FECB52",
          "pattern": {
           "shape": ""
          }
         },
         "name": "r/iamatotalpieceofshit",
         "offsetgroup": "r/iamatotalpieceofshit",
         "orientation": "v",
         "showlegend": true,
         "textposition": "auto",
         "x": [
          "r/iamatotalpieceofshit"
         ],
         "xaxis": "x",
         "y": [
          14420.0
         ],
         "yaxis": "y",
         "type": "bar"
        },
        {
         "alignmentgroup": "True",
         "hovertemplate": "subreddit=%{x}<br>Comments=%{y}<extra></extra>",
         "legendgroup": "r/PrequelMemes",
         "marker": {
          "color": "#636efa",
          "pattern": {
           "shape": ""
          }
         },
         "name": "r/PrequelMemes",
         "offsetgroup": "r/PrequelMemes",
         "orientation": "v",
         "showlegend": true,
         "textposition": "auto",
         "x": [
          "r/PrequelMemes"
         ],
         "xaxis": "x",
         "y": [
          14281.0
         ],
         "yaxis": "y",
         "type": "bar"
        },
        {
         "alignmentgroup": "True",
         "hovertemplate": "subreddit=%{x}<br>Comments=%{y}<extra></extra>",
         "legendgroup": "r/trashy",
         "marker": {
          "color": "#EF553B",
          "pattern": {
           "shape": ""
          }
         },
         "name": "r/trashy",
         "offsetgroup": "r/trashy",
         "orientation": "v",
         "showlegend": true,
         "textposition": "auto",
         "x": [
          "r/trashy"
         ],
         "xaxis": "x",
         "y": [
          13989.0
         ],
         "yaxis": "y",
         "type": "bar"
        },
        {
         "alignmentgroup": "True",
         "hovertemplate": "subreddit=%{x}<br>Comments=%{y}<extra></extra>",
         "legendgroup": "r/ChoosingBeggars",
         "marker": {
          "color": "#00cc96",
          "pattern": {
           "shape": ""
          }
         },
         "name": "r/ChoosingBeggars",
         "offsetgroup": "r/ChoosingBeggars",
         "orientation": "v",
         "showlegend": true,
         "textposition": "auto",
         "x": [
          "r/ChoosingBeggars"
         ],
         "xaxis": "x",
         "y": [
          11250.0
         ],
         "yaxis": "y",
         "type": "bar"
        },
        {
         "alignmentgroup": "True",
         "hovertemplate": "subreddit=%{x}<br>Comments=%{y}<extra></extra>",
         "legendgroup": "r/PewdiepieSubmissions",
         "marker": {
          "color": "#ab63fa",
          "pattern": {
           "shape": ""
          }
         },
         "name": "r/PewdiepieSubmissions",
         "offsetgroup": "r/PewdiepieSubmissions",
         "orientation": "v",
         "showlegend": true,
         "textposition": "auto",
         "x": [
          "r/PewdiepieSubmissions"
         ],
         "xaxis": "x",
         "y": [
          10456.0
         ],
         "yaxis": "y",
         "type": "bar"
        },
        {
         "alignmentgroup": "True",
         "hovertemplate": "subreddit=%{x}<br>Comments=%{y}<extra></extra>",
         "legendgroup": "r/LeopardsAteMyFace",
         "marker": {
          "color": "#FFA15A",
          "pattern": {
           "shape": ""
          }
         },
         "name": "r/LeopardsAteMyFace",
         "offsetgroup": "r/LeopardsAteMyFace",
         "orientation": "v",
         "showlegend": true,
         "textposition": "auto",
         "x": [
          "r/LeopardsAteMyFace"
         ],
         "xaxis": "x",
         "y": [
          10072.0
         ],
         "yaxis": "y",
         "type": "bar"
        },
        {
         "alignmentgroup": "True",
         "hovertemplate": "subreddit=%{x}<br>Comments=%{y}<extra></extra>",
         "legendgroup": "r/BikiniBottomTwitter",
         "marker": {
          "color": "#19d3f3",
          "pattern": {
           "shape": ""
          }
         },
         "name": "r/BikiniBottomTwitter",
         "offsetgroup": "r/BikiniBottomTwitter",
         "orientation": "v",
         "showlegend": true,
         "textposition": "auto",
         "x": [
          "r/BikiniBottomTwitter"
         ],
         "xaxis": "x",
         "y": [
          9769.0
         ],
         "yaxis": "y",
         "type": "bar"
        },
        {
         "alignmentgroup": "True",
         "hovertemplate": "subreddit=%{x}<br>Comments=%{y}<extra></extra>",
         "legendgroup": "r/science",
         "marker": {
          "color": "#FF6692",
          "pattern": {
           "shape": ""
          }
         },
         "name": "r/science",
         "offsetgroup": "r/science",
         "orientation": "v",
         "showlegend": true,
         "textposition": "auto",
         "x": [
          "r/science"
         ],
         "xaxis": "x",
         "y": [
          9344.0
         ],
         "yaxis": "y",
         "type": "bar"
        },
        {
         "alignmentgroup": "True",
         "hovertemplate": "subreddit=%{x}<br>Comments=%{y}<extra></extra>",
         "legendgroup": "r/Futurology",
         "marker": {
          "color": "#B6E880",
          "pattern": {
           "shape": ""
          }
         },
         "name": "r/Futurology",
         "offsetgroup": "r/Futurology",
         "orientation": "v",
         "showlegend": true,
         "textposition": "auto",
         "x": [
          "r/Futurology"
         ],
         "xaxis": "x",
         "y": [
          7899.0
         ],
         "yaxis": "y",
         "type": "bar"
        },
        {
         "alignmentgroup": "True",
         "hovertemplate": "subreddit=%{x}<br>Comments=%{y}<extra></extra>",
         "legendgroup": "r/dataisbeautiful",
         "marker": {
          "color": "#FF97FF",
          "pattern": {
           "shape": ""
          }
         },
         "name": "r/dataisbeautiful",
         "offsetgroup": "r/dataisbeautiful",
         "orientation": "v",
         "showlegend": true,
         "textposition": "auto",
         "x": [
          "r/dataisbeautiful"
         ],
         "xaxis": "x",
         "y": [
          7661.0
         ],
         "yaxis": "y",
         "type": "bar"
        },
        {
         "alignmentgroup": "True",
         "hovertemplate": "subreddit=%{x}<br>Comments=%{y}<extra></extra>",
         "legendgroup": "r/insanepeoplefacebook",
         "marker": {
          "color": "#FECB52",
          "pattern": {
           "shape": ""
          }
         },
         "name": "r/insanepeoplefacebook",
         "offsetgroup": "r/insanepeoplefacebook",
         "orientation": "v",
         "showlegend": true,
         "textposition": "auto",
         "x": [
          "r/insanepeoplefacebook"
         ],
         "xaxis": "x",
         "y": [
          6936.0
         ],
         "yaxis": "y",
         "type": "bar"
        },
        {
         "alignmentgroup": "True",
         "hovertemplate": "subreddit=%{x}<br>Comments=%{y}<extra></extra>",
         "legendgroup": "r/UpliftingNews",
         "marker": {
          "color": "#636efa",
          "pattern": {
           "shape": ""
          }
         },
         "name": "r/UpliftingNews",
         "offsetgroup": "r/UpliftingNews",
         "orientation": "v",
         "showlegend": true,
         "textposition": "auto",
         "x": [
          "r/UpliftingNews"
         ],
         "xaxis": "x",
         "y": [
          5777.0
         ],
         "yaxis": "y",
         "type": "bar"
        },
        {
         "alignmentgroup": "True",
         "hovertemplate": "subreddit=%{x}<br>Comments=%{y}<extra></extra>",
         "legendgroup": "r/coolguides",
         "marker": {
          "color": "#EF553B",
          "pattern": {
           "shape": ""
          }
         },
         "name": "r/coolguides",
         "offsetgroup": "r/coolguides",
         "orientation": "v",
         "showlegend": true,
         "textposition": "auto",
         "x": [
          "r/coolguides"
         ],
         "xaxis": "x",
         "y": [
          5504.0
         ],
         "yaxis": "y",
         "type": "bar"
        },
        {
         "alignmentgroup": "True",
         "hovertemplate": "subreddit=%{x}<br>Comments=%{y}<extra></extra>",
         "legendgroup": "r/BlackPeopleTwitter",
         "marker": {
          "color": "#00cc96",
          "pattern": {
           "shape": ""
          }
         },
         "name": "r/BlackPeopleTwitter",
         "offsetgroup": "r/BlackPeopleTwitter",
         "orientation": "v",
         "showlegend": true,
         "textposition": "auto",
         "x": [
          "r/BlackPeopleTwitter"
         ],
         "xaxis": "x",
         "y": [
          4979.0
         ],
         "yaxis": "y",
         "type": "bar"
        },
        {
         "alignmentgroup": "True",
         "hovertemplate": "subreddit=%{x}<br>Comments=%{y}<extra></extra>",
         "legendgroup": "r/The_Mueller",
         "marker": {
          "color": "#ab63fa",
          "pattern": {
           "shape": ""
          }
         },
         "name": "r/The_Mueller",
         "offsetgroup": "r/The_Mueller",
         "orientation": "v",
         "showlegend": true,
         "textposition": "auto",
         "x": [
          "r/The_Mueller"
         ],
         "xaxis": "x",
         "y": [
          4903.0
         ],
         "yaxis": "y",
         "type": "bar"
        },
        {
         "alignmentgroup": "True",
         "hovertemplate": "subreddit=%{x}<br>Comments=%{y}<extra></extra>",
         "legendgroup": "r/oddlysatisfying",
         "marker": {
          "color": "#FFA15A",
          "pattern": {
           "shape": ""
          }
         },
         "name": "r/oddlysatisfying",
         "offsetgroup": "r/oddlysatisfying",
         "orientation": "v",
         "showlegend": true,
         "textposition": "auto",
         "x": [
          "r/oddlysatisfying"
         ],
         "xaxis": "x",
         "y": [
          4819.0
         ],
         "yaxis": "y",
         "type": "bar"
        },
        {
         "alignmentgroup": "True",
         "hovertemplate": "subreddit=%{x}<br>Comments=%{y}<extra></extra>",
         "legendgroup": "r/Whatcouldgowrong",
         "marker": {
          "color": "#19d3f3",
          "pattern": {
           "shape": ""
          }
         },
         "name": "r/Whatcouldgowrong",
         "offsetgroup": "r/Whatcouldgowrong",
         "orientation": "v",
         "showlegend": true,
         "textposition": "auto",
         "x": [
          "r/Whatcouldgowrong"
         ],
         "xaxis": "x",
         "y": [
          4519.0
         ],
         "yaxis": "y",
         "type": "bar"
        },
        {
         "alignmentgroup": "True",
         "hovertemplate": "subreddit=%{x}<br>Comments=%{y}<extra></extra>",
         "legendgroup": "r/nottheonion",
         "marker": {
          "color": "#FF6692",
          "pattern": {
           "shape": ""
          }
         },
         "name": "r/nottheonion",
         "offsetgroup": "r/nottheonion",
         "orientation": "v",
         "showlegend": true,
         "textposition": "auto",
         "x": [
          "r/nottheonion"
         ],
         "xaxis": "x",
         "y": [
          4368.0
         ],
         "yaxis": "y",
         "type": "bar"
        },
        {
         "alignmentgroup": "True",
         "hovertemplate": "subreddit=%{x}<br>Comments=%{y}<extra></extra>",
         "legendgroup": "r/Coronavirus",
         "marker": {
          "color": "#B6E880",
          "pattern": {
           "shape": ""
          }
         },
         "name": "r/Coronavirus",
         "offsetgroup": "r/Coronavirus",
         "orientation": "v",
         "showlegend": true,
         "textposition": "auto",
         "x": [
          "r/Coronavirus"
         ],
         "xaxis": "x",
         "y": [
          4346.0
         ],
         "yaxis": "y",
         "type": "bar"
        },
        {
         "alignmentgroup": "True",
         "hovertemplate": "subreddit=%{x}<br>Comments=%{y}<extra></extra>",
         "legendgroup": "r/instant_regret",
         "marker": {
          "color": "#FF97FF",
          "pattern": {
           "shape": ""
          }
         },
         "name": "r/instant_regret",
         "offsetgroup": "r/instant_regret",
         "orientation": "v",
         "showlegend": true,
         "textposition": "auto",
         "x": [
          "r/instant_regret"
         ],
         "xaxis": "x",
         "y": [
          4278.0
         ],
         "yaxis": "y",
         "type": "bar"
        },
        {
         "alignmentgroup": "True",
         "hovertemplate": "subreddit=%{x}<br>Comments=%{y}<extra></extra>",
         "legendgroup": "r/gifsthatkeepongiving",
         "marker": {
          "color": "#FECB52",
          "pattern": {
           "shape": ""
          }
         },
         "name": "r/gifsthatkeepongiving",
         "offsetgroup": "r/gifsthatkeepongiving",
         "orientation": "v",
         "showlegend": true,
         "textposition": "auto",
         "x": [
          "r/gifsthatkeepongiving"
         ],
         "xaxis": "x",
         "y": [
          4228.0
         ],
         "yaxis": "y",
         "type": "bar"
        },
        {
         "alignmentgroup": "True",
         "hovertemplate": "subreddit=%{x}<br>Comments=%{y}<extra></extra>",
         "legendgroup": "r/rickandmorty",
         "marker": {
          "color": "#636efa",
          "pattern": {
           "shape": ""
          }
         },
         "name": "r/rickandmorty",
         "offsetgroup": "r/rickandmorty",
         "orientation": "v",
         "showlegend": true,
         "textposition": "auto",
         "x": [
          "r/rickandmorty"
         ],
         "xaxis": "x",
         "y": [
          3984.0
         ],
         "yaxis": "y",
         "type": "bar"
        },
        {
         "alignmentgroup": "True",
         "hovertemplate": "subreddit=%{x}<br>Comments=%{y}<extra></extra>",
         "legendgroup": "r/assholedesign",
         "marker": {
          "color": "#EF553B",
          "pattern": {
           "shape": ""
          }
         },
         "name": "r/assholedesign",
         "offsetgroup": "r/assholedesign",
         "orientation": "v",
         "showlegend": true,
         "textposition": "auto",
         "x": [
          "r/assholedesign"
         ],
         "xaxis": "x",
         "y": [
          3609.0
         ],
         "yaxis": "y",
         "type": "bar"
        },
        {
         "alignmentgroup": "True",
         "hovertemplate": "subreddit=%{x}<br>Comments=%{y}<extra></extra>",
         "legendgroup": "r/Jokes",
         "marker": {
          "color": "#00cc96",
          "pattern": {
           "shape": ""
          }
         },
         "name": "r/Jokes",
         "offsetgroup": "r/Jokes",
         "orientation": "v",
         "showlegend": true,
         "textposition": "auto",
         "x": [
          "r/Jokes"
         ],
         "xaxis": "x",
         "y": [
          3412.0
         ],
         "yaxis": "y",
         "type": "bar"
        },
        {
         "alignmentgroup": "True",
         "hovertemplate": "subreddit=%{x}<br>Comments=%{y}<extra></extra>",
         "legendgroup": "r/GetMotivated",
         "marker": {
          "color": "#ab63fa",
          "pattern": {
           "shape": ""
          }
         },
         "name": "r/GetMotivated",
         "offsetgroup": "r/GetMotivated",
         "orientation": "v",
         "showlegend": true,
         "textposition": "auto",
         "x": [
          "r/GetMotivated"
         ],
         "xaxis": "x",
         "y": [
          3317.0
         ],
         "yaxis": "y",
         "type": "bar"
        },
        {
         "alignmentgroup": "True",
         "hovertemplate": "subreddit=%{x}<br>Comments=%{y}<extra></extra>",
         "legendgroup": "r/pcmasterrace",
         "marker": {
          "color": "#FFA15A",
          "pattern": {
           "shape": ""
          }
         },
         "name": "r/pcmasterrace",
         "offsetgroup": "r/pcmasterrace",
         "orientation": "v",
         "showlegend": true,
         "textposition": "auto",
         "x": [
          "r/pcmasterrace"
         ],
         "xaxis": "x",
         "y": [
          3084.0
         ],
         "yaxis": "y",
         "type": "bar"
        },
        {
         "alignmentgroup": "True",
         "hovertemplate": "subreddit=%{x}<br>Comments=%{y}<extra></extra>",
         "legendgroup": "r/DunderMifflin",
         "marker": {
          "color": "#19d3f3",
          "pattern": {
           "shape": ""
          }
         },
         "name": "r/DunderMifflin",
         "offsetgroup": "r/DunderMifflin",
         "orientation": "v",
         "showlegend": true,
         "textposition": "auto",
         "x": [
          "r/DunderMifflin"
         ],
         "xaxis": "x",
         "y": [
          2974.0
         ],
         "yaxis": "y",
         "type": "bar"
        },
        {
         "alignmentgroup": "True",
         "hovertemplate": "subreddit=%{x}<br>Comments=%{y}<extra></extra>",
         "legendgroup": "r/HolUp",
         "marker": {
          "color": "#FF6692",
          "pattern": {
           "shape": ""
          }
         },
         "name": "r/HolUp",
         "offsetgroup": "r/HolUp",
         "orientation": "v",
         "showlegend": true,
         "textposition": "auto",
         "x": [
          "r/HolUp"
         ],
         "xaxis": "x",
         "y": [
          2818.0
         ],
         "yaxis": "y",
         "type": "bar"
        },
        {
         "alignmentgroup": "True",
         "hovertemplate": "subreddit=%{x}<br>Comments=%{y}<extra></extra>",
         "legendgroup": "r/StarWarsBattlefront",
         "marker": {
          "color": "#B6E880",
          "pattern": {
           "shape": ""
          }
         },
         "name": "r/StarWarsBattlefront",
         "offsetgroup": "r/StarWarsBattlefront",
         "orientation": "v",
         "showlegend": true,
         "textposition": "auto",
         "x": [
          "r/StarWarsBattlefront"
         ],
         "xaxis": "x",
         "y": [
          2754.0
         ],
         "yaxis": "y",
         "type": "bar"
        },
        {
         "alignmentgroup": "True",
         "hovertemplate": "subreddit=%{x}<br>Comments=%{y}<extra></extra>",
         "legendgroup": "r/quityourbullshit",
         "marker": {
          "color": "#FF97FF",
          "pattern": {
           "shape": ""
          }
         },
         "name": "r/quityourbullshit",
         "offsetgroup": "r/quityourbullshit",
         "orientation": "v",
         "showlegend": true,
         "textposition": "auto",
         "x": [
          "r/quityourbullshit"
         ],
         "xaxis": "x",
         "y": [
          2676.0
         ],
         "yaxis": "y",
         "type": "bar"
        },
        {
         "alignmentgroup": "True",
         "hovertemplate": "subreddit=%{x}<br>Comments=%{y}<extra></extra>",
         "legendgroup": "r/Damnthatsinteresting",
         "marker": {
          "color": "#FECB52",
          "pattern": {
           "shape": ""
          }
         },
         "name": "r/Damnthatsinteresting",
         "offsetgroup": "r/Damnthatsinteresting",
         "orientation": "v",
         "showlegend": true,
         "textposition": "auto",
         "x": [
          "r/Damnthatsinteresting"
         ],
         "xaxis": "x",
         "y": [
          2637.0
         ],
         "yaxis": "y",
         "type": "bar"
        },
        {
         "alignmentgroup": "True",
         "hovertemplate": "subreddit=%{x}<br>Comments=%{y}<extra></extra>",
         "legendgroup": "r/sports",
         "marker": {
          "color": "#636efa",
          "pattern": {
           "shape": ""
          }
         },
         "name": "r/sports",
         "offsetgroup": "r/sports",
         "orientation": "v",
         "showlegend": true,
         "textposition": "auto",
         "x": [
          "r/sports"
         ],
         "xaxis": "x",
         "y": [
          2375.0
         ],
         "yaxis": "y",
         "type": "bar"
        },
        {
         "alignmentgroup": "True",
         "hovertemplate": "subreddit=%{x}<br>Comments=%{y}<extra></extra>",
         "legendgroup": "r/TwoXChromosomes",
         "marker": {
          "color": "#EF553B",
          "pattern": {
           "shape": ""
          }
         },
         "name": "r/TwoXChromosomes",
         "offsetgroup": "r/TwoXChromosomes",
         "orientation": "v",
         "showlegend": true,
         "textposition": "auto",
         "x": [
          "r/TwoXChromosomes"
         ],
         "xaxis": "x",
         "y": [
          2331.0
         ],
         "yaxis": "y",
         "type": "bar"
        },
        {
         "alignmentgroup": "True",
         "hovertemplate": "subreddit=%{x}<br>Comments=%{y}<extra></extra>",
         "legendgroup": "r/Instagramreality",
         "marker": {
          "color": "#00cc96",
          "pattern": {
           "shape": ""
          }
         },
         "name": "r/Instagramreality",
         "offsetgroup": "r/Instagramreality",
         "orientation": "v",
         "showlegend": true,
         "textposition": "auto",
         "x": [
          "r/Instagramreality"
         ],
         "xaxis": "x",
         "y": [
          2293.0
         ],
         "yaxis": "y",
         "type": "bar"
        },
        {
         "alignmentgroup": "True",
         "hovertemplate": "subreddit=%{x}<br>Comments=%{y}<extra></extra>",
         "legendgroup": "r/books",
         "marker": {
          "color": "#ab63fa",
          "pattern": {
           "shape": ""
          }
         },
         "name": "r/books",
         "offsetgroup": "r/books",
         "orientation": "v",
         "showlegend": true,
         "textposition": "auto",
         "x": [
          "r/books"
         ],
         "xaxis": "x",
         "y": [
          2103.0
         ],
         "yaxis": "y",
         "type": "bar"
        },
        {
         "alignmentgroup": "True",
         "hovertemplate": "subreddit=%{x}<br>Comments=%{y}<extra></extra>",
         "legendgroup": "r/HongKong",
         "marker": {
          "color": "#FFA15A",
          "pattern": {
           "shape": ""
          }
         },
         "name": "r/HongKong",
         "offsetgroup": "r/HongKong",
         "orientation": "v",
         "showlegend": true,
         "textposition": "auto",
         "x": [
          "r/HongKong"
         ],
         "xaxis": "x",
         "y": [
          1905.0
         ],
         "yaxis": "y",
         "type": "bar"
        },
        {
         "alignmentgroup": "True",
         "hovertemplate": "subreddit=%{x}<br>Comments=%{y}<extra></extra>",
         "legendgroup": "r/listentothis",
         "marker": {
          "color": "#19d3f3",
          "pattern": {
           "shape": ""
          }
         },
         "name": "r/listentothis",
         "offsetgroup": "r/listentothis",
         "orientation": "v",
         "showlegend": true,
         "textposition": "auto",
         "x": [
          "r/listentothis"
         ],
         "xaxis": "x",
         "y": [
          1801.0
         ],
         "yaxis": "y",
         "type": "bar"
        },
        {
         "alignmentgroup": "True",
         "hovertemplate": "subreddit=%{x}<br>Comments=%{y}<extra></extra>",
         "legendgroup": "r/Music",
         "marker": {
          "color": "#FF6692",
          "pattern": {
           "shape": ""
          }
         },
         "name": "r/Music",
         "offsetgroup": "r/Music",
         "orientation": "v",
         "showlegend": true,
         "textposition": "auto",
         "x": [
          "r/Music"
         ],
         "xaxis": "x",
         "y": [
          1745.0
         ],
         "yaxis": "y",
         "type": "bar"
        },
        {
         "alignmentgroup": "True",
         "hovertemplate": "subreddit=%{x}<br>Comments=%{y}<extra></extra>",
         "legendgroup": "r/freefolk",
         "marker": {
          "color": "#B6E880",
          "pattern": {
           "shape": ""
          }
         },
         "name": "r/freefolk",
         "offsetgroup": "r/freefolk",
         "orientation": "v",
         "showlegend": true,
         "textposition": "auto",
         "x": [
          "r/freefolk"
         ],
         "xaxis": "x",
         "y": [
          1516.0
         ],
         "yaxis": "y",
         "type": "bar"
        },
        {
         "alignmentgroup": "True",
         "hovertemplate": "subreddit=%{x}<br>Comments=%{y}<extra></extra>",
         "legendgroup": "r/MemeEconomy",
         "marker": {
          "color": "#FF97FF",
          "pattern": {
           "shape": ""
          }
         },
         "name": "r/MemeEconomy",
         "offsetgroup": "r/MemeEconomy",
         "orientation": "v",
         "showlegend": true,
         "textposition": "auto",
         "x": [
          "r/MemeEconomy"
         ],
         "xaxis": "x",
         "y": [
          1439.0
         ],
         "yaxis": "y",
         "type": "bar"
        },
        {
         "alignmentgroup": "True",
         "hovertemplate": "subreddit=%{x}<br>Comments=%{y}<extra></extra>",
         "legendgroup": "r/BeAmazed",
         "marker": {
          "color": "#FECB52",
          "pattern": {
           "shape": ""
          }
         },
         "name": "r/BeAmazed",
         "offsetgroup": "r/BeAmazed",
         "orientation": "v",
         "showlegend": true,
         "textposition": "auto",
         "x": [
          "r/BeAmazed"
         ],
         "xaxis": "x",
         "y": [
          1315.0
         ],
         "yaxis": "y",
         "type": "bar"
        },
        {
         "alignmentgroup": "True",
         "hovertemplate": "subreddit=%{x}<br>Comments=%{y}<extra></extra>",
         "legendgroup": "r/OldSchoolCool",
         "marker": {
          "color": "#636efa",
          "pattern": {
           "shape": ""
          }
         },
         "name": "r/OldSchoolCool",
         "offsetgroup": "r/OldSchoolCool",
         "orientation": "v",
         "showlegend": true,
         "textposition": "auto",
         "x": [
          "r/OldSchoolCool"
         ],
         "xaxis": "x",
         "y": [
          1290.0
         ],
         "yaxis": "y",
         "type": "bar"
        },
        {
         "alignmentgroup": "True",
         "hovertemplate": "subreddit=%{x}<br>Comments=%{y}<extra></extra>",
         "legendgroup": "r/lotrmemes",
         "marker": {
          "color": "#EF553B",
          "pattern": {
           "shape": ""
          }
         },
         "name": "r/lotrmemes",
         "offsetgroup": "r/lotrmemes",
         "orientation": "v",
         "showlegend": true,
         "textposition": "auto",
         "x": [
          "r/lotrmemes"
         ],
         "xaxis": "x",
         "y": [
          1269.0
         ],
         "yaxis": "y",
         "type": "bar"
        },
        {
         "alignmentgroup": "True",
         "hovertemplate": "subreddit=%{x}<br>Comments=%{y}<extra></extra>",
         "legendgroup": "r/PoliticalHumor",
         "marker": {
          "color": "#00cc96",
          "pattern": {
           "shape": ""
          }
         },
         "name": "r/PoliticalHumor",
         "offsetgroup": "r/PoliticalHumor",
         "orientation": "v",
         "showlegend": true,
         "textposition": "auto",
         "x": [
          "r/PoliticalHumor"
         ],
         "xaxis": "x",
         "y": [
          1227.0
         ],
         "yaxis": "y",
         "type": "bar"
        },
        {
         "alignmentgroup": "True",
         "hovertemplate": "subreddit=%{x}<br>Comments=%{y}<extra></extra>",
         "legendgroup": "r/AyyMD",
         "marker": {
          "color": "#ab63fa",
          "pattern": {
           "shape": ""
          }
         },
         "name": "r/AyyMD",
         "offsetgroup": "r/AyyMD",
         "orientation": "v",
         "showlegend": true,
         "textposition": "auto",
         "x": [
          "r/AyyMD"
         ],
         "xaxis": "x",
         "y": [
          880.0
         ],
         "yaxis": "y",
         "type": "bar"
        },
        {
         "alignmentgroup": "True",
         "hovertemplate": "subreddit=%{x}<br>Comments=%{y}<extra></extra>",
         "legendgroup": "r/comics",
         "marker": {
          "color": "#FFA15A",
          "pattern": {
           "shape": ""
          }
         },
         "name": "r/comics",
         "offsetgroup": "r/comics",
         "orientation": "v",
         "showlegend": true,
         "textposition": "auto",
         "x": [
          "r/comics"
         ],
         "xaxis": "x",
         "y": [
          781.0
         ],
         "yaxis": "y",
         "type": "bar"
        }
       ],
       "layout": {
        "template": {
         "data": {
          "histogram2dcontour": [
           {
            "type": "histogram2dcontour",
            "colorbar": {
             "outlinewidth": 0,
             "ticks": ""
            },
            "colorscale": [
             [
              0.0,
              "#0d0887"
             ],
             [
              0.1111111111111111,
              "#46039f"
             ],
             [
              0.2222222222222222,
              "#7201a8"
             ],
             [
              0.3333333333333333,
              "#9c179e"
             ],
             [
              0.4444444444444444,
              "#bd3786"
             ],
             [
              0.5555555555555556,
              "#d8576b"
             ],
             [
              0.6666666666666666,
              "#ed7953"
             ],
             [
              0.7777777777777778,
              "#fb9f3a"
             ],
             [
              0.8888888888888888,
              "#fdca26"
             ],
             [
              1.0,
              "#f0f921"
             ]
            ]
           }
          ],
          "choropleth": [
           {
            "type": "choropleth",
            "colorbar": {
             "outlinewidth": 0,
             "ticks": ""
            }
           }
          ],
          "histogram2d": [
           {
            "type": "histogram2d",
            "colorbar": {
             "outlinewidth": 0,
             "ticks": ""
            },
            "colorscale": [
             [
              0.0,
              "#0d0887"
             ],
             [
              0.1111111111111111,
              "#46039f"
             ],
             [
              0.2222222222222222,
              "#7201a8"
             ],
             [
              0.3333333333333333,
              "#9c179e"
             ],
             [
              0.4444444444444444,
              "#bd3786"
             ],
             [
              0.5555555555555556,
              "#d8576b"
             ],
             [
              0.6666666666666666,
              "#ed7953"
             ],
             [
              0.7777777777777778,
              "#fb9f3a"
             ],
             [
              0.8888888888888888,
              "#fdca26"
             ],
             [
              1.0,
              "#f0f921"
             ]
            ]
           }
          ],
          "heatmap": [
           {
            "type": "heatmap",
            "colorbar": {
             "outlinewidth": 0,
             "ticks": ""
            },
            "colorscale": [
             [
              0.0,
              "#0d0887"
             ],
             [
              0.1111111111111111,
              "#46039f"
             ],
             [
              0.2222222222222222,
              "#7201a8"
             ],
             [
              0.3333333333333333,
              "#9c179e"
             ],
             [
              0.4444444444444444,
              "#bd3786"
             ],
             [
              0.5555555555555556,
              "#d8576b"
             ],
             [
              0.6666666666666666,
              "#ed7953"
             ],
             [
              0.7777777777777778,
              "#fb9f3a"
             ],
             [
              0.8888888888888888,
              "#fdca26"
             ],
             [
              1.0,
              "#f0f921"
             ]
            ]
           }
          ],
          "heatmapgl": [
           {
            "type": "heatmapgl",
            "colorbar": {
             "outlinewidth": 0,
             "ticks": ""
            },
            "colorscale": [
             [
              0.0,
              "#0d0887"
             ],
             [
              0.1111111111111111,
              "#46039f"
             ],
             [
              0.2222222222222222,
              "#7201a8"
             ],
             [
              0.3333333333333333,
              "#9c179e"
             ],
             [
              0.4444444444444444,
              "#bd3786"
             ],
             [
              0.5555555555555556,
              "#d8576b"
             ],
             [
              0.6666666666666666,
              "#ed7953"
             ],
             [
              0.7777777777777778,
              "#fb9f3a"
             ],
             [
              0.8888888888888888,
              "#fdca26"
             ],
             [
              1.0,
              "#f0f921"
             ]
            ]
           }
          ],
          "contourcarpet": [
           {
            "type": "contourcarpet",
            "colorbar": {
             "outlinewidth": 0,
             "ticks": ""
            }
           }
          ],
          "contour": [
           {
            "type": "contour",
            "colorbar": {
             "outlinewidth": 0,
             "ticks": ""
            },
            "colorscale": [
             [
              0.0,
              "#0d0887"
             ],
             [
              0.1111111111111111,
              "#46039f"
             ],
             [
              0.2222222222222222,
              "#7201a8"
             ],
             [
              0.3333333333333333,
              "#9c179e"
             ],
             [
              0.4444444444444444,
              "#bd3786"
             ],
             [
              0.5555555555555556,
              "#d8576b"
             ],
             [
              0.6666666666666666,
              "#ed7953"
             ],
             [
              0.7777777777777778,
              "#fb9f3a"
             ],
             [
              0.8888888888888888,
              "#fdca26"
             ],
             [
              1.0,
              "#f0f921"
             ]
            ]
           }
          ],
          "surface": [
           {
            "type": "surface",
            "colorbar": {
             "outlinewidth": 0,
             "ticks": ""
            },
            "colorscale": [
             [
              0.0,
              "#0d0887"
             ],
             [
              0.1111111111111111,
              "#46039f"
             ],
             [
              0.2222222222222222,
              "#7201a8"
             ],
             [
              0.3333333333333333,
              "#9c179e"
             ],
             [
              0.4444444444444444,
              "#bd3786"
             ],
             [
              0.5555555555555556,
              "#d8576b"
             ],
             [
              0.6666666666666666,
              "#ed7953"
             ],
             [
              0.7777777777777778,
              "#fb9f3a"
             ],
             [
              0.8888888888888888,
              "#fdca26"
             ],
             [
              1.0,
              "#f0f921"
             ]
            ]
           }
          ],
          "mesh3d": [
           {
            "type": "mesh3d",
            "colorbar": {
             "outlinewidth": 0,
             "ticks": ""
            }
           }
          ],
          "scatter": [
           {
            "fillpattern": {
             "fillmode": "overlay",
             "size": 10,
             "solidity": 0.2
            },
            "type": "scatter"
           }
          ],
          "parcoords": [
           {
            "type": "parcoords",
            "line": {
             "colorbar": {
              "outlinewidth": 0,
              "ticks": ""
             }
            }
           }
          ],
          "scatterpolargl": [
           {
            "type": "scatterpolargl",
            "marker": {
             "colorbar": {
              "outlinewidth": 0,
              "ticks": ""
             }
            }
           }
          ],
          "bar": [
           {
            "error_x": {
             "color": "#2a3f5f"
            },
            "error_y": {
             "color": "#2a3f5f"
            },
            "marker": {
             "line": {
              "color": "#E5ECF6",
              "width": 0.5
             },
             "pattern": {
              "fillmode": "overlay",
              "size": 10,
              "solidity": 0.2
             }
            },
            "type": "bar"
           }
          ],
          "scattergeo": [
           {
            "type": "scattergeo",
            "marker": {
             "colorbar": {
              "outlinewidth": 0,
              "ticks": ""
             }
            }
           }
          ],
          "scatterpolar": [
           {
            "type": "scatterpolar",
            "marker": {
             "colorbar": {
              "outlinewidth": 0,
              "ticks": ""
             }
            }
           }
          ],
          "histogram": [
           {
            "marker": {
             "pattern": {
              "fillmode": "overlay",
              "size": 10,
              "solidity": 0.2
             }
            },
            "type": "histogram"
           }
          ],
          "scattergl": [
           {
            "type": "scattergl",
            "marker": {
             "colorbar": {
              "outlinewidth": 0,
              "ticks": ""
             }
            }
           }
          ],
          "scatter3d": [
           {
            "type": "scatter3d",
            "line": {
             "colorbar": {
              "outlinewidth": 0,
              "ticks": ""
             }
            },
            "marker": {
             "colorbar": {
              "outlinewidth": 0,
              "ticks": ""
             }
            }
           }
          ],
          "scattermapbox": [
           {
            "type": "scattermapbox",
            "marker": {
             "colorbar": {
              "outlinewidth": 0,
              "ticks": ""
             }
            }
           }
          ],
          "scatterternary": [
           {
            "type": "scatterternary",
            "marker": {
             "colorbar": {
              "outlinewidth": 0,
              "ticks": ""
             }
            }
           }
          ],
          "scattercarpet": [
           {
            "type": "scattercarpet",
            "marker": {
             "colorbar": {
              "outlinewidth": 0,
              "ticks": ""
             }
            }
           }
          ],
          "carpet": [
           {
            "aaxis": {
             "endlinecolor": "#2a3f5f",
             "gridcolor": "white",
             "linecolor": "white",
             "minorgridcolor": "white",
             "startlinecolor": "#2a3f5f"
            },
            "baxis": {
             "endlinecolor": "#2a3f5f",
             "gridcolor": "white",
             "linecolor": "white",
             "minorgridcolor": "white",
             "startlinecolor": "#2a3f5f"
            },
            "type": "carpet"
           }
          ],
          "table": [
           {
            "cells": {
             "fill": {
              "color": "#EBF0F8"
             },
             "line": {
              "color": "white"
             }
            },
            "header": {
             "fill": {
              "color": "#C8D4E3"
             },
             "line": {
              "color": "white"
             }
            },
            "type": "table"
           }
          ],
          "barpolar": [
           {
            "marker": {
             "line": {
              "color": "#E5ECF6",
              "width": 0.5
             },
             "pattern": {
              "fillmode": "overlay",
              "size": 10,
              "solidity": 0.2
             }
            },
            "type": "barpolar"
           }
          ],
          "pie": [
           {
            "automargin": true,
            "type": "pie"
           }
          ]
         },
         "layout": {
          "autotypenumbers": "strict",
          "colorway": [
           "#636efa",
           "#EF553B",
           "#00cc96",
           "#ab63fa",
           "#FFA15A",
           "#19d3f3",
           "#FF6692",
           "#B6E880",
           "#FF97FF",
           "#FECB52"
          ],
          "font": {
           "color": "#2a3f5f"
          },
          "hovermode": "closest",
          "hoverlabel": {
           "align": "left"
          },
          "paper_bgcolor": "white",
          "plot_bgcolor": "#E5ECF6",
          "polar": {
           "bgcolor": "#E5ECF6",
           "angularaxis": {
            "gridcolor": "white",
            "linecolor": "white",
            "ticks": ""
           },
           "radialaxis": {
            "gridcolor": "white",
            "linecolor": "white",
            "ticks": ""
           }
          },
          "ternary": {
           "bgcolor": "#E5ECF6",
           "aaxis": {
            "gridcolor": "white",
            "linecolor": "white",
            "ticks": ""
           },
           "baxis": {
            "gridcolor": "white",
            "linecolor": "white",
            "ticks": ""
           },
           "caxis": {
            "gridcolor": "white",
            "linecolor": "white",
            "ticks": ""
           }
          },
          "coloraxis": {
           "colorbar": {
            "outlinewidth": 0,
            "ticks": ""
           }
          },
          "colorscale": {
           "sequential": [
            [
             0.0,
             "#0d0887"
            ],
            [
             0.1111111111111111,
             "#46039f"
            ],
            [
             0.2222222222222222,
             "#7201a8"
            ],
            [
             0.3333333333333333,
             "#9c179e"
            ],
            [
             0.4444444444444444,
             "#bd3786"
            ],
            [
             0.5555555555555556,
             "#d8576b"
            ],
            [
             0.6666666666666666,
             "#ed7953"
            ],
            [
             0.7777777777777778,
             "#fb9f3a"
            ],
            [
             0.8888888888888888,
             "#fdca26"
            ],
            [
             1.0,
             "#f0f921"
            ]
           ],
           "sequentialminus": [
            [
             0.0,
             "#0d0887"
            ],
            [
             0.1111111111111111,
             "#46039f"
            ],
            [
             0.2222222222222222,
             "#7201a8"
            ],
            [
             0.3333333333333333,
             "#9c179e"
            ],
            [
             0.4444444444444444,
             "#bd3786"
            ],
            [
             0.5555555555555556,
             "#d8576b"
            ],
            [
             0.6666666666666666,
             "#ed7953"
            ],
            [
             0.7777777777777778,
             "#fb9f3a"
            ],
            [
             0.8888888888888888,
             "#fdca26"
            ],
            [
             1.0,
             "#f0f921"
            ]
           ],
           "diverging": [
            [
             0,
             "#8e0152"
            ],
            [
             0.1,
             "#c51b7d"
            ],
            [
             0.2,
             "#de77ae"
            ],
            [
             0.3,
             "#f1b6da"
            ],
            [
             0.4,
             "#fde0ef"
            ],
            [
             0.5,
             "#f7f7f7"
            ],
            [
             0.6,
             "#e6f5d0"
            ],
            [
             0.7,
             "#b8e186"
            ],
            [
             0.8,
             "#7fbc41"
            ],
            [
             0.9,
             "#4d9221"
            ],
            [
             1,
             "#276419"
            ]
           ]
          },
          "xaxis": {
           "gridcolor": "white",
           "linecolor": "white",
           "ticks": "",
           "title": {
            "standoff": 15
           },
           "zerolinecolor": "white",
           "automargin": true,
           "zerolinewidth": 2
          },
          "yaxis": {
           "gridcolor": "white",
           "linecolor": "white",
           "ticks": "",
           "title": {
            "standoff": 15
           },
           "zerolinecolor": "white",
           "automargin": true,
           "zerolinewidth": 2
          },
          "scene": {
           "xaxis": {
            "backgroundcolor": "#E5ECF6",
            "gridcolor": "white",
            "linecolor": "white",
            "showbackground": true,
            "ticks": "",
            "zerolinecolor": "white",
            "gridwidth": 2
           },
           "yaxis": {
            "backgroundcolor": "#E5ECF6",
            "gridcolor": "white",
            "linecolor": "white",
            "showbackground": true,
            "ticks": "",
            "zerolinecolor": "white",
            "gridwidth": 2
           },
           "zaxis": {
            "backgroundcolor": "#E5ECF6",
            "gridcolor": "white",
            "linecolor": "white",
            "showbackground": true,
            "ticks": "",
            "zerolinecolor": "white",
            "gridwidth": 2
           }
          },
          "shapedefaults": {
           "line": {
            "color": "#2a3f5f"
           }
          },
          "annotationdefaults": {
           "arrowcolor": "#2a3f5f",
           "arrowhead": 0,
           "arrowwidth": 1
          },
          "geo": {
           "bgcolor": "white",
           "landcolor": "#E5ECF6",
           "subunitcolor": "white",
           "showland": true,
           "showlakes": true,
           "lakecolor": "white"
          },
          "title": {
           "x": 0.05
          },
          "mapbox": {
           "style": "light"
          }
         }
        },
        "xaxis": {
         "anchor": "y",
         "domain": [
          0.0,
          1.0
         ],
         "title": {
          "text": "subreddit"
         },
         "categoryorder": "array",
         "categoryarray": [
          "r/pics",
          "r/memes",
          "r/funny",
          "r/news",
          "r/wallstreetbets",
          "r/gaming",
          "r/nextfuckinglevel",
          "r/gifs",
          "r/aww",
          "r/PublicFreakout",
          "r/AskReddit",
          "r/worldnews",
          "r/interestingasfuck",
          "r/politics",
          "r/MurderedByWords",
          "r/videos",
          "r/pokemon",
          "r/todayilearned",
          "r/MadeMeSmile",
          "r/WatchPeopleDieInside",
          "r/thanosdidnothingwrong",
          "r/movies",
          "r/announcements",
          "r/WhitePeopleTwitter",
          "r/facepalm",
          "r/mildlyinteresting",
          "r/Showerthoughts",
          "r/awfuleverything",
          "r/Wellthatsucks",
          "r/teenagers",
          "r/IAmA",
          "r/IdiotsInCars",
          "r/space",
          "r/wholesomememes",
          "r/tifu",
          "r/technology",
          "r/JusticeServed",
          "r/me_irl",
          "r/LifeProTips",
          "r/iamatotalpieceofshit",
          "r/PrequelMemes",
          "r/trashy",
          "r/ChoosingBeggars",
          "r/PewdiepieSubmissions",
          "r/LeopardsAteMyFace",
          "r/BikiniBottomTwitter",
          "r/science",
          "r/Futurology",
          "r/dataisbeautiful",
          "r/insanepeoplefacebook",
          "r/UpliftingNews",
          "r/coolguides",
          "r/BlackPeopleTwitter",
          "r/The_Mueller",
          "r/oddlysatisfying",
          "r/Whatcouldgowrong",
          "r/nottheonion",
          "r/Coronavirus",
          "r/instant_regret",
          "r/gifsthatkeepongiving",
          "r/rickandmorty",
          "r/assholedesign",
          "r/Jokes",
          "r/GetMotivated",
          "r/pcmasterrace",
          "r/DunderMifflin",
          "r/HolUp",
          "r/StarWarsBattlefront",
          "r/quityourbullshit",
          "r/Damnthatsinteresting",
          "r/sports",
          "r/TwoXChromosomes",
          "r/Instagramreality",
          "r/books",
          "r/HongKong",
          "r/listentothis",
          "r/Music",
          "r/freefolk",
          "r/MemeEconomy",
          "r/BeAmazed",
          "r/OldSchoolCool",
          "r/lotrmemes",
          "r/PoliticalHumor",
          "r/AyyMD",
          "r/comics"
         ]
        },
        "yaxis": {
         "anchor": "x",
         "domain": [
          0.0,
          1.0
         ],
         "title": {
          "text": "Comments"
         }
        },
        "legend": {
         "title": {
          "text": "subreddit"
         },
         "tracegroupgap": 0
        },
        "title": {
         "text": "Total Comments by Subreddit"
        },
        "barmode": "relative",
        "height": 400
       },
       "config": {
        "plotlyServerURL": "https://plot.ly"
       }
      },
      "text/html": "<div>                            <div id=\"21c1f362-3e20-4443-9964-443af0a87fe1\" class=\"plotly-graph-div\" style=\"height:400px; width:100%;\"></div>            <script type=\"text/javascript\">                require([\"plotly\"], function(Plotly) {                    window.PLOTLYENV=window.PLOTLYENV || {};                                    if (document.getElementById(\"21c1f362-3e20-4443-9964-443af0a87fe1\")) {                    Plotly.newPlot(                        \"21c1f362-3e20-4443-9964-443af0a87fe1\",                        [{\"alignmentgroup\":\"True\",\"hovertemplate\":\"subreddit=%{x}\\u003cbr\\u003eComments=%{y}\\u003cextra\\u003e\\u003c\\u002fextra\\u003e\",\"legendgroup\":\"r\\u002fpics\",\"marker\":{\"color\":\"#636efa\",\"pattern\":{\"shape\":\"\"}},\"name\":\"r\\u002fpics\",\"offsetgroup\":\"r\\u002fpics\",\"orientation\":\"v\",\"showlegend\":true,\"textposition\":\"auto\",\"x\":[\"r\\u002fpics\"],\"xaxis\":\"x\",\"y\":[1491001.0],\"yaxis\":\"y\",\"type\":\"bar\"},{\"alignmentgroup\":\"True\",\"hovertemplate\":\"subreddit=%{x}\\u003cbr\\u003eComments=%{y}\\u003cextra\\u003e\\u003c\\u002fextra\\u003e\",\"legendgroup\":\"r\\u002fmemes\",\"marker\":{\"color\":\"#EF553B\",\"pattern\":{\"shape\":\"\"}},\"name\":\"r\\u002fmemes\",\"offsetgroup\":\"r\\u002fmemes\",\"orientation\":\"v\",\"showlegend\":true,\"textposition\":\"auto\",\"x\":[\"r\\u002fmemes\"],\"xaxis\":\"x\",\"y\":[698821.0],\"yaxis\":\"y\",\"type\":\"bar\"},{\"alignmentgroup\":\"True\",\"hovertemplate\":\"subreddit=%{x}\\u003cbr\\u003eComments=%{y}\\u003cextra\\u003e\\u003c\\u002fextra\\u003e\",\"legendgroup\":\"r\\u002ffunny\",\"marker\":{\"color\":\"#00cc96\",\"pattern\":{\"shape\":\"\"}},\"name\":\"r\\u002ffunny\",\"offsetgroup\":\"r\\u002ffunny\",\"orientation\":\"v\",\"showlegend\":true,\"textposition\":\"auto\",\"x\":[\"r\\u002ffunny\"],\"xaxis\":\"x\",\"y\":[496083.0],\"yaxis\":\"y\",\"type\":\"bar\"},{\"alignmentgroup\":\"True\",\"hovertemplate\":\"subreddit=%{x}\\u003cbr\\u003eComments=%{y}\\u003cextra\\u003e\\u003c\\u002fextra\\u003e\",\"legendgroup\":\"r\\u002fnews\",\"marker\":{\"color\":\"#ab63fa\",\"pattern\":{\"shape\":\"\"}},\"name\":\"r\\u002fnews\",\"offsetgroup\":\"r\\u002fnews\",\"orientation\":\"v\",\"showlegend\":true,\"textposition\":\"auto\",\"x\":[\"r\\u002fnews\"],\"xaxis\":\"x\",\"y\":[475256.0],\"yaxis\":\"y\",\"type\":\"bar\"},{\"alignmentgroup\":\"True\",\"hovertemplate\":\"subreddit=%{x}\\u003cbr\\u003eComments=%{y}\\u003cextra\\u003e\\u003c\\u002fextra\\u003e\",\"legendgroup\":\"r\\u002fwallstreetbets\",\"marker\":{\"color\":\"#FFA15A\",\"pattern\":{\"shape\":\"\"}},\"name\":\"r\\u002fwallstreetbets\",\"offsetgroup\":\"r\\u002fwallstreetbets\",\"orientation\":\"v\",\"showlegend\":true,\"textposition\":\"auto\",\"x\":[\"r\\u002fwallstreetbets\"],\"xaxis\":\"x\",\"y\":[408643.0],\"yaxis\":\"y\",\"type\":\"bar\"},{\"alignmentgroup\":\"True\",\"hovertemplate\":\"subreddit=%{x}\\u003cbr\\u003eComments=%{y}\\u003cextra\\u003e\\u003c\\u002fextra\\u003e\",\"legendgroup\":\"r\\u002fgaming\",\"marker\":{\"color\":\"#19d3f3\",\"pattern\":{\"shape\":\"\"}},\"name\":\"r\\u002fgaming\",\"offsetgroup\":\"r\\u002fgaming\",\"orientation\":\"v\",\"showlegend\":true,\"textposition\":\"auto\",\"x\":[\"r\\u002fgaming\"],\"xaxis\":\"x\",\"y\":[384739.0],\"yaxis\":\"y\",\"type\":\"bar\"},{\"alignmentgroup\":\"True\",\"hovertemplate\":\"subreddit=%{x}\\u003cbr\\u003eComments=%{y}\\u003cextra\\u003e\\u003c\\u002fextra\\u003e\",\"legendgroup\":\"r\\u002fnextfuckinglevel\",\"marker\":{\"color\":\"#FF6692\",\"pattern\":{\"shape\":\"\"}},\"name\":\"r\\u002fnextfuckinglevel\",\"offsetgroup\":\"r\\u002fnextfuckinglevel\",\"orientation\":\"v\",\"showlegend\":true,\"textposition\":\"auto\",\"x\":[\"r\\u002fnextfuckinglevel\"],\"xaxis\":\"x\",\"y\":[375834.0],\"yaxis\":\"y\",\"type\":\"bar\"},{\"alignmentgroup\":\"True\",\"hovertemplate\":\"subreddit=%{x}\\u003cbr\\u003eComments=%{y}\\u003cextra\\u003e\\u003c\\u002fextra\\u003e\",\"legendgroup\":\"r\\u002fgifs\",\"marker\":{\"color\":\"#B6E880\",\"pattern\":{\"shape\":\"\"}},\"name\":\"r\\u002fgifs\",\"offsetgroup\":\"r\\u002fgifs\",\"orientation\":\"v\",\"showlegend\":true,\"textposition\":\"auto\",\"x\":[\"r\\u002fgifs\"],\"xaxis\":\"x\",\"y\":[363398.0],\"yaxis\":\"y\",\"type\":\"bar\"},{\"alignmentgroup\":\"True\",\"hovertemplate\":\"subreddit=%{x}\\u003cbr\\u003eComments=%{y}\\u003cextra\\u003e\\u003c\\u002fextra\\u003e\",\"legendgroup\":\"r\\u002faww\",\"marker\":{\"color\":\"#FF97FF\",\"pattern\":{\"shape\":\"\"}},\"name\":\"r\\u002faww\",\"offsetgroup\":\"r\\u002faww\",\"orientation\":\"v\",\"showlegend\":true,\"textposition\":\"auto\",\"x\":[\"r\\u002faww\"],\"xaxis\":\"x\",\"y\":[279779.0],\"yaxis\":\"y\",\"type\":\"bar\"},{\"alignmentgroup\":\"True\",\"hovertemplate\":\"subreddit=%{x}\\u003cbr\\u003eComments=%{y}\\u003cextra\\u003e\\u003c\\u002fextra\\u003e\",\"legendgroup\":\"r\\u002fPublicFreakout\",\"marker\":{\"color\":\"#FECB52\",\"pattern\":{\"shape\":\"\"}},\"name\":\"r\\u002fPublicFreakout\",\"offsetgroup\":\"r\\u002fPublicFreakout\",\"orientation\":\"v\",\"showlegend\":true,\"textposition\":\"auto\",\"x\":[\"r\\u002fPublicFreakout\"],\"xaxis\":\"x\",\"y\":[263214.0],\"yaxis\":\"y\",\"type\":\"bar\"},{\"alignmentgroup\":\"True\",\"hovertemplate\":\"subreddit=%{x}\\u003cbr\\u003eComments=%{y}\\u003cextra\\u003e\\u003c\\u002fextra\\u003e\",\"legendgroup\":\"r\\u002fAskReddit\",\"marker\":{\"color\":\"#636efa\",\"pattern\":{\"shape\":\"\"}},\"name\":\"r\\u002fAskReddit\",\"offsetgroup\":\"r\\u002fAskReddit\",\"orientation\":\"v\",\"showlegend\":true,\"textposition\":\"auto\",\"x\":[\"r\\u002fAskReddit\"],\"xaxis\":\"x\",\"y\":[248042.0],\"yaxis\":\"y\",\"type\":\"bar\"},{\"alignmentgroup\":\"True\",\"hovertemplate\":\"subreddit=%{x}\\u003cbr\\u003eComments=%{y}\\u003cextra\\u003e\\u003c\\u002fextra\\u003e\",\"legendgroup\":\"r\\u002fworldnews\",\"marker\":{\"color\":\"#EF553B\",\"pattern\":{\"shape\":\"\"}},\"name\":\"r\\u002fworldnews\",\"offsetgroup\":\"r\\u002fworldnews\",\"orientation\":\"v\",\"showlegend\":true,\"textposition\":\"auto\",\"x\":[\"r\\u002fworldnews\"],\"xaxis\":\"x\",\"y\":[228812.0],\"yaxis\":\"y\",\"type\":\"bar\"},{\"alignmentgroup\":\"True\",\"hovertemplate\":\"subreddit=%{x}\\u003cbr\\u003eComments=%{y}\\u003cextra\\u003e\\u003c\\u002fextra\\u003e\",\"legendgroup\":\"r\\u002finterestingasfuck\",\"marker\":{\"color\":\"#00cc96\",\"pattern\":{\"shape\":\"\"}},\"name\":\"r\\u002finterestingasfuck\",\"offsetgroup\":\"r\\u002finterestingasfuck\",\"orientation\":\"v\",\"showlegend\":true,\"textposition\":\"auto\",\"x\":[\"r\\u002finterestingasfuck\"],\"xaxis\":\"x\",\"y\":[217781.0],\"yaxis\":\"y\",\"type\":\"bar\"},{\"alignmentgroup\":\"True\",\"hovertemplate\":\"subreddit=%{x}\\u003cbr\\u003eComments=%{y}\\u003cextra\\u003e\\u003c\\u002fextra\\u003e\",\"legendgroup\":\"r\\u002fpolitics\",\"marker\":{\"color\":\"#ab63fa\",\"pattern\":{\"shape\":\"\"}},\"name\":\"r\\u002fpolitics\",\"offsetgroup\":\"r\\u002fpolitics\",\"orientation\":\"v\",\"showlegend\":true,\"textposition\":\"auto\",\"x\":[\"r\\u002fpolitics\"],\"xaxis\":\"x\",\"y\":[171384.0],\"yaxis\":\"y\",\"type\":\"bar\"},{\"alignmentgroup\":\"True\",\"hovertemplate\":\"subreddit=%{x}\\u003cbr\\u003eComments=%{y}\\u003cextra\\u003e\\u003c\\u002fextra\\u003e\",\"legendgroup\":\"r\\u002fMurderedByWords\",\"marker\":{\"color\":\"#FFA15A\",\"pattern\":{\"shape\":\"\"}},\"name\":\"r\\u002fMurderedByWords\",\"offsetgroup\":\"r\\u002fMurderedByWords\",\"orientation\":\"v\",\"showlegend\":true,\"textposition\":\"auto\",\"x\":[\"r\\u002fMurderedByWords\"],\"xaxis\":\"x\",\"y\":[130562.0],\"yaxis\":\"y\",\"type\":\"bar\"},{\"alignmentgroup\":\"True\",\"hovertemplate\":\"subreddit=%{x}\\u003cbr\\u003eComments=%{y}\\u003cextra\\u003e\\u003c\\u002fextra\\u003e\",\"legendgroup\":\"r\\u002fvideos\",\"marker\":{\"color\":\"#19d3f3\",\"pattern\":{\"shape\":\"\"}},\"name\":\"r\\u002fvideos\",\"offsetgroup\":\"r\\u002fvideos\",\"orientation\":\"v\",\"showlegend\":true,\"textposition\":\"auto\",\"x\":[\"r\\u002fvideos\"],\"xaxis\":\"x\",\"y\":[83946.0],\"yaxis\":\"y\",\"type\":\"bar\"},{\"alignmentgroup\":\"True\",\"hovertemplate\":\"subreddit=%{x}\\u003cbr\\u003eComments=%{y}\\u003cextra\\u003e\\u003c\\u002fextra\\u003e\",\"legendgroup\":\"r\\u002fpokemon\",\"marker\":{\"color\":\"#FF6692\",\"pattern\":{\"shape\":\"\"}},\"name\":\"r\\u002fpokemon\",\"offsetgroup\":\"r\\u002fpokemon\",\"orientation\":\"v\",\"showlegend\":true,\"textposition\":\"auto\",\"x\":[\"r\\u002fpokemon\"],\"xaxis\":\"x\",\"y\":[77368.0],\"yaxis\":\"y\",\"type\":\"bar\"},{\"alignmentgroup\":\"True\",\"hovertemplate\":\"subreddit=%{x}\\u003cbr\\u003eComments=%{y}\\u003cextra\\u003e\\u003c\\u002fextra\\u003e\",\"legendgroup\":\"r\\u002ftodayilearned\",\"marker\":{\"color\":\"#B6E880\",\"pattern\":{\"shape\":\"\"}},\"name\":\"r\\u002ftodayilearned\",\"offsetgroup\":\"r\\u002ftodayilearned\",\"orientation\":\"v\",\"showlegend\":true,\"textposition\":\"auto\",\"x\":[\"r\\u002ftodayilearned\"],\"xaxis\":\"x\",\"y\":[76902.0],\"yaxis\":\"y\",\"type\":\"bar\"},{\"alignmentgroup\":\"True\",\"hovertemplate\":\"subreddit=%{x}\\u003cbr\\u003eComments=%{y}\\u003cextra\\u003e\\u003c\\u002fextra\\u003e\",\"legendgroup\":\"r\\u002fMadeMeSmile\",\"marker\":{\"color\":\"#FF97FF\",\"pattern\":{\"shape\":\"\"}},\"name\":\"r\\u002fMadeMeSmile\",\"offsetgroup\":\"r\\u002fMadeMeSmile\",\"orientation\":\"v\",\"showlegend\":true,\"textposition\":\"auto\",\"x\":[\"r\\u002fMadeMeSmile\"],\"xaxis\":\"x\",\"y\":[65111.0],\"yaxis\":\"y\",\"type\":\"bar\"},{\"alignmentgroup\":\"True\",\"hovertemplate\":\"subreddit=%{x}\\u003cbr\\u003eComments=%{y}\\u003cextra\\u003e\\u003c\\u002fextra\\u003e\",\"legendgroup\":\"r\\u002fWatchPeopleDieInside\",\"marker\":{\"color\":\"#FECB52\",\"pattern\":{\"shape\":\"\"}},\"name\":\"r\\u002fWatchPeopleDieInside\",\"offsetgroup\":\"r\\u002fWatchPeopleDieInside\",\"orientation\":\"v\",\"showlegend\":true,\"textposition\":\"auto\",\"x\":[\"r\\u002fWatchPeopleDieInside\"],\"xaxis\":\"x\",\"y\":[63731.0],\"yaxis\":\"y\",\"type\":\"bar\"},{\"alignmentgroup\":\"True\",\"hovertemplate\":\"subreddit=%{x}\\u003cbr\\u003eComments=%{y}\\u003cextra\\u003e\\u003c\\u002fextra\\u003e\",\"legendgroup\":\"r\\u002fthanosdidnothingwrong\",\"marker\":{\"color\":\"#636efa\",\"pattern\":{\"shape\":\"\"}},\"name\":\"r\\u002fthanosdidnothingwrong\",\"offsetgroup\":\"r\\u002fthanosdidnothingwrong\",\"orientation\":\"v\",\"showlegend\":true,\"textposition\":\"auto\",\"x\":[\"r\\u002fthanosdidnothingwrong\"],\"xaxis\":\"x\",\"y\":[55628.0],\"yaxis\":\"y\",\"type\":\"bar\"},{\"alignmentgroup\":\"True\",\"hovertemplate\":\"subreddit=%{x}\\u003cbr\\u003eComments=%{y}\\u003cextra\\u003e\\u003c\\u002fextra\\u003e\",\"legendgroup\":\"r\\u002fmovies\",\"marker\":{\"color\":\"#EF553B\",\"pattern\":{\"shape\":\"\"}},\"name\":\"r\\u002fmovies\",\"offsetgroup\":\"r\\u002fmovies\",\"orientation\":\"v\",\"showlegend\":true,\"textposition\":\"auto\",\"x\":[\"r\\u002fmovies\"],\"xaxis\":\"x\",\"y\":[50189.0],\"yaxis\":\"y\",\"type\":\"bar\"},{\"alignmentgroup\":\"True\",\"hovertemplate\":\"subreddit=%{x}\\u003cbr\\u003eComments=%{y}\\u003cextra\\u003e\\u003c\\u002fextra\\u003e\",\"legendgroup\":\"r\\u002fannouncements\",\"marker\":{\"color\":\"#00cc96\",\"pattern\":{\"shape\":\"\"}},\"name\":\"r\\u002fannouncements\",\"offsetgroup\":\"r\\u002fannouncements\",\"orientation\":\"v\",\"showlegend\":true,\"textposition\":\"auto\",\"x\":[\"r\\u002fannouncements\"],\"xaxis\":\"x\",\"y\":[45369.0],\"yaxis\":\"y\",\"type\":\"bar\"},{\"alignmentgroup\":\"True\",\"hovertemplate\":\"subreddit=%{x}\\u003cbr\\u003eComments=%{y}\\u003cextra\\u003e\\u003c\\u002fextra\\u003e\",\"legendgroup\":\"r\\u002fWhitePeopleTwitter\",\"marker\":{\"color\":\"#ab63fa\",\"pattern\":{\"shape\":\"\"}},\"name\":\"r\\u002fWhitePeopleTwitter\",\"offsetgroup\":\"r\\u002fWhitePeopleTwitter\",\"orientation\":\"v\",\"showlegend\":true,\"textposition\":\"auto\",\"x\":[\"r\\u002fWhitePeopleTwitter\"],\"xaxis\":\"x\",\"y\":[44859.0],\"yaxis\":\"y\",\"type\":\"bar\"},{\"alignmentgroup\":\"True\",\"hovertemplate\":\"subreddit=%{x}\\u003cbr\\u003eComments=%{y}\\u003cextra\\u003e\\u003c\\u002fextra\\u003e\",\"legendgroup\":\"r\\u002ffacepalm\",\"marker\":{\"color\":\"#FFA15A\",\"pattern\":{\"shape\":\"\"}},\"name\":\"r\\u002ffacepalm\",\"offsetgroup\":\"r\\u002ffacepalm\",\"orientation\":\"v\",\"showlegend\":true,\"textposition\":\"auto\",\"x\":[\"r\\u002ffacepalm\"],\"xaxis\":\"x\",\"y\":[43040.0],\"yaxis\":\"y\",\"type\":\"bar\"},{\"alignmentgroup\":\"True\",\"hovertemplate\":\"subreddit=%{x}\\u003cbr\\u003eComments=%{y}\\u003cextra\\u003e\\u003c\\u002fextra\\u003e\",\"legendgroup\":\"r\\u002fmildlyinteresting\",\"marker\":{\"color\":\"#19d3f3\",\"pattern\":{\"shape\":\"\"}},\"name\":\"r\\u002fmildlyinteresting\",\"offsetgroup\":\"r\\u002fmildlyinteresting\",\"orientation\":\"v\",\"showlegend\":true,\"textposition\":\"auto\",\"x\":[\"r\\u002fmildlyinteresting\"],\"xaxis\":\"x\",\"y\":[39558.0],\"yaxis\":\"y\",\"type\":\"bar\"},{\"alignmentgroup\":\"True\",\"hovertemplate\":\"subreddit=%{x}\\u003cbr\\u003eComments=%{y}\\u003cextra\\u003e\\u003c\\u002fextra\\u003e\",\"legendgroup\":\"r\\u002fShowerthoughts\",\"marker\":{\"color\":\"#FF6692\",\"pattern\":{\"shape\":\"\"}},\"name\":\"r\\u002fShowerthoughts\",\"offsetgroup\":\"r\\u002fShowerthoughts\",\"orientation\":\"v\",\"showlegend\":true,\"textposition\":\"auto\",\"x\":[\"r\\u002fShowerthoughts\"],\"xaxis\":\"x\",\"y\":[36043.0],\"yaxis\":\"y\",\"type\":\"bar\"},{\"alignmentgroup\":\"True\",\"hovertemplate\":\"subreddit=%{x}\\u003cbr\\u003eComments=%{y}\\u003cextra\\u003e\\u003c\\u002fextra\\u003e\",\"legendgroup\":\"r\\u002fawfuleverything\",\"marker\":{\"color\":\"#B6E880\",\"pattern\":{\"shape\":\"\"}},\"name\":\"r\\u002fawfuleverything\",\"offsetgroup\":\"r\\u002fawfuleverything\",\"orientation\":\"v\",\"showlegend\":true,\"textposition\":\"auto\",\"x\":[\"r\\u002fawfuleverything\"],\"xaxis\":\"x\",\"y\":[34154.0],\"yaxis\":\"y\",\"type\":\"bar\"},{\"alignmentgroup\":\"True\",\"hovertemplate\":\"subreddit=%{x}\\u003cbr\\u003eComments=%{y}\\u003cextra\\u003e\\u003c\\u002fextra\\u003e\",\"legendgroup\":\"r\\u002fWellthatsucks\",\"marker\":{\"color\":\"#FF97FF\",\"pattern\":{\"shape\":\"\"}},\"name\":\"r\\u002fWellthatsucks\",\"offsetgroup\":\"r\\u002fWellthatsucks\",\"orientation\":\"v\",\"showlegend\":true,\"textposition\":\"auto\",\"x\":[\"r\\u002fWellthatsucks\"],\"xaxis\":\"x\",\"y\":[33907.0],\"yaxis\":\"y\",\"type\":\"bar\"},{\"alignmentgroup\":\"True\",\"hovertemplate\":\"subreddit=%{x}\\u003cbr\\u003eComments=%{y}\\u003cextra\\u003e\\u003c\\u002fextra\\u003e\",\"legendgroup\":\"r\\u002fteenagers\",\"marker\":{\"color\":\"#FECB52\",\"pattern\":{\"shape\":\"\"}},\"name\":\"r\\u002fteenagers\",\"offsetgroup\":\"r\\u002fteenagers\",\"orientation\":\"v\",\"showlegend\":true,\"textposition\":\"auto\",\"x\":[\"r\\u002fteenagers\"],\"xaxis\":\"x\",\"y\":[30944.0],\"yaxis\":\"y\",\"type\":\"bar\"},{\"alignmentgroup\":\"True\",\"hovertemplate\":\"subreddit=%{x}\\u003cbr\\u003eComments=%{y}\\u003cextra\\u003e\\u003c\\u002fextra\\u003e\",\"legendgroup\":\"r\\u002fIAmA\",\"marker\":{\"color\":\"#636efa\",\"pattern\":{\"shape\":\"\"}},\"name\":\"r\\u002fIAmA\",\"offsetgroup\":\"r\\u002fIAmA\",\"orientation\":\"v\",\"showlegend\":true,\"textposition\":\"auto\",\"x\":[\"r\\u002fIAmA\"],\"xaxis\":\"x\",\"y\":[25552.0],\"yaxis\":\"y\",\"type\":\"bar\"},{\"alignmentgroup\":\"True\",\"hovertemplate\":\"subreddit=%{x}\\u003cbr\\u003eComments=%{y}\\u003cextra\\u003e\\u003c\\u002fextra\\u003e\",\"legendgroup\":\"r\\u002fIdiotsInCars\",\"marker\":{\"color\":\"#EF553B\",\"pattern\":{\"shape\":\"\"}},\"name\":\"r\\u002fIdiotsInCars\",\"offsetgroup\":\"r\\u002fIdiotsInCars\",\"orientation\":\"v\",\"showlegend\":true,\"textposition\":\"auto\",\"x\":[\"r\\u002fIdiotsInCars\"],\"xaxis\":\"x\",\"y\":[25455.0],\"yaxis\":\"y\",\"type\":\"bar\"},{\"alignmentgroup\":\"True\",\"hovertemplate\":\"subreddit=%{x}\\u003cbr\\u003eComments=%{y}\\u003cextra\\u003e\\u003c\\u002fextra\\u003e\",\"legendgroup\":\"r\\u002fspace\",\"marker\":{\"color\":\"#00cc96\",\"pattern\":{\"shape\":\"\"}},\"name\":\"r\\u002fspace\",\"offsetgroup\":\"r\\u002fspace\",\"orientation\":\"v\",\"showlegend\":true,\"textposition\":\"auto\",\"x\":[\"r\\u002fspace\"],\"xaxis\":\"x\",\"y\":[24966.0],\"yaxis\":\"y\",\"type\":\"bar\"},{\"alignmentgroup\":\"True\",\"hovertemplate\":\"subreddit=%{x}\\u003cbr\\u003eComments=%{y}\\u003cextra\\u003e\\u003c\\u002fextra\\u003e\",\"legendgroup\":\"r\\u002fwholesomememes\",\"marker\":{\"color\":\"#ab63fa\",\"pattern\":{\"shape\":\"\"}},\"name\":\"r\\u002fwholesomememes\",\"offsetgroup\":\"r\\u002fwholesomememes\",\"orientation\":\"v\",\"showlegend\":true,\"textposition\":\"auto\",\"x\":[\"r\\u002fwholesomememes\"],\"xaxis\":\"x\",\"y\":[23704.0],\"yaxis\":\"y\",\"type\":\"bar\"},{\"alignmentgroup\":\"True\",\"hovertemplate\":\"subreddit=%{x}\\u003cbr\\u003eComments=%{y}\\u003cextra\\u003e\\u003c\\u002fextra\\u003e\",\"legendgroup\":\"r\\u002ftifu\",\"marker\":{\"color\":\"#FFA15A\",\"pattern\":{\"shape\":\"\"}},\"name\":\"r\\u002ftifu\",\"offsetgroup\":\"r\\u002ftifu\",\"orientation\":\"v\",\"showlegend\":true,\"textposition\":\"auto\",\"x\":[\"r\\u002ftifu\"],\"xaxis\":\"x\",\"y\":[21631.0],\"yaxis\":\"y\",\"type\":\"bar\"},{\"alignmentgroup\":\"True\",\"hovertemplate\":\"subreddit=%{x}\\u003cbr\\u003eComments=%{y}\\u003cextra\\u003e\\u003c\\u002fextra\\u003e\",\"legendgroup\":\"r\\u002ftechnology\",\"marker\":{\"color\":\"#19d3f3\",\"pattern\":{\"shape\":\"\"}},\"name\":\"r\\u002ftechnology\",\"offsetgroup\":\"r\\u002ftechnology\",\"orientation\":\"v\",\"showlegend\":true,\"textposition\":\"auto\",\"x\":[\"r\\u002ftechnology\"],\"xaxis\":\"x\",\"y\":[18800.0],\"yaxis\":\"y\",\"type\":\"bar\"},{\"alignmentgroup\":\"True\",\"hovertemplate\":\"subreddit=%{x}\\u003cbr\\u003eComments=%{y}\\u003cextra\\u003e\\u003c\\u002fextra\\u003e\",\"legendgroup\":\"r\\u002fJusticeServed\",\"marker\":{\"color\":\"#FF6692\",\"pattern\":{\"shape\":\"\"}},\"name\":\"r\\u002fJusticeServed\",\"offsetgroup\":\"r\\u002fJusticeServed\",\"orientation\":\"v\",\"showlegend\":true,\"textposition\":\"auto\",\"x\":[\"r\\u002fJusticeServed\"],\"xaxis\":\"x\",\"y\":[15439.0],\"yaxis\":\"y\",\"type\":\"bar\"},{\"alignmentgroup\":\"True\",\"hovertemplate\":\"subreddit=%{x}\\u003cbr\\u003eComments=%{y}\\u003cextra\\u003e\\u003c\\u002fextra\\u003e\",\"legendgroup\":\"r\\u002fme_irl\",\"marker\":{\"color\":\"#B6E880\",\"pattern\":{\"shape\":\"\"}},\"name\":\"r\\u002fme_irl\",\"offsetgroup\":\"r\\u002fme_irl\",\"orientation\":\"v\",\"showlegend\":true,\"textposition\":\"auto\",\"x\":[\"r\\u002fme_irl\"],\"xaxis\":\"x\",\"y\":[15308.0],\"yaxis\":\"y\",\"type\":\"bar\"},{\"alignmentgroup\":\"True\",\"hovertemplate\":\"subreddit=%{x}\\u003cbr\\u003eComments=%{y}\\u003cextra\\u003e\\u003c\\u002fextra\\u003e\",\"legendgroup\":\"r\\u002fLifeProTips\",\"marker\":{\"color\":\"#FF97FF\",\"pattern\":{\"shape\":\"\"}},\"name\":\"r\\u002fLifeProTips\",\"offsetgroup\":\"r\\u002fLifeProTips\",\"orientation\":\"v\",\"showlegend\":true,\"textposition\":\"auto\",\"x\":[\"r\\u002fLifeProTips\"],\"xaxis\":\"x\",\"y\":[14635.0],\"yaxis\":\"y\",\"type\":\"bar\"},{\"alignmentgroup\":\"True\",\"hovertemplate\":\"subreddit=%{x}\\u003cbr\\u003eComments=%{y}\\u003cextra\\u003e\\u003c\\u002fextra\\u003e\",\"legendgroup\":\"r\\u002fiamatotalpieceofshit\",\"marker\":{\"color\":\"#FECB52\",\"pattern\":{\"shape\":\"\"}},\"name\":\"r\\u002fiamatotalpieceofshit\",\"offsetgroup\":\"r\\u002fiamatotalpieceofshit\",\"orientation\":\"v\",\"showlegend\":true,\"textposition\":\"auto\",\"x\":[\"r\\u002fiamatotalpieceofshit\"],\"xaxis\":\"x\",\"y\":[14420.0],\"yaxis\":\"y\",\"type\":\"bar\"},{\"alignmentgroup\":\"True\",\"hovertemplate\":\"subreddit=%{x}\\u003cbr\\u003eComments=%{y}\\u003cextra\\u003e\\u003c\\u002fextra\\u003e\",\"legendgroup\":\"r\\u002fPrequelMemes\",\"marker\":{\"color\":\"#636efa\",\"pattern\":{\"shape\":\"\"}},\"name\":\"r\\u002fPrequelMemes\",\"offsetgroup\":\"r\\u002fPrequelMemes\",\"orientation\":\"v\",\"showlegend\":true,\"textposition\":\"auto\",\"x\":[\"r\\u002fPrequelMemes\"],\"xaxis\":\"x\",\"y\":[14281.0],\"yaxis\":\"y\",\"type\":\"bar\"},{\"alignmentgroup\":\"True\",\"hovertemplate\":\"subreddit=%{x}\\u003cbr\\u003eComments=%{y}\\u003cextra\\u003e\\u003c\\u002fextra\\u003e\",\"legendgroup\":\"r\\u002ftrashy\",\"marker\":{\"color\":\"#EF553B\",\"pattern\":{\"shape\":\"\"}},\"name\":\"r\\u002ftrashy\",\"offsetgroup\":\"r\\u002ftrashy\",\"orientation\":\"v\",\"showlegend\":true,\"textposition\":\"auto\",\"x\":[\"r\\u002ftrashy\"],\"xaxis\":\"x\",\"y\":[13989.0],\"yaxis\":\"y\",\"type\":\"bar\"},{\"alignmentgroup\":\"True\",\"hovertemplate\":\"subreddit=%{x}\\u003cbr\\u003eComments=%{y}\\u003cextra\\u003e\\u003c\\u002fextra\\u003e\",\"legendgroup\":\"r\\u002fChoosingBeggars\",\"marker\":{\"color\":\"#00cc96\",\"pattern\":{\"shape\":\"\"}},\"name\":\"r\\u002fChoosingBeggars\",\"offsetgroup\":\"r\\u002fChoosingBeggars\",\"orientation\":\"v\",\"showlegend\":true,\"textposition\":\"auto\",\"x\":[\"r\\u002fChoosingBeggars\"],\"xaxis\":\"x\",\"y\":[11250.0],\"yaxis\":\"y\",\"type\":\"bar\"},{\"alignmentgroup\":\"True\",\"hovertemplate\":\"subreddit=%{x}\\u003cbr\\u003eComments=%{y}\\u003cextra\\u003e\\u003c\\u002fextra\\u003e\",\"legendgroup\":\"r\\u002fPewdiepieSubmissions\",\"marker\":{\"color\":\"#ab63fa\",\"pattern\":{\"shape\":\"\"}},\"name\":\"r\\u002fPewdiepieSubmissions\",\"offsetgroup\":\"r\\u002fPewdiepieSubmissions\",\"orientation\":\"v\",\"showlegend\":true,\"textposition\":\"auto\",\"x\":[\"r\\u002fPewdiepieSubmissions\"],\"xaxis\":\"x\",\"y\":[10456.0],\"yaxis\":\"y\",\"type\":\"bar\"},{\"alignmentgroup\":\"True\",\"hovertemplate\":\"subreddit=%{x}\\u003cbr\\u003eComments=%{y}\\u003cextra\\u003e\\u003c\\u002fextra\\u003e\",\"legendgroup\":\"r\\u002fLeopardsAteMyFace\",\"marker\":{\"color\":\"#FFA15A\",\"pattern\":{\"shape\":\"\"}},\"name\":\"r\\u002fLeopardsAteMyFace\",\"offsetgroup\":\"r\\u002fLeopardsAteMyFace\",\"orientation\":\"v\",\"showlegend\":true,\"textposition\":\"auto\",\"x\":[\"r\\u002fLeopardsAteMyFace\"],\"xaxis\":\"x\",\"y\":[10072.0],\"yaxis\":\"y\",\"type\":\"bar\"},{\"alignmentgroup\":\"True\",\"hovertemplate\":\"subreddit=%{x}\\u003cbr\\u003eComments=%{y}\\u003cextra\\u003e\\u003c\\u002fextra\\u003e\",\"legendgroup\":\"r\\u002fBikiniBottomTwitter\",\"marker\":{\"color\":\"#19d3f3\",\"pattern\":{\"shape\":\"\"}},\"name\":\"r\\u002fBikiniBottomTwitter\",\"offsetgroup\":\"r\\u002fBikiniBottomTwitter\",\"orientation\":\"v\",\"showlegend\":true,\"textposition\":\"auto\",\"x\":[\"r\\u002fBikiniBottomTwitter\"],\"xaxis\":\"x\",\"y\":[9769.0],\"yaxis\":\"y\",\"type\":\"bar\"},{\"alignmentgroup\":\"True\",\"hovertemplate\":\"subreddit=%{x}\\u003cbr\\u003eComments=%{y}\\u003cextra\\u003e\\u003c\\u002fextra\\u003e\",\"legendgroup\":\"r\\u002fscience\",\"marker\":{\"color\":\"#FF6692\",\"pattern\":{\"shape\":\"\"}},\"name\":\"r\\u002fscience\",\"offsetgroup\":\"r\\u002fscience\",\"orientation\":\"v\",\"showlegend\":true,\"textposition\":\"auto\",\"x\":[\"r\\u002fscience\"],\"xaxis\":\"x\",\"y\":[9344.0],\"yaxis\":\"y\",\"type\":\"bar\"},{\"alignmentgroup\":\"True\",\"hovertemplate\":\"subreddit=%{x}\\u003cbr\\u003eComments=%{y}\\u003cextra\\u003e\\u003c\\u002fextra\\u003e\",\"legendgroup\":\"r\\u002fFuturology\",\"marker\":{\"color\":\"#B6E880\",\"pattern\":{\"shape\":\"\"}},\"name\":\"r\\u002fFuturology\",\"offsetgroup\":\"r\\u002fFuturology\",\"orientation\":\"v\",\"showlegend\":true,\"textposition\":\"auto\",\"x\":[\"r\\u002fFuturology\"],\"xaxis\":\"x\",\"y\":[7899.0],\"yaxis\":\"y\",\"type\":\"bar\"},{\"alignmentgroup\":\"True\",\"hovertemplate\":\"subreddit=%{x}\\u003cbr\\u003eComments=%{y}\\u003cextra\\u003e\\u003c\\u002fextra\\u003e\",\"legendgroup\":\"r\\u002fdataisbeautiful\",\"marker\":{\"color\":\"#FF97FF\",\"pattern\":{\"shape\":\"\"}},\"name\":\"r\\u002fdataisbeautiful\",\"offsetgroup\":\"r\\u002fdataisbeautiful\",\"orientation\":\"v\",\"showlegend\":true,\"textposition\":\"auto\",\"x\":[\"r\\u002fdataisbeautiful\"],\"xaxis\":\"x\",\"y\":[7661.0],\"yaxis\":\"y\",\"type\":\"bar\"},{\"alignmentgroup\":\"True\",\"hovertemplate\":\"subreddit=%{x}\\u003cbr\\u003eComments=%{y}\\u003cextra\\u003e\\u003c\\u002fextra\\u003e\",\"legendgroup\":\"r\\u002finsanepeoplefacebook\",\"marker\":{\"color\":\"#FECB52\",\"pattern\":{\"shape\":\"\"}},\"name\":\"r\\u002finsanepeoplefacebook\",\"offsetgroup\":\"r\\u002finsanepeoplefacebook\",\"orientation\":\"v\",\"showlegend\":true,\"textposition\":\"auto\",\"x\":[\"r\\u002finsanepeoplefacebook\"],\"xaxis\":\"x\",\"y\":[6936.0],\"yaxis\":\"y\",\"type\":\"bar\"},{\"alignmentgroup\":\"True\",\"hovertemplate\":\"subreddit=%{x}\\u003cbr\\u003eComments=%{y}\\u003cextra\\u003e\\u003c\\u002fextra\\u003e\",\"legendgroup\":\"r\\u002fUpliftingNews\",\"marker\":{\"color\":\"#636efa\",\"pattern\":{\"shape\":\"\"}},\"name\":\"r\\u002fUpliftingNews\",\"offsetgroup\":\"r\\u002fUpliftingNews\",\"orientation\":\"v\",\"showlegend\":true,\"textposition\":\"auto\",\"x\":[\"r\\u002fUpliftingNews\"],\"xaxis\":\"x\",\"y\":[5777.0],\"yaxis\":\"y\",\"type\":\"bar\"},{\"alignmentgroup\":\"True\",\"hovertemplate\":\"subreddit=%{x}\\u003cbr\\u003eComments=%{y}\\u003cextra\\u003e\\u003c\\u002fextra\\u003e\",\"legendgroup\":\"r\\u002fcoolguides\",\"marker\":{\"color\":\"#EF553B\",\"pattern\":{\"shape\":\"\"}},\"name\":\"r\\u002fcoolguides\",\"offsetgroup\":\"r\\u002fcoolguides\",\"orientation\":\"v\",\"showlegend\":true,\"textposition\":\"auto\",\"x\":[\"r\\u002fcoolguides\"],\"xaxis\":\"x\",\"y\":[5504.0],\"yaxis\":\"y\",\"type\":\"bar\"},{\"alignmentgroup\":\"True\",\"hovertemplate\":\"subreddit=%{x}\\u003cbr\\u003eComments=%{y}\\u003cextra\\u003e\\u003c\\u002fextra\\u003e\",\"legendgroup\":\"r\\u002fBlackPeopleTwitter\",\"marker\":{\"color\":\"#00cc96\",\"pattern\":{\"shape\":\"\"}},\"name\":\"r\\u002fBlackPeopleTwitter\",\"offsetgroup\":\"r\\u002fBlackPeopleTwitter\",\"orientation\":\"v\",\"showlegend\":true,\"textposition\":\"auto\",\"x\":[\"r\\u002fBlackPeopleTwitter\"],\"xaxis\":\"x\",\"y\":[4979.0],\"yaxis\":\"y\",\"type\":\"bar\"},{\"alignmentgroup\":\"True\",\"hovertemplate\":\"subreddit=%{x}\\u003cbr\\u003eComments=%{y}\\u003cextra\\u003e\\u003c\\u002fextra\\u003e\",\"legendgroup\":\"r\\u002fThe_Mueller\",\"marker\":{\"color\":\"#ab63fa\",\"pattern\":{\"shape\":\"\"}},\"name\":\"r\\u002fThe_Mueller\",\"offsetgroup\":\"r\\u002fThe_Mueller\",\"orientation\":\"v\",\"showlegend\":true,\"textposition\":\"auto\",\"x\":[\"r\\u002fThe_Mueller\"],\"xaxis\":\"x\",\"y\":[4903.0],\"yaxis\":\"y\",\"type\":\"bar\"},{\"alignmentgroup\":\"True\",\"hovertemplate\":\"subreddit=%{x}\\u003cbr\\u003eComments=%{y}\\u003cextra\\u003e\\u003c\\u002fextra\\u003e\",\"legendgroup\":\"r\\u002foddlysatisfying\",\"marker\":{\"color\":\"#FFA15A\",\"pattern\":{\"shape\":\"\"}},\"name\":\"r\\u002foddlysatisfying\",\"offsetgroup\":\"r\\u002foddlysatisfying\",\"orientation\":\"v\",\"showlegend\":true,\"textposition\":\"auto\",\"x\":[\"r\\u002foddlysatisfying\"],\"xaxis\":\"x\",\"y\":[4819.0],\"yaxis\":\"y\",\"type\":\"bar\"},{\"alignmentgroup\":\"True\",\"hovertemplate\":\"subreddit=%{x}\\u003cbr\\u003eComments=%{y}\\u003cextra\\u003e\\u003c\\u002fextra\\u003e\",\"legendgroup\":\"r\\u002fWhatcouldgowrong\",\"marker\":{\"color\":\"#19d3f3\",\"pattern\":{\"shape\":\"\"}},\"name\":\"r\\u002fWhatcouldgowrong\",\"offsetgroup\":\"r\\u002fWhatcouldgowrong\",\"orientation\":\"v\",\"showlegend\":true,\"textposition\":\"auto\",\"x\":[\"r\\u002fWhatcouldgowrong\"],\"xaxis\":\"x\",\"y\":[4519.0],\"yaxis\":\"y\",\"type\":\"bar\"},{\"alignmentgroup\":\"True\",\"hovertemplate\":\"subreddit=%{x}\\u003cbr\\u003eComments=%{y}\\u003cextra\\u003e\\u003c\\u002fextra\\u003e\",\"legendgroup\":\"r\\u002fnottheonion\",\"marker\":{\"color\":\"#FF6692\",\"pattern\":{\"shape\":\"\"}},\"name\":\"r\\u002fnottheonion\",\"offsetgroup\":\"r\\u002fnottheonion\",\"orientation\":\"v\",\"showlegend\":true,\"textposition\":\"auto\",\"x\":[\"r\\u002fnottheonion\"],\"xaxis\":\"x\",\"y\":[4368.0],\"yaxis\":\"y\",\"type\":\"bar\"},{\"alignmentgroup\":\"True\",\"hovertemplate\":\"subreddit=%{x}\\u003cbr\\u003eComments=%{y}\\u003cextra\\u003e\\u003c\\u002fextra\\u003e\",\"legendgroup\":\"r\\u002fCoronavirus\",\"marker\":{\"color\":\"#B6E880\",\"pattern\":{\"shape\":\"\"}},\"name\":\"r\\u002fCoronavirus\",\"offsetgroup\":\"r\\u002fCoronavirus\",\"orientation\":\"v\",\"showlegend\":true,\"textposition\":\"auto\",\"x\":[\"r\\u002fCoronavirus\"],\"xaxis\":\"x\",\"y\":[4346.0],\"yaxis\":\"y\",\"type\":\"bar\"},{\"alignmentgroup\":\"True\",\"hovertemplate\":\"subreddit=%{x}\\u003cbr\\u003eComments=%{y}\\u003cextra\\u003e\\u003c\\u002fextra\\u003e\",\"legendgroup\":\"r\\u002finstant_regret\",\"marker\":{\"color\":\"#FF97FF\",\"pattern\":{\"shape\":\"\"}},\"name\":\"r\\u002finstant_regret\",\"offsetgroup\":\"r\\u002finstant_regret\",\"orientation\":\"v\",\"showlegend\":true,\"textposition\":\"auto\",\"x\":[\"r\\u002finstant_regret\"],\"xaxis\":\"x\",\"y\":[4278.0],\"yaxis\":\"y\",\"type\":\"bar\"},{\"alignmentgroup\":\"True\",\"hovertemplate\":\"subreddit=%{x}\\u003cbr\\u003eComments=%{y}\\u003cextra\\u003e\\u003c\\u002fextra\\u003e\",\"legendgroup\":\"r\\u002fgifsthatkeepongiving\",\"marker\":{\"color\":\"#FECB52\",\"pattern\":{\"shape\":\"\"}},\"name\":\"r\\u002fgifsthatkeepongiving\",\"offsetgroup\":\"r\\u002fgifsthatkeepongiving\",\"orientation\":\"v\",\"showlegend\":true,\"textposition\":\"auto\",\"x\":[\"r\\u002fgifsthatkeepongiving\"],\"xaxis\":\"x\",\"y\":[4228.0],\"yaxis\":\"y\",\"type\":\"bar\"},{\"alignmentgroup\":\"True\",\"hovertemplate\":\"subreddit=%{x}\\u003cbr\\u003eComments=%{y}\\u003cextra\\u003e\\u003c\\u002fextra\\u003e\",\"legendgroup\":\"r\\u002frickandmorty\",\"marker\":{\"color\":\"#636efa\",\"pattern\":{\"shape\":\"\"}},\"name\":\"r\\u002frickandmorty\",\"offsetgroup\":\"r\\u002frickandmorty\",\"orientation\":\"v\",\"showlegend\":true,\"textposition\":\"auto\",\"x\":[\"r\\u002frickandmorty\"],\"xaxis\":\"x\",\"y\":[3984.0],\"yaxis\":\"y\",\"type\":\"bar\"},{\"alignmentgroup\":\"True\",\"hovertemplate\":\"subreddit=%{x}\\u003cbr\\u003eComments=%{y}\\u003cextra\\u003e\\u003c\\u002fextra\\u003e\",\"legendgroup\":\"r\\u002fassholedesign\",\"marker\":{\"color\":\"#EF553B\",\"pattern\":{\"shape\":\"\"}},\"name\":\"r\\u002fassholedesign\",\"offsetgroup\":\"r\\u002fassholedesign\",\"orientation\":\"v\",\"showlegend\":true,\"textposition\":\"auto\",\"x\":[\"r\\u002fassholedesign\"],\"xaxis\":\"x\",\"y\":[3609.0],\"yaxis\":\"y\",\"type\":\"bar\"},{\"alignmentgroup\":\"True\",\"hovertemplate\":\"subreddit=%{x}\\u003cbr\\u003eComments=%{y}\\u003cextra\\u003e\\u003c\\u002fextra\\u003e\",\"legendgroup\":\"r\\u002fJokes\",\"marker\":{\"color\":\"#00cc96\",\"pattern\":{\"shape\":\"\"}},\"name\":\"r\\u002fJokes\",\"offsetgroup\":\"r\\u002fJokes\",\"orientation\":\"v\",\"showlegend\":true,\"textposition\":\"auto\",\"x\":[\"r\\u002fJokes\"],\"xaxis\":\"x\",\"y\":[3412.0],\"yaxis\":\"y\",\"type\":\"bar\"},{\"alignmentgroup\":\"True\",\"hovertemplate\":\"subreddit=%{x}\\u003cbr\\u003eComments=%{y}\\u003cextra\\u003e\\u003c\\u002fextra\\u003e\",\"legendgroup\":\"r\\u002fGetMotivated\",\"marker\":{\"color\":\"#ab63fa\",\"pattern\":{\"shape\":\"\"}},\"name\":\"r\\u002fGetMotivated\",\"offsetgroup\":\"r\\u002fGetMotivated\",\"orientation\":\"v\",\"showlegend\":true,\"textposition\":\"auto\",\"x\":[\"r\\u002fGetMotivated\"],\"xaxis\":\"x\",\"y\":[3317.0],\"yaxis\":\"y\",\"type\":\"bar\"},{\"alignmentgroup\":\"True\",\"hovertemplate\":\"subreddit=%{x}\\u003cbr\\u003eComments=%{y}\\u003cextra\\u003e\\u003c\\u002fextra\\u003e\",\"legendgroup\":\"r\\u002fpcmasterrace\",\"marker\":{\"color\":\"#FFA15A\",\"pattern\":{\"shape\":\"\"}},\"name\":\"r\\u002fpcmasterrace\",\"offsetgroup\":\"r\\u002fpcmasterrace\",\"orientation\":\"v\",\"showlegend\":true,\"textposition\":\"auto\",\"x\":[\"r\\u002fpcmasterrace\"],\"xaxis\":\"x\",\"y\":[3084.0],\"yaxis\":\"y\",\"type\":\"bar\"},{\"alignmentgroup\":\"True\",\"hovertemplate\":\"subreddit=%{x}\\u003cbr\\u003eComments=%{y}\\u003cextra\\u003e\\u003c\\u002fextra\\u003e\",\"legendgroup\":\"r\\u002fDunderMifflin\",\"marker\":{\"color\":\"#19d3f3\",\"pattern\":{\"shape\":\"\"}},\"name\":\"r\\u002fDunderMifflin\",\"offsetgroup\":\"r\\u002fDunderMifflin\",\"orientation\":\"v\",\"showlegend\":true,\"textposition\":\"auto\",\"x\":[\"r\\u002fDunderMifflin\"],\"xaxis\":\"x\",\"y\":[2974.0],\"yaxis\":\"y\",\"type\":\"bar\"},{\"alignmentgroup\":\"True\",\"hovertemplate\":\"subreddit=%{x}\\u003cbr\\u003eComments=%{y}\\u003cextra\\u003e\\u003c\\u002fextra\\u003e\",\"legendgroup\":\"r\\u002fHolUp\",\"marker\":{\"color\":\"#FF6692\",\"pattern\":{\"shape\":\"\"}},\"name\":\"r\\u002fHolUp\",\"offsetgroup\":\"r\\u002fHolUp\",\"orientation\":\"v\",\"showlegend\":true,\"textposition\":\"auto\",\"x\":[\"r\\u002fHolUp\"],\"xaxis\":\"x\",\"y\":[2818.0],\"yaxis\":\"y\",\"type\":\"bar\"},{\"alignmentgroup\":\"True\",\"hovertemplate\":\"subreddit=%{x}\\u003cbr\\u003eComments=%{y}\\u003cextra\\u003e\\u003c\\u002fextra\\u003e\",\"legendgroup\":\"r\\u002fStarWarsBattlefront\",\"marker\":{\"color\":\"#B6E880\",\"pattern\":{\"shape\":\"\"}},\"name\":\"r\\u002fStarWarsBattlefront\",\"offsetgroup\":\"r\\u002fStarWarsBattlefront\",\"orientation\":\"v\",\"showlegend\":true,\"textposition\":\"auto\",\"x\":[\"r\\u002fStarWarsBattlefront\"],\"xaxis\":\"x\",\"y\":[2754.0],\"yaxis\":\"y\",\"type\":\"bar\"},{\"alignmentgroup\":\"True\",\"hovertemplate\":\"subreddit=%{x}\\u003cbr\\u003eComments=%{y}\\u003cextra\\u003e\\u003c\\u002fextra\\u003e\",\"legendgroup\":\"r\\u002fquityourbullshit\",\"marker\":{\"color\":\"#FF97FF\",\"pattern\":{\"shape\":\"\"}},\"name\":\"r\\u002fquityourbullshit\",\"offsetgroup\":\"r\\u002fquityourbullshit\",\"orientation\":\"v\",\"showlegend\":true,\"textposition\":\"auto\",\"x\":[\"r\\u002fquityourbullshit\"],\"xaxis\":\"x\",\"y\":[2676.0],\"yaxis\":\"y\",\"type\":\"bar\"},{\"alignmentgroup\":\"True\",\"hovertemplate\":\"subreddit=%{x}\\u003cbr\\u003eComments=%{y}\\u003cextra\\u003e\\u003c\\u002fextra\\u003e\",\"legendgroup\":\"r\\u002fDamnthatsinteresting\",\"marker\":{\"color\":\"#FECB52\",\"pattern\":{\"shape\":\"\"}},\"name\":\"r\\u002fDamnthatsinteresting\",\"offsetgroup\":\"r\\u002fDamnthatsinteresting\",\"orientation\":\"v\",\"showlegend\":true,\"textposition\":\"auto\",\"x\":[\"r\\u002fDamnthatsinteresting\"],\"xaxis\":\"x\",\"y\":[2637.0],\"yaxis\":\"y\",\"type\":\"bar\"},{\"alignmentgroup\":\"True\",\"hovertemplate\":\"subreddit=%{x}\\u003cbr\\u003eComments=%{y}\\u003cextra\\u003e\\u003c\\u002fextra\\u003e\",\"legendgroup\":\"r\\u002fsports\",\"marker\":{\"color\":\"#636efa\",\"pattern\":{\"shape\":\"\"}},\"name\":\"r\\u002fsports\",\"offsetgroup\":\"r\\u002fsports\",\"orientation\":\"v\",\"showlegend\":true,\"textposition\":\"auto\",\"x\":[\"r\\u002fsports\"],\"xaxis\":\"x\",\"y\":[2375.0],\"yaxis\":\"y\",\"type\":\"bar\"},{\"alignmentgroup\":\"True\",\"hovertemplate\":\"subreddit=%{x}\\u003cbr\\u003eComments=%{y}\\u003cextra\\u003e\\u003c\\u002fextra\\u003e\",\"legendgroup\":\"r\\u002fTwoXChromosomes\",\"marker\":{\"color\":\"#EF553B\",\"pattern\":{\"shape\":\"\"}},\"name\":\"r\\u002fTwoXChromosomes\",\"offsetgroup\":\"r\\u002fTwoXChromosomes\",\"orientation\":\"v\",\"showlegend\":true,\"textposition\":\"auto\",\"x\":[\"r\\u002fTwoXChromosomes\"],\"xaxis\":\"x\",\"y\":[2331.0],\"yaxis\":\"y\",\"type\":\"bar\"},{\"alignmentgroup\":\"True\",\"hovertemplate\":\"subreddit=%{x}\\u003cbr\\u003eComments=%{y}\\u003cextra\\u003e\\u003c\\u002fextra\\u003e\",\"legendgroup\":\"r\\u002fInstagramreality\",\"marker\":{\"color\":\"#00cc96\",\"pattern\":{\"shape\":\"\"}},\"name\":\"r\\u002fInstagramreality\",\"offsetgroup\":\"r\\u002fInstagramreality\",\"orientation\":\"v\",\"showlegend\":true,\"textposition\":\"auto\",\"x\":[\"r\\u002fInstagramreality\"],\"xaxis\":\"x\",\"y\":[2293.0],\"yaxis\":\"y\",\"type\":\"bar\"},{\"alignmentgroup\":\"True\",\"hovertemplate\":\"subreddit=%{x}\\u003cbr\\u003eComments=%{y}\\u003cextra\\u003e\\u003c\\u002fextra\\u003e\",\"legendgroup\":\"r\\u002fbooks\",\"marker\":{\"color\":\"#ab63fa\",\"pattern\":{\"shape\":\"\"}},\"name\":\"r\\u002fbooks\",\"offsetgroup\":\"r\\u002fbooks\",\"orientation\":\"v\",\"showlegend\":true,\"textposition\":\"auto\",\"x\":[\"r\\u002fbooks\"],\"xaxis\":\"x\",\"y\":[2103.0],\"yaxis\":\"y\",\"type\":\"bar\"},{\"alignmentgroup\":\"True\",\"hovertemplate\":\"subreddit=%{x}\\u003cbr\\u003eComments=%{y}\\u003cextra\\u003e\\u003c\\u002fextra\\u003e\",\"legendgroup\":\"r\\u002fHongKong\",\"marker\":{\"color\":\"#FFA15A\",\"pattern\":{\"shape\":\"\"}},\"name\":\"r\\u002fHongKong\",\"offsetgroup\":\"r\\u002fHongKong\",\"orientation\":\"v\",\"showlegend\":true,\"textposition\":\"auto\",\"x\":[\"r\\u002fHongKong\"],\"xaxis\":\"x\",\"y\":[1905.0],\"yaxis\":\"y\",\"type\":\"bar\"},{\"alignmentgroup\":\"True\",\"hovertemplate\":\"subreddit=%{x}\\u003cbr\\u003eComments=%{y}\\u003cextra\\u003e\\u003c\\u002fextra\\u003e\",\"legendgroup\":\"r\\u002flistentothis\",\"marker\":{\"color\":\"#19d3f3\",\"pattern\":{\"shape\":\"\"}},\"name\":\"r\\u002flistentothis\",\"offsetgroup\":\"r\\u002flistentothis\",\"orientation\":\"v\",\"showlegend\":true,\"textposition\":\"auto\",\"x\":[\"r\\u002flistentothis\"],\"xaxis\":\"x\",\"y\":[1801.0],\"yaxis\":\"y\",\"type\":\"bar\"},{\"alignmentgroup\":\"True\",\"hovertemplate\":\"subreddit=%{x}\\u003cbr\\u003eComments=%{y}\\u003cextra\\u003e\\u003c\\u002fextra\\u003e\",\"legendgroup\":\"r\\u002fMusic\",\"marker\":{\"color\":\"#FF6692\",\"pattern\":{\"shape\":\"\"}},\"name\":\"r\\u002fMusic\",\"offsetgroup\":\"r\\u002fMusic\",\"orientation\":\"v\",\"showlegend\":true,\"textposition\":\"auto\",\"x\":[\"r\\u002fMusic\"],\"xaxis\":\"x\",\"y\":[1745.0],\"yaxis\":\"y\",\"type\":\"bar\"},{\"alignmentgroup\":\"True\",\"hovertemplate\":\"subreddit=%{x}\\u003cbr\\u003eComments=%{y}\\u003cextra\\u003e\\u003c\\u002fextra\\u003e\",\"legendgroup\":\"r\\u002ffreefolk\",\"marker\":{\"color\":\"#B6E880\",\"pattern\":{\"shape\":\"\"}},\"name\":\"r\\u002ffreefolk\",\"offsetgroup\":\"r\\u002ffreefolk\",\"orientation\":\"v\",\"showlegend\":true,\"textposition\":\"auto\",\"x\":[\"r\\u002ffreefolk\"],\"xaxis\":\"x\",\"y\":[1516.0],\"yaxis\":\"y\",\"type\":\"bar\"},{\"alignmentgroup\":\"True\",\"hovertemplate\":\"subreddit=%{x}\\u003cbr\\u003eComments=%{y}\\u003cextra\\u003e\\u003c\\u002fextra\\u003e\",\"legendgroup\":\"r\\u002fMemeEconomy\",\"marker\":{\"color\":\"#FF97FF\",\"pattern\":{\"shape\":\"\"}},\"name\":\"r\\u002fMemeEconomy\",\"offsetgroup\":\"r\\u002fMemeEconomy\",\"orientation\":\"v\",\"showlegend\":true,\"textposition\":\"auto\",\"x\":[\"r\\u002fMemeEconomy\"],\"xaxis\":\"x\",\"y\":[1439.0],\"yaxis\":\"y\",\"type\":\"bar\"},{\"alignmentgroup\":\"True\",\"hovertemplate\":\"subreddit=%{x}\\u003cbr\\u003eComments=%{y}\\u003cextra\\u003e\\u003c\\u002fextra\\u003e\",\"legendgroup\":\"r\\u002fBeAmazed\",\"marker\":{\"color\":\"#FECB52\",\"pattern\":{\"shape\":\"\"}},\"name\":\"r\\u002fBeAmazed\",\"offsetgroup\":\"r\\u002fBeAmazed\",\"orientation\":\"v\",\"showlegend\":true,\"textposition\":\"auto\",\"x\":[\"r\\u002fBeAmazed\"],\"xaxis\":\"x\",\"y\":[1315.0],\"yaxis\":\"y\",\"type\":\"bar\"},{\"alignmentgroup\":\"True\",\"hovertemplate\":\"subreddit=%{x}\\u003cbr\\u003eComments=%{y}\\u003cextra\\u003e\\u003c\\u002fextra\\u003e\",\"legendgroup\":\"r\\u002fOldSchoolCool\",\"marker\":{\"color\":\"#636efa\",\"pattern\":{\"shape\":\"\"}},\"name\":\"r\\u002fOldSchoolCool\",\"offsetgroup\":\"r\\u002fOldSchoolCool\",\"orientation\":\"v\",\"showlegend\":true,\"textposition\":\"auto\",\"x\":[\"r\\u002fOldSchoolCool\"],\"xaxis\":\"x\",\"y\":[1290.0],\"yaxis\":\"y\",\"type\":\"bar\"},{\"alignmentgroup\":\"True\",\"hovertemplate\":\"subreddit=%{x}\\u003cbr\\u003eComments=%{y}\\u003cextra\\u003e\\u003c\\u002fextra\\u003e\",\"legendgroup\":\"r\\u002flotrmemes\",\"marker\":{\"color\":\"#EF553B\",\"pattern\":{\"shape\":\"\"}},\"name\":\"r\\u002flotrmemes\",\"offsetgroup\":\"r\\u002flotrmemes\",\"orientation\":\"v\",\"showlegend\":true,\"textposition\":\"auto\",\"x\":[\"r\\u002flotrmemes\"],\"xaxis\":\"x\",\"y\":[1269.0],\"yaxis\":\"y\",\"type\":\"bar\"},{\"alignmentgroup\":\"True\",\"hovertemplate\":\"subreddit=%{x}\\u003cbr\\u003eComments=%{y}\\u003cextra\\u003e\\u003c\\u002fextra\\u003e\",\"legendgroup\":\"r\\u002fPoliticalHumor\",\"marker\":{\"color\":\"#00cc96\",\"pattern\":{\"shape\":\"\"}},\"name\":\"r\\u002fPoliticalHumor\",\"offsetgroup\":\"r\\u002fPoliticalHumor\",\"orientation\":\"v\",\"showlegend\":true,\"textposition\":\"auto\",\"x\":[\"r\\u002fPoliticalHumor\"],\"xaxis\":\"x\",\"y\":[1227.0],\"yaxis\":\"y\",\"type\":\"bar\"},{\"alignmentgroup\":\"True\",\"hovertemplate\":\"subreddit=%{x}\\u003cbr\\u003eComments=%{y}\\u003cextra\\u003e\\u003c\\u002fextra\\u003e\",\"legendgroup\":\"r\\u002fAyyMD\",\"marker\":{\"color\":\"#ab63fa\",\"pattern\":{\"shape\":\"\"}},\"name\":\"r\\u002fAyyMD\",\"offsetgroup\":\"r\\u002fAyyMD\",\"orientation\":\"v\",\"showlegend\":true,\"textposition\":\"auto\",\"x\":[\"r\\u002fAyyMD\"],\"xaxis\":\"x\",\"y\":[880.0],\"yaxis\":\"y\",\"type\":\"bar\"},{\"alignmentgroup\":\"True\",\"hovertemplate\":\"subreddit=%{x}\\u003cbr\\u003eComments=%{y}\\u003cextra\\u003e\\u003c\\u002fextra\\u003e\",\"legendgroup\":\"r\\u002fcomics\",\"marker\":{\"color\":\"#FFA15A\",\"pattern\":{\"shape\":\"\"}},\"name\":\"r\\u002fcomics\",\"offsetgroup\":\"r\\u002fcomics\",\"orientation\":\"v\",\"showlegend\":true,\"textposition\":\"auto\",\"x\":[\"r\\u002fcomics\"],\"xaxis\":\"x\",\"y\":[781.0],\"yaxis\":\"y\",\"type\":\"bar\"}],                        {\"template\":{\"data\":{\"histogram2dcontour\":[{\"type\":\"histogram2dcontour\",\"colorbar\":{\"outlinewidth\":0,\"ticks\":\"\"},\"colorscale\":[[0.0,\"#0d0887\"],[0.1111111111111111,\"#46039f\"],[0.2222222222222222,\"#7201a8\"],[0.3333333333333333,\"#9c179e\"],[0.4444444444444444,\"#bd3786\"],[0.5555555555555556,\"#d8576b\"],[0.6666666666666666,\"#ed7953\"],[0.7777777777777778,\"#fb9f3a\"],[0.8888888888888888,\"#fdca26\"],[1.0,\"#f0f921\"]]}],\"choropleth\":[{\"type\":\"choropleth\",\"colorbar\":{\"outlinewidth\":0,\"ticks\":\"\"}}],\"histogram2d\":[{\"type\":\"histogram2d\",\"colorbar\":{\"outlinewidth\":0,\"ticks\":\"\"},\"colorscale\":[[0.0,\"#0d0887\"],[0.1111111111111111,\"#46039f\"],[0.2222222222222222,\"#7201a8\"],[0.3333333333333333,\"#9c179e\"],[0.4444444444444444,\"#bd3786\"],[0.5555555555555556,\"#d8576b\"],[0.6666666666666666,\"#ed7953\"],[0.7777777777777778,\"#fb9f3a\"],[0.8888888888888888,\"#fdca26\"],[1.0,\"#f0f921\"]]}],\"heatmap\":[{\"type\":\"heatmap\",\"colorbar\":{\"outlinewidth\":0,\"ticks\":\"\"},\"colorscale\":[[0.0,\"#0d0887\"],[0.1111111111111111,\"#46039f\"],[0.2222222222222222,\"#7201a8\"],[0.3333333333333333,\"#9c179e\"],[0.4444444444444444,\"#bd3786\"],[0.5555555555555556,\"#d8576b\"],[0.6666666666666666,\"#ed7953\"],[0.7777777777777778,\"#fb9f3a\"],[0.8888888888888888,\"#fdca26\"],[1.0,\"#f0f921\"]]}],\"heatmapgl\":[{\"type\":\"heatmapgl\",\"colorbar\":{\"outlinewidth\":0,\"ticks\":\"\"},\"colorscale\":[[0.0,\"#0d0887\"],[0.1111111111111111,\"#46039f\"],[0.2222222222222222,\"#7201a8\"],[0.3333333333333333,\"#9c179e\"],[0.4444444444444444,\"#bd3786\"],[0.5555555555555556,\"#d8576b\"],[0.6666666666666666,\"#ed7953\"],[0.7777777777777778,\"#fb9f3a\"],[0.8888888888888888,\"#fdca26\"],[1.0,\"#f0f921\"]]}],\"contourcarpet\":[{\"type\":\"contourcarpet\",\"colorbar\":{\"outlinewidth\":0,\"ticks\":\"\"}}],\"contour\":[{\"type\":\"contour\",\"colorbar\":{\"outlinewidth\":0,\"ticks\":\"\"},\"colorscale\":[[0.0,\"#0d0887\"],[0.1111111111111111,\"#46039f\"],[0.2222222222222222,\"#7201a8\"],[0.3333333333333333,\"#9c179e\"],[0.4444444444444444,\"#bd3786\"],[0.5555555555555556,\"#d8576b\"],[0.6666666666666666,\"#ed7953\"],[0.7777777777777778,\"#fb9f3a\"],[0.8888888888888888,\"#fdca26\"],[1.0,\"#f0f921\"]]}],\"surface\":[{\"type\":\"surface\",\"colorbar\":{\"outlinewidth\":0,\"ticks\":\"\"},\"colorscale\":[[0.0,\"#0d0887\"],[0.1111111111111111,\"#46039f\"],[0.2222222222222222,\"#7201a8\"],[0.3333333333333333,\"#9c179e\"],[0.4444444444444444,\"#bd3786\"],[0.5555555555555556,\"#d8576b\"],[0.6666666666666666,\"#ed7953\"],[0.7777777777777778,\"#fb9f3a\"],[0.8888888888888888,\"#fdca26\"],[1.0,\"#f0f921\"]]}],\"mesh3d\":[{\"type\":\"mesh3d\",\"colorbar\":{\"outlinewidth\":0,\"ticks\":\"\"}}],\"scatter\":[{\"fillpattern\":{\"fillmode\":\"overlay\",\"size\":10,\"solidity\":0.2},\"type\":\"scatter\"}],\"parcoords\":[{\"type\":\"parcoords\",\"line\":{\"colorbar\":{\"outlinewidth\":0,\"ticks\":\"\"}}}],\"scatterpolargl\":[{\"type\":\"scatterpolargl\",\"marker\":{\"colorbar\":{\"outlinewidth\":0,\"ticks\":\"\"}}}],\"bar\":[{\"error_x\":{\"color\":\"#2a3f5f\"},\"error_y\":{\"color\":\"#2a3f5f\"},\"marker\":{\"line\":{\"color\":\"#E5ECF6\",\"width\":0.5},\"pattern\":{\"fillmode\":\"overlay\",\"size\":10,\"solidity\":0.2}},\"type\":\"bar\"}],\"scattergeo\":[{\"type\":\"scattergeo\",\"marker\":{\"colorbar\":{\"outlinewidth\":0,\"ticks\":\"\"}}}],\"scatterpolar\":[{\"type\":\"scatterpolar\",\"marker\":{\"colorbar\":{\"outlinewidth\":0,\"ticks\":\"\"}}}],\"histogram\":[{\"marker\":{\"pattern\":{\"fillmode\":\"overlay\",\"size\":10,\"solidity\":0.2}},\"type\":\"histogram\"}],\"scattergl\":[{\"type\":\"scattergl\",\"marker\":{\"colorbar\":{\"outlinewidth\":0,\"ticks\":\"\"}}}],\"scatter3d\":[{\"type\":\"scatter3d\",\"line\":{\"colorbar\":{\"outlinewidth\":0,\"ticks\":\"\"}},\"marker\":{\"colorbar\":{\"outlinewidth\":0,\"ticks\":\"\"}}}],\"scattermapbox\":[{\"type\":\"scattermapbox\",\"marker\":{\"colorbar\":{\"outlinewidth\":0,\"ticks\":\"\"}}}],\"scatterternary\":[{\"type\":\"scatterternary\",\"marker\":{\"colorbar\":{\"outlinewidth\":0,\"ticks\":\"\"}}}],\"scattercarpet\":[{\"type\":\"scattercarpet\",\"marker\":{\"colorbar\":{\"outlinewidth\":0,\"ticks\":\"\"}}}],\"carpet\":[{\"aaxis\":{\"endlinecolor\":\"#2a3f5f\",\"gridcolor\":\"white\",\"linecolor\":\"white\",\"minorgridcolor\":\"white\",\"startlinecolor\":\"#2a3f5f\"},\"baxis\":{\"endlinecolor\":\"#2a3f5f\",\"gridcolor\":\"white\",\"linecolor\":\"white\",\"minorgridcolor\":\"white\",\"startlinecolor\":\"#2a3f5f\"},\"type\":\"carpet\"}],\"table\":[{\"cells\":{\"fill\":{\"color\":\"#EBF0F8\"},\"line\":{\"color\":\"white\"}},\"header\":{\"fill\":{\"color\":\"#C8D4E3\"},\"line\":{\"color\":\"white\"}},\"type\":\"table\"}],\"barpolar\":[{\"marker\":{\"line\":{\"color\":\"#E5ECF6\",\"width\":0.5},\"pattern\":{\"fillmode\":\"overlay\",\"size\":10,\"solidity\":0.2}},\"type\":\"barpolar\"}],\"pie\":[{\"automargin\":true,\"type\":\"pie\"}]},\"layout\":{\"autotypenumbers\":\"strict\",\"colorway\":[\"#636efa\",\"#EF553B\",\"#00cc96\",\"#ab63fa\",\"#FFA15A\",\"#19d3f3\",\"#FF6692\",\"#B6E880\",\"#FF97FF\",\"#FECB52\"],\"font\":{\"color\":\"#2a3f5f\"},\"hovermode\":\"closest\",\"hoverlabel\":{\"align\":\"left\"},\"paper_bgcolor\":\"white\",\"plot_bgcolor\":\"#E5ECF6\",\"polar\":{\"bgcolor\":\"#E5ECF6\",\"angularaxis\":{\"gridcolor\":\"white\",\"linecolor\":\"white\",\"ticks\":\"\"},\"radialaxis\":{\"gridcolor\":\"white\",\"linecolor\":\"white\",\"ticks\":\"\"}},\"ternary\":{\"bgcolor\":\"#E5ECF6\",\"aaxis\":{\"gridcolor\":\"white\",\"linecolor\":\"white\",\"ticks\":\"\"},\"baxis\":{\"gridcolor\":\"white\",\"linecolor\":\"white\",\"ticks\":\"\"},\"caxis\":{\"gridcolor\":\"white\",\"linecolor\":\"white\",\"ticks\":\"\"}},\"coloraxis\":{\"colorbar\":{\"outlinewidth\":0,\"ticks\":\"\"}},\"colorscale\":{\"sequential\":[[0.0,\"#0d0887\"],[0.1111111111111111,\"#46039f\"],[0.2222222222222222,\"#7201a8\"],[0.3333333333333333,\"#9c179e\"],[0.4444444444444444,\"#bd3786\"],[0.5555555555555556,\"#d8576b\"],[0.6666666666666666,\"#ed7953\"],[0.7777777777777778,\"#fb9f3a\"],[0.8888888888888888,\"#fdca26\"],[1.0,\"#f0f921\"]],\"sequentialminus\":[[0.0,\"#0d0887\"],[0.1111111111111111,\"#46039f\"],[0.2222222222222222,\"#7201a8\"],[0.3333333333333333,\"#9c179e\"],[0.4444444444444444,\"#bd3786\"],[0.5555555555555556,\"#d8576b\"],[0.6666666666666666,\"#ed7953\"],[0.7777777777777778,\"#fb9f3a\"],[0.8888888888888888,\"#fdca26\"],[1.0,\"#f0f921\"]],\"diverging\":[[0,\"#8e0152\"],[0.1,\"#c51b7d\"],[0.2,\"#de77ae\"],[0.3,\"#f1b6da\"],[0.4,\"#fde0ef\"],[0.5,\"#f7f7f7\"],[0.6,\"#e6f5d0\"],[0.7,\"#b8e186\"],[0.8,\"#7fbc41\"],[0.9,\"#4d9221\"],[1,\"#276419\"]]},\"xaxis\":{\"gridcolor\":\"white\",\"linecolor\":\"white\",\"ticks\":\"\",\"title\":{\"standoff\":15},\"zerolinecolor\":\"white\",\"automargin\":true,\"zerolinewidth\":2},\"yaxis\":{\"gridcolor\":\"white\",\"linecolor\":\"white\",\"ticks\":\"\",\"title\":{\"standoff\":15},\"zerolinecolor\":\"white\",\"automargin\":true,\"zerolinewidth\":2},\"scene\":{\"xaxis\":{\"backgroundcolor\":\"#E5ECF6\",\"gridcolor\":\"white\",\"linecolor\":\"white\",\"showbackground\":true,\"ticks\":\"\",\"zerolinecolor\":\"white\",\"gridwidth\":2},\"yaxis\":{\"backgroundcolor\":\"#E5ECF6\",\"gridcolor\":\"white\",\"linecolor\":\"white\",\"showbackground\":true,\"ticks\":\"\",\"zerolinecolor\":\"white\",\"gridwidth\":2},\"zaxis\":{\"backgroundcolor\":\"#E5ECF6\",\"gridcolor\":\"white\",\"linecolor\":\"white\",\"showbackground\":true,\"ticks\":\"\",\"zerolinecolor\":\"white\",\"gridwidth\":2}},\"shapedefaults\":{\"line\":{\"color\":\"#2a3f5f\"}},\"annotationdefaults\":{\"arrowcolor\":\"#2a3f5f\",\"arrowhead\":0,\"arrowwidth\":1},\"geo\":{\"bgcolor\":\"white\",\"landcolor\":\"#E5ECF6\",\"subunitcolor\":\"white\",\"showland\":true,\"showlakes\":true,\"lakecolor\":\"white\"},\"title\":{\"x\":0.05},\"mapbox\":{\"style\":\"light\"}}},\"xaxis\":{\"anchor\":\"y\",\"domain\":[0.0,1.0],\"title\":{\"text\":\"subreddit\"},\"categoryorder\":\"array\",\"categoryarray\":[\"r\\u002fpics\",\"r\\u002fmemes\",\"r\\u002ffunny\",\"r\\u002fnews\",\"r\\u002fwallstreetbets\",\"r\\u002fgaming\",\"r\\u002fnextfuckinglevel\",\"r\\u002fgifs\",\"r\\u002faww\",\"r\\u002fPublicFreakout\",\"r\\u002fAskReddit\",\"r\\u002fworldnews\",\"r\\u002finterestingasfuck\",\"r\\u002fpolitics\",\"r\\u002fMurderedByWords\",\"r\\u002fvideos\",\"r\\u002fpokemon\",\"r\\u002ftodayilearned\",\"r\\u002fMadeMeSmile\",\"r\\u002fWatchPeopleDieInside\",\"r\\u002fthanosdidnothingwrong\",\"r\\u002fmovies\",\"r\\u002fannouncements\",\"r\\u002fWhitePeopleTwitter\",\"r\\u002ffacepalm\",\"r\\u002fmildlyinteresting\",\"r\\u002fShowerthoughts\",\"r\\u002fawfuleverything\",\"r\\u002fWellthatsucks\",\"r\\u002fteenagers\",\"r\\u002fIAmA\",\"r\\u002fIdiotsInCars\",\"r\\u002fspace\",\"r\\u002fwholesomememes\",\"r\\u002ftifu\",\"r\\u002ftechnology\",\"r\\u002fJusticeServed\",\"r\\u002fme_irl\",\"r\\u002fLifeProTips\",\"r\\u002fiamatotalpieceofshit\",\"r\\u002fPrequelMemes\",\"r\\u002ftrashy\",\"r\\u002fChoosingBeggars\",\"r\\u002fPewdiepieSubmissions\",\"r\\u002fLeopardsAteMyFace\",\"r\\u002fBikiniBottomTwitter\",\"r\\u002fscience\",\"r\\u002fFuturology\",\"r\\u002fdataisbeautiful\",\"r\\u002finsanepeoplefacebook\",\"r\\u002fUpliftingNews\",\"r\\u002fcoolguides\",\"r\\u002fBlackPeopleTwitter\",\"r\\u002fThe_Mueller\",\"r\\u002foddlysatisfying\",\"r\\u002fWhatcouldgowrong\",\"r\\u002fnottheonion\",\"r\\u002fCoronavirus\",\"r\\u002finstant_regret\",\"r\\u002fgifsthatkeepongiving\",\"r\\u002frickandmorty\",\"r\\u002fassholedesign\",\"r\\u002fJokes\",\"r\\u002fGetMotivated\",\"r\\u002fpcmasterrace\",\"r\\u002fDunderMifflin\",\"r\\u002fHolUp\",\"r\\u002fStarWarsBattlefront\",\"r\\u002fquityourbullshit\",\"r\\u002fDamnthatsinteresting\",\"r\\u002fsports\",\"r\\u002fTwoXChromosomes\",\"r\\u002fInstagramreality\",\"r\\u002fbooks\",\"r\\u002fHongKong\",\"r\\u002flistentothis\",\"r\\u002fMusic\",\"r\\u002ffreefolk\",\"r\\u002fMemeEconomy\",\"r\\u002fBeAmazed\",\"r\\u002fOldSchoolCool\",\"r\\u002flotrmemes\",\"r\\u002fPoliticalHumor\",\"r\\u002fAyyMD\",\"r\\u002fcomics\"]},\"yaxis\":{\"anchor\":\"x\",\"domain\":[0.0,1.0],\"title\":{\"text\":\"Comments\"}},\"legend\":{\"title\":{\"text\":\"subreddit\"},\"tracegroupgap\":0},\"title\":{\"text\":\"Total Comments by Subreddit\"},\"barmode\":\"relative\",\"height\":400},                        {\"responsive\": true}                    ).then(function(){\n                            \nvar gd = document.getElementById('21c1f362-3e20-4443-9964-443af0a87fe1');\nvar x = new MutationObserver(function (mutations, observer) {{\n        var display = window.getComputedStyle(gd).display;\n        if (!display || display === 'none') {{\n            console.log([gd, 'removed!']);\n            Plotly.purge(gd);\n            observer.disconnect();\n        }}\n}});\n\n// Listen for the removal of the full notebook cells\nvar notebookContainer = gd.closest('#notebook-container');\nif (notebookContainer) {{\n    x.observe(notebookContainer, {childList: true});\n}}\n\n// Listen for the clearing of the current output cell\nvar outputEl = gd.closest('.output');\nif (outputEl) {{\n    x.observe(outputEl, {childList: true});\n}}\n\n                        })                };                });            </script>        </div>"
     },
     "metadata": {},
     "output_type": "display_data"
    }
   ],
   "source": [
    "# Групуємо за subreddit і обчислюємо суми коментарів та голосів\n",
    "grouped_data = df.groupby('subreddit').agg({'comments': 'sum', 'upvotes': 'sum'}).reset_index()\n",
    "\n",
    "# Сортуємо графік за сумою голосів\n",
    "fig_upvotes = px.bar(grouped_data.sort_values(by='upvotes', ascending=False), x='subreddit', y='upvotes',\n",
    "                      title='Total Upvotes by Subreddit', labels={'upvotes': 'Upvotes'}, color='subreddit',\n",
    "                      height=400)\n",
    "\n",
    "# Сортуємо графік за сумою коментарів\n",
    "fig_comments = px.bar(grouped_data.sort_values(by='comments', ascending=False), x='subreddit', y='comments',\n",
    "                      title='Total Comments by Subreddit', labels={'comments': 'Comments'}, color='subreddit',\n",
    "                      height=400)\n",
    "\n",
    "# Показуємо графіки\n",
    "fig_upvotes.show()\n",
    "fig_comments.show()"
   ]
  }
 ],
 "metadata": {
  "kernelspec": {
   "display_name": "venv",
   "language": "python",
   "name": "python3"
  },
  "language_info": {
   "codemirror_mode": {
    "name": "ipython",
    "version": 3
   },
   "file_extension": ".py",
   "mimetype": "text/x-python",
   "name": "python",
   "nbconvert_exporter": "python",
   "pygments_lexer": "ipython3",
   "version": "3.10.13"
  }
 },
 "nbformat": 4,
 "nbformat_minor": 2
}
