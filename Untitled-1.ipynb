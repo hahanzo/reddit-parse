{
 "cells": [
  {
   "cell_type": "code",
   "execution_count": 35,
   "metadata": {},
   "outputs": [],
   "source": [
    "import pandas as pd\n",
    "import numpy as np\n",
    "import matplotlib.pyplot as plt\n",
    "import plotly.express as px"
   ]
  },
  {
   "cell_type": "markdown",
   "metadata": {},
   "source": [
    "Data research"
   ]
  },
  {
   "cell_type": "code",
   "execution_count": 36,
   "metadata": {},
   "outputs": [
    {
     "data": {
      "application/vnd.plotly.v1+json": {
       "config": {
        "plotlyServerURL": "https://plot.ly"
       },
       "data": [
        {
         "alignmentgroup": "True",
         "hovertemplate": "subreddit=%{x}<br>count=%{marker.color}<extra></extra>",
         "legendgroup": "",
         "marker": {
          "color": [
           120,
           86,
           84,
           66,
           57,
           45,
           44,
           42,
           40,
           40,
           29,
           28,
           23,
           18,
           16,
           15,
           15,
           15,
           13,
           12,
           10,
           9,
           7,
           6,
           6,
           6,
           5,
           4,
           4,
           4,
           3,
           3,
           3,
           3,
           3,
           3,
           3,
           3,
           3,
           3,
           2,
           2,
           2,
           2,
           2,
           2,
           2,
           2,
           1,
           1,
           1,
           1,
           1,
           1,
           1,
           1,
           1,
           1,
           1,
           1,
           1,
           1,
           1,
           1,
           1,
           1,
           1,
           1,
           1,
           1,
           1,
           1
          ],
          "coloraxis": "coloraxis",
          "line": {
           "color": "rgb(8,48,107)",
           "width": 1.5
          },
          "pattern": {
           "shape": ""
          }
         },
         "name": "",
         "offsetgroup": "",
         "opacity": 0.8,
         "orientation": "v",
         "showlegend": false,
         "textposition": "auto",
         "type": "bar",
         "x": [
          "r/MadeMeSmile",
          "r/nextfuckinglevel",
          "r/meirl",
          "r/pics",
          "r/funny",
          "r/interestingasfuck",
          "r/Damnthatsinteresting",
          "r/wholesomememes",
          "r/WhitePeopleTwitter",
          "r/facepalm",
          "r/aww",
          "r/mildlyinfuriating",
          "r/therewasanattempt",
          "r/gaming",
          "r/oddlysatisfying",
          "r/ContagiousLaughter",
          "r/mildlyinteresting",
          "r/antiwork",
          "r/memes",
          "r/HumansBeingBros",
          "r/news",
          "r/shitposting",
          "r/me_irl",
          "r/place",
          "r/WatchPeopleDieInside",
          "r/technicallythetruth",
          "r/clevercomebacks",
          "r/FunnyandSad",
          "r/politics",
          "r/apolloapp",
          "r/technology",
          "r/todayilearned",
          "r/movies",
          "r/worldnews",
          "r/AnimalsBeingBros",
          "r/AnimalsBeingDerps",
          "r/BeAmazed",
          "r/Whatcouldgowrong",
          "r/comics",
          "r/MurderedByWords",
          "r/dankmemes",
          "r/ProgrammerHumor",
          "r/space",
          "r/Funnymemes",
          "r/perfectlycutscreams",
          "r/AbruptChaos",
          "r/AnarchyChess",
          "r/blackmagicfuckery",
          "r/science",
          "r/wallstreetbets",
          "r/videos",
          "r/gifs",
          "r/AskReddit",
          "r/gifsthatkeepongiving",
          "r/CrazyFuckingVideos",
          "r/iamatotalpieceofshit",
          "r/shittytattoos",
          "r/shittymoviedetails",
          "r/DunderMifflin",
          "r/Showerthoughts",
          "r/ThatsInsane",
          "r/rareinsults",
          "r/ExpectationVsReality",
          "r/Futurology",
          "r/Wellthatsucks",
          "r/oddlyterrifying",
          "r/oddlyspecific",
          "r/LeopardsAteMyFace",
          "r/nottheonion",
          "r/TikTokCringe",
          "r/NatureIsFuckingLit",
          "r/recap"
         ],
         "xaxis": "x",
         "y": [
          120,
          86,
          84,
          66,
          57,
          45,
          44,
          42,
          40,
          40,
          29,
          28,
          23,
          18,
          16,
          15,
          15,
          15,
          13,
          12,
          10,
          9,
          7,
          6,
          6,
          6,
          5,
          4,
          4,
          4,
          3,
          3,
          3,
          3,
          3,
          3,
          3,
          3,
          3,
          3,
          2,
          2,
          2,
          2,
          2,
          2,
          2,
          2,
          1,
          1,
          1,
          1,
          1,
          1,
          1,
          1,
          1,
          1,
          1,
          1,
          1,
          1,
          1,
          1,
          1,
          1,
          1,
          1,
          1,
          1,
          1,
          1
         ],
         "yaxis": "y"
        }
       ],
       "layout": {
        "barmode": "relative",
        "coloraxis": {
         "colorbar": {
          "title": {
           "text": "count"
          }
         },
         "colorscale": [
          [
           0,
           "rgb(247,251,255)"
          ],
          [
           0.125,
           "rgb(222,235,247)"
          ],
          [
           0.25,
           "rgb(198,219,239)"
          ],
          [
           0.375,
           "rgb(158,202,225)"
          ],
          [
           0.5,
           "rgb(107,174,214)"
          ],
          [
           0.625,
           "rgb(66,146,198)"
          ],
          [
           0.75,
           "rgb(33,113,181)"
          ],
          [
           0.875,
           "rgb(8,81,156)"
          ],
          [
           1,
           "rgb(8,48,107)"
          ]
         ]
        },
        "font": {
         "color": "black",
         "size": 14
        },
        "legend": {
         "tracegroupgap": 0
        },
        "showlegend": false,
        "template": {
         "data": {
          "bar": [
           {
            "error_x": {
             "color": "#2a3f5f"
            },
            "error_y": {
             "color": "#2a3f5f"
            },
            "marker": {
             "line": {
              "color": "#E5ECF6",
              "width": 0.5
             },
             "pattern": {
              "fillmode": "overlay",
              "size": 10,
              "solidity": 0.2
             }
            },
            "type": "bar"
           }
          ],
          "barpolar": [
           {
            "marker": {
             "line": {
              "color": "#E5ECF6",
              "width": 0.5
             },
             "pattern": {
              "fillmode": "overlay",
              "size": 10,
              "solidity": 0.2
             }
            },
            "type": "barpolar"
           }
          ],
          "carpet": [
           {
            "aaxis": {
             "endlinecolor": "#2a3f5f",
             "gridcolor": "white",
             "linecolor": "white",
             "minorgridcolor": "white",
             "startlinecolor": "#2a3f5f"
            },
            "baxis": {
             "endlinecolor": "#2a3f5f",
             "gridcolor": "white",
             "linecolor": "white",
             "minorgridcolor": "white",
             "startlinecolor": "#2a3f5f"
            },
            "type": "carpet"
           }
          ],
          "choropleth": [
           {
            "colorbar": {
             "outlinewidth": 0,
             "ticks": ""
            },
            "type": "choropleth"
           }
          ],
          "contour": [
           {
            "colorbar": {
             "outlinewidth": 0,
             "ticks": ""
            },
            "colorscale": [
             [
              0,
              "#0d0887"
             ],
             [
              0.1111111111111111,
              "#46039f"
             ],
             [
              0.2222222222222222,
              "#7201a8"
             ],
             [
              0.3333333333333333,
              "#9c179e"
             ],
             [
              0.4444444444444444,
              "#bd3786"
             ],
             [
              0.5555555555555556,
              "#d8576b"
             ],
             [
              0.6666666666666666,
              "#ed7953"
             ],
             [
              0.7777777777777778,
              "#fb9f3a"
             ],
             [
              0.8888888888888888,
              "#fdca26"
             ],
             [
              1,
              "#f0f921"
             ]
            ],
            "type": "contour"
           }
          ],
          "contourcarpet": [
           {
            "colorbar": {
             "outlinewidth": 0,
             "ticks": ""
            },
            "type": "contourcarpet"
           }
          ],
          "heatmap": [
           {
            "colorbar": {
             "outlinewidth": 0,
             "ticks": ""
            },
            "colorscale": [
             [
              0,
              "#0d0887"
             ],
             [
              0.1111111111111111,
              "#46039f"
             ],
             [
              0.2222222222222222,
              "#7201a8"
             ],
             [
              0.3333333333333333,
              "#9c179e"
             ],
             [
              0.4444444444444444,
              "#bd3786"
             ],
             [
              0.5555555555555556,
              "#d8576b"
             ],
             [
              0.6666666666666666,
              "#ed7953"
             ],
             [
              0.7777777777777778,
              "#fb9f3a"
             ],
             [
              0.8888888888888888,
              "#fdca26"
             ],
             [
              1,
              "#f0f921"
             ]
            ],
            "type": "heatmap"
           }
          ],
          "heatmapgl": [
           {
            "colorbar": {
             "outlinewidth": 0,
             "ticks": ""
            },
            "colorscale": [
             [
              0,
              "#0d0887"
             ],
             [
              0.1111111111111111,
              "#46039f"
             ],
             [
              0.2222222222222222,
              "#7201a8"
             ],
             [
              0.3333333333333333,
              "#9c179e"
             ],
             [
              0.4444444444444444,
              "#bd3786"
             ],
             [
              0.5555555555555556,
              "#d8576b"
             ],
             [
              0.6666666666666666,
              "#ed7953"
             ],
             [
              0.7777777777777778,
              "#fb9f3a"
             ],
             [
              0.8888888888888888,
              "#fdca26"
             ],
             [
              1,
              "#f0f921"
             ]
            ],
            "type": "heatmapgl"
           }
          ],
          "histogram": [
           {
            "marker": {
             "pattern": {
              "fillmode": "overlay",
              "size": 10,
              "solidity": 0.2
             }
            },
            "type": "histogram"
           }
          ],
          "histogram2d": [
           {
            "colorbar": {
             "outlinewidth": 0,
             "ticks": ""
            },
            "colorscale": [
             [
              0,
              "#0d0887"
             ],
             [
              0.1111111111111111,
              "#46039f"
             ],
             [
              0.2222222222222222,
              "#7201a8"
             ],
             [
              0.3333333333333333,
              "#9c179e"
             ],
             [
              0.4444444444444444,
              "#bd3786"
             ],
             [
              0.5555555555555556,
              "#d8576b"
             ],
             [
              0.6666666666666666,
              "#ed7953"
             ],
             [
              0.7777777777777778,
              "#fb9f3a"
             ],
             [
              0.8888888888888888,
              "#fdca26"
             ],
             [
              1,
              "#f0f921"
             ]
            ],
            "type": "histogram2d"
           }
          ],
          "histogram2dcontour": [
           {
            "colorbar": {
             "outlinewidth": 0,
             "ticks": ""
            },
            "colorscale": [
             [
              0,
              "#0d0887"
             ],
             [
              0.1111111111111111,
              "#46039f"
             ],
             [
              0.2222222222222222,
              "#7201a8"
             ],
             [
              0.3333333333333333,
              "#9c179e"
             ],
             [
              0.4444444444444444,
              "#bd3786"
             ],
             [
              0.5555555555555556,
              "#d8576b"
             ],
             [
              0.6666666666666666,
              "#ed7953"
             ],
             [
              0.7777777777777778,
              "#fb9f3a"
             ],
             [
              0.8888888888888888,
              "#fdca26"
             ],
             [
              1,
              "#f0f921"
             ]
            ],
            "type": "histogram2dcontour"
           }
          ],
          "mesh3d": [
           {
            "colorbar": {
             "outlinewidth": 0,
             "ticks": ""
            },
            "type": "mesh3d"
           }
          ],
          "parcoords": [
           {
            "line": {
             "colorbar": {
              "outlinewidth": 0,
              "ticks": ""
             }
            },
            "type": "parcoords"
           }
          ],
          "pie": [
           {
            "automargin": true,
            "type": "pie"
           }
          ],
          "scatter": [
           {
            "fillpattern": {
             "fillmode": "overlay",
             "size": 10,
             "solidity": 0.2
            },
            "type": "scatter"
           }
          ],
          "scatter3d": [
           {
            "line": {
             "colorbar": {
              "outlinewidth": 0,
              "ticks": ""
             }
            },
            "marker": {
             "colorbar": {
              "outlinewidth": 0,
              "ticks": ""
             }
            },
            "type": "scatter3d"
           }
          ],
          "scattercarpet": [
           {
            "marker": {
             "colorbar": {
              "outlinewidth": 0,
              "ticks": ""
             }
            },
            "type": "scattercarpet"
           }
          ],
          "scattergeo": [
           {
            "marker": {
             "colorbar": {
              "outlinewidth": 0,
              "ticks": ""
             }
            },
            "type": "scattergeo"
           }
          ],
          "scattergl": [
           {
            "marker": {
             "colorbar": {
              "outlinewidth": 0,
              "ticks": ""
             }
            },
            "type": "scattergl"
           }
          ],
          "scattermapbox": [
           {
            "marker": {
             "colorbar": {
              "outlinewidth": 0,
              "ticks": ""
             }
            },
            "type": "scattermapbox"
           }
          ],
          "scatterpolar": [
           {
            "marker": {
             "colorbar": {
              "outlinewidth": 0,
              "ticks": ""
             }
            },
            "type": "scatterpolar"
           }
          ],
          "scatterpolargl": [
           {
            "marker": {
             "colorbar": {
              "outlinewidth": 0,
              "ticks": ""
             }
            },
            "type": "scatterpolargl"
           }
          ],
          "scatterternary": [
           {
            "marker": {
             "colorbar": {
              "outlinewidth": 0,
              "ticks": ""
             }
            },
            "type": "scatterternary"
           }
          ],
          "surface": [
           {
            "colorbar": {
             "outlinewidth": 0,
             "ticks": ""
            },
            "colorscale": [
             [
              0,
              "#0d0887"
             ],
             [
              0.1111111111111111,
              "#46039f"
             ],
             [
              0.2222222222222222,
              "#7201a8"
             ],
             [
              0.3333333333333333,
              "#9c179e"
             ],
             [
              0.4444444444444444,
              "#bd3786"
             ],
             [
              0.5555555555555556,
              "#d8576b"
             ],
             [
              0.6666666666666666,
              "#ed7953"
             ],
             [
              0.7777777777777778,
              "#fb9f3a"
             ],
             [
              0.8888888888888888,
              "#fdca26"
             ],
             [
              1,
              "#f0f921"
             ]
            ],
            "type": "surface"
           }
          ],
          "table": [
           {
            "cells": {
             "fill": {
              "color": "#EBF0F8"
             },
             "line": {
              "color": "white"
             }
            },
            "header": {
             "fill": {
              "color": "#C8D4E3"
             },
             "line": {
              "color": "white"
             }
            },
            "type": "table"
           }
          ]
         },
         "layout": {
          "annotationdefaults": {
           "arrowcolor": "#2a3f5f",
           "arrowhead": 0,
           "arrowwidth": 1
          },
          "autotypenumbers": "strict",
          "coloraxis": {
           "colorbar": {
            "outlinewidth": 0,
            "ticks": ""
           }
          },
          "colorscale": {
           "diverging": [
            [
             0,
             "#8e0152"
            ],
            [
             0.1,
             "#c51b7d"
            ],
            [
             0.2,
             "#de77ae"
            ],
            [
             0.3,
             "#f1b6da"
            ],
            [
             0.4,
             "#fde0ef"
            ],
            [
             0.5,
             "#f7f7f7"
            ],
            [
             0.6,
             "#e6f5d0"
            ],
            [
             0.7,
             "#b8e186"
            ],
            [
             0.8,
             "#7fbc41"
            ],
            [
             0.9,
             "#4d9221"
            ],
            [
             1,
             "#276419"
            ]
           ],
           "sequential": [
            [
             0,
             "#0d0887"
            ],
            [
             0.1111111111111111,
             "#46039f"
            ],
            [
             0.2222222222222222,
             "#7201a8"
            ],
            [
             0.3333333333333333,
             "#9c179e"
            ],
            [
             0.4444444444444444,
             "#bd3786"
            ],
            [
             0.5555555555555556,
             "#d8576b"
            ],
            [
             0.6666666666666666,
             "#ed7953"
            ],
            [
             0.7777777777777778,
             "#fb9f3a"
            ],
            [
             0.8888888888888888,
             "#fdca26"
            ],
            [
             1,
             "#f0f921"
            ]
           ],
           "sequentialminus": [
            [
             0,
             "#0d0887"
            ],
            [
             0.1111111111111111,
             "#46039f"
            ],
            [
             0.2222222222222222,
             "#7201a8"
            ],
            [
             0.3333333333333333,
             "#9c179e"
            ],
            [
             0.4444444444444444,
             "#bd3786"
            ],
            [
             0.5555555555555556,
             "#d8576b"
            ],
            [
             0.6666666666666666,
             "#ed7953"
            ],
            [
             0.7777777777777778,
             "#fb9f3a"
            ],
            [
             0.8888888888888888,
             "#fdca26"
            ],
            [
             1,
             "#f0f921"
            ]
           ]
          },
          "colorway": [
           "#636efa",
           "#EF553B",
           "#00cc96",
           "#ab63fa",
           "#FFA15A",
           "#19d3f3",
           "#FF6692",
           "#B6E880",
           "#FF97FF",
           "#FECB52"
          ],
          "font": {
           "color": "#2a3f5f"
          },
          "geo": {
           "bgcolor": "white",
           "lakecolor": "white",
           "landcolor": "#E5ECF6",
           "showlakes": true,
           "showland": true,
           "subunitcolor": "white"
          },
          "hoverlabel": {
           "align": "left"
          },
          "hovermode": "closest",
          "mapbox": {
           "style": "light"
          },
          "paper_bgcolor": "white",
          "plot_bgcolor": "#E5ECF6",
          "polar": {
           "angularaxis": {
            "gridcolor": "white",
            "linecolor": "white",
            "ticks": ""
           },
           "bgcolor": "#E5ECF6",
           "radialaxis": {
            "gridcolor": "white",
            "linecolor": "white",
            "ticks": ""
           }
          },
          "scene": {
           "xaxis": {
            "backgroundcolor": "#E5ECF6",
            "gridcolor": "white",
            "gridwidth": 2,
            "linecolor": "white",
            "showbackground": true,
            "ticks": "",
            "zerolinecolor": "white"
           },
           "yaxis": {
            "backgroundcolor": "#E5ECF6",
            "gridcolor": "white",
            "gridwidth": 2,
            "linecolor": "white",
            "showbackground": true,
            "ticks": "",
            "zerolinecolor": "white"
           },
           "zaxis": {
            "backgroundcolor": "#E5ECF6",
            "gridcolor": "white",
            "gridwidth": 2,
            "linecolor": "white",
            "showbackground": true,
            "ticks": "",
            "zerolinecolor": "white"
           }
          },
          "shapedefaults": {
           "line": {
            "color": "#2a3f5f"
           }
          },
          "ternary": {
           "aaxis": {
            "gridcolor": "white",
            "linecolor": "white",
            "ticks": ""
           },
           "baxis": {
            "gridcolor": "white",
            "linecolor": "white",
            "ticks": ""
           },
           "bgcolor": "#E5ECF6",
           "caxis": {
            "gridcolor": "white",
            "linecolor": "white",
            "ticks": ""
           }
          },
          "title": {
           "x": 0.05
          },
          "xaxis": {
           "automargin": true,
           "gridcolor": "white",
           "linecolor": "white",
           "ticks": "",
           "title": {
            "standoff": 15
           },
           "zerolinecolor": "white",
           "zerolinewidth": 2
          },
          "yaxis": {
           "automargin": true,
           "gridcolor": "white",
           "linecolor": "white",
           "ticks": "",
           "title": {
            "standoff": 15
           },
           "zerolinecolor": "white",
           "zerolinewidth": 2
          }
         }
        },
        "title": {
         "font": {
          "size": 24
         },
         "text": "Count of Posts for Each Subreddit",
         "x": 0.5,
         "y": 0.95
        },
        "xaxis": {
         "anchor": "y",
         "domain": [
          0,
          1
         ],
         "tickangle": -45,
         "title": {
          "text": ""
         }
        },
        "yaxis": {
         "anchor": "x",
         "domain": [
          0,
          1
         ],
         "title": {
          "text": "Count"
         }
        }
       }
      }
     },
     "metadata": {},
     "output_type": "display_data"
    }
   ],
   "source": [
    "# Read the CSV file and create a DataFrame\n",
    "df = pd.read_csv('top_year_subreddit.csv')\n",
    "\n",
    "# Group the data by subreddit and count the number of posts for each subreddit\n",
    "subreddit_count = df.groupby('subreddit').size().reset_index(name='count')\n",
    "\n",
    "# Sort the data by count in descending order\n",
    "subreddit_count = subreddit_count.sort_values(by='count', ascending=False)\n",
    "\n",
    "# Create an interactive bar plot of the count for each subreddit\n",
    "fig = px.bar(subreddit_count, x='subreddit', y='count', title='Count of Posts for Each Subreddit',\n",
    "             color='count', color_continuous_scale='Blues')\n",
    "fig.update_traces(marker_line_color='rgb(8,48,107)', marker_line_width=1.5, opacity=0.8)\n",
    "fig.update_layout(xaxis_tickangle=-45, xaxis_title='', yaxis_title='Count', \n",
    "                  title_font_size=24, title_x=0.5, title_y=0.95, \n",
    "                  font=dict(size=14, color='black'))\n",
    "fig.update_layout(showlegend=False)\n",
    "#fig.update_xaxes(showticklabels=False)\n",
    "fig.show()"
   ]
  },
  {
   "cell_type": "code",
   "execution_count": 37,
   "metadata": {},
   "outputs": [
    {
     "data": {
      "application/vnd.plotly.v1+json": {
       "config": {
        "plotlyServerURL": "https://plot.ly"
       },
       "data": [
        {
         "alignmentgroup": "True",
         "hovertemplate": "subreddit=%{x}<br>count=%{marker.color}<extra></extra>",
         "legendgroup": "",
         "marker": {
          "color": [
           559,
           368,
           208,
           170,
           152,
           114,
           98,
           80,
           55,
           39,
           38,
           37,
           35,
           30,
           20,
           20,
           19,
           19,
           18,
           18,
           14,
           13,
           13,
           8,
           8,
           8,
           7,
           6,
           6,
           5,
           5,
           5,
           4,
           4,
           4,
           4,
           4,
           3,
           3,
           3,
           3,
           3,
           3,
           2,
           2,
           2,
           2,
           2,
           2,
           2,
           2,
           2,
           2,
           1,
           1,
           1,
           1,
           1,
           1,
           1,
           1,
           1,
           1,
           1,
           1,
           1,
           1,
           1,
           1,
           1,
           1,
           1,
           1,
           1,
           1,
           1,
           1,
           1,
           1,
           1,
           1,
           1,
           1,
           1,
           1,
           1
          ],
          "coloraxis": "coloraxis",
          "line": {
           "color": "rgb(8,48,107)",
           "width": 1.5
          },
          "pattern": {
           "shape": ""
          }
         },
         "name": "",
         "offsetgroup": "",
         "opacity": 0.8,
         "orientation": "v",
         "showlegend": false,
         "textposition": "auto",
         "type": "bar",
         "x": [
          "r/memes",
          "r/pics",
          "r/funny",
          "r/aww",
          "r/nextfuckinglevel",
          "r/gaming",
          "r/gifs",
          "r/interestingasfuck",
          "r/wallstreetbets",
          "r/news",
          "r/PublicFreakout",
          "r/MurderedByWords",
          "r/worldnews",
          "r/MadeMeSmile",
          "r/wholesomememes",
          "r/todayilearned",
          "r/WhitePeopleTwitter",
          "r/AskReddit",
          "r/WatchPeopleDieInside",
          "r/mildlyinteresting",
          "r/Showerthoughts",
          "r/facepalm",
          "r/videos",
          "r/PrequelMemes",
          "r/Wellthatsucks",
          "r/teenagers",
          "r/space",
          "r/politics",
          "r/movies",
          "r/me_irl",
          "r/awfuleverything",
          "r/IdiotsInCars",
          "r/PewdiepieSubmissions",
          "r/LifeProTips",
          "r/BlackPeopleTwitter",
          "r/tifu",
          "r/announcements",
          "r/trashy",
          "r/BikiniBottomTwitter",
          "r/insanepeoplefacebook",
          "r/thanosdidnothingwrong",
          "r/oddlysatisfying",
          "r/technology",
          "r/JusticeServed",
          "r/instant_regret",
          "r/IAmA",
          "r/iamatotalpieceofshit",
          "r/Jokes",
          "r/LeopardsAteMyFace",
          "r/science",
          "r/rickandmorty",
          "r/Futurology",
          "r/UpliftingNews",
          "r/pcmasterrace",
          "r/sports",
          "r/quityourbullshit",
          "r/pokemon",
          "r/nottheonion",
          "r/AskMen",
          "r/lotrmemes",
          "r/Music",
          "r/AyyMD",
          "r/BeAmazed",
          "r/ChoosingBeggars",
          "r/Coronavirus",
          "r/Damnthatsinteresting",
          "r/DunderMifflin",
          "r/GetMotivated",
          "r/HolUp",
          "r/HongKong",
          "r/Instagramreality",
          "r/MemeEconomy",
          "r/OldSchoolCool",
          "r/listentothis",
          "r/PoliticalHumor",
          "r/StarWarsBattlefront",
          "r/The_Mueller",
          "r/TwoXChromosomes",
          "r/Whatcouldgowrong",
          "r/assholedesign",
          "r/comics",
          "r/coolguides",
          "r/dataisbeautiful",
          "r/freefolk",
          "r/gifsthatkeepongiving",
          "r/books"
         ],
         "xaxis": "x",
         "y": [
          559,
          368,
          208,
          170,
          152,
          114,
          98,
          80,
          55,
          39,
          38,
          37,
          35,
          30,
          20,
          20,
          19,
          19,
          18,
          18,
          14,
          13,
          13,
          8,
          8,
          8,
          7,
          6,
          6,
          5,
          5,
          5,
          4,
          4,
          4,
          4,
          4,
          3,
          3,
          3,
          3,
          3,
          3,
          2,
          2,
          2,
          2,
          2,
          2,
          2,
          2,
          2,
          2,
          1,
          1,
          1,
          1,
          1,
          1,
          1,
          1,
          1,
          1,
          1,
          1,
          1,
          1,
          1,
          1,
          1,
          1,
          1,
          1,
          1,
          1,
          1,
          1,
          1,
          1,
          1,
          1,
          1,
          1,
          1,
          1,
          1
         ],
         "yaxis": "y"
        }
       ],
       "layout": {
        "barmode": "relative",
        "coloraxis": {
         "colorbar": {
          "title": {
           "text": "count"
          }
         },
         "colorscale": [
          [
           0,
           "rgb(247,251,255)"
          ],
          [
           0.125,
           "rgb(222,235,247)"
          ],
          [
           0.25,
           "rgb(198,219,239)"
          ],
          [
           0.375,
           "rgb(158,202,225)"
          ],
          [
           0.5,
           "rgb(107,174,214)"
          ],
          [
           0.625,
           "rgb(66,146,198)"
          ],
          [
           0.75,
           "rgb(33,113,181)"
          ],
          [
           0.875,
           "rgb(8,81,156)"
          ],
          [
           1,
           "rgb(8,48,107)"
          ]
         ]
        },
        "font": {
         "color": "black",
         "size": 14
        },
        "legend": {
         "tracegroupgap": 0
        },
        "showlegend": false,
        "template": {
         "data": {
          "bar": [
           {
            "error_x": {
             "color": "#2a3f5f"
            },
            "error_y": {
             "color": "#2a3f5f"
            },
            "marker": {
             "line": {
              "color": "#E5ECF6",
              "width": 0.5
             },
             "pattern": {
              "fillmode": "overlay",
              "size": 10,
              "solidity": 0.2
             }
            },
            "type": "bar"
           }
          ],
          "barpolar": [
           {
            "marker": {
             "line": {
              "color": "#E5ECF6",
              "width": 0.5
             },
             "pattern": {
              "fillmode": "overlay",
              "size": 10,
              "solidity": 0.2
             }
            },
            "type": "barpolar"
           }
          ],
          "carpet": [
           {
            "aaxis": {
             "endlinecolor": "#2a3f5f",
             "gridcolor": "white",
             "linecolor": "white",
             "minorgridcolor": "white",
             "startlinecolor": "#2a3f5f"
            },
            "baxis": {
             "endlinecolor": "#2a3f5f",
             "gridcolor": "white",
             "linecolor": "white",
             "minorgridcolor": "white",
             "startlinecolor": "#2a3f5f"
            },
            "type": "carpet"
           }
          ],
          "choropleth": [
           {
            "colorbar": {
             "outlinewidth": 0,
             "ticks": ""
            },
            "type": "choropleth"
           }
          ],
          "contour": [
           {
            "colorbar": {
             "outlinewidth": 0,
             "ticks": ""
            },
            "colorscale": [
             [
              0,
              "#0d0887"
             ],
             [
              0.1111111111111111,
              "#46039f"
             ],
             [
              0.2222222222222222,
              "#7201a8"
             ],
             [
              0.3333333333333333,
              "#9c179e"
             ],
             [
              0.4444444444444444,
              "#bd3786"
             ],
             [
              0.5555555555555556,
              "#d8576b"
             ],
             [
              0.6666666666666666,
              "#ed7953"
             ],
             [
              0.7777777777777778,
              "#fb9f3a"
             ],
             [
              0.8888888888888888,
              "#fdca26"
             ],
             [
              1,
              "#f0f921"
             ]
            ],
            "type": "contour"
           }
          ],
          "contourcarpet": [
           {
            "colorbar": {
             "outlinewidth": 0,
             "ticks": ""
            },
            "type": "contourcarpet"
           }
          ],
          "heatmap": [
           {
            "colorbar": {
             "outlinewidth": 0,
             "ticks": ""
            },
            "colorscale": [
             [
              0,
              "#0d0887"
             ],
             [
              0.1111111111111111,
              "#46039f"
             ],
             [
              0.2222222222222222,
              "#7201a8"
             ],
             [
              0.3333333333333333,
              "#9c179e"
             ],
             [
              0.4444444444444444,
              "#bd3786"
             ],
             [
              0.5555555555555556,
              "#d8576b"
             ],
             [
              0.6666666666666666,
              "#ed7953"
             ],
             [
              0.7777777777777778,
              "#fb9f3a"
             ],
             [
              0.8888888888888888,
              "#fdca26"
             ],
             [
              1,
              "#f0f921"
             ]
            ],
            "type": "heatmap"
           }
          ],
          "heatmapgl": [
           {
            "colorbar": {
             "outlinewidth": 0,
             "ticks": ""
            },
            "colorscale": [
             [
              0,
              "#0d0887"
             ],
             [
              0.1111111111111111,
              "#46039f"
             ],
             [
              0.2222222222222222,
              "#7201a8"
             ],
             [
              0.3333333333333333,
              "#9c179e"
             ],
             [
              0.4444444444444444,
              "#bd3786"
             ],
             [
              0.5555555555555556,
              "#d8576b"
             ],
             [
              0.6666666666666666,
              "#ed7953"
             ],
             [
              0.7777777777777778,
              "#fb9f3a"
             ],
             [
              0.8888888888888888,
              "#fdca26"
             ],
             [
              1,
              "#f0f921"
             ]
            ],
            "type": "heatmapgl"
           }
          ],
          "histogram": [
           {
            "marker": {
             "pattern": {
              "fillmode": "overlay",
              "size": 10,
              "solidity": 0.2
             }
            },
            "type": "histogram"
           }
          ],
          "histogram2d": [
           {
            "colorbar": {
             "outlinewidth": 0,
             "ticks": ""
            },
            "colorscale": [
             [
              0,
              "#0d0887"
             ],
             [
              0.1111111111111111,
              "#46039f"
             ],
             [
              0.2222222222222222,
              "#7201a8"
             ],
             [
              0.3333333333333333,
              "#9c179e"
             ],
             [
              0.4444444444444444,
              "#bd3786"
             ],
             [
              0.5555555555555556,
              "#d8576b"
             ],
             [
              0.6666666666666666,
              "#ed7953"
             ],
             [
              0.7777777777777778,
              "#fb9f3a"
             ],
             [
              0.8888888888888888,
              "#fdca26"
             ],
             [
              1,
              "#f0f921"
             ]
            ],
            "type": "histogram2d"
           }
          ],
          "histogram2dcontour": [
           {
            "colorbar": {
             "outlinewidth": 0,
             "ticks": ""
            },
            "colorscale": [
             [
              0,
              "#0d0887"
             ],
             [
              0.1111111111111111,
              "#46039f"
             ],
             [
              0.2222222222222222,
              "#7201a8"
             ],
             [
              0.3333333333333333,
              "#9c179e"
             ],
             [
              0.4444444444444444,
              "#bd3786"
             ],
             [
              0.5555555555555556,
              "#d8576b"
             ],
             [
              0.6666666666666666,
              "#ed7953"
             ],
             [
              0.7777777777777778,
              "#fb9f3a"
             ],
             [
              0.8888888888888888,
              "#fdca26"
             ],
             [
              1,
              "#f0f921"
             ]
            ],
            "type": "histogram2dcontour"
           }
          ],
          "mesh3d": [
           {
            "colorbar": {
             "outlinewidth": 0,
             "ticks": ""
            },
            "type": "mesh3d"
           }
          ],
          "parcoords": [
           {
            "line": {
             "colorbar": {
              "outlinewidth": 0,
              "ticks": ""
             }
            },
            "type": "parcoords"
           }
          ],
          "pie": [
           {
            "automargin": true,
            "type": "pie"
           }
          ],
          "scatter": [
           {
            "fillpattern": {
             "fillmode": "overlay",
             "size": 10,
             "solidity": 0.2
            },
            "type": "scatter"
           }
          ],
          "scatter3d": [
           {
            "line": {
             "colorbar": {
              "outlinewidth": 0,
              "ticks": ""
             }
            },
            "marker": {
             "colorbar": {
              "outlinewidth": 0,
              "ticks": ""
             }
            },
            "type": "scatter3d"
           }
          ],
          "scattercarpet": [
           {
            "marker": {
             "colorbar": {
              "outlinewidth": 0,
              "ticks": ""
             }
            },
            "type": "scattercarpet"
           }
          ],
          "scattergeo": [
           {
            "marker": {
             "colorbar": {
              "outlinewidth": 0,
              "ticks": ""
             }
            },
            "type": "scattergeo"
           }
          ],
          "scattergl": [
           {
            "marker": {
             "colorbar": {
              "outlinewidth": 0,
              "ticks": ""
             }
            },
            "type": "scattergl"
           }
          ],
          "scattermapbox": [
           {
            "marker": {
             "colorbar": {
              "outlinewidth": 0,
              "ticks": ""
             }
            },
            "type": "scattermapbox"
           }
          ],
          "scatterpolar": [
           {
            "marker": {
             "colorbar": {
              "outlinewidth": 0,
              "ticks": ""
             }
            },
            "type": "scatterpolar"
           }
          ],
          "scatterpolargl": [
           {
            "marker": {
             "colorbar": {
              "outlinewidth": 0,
              "ticks": ""
             }
            },
            "type": "scatterpolargl"
           }
          ],
          "scatterternary": [
           {
            "marker": {
             "colorbar": {
              "outlinewidth": 0,
              "ticks": ""
             }
            },
            "type": "scatterternary"
           }
          ],
          "surface": [
           {
            "colorbar": {
             "outlinewidth": 0,
             "ticks": ""
            },
            "colorscale": [
             [
              0,
              "#0d0887"
             ],
             [
              0.1111111111111111,
              "#46039f"
             ],
             [
              0.2222222222222222,
              "#7201a8"
             ],
             [
              0.3333333333333333,
              "#9c179e"
             ],
             [
              0.4444444444444444,
              "#bd3786"
             ],
             [
              0.5555555555555556,
              "#d8576b"
             ],
             [
              0.6666666666666666,
              "#ed7953"
             ],
             [
              0.7777777777777778,
              "#fb9f3a"
             ],
             [
              0.8888888888888888,
              "#fdca26"
             ],
             [
              1,
              "#f0f921"
             ]
            ],
            "type": "surface"
           }
          ],
          "table": [
           {
            "cells": {
             "fill": {
              "color": "#EBF0F8"
             },
             "line": {
              "color": "white"
             }
            },
            "header": {
             "fill": {
              "color": "#C8D4E3"
             },
             "line": {
              "color": "white"
             }
            },
            "type": "table"
           }
          ]
         },
         "layout": {
          "annotationdefaults": {
           "arrowcolor": "#2a3f5f",
           "arrowhead": 0,
           "arrowwidth": 1
          },
          "autotypenumbers": "strict",
          "coloraxis": {
           "colorbar": {
            "outlinewidth": 0,
            "ticks": ""
           }
          },
          "colorscale": {
           "diverging": [
            [
             0,
             "#8e0152"
            ],
            [
             0.1,
             "#c51b7d"
            ],
            [
             0.2,
             "#de77ae"
            ],
            [
             0.3,
             "#f1b6da"
            ],
            [
             0.4,
             "#fde0ef"
            ],
            [
             0.5,
             "#f7f7f7"
            ],
            [
             0.6,
             "#e6f5d0"
            ],
            [
             0.7,
             "#b8e186"
            ],
            [
             0.8,
             "#7fbc41"
            ],
            [
             0.9,
             "#4d9221"
            ],
            [
             1,
             "#276419"
            ]
           ],
           "sequential": [
            [
             0,
             "#0d0887"
            ],
            [
             0.1111111111111111,
             "#46039f"
            ],
            [
             0.2222222222222222,
             "#7201a8"
            ],
            [
             0.3333333333333333,
             "#9c179e"
            ],
            [
             0.4444444444444444,
             "#bd3786"
            ],
            [
             0.5555555555555556,
             "#d8576b"
            ],
            [
             0.6666666666666666,
             "#ed7953"
            ],
            [
             0.7777777777777778,
             "#fb9f3a"
            ],
            [
             0.8888888888888888,
             "#fdca26"
            ],
            [
             1,
             "#f0f921"
            ]
           ],
           "sequentialminus": [
            [
             0,
             "#0d0887"
            ],
            [
             0.1111111111111111,
             "#46039f"
            ],
            [
             0.2222222222222222,
             "#7201a8"
            ],
            [
             0.3333333333333333,
             "#9c179e"
            ],
            [
             0.4444444444444444,
             "#bd3786"
            ],
            [
             0.5555555555555556,
             "#d8576b"
            ],
            [
             0.6666666666666666,
             "#ed7953"
            ],
            [
             0.7777777777777778,
             "#fb9f3a"
            ],
            [
             0.8888888888888888,
             "#fdca26"
            ],
            [
             1,
             "#f0f921"
            ]
           ]
          },
          "colorway": [
           "#636efa",
           "#EF553B",
           "#00cc96",
           "#ab63fa",
           "#FFA15A",
           "#19d3f3",
           "#FF6692",
           "#B6E880",
           "#FF97FF",
           "#FECB52"
          ],
          "font": {
           "color": "#2a3f5f"
          },
          "geo": {
           "bgcolor": "white",
           "lakecolor": "white",
           "landcolor": "#E5ECF6",
           "showlakes": true,
           "showland": true,
           "subunitcolor": "white"
          },
          "hoverlabel": {
           "align": "left"
          },
          "hovermode": "closest",
          "mapbox": {
           "style": "light"
          },
          "paper_bgcolor": "white",
          "plot_bgcolor": "#E5ECF6",
          "polar": {
           "angularaxis": {
            "gridcolor": "white",
            "linecolor": "white",
            "ticks": ""
           },
           "bgcolor": "#E5ECF6",
           "radialaxis": {
            "gridcolor": "white",
            "linecolor": "white",
            "ticks": ""
           }
          },
          "scene": {
           "xaxis": {
            "backgroundcolor": "#E5ECF6",
            "gridcolor": "white",
            "gridwidth": 2,
            "linecolor": "white",
            "showbackground": true,
            "ticks": "",
            "zerolinecolor": "white"
           },
           "yaxis": {
            "backgroundcolor": "#E5ECF6",
            "gridcolor": "white",
            "gridwidth": 2,
            "linecolor": "white",
            "showbackground": true,
            "ticks": "",
            "zerolinecolor": "white"
           },
           "zaxis": {
            "backgroundcolor": "#E5ECF6",
            "gridcolor": "white",
            "gridwidth": 2,
            "linecolor": "white",
            "showbackground": true,
            "ticks": "",
            "zerolinecolor": "white"
           }
          },
          "shapedefaults": {
           "line": {
            "color": "#2a3f5f"
           }
          },
          "ternary": {
           "aaxis": {
            "gridcolor": "white",
            "linecolor": "white",
            "ticks": ""
           },
           "baxis": {
            "gridcolor": "white",
            "linecolor": "white",
            "ticks": ""
           },
           "bgcolor": "#E5ECF6",
           "caxis": {
            "gridcolor": "white",
            "linecolor": "white",
            "ticks": ""
           }
          },
          "title": {
           "x": 0.05
          },
          "xaxis": {
           "automargin": true,
           "gridcolor": "white",
           "linecolor": "white",
           "ticks": "",
           "title": {
            "standoff": 15
           },
           "zerolinecolor": "white",
           "zerolinewidth": 2
          },
          "yaxis": {
           "automargin": true,
           "gridcolor": "white",
           "linecolor": "white",
           "ticks": "",
           "title": {
            "standoff": 15
           },
           "zerolinecolor": "white",
           "zerolinewidth": 2
          }
         }
        },
        "title": {
         "font": {
          "size": 24
         },
         "text": "Count of Posts for Each Subreddit",
         "x": 0.5,
         "y": 0.95
        },
        "xaxis": {
         "anchor": "y",
         "domain": [
          0,
          1
         ],
         "tickangle": -45,
         "title": {
          "text": ""
         }
        },
        "yaxis": {
         "anchor": "x",
         "domain": [
          0,
          1
         ],
         "title": {
          "text": "Count"
         }
        }
       }
      }
     },
     "metadata": {},
     "output_type": "display_data"
    }
   ],
   "source": [
    "# Read the CSV file and create a DataFrame\n",
    "df = pd.read_csv('top_all_subreddit.csv')\n",
    "\n",
    "# Group the data by subreddit and count the number of posts for each subreddit\n",
    "subreddit_count = df.groupby('subreddit').size().reset_index(name='count')\n",
    "\n",
    "# Sort the data by count in descending order\n",
    "subreddit_count = subreddit_count.sort_values(by='count', ascending=False)\n",
    "\n",
    "# Create an interactive bar plot of the count for each subreddit\n",
    "fig = px.bar(subreddit_count, x='subreddit', y='count', title='Count of Posts for Each Subreddit',\n",
    "             color='count', color_continuous_scale='Blues')\n",
    "fig.update_traces(marker_line_color='rgb(8,48,107)', marker_line_width=1.5, opacity=0.8)\n",
    "fig.update_layout(xaxis_tickangle=-45, xaxis_title='', yaxis_title='Count', \n",
    "                  title_font_size=24, title_x=0.5, title_y=0.95, \n",
    "                  font=dict(size=14, color='black'))\n",
    "fig.update_layout(showlegend=False)\n",
    "#fig.update_xaxes(showticklabels=False)\n",
    "fig.show()"
   ]
  },
  {
   "cell_type": "code",
   "execution_count": 38,
   "metadata": {},
   "outputs": [
    {
     "data": {
      "application/vnd.plotly.v1+json": {
       "config": {
        "plotlyServerURL": "https://plot.ly"
       },
       "data": [
        {
         "alignmentgroup": "True",
         "hovertemplate": "subreddit=%{x}<br>count=%{marker.color}<extra></extra>",
         "legendgroup": "",
         "marker": {
          "color": [
           67,
           58,
           46,
           45,
           35,
           35,
           34,
           33,
           33,
           33,
           32,
           32,
           32,
           29,
           28,
           25,
           24,
           21,
           19,
           18,
           15,
           15,
           15,
           13,
           12,
           11,
           11,
           10,
           9,
           9,
           9,
           7,
           6,
           6,
           6,
           6,
           6,
           5,
           5,
           5,
           4,
           4,
           4,
           4,
           3,
           3,
           3,
           3,
           3,
           2,
           2,
           2,
           2,
           2,
           2,
           2,
           2,
           1,
           1,
           1,
           1,
           1,
           1,
           1,
           1,
           1,
           1,
           1,
           1,
           1,
           1,
           1,
           1,
           1,
           1,
           1,
           1,
           1,
           1,
           1,
           1,
           1,
           1,
           1,
           1,
           1,
           1,
           1,
           1,
           1,
           1,
           1,
           1,
           1,
           1,
           1,
           1,
           1,
           1,
           1,
           1,
           1,
           1,
           1,
           1,
           1,
           1,
           1,
           1,
           1
          ],
          "coloraxis": "coloraxis",
          "line": {
           "color": "rgb(8,48,107)",
           "width": 1.5
          },
          "pattern": {
           "shape": ""
          }
         },
         "name": "",
         "offsetgroup": "",
         "opacity": 0.8,
         "orientation": "v",
         "showlegend": false,
         "textposition": "auto",
         "type": "bar",
         "x": [
          "r/MadeMeSmile",
          "r/me_irl",
          "r/Damnthatsinteresting",
          "r/pics",
          "r/aww",
          "r/wholesomememes",
          "r/facepalm",
          "r/nextfuckinglevel",
          "r/mildlyinfuriating",
          "r/funny",
          "r/BeAmazed",
          "r/memes",
          "r/therewasanattempt",
          "r/mildlyinteresting",
          "r/meirl",
          "r/comics",
          "r/oddlysatisfying",
          "r/shitposting",
          "r/clevercomebacks",
          "r/WhitePeopleTwitter",
          "r/NatureIsFuckingLit",
          "r/KidsAreFuckingStupid",
          "r/FunnyandSad",
          "r/todayilearned",
          "r/perfectlycutscreams",
          "r/blackmagicfuckery",
          "r/SipsTea",
          "r/dankmemes",
          "r/politics",
          "r/holdmycatnip",
          "r/maybemaybemaybe",
          "r/news",
          "r/AnimalsBeingBros",
          "r/StandUpComedy",
          "r/tumblr",
          "r/funnyvideos",
          "r/MurderedByWords",
          "r/OldSchoolCool",
          "r/worldnews",
          "r/HumansBeingBros",
          "r/rareinsults",
          "r/TikTokCringe",
          "r/ContagiousLaughter",
          "r/Weird",
          "r/PoliticalHumor",
          "r/gifs",
          "r/gaming",
          "r/oddlyspecific",
          "r/cats",
          "r/AbsoluteUnits",
          "r/madlads",
          "r/PublicFreakout",
          "r/HolUp",
          "r/AnimalsBeingDerps",
          "r/technicallythetruth",
          "r/texts",
          "r/JustGuysBeingDudes",
          "r/whatisthisbone",
          "r/youseeingthisshit",
          "r/wizardposting",
          "r/midjourney",
          "r/wholesomegifs",
          "r/wholesome",
          "r/whenthe",
          "r/pcmasterrace",
          "r/toptalent",
          "r/pettyrevenge",
          "r/theydidthemath",
          "r/thalassophobia",
          "r/stories",
          "r/snails",
          "r/scambait",
          "r/popculturechat",
          "r/2meirl4meirl",
          "r/blackpeoplegifs",
          "r/lotrmemes",
          "r/CuratedTumblr",
          "r/MemeVideos",
          "r/ImTheMainCharacter",
          "r/IRLEasterEggs",
          "r/FluentInFinance",
          "r/Eyebleach",
          "r/DunderMifflin",
          "r/Concrete",
          "r/NewsAroundYou",
          "r/Catswithjobs",
          "r/BrandNewSentence",
          "r/BlackPeopleTwitter",
          "r/BikiniBottomTwitter",
          "r/Awww",
          "r/AmItheAsshole",
          "r/MyPeopleNeedMe",
          "r/NonPoliticalTwitter",
          "r/interesting",
          "r/Wellthatsucks",
          "r/dogpictures",
          "r/confusing_perspective",
          "r/bi_irl",
          "r/YouShouldKnow",
          "r/WhatsWrongWithYourCat",
          "r/Whatcouldgowrong",
          "r/UpliftingNews",
          "r/PeterExplainsTheJoke",
          "r/StupidFood",
          "r/StartledCats",
          "r/Starfield",
          "r/Satisfyingasfuck",
          "r/PraiseTheCameraMan",
          "r/PhotoshopRequest",
          "r/youtube"
         ],
         "xaxis": "x",
         "y": [
          67,
          58,
          46,
          45,
          35,
          35,
          34,
          33,
          33,
          33,
          32,
          32,
          32,
          29,
          28,
          25,
          24,
          21,
          19,
          18,
          15,
          15,
          15,
          13,
          12,
          11,
          11,
          10,
          9,
          9,
          9,
          7,
          6,
          6,
          6,
          6,
          6,
          5,
          5,
          5,
          4,
          4,
          4,
          4,
          3,
          3,
          3,
          3,
          3,
          2,
          2,
          2,
          2,
          2,
          2,
          2,
          2,
          1,
          1,
          1,
          1,
          1,
          1,
          1,
          1,
          1,
          1,
          1,
          1,
          1,
          1,
          1,
          1,
          1,
          1,
          1,
          1,
          1,
          1,
          1,
          1,
          1,
          1,
          1,
          1,
          1,
          1,
          1,
          1,
          1,
          1,
          1,
          1,
          1,
          1,
          1,
          1,
          1,
          1,
          1,
          1,
          1,
          1,
          1,
          1,
          1,
          1,
          1,
          1,
          1
         ],
         "yaxis": "y"
        }
       ],
       "layout": {
        "barmode": "relative",
        "coloraxis": {
         "colorbar": {
          "title": {
           "text": "count"
          }
         },
         "colorscale": [
          [
           0,
           "rgb(247,251,255)"
          ],
          [
           0.125,
           "rgb(222,235,247)"
          ],
          [
           0.25,
           "rgb(198,219,239)"
          ],
          [
           0.375,
           "rgb(158,202,225)"
          ],
          [
           0.5,
           "rgb(107,174,214)"
          ],
          [
           0.625,
           "rgb(66,146,198)"
          ],
          [
           0.75,
           "rgb(33,113,181)"
          ],
          [
           0.875,
           "rgb(8,81,156)"
          ],
          [
           1,
           "rgb(8,48,107)"
          ]
         ]
        },
        "font": {
         "color": "black",
         "size": 14
        },
        "legend": {
         "tracegroupgap": 0
        },
        "showlegend": false,
        "template": {
         "data": {
          "bar": [
           {
            "error_x": {
             "color": "#2a3f5f"
            },
            "error_y": {
             "color": "#2a3f5f"
            },
            "marker": {
             "line": {
              "color": "#E5ECF6",
              "width": 0.5
             },
             "pattern": {
              "fillmode": "overlay",
              "size": 10,
              "solidity": 0.2
             }
            },
            "type": "bar"
           }
          ],
          "barpolar": [
           {
            "marker": {
             "line": {
              "color": "#E5ECF6",
              "width": 0.5
             },
             "pattern": {
              "fillmode": "overlay",
              "size": 10,
              "solidity": 0.2
             }
            },
            "type": "barpolar"
           }
          ],
          "carpet": [
           {
            "aaxis": {
             "endlinecolor": "#2a3f5f",
             "gridcolor": "white",
             "linecolor": "white",
             "minorgridcolor": "white",
             "startlinecolor": "#2a3f5f"
            },
            "baxis": {
             "endlinecolor": "#2a3f5f",
             "gridcolor": "white",
             "linecolor": "white",
             "minorgridcolor": "white",
             "startlinecolor": "#2a3f5f"
            },
            "type": "carpet"
           }
          ],
          "choropleth": [
           {
            "colorbar": {
             "outlinewidth": 0,
             "ticks": ""
            },
            "type": "choropleth"
           }
          ],
          "contour": [
           {
            "colorbar": {
             "outlinewidth": 0,
             "ticks": ""
            },
            "colorscale": [
             [
              0,
              "#0d0887"
             ],
             [
              0.1111111111111111,
              "#46039f"
             ],
             [
              0.2222222222222222,
              "#7201a8"
             ],
             [
              0.3333333333333333,
              "#9c179e"
             ],
             [
              0.4444444444444444,
              "#bd3786"
             ],
             [
              0.5555555555555556,
              "#d8576b"
             ],
             [
              0.6666666666666666,
              "#ed7953"
             ],
             [
              0.7777777777777778,
              "#fb9f3a"
             ],
             [
              0.8888888888888888,
              "#fdca26"
             ],
             [
              1,
              "#f0f921"
             ]
            ],
            "type": "contour"
           }
          ],
          "contourcarpet": [
           {
            "colorbar": {
             "outlinewidth": 0,
             "ticks": ""
            },
            "type": "contourcarpet"
           }
          ],
          "heatmap": [
           {
            "colorbar": {
             "outlinewidth": 0,
             "ticks": ""
            },
            "colorscale": [
             [
              0,
              "#0d0887"
             ],
             [
              0.1111111111111111,
              "#46039f"
             ],
             [
              0.2222222222222222,
              "#7201a8"
             ],
             [
              0.3333333333333333,
              "#9c179e"
             ],
             [
              0.4444444444444444,
              "#bd3786"
             ],
             [
              0.5555555555555556,
              "#d8576b"
             ],
             [
              0.6666666666666666,
              "#ed7953"
             ],
             [
              0.7777777777777778,
              "#fb9f3a"
             ],
             [
              0.8888888888888888,
              "#fdca26"
             ],
             [
              1,
              "#f0f921"
             ]
            ],
            "type": "heatmap"
           }
          ],
          "heatmapgl": [
           {
            "colorbar": {
             "outlinewidth": 0,
             "ticks": ""
            },
            "colorscale": [
             [
              0,
              "#0d0887"
             ],
             [
              0.1111111111111111,
              "#46039f"
             ],
             [
              0.2222222222222222,
              "#7201a8"
             ],
             [
              0.3333333333333333,
              "#9c179e"
             ],
             [
              0.4444444444444444,
              "#bd3786"
             ],
             [
              0.5555555555555556,
              "#d8576b"
             ],
             [
              0.6666666666666666,
              "#ed7953"
             ],
             [
              0.7777777777777778,
              "#fb9f3a"
             ],
             [
              0.8888888888888888,
              "#fdca26"
             ],
             [
              1,
              "#f0f921"
             ]
            ],
            "type": "heatmapgl"
           }
          ],
          "histogram": [
           {
            "marker": {
             "pattern": {
              "fillmode": "overlay",
              "size": 10,
              "solidity": 0.2
             }
            },
            "type": "histogram"
           }
          ],
          "histogram2d": [
           {
            "colorbar": {
             "outlinewidth": 0,
             "ticks": ""
            },
            "colorscale": [
             [
              0,
              "#0d0887"
             ],
             [
              0.1111111111111111,
              "#46039f"
             ],
             [
              0.2222222222222222,
              "#7201a8"
             ],
             [
              0.3333333333333333,
              "#9c179e"
             ],
             [
              0.4444444444444444,
              "#bd3786"
             ],
             [
              0.5555555555555556,
              "#d8576b"
             ],
             [
              0.6666666666666666,
              "#ed7953"
             ],
             [
              0.7777777777777778,
              "#fb9f3a"
             ],
             [
              0.8888888888888888,
              "#fdca26"
             ],
             [
              1,
              "#f0f921"
             ]
            ],
            "type": "histogram2d"
           }
          ],
          "histogram2dcontour": [
           {
            "colorbar": {
             "outlinewidth": 0,
             "ticks": ""
            },
            "colorscale": [
             [
              0,
              "#0d0887"
             ],
             [
              0.1111111111111111,
              "#46039f"
             ],
             [
              0.2222222222222222,
              "#7201a8"
             ],
             [
              0.3333333333333333,
              "#9c179e"
             ],
             [
              0.4444444444444444,
              "#bd3786"
             ],
             [
              0.5555555555555556,
              "#d8576b"
             ],
             [
              0.6666666666666666,
              "#ed7953"
             ],
             [
              0.7777777777777778,
              "#fb9f3a"
             ],
             [
              0.8888888888888888,
              "#fdca26"
             ],
             [
              1,
              "#f0f921"
             ]
            ],
            "type": "histogram2dcontour"
           }
          ],
          "mesh3d": [
           {
            "colorbar": {
             "outlinewidth": 0,
             "ticks": ""
            },
            "type": "mesh3d"
           }
          ],
          "parcoords": [
           {
            "line": {
             "colorbar": {
              "outlinewidth": 0,
              "ticks": ""
             }
            },
            "type": "parcoords"
           }
          ],
          "pie": [
           {
            "automargin": true,
            "type": "pie"
           }
          ],
          "scatter": [
           {
            "fillpattern": {
             "fillmode": "overlay",
             "size": 10,
             "solidity": 0.2
            },
            "type": "scatter"
           }
          ],
          "scatter3d": [
           {
            "line": {
             "colorbar": {
              "outlinewidth": 0,
              "ticks": ""
             }
            },
            "marker": {
             "colorbar": {
              "outlinewidth": 0,
              "ticks": ""
             }
            },
            "type": "scatter3d"
           }
          ],
          "scattercarpet": [
           {
            "marker": {
             "colorbar": {
              "outlinewidth": 0,
              "ticks": ""
             }
            },
            "type": "scattercarpet"
           }
          ],
          "scattergeo": [
           {
            "marker": {
             "colorbar": {
              "outlinewidth": 0,
              "ticks": ""
             }
            },
            "type": "scattergeo"
           }
          ],
          "scattergl": [
           {
            "marker": {
             "colorbar": {
              "outlinewidth": 0,
              "ticks": ""
             }
            },
            "type": "scattergl"
           }
          ],
          "scattermapbox": [
           {
            "marker": {
             "colorbar": {
              "outlinewidth": 0,
              "ticks": ""
             }
            },
            "type": "scattermapbox"
           }
          ],
          "scatterpolar": [
           {
            "marker": {
             "colorbar": {
              "outlinewidth": 0,
              "ticks": ""
             }
            },
            "type": "scatterpolar"
           }
          ],
          "scatterpolargl": [
           {
            "marker": {
             "colorbar": {
              "outlinewidth": 0,
              "ticks": ""
             }
            },
            "type": "scatterpolargl"
           }
          ],
          "scatterternary": [
           {
            "marker": {
             "colorbar": {
              "outlinewidth": 0,
              "ticks": ""
             }
            },
            "type": "scatterternary"
           }
          ],
          "surface": [
           {
            "colorbar": {
             "outlinewidth": 0,
             "ticks": ""
            },
            "colorscale": [
             [
              0,
              "#0d0887"
             ],
             [
              0.1111111111111111,
              "#46039f"
             ],
             [
              0.2222222222222222,
              "#7201a8"
             ],
             [
              0.3333333333333333,
              "#9c179e"
             ],
             [
              0.4444444444444444,
              "#bd3786"
             ],
             [
              0.5555555555555556,
              "#d8576b"
             ],
             [
              0.6666666666666666,
              "#ed7953"
             ],
             [
              0.7777777777777778,
              "#fb9f3a"
             ],
             [
              0.8888888888888888,
              "#fdca26"
             ],
             [
              1,
              "#f0f921"
             ]
            ],
            "type": "surface"
           }
          ],
          "table": [
           {
            "cells": {
             "fill": {
              "color": "#EBF0F8"
             },
             "line": {
              "color": "white"
             }
            },
            "header": {
             "fill": {
              "color": "#C8D4E3"
             },
             "line": {
              "color": "white"
             }
            },
            "type": "table"
           }
          ]
         },
         "layout": {
          "annotationdefaults": {
           "arrowcolor": "#2a3f5f",
           "arrowhead": 0,
           "arrowwidth": 1
          },
          "autotypenumbers": "strict",
          "coloraxis": {
           "colorbar": {
            "outlinewidth": 0,
            "ticks": ""
           }
          },
          "colorscale": {
           "diverging": [
            [
             0,
             "#8e0152"
            ],
            [
             0.1,
             "#c51b7d"
            ],
            [
             0.2,
             "#de77ae"
            ],
            [
             0.3,
             "#f1b6da"
            ],
            [
             0.4,
             "#fde0ef"
            ],
            [
             0.5,
             "#f7f7f7"
            ],
            [
             0.6,
             "#e6f5d0"
            ],
            [
             0.7,
             "#b8e186"
            ],
            [
             0.8,
             "#7fbc41"
            ],
            [
             0.9,
             "#4d9221"
            ],
            [
             1,
             "#276419"
            ]
           ],
           "sequential": [
            [
             0,
             "#0d0887"
            ],
            [
             0.1111111111111111,
             "#46039f"
            ],
            [
             0.2222222222222222,
             "#7201a8"
            ],
            [
             0.3333333333333333,
             "#9c179e"
            ],
            [
             0.4444444444444444,
             "#bd3786"
            ],
            [
             0.5555555555555556,
             "#d8576b"
            ],
            [
             0.6666666666666666,
             "#ed7953"
            ],
            [
             0.7777777777777778,
             "#fb9f3a"
            ],
            [
             0.8888888888888888,
             "#fdca26"
            ],
            [
             1,
             "#f0f921"
            ]
           ],
           "sequentialminus": [
            [
             0,
             "#0d0887"
            ],
            [
             0.1111111111111111,
             "#46039f"
            ],
            [
             0.2222222222222222,
             "#7201a8"
            ],
            [
             0.3333333333333333,
             "#9c179e"
            ],
            [
             0.4444444444444444,
             "#bd3786"
            ],
            [
             0.5555555555555556,
             "#d8576b"
            ],
            [
             0.6666666666666666,
             "#ed7953"
            ],
            [
             0.7777777777777778,
             "#fb9f3a"
            ],
            [
             0.8888888888888888,
             "#fdca26"
            ],
            [
             1,
             "#f0f921"
            ]
           ]
          },
          "colorway": [
           "#636efa",
           "#EF553B",
           "#00cc96",
           "#ab63fa",
           "#FFA15A",
           "#19d3f3",
           "#FF6692",
           "#B6E880",
           "#FF97FF",
           "#FECB52"
          ],
          "font": {
           "color": "#2a3f5f"
          },
          "geo": {
           "bgcolor": "white",
           "lakecolor": "white",
           "landcolor": "#E5ECF6",
           "showlakes": true,
           "showland": true,
           "subunitcolor": "white"
          },
          "hoverlabel": {
           "align": "left"
          },
          "hovermode": "closest",
          "mapbox": {
           "style": "light"
          },
          "paper_bgcolor": "white",
          "plot_bgcolor": "#E5ECF6",
          "polar": {
           "angularaxis": {
            "gridcolor": "white",
            "linecolor": "white",
            "ticks": ""
           },
           "bgcolor": "#E5ECF6",
           "radialaxis": {
            "gridcolor": "white",
            "linecolor": "white",
            "ticks": ""
           }
          },
          "scene": {
           "xaxis": {
            "backgroundcolor": "#E5ECF6",
            "gridcolor": "white",
            "gridwidth": 2,
            "linecolor": "white",
            "showbackground": true,
            "ticks": "",
            "zerolinecolor": "white"
           },
           "yaxis": {
            "backgroundcolor": "#E5ECF6",
            "gridcolor": "white",
            "gridwidth": 2,
            "linecolor": "white",
            "showbackground": true,
            "ticks": "",
            "zerolinecolor": "white"
           },
           "zaxis": {
            "backgroundcolor": "#E5ECF6",
            "gridcolor": "white",
            "gridwidth": 2,
            "linecolor": "white",
            "showbackground": true,
            "ticks": "",
            "zerolinecolor": "white"
           }
          },
          "shapedefaults": {
           "line": {
            "color": "#2a3f5f"
           }
          },
          "ternary": {
           "aaxis": {
            "gridcolor": "white",
            "linecolor": "white",
            "ticks": ""
           },
           "baxis": {
            "gridcolor": "white",
            "linecolor": "white",
            "ticks": ""
           },
           "bgcolor": "#E5ECF6",
           "caxis": {
            "gridcolor": "white",
            "linecolor": "white",
            "ticks": ""
           }
          },
          "title": {
           "x": 0.05
          },
          "xaxis": {
           "automargin": true,
           "gridcolor": "white",
           "linecolor": "white",
           "ticks": "",
           "title": {
            "standoff": 15
           },
           "zerolinecolor": "white",
           "zerolinewidth": 2
          },
          "yaxis": {
           "automargin": true,
           "gridcolor": "white",
           "linecolor": "white",
           "ticks": "",
           "title": {
            "standoff": 15
           },
           "zerolinecolor": "white",
           "zerolinewidth": 2
          }
         }
        },
        "title": {
         "font": {
          "size": 24
         },
         "text": "Count of Posts for Each Subreddit",
         "x": 0.5,
         "y": 0.95
        },
        "xaxis": {
         "anchor": "y",
         "domain": [
          0,
          1
         ],
         "tickangle": -45,
         "title": {
          "text": ""
         }
        },
        "yaxis": {
         "anchor": "x",
         "domain": [
          0,
          1
         ],
         "title": {
          "text": "Count"
         }
        }
       }
      }
     },
     "metadata": {},
     "output_type": "display_data"
    }
   ],
   "source": [
    "# Read the CSV file and create a DataFrame\n",
    "df = pd.read_csv('top_month_subreddit.csv')\n",
    "\n",
    "# Group the data by subreddit and count the number of posts for each subreddit\n",
    "subreddit_count = df.groupby('subreddit').size().reset_index(name='count')\n",
    "\n",
    "# Sort the data by count in descending order\n",
    "subreddit_count = subreddit_count.sort_values(by='count', ascending=False)\n",
    "\n",
    "# Create an interactive bar plot of the count for each subreddit\n",
    "fig = px.bar(subreddit_count, x='subreddit', y='count', title='Count of Posts for Each Subreddit',\n",
    "             color='count', color_continuous_scale='Blues')\n",
    "fig.update_traces(marker_line_color='rgb(8,48,107)', marker_line_width=1.5, opacity=0.8)\n",
    "fig.update_layout(xaxis_tickangle=-45, xaxis_title='', yaxis_title='Count', \n",
    "                  title_font_size=24, title_x=0.5, title_y=0.95, \n",
    "                  font=dict(size=14, color='black'))\n",
    "fig.update_layout(showlegend=False)\n",
    "#fig.update_xaxes(showticklabels=False)\n",
    "fig.show()"
   ]
  },
  {
   "cell_type": "code",
   "execution_count": 55,
   "metadata": {},
   "outputs": [
    {
     "data": {
      "application/vnd.plotly.v1+json": {
       "config": {
        "plotlyServerURL": "https://plot.ly"
       },
       "data": [
        {
         "hovertemplate": "upvotes=%{x}<br>comments=%{y}<extra></extra>",
         "legendgroup": "",
         "marker": {
          "color": "#636efa",
          "symbol": "circle"
         },
         "mode": "markers",
         "name": "",
         "orientation": "v",
         "showlegend": false,
         "type": "scatter",
         "x": [
          308000,
          285000,
          220000,
          218000,
          205000,
          202000,
          199000,
          197000,
          196000,
          195000,
          194000,
          192000,
          192000,
          189000,
          182000,
          182000,
          179000,
          176000,
          176000,
          173000,
          173000,
          173000,
          171000,
          170000,
          169000,
          169000,
          169000,
          169000,
          168000,
          168000,
          167000,
          166000,
          165000,
          165000,
          165000,
          164000,
          163000,
          162000,
          162000,
          161000,
          161000,
          160000,
          159000,
          159000,
          159000,
          157000,
          157000,
          157000,
          157000,
          156000,
          155000,
          155000,
          155000,
          154000,
          154000,
          154000,
          154000,
          154000,
          153000,
          152000,
          152000,
          152000,
          152000,
          151000,
          151000,
          150000,
          150000,
          149000,
          149000,
          149000,
          149000,
          148000,
          148000,
          148000,
          148000,
          148000,
          148000,
          147000,
          147000,
          147000,
          147000,
          147000,
          146000,
          146000,
          146000,
          146000,
          146000,
          146000,
          146000,
          145000,
          145000,
          145000,
          145000,
          145000,
          144000,
          144000,
          144000,
          143000,
          143000,
          143000,
          143000,
          143000,
          142000,
          142000,
          141000,
          141000,
          141000,
          141000,
          140000,
          140000,
          140000,
          140000,
          140000,
          139000,
          139000,
          139000,
          139000,
          138000,
          138000,
          138000,
          138000,
          138000,
          138000,
          138000,
          137000,
          137000,
          137000,
          137000,
          137000,
          137000,
          137000,
          137000,
          136000,
          136000,
          135000,
          135000,
          135000,
          135000,
          135000,
          135000,
          135000,
          134000,
          134000,
          134000,
          134000,
          134000,
          134000,
          134000,
          134000,
          134000,
          134000,
          133000,
          133000,
          133000,
          133000,
          133000,
          133000,
          133000,
          133000,
          133000,
          133000,
          133000,
          133000,
          133000,
          133000,
          132000,
          132000,
          132000,
          132000,
          132000,
          131000,
          131000,
          131000,
          131000,
          131000,
          131000,
          131000,
          131000,
          131000,
          130000,
          130000,
          130000,
          130000,
          130000,
          130000,
          130000,
          130000,
          129000,
          129000,
          129000,
          129000,
          129000,
          129000,
          129000,
          129000,
          129000,
          129000,
          128000,
          128000,
          128000,
          128000,
          128000,
          128000,
          128000,
          128000,
          127000,
          127000,
          127000,
          127000,
          127000,
          127000,
          127000,
          127000,
          127000,
          127000,
          127000,
          126000,
          126000,
          126000,
          126000,
          126000,
          126000,
          126000,
          126000,
          126000,
          126000,
          126000,
          126000,
          125000,
          125000,
          125000,
          125000,
          125000,
          125000,
          125000,
          124000,
          124000,
          124000,
          124000,
          124000,
          124000,
          124000,
          124000,
          124000,
          124000,
          124000,
          124000,
          124000,
          124000,
          123000,
          124000,
          124000,
          123000,
          123000,
          123000,
          123000,
          123000,
          123000,
          123000,
          123000,
          123000,
          123000,
          123000,
          123000,
          122000,
          122000,
          122000,
          122000,
          122000,
          122000,
          122000,
          122000,
          122000,
          122000,
          122000,
          122000,
          122000,
          122000,
          122000,
          122000,
          122000,
          122000,
          121000,
          121000,
          121000,
          121000,
          121000,
          121000,
          121000,
          121000,
          121000,
          121000,
          121000,
          121000,
          121000,
          121000,
          121000,
          120000,
          120000,
          120000,
          120000,
          120000,
          120000,
          120000,
          120000,
          120000,
          120000,
          120000,
          120000,
          120000,
          119000,
          119000,
          119000,
          119000,
          119000,
          119000,
          119000,
          119000,
          119000,
          119000,
          119000,
          119000,
          119000,
          119000,
          119000,
          119000,
          116000,
          118000,
          118000,
          118000,
          118000,
          118000,
          118000,
          118000,
          118000,
          118000,
          118000,
          118000,
          118000,
          118000,
          118000,
          118000,
          118000,
          118000,
          117000,
          117000,
          117000,
          117000,
          117000,
          117000,
          117000,
          117000,
          117000,
          117000,
          117000,
          117000,
          117000,
          117000,
          117000,
          117000,
          117000,
          117000,
          117000,
          117000,
          117000,
          117000,
          116000,
          116000,
          116000,
          116000,
          116000,
          116000,
          116000,
          116000,
          116000,
          116000,
          116000,
          116000,
          116000,
          116000,
          116000,
          116000,
          116000,
          116000,
          116000,
          116000,
          116000,
          115000,
          115000,
          115000,
          115000,
          115000,
          115000,
          115000,
          115000,
          115000,
          115000,
          115000,
          115000,
          115000,
          115000,
          115000,
          114000,
          114000,
          114000,
          114000,
          114000,
          114000,
          114000,
          114000,
          114000,
          114000,
          114000,
          114000,
          114000,
          114000,
          114000,
          114000,
          114000,
          114000,
          114000,
          114000,
          114000,
          114000,
          114000,
          114000,
          114000,
          114000,
          113000,
          113000,
          113000,
          113000,
          113000,
          113000,
          113000,
          113000,
          113000,
          113000,
          113000,
          113000,
          113000,
          113000,
          113000,
          113000,
          112000,
          112000,
          112000,
          112000,
          112000,
          112000,
          112000,
          112000,
          112000,
          112000,
          112000,
          112000,
          112000,
          112000,
          112000,
          112000,
          112000,
          112000,
          112000,
          112000,
          112000,
          112000,
          112000,
          112000,
          112000,
          112000,
          112000,
          112000,
          111000,
          111000,
          111000,
          111000,
          111000,
          111000,
          111000,
          111000,
          111000,
          111000,
          111000,
          111000,
          111000,
          111000,
          111000,
          111000,
          111000,
          111000,
          111000,
          111000,
          111000,
          110000,
          110000,
          110000,
          110000,
          110000,
          110000,
          110000,
          110000,
          110000,
          110000,
          110000,
          110000,
          110000,
          110000,
          110000,
          110000,
          110000,
          110000,
          110000,
          110000,
          110000,
          109000,
          109000,
          109000,
          109000,
          109000,
          109000,
          109000,
          109000,
          109000,
          109000,
          109000,
          109000,
          109000,
          109000,
          109000,
          109000,
          109000,
          109000,
          109000,
          109000,
          109000,
          109000,
          109000,
          109000,
          109000,
          109000,
          109000,
          109000,
          109000,
          109000,
          109000,
          109000,
          109000,
          109000,
          108000,
          108000,
          108000,
          108000,
          108000,
          108000,
          108000,
          108000,
          108000,
          108000,
          108000,
          108000,
          108000,
          108000,
          108000,
          108000,
          108000,
          108000,
          108000,
          108000,
          108000,
          108000,
          108000,
          108000,
          108000,
          108000,
          108000,
          108000,
          108000,
          108000,
          108000,
          108000,
          108000,
          108000,
          108000,
          108000,
          108000,
          108000,
          108000,
          108000,
          107000,
          107000,
          107000,
          107000,
          107000,
          107000,
          107000,
          107000,
          107000,
          107000,
          107000,
          107000,
          107000,
          107000,
          107000,
          107000,
          107000,
          107000,
          107000,
          107000,
          107000,
          107000,
          107000,
          107000,
          107000,
          106000,
          106000,
          106000,
          106000,
          106000,
          106000,
          106000,
          106000,
          106000,
          106000,
          106000,
          106000,
          106000,
          106000,
          106000,
          106000,
          106000,
          106000,
          106000,
          106000,
          106000,
          106000,
          106000,
          106000,
          106000,
          106000,
          106000,
          106000,
          106000,
          106000,
          106000,
          106000,
          106000,
          106000,
          106000,
          106000,
          106000,
          106000,
          106000,
          106000,
          106000,
          105000,
          105000,
          105000,
          105000,
          105000,
          105000,
          105000,
          105000,
          105000,
          105000,
          105000,
          105000,
          105000,
          105000,
          105000,
          105000,
          105000,
          105000,
          105000,
          105000,
          105000,
          105000,
          105000,
          105000,
          105000,
          105000,
          104000,
          104000,
          104000,
          104000,
          104000,
          104000,
          104000,
          104000,
          104000,
          104000,
          104000,
          104000,
          104000,
          104000,
          104000,
          104000,
          104000,
          104000,
          104000,
          104000,
          104000,
          104000,
          104000,
          104000,
          104000,
          104000,
          104000,
          103000,
          103000,
          103000,
          103000,
          103000,
          103000,
          103000,
          103000,
          103000,
          103000,
          103000,
          103000,
          103000,
          103000,
          103000,
          103000,
          103000,
          103000,
          116000,
          103000,
          103000,
          103000,
          103000,
          103000,
          103000,
          103000,
          103000,
          103000,
          103000,
          103000,
          102000,
          102000,
          102000,
          102000,
          102000,
          102000,
          102000,
          102000,
          102000,
          102000,
          102000,
          102000,
          102000,
          102000,
          102000,
          102000,
          102000,
          102000,
          102000,
          102000,
          102000,
          102000,
          102000,
          102000,
          102000,
          102000,
          102000,
          102000,
          102000,
          102000,
          102000,
          102000,
          102000,
          102000,
          102000,
          101000,
          101000,
          101000,
          101000,
          101000,
          101000,
          101000,
          101000,
          101000,
          101000,
          101000,
          101000,
          101000,
          101000,
          101000,
          101000,
          101000,
          101000,
          101000,
          101000,
          101000,
          101000,
          101000,
          101000,
          101000,
          101000,
          101000,
          101000,
          101000,
          101000,
          101000,
          101000,
          101000,
          101000,
          101000,
          101000,
          101000,
          101000,
          101000,
          100000,
          100000,
          100000,
          100000,
          100000,
          100000,
          100000,
          100000,
          100000,
          100000,
          100000,
          100000,
          100000,
          100000,
          100000,
          100000,
          100000,
          100000,
          100000,
          100000,
          99900,
          99900,
          99800,
          99800,
          99700,
          99700,
          99600,
          99600,
          99600,
          99500,
          99500,
          99400,
          99400,
          99400,
          99400,
          99400,
          99400,
          99300,
          99300,
          99300,
          99300,
          99200,
          99200,
          99200,
          99200,
          99200,
          99100,
          99100,
          99100,
          99000,
          99000,
          98900,
          98900,
          98800,
          98800,
          98800,
          98800,
          98800,
          98800,
          98700,
          98700,
          98600,
          98600,
          98500,
          98500,
          98500,
          98400,
          98400,
          98300,
          98300,
          98200,
          98200,
          98100,
          98100,
          98100,
          98000,
          98000,
          98000,
          98000,
          98000,
          98000,
          97900,
          97900,
          97800,
          97800,
          97800,
          97800,
          97800,
          97800,
          97800,
          97800,
          97700,
          97700,
          97700,
          97700,
          97600,
          97600,
          97600,
          97600,
          97500,
          97500,
          97500,
          97500,
          97400,
          97400,
          97400,
          97400,
          97300,
          97300,
          97200,
          97200,
          97200,
          97200,
          97200,
          97100,
          97000,
          97000,
          97000,
          97000,
          96900,
          96900,
          96900,
          96800,
          96800,
          96800,
          96800,
          96700,
          96700
         ],
         "xaxis": "x",
         "y": [
          1011,
          32860,
          15488,
          4230,
          3318,
          1186,
          2514,
          1608,
          17603,
          2259,
          21385,
          13931,
          5927,
          6720,
          1497,
          8762,
          2627,
          1334,
          10451,
          4098,
          2438,
          3496,
          2432,
          9887,
          4515,
          3701,
          3575,
          1666,
          1994,
          1690,
          4321,
          5986,
          12310,
          1603,
          6403,
          2809,
          2663,
          1356,
          2353,
          2850,
          16019,
          10877,
          796,
          2471,
          5315,
          1816,
          3845,
          4081,
          8828,
          9079,
          4171,
          2,
          7373,
          3558,
          12728,
          9924,
          6134,
          4575,
          4990,
          4644,
          3035,
          2884,
          1094,
          13048,
          3401,
          3611,
          2021,
          1059,
          6687,
          1444,
          3434,
          1228,
          966,
          1396,
          6071,
          9321,
          1410,
          5388,
          4151,
          1688,
          2114,
          4247,
          7764,
          6123,
          3688,
          1659,
          3448,
          374,
          5947,
          6564,
          5646,
          713,
          2299,
          644,
          1574,
          8077,
          717,
          4707,
          1423,
          3593,
          1463,
          7355,
          1968,
          8663,
          3151,
          465,
          3042,
          2175,
          2435,
          3474,
          5499,
          6270,
          4426,
          787,
          5929,
          12924,
          4020,
          8059,
          712,
          1947,
          2243,
          2185,
          2721,
          1278,
          2582,
          4155,
          2941,
          1588,
          3123,
          15320,
          1623,
          2412,
          276,
          4440,
          1079,
          1646,
          1819,
          322,
          3495,
          3589,
          3201,
          2633,
          2044,
          1873,
          2385,
          5527,
          2772,
          6464,
          2740,
          5463,
          3248,
          1662,
          4275,
          5293,
          1750,
          2843,
          9056,
          3102,
          2370,
          2079,
          2402,
          7350,
          5211,
          1452,
          2367,
          3340,
          683,
          3423,
          1142,
          1424,
          3573,
          17011,
          1197,
          3732,
          3449,
          2985,
          3555,
          2183,
          3834,
          6272,
          1281,
          1079,
          3453,
          2481,
          4093,
          1811,
          2424,
          2859,
          5596,
          1502,
          1231,
          1463,
          1442,
          2822,
          2579,
          7416,
          11891,
          2871,
          1445,
          3805,
          6625,
          1891,
          4322,
          4967,
          4105,
          3572,
          3163,
          9205,
          3455,
          628,
          1266,
          1436,
          5607,
          2674,
          1892,
          1804,
          6385,
          3523,
          4828,
          4237,
          1497,
          1830,
          1329,
          1085,
          6019,
          3567,
          4369,
          1367,
          959,
          1005,
          4499,
          1298,
          1873,
          1648,
          5323,
          1288,
          1026,
          6263,
          877,
          2726,
          3975,
          6326,
          2978,
          8307,
          4471,
          758,
          5582,
          1162,
          9722,
          905,
          5675,
          1945,
          1906,
          7738,
          1559,
          3013,
          644,
          2991,
          1312,
          1074,
          648,
          8758,
          2678,
          605,
          6729,
          3293,
          8355,
          1250,
          4441,
          1744,
          1317,
          2799,
          2903,
          2238,
          1235,
          1350,
          4785,
          1257,
          7958,
          6714,
          3442,
          2487,
          3205,
          2378,
          2010,
          1510,
          1114,
          4980,
          2103,
          1924,
          1308,
          1085,
          4900,
          3634,
          7202,
          1380,
          5328,
          991,
          7631,
          3826,
          4550,
          3463,
          7398,
          1096,
          1782,
          3,
          8006,
          1232,
          2812,
          4927,
          1314,
          1577,
          938,
          1116,
          2174,
          7375,
          696,
          5559,
          1451,
          3076,
          1589,
          880,
          2679,
          5980,
          8756,
          1231,
          2110,
          3311,
          1049,
          1929,
          1054,
          2755,
          1644,
          2217,
          5251,
          1331,
          1511,
          1031,
          4761,
          4116,
          3089,
          1521,
          4793,
          1552,
          3056,
          1895,
          644,
          1114,
          1703,
          2751,
          1300,
          5437,
          902,
          2230,
          2257,
          1252,
          1483,
          756,
          2507,
          7119,
          4899,
          3009,
          851,
          1407,
          3332,
          1441,
          4919,
          6817,
          4904,
          1273,
          2342,
          46550,
          945,
          1112,
          1047,
          778,
          3164,
          5578,
          6273,
          1073,
          1331,
          907,
          695,
          5469,
          7823,
          3976,
          967,
          2661,
          7261,
          1773,
          2,
          8103,
          2822,
          1192,
          657,
          406,
          912,
          12487,
          1172,
          5408,
          2285,
          4570,
          1780,
          3428,
          1837,
          1290,
          3902,
          2229,
          1945,
          3796,
          1047,
          2953,
          951,
          1902,
          990,
          591,
          1810,
          12004,
          1778,
          1273,
          2462,
          1721,
          2702,
          3063,
          3402,
          2163,
          431,
          182,
          5946,
          13260,
          2718,
          2048,
          5980,
          2233,
          3358,
          1202,
          4559,
          752,
          5076,
          2116,
          2171,
          14817,
          2680,
          1182,
          1866,
          595,
          3518,
          727,
          2828,
          3558,
          4404,
          7378,
          3325,
          614,
          421,
          4453,
          5414,
          9666,
          8481,
          1301,
          2037,
          5955,
          1078,
          9637,
          1313,
          1962,
          11488,
          2830,
          539,
          457,
          3119,
          2282,
          4626,
          1237,
          4310,
          1138,
          2751,
          1594,
          828,
          1181,
          1270,
          1320,
          8204,
          7574,
          5406,
          5879,
          2801,
          1806,
          2567,
          3636,
          2043,
          3134,
          1718,
          673,
          1502,
          2013,
          6741,
          930,
          3794,
          9610,
          1625,
          5421,
          416,
          5804,
          1544,
          1137,
          1022,
          3437,
          1168,
          883,
          4159,
          2517,
          3224,
          750,
          790,
          2179,
          3663,
          1345,
          8594,
          3308,
          4114,
          2666,
          1455,
          751,
          2111,
          1920,
          3491,
          2763,
          2190,
          4657,
          3932,
          4883,
          1701,
          1615,
          902,
          5331,
          4548,
          6586,
          1058,
          2773,
          4447,
          2981,
          1232,
          533,
          1495,
          3261,
          1020,
          2611,
          1340,
          1109,
          856,
          6391,
          889,
          1928,
          1814,
          1012,
          3535,
          4607,
          1694,
          1079,
          1846,
          5868,
          3715,
          3684,
          5306,
          2741,
          2132,
          918,
          1409,
          1919,
          1254,
          10980,
          7962,
          2410,
          8082,
          1673,
          513,
          1004,
          2879,
          568,
          3025,
          3048,
          4265,
          6469,
          1553,
          1056,
          8012,
          617,
          1674,
          1791,
          919,
          2074,
          2182,
          1273,
          3537,
          888,
          1923,
          1808,
          784,
          4914,
          3629,
          814,
          5789,
          1832,
          784,
          4387,
          3018,
          898,
          3458,
          1686,
          4649,
          7812,
          4963,
          6142,
          1490,
          924,
          3463,
          1432,
          887,
          2554,
          5258,
          639,
          5556,
          3940,
          2173,
          1058,
          2330,
          2992,
          1635,
          1013,
          1077,
          244,
          1878,
          273,
          1996,
          483,
          3177,
          1,
          2660,
          3369,
          4048,
          1521,
          1706,
          1477,
          1317,
          2006,
          1,
          3395,
          6561,
          2852,
          4918,
          1475,
          1378,
          683,
          9529,
          2793,
          1179,
          5054,
          1505,
          6293,
          2349,
          1947,
          5847,
          1288,
          1112,
          939,
          8456,
          7136,
          845,
          1968,
          4211,
          1225,
          803,
          1831,
          4460,
          2802,
          5354,
          3259,
          6616,
          7830,
          2962,
          662,
          5972,
          4087,
          13321,
          5023,
          1258,
          3389,
          675,
          785,
          1170,
          325,
          3370,
          377,
          1966,
          1034,
          699,
          1172,
          2488,
          4398,
          2763,
          2119,
          1181,
          2125,
          6189,
          2218,
          3198,
          3200,
          212,
          555,
          1471,
          6527,
          2666,
          2068,
          4278,
          1538,
          611,
          220,
          1549,
          2012,
          1097,
          372,
          2515,
          1525,
          2210,
          3235,
          2641,
          2720,
          1489,
          4331,
          4012,
          2727,
          547,
          7422,
          2842,
          1074,
          5300,
          413,
          1959,
          1843,
          1982,
          1462,
          5935,
          3147,
          4817,
          579,
          1724,
          5174,
          1959,
          1591,
          2409,
          4166,
          2064,
          4717,
          5528,
          2359,
          3134,
          7319,
          5395,
          4710,
          4154,
          848,
          5174,
          2361,
          5639,
          1139,
          1974,
          936,
          3788,
          1909,
          2757,
          1293,
          1134,
          7655,
          696,
          6627,
          691,
          2659,
          1597,
          442,
          8511,
          2204,
          1344,
          1256,
          1460,
          1607,
          2848,
          1170,
          719,
          8840,
          1804,
          2560,
          4586,
          4106,
          383,
          5208,
          1098,
          4167,
          619,
          3492,
          2393,
          3819,
          2959,
          2497,
          1029,
          43365,
          1637,
          5573,
          6512,
          1512,
          2683,
          1486,
          4606,
          1688,
          1265,
          1793,
          2083,
          767,
          530,
          1474,
          766,
          7547,
          1795,
          290,
          797,
          5954,
          3030,
          1618,
          2207,
          11224,
          502,
          11244,
          412,
          7614,
          2118,
          3294,
          1424,
          1646,
          432,
          4675,
          1360,
          1684,
          1977,
          600,
          4222,
          6490,
          1476,
          6510,
          2300,
          2000,
          518,
          1287,
          1963,
          2659,
          6044,
          720,
          4772,
          1505,
          2779,
          1054,
          1841,
          1450,
          3441,
          981,
          1814,
          578,
          5765,
          1097,
          754,
          6120,
          6163,
          1823,
          874,
          5039,
          2655,
          1552,
          4217,
          723,
          1291,
          765,
          10955,
          1760,
          2271,
          2359,
          1259,
          6576,
          8311,
          3815,
          1431,
          6477,
          2808,
          5294,
          1299,
          1254,
          1836,
          3211,
          1710,
          535,
          2308,
          642,
          1311,
          2030,
          4570,
          3653,
          1609,
          1060,
          1774,
          5561,
          3442,
          561,
          478,
          1718,
          2718,
          2970,
          3706,
          1133,
          1384,
          2875,
          500,
          648,
          11131,
          7826,
          6435,
          1939,
          1780,
          2999,
          877,
          1669,
          9453,
          2218,
          384,
          1155,
          1760,
          3176,
          2850,
          1217,
          1544,
          944,
          5864
         ],
         "yaxis": "y"
        },
        {
         "hovertemplate": "<b>OLS trendline</b><br>comments = 0.0374614 * upvotes + -1082.11<br>R<sup>2</sup>=0.051553<br><br>upvotes=%{x}<br>comments=%{y} <b>(trend)</b><extra></extra>",
         "legendgroup": "",
         "marker": {
          "color": "#636efa",
          "symbol": "circle"
         },
         "mode": "lines",
         "name": "",
         "showlegend": false,
         "type": "scatter",
         "x": [
          96700,
          96700,
          96800,
          96800,
          96800,
          96800,
          96900,
          96900,
          96900,
          97000,
          97000,
          97000,
          97000,
          97100,
          97200,
          97200,
          97200,
          97200,
          97200,
          97300,
          97300,
          97400,
          97400,
          97400,
          97400,
          97500,
          97500,
          97500,
          97500,
          97600,
          97600,
          97600,
          97600,
          97700,
          97700,
          97700,
          97700,
          97800,
          97800,
          97800,
          97800,
          97800,
          97800,
          97800,
          97800,
          97900,
          97900,
          98000,
          98000,
          98000,
          98000,
          98000,
          98000,
          98100,
          98100,
          98100,
          98200,
          98200,
          98300,
          98300,
          98400,
          98400,
          98500,
          98500,
          98500,
          98600,
          98600,
          98700,
          98700,
          98800,
          98800,
          98800,
          98800,
          98800,
          98800,
          98900,
          98900,
          99000,
          99000,
          99100,
          99100,
          99100,
          99200,
          99200,
          99200,
          99200,
          99200,
          99300,
          99300,
          99300,
          99300,
          99400,
          99400,
          99400,
          99400,
          99400,
          99400,
          99500,
          99500,
          99600,
          99600,
          99600,
          99700,
          99700,
          99800,
          99800,
          99900,
          99900,
          100000,
          100000,
          100000,
          100000,
          100000,
          100000,
          100000,
          100000,
          100000,
          100000,
          100000,
          100000,
          100000,
          100000,
          100000,
          100000,
          100000,
          100000,
          100000,
          100000,
          101000,
          101000,
          101000,
          101000,
          101000,
          101000,
          101000,
          101000,
          101000,
          101000,
          101000,
          101000,
          101000,
          101000,
          101000,
          101000,
          101000,
          101000,
          101000,
          101000,
          101000,
          101000,
          101000,
          101000,
          101000,
          101000,
          101000,
          101000,
          101000,
          101000,
          101000,
          101000,
          101000,
          101000,
          101000,
          101000,
          101000,
          101000,
          101000,
          102000,
          102000,
          102000,
          102000,
          102000,
          102000,
          102000,
          102000,
          102000,
          102000,
          102000,
          102000,
          102000,
          102000,
          102000,
          102000,
          102000,
          102000,
          102000,
          102000,
          102000,
          102000,
          102000,
          102000,
          102000,
          102000,
          102000,
          102000,
          102000,
          102000,
          102000,
          102000,
          102000,
          102000,
          102000,
          103000,
          103000,
          103000,
          103000,
          103000,
          103000,
          103000,
          103000,
          103000,
          103000,
          103000,
          103000,
          103000,
          103000,
          103000,
          103000,
          103000,
          103000,
          103000,
          103000,
          103000,
          103000,
          103000,
          103000,
          103000,
          103000,
          103000,
          103000,
          103000,
          104000,
          104000,
          104000,
          104000,
          104000,
          104000,
          104000,
          104000,
          104000,
          104000,
          104000,
          104000,
          104000,
          104000,
          104000,
          104000,
          104000,
          104000,
          104000,
          104000,
          104000,
          104000,
          104000,
          104000,
          104000,
          104000,
          104000,
          105000,
          105000,
          105000,
          105000,
          105000,
          105000,
          105000,
          105000,
          105000,
          105000,
          105000,
          105000,
          105000,
          105000,
          105000,
          105000,
          105000,
          105000,
          105000,
          105000,
          105000,
          105000,
          105000,
          105000,
          105000,
          105000,
          106000,
          106000,
          106000,
          106000,
          106000,
          106000,
          106000,
          106000,
          106000,
          106000,
          106000,
          106000,
          106000,
          106000,
          106000,
          106000,
          106000,
          106000,
          106000,
          106000,
          106000,
          106000,
          106000,
          106000,
          106000,
          106000,
          106000,
          106000,
          106000,
          106000,
          106000,
          106000,
          106000,
          106000,
          106000,
          106000,
          106000,
          106000,
          106000,
          106000,
          106000,
          107000,
          107000,
          107000,
          107000,
          107000,
          107000,
          107000,
          107000,
          107000,
          107000,
          107000,
          107000,
          107000,
          107000,
          107000,
          107000,
          107000,
          107000,
          107000,
          107000,
          107000,
          107000,
          107000,
          107000,
          107000,
          108000,
          108000,
          108000,
          108000,
          108000,
          108000,
          108000,
          108000,
          108000,
          108000,
          108000,
          108000,
          108000,
          108000,
          108000,
          108000,
          108000,
          108000,
          108000,
          108000,
          108000,
          108000,
          108000,
          108000,
          108000,
          108000,
          108000,
          108000,
          108000,
          108000,
          108000,
          108000,
          108000,
          108000,
          108000,
          108000,
          108000,
          108000,
          108000,
          108000,
          109000,
          109000,
          109000,
          109000,
          109000,
          109000,
          109000,
          109000,
          109000,
          109000,
          109000,
          109000,
          109000,
          109000,
          109000,
          109000,
          109000,
          109000,
          109000,
          109000,
          109000,
          109000,
          109000,
          109000,
          109000,
          109000,
          109000,
          109000,
          109000,
          109000,
          109000,
          109000,
          109000,
          109000,
          110000,
          110000,
          110000,
          110000,
          110000,
          110000,
          110000,
          110000,
          110000,
          110000,
          110000,
          110000,
          110000,
          110000,
          110000,
          110000,
          110000,
          110000,
          110000,
          110000,
          110000,
          111000,
          111000,
          111000,
          111000,
          111000,
          111000,
          111000,
          111000,
          111000,
          111000,
          111000,
          111000,
          111000,
          111000,
          111000,
          111000,
          111000,
          111000,
          111000,
          111000,
          111000,
          112000,
          112000,
          112000,
          112000,
          112000,
          112000,
          112000,
          112000,
          112000,
          112000,
          112000,
          112000,
          112000,
          112000,
          112000,
          112000,
          112000,
          112000,
          112000,
          112000,
          112000,
          112000,
          112000,
          112000,
          112000,
          112000,
          112000,
          112000,
          113000,
          113000,
          113000,
          113000,
          113000,
          113000,
          113000,
          113000,
          113000,
          113000,
          113000,
          113000,
          113000,
          113000,
          113000,
          113000,
          114000,
          114000,
          114000,
          114000,
          114000,
          114000,
          114000,
          114000,
          114000,
          114000,
          114000,
          114000,
          114000,
          114000,
          114000,
          114000,
          114000,
          114000,
          114000,
          114000,
          114000,
          114000,
          114000,
          114000,
          114000,
          114000,
          115000,
          115000,
          115000,
          115000,
          115000,
          115000,
          115000,
          115000,
          115000,
          115000,
          115000,
          115000,
          115000,
          115000,
          115000,
          116000,
          116000,
          116000,
          116000,
          116000,
          116000,
          116000,
          116000,
          116000,
          116000,
          116000,
          116000,
          116000,
          116000,
          116000,
          116000,
          116000,
          116000,
          116000,
          116000,
          116000,
          116000,
          116000,
          117000,
          117000,
          117000,
          117000,
          117000,
          117000,
          117000,
          117000,
          117000,
          117000,
          117000,
          117000,
          117000,
          117000,
          117000,
          117000,
          117000,
          117000,
          117000,
          117000,
          117000,
          117000,
          118000,
          118000,
          118000,
          118000,
          118000,
          118000,
          118000,
          118000,
          118000,
          118000,
          118000,
          118000,
          118000,
          118000,
          118000,
          118000,
          118000,
          119000,
          119000,
          119000,
          119000,
          119000,
          119000,
          119000,
          119000,
          119000,
          119000,
          119000,
          119000,
          119000,
          119000,
          119000,
          119000,
          120000,
          120000,
          120000,
          120000,
          120000,
          120000,
          120000,
          120000,
          120000,
          120000,
          120000,
          120000,
          120000,
          121000,
          121000,
          121000,
          121000,
          121000,
          121000,
          121000,
          121000,
          121000,
          121000,
          121000,
          121000,
          121000,
          121000,
          121000,
          122000,
          122000,
          122000,
          122000,
          122000,
          122000,
          122000,
          122000,
          122000,
          122000,
          122000,
          122000,
          122000,
          122000,
          122000,
          122000,
          122000,
          122000,
          123000,
          123000,
          123000,
          123000,
          123000,
          123000,
          123000,
          123000,
          123000,
          123000,
          123000,
          123000,
          123000,
          124000,
          124000,
          124000,
          124000,
          124000,
          124000,
          124000,
          124000,
          124000,
          124000,
          124000,
          124000,
          124000,
          124000,
          124000,
          124000,
          125000,
          125000,
          125000,
          125000,
          125000,
          125000,
          125000,
          126000,
          126000,
          126000,
          126000,
          126000,
          126000,
          126000,
          126000,
          126000,
          126000,
          126000,
          126000,
          127000,
          127000,
          127000,
          127000,
          127000,
          127000,
          127000,
          127000,
          127000,
          127000,
          127000,
          128000,
          128000,
          128000,
          128000,
          128000,
          128000,
          128000,
          128000,
          129000,
          129000,
          129000,
          129000,
          129000,
          129000,
          129000,
          129000,
          129000,
          129000,
          130000,
          130000,
          130000,
          130000,
          130000,
          130000,
          130000,
          130000,
          131000,
          131000,
          131000,
          131000,
          131000,
          131000,
          131000,
          131000,
          131000,
          132000,
          132000,
          132000,
          132000,
          132000,
          133000,
          133000,
          133000,
          133000,
          133000,
          133000,
          133000,
          133000,
          133000,
          133000,
          133000,
          133000,
          133000,
          133000,
          134000,
          134000,
          134000,
          134000,
          134000,
          134000,
          134000,
          134000,
          134000,
          134000,
          135000,
          135000,
          135000,
          135000,
          135000,
          135000,
          135000,
          136000,
          136000,
          137000,
          137000,
          137000,
          137000,
          137000,
          137000,
          137000,
          137000,
          138000,
          138000,
          138000,
          138000,
          138000,
          138000,
          138000,
          139000,
          139000,
          139000,
          139000,
          140000,
          140000,
          140000,
          140000,
          140000,
          141000,
          141000,
          141000,
          141000,
          142000,
          142000,
          143000,
          143000,
          143000,
          143000,
          143000,
          144000,
          144000,
          144000,
          145000,
          145000,
          145000,
          145000,
          145000,
          146000,
          146000,
          146000,
          146000,
          146000,
          146000,
          146000,
          147000,
          147000,
          147000,
          147000,
          147000,
          148000,
          148000,
          148000,
          148000,
          148000,
          148000,
          149000,
          149000,
          149000,
          149000,
          150000,
          150000,
          151000,
          151000,
          152000,
          152000,
          152000,
          152000,
          153000,
          154000,
          154000,
          154000,
          154000,
          154000,
          155000,
          155000,
          155000,
          156000,
          157000,
          157000,
          157000,
          157000,
          159000,
          159000,
          159000,
          160000,
          161000,
          161000,
          162000,
          162000,
          163000,
          164000,
          165000,
          165000,
          165000,
          166000,
          167000,
          168000,
          168000,
          169000,
          169000,
          169000,
          169000,
          170000,
          171000,
          173000,
          173000,
          173000,
          176000,
          176000,
          179000,
          182000,
          182000,
          189000,
          192000,
          192000,
          194000,
          195000,
          196000,
          197000,
          199000,
          202000,
          205000,
          218000,
          220000,
          285000,
          308000
         ],
         "xaxis": "x",
         "y": [
          2540.4074980808327,
          2540.4074980808327,
          2544.1536365887523,
          2544.1536365887523,
          2544.1536365887523,
          2544.1536365887523,
          2547.8997750966723,
          2547.8997750966723,
          2547.8997750966723,
          2551.645913604592,
          2551.645913604592,
          2551.645913604592,
          2551.645913604592,
          2555.392052112512,
          2559.1381906204315,
          2559.1381906204315,
          2559.1381906204315,
          2559.1381906204315,
          2559.1381906204315,
          2562.8843291283515,
          2562.8843291283515,
          2566.630467636271,
          2566.630467636271,
          2566.630467636271,
          2566.630467636271,
          2570.376606144191,
          2570.376606144191,
          2570.376606144191,
          2570.376606144191,
          2574.1227446521107,
          2574.1227446521107,
          2574.1227446521107,
          2574.1227446521107,
          2577.8688831600307,
          2577.8688831600307,
          2577.8688831600307,
          2577.8688831600307,
          2581.6150216679503,
          2581.6150216679503,
          2581.6150216679503,
          2581.6150216679503,
          2581.6150216679503,
          2581.6150216679503,
          2581.6150216679503,
          2581.6150216679503,
          2585.3611601758703,
          2585.3611601758703,
          2589.10729868379,
          2589.10729868379,
          2589.10729868379,
          2589.10729868379,
          2589.10729868379,
          2589.10729868379,
          2592.85343719171,
          2592.85343719171,
          2592.85343719171,
          2596.5995756996294,
          2596.5995756996294,
          2600.3457142075495,
          2600.3457142075495,
          2604.091852715469,
          2604.091852715469,
          2607.837991223389,
          2607.837991223389,
          2607.837991223389,
          2611.5841297313086,
          2611.5841297313086,
          2615.3302682392286,
          2615.3302682392286,
          2619.076406747148,
          2619.076406747148,
          2619.076406747148,
          2619.076406747148,
          2619.076406747148,
          2619.076406747148,
          2622.8225452550682,
          2622.8225452550682,
          2626.568683762988,
          2626.568683762988,
          2630.314822270908,
          2630.314822270908,
          2630.314822270908,
          2634.0609607788274,
          2634.0609607788274,
          2634.0609607788274,
          2634.0609607788274,
          2634.0609607788274,
          2637.8070992867474,
          2637.8070992867474,
          2637.8070992867474,
          2637.8070992867474,
          2641.553237794667,
          2641.553237794667,
          2641.553237794667,
          2641.553237794667,
          2641.553237794667,
          2641.553237794667,
          2645.299376302587,
          2645.299376302587,
          2649.0455148105066,
          2649.0455148105066,
          2649.0455148105066,
          2652.791653318426,
          2652.791653318426,
          2656.537791826346,
          2656.537791826346,
          2660.2839303342657,
          2660.2839303342657,
          2664.0300688421858,
          2664.0300688421858,
          2664.0300688421858,
          2664.0300688421858,
          2664.0300688421858,
          2664.0300688421858,
          2664.0300688421858,
          2664.0300688421858,
          2664.0300688421858,
          2664.0300688421858,
          2664.0300688421858,
          2664.0300688421858,
          2664.0300688421858,
          2664.0300688421858,
          2664.0300688421858,
          2664.0300688421858,
          2664.0300688421858,
          2664.0300688421858,
          2664.0300688421858,
          2664.0300688421858,
          2701.4914539213837,
          2701.4914539213837,
          2701.4914539213837,
          2701.4914539213837,
          2701.4914539213837,
          2701.4914539213837,
          2701.4914539213837,
          2701.4914539213837,
          2701.4914539213837,
          2701.4914539213837,
          2701.4914539213837,
          2701.4914539213837,
          2701.4914539213837,
          2701.4914539213837,
          2701.4914539213837,
          2701.4914539213837,
          2701.4914539213837,
          2701.4914539213837,
          2701.4914539213837,
          2701.4914539213837,
          2701.4914539213837,
          2701.4914539213837,
          2701.4914539213837,
          2701.4914539213837,
          2701.4914539213837,
          2701.4914539213837,
          2701.4914539213837,
          2701.4914539213837,
          2701.4914539213837,
          2701.4914539213837,
          2701.4914539213837,
          2701.4914539213837,
          2701.4914539213837,
          2701.4914539213837,
          2701.4914539213837,
          2701.4914539213837,
          2701.4914539213837,
          2701.4914539213837,
          2701.4914539213837,
          2738.9528390005817,
          2738.9528390005817,
          2738.9528390005817,
          2738.9528390005817,
          2738.9528390005817,
          2738.9528390005817,
          2738.9528390005817,
          2738.9528390005817,
          2738.9528390005817,
          2738.9528390005817,
          2738.9528390005817,
          2738.9528390005817,
          2738.9528390005817,
          2738.9528390005817,
          2738.9528390005817,
          2738.9528390005817,
          2738.9528390005817,
          2738.9528390005817,
          2738.9528390005817,
          2738.9528390005817,
          2738.9528390005817,
          2738.9528390005817,
          2738.9528390005817,
          2738.9528390005817,
          2738.9528390005817,
          2738.9528390005817,
          2738.9528390005817,
          2738.9528390005817,
          2738.9528390005817,
          2738.9528390005817,
          2738.9528390005817,
          2738.9528390005817,
          2738.9528390005817,
          2738.9528390005817,
          2738.9528390005817,
          2776.4142240797796,
          2776.4142240797796,
          2776.4142240797796,
          2776.4142240797796,
          2776.4142240797796,
          2776.4142240797796,
          2776.4142240797796,
          2776.4142240797796,
          2776.4142240797796,
          2776.4142240797796,
          2776.4142240797796,
          2776.4142240797796,
          2776.4142240797796,
          2776.4142240797796,
          2776.4142240797796,
          2776.4142240797796,
          2776.4142240797796,
          2776.4142240797796,
          2776.4142240797796,
          2776.4142240797796,
          2776.4142240797796,
          2776.4142240797796,
          2776.4142240797796,
          2776.4142240797796,
          2776.4142240797796,
          2776.4142240797796,
          2776.4142240797796,
          2776.4142240797796,
          2776.4142240797796,
          2813.8756091589776,
          2813.8756091589776,
          2813.8756091589776,
          2813.8756091589776,
          2813.8756091589776,
          2813.8756091589776,
          2813.8756091589776,
          2813.8756091589776,
          2813.8756091589776,
          2813.8756091589776,
          2813.8756091589776,
          2813.8756091589776,
          2813.8756091589776,
          2813.8756091589776,
          2813.8756091589776,
          2813.8756091589776,
          2813.8756091589776,
          2813.8756091589776,
          2813.8756091589776,
          2813.8756091589776,
          2813.8756091589776,
          2813.8756091589776,
          2813.8756091589776,
          2813.8756091589776,
          2813.8756091589776,
          2813.8756091589776,
          2813.8756091589776,
          2851.3369942381755,
          2851.3369942381755,
          2851.3369942381755,
          2851.3369942381755,
          2851.3369942381755,
          2851.3369942381755,
          2851.3369942381755,
          2851.3369942381755,
          2851.3369942381755,
          2851.3369942381755,
          2851.3369942381755,
          2851.3369942381755,
          2851.3369942381755,
          2851.3369942381755,
          2851.3369942381755,
          2851.3369942381755,
          2851.3369942381755,
          2851.3369942381755,
          2851.3369942381755,
          2851.3369942381755,
          2851.3369942381755,
          2851.3369942381755,
          2851.3369942381755,
          2851.3369942381755,
          2851.3369942381755,
          2851.3369942381755,
          2888.798379317373,
          2888.798379317373,
          2888.798379317373,
          2888.798379317373,
          2888.798379317373,
          2888.798379317373,
          2888.798379317373,
          2888.798379317373,
          2888.798379317373,
          2888.798379317373,
          2888.798379317373,
          2888.798379317373,
          2888.798379317373,
          2888.798379317373,
          2888.798379317373,
          2888.798379317373,
          2888.798379317373,
          2888.798379317373,
          2888.798379317373,
          2888.798379317373,
          2888.798379317373,
          2888.798379317373,
          2888.798379317373,
          2888.798379317373,
          2888.798379317373,
          2888.798379317373,
          2888.798379317373,
          2888.798379317373,
          2888.798379317373,
          2888.798379317373,
          2888.798379317373,
          2888.798379317373,
          2888.798379317373,
          2888.798379317373,
          2888.798379317373,
          2888.798379317373,
          2888.798379317373,
          2888.798379317373,
          2888.798379317373,
          2888.798379317373,
          2888.798379317373,
          2926.259764396571,
          2926.259764396571,
          2926.259764396571,
          2926.259764396571,
          2926.259764396571,
          2926.259764396571,
          2926.259764396571,
          2926.259764396571,
          2926.259764396571,
          2926.259764396571,
          2926.259764396571,
          2926.259764396571,
          2926.259764396571,
          2926.259764396571,
          2926.259764396571,
          2926.259764396571,
          2926.259764396571,
          2926.259764396571,
          2926.259764396571,
          2926.259764396571,
          2926.259764396571,
          2926.259764396571,
          2926.259764396571,
          2926.259764396571,
          2926.259764396571,
          2963.721149475769,
          2963.721149475769,
          2963.721149475769,
          2963.721149475769,
          2963.721149475769,
          2963.721149475769,
          2963.721149475769,
          2963.721149475769,
          2963.721149475769,
          2963.721149475769,
          2963.721149475769,
          2963.721149475769,
          2963.721149475769,
          2963.721149475769,
          2963.721149475769,
          2963.721149475769,
          2963.721149475769,
          2963.721149475769,
          2963.721149475769,
          2963.721149475769,
          2963.721149475769,
          2963.721149475769,
          2963.721149475769,
          2963.721149475769,
          2963.721149475769,
          2963.721149475769,
          2963.721149475769,
          2963.721149475769,
          2963.721149475769,
          2963.721149475769,
          2963.721149475769,
          2963.721149475769,
          2963.721149475769,
          2963.721149475769,
          2963.721149475769,
          2963.721149475769,
          2963.721149475769,
          2963.721149475769,
          2963.721149475769,
          2963.721149475769,
          3001.182534554967,
          3001.182534554967,
          3001.182534554967,
          3001.182534554967,
          3001.182534554967,
          3001.182534554967,
          3001.182534554967,
          3001.182534554967,
          3001.182534554967,
          3001.182534554967,
          3001.182534554967,
          3001.182534554967,
          3001.182534554967,
          3001.182534554967,
          3001.182534554967,
          3001.182534554967,
          3001.182534554967,
          3001.182534554967,
          3001.182534554967,
          3001.182534554967,
          3001.182534554967,
          3001.182534554967,
          3001.182534554967,
          3001.182534554967,
          3001.182534554967,
          3001.182534554967,
          3001.182534554967,
          3001.182534554967,
          3001.182534554967,
          3001.182534554967,
          3001.182534554967,
          3001.182534554967,
          3001.182534554967,
          3001.182534554967,
          3038.643919634165,
          3038.643919634165,
          3038.643919634165,
          3038.643919634165,
          3038.643919634165,
          3038.643919634165,
          3038.643919634165,
          3038.643919634165,
          3038.643919634165,
          3038.643919634165,
          3038.643919634165,
          3038.643919634165,
          3038.643919634165,
          3038.643919634165,
          3038.643919634165,
          3038.643919634165,
          3038.643919634165,
          3038.643919634165,
          3038.643919634165,
          3038.643919634165,
          3038.643919634165,
          3076.1053047133623,
          3076.1053047133623,
          3076.1053047133623,
          3076.1053047133623,
          3076.1053047133623,
          3076.1053047133623,
          3076.1053047133623,
          3076.1053047133623,
          3076.1053047133623,
          3076.1053047133623,
          3076.1053047133623,
          3076.1053047133623,
          3076.1053047133623,
          3076.1053047133623,
          3076.1053047133623,
          3076.1053047133623,
          3076.1053047133623,
          3076.1053047133623,
          3076.1053047133623,
          3076.1053047133623,
          3076.1053047133623,
          3113.5666897925607,
          3113.5666897925607,
          3113.5666897925607,
          3113.5666897925607,
          3113.5666897925607,
          3113.5666897925607,
          3113.5666897925607,
          3113.5666897925607,
          3113.5666897925607,
          3113.5666897925607,
          3113.5666897925607,
          3113.5666897925607,
          3113.5666897925607,
          3113.5666897925607,
          3113.5666897925607,
          3113.5666897925607,
          3113.5666897925607,
          3113.5666897925607,
          3113.5666897925607,
          3113.5666897925607,
          3113.5666897925607,
          3113.5666897925607,
          3113.5666897925607,
          3113.5666897925607,
          3113.5666897925607,
          3113.5666897925607,
          3113.5666897925607,
          3113.5666897925607,
          3151.0280748717582,
          3151.0280748717582,
          3151.0280748717582,
          3151.0280748717582,
          3151.0280748717582,
          3151.0280748717582,
          3151.0280748717582,
          3151.0280748717582,
          3151.0280748717582,
          3151.0280748717582,
          3151.0280748717582,
          3151.0280748717582,
          3151.0280748717582,
          3151.0280748717582,
          3151.0280748717582,
          3151.0280748717582,
          3188.4894599509566,
          3188.4894599509566,
          3188.4894599509566,
          3188.4894599509566,
          3188.4894599509566,
          3188.4894599509566,
          3188.4894599509566,
          3188.4894599509566,
          3188.4894599509566,
          3188.4894599509566,
          3188.4894599509566,
          3188.4894599509566,
          3188.4894599509566,
          3188.4894599509566,
          3188.4894599509566,
          3188.4894599509566,
          3188.4894599509566,
          3188.4894599509566,
          3188.4894599509566,
          3188.4894599509566,
          3188.4894599509566,
          3188.4894599509566,
          3188.4894599509566,
          3188.4894599509566,
          3188.4894599509566,
          3188.4894599509566,
          3225.950845030154,
          3225.950845030154,
          3225.950845030154,
          3225.950845030154,
          3225.950845030154,
          3225.950845030154,
          3225.950845030154,
          3225.950845030154,
          3225.950845030154,
          3225.950845030154,
          3225.950845030154,
          3225.950845030154,
          3225.950845030154,
          3225.950845030154,
          3225.950845030154,
          3263.4122301093525,
          3263.4122301093525,
          3263.4122301093525,
          3263.4122301093525,
          3263.4122301093525,
          3263.4122301093525,
          3263.4122301093525,
          3263.4122301093525,
          3263.4122301093525,
          3263.4122301093525,
          3263.4122301093525,
          3263.4122301093525,
          3263.4122301093525,
          3263.4122301093525,
          3263.4122301093525,
          3263.4122301093525,
          3263.4122301093525,
          3263.4122301093525,
          3263.4122301093525,
          3263.4122301093525,
          3263.4122301093525,
          3263.4122301093525,
          3263.4122301093525,
          3300.87361518855,
          3300.87361518855,
          3300.87361518855,
          3300.87361518855,
          3300.87361518855,
          3300.87361518855,
          3300.87361518855,
          3300.87361518855,
          3300.87361518855,
          3300.87361518855,
          3300.87361518855,
          3300.87361518855,
          3300.87361518855,
          3300.87361518855,
          3300.87361518855,
          3300.87361518855,
          3300.87361518855,
          3300.87361518855,
          3300.87361518855,
          3300.87361518855,
          3300.87361518855,
          3300.87361518855,
          3338.3350002677485,
          3338.3350002677485,
          3338.3350002677485,
          3338.3350002677485,
          3338.3350002677485,
          3338.3350002677485,
          3338.3350002677485,
          3338.3350002677485,
          3338.3350002677485,
          3338.3350002677485,
          3338.3350002677485,
          3338.3350002677485,
          3338.3350002677485,
          3338.3350002677485,
          3338.3350002677485,
          3338.3350002677485,
          3338.3350002677485,
          3375.796385346946,
          3375.796385346946,
          3375.796385346946,
          3375.796385346946,
          3375.796385346946,
          3375.796385346946,
          3375.796385346946,
          3375.796385346946,
          3375.796385346946,
          3375.796385346946,
          3375.796385346946,
          3375.796385346946,
          3375.796385346946,
          3375.796385346946,
          3375.796385346946,
          3375.796385346946,
          3413.2577704261444,
          3413.2577704261444,
          3413.2577704261444,
          3413.2577704261444,
          3413.2577704261444,
          3413.2577704261444,
          3413.2577704261444,
          3413.2577704261444,
          3413.2577704261444,
          3413.2577704261444,
          3413.2577704261444,
          3413.2577704261444,
          3413.2577704261444,
          3450.719155505342,
          3450.719155505342,
          3450.719155505342,
          3450.719155505342,
          3450.719155505342,
          3450.719155505342,
          3450.719155505342,
          3450.719155505342,
          3450.719155505342,
          3450.719155505342,
          3450.719155505342,
          3450.719155505342,
          3450.719155505342,
          3450.719155505342,
          3450.719155505342,
          3488.1805405845394,
          3488.1805405845394,
          3488.1805405845394,
          3488.1805405845394,
          3488.1805405845394,
          3488.1805405845394,
          3488.1805405845394,
          3488.1805405845394,
          3488.1805405845394,
          3488.1805405845394,
          3488.1805405845394,
          3488.1805405845394,
          3488.1805405845394,
          3488.1805405845394,
          3488.1805405845394,
          3488.1805405845394,
          3488.1805405845394,
          3488.1805405845394,
          3525.6419256637378,
          3525.6419256637378,
          3525.6419256637378,
          3525.6419256637378,
          3525.6419256637378,
          3525.6419256637378,
          3525.6419256637378,
          3525.6419256637378,
          3525.6419256637378,
          3525.6419256637378,
          3525.6419256637378,
          3525.6419256637378,
          3525.6419256637378,
          3563.1033107429353,
          3563.1033107429353,
          3563.1033107429353,
          3563.1033107429353,
          3563.1033107429353,
          3563.1033107429353,
          3563.1033107429353,
          3563.1033107429353,
          3563.1033107429353,
          3563.1033107429353,
          3563.1033107429353,
          3563.1033107429353,
          3563.1033107429353,
          3563.1033107429353,
          3563.1033107429353,
          3563.1033107429353,
          3600.5646958221337,
          3600.5646958221337,
          3600.5646958221337,
          3600.5646958221337,
          3600.5646958221337,
          3600.5646958221337,
          3600.5646958221337,
          3638.026080901331,
          3638.026080901331,
          3638.026080901331,
          3638.026080901331,
          3638.026080901331,
          3638.026080901331,
          3638.026080901331,
          3638.026080901331,
          3638.026080901331,
          3638.026080901331,
          3638.026080901331,
          3638.026080901331,
          3675.4874659805296,
          3675.4874659805296,
          3675.4874659805296,
          3675.4874659805296,
          3675.4874659805296,
          3675.4874659805296,
          3675.4874659805296,
          3675.4874659805296,
          3675.4874659805296,
          3675.4874659805296,
          3675.4874659805296,
          3712.948851059727,
          3712.948851059727,
          3712.948851059727,
          3712.948851059727,
          3712.948851059727,
          3712.948851059727,
          3712.948851059727,
          3712.948851059727,
          3750.4102361389255,
          3750.4102361389255,
          3750.4102361389255,
          3750.4102361389255,
          3750.4102361389255,
          3750.4102361389255,
          3750.4102361389255,
          3750.4102361389255,
          3750.4102361389255,
          3750.4102361389255,
          3787.871621218123,
          3787.871621218123,
          3787.871621218123,
          3787.871621218123,
          3787.871621218123,
          3787.871621218123,
          3787.871621218123,
          3787.871621218123,
          3825.3330062973214,
          3825.3330062973214,
          3825.3330062973214,
          3825.3330062973214,
          3825.3330062973214,
          3825.3330062973214,
          3825.3330062973214,
          3825.3330062973214,
          3825.3330062973214,
          3862.794391376519,
          3862.794391376519,
          3862.794391376519,
          3862.794391376519,
          3862.794391376519,
          3900.2557764557164,
          3900.2557764557164,
          3900.2557764557164,
          3900.2557764557164,
          3900.2557764557164,
          3900.2557764557164,
          3900.2557764557164,
          3900.2557764557164,
          3900.2557764557164,
          3900.2557764557164,
          3900.2557764557164,
          3900.2557764557164,
          3900.2557764557164,
          3900.2557764557164,
          3937.717161534915,
          3937.717161534915,
          3937.717161534915,
          3937.717161534915,
          3937.717161534915,
          3937.717161534915,
          3937.717161534915,
          3937.717161534915,
          3937.717161534915,
          3937.717161534915,
          3975.1785466141123,
          3975.1785466141123,
          3975.1785466141123,
          3975.1785466141123,
          3975.1785466141123,
          3975.1785466141123,
          3975.1785466141123,
          4012.6399316933107,
          4012.6399316933107,
          4050.101316772508,
          4050.101316772508,
          4050.101316772508,
          4050.101316772508,
          4050.101316772508,
          4050.101316772508,
          4050.101316772508,
          4050.101316772508,
          4087.5627018517066,
          4087.5627018517066,
          4087.5627018517066,
          4087.5627018517066,
          4087.5627018517066,
          4087.5627018517066,
          4087.5627018517066,
          4125.024086930904,
          4125.024086930904,
          4125.024086930904,
          4125.024086930904,
          4162.485472010103,
          4162.485472010103,
          4162.485472010103,
          4162.485472010103,
          4162.485472010103,
          4199.9468570893005,
          4199.9468570893005,
          4199.9468570893005,
          4199.9468570893005,
          4237.408242168498,
          4237.408242168498,
          4274.8696272476955,
          4274.8696272476955,
          4274.8696272476955,
          4274.8696272476955,
          4274.8696272476955,
          4312.331012326893,
          4312.331012326893,
          4312.331012326893,
          4349.792397406092,
          4349.792397406092,
          4349.792397406092,
          4349.792397406092,
          4349.792397406092,
          4387.25378248529,
          4387.25378248529,
          4387.25378248529,
          4387.25378248529,
          4387.25378248529,
          4387.25378248529,
          4387.25378248529,
          4424.715167564487,
          4424.715167564487,
          4424.715167564487,
          4424.715167564487,
          4424.715167564487,
          4462.176552643685,
          4462.176552643685,
          4462.176552643685,
          4462.176552643685,
          4462.176552643685,
          4462.176552643685,
          4499.637937722884,
          4499.637937722884,
          4499.637937722884,
          4499.637937722884,
          4537.099322802082,
          4537.099322802082,
          4574.560707881279,
          4574.560707881279,
          4612.022092960477,
          4612.022092960477,
          4612.022092960477,
          4612.022092960477,
          4649.483478039676,
          4686.944863118873,
          4686.944863118873,
          4686.944863118873,
          4686.944863118873,
          4686.944863118873,
          4724.406248198071,
          4724.406248198071,
          4724.406248198071,
          4761.867633277268,
          4799.329018356466,
          4799.329018356466,
          4799.329018356466,
          4799.329018356466,
          4874.251788514863,
          4874.251788514863,
          4874.251788514863,
          4911.71317359406,
          4949.174558673258,
          4949.174558673258,
          4986.635943752457,
          4986.635943752457,
          5024.0973288316545,
          5061.558713910852,
          5099.0200989900495,
          5099.0200989900495,
          5099.0200989900495,
          5136.481484069249,
          5173.942869148446,
          5211.404254227644,
          5211.404254227644,
          5248.865639306841,
          5248.865639306841,
          5248.865639306841,
          5248.865639306841,
          5286.327024386039,
          5323.788409465238,
          5398.711179623633,
          5398.711179623633,
          5398.711179623633,
          5511.0953348612275,
          5511.0953348612275,
          5623.47949009882,
          5735.863645336414,
          5735.863645336414,
          5998.0933408908,
          6110.477496128393,
          6110.477496128393,
          6185.40026628679,
          6222.861651365987,
          6260.323036445185,
          6297.784421524384,
          6372.707191682779,
          6485.091346920373,
          6597.475502157966,
          7084.473508187539,
          7159.396278345936,
          9594.3863084938,
          10455.998165315352
         ],
         "yaxis": "y"
        }
       ],
       "layout": {
        "legend": {
         "tracegroupgap": 0
        },
        "margin": {
         "t": 60
        },
        "template": {
         "data": {
          "bar": [
           {
            "error_x": {
             "color": "#2a3f5f"
            },
            "error_y": {
             "color": "#2a3f5f"
            },
            "marker": {
             "line": {
              "color": "#E5ECF6",
              "width": 0.5
             },
             "pattern": {
              "fillmode": "overlay",
              "size": 10,
              "solidity": 0.2
             }
            },
            "type": "bar"
           }
          ],
          "barpolar": [
           {
            "marker": {
             "line": {
              "color": "#E5ECF6",
              "width": 0.5
             },
             "pattern": {
              "fillmode": "overlay",
              "size": 10,
              "solidity": 0.2
             }
            },
            "type": "barpolar"
           }
          ],
          "carpet": [
           {
            "aaxis": {
             "endlinecolor": "#2a3f5f",
             "gridcolor": "white",
             "linecolor": "white",
             "minorgridcolor": "white",
             "startlinecolor": "#2a3f5f"
            },
            "baxis": {
             "endlinecolor": "#2a3f5f",
             "gridcolor": "white",
             "linecolor": "white",
             "minorgridcolor": "white",
             "startlinecolor": "#2a3f5f"
            },
            "type": "carpet"
           }
          ],
          "choropleth": [
           {
            "colorbar": {
             "outlinewidth": 0,
             "ticks": ""
            },
            "type": "choropleth"
           }
          ],
          "contour": [
           {
            "colorbar": {
             "outlinewidth": 0,
             "ticks": ""
            },
            "colorscale": [
             [
              0,
              "#0d0887"
             ],
             [
              0.1111111111111111,
              "#46039f"
             ],
             [
              0.2222222222222222,
              "#7201a8"
             ],
             [
              0.3333333333333333,
              "#9c179e"
             ],
             [
              0.4444444444444444,
              "#bd3786"
             ],
             [
              0.5555555555555556,
              "#d8576b"
             ],
             [
              0.6666666666666666,
              "#ed7953"
             ],
             [
              0.7777777777777778,
              "#fb9f3a"
             ],
             [
              0.8888888888888888,
              "#fdca26"
             ],
             [
              1,
              "#f0f921"
             ]
            ],
            "type": "contour"
           }
          ],
          "contourcarpet": [
           {
            "colorbar": {
             "outlinewidth": 0,
             "ticks": ""
            },
            "type": "contourcarpet"
           }
          ],
          "heatmap": [
           {
            "colorbar": {
             "outlinewidth": 0,
             "ticks": ""
            },
            "colorscale": [
             [
              0,
              "#0d0887"
             ],
             [
              0.1111111111111111,
              "#46039f"
             ],
             [
              0.2222222222222222,
              "#7201a8"
             ],
             [
              0.3333333333333333,
              "#9c179e"
             ],
             [
              0.4444444444444444,
              "#bd3786"
             ],
             [
              0.5555555555555556,
              "#d8576b"
             ],
             [
              0.6666666666666666,
              "#ed7953"
             ],
             [
              0.7777777777777778,
              "#fb9f3a"
             ],
             [
              0.8888888888888888,
              "#fdca26"
             ],
             [
              1,
              "#f0f921"
             ]
            ],
            "type": "heatmap"
           }
          ],
          "heatmapgl": [
           {
            "colorbar": {
             "outlinewidth": 0,
             "ticks": ""
            },
            "colorscale": [
             [
              0,
              "#0d0887"
             ],
             [
              0.1111111111111111,
              "#46039f"
             ],
             [
              0.2222222222222222,
              "#7201a8"
             ],
             [
              0.3333333333333333,
              "#9c179e"
             ],
             [
              0.4444444444444444,
              "#bd3786"
             ],
             [
              0.5555555555555556,
              "#d8576b"
             ],
             [
              0.6666666666666666,
              "#ed7953"
             ],
             [
              0.7777777777777778,
              "#fb9f3a"
             ],
             [
              0.8888888888888888,
              "#fdca26"
             ],
             [
              1,
              "#f0f921"
             ]
            ],
            "type": "heatmapgl"
           }
          ],
          "histogram": [
           {
            "marker": {
             "pattern": {
              "fillmode": "overlay",
              "size": 10,
              "solidity": 0.2
             }
            },
            "type": "histogram"
           }
          ],
          "histogram2d": [
           {
            "colorbar": {
             "outlinewidth": 0,
             "ticks": ""
            },
            "colorscale": [
             [
              0,
              "#0d0887"
             ],
             [
              0.1111111111111111,
              "#46039f"
             ],
             [
              0.2222222222222222,
              "#7201a8"
             ],
             [
              0.3333333333333333,
              "#9c179e"
             ],
             [
              0.4444444444444444,
              "#bd3786"
             ],
             [
              0.5555555555555556,
              "#d8576b"
             ],
             [
              0.6666666666666666,
              "#ed7953"
             ],
             [
              0.7777777777777778,
              "#fb9f3a"
             ],
             [
              0.8888888888888888,
              "#fdca26"
             ],
             [
              1,
              "#f0f921"
             ]
            ],
            "type": "histogram2d"
           }
          ],
          "histogram2dcontour": [
           {
            "colorbar": {
             "outlinewidth": 0,
             "ticks": ""
            },
            "colorscale": [
             [
              0,
              "#0d0887"
             ],
             [
              0.1111111111111111,
              "#46039f"
             ],
             [
              0.2222222222222222,
              "#7201a8"
             ],
             [
              0.3333333333333333,
              "#9c179e"
             ],
             [
              0.4444444444444444,
              "#bd3786"
             ],
             [
              0.5555555555555556,
              "#d8576b"
             ],
             [
              0.6666666666666666,
              "#ed7953"
             ],
             [
              0.7777777777777778,
              "#fb9f3a"
             ],
             [
              0.8888888888888888,
              "#fdca26"
             ],
             [
              1,
              "#f0f921"
             ]
            ],
            "type": "histogram2dcontour"
           }
          ],
          "mesh3d": [
           {
            "colorbar": {
             "outlinewidth": 0,
             "ticks": ""
            },
            "type": "mesh3d"
           }
          ],
          "parcoords": [
           {
            "line": {
             "colorbar": {
              "outlinewidth": 0,
              "ticks": ""
             }
            },
            "type": "parcoords"
           }
          ],
          "pie": [
           {
            "automargin": true,
            "type": "pie"
           }
          ],
          "scatter": [
           {
            "fillpattern": {
             "fillmode": "overlay",
             "size": 10,
             "solidity": 0.2
            },
            "type": "scatter"
           }
          ],
          "scatter3d": [
           {
            "line": {
             "colorbar": {
              "outlinewidth": 0,
              "ticks": ""
             }
            },
            "marker": {
             "colorbar": {
              "outlinewidth": 0,
              "ticks": ""
             }
            },
            "type": "scatter3d"
           }
          ],
          "scattercarpet": [
           {
            "marker": {
             "colorbar": {
              "outlinewidth": 0,
              "ticks": ""
             }
            },
            "type": "scattercarpet"
           }
          ],
          "scattergeo": [
           {
            "marker": {
             "colorbar": {
              "outlinewidth": 0,
              "ticks": ""
             }
            },
            "type": "scattergeo"
           }
          ],
          "scattergl": [
           {
            "marker": {
             "colorbar": {
              "outlinewidth": 0,
              "ticks": ""
             }
            },
            "type": "scattergl"
           }
          ],
          "scattermapbox": [
           {
            "marker": {
             "colorbar": {
              "outlinewidth": 0,
              "ticks": ""
             }
            },
            "type": "scattermapbox"
           }
          ],
          "scatterpolar": [
           {
            "marker": {
             "colorbar": {
              "outlinewidth": 0,
              "ticks": ""
             }
            },
            "type": "scatterpolar"
           }
          ],
          "scatterpolargl": [
           {
            "marker": {
             "colorbar": {
              "outlinewidth": 0,
              "ticks": ""
             }
            },
            "type": "scatterpolargl"
           }
          ],
          "scatterternary": [
           {
            "marker": {
             "colorbar": {
              "outlinewidth": 0,
              "ticks": ""
             }
            },
            "type": "scatterternary"
           }
          ],
          "surface": [
           {
            "colorbar": {
             "outlinewidth": 0,
             "ticks": ""
            },
            "colorscale": [
             [
              0,
              "#0d0887"
             ],
             [
              0.1111111111111111,
              "#46039f"
             ],
             [
              0.2222222222222222,
              "#7201a8"
             ],
             [
              0.3333333333333333,
              "#9c179e"
             ],
             [
              0.4444444444444444,
              "#bd3786"
             ],
             [
              0.5555555555555556,
              "#d8576b"
             ],
             [
              0.6666666666666666,
              "#ed7953"
             ],
             [
              0.7777777777777778,
              "#fb9f3a"
             ],
             [
              0.8888888888888888,
              "#fdca26"
             ],
             [
              1,
              "#f0f921"
             ]
            ],
            "type": "surface"
           }
          ],
          "table": [
           {
            "cells": {
             "fill": {
              "color": "#EBF0F8"
             },
             "line": {
              "color": "white"
             }
            },
            "header": {
             "fill": {
              "color": "#C8D4E3"
             },
             "line": {
              "color": "white"
             }
            },
            "type": "table"
           }
          ]
         },
         "layout": {
          "annotationdefaults": {
           "arrowcolor": "#2a3f5f",
           "arrowhead": 0,
           "arrowwidth": 1
          },
          "autotypenumbers": "strict",
          "coloraxis": {
           "colorbar": {
            "outlinewidth": 0,
            "ticks": ""
           }
          },
          "colorscale": {
           "diverging": [
            [
             0,
             "#8e0152"
            ],
            [
             0.1,
             "#c51b7d"
            ],
            [
             0.2,
             "#de77ae"
            ],
            [
             0.3,
             "#f1b6da"
            ],
            [
             0.4,
             "#fde0ef"
            ],
            [
             0.5,
             "#f7f7f7"
            ],
            [
             0.6,
             "#e6f5d0"
            ],
            [
             0.7,
             "#b8e186"
            ],
            [
             0.8,
             "#7fbc41"
            ],
            [
             0.9,
             "#4d9221"
            ],
            [
             1,
             "#276419"
            ]
           ],
           "sequential": [
            [
             0,
             "#0d0887"
            ],
            [
             0.1111111111111111,
             "#46039f"
            ],
            [
             0.2222222222222222,
             "#7201a8"
            ],
            [
             0.3333333333333333,
             "#9c179e"
            ],
            [
             0.4444444444444444,
             "#bd3786"
            ],
            [
             0.5555555555555556,
             "#d8576b"
            ],
            [
             0.6666666666666666,
             "#ed7953"
            ],
            [
             0.7777777777777778,
             "#fb9f3a"
            ],
            [
             0.8888888888888888,
             "#fdca26"
            ],
            [
             1,
             "#f0f921"
            ]
           ],
           "sequentialminus": [
            [
             0,
             "#0d0887"
            ],
            [
             0.1111111111111111,
             "#46039f"
            ],
            [
             0.2222222222222222,
             "#7201a8"
            ],
            [
             0.3333333333333333,
             "#9c179e"
            ],
            [
             0.4444444444444444,
             "#bd3786"
            ],
            [
             0.5555555555555556,
             "#d8576b"
            ],
            [
             0.6666666666666666,
             "#ed7953"
            ],
            [
             0.7777777777777778,
             "#fb9f3a"
            ],
            [
             0.8888888888888888,
             "#fdca26"
            ],
            [
             1,
             "#f0f921"
            ]
           ]
          },
          "colorway": [
           "#636efa",
           "#EF553B",
           "#00cc96",
           "#ab63fa",
           "#FFA15A",
           "#19d3f3",
           "#FF6692",
           "#B6E880",
           "#FF97FF",
           "#FECB52"
          ],
          "font": {
           "color": "#2a3f5f"
          },
          "geo": {
           "bgcolor": "white",
           "lakecolor": "white",
           "landcolor": "#E5ECF6",
           "showlakes": true,
           "showland": true,
           "subunitcolor": "white"
          },
          "hoverlabel": {
           "align": "left"
          },
          "hovermode": "closest",
          "mapbox": {
           "style": "light"
          },
          "paper_bgcolor": "white",
          "plot_bgcolor": "#E5ECF6",
          "polar": {
           "angularaxis": {
            "gridcolor": "white",
            "linecolor": "white",
            "ticks": ""
           },
           "bgcolor": "#E5ECF6",
           "radialaxis": {
            "gridcolor": "white",
            "linecolor": "white",
            "ticks": ""
           }
          },
          "scene": {
           "xaxis": {
            "backgroundcolor": "#E5ECF6",
            "gridcolor": "white",
            "gridwidth": 2,
            "linecolor": "white",
            "showbackground": true,
            "ticks": "",
            "zerolinecolor": "white"
           },
           "yaxis": {
            "backgroundcolor": "#E5ECF6",
            "gridcolor": "white",
            "gridwidth": 2,
            "linecolor": "white",
            "showbackground": true,
            "ticks": "",
            "zerolinecolor": "white"
           },
           "zaxis": {
            "backgroundcolor": "#E5ECF6",
            "gridcolor": "white",
            "gridwidth": 2,
            "linecolor": "white",
            "showbackground": true,
            "ticks": "",
            "zerolinecolor": "white"
           }
          },
          "shapedefaults": {
           "line": {
            "color": "#2a3f5f"
           }
          },
          "ternary": {
           "aaxis": {
            "gridcolor": "white",
            "linecolor": "white",
            "ticks": ""
           },
           "baxis": {
            "gridcolor": "white",
            "linecolor": "white",
            "ticks": ""
           },
           "bgcolor": "#E5ECF6",
           "caxis": {
            "gridcolor": "white",
            "linecolor": "white",
            "ticks": ""
           }
          },
          "title": {
           "x": 0.05
          },
          "xaxis": {
           "automargin": true,
           "gridcolor": "white",
           "linecolor": "white",
           "ticks": "",
           "title": {
            "standoff": 15
           },
           "zerolinecolor": "white",
           "zerolinewidth": 2
          },
          "yaxis": {
           "automargin": true,
           "gridcolor": "white",
           "linecolor": "white",
           "ticks": "",
           "title": {
            "standoff": 15
           },
           "zerolinecolor": "white",
           "zerolinewidth": 2
          }
         }
        },
        "xaxis": {
         "anchor": "y",
         "domain": [
          0,
          1
         ],
         "title": {
          "text": "upvotes"
         }
        },
        "yaxis": {
         "anchor": "x",
         "domain": [
          0,
          1
         ],
         "title": {
          "text": "comments"
         }
        }
       }
      }
     },
     "metadata": {},
     "output_type": "display_data"
    },
    {
     "name": "stdout",
     "output_type": "stream",
     "text": [
      "Correlation between upvotes and comments: 0.22705216479933496\n"
     ]
    }
   ],
   "source": [
    "# Read the CSV file and create a DataFrame\n",
    "df = pd.read_csv('top_year_subreddit.csv')\n",
    "\n",
    "# Function to convert 'upvotes' to numeric values\n",
    "def convert_upvotes(upvotes_str):\n",
    "    if isinstance(upvotes_str, str) and 'k' in upvotes_str:\n",
    "        return float(upvotes_str.replace('k', '')) * 1000\n",
    "    else:\n",
    "        return float(upvotes_str)\n",
    "\n",
    "# Apply the function to the 'upvotes' column\n",
    "df['upvotes'] = df['upvotes'].apply(convert_upvotes)\n",
    "\n",
    "\n",
    "# Clean the 'comments' column and extract numeric values\n",
    "df['comments'] = df['comments'].str.extract('(\\d+)').astype(int)\n",
    "\n",
    "# Calculate the correlation between upvotes and comments\n",
    "corr_upvotes_comments = df['upvotes'].corr(df['comments'])\n",
    "\n",
    "# Create a scatter plot of upvotes vs comments with a trendline\n",
    "fig = px.scatter(df, x='upvotes', y='comments', trendline='ols', labels={'x': 'Number of Upvotes', 'y': 'Number of Comments'})\n",
    "fig.show()\n",
    "\n",
    "print('Correlation between upvotes and comments:', corr_upvotes_comments)\n"
   ]
  }
 ],
 "metadata": {
  "kernelspec": {
   "display_name": "venv",
   "language": "python",
   "name": "python3"
  },
  "language_info": {
   "codemirror_mode": {
    "name": "ipython",
    "version": 3
   },
   "file_extension": ".py",
   "mimetype": "text/x-python",
   "name": "python",
   "nbconvert_exporter": "python",
   "pygments_lexer": "ipython3",
   "version": "3.11.6"
  }
 },
 "nbformat": 4,
 "nbformat_minor": 2
}
